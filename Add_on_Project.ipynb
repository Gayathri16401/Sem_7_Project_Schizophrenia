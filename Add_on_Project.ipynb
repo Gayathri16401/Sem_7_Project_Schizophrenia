{
  "nbformat": 4,
  "nbformat_minor": 0,
  "metadata": {
    "colab": {
      "name": "Add-on Project.ipynb",
      "provenance": [],
      "authorship_tag": "ABX9TyNTutG945p2d+sVeKwuRwGm",
      "include_colab_link": true
    },
    "kernelspec": {
      "name": "python3",
      "display_name": "Python 3"
    },
    "language_info": {
      "name": "python"
    }
  },
  "cells": [
    {
      "cell_type": "markdown",
      "metadata": {
        "id": "view-in-github",
        "colab_type": "text"
      },
      "source": [
        "<a href=\"https://colab.research.google.com/github/Gayathri16401/Sem_7_Project_Schizophrenia/blob/main/Add_on_Project.ipynb\" target=\"_parent\"><img src=\"https://colab.research.google.com/assets/colab-badge.svg\" alt=\"Open In Colab\"/></a>"
      ]
    },
    {
      "cell_type": "code",
      "source": [
        "!pip install nilearn"
      ],
      "metadata": {
        "colab": {
          "base_uri": "https://localhost:8080/"
        },
        "id": "dpwSVnSD4D3B",
        "outputId": "27ee3050-09a6-4fc5-e8a4-637bca29283d"
      },
      "execution_count": 2,
      "outputs": [
        {
          "output_type": "stream",
          "name": "stdout",
          "text": [
            "Collecting nilearn\n",
            "  Downloading nilearn-0.8.1-py3-none-any.whl (10.0 MB)\n",
            "\u001b[K     |████████████████████████████████| 10.0 MB 33.7 MB/s \n",
            "\u001b[?25hRequirement already satisfied: numpy>=1.16 in /usr/local/lib/python3.7/dist-packages (from nilearn) (1.19.5)\n",
            "Requirement already satisfied: joblib>=0.12 in /usr/local/lib/python3.7/dist-packages (from nilearn) (1.1.0)\n",
            "Requirement already satisfied: scipy>=1.2 in /usr/local/lib/python3.7/dist-packages (from nilearn) (1.4.1)\n",
            "Requirement already satisfied: scikit-learn>=0.21 in /usr/local/lib/python3.7/dist-packages (from nilearn) (1.0.1)\n",
            "Requirement already satisfied: pandas>=0.24.0 in /usr/local/lib/python3.7/dist-packages (from nilearn) (1.1.5)\n",
            "Requirement already satisfied: requests>=2 in /usr/local/lib/python3.7/dist-packages (from nilearn) (2.23.0)\n",
            "Requirement already satisfied: nibabel>=2.5 in /usr/local/lib/python3.7/dist-packages (from nilearn) (3.0.2)\n",
            "Requirement already satisfied: pytz>=2017.2 in /usr/local/lib/python3.7/dist-packages (from pandas>=0.24.0->nilearn) (2018.9)\n",
            "Requirement already satisfied: python-dateutil>=2.7.3 in /usr/local/lib/python3.7/dist-packages (from pandas>=0.24.0->nilearn) (2.8.2)\n",
            "Requirement already satisfied: six>=1.5 in /usr/local/lib/python3.7/dist-packages (from python-dateutil>=2.7.3->pandas>=0.24.0->nilearn) (1.15.0)\n",
            "Requirement already satisfied: idna<3,>=2.5 in /usr/local/lib/python3.7/dist-packages (from requests>=2->nilearn) (2.10)\n",
            "Requirement already satisfied: certifi>=2017.4.17 in /usr/local/lib/python3.7/dist-packages (from requests>=2->nilearn) (2021.10.8)\n",
            "Requirement already satisfied: urllib3!=1.25.0,!=1.25.1,<1.26,>=1.21.1 in /usr/local/lib/python3.7/dist-packages (from requests>=2->nilearn) (1.24.3)\n",
            "Requirement already satisfied: chardet<4,>=3.0.2 in /usr/local/lib/python3.7/dist-packages (from requests>=2->nilearn) (3.0.4)\n",
            "Requirement already satisfied: threadpoolctl>=2.0.0 in /usr/local/lib/python3.7/dist-packages (from scikit-learn>=0.21->nilearn) (3.0.0)\n",
            "Installing collected packages: nilearn\n",
            "Successfully installed nilearn-0.8.1\n"
          ]
        }
      ]
    },
    {
      "cell_type": "code",
      "execution_count": 3,
      "metadata": {
        "colab": {
          "base_uri": "https://localhost:8080/"
        },
        "id": "SUOakSw03v40",
        "outputId": "f4250f2e-5410-40aa-b463-589cfb516ce9"
      },
      "outputs": [
        {
          "output_type": "stream",
          "name": "stderr",
          "text": [
            "/usr/local/lib/python3.7/dist-packages/nilearn/datasets/__init__.py:96: FutureWarning: Fetchers from the nilearn.datasets module will be updated in version 0.9 to return python strings instead of bytes and Pandas dataframes instead of Numpy arrays.\n",
            "  \"Numpy arrays.\", FutureWarning)\n",
            "/usr/local/lib/python3.7/dist-packages/sklearn/utils/deprecation.py:87: FutureWarning: Function fetch_cobre is deprecated; 'fetch_cobre' has been deprecated and will be removed in release 0.9 . Please consider using a different datasets or downloading it with a different tool than nilearn.\n",
            "  warnings.warn(msg, category=FutureWarning)\n"
          ]
        },
        {
          "output_type": "stream",
          "name": "stdout",
          "text": [
            "\n",
            "Dataset created in /root/nilearn_data/cobre\n",
            "\n",
            "Downloading data from https://api.figshare.com/v2/articles/4197885 ...\n"
          ]
        },
        {
          "output_type": "stream",
          "name": "stderr",
          "text": [
            " ...done. (1 seconds, 0 min)\n"
          ]
        },
        {
          "output_type": "stream",
          "name": "stdout",
          "text": [
            "Downloading data from https://ndownloader.figshare.com/files/6849063 ...\n"
          ]
        },
        {
          "output_type": "stream",
          "name": "stderr",
          "text": [
            " ...done. (1 seconds, 0 min)\n",
            "Extracting data from /root/nilearn_data/cobre/bbfb27073f7305ba75f231550ad51673/phenotypic_data.tsv.gz..... done.\n",
            "/usr/local/lib/python3.7/dist-packages/numpy/lib/npyio.py:2349: VisibleDeprecationWarning: Reading unicode strings without specifying the encoding argument is deprecated. Set the encoding, use None for the system default.\n",
            "  output = genfromtxt(fname, **kwargs)\n"
          ]
        },
        {
          "output_type": "stream",
          "name": "stdout",
          "text": [
            "Downloading data from https://ndownloader.figshare.com/files/6848454 ...\n"
          ]
        },
        {
          "output_type": "stream",
          "name": "stderr",
          "text": [
            " ...done. (2 seconds, 0 min)\n"
          ]
        },
        {
          "output_type": "stream",
          "name": "stdout",
          "text": [
            "Downloading data from https://ndownloader.figshare.com/files/6848457 ...\n"
          ]
        },
        {
          "output_type": "stream",
          "name": "stderr",
          "text": [
            " ...done. (0 seconds, 0 min)\n",
            "Extracting data from /root/nilearn_data/cobre/0cd5e97478f9a8e664a01eb1c6ba17e1/fmri_0040046.tsv.gz..... done.\n"
          ]
        },
        {
          "output_type": "stream",
          "name": "stdout",
          "text": [
            "Downloading data from https://ndownloader.figshare.com/files/6848190 ...\n"
          ]
        },
        {
          "output_type": "stream",
          "name": "stderr",
          "text": [
            " ...done. (2 seconds, 0 min)\n"
          ]
        },
        {
          "output_type": "stream",
          "name": "stdout",
          "text": [
            "Downloading data from https://ndownloader.figshare.com/files/6848193 ...\n"
          ]
        },
        {
          "output_type": "stream",
          "name": "stderr",
          "text": [
            " ...done. (0 seconds, 0 min)\n",
            "Extracting data from /root/nilearn_data/cobre/0822cabbe39213c28b7a33bea04f0ae9/fmri_0040002.tsv.gz..... done.\n"
          ]
        },
        {
          "output_type": "stream",
          "name": "stdout",
          "text": [
            "Downloading data from https://ndownloader.figshare.com/files/6848868 ...\n"
          ]
        },
        {
          "output_type": "stream",
          "name": "stderr",
          "text": [
            " ...done. (2 seconds, 0 min)\n"
          ]
        },
        {
          "output_type": "stream",
          "name": "stdout",
          "text": [
            "Downloading data from https://ndownloader.figshare.com/files/6848871 ...\n"
          ]
        },
        {
          "output_type": "stream",
          "name": "stderr",
          "text": [
            " ...done. (0 seconds, 0 min)\n",
            "Extracting data from /root/nilearn_data/cobre/3ea49b064cdc65d4ac19c58b94369d5a/fmri_0040117.tsv.gz..... done.\n"
          ]
        },
        {
          "output_type": "stream",
          "name": "stdout",
          "text": [
            "Downloading data from https://ndownloader.figshare.com/files/6849036 ...\n"
          ]
        },
        {
          "output_type": "stream",
          "name": "stderr",
          "text": [
            " ...done. (2 seconds, 0 min)\n"
          ]
        },
        {
          "output_type": "stream",
          "name": "stdout",
          "text": [
            "Downloading data from https://ndownloader.figshare.com/files/6849039 ...\n"
          ]
        },
        {
          "output_type": "stream",
          "name": "stderr",
          "text": [
            " ...done. (0 seconds, 0 min)\n",
            "Extracting data from /root/nilearn_data/cobre/4abc23195f714fbb210d677f34285d5d/fmri_0040145.tsv.gz..... done.\n"
          ]
        },
        {
          "output_type": "stream",
          "name": "stdout",
          "text": [
            "Downloading data from https://ndownloader.figshare.com/files/6848178 ...\n"
          ]
        },
        {
          "output_type": "stream",
          "name": "stderr",
          "text": [
            " ...done. (2 seconds, 0 min)\n"
          ]
        },
        {
          "output_type": "stream",
          "name": "stdout",
          "text": [
            "Downloading data from https://ndownloader.figshare.com/files/6848181 ...\n"
          ]
        },
        {
          "output_type": "stream",
          "name": "stderr",
          "text": [
            " ...done. (0 seconds, 0 min)\n",
            "Extracting data from /root/nilearn_data/cobre/a7b5152347d1e56591484acae177b77d/fmri_0040000.tsv.gz..... done.\n"
          ]
        },
        {
          "output_type": "stream",
          "name": "stdout",
          "text": [
            "Downloading data from https://ndownloader.figshare.com/files/6848352 ...\n"
          ]
        },
        {
          "output_type": "stream",
          "name": "stderr",
          "text": [
            " ...done. (1 seconds, 0 min)\n"
          ]
        },
        {
          "output_type": "stream",
          "name": "stdout",
          "text": [
            "Downloading data from https://ndownloader.figshare.com/files/6848355 ...\n"
          ]
        },
        {
          "output_type": "stream",
          "name": "stderr",
          "text": [
            " ...done. (0 seconds, 0 min)\n",
            "Extracting data from /root/nilearn_data/cobre/f1549b465246de612b4ab314805d9a4e/fmri_0040029.tsv.gz..... done.\n"
          ]
        },
        {
          "output_type": "stream",
          "name": "stdout",
          "text": [
            "Downloading data from https://ndownloader.figshare.com/files/6848964 ...\n"
          ]
        },
        {
          "output_type": "stream",
          "name": "stderr",
          "text": [
            " ...done. (2 seconds, 0 min)\n"
          ]
        },
        {
          "output_type": "stream",
          "name": "stdout",
          "text": [
            "Downloading data from https://ndownloader.figshare.com/files/6848967 ...\n"
          ]
        },
        {
          "output_type": "stream",
          "name": "stderr",
          "text": [
            " ...done. (0 seconds, 0 min)\n",
            "Extracting data from /root/nilearn_data/cobre/c40fbbae26164964a850266b5eab9c1b/fmri_0040133.tsv.gz..... done.\n"
          ]
        },
        {
          "output_type": "stream",
          "name": "stdout",
          "text": [
            "Downloading data from https://ndownloader.figshare.com/files/6848304 ...\n"
          ]
        },
        {
          "output_type": "stream",
          "name": "stderr",
          "text": [
            " ...done. (2 seconds, 0 min)\n"
          ]
        },
        {
          "output_type": "stream",
          "name": "stdout",
          "text": [
            "Downloading data from https://ndownloader.figshare.com/files/6848307 ...\n"
          ]
        },
        {
          "output_type": "stream",
          "name": "stderr",
          "text": [
            " ...done. (0 seconds, 0 min)\n",
            "Extracting data from /root/nilearn_data/cobre/a93fad3aad3897219b9761fd2b3673c2/fmri_0040021.tsv.gz..... done.\n"
          ]
        },
        {
          "output_type": "stream",
          "name": "stdout",
          "text": [
            "Downloading data from https://ndownloader.figshare.com/files/6848988 ...\n"
          ]
        },
        {
          "output_type": "stream",
          "name": "stderr",
          "text": [
            " ...done. (2 seconds, 0 min)\n"
          ]
        },
        {
          "output_type": "stream",
          "name": "stdout",
          "text": [
            "Downloading data from https://ndownloader.figshare.com/files/6848991 ...\n"
          ]
        },
        {
          "output_type": "stream",
          "name": "stderr",
          "text": [
            " ...done. (0 seconds, 0 min)\n",
            "Extracting data from /root/nilearn_data/cobre/074e1a811ce944695346377d70f9971a/fmri_0040137.tsv.gz..... done.\n"
          ]
        },
        {
          "output_type": "stream",
          "name": "stdout",
          "text": [
            "Downloading data from https://ndownloader.figshare.com/files/6848676 ...\n"
          ]
        },
        {
          "output_type": "stream",
          "name": "stderr",
          "text": [
            " ...done. (2 seconds, 0 min)\n"
          ]
        },
        {
          "output_type": "stream",
          "name": "stdout",
          "text": [
            "Downloading data from https://ndownloader.figshare.com/files/6848679 ...\n"
          ]
        },
        {
          "output_type": "stream",
          "name": "stderr",
          "text": [
            " ...done. (0 seconds, 0 min)\n",
            "Extracting data from /root/nilearn_data/cobre/9294cb1e05427bb3045d3975619b0890/fmri_0040085.tsv.gz..... done.\n"
          ]
        },
        {
          "output_type": "stream",
          "name": "stdout",
          "text": [
            "Downloading data from https://ndownloader.figshare.com/files/6848742 ...\n"
          ]
        },
        {
          "output_type": "stream",
          "name": "stderr",
          "text": [
            " ...done. (2 seconds, 0 min)\n"
          ]
        },
        {
          "output_type": "stream",
          "name": "stdout",
          "text": [
            "Downloading data from https://ndownloader.figshare.com/files/6848745 ...\n"
          ]
        },
        {
          "output_type": "stream",
          "name": "stderr",
          "text": [
            " ...done. (0 seconds, 0 min)\n",
            "Extracting data from /root/nilearn_data/cobre/fe30ad948ff3c61ea5a8219012168901/fmri_0040096.tsv.gz..... done.\n"
          ]
        },
        {
          "output_type": "stream",
          "name": "stdout",
          "text": [
            "Downloading data from https://ndownloader.figshare.com/files/6848898 ...\n"
          ]
        },
        {
          "output_type": "stream",
          "name": "stderr",
          "text": [
            " ...done. (2 seconds, 0 min)\n"
          ]
        },
        {
          "output_type": "stream",
          "name": "stdout",
          "text": [
            "Downloading data from https://ndownloader.figshare.com/files/6848901 ...\n"
          ]
        },
        {
          "output_type": "stream",
          "name": "stderr",
          "text": [
            " ...done. (0 seconds, 0 min)\n",
            "Extracting data from /root/nilearn_data/cobre/3c999b44ec4999b7d2da82ecd0e749ec/fmri_0040122.tsv.gz..... done.\n"
          ]
        },
        {
          "output_type": "stream",
          "name": "stdout",
          "text": [
            "Downloading data from https://ndownloader.figshare.com/files/6848310 ...\n"
          ]
        },
        {
          "output_type": "stream",
          "name": "stderr",
          "text": [
            " ...done. (2 seconds, 0 min)\n"
          ]
        },
        {
          "output_type": "stream",
          "name": "stdout",
          "text": [
            "Downloading data from https://ndownloader.figshare.com/files/6848313 ...\n"
          ]
        },
        {
          "output_type": "stream",
          "name": "stderr",
          "text": [
            " ...done. (0 seconds, 0 min)\n",
            "Extracting data from /root/nilearn_data/cobre/456d859c3569e8f5962b80e096330062/fmri_0040022.tsv.gz..... done.\n"
          ]
        },
        {
          "output_type": "stream",
          "name": "stdout",
          "text": [
            "Downloading data from https://ndownloader.figshare.com/files/6848610 ...\n"
          ]
        },
        {
          "output_type": "stream",
          "name": "stderr",
          "text": [
            " ...done. (2 seconds, 0 min)\n"
          ]
        },
        {
          "output_type": "stream",
          "name": "stdout",
          "text": [
            "Downloading data from https://ndownloader.figshare.com/files/6848613 ...\n"
          ]
        },
        {
          "output_type": "stream",
          "name": "stderr",
          "text": [
            " ...done. (0 seconds, 0 min)\n",
            "Extracting data from /root/nilearn_data/cobre/2ea61e582fc3521ee2bbc6746f6184f8/fmri_0040073.tsv.gz..... done.\n"
          ]
        },
        {
          "output_type": "stream",
          "name": "stdout",
          "text": [
            "Downloading data from https://ndownloader.figshare.com/files/6849018 ...\n"
          ]
        },
        {
          "output_type": "stream",
          "name": "stderr",
          "text": [
            " ...done. (2 seconds, 0 min)\n"
          ]
        },
        {
          "output_type": "stream",
          "name": "stdout",
          "text": [
            "Downloading data from https://ndownloader.figshare.com/files/6849021 ...\n"
          ]
        },
        {
          "output_type": "stream",
          "name": "stderr",
          "text": [
            " ...done. (1 seconds, 0 min)\n",
            "Extracting data from /root/nilearn_data/cobre/c6d5bd48a8b3c543c02e280f636e1c63/fmri_0040142.tsv.gz..... done.\n"
          ]
        },
        {
          "output_type": "stream",
          "name": "stdout",
          "text": [
            "Downloading data from https://ndownloader.figshare.com/files/6848400 ...\n"
          ]
        },
        {
          "output_type": "stream",
          "name": "stderr",
          "text": [
            " ...done. (2 seconds, 0 min)\n"
          ]
        },
        {
          "output_type": "stream",
          "name": "stdout",
          "text": [
            "Downloading data from https://ndownloader.figshare.com/files/6848403 ...\n"
          ]
        },
        {
          "output_type": "stream",
          "name": "stderr",
          "text": [
            " ...done. (0 seconds, 0 min)\n",
            "Extracting data from /root/nilearn_data/cobre/4c545e7d237bd26e3e4940de09ac74ce/fmri_0040037.tsv.gz..... done.\n"
          ]
        },
        {
          "output_type": "stream",
          "name": "stdout",
          "text": [
            "Downloading data from https://ndownloader.figshare.com/files/6848532 ...\n"
          ]
        },
        {
          "output_type": "stream",
          "name": "stderr",
          "text": [
            " ...done. (2 seconds, 0 min)\n"
          ]
        },
        {
          "output_type": "stream",
          "name": "stdout",
          "text": [
            "Downloading data from https://ndownloader.figshare.com/files/6848535 ...\n"
          ]
        },
        {
          "output_type": "stream",
          "name": "stderr",
          "text": [
            " ...done. (0 seconds, 0 min)\n",
            "Extracting data from /root/nilearn_data/cobre/cb2042a760d08af2da4895bec94ba766/fmri_0040059.tsv.gz..... done.\n"
          ]
        },
        {
          "output_type": "stream",
          "name": "stdout",
          "text": [
            "Downloading data from https://ndownloader.figshare.com/files/6848604 ...\n"
          ]
        },
        {
          "output_type": "stream",
          "name": "stderr",
          "text": [
            " ...done. (2 seconds, 0 min)\n"
          ]
        },
        {
          "output_type": "stream",
          "name": "stdout",
          "text": [
            "Downloading data from https://ndownloader.figshare.com/files/6848607 ...\n"
          ]
        },
        {
          "output_type": "stream",
          "name": "stderr",
          "text": [
            " ...done. (0 seconds, 0 min)\n",
            "Extracting data from /root/nilearn_data/cobre/8a252244ede345c00c07c732ccb7090d/fmri_0040072.tsv.gz..... done.\n"
          ]
        },
        {
          "output_type": "stream",
          "name": "stdout",
          "text": [
            "Downloading data from https://ndownloader.figshare.com/files/6848646 ...\n"
          ]
        },
        {
          "output_type": "stream",
          "name": "stderr",
          "text": [
            " ...done. (1 seconds, 0 min)\n"
          ]
        },
        {
          "output_type": "stream",
          "name": "stdout",
          "text": [
            "Downloading data from https://ndownloader.figshare.com/files/6848649 ...\n"
          ]
        },
        {
          "output_type": "stream",
          "name": "stderr",
          "text": [
            " ...done. (0 seconds, 0 min)\n",
            "Extracting data from /root/nilearn_data/cobre/3ca9612264cca5658926bc6823fec3f3/fmri_0040079.tsv.gz..... done.\n"
          ]
        },
        {
          "output_type": "stream",
          "name": "stdout",
          "text": [
            "Downloading data from https://ndownloader.figshare.com/files/6848652 ...\n"
          ]
        },
        {
          "output_type": "stream",
          "name": "stderr",
          "text": [
            " ...done. (2 seconds, 0 min)\n"
          ]
        },
        {
          "output_type": "stream",
          "name": "stdout",
          "text": [
            "Downloading data from https://ndownloader.figshare.com/files/6848655 ...\n"
          ]
        },
        {
          "output_type": "stream",
          "name": "stderr",
          "text": [
            " ...done. (0 seconds, 0 min)\n",
            "Extracting data from /root/nilearn_data/cobre/548b44ab0d8c4b98d75f6b6042327070/fmri_0040080.tsv.gz..... done.\n"
          ]
        },
        {
          "output_type": "stream",
          "name": "stdout",
          "text": [
            "Downloading data from https://ndownloader.figshare.com/files/6848184 ...\n"
          ]
        },
        {
          "output_type": "stream",
          "name": "stderr",
          "text": [
            " ...done. (2 seconds, 0 min)\n"
          ]
        },
        {
          "output_type": "stream",
          "name": "stdout",
          "text": [
            "Downloading data from https://ndownloader.figshare.com/files/6848187 ...\n"
          ]
        },
        {
          "output_type": "stream",
          "name": "stderr",
          "text": [
            " ...done. (0 seconds, 0 min)\n",
            "Extracting data from /root/nilearn_data/cobre/3b4fb092665591f76d7322a7dcbad5a9/fmri_0040001.tsv.gz..... done.\n"
          ]
        },
        {
          "output_type": "stream",
          "name": "stdout",
          "text": [
            "Downloading data from https://ndownloader.figshare.com/files/6848196 ...\n"
          ]
        },
        {
          "output_type": "stream",
          "name": "stderr",
          "text": [
            " ...done. (2 seconds, 0 min)\n"
          ]
        },
        {
          "output_type": "stream",
          "name": "stdout",
          "text": [
            "Downloading data from https://ndownloader.figshare.com/files/6848199 ...\n"
          ]
        },
        {
          "output_type": "stream",
          "name": "stderr",
          "text": [
            " ...done. (0 seconds, 0 min)\n",
            "Extracting data from /root/nilearn_data/cobre/9e8009b8fae67a0090292af91199ccb6/fmri_0040003.tsv.gz..... done.\n"
          ]
        },
        {
          "output_type": "stream",
          "name": "stdout",
          "text": [
            "Downloading data from https://ndownloader.figshare.com/files/6848226 ...\n"
          ]
        },
        {
          "output_type": "stream",
          "name": "stderr",
          "text": [
            " ...done. (2 seconds, 0 min)\n"
          ]
        },
        {
          "output_type": "stream",
          "name": "stdout",
          "text": [
            "Downloading data from https://ndownloader.figshare.com/files/6848229 ...\n"
          ]
        },
        {
          "output_type": "stream",
          "name": "stderr",
          "text": [
            " ...done. (0 seconds, 0 min)\n",
            "Extracting data from /root/nilearn_data/cobre/e8b526b0c72ce2b076e1951a99637ce1/fmri_0040008.tsv.gz..... done.\n"
          ]
        },
        {
          "output_type": "stream",
          "name": "stdout",
          "text": [
            "Downloading data from https://ndownloader.figshare.com/files/6848244 ...\n"
          ]
        },
        {
          "output_type": "stream",
          "name": "stderr",
          "text": [
            " ...done. (2 seconds, 0 min)\n"
          ]
        },
        {
          "output_type": "stream",
          "name": "stdout",
          "text": [
            "Downloading data from https://ndownloader.figshare.com/files/6848247 ...\n"
          ]
        },
        {
          "output_type": "stream",
          "name": "stderr",
          "text": [
            " ...done. (0 seconds, 0 min)\n",
            "Extracting data from /root/nilearn_data/cobre/797f8708de05c78a7ff27b00bdc5652e/fmri_0040011.tsv.gz..... done.\n"
          ]
        },
        {
          "output_type": "stream",
          "name": "stdout",
          "text": [
            "Downloading data from https://ndownloader.figshare.com/files/6848634 ...\n"
          ]
        },
        {
          "output_type": "stream",
          "name": "stderr",
          "text": [
            " ...done. (1 seconds, 0 min)\n"
          ]
        },
        {
          "output_type": "stream",
          "name": "stdout",
          "text": [
            "Downloading data from https://ndownloader.figshare.com/files/6848637 ...\n"
          ]
        },
        {
          "output_type": "stream",
          "name": "stderr",
          "text": [
            " ...done. (0 seconds, 0 min)\n",
            "Extracting data from /root/nilearn_data/cobre/7a3179c6afab68083abda20501e6f063/fmri_0040077.tsv.gz..... done.\n"
          ]
        },
        {
          "output_type": "stream",
          "name": "stdout",
          "text": [
            "Downloading data from https://ndownloader.figshare.com/files/6848382 ...\n"
          ]
        },
        {
          "output_type": "stream",
          "name": "stderr",
          "text": [
            " ...done. (2 seconds, 0 min)\n"
          ]
        },
        {
          "output_type": "stream",
          "name": "stdout",
          "text": [
            "Downloading data from https://ndownloader.figshare.com/files/6848385 ...\n"
          ]
        },
        {
          "output_type": "stream",
          "name": "stderr",
          "text": [
            " ...done. (0 seconds, 0 min)\n",
            "Extracting data from /root/nilearn_data/cobre/559fc4fa1df118bc63c511e2c75f04fc/fmri_0040034.tsv.gz..... done.\n"
          ]
        },
        {
          "output_type": "stream",
          "name": "stdout",
          "text": [
            "Downloading data from https://ndownloader.figshare.com/files/6848814 ...\n"
          ]
        },
        {
          "output_type": "stream",
          "name": "stderr",
          "text": [
            " ...done. (1 seconds, 0 min)\n"
          ]
        },
        {
          "output_type": "stream",
          "name": "stdout",
          "text": [
            "Downloading data from https://ndownloader.figshare.com/files/6848817 ...\n"
          ]
        },
        {
          "output_type": "stream",
          "name": "stderr",
          "text": [
            " ...done. (0 seconds, 0 min)\n",
            "Extracting data from /root/nilearn_data/cobre/cf2f8fe2b25bb0181d915e1873ac9044/fmri_0040108.tsv.gz..... done.\n"
          ]
        },
        {
          "output_type": "stream",
          "name": "stdout",
          "text": [
            "Downloading data from https://ndownloader.figshare.com/files/6848232 ...\n"
          ]
        },
        {
          "output_type": "stream",
          "name": "stderr",
          "text": [
            " ...done. (2 seconds, 0 min)\n"
          ]
        },
        {
          "output_type": "stream",
          "name": "stdout",
          "text": [
            "Downloading data from https://ndownloader.figshare.com/files/6848235 ...\n"
          ]
        },
        {
          "output_type": "stream",
          "name": "stderr",
          "text": [
            " ...done. (0 seconds, 0 min)\n",
            "Extracting data from /root/nilearn_data/cobre/eb260aa2c2d4f7c43344b8364a0a28c2/fmri_0040009.tsv.gz..... done.\n"
          ]
        },
        {
          "output_type": "stream",
          "name": "stdout",
          "text": [
            "Downloading data from https://ndownloader.figshare.com/files/6848370 ...\n"
          ]
        },
        {
          "output_type": "stream",
          "name": "stderr",
          "text": [
            " ...done. (2 seconds, 0 min)\n"
          ]
        },
        {
          "output_type": "stream",
          "name": "stdout",
          "text": [
            "Downloading data from https://ndownloader.figshare.com/files/6848373 ...\n"
          ]
        },
        {
          "output_type": "stream",
          "name": "stderr",
          "text": [
            " ...done. (0 seconds, 0 min)\n",
            "Extracting data from /root/nilearn_data/cobre/bc34c1c0e4d9d261c457b6dca10a73e7/fmri_0040032.tsv.gz..... done.\n"
          ]
        },
        {
          "output_type": "stream",
          "name": "stdout",
          "text": [
            "Downloading data from https://ndownloader.figshare.com/files/6848250 ...\n"
          ]
        },
        {
          "output_type": "stream",
          "name": "stderr",
          "text": [
            " ...done. (2 seconds, 0 min)\n"
          ]
        },
        {
          "output_type": "stream",
          "name": "stdout",
          "text": [
            "Downloading data from https://ndownloader.figshare.com/files/6848253 ...\n"
          ]
        },
        {
          "output_type": "stream",
          "name": "stderr",
          "text": [
            " ...done. (0 seconds, 0 min)\n",
            "Extracting data from /root/nilearn_data/cobre/18475aebea226bd7e99061db888d8b52/fmri_0040012.tsv.gz..... done.\n"
          ]
        },
        {
          "output_type": "stream",
          "name": "stdout",
          "text": [
            "Downloading data from https://ndownloader.figshare.com/files/6848328 ...\n"
          ]
        },
        {
          "output_type": "stream",
          "name": "stderr",
          "text": [
            " ...done. (1 seconds, 0 min)\n"
          ]
        },
        {
          "output_type": "stream",
          "name": "stdout",
          "text": [
            "Downloading data from https://ndownloader.figshare.com/files/6848331 ...\n"
          ]
        },
        {
          "output_type": "stream",
          "name": "stderr",
          "text": [
            " ...done. (0 seconds, 0 min)\n",
            "Extracting data from /root/nilearn_data/cobre/46e722967eb6e70e092da8c89ece2f64/fmri_0040025.tsv.gz..... done.\n"
          ]
        },
        {
          "output_type": "stream",
          "name": "stdout",
          "text": [
            "Downloading data from https://ndownloader.figshare.com/files/6848694 ...\n"
          ]
        },
        {
          "output_type": "stream",
          "name": "stderr",
          "text": [
            " ...done. (2 seconds, 0 min)\n"
          ]
        },
        {
          "output_type": "stream",
          "name": "stdout",
          "text": [
            "Downloading data from https://ndownloader.figshare.com/files/6848697 ...\n"
          ]
        },
        {
          "output_type": "stream",
          "name": "stderr",
          "text": [
            " ...done. (0 seconds, 0 min)\n",
            "Extracting data from /root/nilearn_data/cobre/262b9678efb7738453b841979345b737/fmri_0040088.tsv.gz..... done.\n"
          ]
        },
        {
          "output_type": "stream",
          "name": "stdout",
          "text": [
            "Downloading data from https://ndownloader.figshare.com/files/6848820 ...\n"
          ]
        },
        {
          "output_type": "stream",
          "name": "stderr",
          "text": [
            " ...done. (2 seconds, 0 min)\n"
          ]
        },
        {
          "output_type": "stream",
          "name": "stdout",
          "text": [
            "Downloading data from https://ndownloader.figshare.com/files/6848823 ...\n"
          ]
        },
        {
          "output_type": "stream",
          "name": "stderr",
          "text": [
            " ...done. (0 seconds, 0 min)\n",
            "Extracting data from /root/nilearn_data/cobre/1a39bb37a2ad86ae337ff7ad9dd19633/fmri_0040109.tsv.gz..... done.\n"
          ]
        },
        {
          "output_type": "stream",
          "name": "stdout",
          "text": [
            "Downloading data from https://ndownloader.figshare.com/files/6848754 ...\n"
          ]
        },
        {
          "output_type": "stream",
          "name": "stderr",
          "text": [
            " ...done. (1 seconds, 0 min)\n"
          ]
        },
        {
          "output_type": "stream",
          "name": "stdout",
          "text": [
            "Downloading data from https://ndownloader.figshare.com/files/6848757 ...\n"
          ]
        },
        {
          "output_type": "stream",
          "name": "stderr",
          "text": [
            " ...done. (0 seconds, 0 min)\n",
            "Extracting data from /root/nilearn_data/cobre/1a05462fa223fa90bf0c2191b765c773/fmri_0040098.tsv.gz..... done.\n"
          ]
        },
        {
          "output_type": "stream",
          "name": "stdout",
          "text": [
            "Downloading data from https://ndownloader.figshare.com/files/6848766 ...\n"
          ]
        },
        {
          "output_type": "stream",
          "name": "stderr",
          "text": [
            " ...done. (2 seconds, 0 min)\n"
          ]
        },
        {
          "output_type": "stream",
          "name": "stdout",
          "text": [
            "Downloading data from https://ndownloader.figshare.com/files/6848769 ...\n"
          ]
        },
        {
          "output_type": "stream",
          "name": "stderr",
          "text": [
            " ...done. (0 seconds, 0 min)\n",
            "Extracting data from /root/nilearn_data/cobre/be49f8d6fbda9610118341d2b3824cc8/fmri_0040100.tsv.gz..... done.\n"
          ]
        },
        {
          "output_type": "stream",
          "name": "stdout",
          "text": [
            "Downloading data from https://ndownloader.figshare.com/files/6848460 ...\n"
          ]
        },
        {
          "output_type": "stream",
          "name": "stderr",
          "text": [
            " ...done. (2 seconds, 0 min)\n"
          ]
        },
        {
          "output_type": "stream",
          "name": "stdout",
          "text": [
            "Downloading data from https://ndownloader.figshare.com/files/6848463 ...\n"
          ]
        },
        {
          "output_type": "stream",
          "name": "stderr",
          "text": [
            " ...done. (0 seconds, 0 min)\n",
            "Extracting data from /root/nilearn_data/cobre/464fa45d7a4e5648989426e01cedba5c/fmri_0040047.tsv.gz..... done.\n"
          ]
        },
        {
          "output_type": "stream",
          "name": "stdout",
          "text": [
            "Downloading data from https://ndownloader.figshare.com/files/6848760 ...\n"
          ]
        },
        {
          "output_type": "stream",
          "name": "stderr",
          "text": [
            " ...done. (2 seconds, 0 min)\n"
          ]
        },
        {
          "output_type": "stream",
          "name": "stdout",
          "text": [
            "Downloading data from https://ndownloader.figshare.com/files/6848763 ...\n"
          ]
        },
        {
          "output_type": "stream",
          "name": "stderr",
          "text": [
            " ...done. (0 seconds, 0 min)\n",
            "Extracting data from /root/nilearn_data/cobre/38f589110f71c6738d4594f0ac1ad7a7/fmri_0040099.tsv.gz..... done.\n"
          ]
        },
        {
          "output_type": "stream",
          "name": "stdout",
          "text": [
            "Downloading data from https://ndownloader.figshare.com/files/6848430 ...\n"
          ]
        },
        {
          "output_type": "stream",
          "name": "stderr",
          "text": [
            " ...done. (2 seconds, 0 min)\n"
          ]
        },
        {
          "output_type": "stream",
          "name": "stdout",
          "text": [
            "Downloading data from https://ndownloader.figshare.com/files/6848433 ...\n"
          ]
        },
        {
          "output_type": "stream",
          "name": "stderr",
          "text": [
            " ...done. (0 seconds, 0 min)\n",
            "Extracting data from /root/nilearn_data/cobre/629039eb91b668ba9180f122d202a99a/fmri_0040042.tsv.gz..... done.\n"
          ]
        },
        {
          "output_type": "stream",
          "name": "stdout",
          "text": [
            "Downloading data from https://ndownloader.figshare.com/files/6848622 ...\n"
          ]
        },
        {
          "output_type": "stream",
          "name": "stderr",
          "text": [
            " ...done. (1 seconds, 0 min)\n"
          ]
        },
        {
          "output_type": "stream",
          "name": "stdout",
          "text": [
            "Downloading data from https://ndownloader.figshare.com/files/6848625 ...\n"
          ]
        },
        {
          "output_type": "stream",
          "name": "stderr",
          "text": [
            " ...done. (0 seconds, 0 min)\n",
            "Extracting data from /root/nilearn_data/cobre/fa6dddf3186a4435575f7a1ed297faae/fmri_0040075.tsv.gz..... done.\n"
          ]
        },
        {
          "output_type": "stream",
          "name": "stdout",
          "text": [
            "Downloading data from https://ndownloader.figshare.com/files/6848784 ...\n"
          ]
        },
        {
          "output_type": "stream",
          "name": "stderr",
          "text": [
            " ...done. (2 seconds, 0 min)\n"
          ]
        },
        {
          "output_type": "stream",
          "name": "stdout",
          "text": [
            "Downloading data from https://ndownloader.figshare.com/files/6848787 ...\n"
          ]
        },
        {
          "output_type": "stream",
          "name": "stderr",
          "text": [
            " ...done. (0 seconds, 0 min)\n",
            "Extracting data from /root/nilearn_data/cobre/321185bd10831a3701afef181ed4273e/fmri_0040103.tsv.gz..... done.\n"
          ]
        },
        {
          "output_type": "stream",
          "name": "stdout",
          "text": [
            "Downloading data from https://ndownloader.figshare.com/files/6848538 ...\n"
          ]
        },
        {
          "output_type": "stream",
          "name": "stderr",
          "text": [
            " ...done. (2 seconds, 0 min)\n"
          ]
        },
        {
          "output_type": "stream",
          "name": "stdout",
          "text": [
            "Downloading data from https://ndownloader.figshare.com/files/6848541 ...\n"
          ]
        },
        {
          "output_type": "stream",
          "name": "stderr",
          "text": [
            " ...done. (0 seconds, 0 min)\n",
            "Extracting data from /root/nilearn_data/cobre/32154f247e90cba41e3c35a59788ac90/fmri_0040060.tsv.gz..... done.\n"
          ]
        },
        {
          "output_type": "stream",
          "name": "stdout",
          "text": [
            "Downloading data from https://ndownloader.figshare.com/files/6848922 ...\n"
          ]
        },
        {
          "output_type": "stream",
          "name": "stderr",
          "text": [
            " ...done. (2 seconds, 0 min)\n"
          ]
        },
        {
          "output_type": "stream",
          "name": "stdout",
          "text": [
            "Downloading data from https://ndownloader.figshare.com/files/6848925 ...\n"
          ]
        },
        {
          "output_type": "stream",
          "name": "stderr",
          "text": [
            " ...done. (0 seconds, 0 min)\n",
            "Extracting data from /root/nilearn_data/cobre/0c8a546a37188a64b3df92c363a37c75/fmri_0040126.tsv.gz..... done.\n"
          ]
        },
        {
          "output_type": "stream",
          "name": "stdout",
          "text": [
            "Downloading data from https://ndownloader.figshare.com/files/6848838 ...\n"
          ]
        },
        {
          "output_type": "stream",
          "name": "stderr",
          "text": [
            " ...done. (2 seconds, 0 min)\n"
          ]
        },
        {
          "output_type": "stream",
          "name": "stdout",
          "text": [
            "Downloading data from https://ndownloader.figshare.com/files/6848841 ...\n"
          ]
        },
        {
          "output_type": "stream",
          "name": "stderr",
          "text": [
            " ...done. (0 seconds, 0 min)\n",
            "Extracting data from /root/nilearn_data/cobre/223535a3d0f5536a8098fa4146d78f96/fmri_0040112.tsv.gz..... done.\n"
          ]
        },
        {
          "output_type": "stream",
          "name": "stdout",
          "text": [
            "Downloading data from https://ndownloader.figshare.com/files/6848658 ...\n"
          ]
        },
        {
          "output_type": "stream",
          "name": "stderr",
          "text": [
            " ...done. (2 seconds, 0 min)\n"
          ]
        },
        {
          "output_type": "stream",
          "name": "stdout",
          "text": [
            "Downloading data from https://ndownloader.figshare.com/files/6848661 ...\n"
          ]
        },
        {
          "output_type": "stream",
          "name": "stderr",
          "text": [
            " ...done. (0 seconds, 0 min)\n",
            "Extracting data from /root/nilearn_data/cobre/4a04a4cc2fb08af93d922a9da72793a1/fmri_0040081.tsv.gz..... done.\n"
          ]
        },
        {
          "output_type": "stream",
          "name": "stdout",
          "text": [
            "Downloading data from https://ndownloader.figshare.com/files/6848826 ...\n"
          ]
        },
        {
          "output_type": "stream",
          "name": "stderr",
          "text": [
            " ...done. (2 seconds, 0 min)\n"
          ]
        },
        {
          "output_type": "stream",
          "name": "stdout",
          "text": [
            "Downloading data from https://ndownloader.figshare.com/files/6848829 ...\n"
          ]
        },
        {
          "output_type": "stream",
          "name": "stderr",
          "text": [
            " ...done. (0 seconds, 0 min)\n",
            "Extracting data from /root/nilearn_data/cobre/1a7a95d2dddc00b6dc8ea8f1c9a3a7ef/fmri_0040110.tsv.gz..... done.\n"
          ]
        },
        {
          "output_type": "stream",
          "name": "stdout",
          "text": [
            "Downloading data from https://ndownloader.figshare.com/files/6848472 ...\n"
          ]
        },
        {
          "output_type": "stream",
          "name": "stderr",
          "text": [
            " ...done. (2 seconds, 0 min)\n"
          ]
        },
        {
          "output_type": "stream",
          "name": "stdout",
          "text": [
            "Downloading data from https://ndownloader.figshare.com/files/6848475 ...\n"
          ]
        },
        {
          "output_type": "stream",
          "name": "stderr",
          "text": [
            " ...done. (0 seconds, 0 min)\n",
            "Extracting data from /root/nilearn_data/cobre/a653a53f44e3a36017e48112481b799f/fmri_0040049.tsv.gz..... done.\n"
          ]
        },
        {
          "output_type": "stream",
          "name": "stdout",
          "text": [
            "Downloading data from https://ndownloader.figshare.com/files/6848802 ...\n"
          ]
        },
        {
          "output_type": "stream",
          "name": "stderr",
          "text": [
            " ...done. (2 seconds, 0 min)\n"
          ]
        },
        {
          "output_type": "stream",
          "name": "stdout",
          "text": [
            "Downloading data from https://ndownloader.figshare.com/files/6848805 ...\n"
          ]
        },
        {
          "output_type": "stream",
          "name": "stderr",
          "text": [
            " ...done. (0 seconds, 0 min)\n",
            "Extracting data from /root/nilearn_data/cobre/fbe7932b931e7aac276b73713f2b48f7/fmri_0040106.tsv.gz..... done.\n"
          ]
        },
        {
          "output_type": "stream",
          "name": "stdout",
          "text": [
            "Downloading data from https://ndownloader.figshare.com/files/6848268 ...\n"
          ]
        },
        {
          "output_type": "stream",
          "name": "stderr",
          "text": [
            " ...done. (1 seconds, 0 min)\n"
          ]
        },
        {
          "output_type": "stream",
          "name": "stdout",
          "text": [
            "Downloading data from https://ndownloader.figshare.com/files/6848271 ...\n"
          ]
        },
        {
          "output_type": "stream",
          "name": "stderr",
          "text": [
            " ...done. (0 seconds, 0 min)\n",
            "Extracting data from /root/nilearn_data/cobre/a49b4db4fc1d15e60e94f2c8ce2b540c/fmri_0040015.tsv.gz..... done.\n"
          ]
        },
        {
          "output_type": "stream",
          "name": "stdout",
          "text": [
            "Downloading data from https://ndownloader.figshare.com/files/6848208 ...\n"
          ]
        },
        {
          "output_type": "stream",
          "name": "stderr",
          "text": [
            " ...done. (2 seconds, 0 min)\n"
          ]
        },
        {
          "output_type": "stream",
          "name": "stdout",
          "text": [
            "Downloading data from https://ndownloader.figshare.com/files/6848211 ...\n"
          ]
        },
        {
          "output_type": "stream",
          "name": "stderr",
          "text": [
            " ...done. (0 seconds, 0 min)\n",
            "Extracting data from /root/nilearn_data/cobre/3cc26e31470f08daabd476c187faf7ab/fmri_0040005.tsv.gz..... done.\n"
          ]
        },
        {
          "output_type": "stream",
          "name": "stdout",
          "text": [
            "Downloading data from https://ndownloader.figshare.com/files/6848442 ...\n"
          ]
        },
        {
          "output_type": "stream",
          "name": "stderr",
          "text": [
            " ...done. (2 seconds, 0 min)\n"
          ]
        },
        {
          "output_type": "stream",
          "name": "stdout",
          "text": [
            "Downloading data from https://ndownloader.figshare.com/files/6848445 ...\n"
          ]
        },
        {
          "output_type": "stream",
          "name": "stderr",
          "text": [
            " ...done. (0 seconds, 0 min)\n",
            "Extracting data from /root/nilearn_data/cobre/5d210a2285666e70c2dcc66210e477b9/fmri_0040044.tsv.gz..... done.\n"
          ]
        },
        {
          "output_type": "stream",
          "name": "stdout",
          "text": [
            "Downloading data from https://ndownloader.figshare.com/files/6848274 ...\n"
          ]
        },
        {
          "output_type": "stream",
          "name": "stderr",
          "text": [
            " ...done. (2 seconds, 0 min)\n"
          ]
        },
        {
          "output_type": "stream",
          "name": "stdout",
          "text": [
            "Downloading data from https://ndownloader.figshare.com/files/6848277 ...\n"
          ]
        },
        {
          "output_type": "stream",
          "name": "stderr",
          "text": [
            " ...done. (0 seconds, 0 min)\n",
            "Extracting data from /root/nilearn_data/cobre/c37a040359f7136307e5541a58369578/fmri_0040016.tsv.gz..... done.\n"
          ]
        },
        {
          "output_type": "stream",
          "name": "stdout",
          "text": [
            "Downloading data from https://ndownloader.figshare.com/files/6848718 ...\n"
          ]
        },
        {
          "output_type": "stream",
          "name": "stderr",
          "text": [
            " ...done. (2 seconds, 0 min)\n"
          ]
        },
        {
          "output_type": "stream",
          "name": "stdout",
          "text": [
            "Downloading data from https://ndownloader.figshare.com/files/6848721 ...\n"
          ]
        },
        {
          "output_type": "stream",
          "name": "stderr",
          "text": [
            " ...done. (0 seconds, 0 min)\n",
            "Extracting data from /root/nilearn_data/cobre/4acb9160c066c1620a26601ed9bad8fa/fmri_0040092.tsv.gz..... done.\n"
          ]
        },
        {
          "output_type": "stream",
          "name": "stdout",
          "text": [
            "Downloading data from https://ndownloader.figshare.com/files/6848664 ...\n"
          ]
        },
        {
          "output_type": "stream",
          "name": "stderr",
          "text": [
            " ...done. (2 seconds, 0 min)\n"
          ]
        },
        {
          "output_type": "stream",
          "name": "stdout",
          "text": [
            "Downloading data from https://ndownloader.figshare.com/files/6848667 ...\n"
          ]
        },
        {
          "output_type": "stream",
          "name": "stderr",
          "text": [
            " ...done. (0 seconds, 0 min)\n",
            "Extracting data from /root/nilearn_data/cobre/65e373478e617322618fcb1b6458b695/fmri_0040082.tsv.gz..... done.\n"
          ]
        },
        {
          "output_type": "stream",
          "name": "stdout",
          "text": [
            "Downloading data from https://ndownloader.figshare.com/files/6848772 ...\n"
          ]
        },
        {
          "output_type": "stream",
          "name": "stderr",
          "text": [
            " ...done. (2 seconds, 0 min)\n"
          ]
        },
        {
          "output_type": "stream",
          "name": "stdout",
          "text": [
            "Downloading data from https://ndownloader.figshare.com/files/6848775 ...\n"
          ]
        },
        {
          "output_type": "stream",
          "name": "stderr",
          "text": [
            " ...done. (0 seconds, 0 min)\n",
            "Extracting data from /root/nilearn_data/cobre/76d22a017c497c5b147929e2cadfe7a1/fmri_0040101.tsv.gz..... done.\n"
          ]
        },
        {
          "output_type": "stream",
          "name": "stdout",
          "text": [
            "Downloading data from https://ndownloader.figshare.com/files/6848958 ...\n"
          ]
        },
        {
          "output_type": "stream",
          "name": "stderr",
          "text": [
            " ...done. (2 seconds, 0 min)\n"
          ]
        },
        {
          "output_type": "stream",
          "name": "stdout",
          "text": [
            "Downloading data from https://ndownloader.figshare.com/files/6848961 ...\n"
          ]
        },
        {
          "output_type": "stream",
          "name": "stderr",
          "text": [
            " ...done. (0 seconds, 0 min)\n",
            "Extracting data from /root/nilearn_data/cobre/7fc23d1d8d2a171a87acf65bef292017/fmri_0040132.tsv.gz..... done.\n"
          ]
        },
        {
          "output_type": "stream",
          "name": "stdout",
          "text": [
            "Downloading data from https://ndownloader.figshare.com/files/6848412 ...\n"
          ]
        },
        {
          "output_type": "stream",
          "name": "stderr",
          "text": [
            " ...done. (2 seconds, 0 min)\n"
          ]
        },
        {
          "output_type": "stream",
          "name": "stdout",
          "text": [
            "Downloading data from https://ndownloader.figshare.com/files/6848415 ...\n"
          ]
        },
        {
          "output_type": "stream",
          "name": "stderr",
          "text": [
            " ...done. (0 seconds, 0 min)\n",
            "Extracting data from /root/nilearn_data/cobre/e4561a4d86d1453c5c82165b19ca12df/fmri_0040039.tsv.gz..... done.\n"
          ]
        },
        {
          "output_type": "stream",
          "name": "stdout",
          "text": [
            "Downloading data from https://ndownloader.figshare.com/files/6848598 ...\n"
          ]
        },
        {
          "output_type": "stream",
          "name": "stderr",
          "text": [
            " ...done. (2 seconds, 0 min)\n"
          ]
        },
        {
          "output_type": "stream",
          "name": "stdout",
          "text": [
            "Downloading data from https://ndownloader.figshare.com/files/6848601 ...\n"
          ]
        },
        {
          "output_type": "stream",
          "name": "stderr",
          "text": [
            " ...done. (0 seconds, 0 min)\n",
            "Extracting data from /root/nilearn_data/cobre/66c1827f0566d7e10d707729c574e4c9/fmri_0040071.tsv.gz..... done.\n"
          ]
        },
        {
          "output_type": "stream",
          "name": "stdout",
          "text": [
            "Downloading data from https://ndownloader.figshare.com/files/6848238 ...\n"
          ]
        },
        {
          "output_type": "stream",
          "name": "stderr",
          "text": [
            " ...done. (2 seconds, 0 min)\n"
          ]
        },
        {
          "output_type": "stream",
          "name": "stdout",
          "text": [
            "Downloading data from https://ndownloader.figshare.com/files/6848241 ...\n"
          ]
        },
        {
          "output_type": "stream",
          "name": "stderr",
          "text": [
            " ...done. (0 seconds, 0 min)\n",
            "Extracting data from /root/nilearn_data/cobre/5ac96f6fe2ff3a366856c7519a259ae1/fmri_0040010.tsv.gz..... done.\n"
          ]
        },
        {
          "output_type": "stream",
          "name": "stdout",
          "text": [
            "Downloading data from https://ndownloader.figshare.com/files/6848748 ...\n"
          ]
        },
        {
          "output_type": "stream",
          "name": "stderr",
          "text": [
            " ...done. (2 seconds, 0 min)\n"
          ]
        },
        {
          "output_type": "stream",
          "name": "stdout",
          "text": [
            "Downloading data from https://ndownloader.figshare.com/files/6848751 ...\n"
          ]
        },
        {
          "output_type": "stream",
          "name": "stderr",
          "text": [
            " ...done. (0 seconds, 0 min)\n",
            "Extracting data from /root/nilearn_data/cobre/33a605d076b1ec10305d36158a019ca2/fmri_0040097.tsv.gz..... done.\n"
          ]
        },
        {
          "output_type": "stream",
          "name": "stdout",
          "text": [
            "Downloading data from https://ndownloader.figshare.com/files/6848796 ...\n"
          ]
        },
        {
          "output_type": "stream",
          "name": "stderr",
          "text": [
            " ...done. (2 seconds, 0 min)\n"
          ]
        },
        {
          "output_type": "stream",
          "name": "stdout",
          "text": [
            "Downloading data from https://ndownloader.figshare.com/files/6848799 ...\n"
          ]
        },
        {
          "output_type": "stream",
          "name": "stderr",
          "text": [
            " ...done. (0 seconds, 0 min)\n",
            "Extracting data from /root/nilearn_data/cobre/8af538f3408e1b1497436e7628c12cd1/fmri_0040105.tsv.gz..... done.\n"
          ]
        },
        {
          "output_type": "stream",
          "name": "stdout",
          "text": [
            "Downloading data from https://ndownloader.figshare.com/files/6849024 ...\n"
          ]
        },
        {
          "output_type": "stream",
          "name": "stderr",
          "text": [
            " ...done. (2 seconds, 0 min)\n"
          ]
        },
        {
          "output_type": "stream",
          "name": "stdout",
          "text": [
            "Downloading data from https://ndownloader.figshare.com/files/6849027 ...\n"
          ]
        },
        {
          "output_type": "stream",
          "name": "stderr",
          "text": [
            " ...done. (0 seconds, 0 min)\n",
            "Extracting data from /root/nilearn_data/cobre/9918b97ac22971acffd50b5b20ed63a9/fmri_0040143.tsv.gz..... done.\n"
          ]
        },
        {
          "output_type": "stream",
          "name": "stdout",
          "text": [
            "Downloading data from https://ndownloader.figshare.com/files/6848214 ...\n"
          ]
        },
        {
          "output_type": "stream",
          "name": "stderr",
          "text": [
            " ...done. (2 seconds, 0 min)\n"
          ]
        },
        {
          "output_type": "stream",
          "name": "stdout",
          "text": [
            "Downloading data from https://ndownloader.figshare.com/files/6848217 ...\n"
          ]
        },
        {
          "output_type": "stream",
          "name": "stderr",
          "text": [
            " ...done. (0 seconds, 0 min)\n",
            "Extracting data from /root/nilearn_data/cobre/22c47ad0848e42ca09a41e38a539a586/fmri_0040006.tsv.gz..... done.\n"
          ]
        },
        {
          "output_type": "stream",
          "name": "stdout",
          "text": [
            "Downloading data from https://ndownloader.figshare.com/files/6848202 ...\n"
          ]
        },
        {
          "output_type": "stream",
          "name": "stderr",
          "text": [
            " ...done. (2 seconds, 0 min)\n"
          ]
        },
        {
          "output_type": "stream",
          "name": "stdout",
          "text": [
            "Downloading data from https://ndownloader.figshare.com/files/6848205 ...\n"
          ]
        },
        {
          "output_type": "stream",
          "name": "stderr",
          "text": [
            " ...done. (0 seconds, 0 min)\n",
            "Extracting data from /root/nilearn_data/cobre/2f46e386b49aee2ace572298b18aea2d/fmri_0040004.tsv.gz..... done.\n"
          ]
        },
        {
          "output_type": "stream",
          "name": "stdout",
          "text": [
            "Downloading data from https://ndownloader.figshare.com/files/6848562 ...\n"
          ]
        },
        {
          "output_type": "stream",
          "name": "stderr",
          "text": [
            " ...done. (2 seconds, 0 min)\n"
          ]
        },
        {
          "output_type": "stream",
          "name": "stdout",
          "text": [
            "Downloading data from https://ndownloader.figshare.com/files/6848565 ...\n"
          ]
        },
        {
          "output_type": "stream",
          "name": "stderr",
          "text": [
            " ...done. (0 seconds, 0 min)\n",
            "Extracting data from /root/nilearn_data/cobre/316a59145109c16a527ab8d92a9789c6/fmri_0040064.tsv.gz..... done.\n"
          ]
        },
        {
          "output_type": "stream",
          "name": "stdout",
          "text": [
            "Downloading data from https://ndownloader.figshare.com/files/6848640 ...\n"
          ]
        },
        {
          "output_type": "stream",
          "name": "stderr",
          "text": [
            " ...done. (2 seconds, 0 min)\n"
          ]
        },
        {
          "output_type": "stream",
          "name": "stdout",
          "text": [
            "Downloading data from https://ndownloader.figshare.com/files/6848643 ...\n"
          ]
        },
        {
          "output_type": "stream",
          "name": "stderr",
          "text": [
            " ...done. (0 seconds, 0 min)\n",
            "Extracting data from /root/nilearn_data/cobre/e65881d7f743bf728be584597c350fb0/fmri_0040078.tsv.gz..... done.\n"
          ]
        },
        {
          "output_type": "stream",
          "name": "stdout",
          "text": [
            "Downloading data from https://ndownloader.figshare.com/files/6848730 ...\n"
          ]
        },
        {
          "output_type": "stream",
          "name": "stderr",
          "text": [
            " ...done. (2 seconds, 0 min)\n"
          ]
        },
        {
          "output_type": "stream",
          "name": "stdout",
          "text": [
            "Downloading data from https://ndownloader.figshare.com/files/6848733 ...\n"
          ]
        },
        {
          "output_type": "stream",
          "name": "stderr",
          "text": [
            " ...done. (0 seconds, 0 min)\n",
            "Extracting data from /root/nilearn_data/cobre/d81f30f9782ad5750682a04c0c63ad86/fmri_0040094.tsv.gz..... done.\n"
          ]
        },
        {
          "output_type": "stream",
          "name": "stdout",
          "text": [
            "Downloading data from https://ndownloader.figshare.com/files/6848670 ...\n"
          ]
        },
        {
          "output_type": "stream",
          "name": "stderr",
          "text": [
            " ...done. (1 seconds, 0 min)\n"
          ]
        },
        {
          "output_type": "stream",
          "name": "stdout",
          "text": [
            "Downloading data from https://ndownloader.figshare.com/files/6848673 ...\n"
          ]
        },
        {
          "output_type": "stream",
          "name": "stderr",
          "text": [
            " ...done. (0 seconds, 0 min)\n",
            "Extracting data from /root/nilearn_data/cobre/7874a5a9f7979cc31d01f73eb576e67e/fmri_0040084.tsv.gz..... done.\n"
          ]
        },
        {
          "output_type": "stream",
          "name": "stdout",
          "text": [
            "Downloading data from https://ndownloader.figshare.com/files/6848424 ...\n"
          ]
        },
        {
          "output_type": "stream",
          "name": "stderr",
          "text": [
            " ...done. (2 seconds, 0 min)\n"
          ]
        },
        {
          "output_type": "stream",
          "name": "stdout",
          "text": [
            "Downloading data from https://ndownloader.figshare.com/files/6848427 ...\n"
          ]
        },
        {
          "output_type": "stream",
          "name": "stderr",
          "text": [
            " ...done. (0 seconds, 0 min)\n",
            "Extracting data from /root/nilearn_data/cobre/7707908b86cd00610a0da82a49cba7d1/fmri_0040041.tsv.gz..... done.\n"
          ]
        },
        {
          "output_type": "stream",
          "name": "stdout",
          "text": [
            "Downloading data from https://ndownloader.figshare.com/files/6848700 ...\n"
          ]
        },
        {
          "output_type": "stream",
          "name": "stderr",
          "text": [
            " ...done. (2 seconds, 0 min)\n"
          ]
        },
        {
          "output_type": "stream",
          "name": "stdout",
          "text": [
            "Downloading data from https://ndownloader.figshare.com/files/6848703 ...\n"
          ]
        },
        {
          "output_type": "stream",
          "name": "stderr",
          "text": [
            " ...done. (0 seconds, 0 min)\n",
            "Extracting data from /root/nilearn_data/cobre/70de19035ad72b43cc8384b0e59c5cf3/fmri_0040089.tsv.gz..... done.\n"
          ]
        },
        {
          "output_type": "stream",
          "name": "stdout",
          "text": [
            "Downloading data from https://ndownloader.figshare.com/files/6848418 ...\n"
          ]
        },
        {
          "output_type": "stream",
          "name": "stderr",
          "text": [
            " ...done. (2 seconds, 0 min)\n"
          ]
        },
        {
          "output_type": "stream",
          "name": "stdout",
          "text": [
            "Downloading data from https://ndownloader.figshare.com/files/6848421 ...\n"
          ]
        },
        {
          "output_type": "stream",
          "name": "stderr",
          "text": [
            " ...done. (0 seconds, 0 min)\n",
            "Extracting data from /root/nilearn_data/cobre/9ebb1028205a5f825475866bb9288800/fmri_0040040.tsv.gz..... done.\n"
          ]
        },
        {
          "output_type": "stream",
          "name": "stdout",
          "text": [
            "Downloading data from https://ndownloader.figshare.com/files/6848346 ...\n"
          ]
        },
        {
          "output_type": "stream",
          "name": "stderr",
          "text": [
            " ...done. (2 seconds, 0 min)\n"
          ]
        },
        {
          "output_type": "stream",
          "name": "stdout",
          "text": [
            "Downloading data from https://ndownloader.figshare.com/files/6848349 ...\n"
          ]
        },
        {
          "output_type": "stream",
          "name": "stderr",
          "text": [
            " ...done. (0 seconds, 0 min)\n",
            "Extracting data from /root/nilearn_data/cobre/3b593703b0a29043c971f3cc9a190148/fmri_0040028.tsv.gz..... done.\n"
          ]
        },
        {
          "output_type": "stream",
          "name": "stdout",
          "text": [
            "Downloading data from https://ndownloader.figshare.com/files/6848220 ...\n"
          ]
        },
        {
          "output_type": "stream",
          "name": "stderr",
          "text": [
            " ...done. (1 seconds, 0 min)\n"
          ]
        },
        {
          "output_type": "stream",
          "name": "stdout",
          "text": [
            "Downloading data from https://ndownloader.figshare.com/files/6848223 ...\n"
          ]
        },
        {
          "output_type": "stream",
          "name": "stderr",
          "text": [
            " ...done. (0 seconds, 0 min)\n",
            "Extracting data from /root/nilearn_data/cobre/6e6fcccace5a7d17c5f297df03e023a8/fmri_0040007.tsv.gz..... done.\n"
          ]
        },
        {
          "output_type": "stream",
          "name": "stdout",
          "text": [
            "Downloading data from https://ndownloader.figshare.com/files/6848544 ...\n"
          ]
        },
        {
          "output_type": "stream",
          "name": "stderr",
          "text": [
            " ...done. (2 seconds, 0 min)\n"
          ]
        },
        {
          "output_type": "stream",
          "name": "stdout",
          "text": [
            "Downloading data from https://ndownloader.figshare.com/files/6848547 ...\n"
          ]
        },
        {
          "output_type": "stream",
          "name": "stderr",
          "text": [
            " ...done. (0 seconds, 0 min)\n",
            "Extracting data from /root/nilearn_data/cobre/fdbfd280ff5322077b5eff6994660f90/fmri_0040061.tsv.gz..... done.\n"
          ]
        },
        {
          "output_type": "stream",
          "name": "stdout",
          "text": [
            "Downloading data from https://ndownloader.figshare.com/files/6848706 ...\n"
          ]
        },
        {
          "output_type": "stream",
          "name": "stderr",
          "text": [
            " ...done. (2 seconds, 0 min)\n"
          ]
        },
        {
          "output_type": "stream",
          "name": "stdout",
          "text": [
            "Downloading data from https://ndownloader.figshare.com/files/6848709 ...\n"
          ]
        },
        {
          "output_type": "stream",
          "name": "stderr",
          "text": [
            " ...done. (0 seconds, 0 min)\n",
            "Extracting data from /root/nilearn_data/cobre/17ca77ec81f75b50b825727c4aab1df2/fmri_0040090.tsv.gz..... done.\n"
          ]
        },
        {
          "output_type": "stream",
          "name": "stdout",
          "text": [
            "Downloading data from https://ndownloader.figshare.com/files/6848844 ...\n"
          ]
        },
        {
          "output_type": "stream",
          "name": "stderr",
          "text": [
            " ...done. (2 seconds, 0 min)\n"
          ]
        },
        {
          "output_type": "stream",
          "name": "stdout",
          "text": [
            "Downloading data from https://ndownloader.figshare.com/files/6848847 ...\n"
          ]
        },
        {
          "output_type": "stream",
          "name": "stderr",
          "text": [
            " ...done. (0 seconds, 0 min)\n",
            "Extracting data from /root/nilearn_data/cobre/76e2655b3aa1b303589dfdef904ebcff/fmri_0040113.tsv.gz..... done.\n"
          ]
        },
        {
          "output_type": "stream",
          "name": "stdout",
          "text": [
            "Downloading data from https://ndownloader.figshare.com/files/6848892 ...\n"
          ]
        },
        {
          "output_type": "stream",
          "name": "stderr",
          "text": [
            " ...done. (2 seconds, 0 min)\n"
          ]
        },
        {
          "output_type": "stream",
          "name": "stdout",
          "text": [
            "Downloading data from https://ndownloader.figshare.com/files/6848895 ...\n"
          ]
        },
        {
          "output_type": "stream",
          "name": "stderr",
          "text": [
            " ...done. (0 seconds, 0 min)\n",
            "Extracting data from /root/nilearn_data/cobre/433e5c0cba0e8bdc641c5a8adbb3c990/fmri_0040121.tsv.gz..... done.\n"
          ]
        },
        {
          "output_type": "stream",
          "name": "stdout",
          "text": [
            "Downloading data from https://ndownloader.figshare.com/files/6848298 ...\n"
          ]
        },
        {
          "output_type": "stream",
          "name": "stderr",
          "text": [
            " ...done. (2 seconds, 0 min)\n"
          ]
        },
        {
          "output_type": "stream",
          "name": "stdout",
          "text": [
            "Downloading data from https://ndownloader.figshare.com/files/6848301 ...\n"
          ]
        },
        {
          "output_type": "stream",
          "name": "stderr",
          "text": [
            " ...done. (0 seconds, 0 min)\n",
            "Extracting data from /root/nilearn_data/cobre/bfac74090e10957abb67237a9a6a5655/fmri_0040020.tsv.gz..... done.\n"
          ]
        },
        {
          "output_type": "stream",
          "name": "stdout",
          "text": [
            "Downloading data from https://ndownloader.figshare.com/files/6848490 ...\n"
          ]
        },
        {
          "output_type": "stream",
          "name": "stderr",
          "text": [
            " ...done. (2 seconds, 0 min)\n"
          ]
        },
        {
          "output_type": "stream",
          "name": "stdout",
          "text": [
            "Downloading data from https://ndownloader.figshare.com/files/6848493 ...\n"
          ]
        },
        {
          "output_type": "stream",
          "name": "stderr",
          "text": [
            " ...done. (0 seconds, 0 min)\n",
            "Extracting data from /root/nilearn_data/cobre/f006ca3519f6bb28f44b9cf417d21baf/fmri_0040052.tsv.gz..... done.\n"
          ]
        },
        {
          "output_type": "stream",
          "name": "stdout",
          "text": [
            "Downloading data from https://ndownloader.figshare.com/files/6848568 ...\n"
          ]
        },
        {
          "output_type": "stream",
          "name": "stderr",
          "text": [
            " ...done. (2 seconds, 0 min)\n"
          ]
        },
        {
          "output_type": "stream",
          "name": "stdout",
          "text": [
            "Downloading data from https://ndownloader.figshare.com/files/6848571 ...\n"
          ]
        },
        {
          "output_type": "stream",
          "name": "stderr",
          "text": [
            " ...done. (0 seconds, 0 min)\n",
            "Extracting data from /root/nilearn_data/cobre/299ca69e0ad3a861a125a7c752e83e5a/fmri_0040065.tsv.gz..... done.\n"
          ]
        },
        {
          "output_type": "stream",
          "name": "stdout",
          "text": [
            "Downloading data from https://ndownloader.figshare.com/files/6848934 ...\n"
          ]
        },
        {
          "output_type": "stream",
          "name": "stderr",
          "text": [
            " ...done. (2 seconds, 0 min)\n"
          ]
        },
        {
          "output_type": "stream",
          "name": "stdout",
          "text": [
            "Downloading data from https://ndownloader.figshare.com/files/6848937 ...\n"
          ]
        },
        {
          "output_type": "stream",
          "name": "stderr",
          "text": [
            " ...done. (0 seconds, 0 min)\n",
            "Extracting data from /root/nilearn_data/cobre/5eb64f00c4a989fd64422c592475ed4c/fmri_0040128.tsv.gz..... done.\n"
          ]
        },
        {
          "output_type": "stream",
          "name": "stdout",
          "text": [
            "Downloading data from https://ndownloader.figshare.com/files/6848484 ...\n"
          ]
        },
        {
          "output_type": "stream",
          "name": "stderr",
          "text": [
            " ...done. (2 seconds, 0 min)\n"
          ]
        },
        {
          "output_type": "stream",
          "name": "stdout",
          "text": [
            "Downloading data from https://ndownloader.figshare.com/files/6848487 ...\n"
          ]
        },
        {
          "output_type": "stream",
          "name": "stderr",
          "text": [
            " ...done. (0 seconds, 0 min)\n",
            "Extracting data from /root/nilearn_data/cobre/ce31f466fadb6e22c80c0b8969b17ff8/fmri_0040051.tsv.gz..... done.\n"
          ]
        },
        {
          "output_type": "stream",
          "name": "stdout",
          "text": [
            "Downloading data from https://ndownloader.figshare.com/files/6848850 ...\n"
          ]
        },
        {
          "output_type": "stream",
          "name": "stderr",
          "text": [
            " ...done. (2 seconds, 0 min)\n"
          ]
        },
        {
          "output_type": "stream",
          "name": "stdout",
          "text": [
            "Downloading data from https://ndownloader.figshare.com/files/6848853 ...\n"
          ]
        },
        {
          "output_type": "stream",
          "name": "stderr",
          "text": [
            " ...done. (0 seconds, 0 min)\n",
            "Extracting data from /root/nilearn_data/cobre/cff9fd15d22059a176d15190e6caf601/fmri_0040114.tsv.gz..... done.\n"
          ]
        },
        {
          "output_type": "stream",
          "name": "stdout",
          "text": [
            "Downloading data from https://ndownloader.figshare.com/files/6848940 ...\n"
          ]
        },
        {
          "output_type": "stream",
          "name": "stderr",
          "text": [
            " ...done. (2 seconds, 0 min)\n"
          ]
        },
        {
          "output_type": "stream",
          "name": "stdout",
          "text": [
            "Downloading data from https://ndownloader.figshare.com/files/6848943 ...\n"
          ]
        },
        {
          "output_type": "stream",
          "name": "stderr",
          "text": [
            " ...done. (0 seconds, 0 min)\n",
            "Extracting data from /root/nilearn_data/cobre/447df6e56661d38b5f894d96e38b01c2/fmri_0040129.tsv.gz..... done.\n"
          ]
        },
        {
          "output_type": "stream",
          "name": "stdout",
          "text": [
            "Downloading data from https://ndownloader.figshare.com/files/6848496 ...\n"
          ]
        },
        {
          "output_type": "stream",
          "name": "stderr",
          "text": [
            " ...done. (2 seconds, 0 min)\n"
          ]
        },
        {
          "output_type": "stream",
          "name": "stdout",
          "text": [
            "Downloading data from https://ndownloader.figshare.com/files/6848499 ...\n"
          ]
        },
        {
          "output_type": "stream",
          "name": "stderr",
          "text": [
            " ...done. (0 seconds, 0 min)\n",
            "Extracting data from /root/nilearn_data/cobre/4c7d2fca87218d8466eecbacf3eab588/fmri_0040053.tsv.gz..... done.\n"
          ]
        },
        {
          "output_type": "stream",
          "name": "stdout",
          "text": [
            "Downloading data from https://ndownloader.figshare.com/files/6848586 ...\n"
          ]
        },
        {
          "output_type": "stream",
          "name": "stderr",
          "text": [
            " ...done. (2 seconds, 0 min)\n"
          ]
        },
        {
          "output_type": "stream",
          "name": "stdout",
          "text": [
            "Downloading data from https://ndownloader.figshare.com/files/6848589 ...\n"
          ]
        },
        {
          "output_type": "stream",
          "name": "stderr",
          "text": [
            " ...done. (0 seconds, 0 min)\n",
            "Extracting data from /root/nilearn_data/cobre/7c77d9be9410f1827a5bfd2a9d55f421/fmri_0040068.tsv.gz..... done.\n"
          ]
        },
        {
          "output_type": "stream",
          "name": "stdout",
          "text": [
            "Downloading data from https://ndownloader.figshare.com/files/6848712 ...\n"
          ]
        },
        {
          "output_type": "stream",
          "name": "stderr",
          "text": [
            " ...done. (2 seconds, 0 min)\n"
          ]
        },
        {
          "output_type": "stream",
          "name": "stdout",
          "text": [
            "Downloading data from https://ndownloader.figshare.com/files/6848715 ...\n"
          ]
        },
        {
          "output_type": "stream",
          "name": "stderr",
          "text": [
            " ...done. (0 seconds, 0 min)\n",
            "Extracting data from /root/nilearn_data/cobre/aea7a57b01069fb5564e61dc1f42530c/fmri_0040091.tsv.gz..... done.\n"
          ]
        },
        {
          "output_type": "stream",
          "name": "stdout",
          "text": [
            "Downloading data from https://ndownloader.figshare.com/files/6848976 ...\n"
          ]
        },
        {
          "output_type": "stream",
          "name": "stderr",
          "text": [
            " ...done. (2 seconds, 0 min)\n"
          ]
        },
        {
          "output_type": "stream",
          "name": "stdout",
          "text": [
            "Downloading data from https://ndownloader.figshare.com/files/6848979 ...\n"
          ]
        },
        {
          "output_type": "stream",
          "name": "stderr",
          "text": [
            " ...done. (0 seconds, 0 min)\n",
            "Extracting data from /root/nilearn_data/cobre/98a2d5d55994201cf5ca899f41edb483/fmri_0040135.tsv.gz..... done.\n"
          ]
        },
        {
          "output_type": "stream",
          "name": "stdout",
          "text": [
            "Downloading data from https://ndownloader.figshare.com/files/6848724 ...\n"
          ]
        },
        {
          "output_type": "stream",
          "name": "stderr",
          "text": [
            " ...done. (2 seconds, 0 min)\n"
          ]
        },
        {
          "output_type": "stream",
          "name": "stdout",
          "text": [
            "Downloading data from https://ndownloader.figshare.com/files/6848727 ...\n"
          ]
        },
        {
          "output_type": "stream",
          "name": "stderr",
          "text": [
            " ...done. (0 seconds, 0 min)\n",
            "Extracting data from /root/nilearn_data/cobre/8ac369f55252247ed042bfbdbdaf8832/fmri_0040093.tsv.gz..... done.\n"
          ]
        },
        {
          "output_type": "stream",
          "name": "stdout",
          "text": [
            "Downloading data from https://ndownloader.figshare.com/files/6848394 ...\n"
          ]
        },
        {
          "output_type": "stream",
          "name": "stderr",
          "text": [
            " ...done. (2 seconds, 0 min)\n"
          ]
        },
        {
          "output_type": "stream",
          "name": "stdout",
          "text": [
            "Downloading data from https://ndownloader.figshare.com/files/6848397 ...\n"
          ]
        },
        {
          "output_type": "stream",
          "name": "stderr",
          "text": [
            " ...done. (0 seconds, 0 min)\n",
            "Extracting data from /root/nilearn_data/cobre/d22a0250adab29b895fcd9e986961ac6/fmri_0040036.tsv.gz..... done.\n"
          ]
        },
        {
          "output_type": "stream",
          "name": "stdout",
          "text": [
            "Downloading data from https://ndownloader.figshare.com/files/6848790 ...\n"
          ]
        },
        {
          "output_type": "stream",
          "name": "stderr",
          "text": [
            " ...done. (2 seconds, 0 min)\n"
          ]
        },
        {
          "output_type": "stream",
          "name": "stdout",
          "text": [
            "Downloading data from https://ndownloader.figshare.com/files/6848793 ...\n"
          ]
        },
        {
          "output_type": "stream",
          "name": "stderr",
          "text": [
            " ...done. (0 seconds, 0 min)\n",
            "Extracting data from /root/nilearn_data/cobre/386c9d2e3df1d7f9be222929c539a85e/fmri_0040104.tsv.gz..... done.\n"
          ]
        },
        {
          "output_type": "stream",
          "name": "stdout",
          "text": [
            "Downloading data from https://ndownloader.figshare.com/files/6848886 ...\n"
          ]
        },
        {
          "output_type": "stream",
          "name": "stderr",
          "text": [
            " ...done. (2 seconds, 0 min)\n"
          ]
        },
        {
          "output_type": "stream",
          "name": "stdout",
          "text": [
            "Downloading data from https://ndownloader.figshare.com/files/6848889 ...\n"
          ]
        },
        {
          "output_type": "stream",
          "name": "stderr",
          "text": [
            " ...done. (0 seconds, 0 min)\n",
            "Extracting data from /root/nilearn_data/cobre/5dc5e3b270269cba3966fa31588b7257/fmri_0040120.tsv.gz..... done.\n"
          ]
        },
        {
          "output_type": "stream",
          "name": "stdout",
          "text": [
            "Downloading data from https://ndownloader.figshare.com/files/6848928 ...\n"
          ]
        },
        {
          "output_type": "stream",
          "name": "stderr",
          "text": [
            " ...done. (2 seconds, 0 min)\n"
          ]
        },
        {
          "output_type": "stream",
          "name": "stdout",
          "text": [
            "Downloading data from https://ndownloader.figshare.com/files/6848931 ...\n"
          ]
        },
        {
          "output_type": "stream",
          "name": "stderr",
          "text": [
            " ...done. (0 seconds, 0 min)\n",
            "Extracting data from /root/nilearn_data/cobre/b316555cbb1737d7e894b988e9780e64/fmri_0040127.tsv.gz..... done.\n"
          ]
        },
        {
          "output_type": "stream",
          "name": "stdout",
          "text": [
            "Downloading data from https://ndownloader.figshare.com/files/6848514 ...\n"
          ]
        },
        {
          "output_type": "stream",
          "name": "stderr",
          "text": [
            " ...done. (1 seconds, 0 min)\n"
          ]
        },
        {
          "output_type": "stream",
          "name": "stdout",
          "text": [
            "Downloading data from https://ndownloader.figshare.com/files/6848517 ...\n"
          ]
        },
        {
          "output_type": "stream",
          "name": "stderr",
          "text": [
            " ...done. (0 seconds, 0 min)\n",
            "Extracting data from /root/nilearn_data/cobre/b54127146bebc0a1577663db77da54e7/fmri_0040056.tsv.gz..... done.\n"
          ]
        },
        {
          "output_type": "stream",
          "name": "stdout",
          "text": [
            "Downloading data from https://ndownloader.figshare.com/files/6848526 ...\n"
          ]
        },
        {
          "output_type": "stream",
          "name": "stderr",
          "text": [
            " ...done. (2 seconds, 0 min)\n"
          ]
        },
        {
          "output_type": "stream",
          "name": "stdout",
          "text": [
            "Downloading data from https://ndownloader.figshare.com/files/6848529 ...\n"
          ]
        },
        {
          "output_type": "stream",
          "name": "stderr",
          "text": [
            " ...done. (0 seconds, 0 min)\n",
            "Extracting data from /root/nilearn_data/cobre/d266bff0ab2e5630aa19b5281c47dcc2/fmri_0040058.tsv.gz..... done.\n"
          ]
        },
        {
          "output_type": "stream",
          "name": "stdout",
          "text": [
            "Downloading data from https://ndownloader.figshare.com/files/6848688 ...\n"
          ]
        },
        {
          "output_type": "stream",
          "name": "stderr",
          "text": [
            " ...done. (2 seconds, 0 min)\n"
          ]
        },
        {
          "output_type": "stream",
          "name": "stdout",
          "text": [
            "Downloading data from https://ndownloader.figshare.com/files/6848691 ...\n"
          ]
        },
        {
          "output_type": "stream",
          "name": "stderr",
          "text": [
            " ...done. (0 seconds, 0 min)\n",
            "Extracting data from /root/nilearn_data/cobre/dc0b143affa421c69fedc2926b7eeca9/fmri_0040087.tsv.gz..... done.\n"
          ]
        },
        {
          "output_type": "stream",
          "name": "stdout",
          "text": [
            "Downloading data from https://ndownloader.figshare.com/files/6848856 ...\n"
          ]
        },
        {
          "output_type": "stream",
          "name": "stderr",
          "text": [
            " ...done. (2 seconds, 0 min)\n"
          ]
        },
        {
          "output_type": "stream",
          "name": "stdout",
          "text": [
            "Downloading data from https://ndownloader.figshare.com/files/6848859 ...\n"
          ]
        },
        {
          "output_type": "stream",
          "name": "stderr",
          "text": [
            " ...done. (0 seconds, 0 min)\n",
            "Extracting data from /root/nilearn_data/cobre/5a9e6ef1c95ae6b0568f859a5cf27ec9/fmri_0040115.tsv.gz..... done.\n"
          ]
        },
        {
          "output_type": "stream",
          "name": "stdout",
          "text": [
            "Downloading data from https://ndownloader.figshare.com/files/6848994 ...\n"
          ]
        },
        {
          "output_type": "stream",
          "name": "stderr",
          "text": [
            " ...done. (2 seconds, 0 min)\n"
          ]
        },
        {
          "output_type": "stream",
          "name": "stdout",
          "text": [
            "Downloading data from https://ndownloader.figshare.com/files/6848997 ...\n"
          ]
        },
        {
          "output_type": "stream",
          "name": "stderr",
          "text": [
            " ...done. (0 seconds, 0 min)\n",
            "Extracting data from /root/nilearn_data/cobre/b82db541e4f9a5e408d9ad43343175de/fmri_0040138.tsv.gz..... done.\n"
          ]
        },
        {
          "output_type": "stream",
          "name": "stdout",
          "text": [
            "Downloading data from https://ndownloader.figshare.com/files/6849000 ...\n"
          ]
        },
        {
          "output_type": "stream",
          "name": "stderr",
          "text": [
            " ...done. (1 seconds, 0 min)\n"
          ]
        },
        {
          "output_type": "stream",
          "name": "stdout",
          "text": [
            "Downloading data from https://ndownloader.figshare.com/files/6849003 ...\n"
          ]
        },
        {
          "output_type": "stream",
          "name": "stderr",
          "text": [
            " ...done. (0 seconds, 0 min)\n",
            "Extracting data from /root/nilearn_data/cobre/add86cccd2ec37880b3e555251501f43/fmri_0040139.tsv.gz..... done.\n"
          ]
        },
        {
          "output_type": "stream",
          "name": "stdout",
          "text": [
            "Downloading data from https://ndownloader.figshare.com/files/6848280 ...\n"
          ]
        },
        {
          "output_type": "stream",
          "name": "stderr",
          "text": [
            " ...done. (1 seconds, 0 min)\n"
          ]
        },
        {
          "output_type": "stream",
          "name": "stdout",
          "text": [
            "Downloading data from https://ndownloader.figshare.com/files/6848283 ...\n"
          ]
        },
        {
          "output_type": "stream",
          "name": "stderr",
          "text": [
            " ...done. (0 seconds, 0 min)\n",
            "Extracting data from /root/nilearn_data/cobre/b70d55395685d07aa8fdffc94edc71da/fmri_0040017.tsv.gz..... done.\n"
          ]
        },
        {
          "output_type": "stream",
          "name": "stdout",
          "text": [
            "Downloading data from https://ndownloader.figshare.com/files/6848388 ...\n"
          ]
        },
        {
          "output_type": "stream",
          "name": "stderr",
          "text": [
            " ...done. (2 seconds, 0 min)\n"
          ]
        },
        {
          "output_type": "stream",
          "name": "stdout",
          "text": [
            "Downloading data from https://ndownloader.figshare.com/files/6848391 ...\n"
          ]
        },
        {
          "output_type": "stream",
          "name": "stderr",
          "text": [
            " ...done. (0 seconds, 0 min)\n",
            "Extracting data from /root/nilearn_data/cobre/353ecb8a3fa22bfea3957c8bc90a8290/fmri_0040035.tsv.gz..... done.\n"
          ]
        },
        {
          "output_type": "stream",
          "name": "stdout",
          "text": [
            "Downloading data from https://ndownloader.figshare.com/files/6848448 ...\n"
          ]
        },
        {
          "output_type": "stream",
          "name": "stderr",
          "text": [
            " ...done. (2 seconds, 0 min)\n"
          ]
        },
        {
          "output_type": "stream",
          "name": "stdout",
          "text": [
            "Downloading data from https://ndownloader.figshare.com/files/6848451 ...\n"
          ]
        },
        {
          "output_type": "stream",
          "name": "stderr",
          "text": [
            " ...done. (0 seconds, 0 min)\n",
            "Extracting data from /root/nilearn_data/cobre/32b47fdf5040a6cf341e306058d1d040/fmri_0040045.tsv.gz..... done.\n"
          ]
        },
        {
          "output_type": "stream",
          "name": "stdout",
          "text": [
            "Downloading data from https://ndownloader.figshare.com/files/6848508 ...\n"
          ]
        },
        {
          "output_type": "stream",
          "name": "stderr",
          "text": [
            " ...done. (2 seconds, 0 min)\n"
          ]
        },
        {
          "output_type": "stream",
          "name": "stdout",
          "text": [
            "Downloading data from https://ndownloader.figshare.com/files/6848511 ...\n"
          ]
        },
        {
          "output_type": "stream",
          "name": "stderr",
          "text": [
            " ...done. (0 seconds, 0 min)\n",
            "Extracting data from /root/nilearn_data/cobre/e5dc1faa428abfd54acfffa1c1091732/fmri_0040055.tsv.gz..... done.\n"
          ]
        },
        {
          "output_type": "stream",
          "name": "stdout",
          "text": [
            "Downloading data from https://ndownloader.figshare.com/files/6848262 ...\n"
          ]
        },
        {
          "output_type": "stream",
          "name": "stderr",
          "text": [
            " ...done. (2 seconds, 0 min)\n"
          ]
        },
        {
          "output_type": "stream",
          "name": "stdout",
          "text": [
            "Downloading data from https://ndownloader.figshare.com/files/6848265 ...\n"
          ]
        },
        {
          "output_type": "stream",
          "name": "stderr",
          "text": [
            " ...done. (0 seconds, 0 min)\n",
            "Extracting data from /root/nilearn_data/cobre/0b613ec379333f48f6d60632e7fe449e/fmri_0040014.tsv.gz..... done.\n"
          ]
        },
        {
          "output_type": "stream",
          "name": "stdout",
          "text": [
            "Downloading data from https://ndownloader.figshare.com/files/6848376 ...\n"
          ]
        },
        {
          "output_type": "stream",
          "name": "stderr",
          "text": [
            " ...done. (2 seconds, 0 min)\n"
          ]
        },
        {
          "output_type": "stream",
          "name": "stdout",
          "text": [
            "Downloading data from https://ndownloader.figshare.com/files/6848379 ...\n"
          ]
        },
        {
          "output_type": "stream",
          "name": "stderr",
          "text": [
            " ...done. (0 seconds, 0 min)\n",
            "Extracting data from /root/nilearn_data/cobre/f16c0a0e779562038bc1d80a48174aa6/fmri_0040033.tsv.gz..... done.\n"
          ]
        },
        {
          "output_type": "stream",
          "name": "stdout",
          "text": [
            "Downloading data from https://ndownloader.figshare.com/files/6848466 ...\n"
          ]
        },
        {
          "output_type": "stream",
          "name": "stderr",
          "text": [
            " ...done. (1 seconds, 0 min)\n"
          ]
        },
        {
          "output_type": "stream",
          "name": "stdout",
          "text": [
            "Downloading data from https://ndownloader.figshare.com/files/6848469 ...\n"
          ]
        },
        {
          "output_type": "stream",
          "name": "stderr",
          "text": [
            " ...done. (0 seconds, 0 min)\n",
            "Extracting data from /root/nilearn_data/cobre/f1cf4fc950e390b644c4756f1d7571ed/fmri_0040048.tsv.gz..... done.\n"
          ]
        },
        {
          "output_type": "stream",
          "name": "stdout",
          "text": [
            "Downloading data from https://ndownloader.figshare.com/files/6848580 ...\n"
          ]
        },
        {
          "output_type": "stream",
          "name": "stderr",
          "text": [
            " ...done. (2 seconds, 0 min)\n"
          ]
        },
        {
          "output_type": "stream",
          "name": "stdout",
          "text": [
            "Downloading data from https://ndownloader.figshare.com/files/6848583 ...\n"
          ]
        },
        {
          "output_type": "stream",
          "name": "stderr",
          "text": [
            " ...done. (0 seconds, 0 min)\n",
            "Extracting data from /root/nilearn_data/cobre/0a13ad695794bd882eb610537ed8834c/fmri_0040067.tsv.gz..... done.\n"
          ]
        },
        {
          "output_type": "stream",
          "name": "stdout",
          "text": [
            "Downloading data from https://ndownloader.figshare.com/files/6848808 ...\n"
          ]
        },
        {
          "output_type": "stream",
          "name": "stderr",
          "text": [
            " ...done. (2 seconds, 0 min)\n"
          ]
        },
        {
          "output_type": "stream",
          "name": "stdout",
          "text": [
            "Downloading data from https://ndownloader.figshare.com/files/6848811 ...\n"
          ]
        },
        {
          "output_type": "stream",
          "name": "stderr",
          "text": [
            " ...done. (0 seconds, 0 min)\n",
            "Extracting data from /root/nilearn_data/cobre/51cf21fec93eda9d261ba6e60772b3b3/fmri_0040107.tsv.gz..... done.\n"
          ]
        },
        {
          "output_type": "stream",
          "name": "stdout",
          "text": [
            "Downloading data from https://ndownloader.figshare.com/files/6848256 ...\n"
          ]
        },
        {
          "output_type": "stream",
          "name": "stderr",
          "text": [
            " ...done. (1 seconds, 0 min)\n"
          ]
        },
        {
          "output_type": "stream",
          "name": "stdout",
          "text": [
            "Downloading data from https://ndownloader.figshare.com/files/6848259 ...\n"
          ]
        },
        {
          "output_type": "stream",
          "name": "stderr",
          "text": [
            " ...done. (0 seconds, 0 min)\n",
            "Extracting data from /root/nilearn_data/cobre/1fb653a5f34e2668fc3f6b7f9a0e7fdf/fmri_0040013.tsv.gz..... done.\n"
          ]
        },
        {
          "output_type": "stream",
          "name": "stdout",
          "text": [
            "Downloading data from https://ndownloader.figshare.com/files/6848616 ...\n"
          ]
        },
        {
          "output_type": "stream",
          "name": "stderr",
          "text": [
            " ...done. (2 seconds, 0 min)\n"
          ]
        },
        {
          "output_type": "stream",
          "name": "stdout",
          "text": [
            "Downloading data from https://ndownloader.figshare.com/files/6848619 ...\n"
          ]
        },
        {
          "output_type": "stream",
          "name": "stderr",
          "text": [
            " ...done. (0 seconds, 0 min)\n",
            "Extracting data from /root/nilearn_data/cobre/3458e174c96ff3708392fa25271e0a42/fmri_0040074.tsv.gz..... done.\n"
          ]
        },
        {
          "output_type": "stream",
          "name": "stdout",
          "text": [
            "Downloading data from https://ndownloader.figshare.com/files/6848874 ...\n"
          ]
        },
        {
          "output_type": "stream",
          "name": "stderr",
          "text": [
            " ...done. (2 seconds, 0 min)\n"
          ]
        },
        {
          "output_type": "stream",
          "name": "stdout",
          "text": [
            "Downloading data from https://ndownloader.figshare.com/files/6848877 ...\n"
          ]
        },
        {
          "output_type": "stream",
          "name": "stderr",
          "text": [
            " ...done. (0 seconds, 0 min)\n",
            "Extracting data from /root/nilearn_data/cobre/fd51da8a572a93da7d704e4e6d8380de/fmri_0040118.tsv.gz..... done.\n"
          ]
        },
        {
          "output_type": "stream",
          "name": "stdout",
          "text": [
            "Downloading data from https://ndownloader.figshare.com/files/6849048 ...\n"
          ]
        },
        {
          "output_type": "stream",
          "name": "stderr",
          "text": [
            " ...done. (2 seconds, 0 min)\n"
          ]
        },
        {
          "output_type": "stream",
          "name": "stdout",
          "text": [
            "Downloading data from https://ndownloader.figshare.com/files/6849051 ...\n"
          ]
        },
        {
          "output_type": "stream",
          "name": "stderr",
          "text": [
            " ...done. (0 seconds, 0 min)\n",
            "Extracting data from /root/nilearn_data/cobre/fc6b1216887a29eac3e7628292ff1923/fmri_0040147.tsv.gz..... done.\n"
          ]
        },
        {
          "output_type": "stream",
          "name": "stdout",
          "text": [
            "Downloading data from https://ndownloader.figshare.com/files/6848910 ...\n"
          ]
        },
        {
          "output_type": "stream",
          "name": "stderr",
          "text": [
            " ...done. (2 seconds, 0 min)\n"
          ]
        },
        {
          "output_type": "stream",
          "name": "stdout",
          "text": [
            "Downloading data from https://ndownloader.figshare.com/files/6848913 ...\n"
          ]
        },
        {
          "output_type": "stream",
          "name": "stderr",
          "text": [
            " ...done. (0 seconds, 0 min)\n",
            "Extracting data from /root/nilearn_data/cobre/2219daeb72e9bcf0927820da7526c1d5/fmri_0040124.tsv.gz..... done.\n"
          ]
        },
        {
          "output_type": "stream",
          "name": "stdout",
          "text": [
            "Downloading data from https://ndownloader.figshare.com/files/6849012 ...\n"
          ]
        },
        {
          "output_type": "stream",
          "name": "stderr",
          "text": [
            " ...done. (2 seconds, 0 min)\n"
          ]
        },
        {
          "output_type": "stream",
          "name": "stdout",
          "text": [
            "Downloading data from https://ndownloader.figshare.com/files/6849015 ...\n"
          ]
        },
        {
          "output_type": "stream",
          "name": "stderr",
          "text": [
            " ...done. (0 seconds, 0 min)\n",
            "Extracting data from /root/nilearn_data/cobre/3051fbde06e5148f55676302829cf31d/fmri_0040141.tsv.gz..... done.\n"
          ]
        },
        {
          "output_type": "stream",
          "name": "stdout",
          "text": [
            "Downloading data from https://ndownloader.figshare.com/files/6848478 ...\n"
          ]
        },
        {
          "output_type": "stream",
          "name": "stderr",
          "text": [
            " ...done. (2 seconds, 0 min)\n"
          ]
        },
        {
          "output_type": "stream",
          "name": "stdout",
          "text": [
            "Downloading data from https://ndownloader.figshare.com/files/6848481 ...\n"
          ]
        },
        {
          "output_type": "stream",
          "name": "stderr",
          "text": [
            " ...done. (0 seconds, 0 min)\n",
            "Extracting data from /root/nilearn_data/cobre/7bdf63b853c93eaf64b8f09aa60f673d/fmri_0040050.tsv.gz..... done.\n"
          ]
        },
        {
          "output_type": "stream",
          "name": "stdout",
          "text": [
            "Downloading data from https://ndownloader.figshare.com/files/6848520 ...\n"
          ]
        },
        {
          "output_type": "stream",
          "name": "stderr",
          "text": [
            " ...done. (1 seconds, 0 min)\n"
          ]
        },
        {
          "output_type": "stream",
          "name": "stdout",
          "text": [
            "Downloading data from https://ndownloader.figshare.com/files/6848523 ...\n"
          ]
        },
        {
          "output_type": "stream",
          "name": "stderr",
          "text": [
            " ...done. (0 seconds, 0 min)\n",
            "Extracting data from /root/nilearn_data/cobre/3e28795f5120be4512aa09e6a7cb98f3/fmri_0040057.tsv.gz..... done.\n"
          ]
        },
        {
          "output_type": "stream",
          "name": "stdout",
          "text": [
            "Downloading data from https://ndownloader.figshare.com/files/6848556 ...\n"
          ]
        },
        {
          "output_type": "stream",
          "name": "stderr",
          "text": [
            " ...done. (2 seconds, 0 min)\n"
          ]
        },
        {
          "output_type": "stream",
          "name": "stdout",
          "text": [
            "Downloading data from https://ndownloader.figshare.com/files/6848559 ...\n"
          ]
        },
        {
          "output_type": "stream",
          "name": "stderr",
          "text": [
            " ...done. (0 seconds, 0 min)\n",
            "Extracting data from /root/nilearn_data/cobre/05458d776a3c6f8fbcfd8bae19ce6ce8/fmri_0040063.tsv.gz..... done.\n"
          ]
        },
        {
          "output_type": "stream",
          "name": "stdout",
          "text": [
            "Downloading data from https://ndownloader.figshare.com/files/6848436 ...\n"
          ]
        },
        {
          "output_type": "stream",
          "name": "stderr",
          "text": [
            " ...done. (2 seconds, 0 min)\n"
          ]
        },
        {
          "output_type": "stream",
          "name": "stdout",
          "text": [
            "Downloading data from https://ndownloader.figshare.com/files/6848439 ...\n"
          ]
        },
        {
          "output_type": "stream",
          "name": "stderr",
          "text": [
            " ...done. (0 seconds, 0 min)\n",
            "Extracting data from /root/nilearn_data/cobre/96489eca6fef4a2ed308a6e7b16c04bb/fmri_0040043.tsv.gz..... done.\n"
          ]
        },
        {
          "output_type": "stream",
          "name": "stdout",
          "text": [
            "Downloading data from https://ndownloader.figshare.com/files/6848982 ...\n"
          ]
        },
        {
          "output_type": "stream",
          "name": "stderr",
          "text": [
            " ...done. (2 seconds, 0 min)\n"
          ]
        },
        {
          "output_type": "stream",
          "name": "stdout",
          "text": [
            "Downloading data from https://ndownloader.figshare.com/files/6848985 ...\n"
          ]
        },
        {
          "output_type": "stream",
          "name": "stderr",
          "text": [
            " ...done. (0 seconds, 0 min)\n",
            "Extracting data from /root/nilearn_data/cobre/d7267ae2d66935a22adc343a26562d59/fmri_0040136.tsv.gz..... done.\n"
          ]
        },
        {
          "output_type": "stream",
          "name": "stdout",
          "text": [
            "Downloading data from https://ndownloader.figshare.com/files/6849042 ...\n"
          ]
        },
        {
          "output_type": "stream",
          "name": "stderr",
          "text": [
            " ...done. (2 seconds, 0 min)\n"
          ]
        },
        {
          "output_type": "stream",
          "name": "stdout",
          "text": [
            "Downloading data from https://ndownloader.figshare.com/files/6849045 ...\n"
          ]
        },
        {
          "output_type": "stream",
          "name": "stderr",
          "text": [
            " ...done. (0 seconds, 0 min)\n",
            "Extracting data from /root/nilearn_data/cobre/3281888247af6caa04615124e14c654e/fmri_0040146.tsv.gz..... done.\n"
          ]
        },
        {
          "output_type": "stream",
          "name": "stdout",
          "text": [
            "Downloading data from https://ndownloader.figshare.com/files/6848736 ...\n"
          ]
        },
        {
          "output_type": "stream",
          "name": "stderr",
          "text": [
            " ...done. (2 seconds, 0 min)\n"
          ]
        },
        {
          "output_type": "stream",
          "name": "stdout",
          "text": [
            "Downloading data from https://ndownloader.figshare.com/files/6848739 ...\n"
          ]
        },
        {
          "output_type": "stream",
          "name": "stderr",
          "text": [
            " ...done. (0 seconds, 0 min)\n",
            "Extracting data from /root/nilearn_data/cobre/a4080a2306a6a90fceda43ba1e3e9a53/fmri_0040095.tsv.gz..... done.\n"
          ]
        },
        {
          "output_type": "stream",
          "name": "stdout",
          "text": [
            "Downloading data from https://ndownloader.figshare.com/files/6848778 ...\n"
          ]
        },
        {
          "output_type": "stream",
          "name": "stderr",
          "text": [
            " ...done. (2 seconds, 0 min)\n"
          ]
        },
        {
          "output_type": "stream",
          "name": "stdout",
          "text": [
            "Downloading data from https://ndownloader.figshare.com/files/6848781 ...\n"
          ]
        },
        {
          "output_type": "stream",
          "name": "stderr",
          "text": [
            " ...done. (0 seconds, 0 min)\n",
            "Extracting data from /root/nilearn_data/cobre/1a9608467cb5e039612d04d3a262a8da/fmri_0040102.tsv.gz..... done.\n"
          ]
        },
        {
          "output_type": "stream",
          "name": "stdout",
          "text": [
            "Downloading data from https://ndownloader.figshare.com/files/6848322 ...\n"
          ]
        },
        {
          "output_type": "stream",
          "name": "stderr",
          "text": [
            " ...done. (2 seconds, 0 min)\n"
          ]
        },
        {
          "output_type": "stream",
          "name": "stdout",
          "text": [
            "Downloading data from https://ndownloader.figshare.com/files/6848325 ...\n"
          ]
        },
        {
          "output_type": "stream",
          "name": "stderr",
          "text": [
            " ...done. (0 seconds, 0 min)\n",
            "Extracting data from /root/nilearn_data/cobre/4de055e8bb1c5c1bdc4c3354f4776db5/fmri_0040024.tsv.gz..... done.\n"
          ]
        },
        {
          "output_type": "stream",
          "name": "stdout",
          "text": [
            "Downloading data from https://ndownloader.figshare.com/files/6848970 ...\n"
          ]
        },
        {
          "output_type": "stream",
          "name": "stderr",
          "text": [
            " ...done. (1 seconds, 0 min)\n"
          ]
        },
        {
          "output_type": "stream",
          "name": "stdout",
          "text": [
            "Downloading data from https://ndownloader.figshare.com/files/6848973 ...\n"
          ]
        },
        {
          "output_type": "stream",
          "name": "stderr",
          "text": [
            " ...done. (0 seconds, 0 min)\n",
            "Extracting data from /root/nilearn_data/cobre/ab2a9793115c71d7ce094faac266ed93/fmri_0040134.tsv.gz..... done.\n"
          ]
        },
        {
          "output_type": "stream",
          "name": "stdout",
          "text": [
            "Downloading data from https://ndownloader.figshare.com/files/6848358 ...\n"
          ]
        },
        {
          "output_type": "stream",
          "name": "stderr",
          "text": [
            " ...done. (2 seconds, 0 min)\n"
          ]
        },
        {
          "output_type": "stream",
          "name": "stdout",
          "text": [
            "Downloading data from https://ndownloader.figshare.com/files/6848361 ...\n"
          ]
        },
        {
          "output_type": "stream",
          "name": "stderr",
          "text": [
            " ...done. (0 seconds, 0 min)\n",
            "Extracting data from /root/nilearn_data/cobre/76454a9c807ed8aaa0ea18e4e0d58e0d/fmri_0040030.tsv.gz..... done.\n"
          ]
        },
        {
          "output_type": "stream",
          "name": "stdout",
          "text": [
            "Downloading data from https://ndownloader.figshare.com/files/6848364 ...\n"
          ]
        },
        {
          "output_type": "stream",
          "name": "stderr",
          "text": [
            " ...done. (2 seconds, 0 min)\n"
          ]
        },
        {
          "output_type": "stream",
          "name": "stdout",
          "text": [
            "Downloading data from https://ndownloader.figshare.com/files/6848367 ...\n"
          ]
        },
        {
          "output_type": "stream",
          "name": "stderr",
          "text": [
            " ...done. (0 seconds, 0 min)\n",
            "Extracting data from /root/nilearn_data/cobre/7802b7540d4af1f2c38f670d851ac6bf/fmri_0040031.tsv.gz..... done.\n"
          ]
        },
        {
          "output_type": "stream",
          "name": "stdout",
          "text": [
            "Downloading data from https://ndownloader.figshare.com/files/6848292 ...\n"
          ]
        },
        {
          "output_type": "stream",
          "name": "stderr",
          "text": [
            " ...done. (2 seconds, 0 min)\n"
          ]
        },
        {
          "output_type": "stream",
          "name": "stdout",
          "text": [
            "Downloading data from https://ndownloader.figshare.com/files/6848295 ...\n"
          ]
        },
        {
          "output_type": "stream",
          "name": "stderr",
          "text": [
            " ...done. (0 seconds, 0 min)\n",
            "Extracting data from /root/nilearn_data/cobre/b8086ca73891f2a3c7860a151bf7fc6d/fmri_0040019.tsv.gz..... done.\n"
          ]
        },
        {
          "output_type": "stream",
          "name": "stdout",
          "text": [
            "Downloading data from https://ndownloader.figshare.com/files/6848334 ...\n"
          ]
        },
        {
          "output_type": "stream",
          "name": "stderr",
          "text": [
            " ...done. (2 seconds, 0 min)\n"
          ]
        },
        {
          "output_type": "stream",
          "name": "stdout",
          "text": [
            "Downloading data from https://ndownloader.figshare.com/files/6848337 ...\n"
          ]
        },
        {
          "output_type": "stream",
          "name": "stderr",
          "text": [
            " ...done. (0 seconds, 0 min)\n",
            "Extracting data from /root/nilearn_data/cobre/5595cf821720fd513e28f773a0326b81/fmri_0040026.tsv.gz..... done.\n"
          ]
        },
        {
          "output_type": "stream",
          "name": "stdout",
          "text": [
            "Downloading data from https://ndownloader.figshare.com/files/6848880 ...\n"
          ]
        },
        {
          "output_type": "stream",
          "name": "stderr",
          "text": [
            " ...done. (2 seconds, 0 min)\n"
          ]
        },
        {
          "output_type": "stream",
          "name": "stdout",
          "text": [
            "Downloading data from https://ndownloader.figshare.com/files/6848883 ...\n"
          ]
        },
        {
          "output_type": "stream",
          "name": "stderr",
          "text": [
            " ...done. (0 seconds, 0 min)\n",
            "Extracting data from /root/nilearn_data/cobre/65680433eec49f74a40b9c90b635a886/fmri_0040119.tsv.gz..... done.\n"
          ]
        },
        {
          "output_type": "stream",
          "name": "stdout",
          "text": [
            "Downloading data from https://ndownloader.figshare.com/files/6848286 ...\n"
          ]
        },
        {
          "output_type": "stream",
          "name": "stderr",
          "text": [
            " ...done. (2 seconds, 0 min)\n"
          ]
        },
        {
          "output_type": "stream",
          "name": "stdout",
          "text": [
            "Downloading data from https://ndownloader.figshare.com/files/6848289 ...\n"
          ]
        },
        {
          "output_type": "stream",
          "name": "stderr",
          "text": [
            " ...done. (0 seconds, 0 min)\n",
            "Extracting data from /root/nilearn_data/cobre/15fa0b569d31f9615f4d6cae22c52117/fmri_0040018.tsv.gz..... done.\n"
          ]
        },
        {
          "output_type": "stream",
          "name": "stdout",
          "text": [
            "Downloading data from https://ndownloader.figshare.com/files/6848862 ...\n"
          ]
        },
        {
          "output_type": "stream",
          "name": "stderr",
          "text": [
            " ...done. (2 seconds, 0 min)\n"
          ]
        },
        {
          "output_type": "stream",
          "name": "stdout",
          "text": [
            "Downloading data from https://ndownloader.figshare.com/files/6848865 ...\n"
          ]
        },
        {
          "output_type": "stream",
          "name": "stderr",
          "text": [
            " ...done. (0 seconds, 0 min)\n",
            "Extracting data from /root/nilearn_data/cobre/3f32a4ac9d612349bbbb73c3ee75c107/fmri_0040116.tsv.gz..... done.\n"
          ]
        },
        {
          "output_type": "stream",
          "name": "stdout",
          "text": [
            "Downloading data from https://ndownloader.figshare.com/files/6848946 ...\n"
          ]
        },
        {
          "output_type": "stream",
          "name": "stderr",
          "text": [
            " ...done. (2 seconds, 0 min)\n"
          ]
        },
        {
          "output_type": "stream",
          "name": "stdout",
          "text": [
            "Downloading data from https://ndownloader.figshare.com/files/6848949 ...\n"
          ]
        },
        {
          "output_type": "stream",
          "name": "stderr",
          "text": [
            " ...done. (0 seconds, 0 min)\n",
            "Extracting data from /root/nilearn_data/cobre/c9bee9f65ea2449097832fcf5a19bb97/fmri_0040130.tsv.gz..... done.\n"
          ]
        },
        {
          "output_type": "stream",
          "name": "stdout",
          "text": [
            "Downloading data from https://ndownloader.figshare.com/files/6848952 ...\n"
          ]
        },
        {
          "output_type": "stream",
          "name": "stderr",
          "text": [
            " ...done. (2 seconds, 0 min)\n"
          ]
        },
        {
          "output_type": "stream",
          "name": "stdout",
          "text": [
            "Downloading data from https://ndownloader.figshare.com/files/6848955 ...\n"
          ]
        },
        {
          "output_type": "stream",
          "name": "stderr",
          "text": [
            " ...done. (0 seconds, 0 min)\n",
            "Extracting data from /root/nilearn_data/cobre/684382e28c0fbbe89d31718317e2734b/fmri_0040131.tsv.gz..... done.\n"
          ]
        },
        {
          "output_type": "stream",
          "name": "stdout",
          "text": [
            "Downloading data from https://ndownloader.figshare.com/files/6848316 ...\n"
          ]
        },
        {
          "output_type": "stream",
          "name": "stderr",
          "text": [
            " ...done. (2 seconds, 0 min)\n"
          ]
        },
        {
          "output_type": "stream",
          "name": "stdout",
          "text": [
            "Downloading data from https://ndownloader.figshare.com/files/6848319 ...\n"
          ]
        },
        {
          "output_type": "stream",
          "name": "stderr",
          "text": [
            " ...done. (0 seconds, 0 min)\n",
            "Extracting data from /root/nilearn_data/cobre/ac1cdf7fb3b9387d25a908df52ad1d66/fmri_0040023.tsv.gz..... done.\n"
          ]
        },
        {
          "output_type": "stream",
          "name": "stdout",
          "text": [
            "Downloading data from https://ndownloader.figshare.com/files/6848340 ...\n"
          ]
        },
        {
          "output_type": "stream",
          "name": "stderr",
          "text": [
            " ...done. (2 seconds, 0 min)\n"
          ]
        },
        {
          "output_type": "stream",
          "name": "stdout",
          "text": [
            "Downloading data from https://ndownloader.figshare.com/files/6848343 ...\n"
          ]
        },
        {
          "output_type": "stream",
          "name": "stderr",
          "text": [
            " ...done. (0 seconds, 0 min)\n",
            "Extracting data from /root/nilearn_data/cobre/5ef41fda8564bf964332d3bb5c6f178f/fmri_0040027.tsv.gz..... done.\n"
          ]
        },
        {
          "output_type": "stream",
          "name": "stdout",
          "text": [
            "Downloading data from https://ndownloader.figshare.com/files/6848904 ...\n"
          ]
        },
        {
          "output_type": "stream",
          "name": "stderr",
          "text": [
            " ...done. (2 seconds, 0 min)\n"
          ]
        },
        {
          "output_type": "stream",
          "name": "stdout",
          "text": [
            "Downloading data from https://ndownloader.figshare.com/files/6848907 ...\n"
          ]
        },
        {
          "output_type": "stream",
          "name": "stderr",
          "text": [
            " ...done. (0 seconds, 0 min)\n",
            "Extracting data from /root/nilearn_data/cobre/b7fc4019d9eabc78bb1a92a55f55d262/fmri_0040123.tsv.gz..... done.\n"
          ]
        },
        {
          "output_type": "stream",
          "name": "stdout",
          "text": [
            "Downloading data from https://ndownloader.figshare.com/files/6848916 ...\n"
          ]
        },
        {
          "output_type": "stream",
          "name": "stderr",
          "text": [
            " ...done. (2 seconds, 0 min)\n"
          ]
        },
        {
          "output_type": "stream",
          "name": "stdout",
          "text": [
            "Downloading data from https://ndownloader.figshare.com/files/6848919 ...\n"
          ]
        },
        {
          "output_type": "stream",
          "name": "stderr",
          "text": [
            " ...done. (0 seconds, 0 min)\n",
            "Extracting data from /root/nilearn_data/cobre/a3b4301367112991b3d6ef706de2a9ef/fmri_0040125.tsv.gz..... done.\n"
          ]
        },
        {
          "output_type": "stream",
          "name": "stdout",
          "text": [
            "Downloading data from https://ndownloader.figshare.com/files/6848550 ...\n"
          ]
        },
        {
          "output_type": "stream",
          "name": "stderr",
          "text": [
            " ...done. (2 seconds, 0 min)\n"
          ]
        },
        {
          "output_type": "stream",
          "name": "stdout",
          "text": [
            "Downloading data from https://ndownloader.figshare.com/files/6848553 ...\n"
          ]
        },
        {
          "output_type": "stream",
          "name": "stderr",
          "text": [
            " ...done. (0 seconds, 0 min)\n",
            "Extracting data from /root/nilearn_data/cobre/48cef84d830ccc4b708e606c20c56761/fmri_0040062.tsv.gz..... done.\n"
          ]
        },
        {
          "output_type": "stream",
          "name": "stdout",
          "text": [
            "Downloading data from https://ndownloader.figshare.com/files/6848502 ...\n"
          ]
        },
        {
          "output_type": "stream",
          "name": "stderr",
          "text": [
            " ...done. (2 seconds, 0 min)\n"
          ]
        },
        {
          "output_type": "stream",
          "name": "stdout",
          "text": [
            "Downloading data from https://ndownloader.figshare.com/files/6848505 ...\n"
          ]
        },
        {
          "output_type": "stream",
          "name": "stderr",
          "text": [
            " ...done. (0 seconds, 0 min)\n",
            "Extracting data from /root/nilearn_data/cobre/80fa1b55c99e04d0239326e471f79878/fmri_0040054.tsv.gz..... done.\n"
          ]
        },
        {
          "output_type": "stream",
          "name": "stdout",
          "text": [
            "Downloading data from https://ndownloader.figshare.com/files/6848628 ...\n"
          ]
        },
        {
          "output_type": "stream",
          "name": "stderr",
          "text": [
            " ...done. (1 seconds, 0 min)\n"
          ]
        },
        {
          "output_type": "stream",
          "name": "stdout",
          "text": [
            "Downloading data from https://ndownloader.figshare.com/files/6848631 ...\n"
          ]
        },
        {
          "output_type": "stream",
          "name": "stderr",
          "text": [
            " ...done. (0 seconds, 0 min)\n",
            "Extracting data from /root/nilearn_data/cobre/55a4b038c00fd66969b6200a66bdf8bc/fmri_0040076.tsv.gz..... done.\n"
          ]
        },
        {
          "output_type": "stream",
          "name": "stdout",
          "text": [
            "Downloading data from https://ndownloader.figshare.com/files/6848406 ...\n"
          ]
        },
        {
          "output_type": "stream",
          "name": "stderr",
          "text": [
            " ...done. (2 seconds, 0 min)\n"
          ]
        },
        {
          "output_type": "stream",
          "name": "stdout",
          "text": [
            "Downloading data from https://ndownloader.figshare.com/files/6848409 ...\n"
          ]
        },
        {
          "output_type": "stream",
          "name": "stderr",
          "text": [
            " ...done. (0 seconds, 0 min)\n",
            "Extracting data from /root/nilearn_data/cobre/872bb5f066fc85b420bd4ee19708cce2/fmri_0040038.tsv.gz..... done.\n"
          ]
        },
        {
          "output_type": "stream",
          "name": "stdout",
          "text": [
            "Downloading data from https://ndownloader.figshare.com/files/6849006 ...\n"
          ]
        },
        {
          "output_type": "stream",
          "name": "stderr",
          "text": [
            " ...done. (2 seconds, 0 min)\n"
          ]
        },
        {
          "output_type": "stream",
          "name": "stdout",
          "text": [
            "Downloading data from https://ndownloader.figshare.com/files/6849009 ...\n"
          ]
        },
        {
          "output_type": "stream",
          "name": "stderr",
          "text": [
            " ...done. (0 seconds, 0 min)\n",
            "Extracting data from /root/nilearn_data/cobre/4f6b1d4e4494ff5a65b79a421cce5cc2/fmri_0040140.tsv.gz..... done.\n"
          ]
        },
        {
          "output_type": "stream",
          "name": "stdout",
          "text": [
            "Downloading data from https://ndownloader.figshare.com/files/6849030 ...\n"
          ]
        },
        {
          "output_type": "stream",
          "name": "stderr",
          "text": [
            " ...done. (2 seconds, 0 min)\n"
          ]
        },
        {
          "output_type": "stream",
          "name": "stdout",
          "text": [
            "Downloading data from https://ndownloader.figshare.com/files/6849033 ...\n"
          ]
        },
        {
          "output_type": "stream",
          "name": "stderr",
          "text": [
            " ...done. (0 seconds, 0 min)\n",
            "Extracting data from /root/nilearn_data/cobre/72e1972585f10b4fbfb3fea4dd65c708/fmri_0040144.tsv.gz..... done.\n"
          ]
        },
        {
          "output_type": "stream",
          "name": "stdout",
          "text": [
            "Downloading data from https://ndownloader.figshare.com/files/6848592 ...\n"
          ]
        },
        {
          "output_type": "stream",
          "name": "stderr",
          "text": [
            " ...done. (2 seconds, 0 min)\n"
          ]
        },
        {
          "output_type": "stream",
          "name": "stdout",
          "text": [
            "Downloading data from https://ndownloader.figshare.com/files/6848595 ...\n"
          ]
        },
        {
          "output_type": "stream",
          "name": "stderr",
          "text": [
            " ...done. (0 seconds, 0 min)\n",
            "Extracting data from /root/nilearn_data/cobre/be47f798e4acd10ae7b242401b2f7a63/fmri_0040069.tsv.gz..... done.\n"
          ]
        },
        {
          "output_type": "stream",
          "name": "stdout",
          "text": [
            "Downloading data from https://ndownloader.figshare.com/files/6848832 ...\n"
          ]
        },
        {
          "output_type": "stream",
          "name": "stderr",
          "text": [
            " ...done. (2 seconds, 0 min)\n"
          ]
        },
        {
          "output_type": "stream",
          "name": "stdout",
          "text": [
            "Downloading data from https://ndownloader.figshare.com/files/6848835 ...\n"
          ]
        },
        {
          "output_type": "stream",
          "name": "stderr",
          "text": [
            " ...done. (0 seconds, 0 min)\n",
            "Extracting data from /root/nilearn_data/cobre/c5d2073d953d5ce3aa84b6344c27ad31/fmri_0040111.tsv.gz..... done.\n"
          ]
        },
        {
          "output_type": "stream",
          "name": "stdout",
          "text": [
            "Downloading data from https://ndownloader.figshare.com/files/6848574 ...\n"
          ]
        },
        {
          "output_type": "stream",
          "name": "stderr",
          "text": [
            " ...done. (2 seconds, 0 min)\n"
          ]
        },
        {
          "output_type": "stream",
          "name": "stdout",
          "text": [
            "Downloading data from https://ndownloader.figshare.com/files/6848577 ...\n"
          ]
        },
        {
          "output_type": "stream",
          "name": "stderr",
          "text": [
            " ...done. (0 seconds, 0 min)\n",
            "Extracting data from /root/nilearn_data/cobre/b17b358bde184b3622f63cbda9c959a3/fmri_0040066.tsv.gz..... done.\n"
          ]
        },
        {
          "output_type": "stream",
          "name": "stdout",
          "text": [
            "Downloading data from https://ndownloader.figshare.com/files/6848682 ...\n"
          ]
        },
        {
          "output_type": "stream",
          "name": "stderr",
          "text": [
            " ...done. (2 seconds, 0 min)\n"
          ]
        },
        {
          "output_type": "stream",
          "name": "stdout",
          "text": [
            "Downloading data from https://ndownloader.figshare.com/files/6848685 ...\n"
          ]
        },
        {
          "output_type": "stream",
          "name": "stderr",
          "text": [
            " ...done. (0 seconds, 0 min)\n",
            "Extracting data from /root/nilearn_data/cobre/46a0292e04917d03a6ce9f981944d6fa/fmri_0040086.tsv.gz..... done.\n"
          ]
        },
        {
          "output_type": "stream",
          "name": "stdout",
          "text": [
            "Downloading data from https://ndownloader.figshare.com/files/6849054 ...\n"
          ]
        },
        {
          "output_type": "stream",
          "name": "stderr",
          "text": [
            " ...done. (1 seconds, 0 min)\n"
          ]
        },
        {
          "output_type": "stream",
          "name": "stdout",
          "text": [
            "Downloading data from https://ndownloader.figshare.com/files/6849057 ...\n"
          ]
        },
        {
          "output_type": "stream",
          "name": "stderr",
          "text": [
            " ...done. (0 seconds, 0 min)\n"
          ]
        },
        {
          "output_type": "stream",
          "name": "stdout",
          "text": [
            "\n",
            "Dataset created in /root/nilearn_data/basc_multiscale_2015\n",
            "\n",
            "Downloading data from https://ndownloader.figshare.com/files/1861819 ...\n"
          ]
        },
        {
          "output_type": "stream",
          "name": "stderr",
          "text": [
            " ...done. (1 seconds, 0 min)\n",
            "Extracting data from /root/nilearn_data/basc_multiscale_2015/3cbcf0eeb3f666f55070aba1db9a758f/1861819..... done.\n"
          ]
        }
      ],
      "source": [
        "#import data\n",
        "from nilearn import datasets\n",
        "data = datasets.fetch_cobre(n_subjects=None)\n",
        "\n",
        "#import atlas\n",
        "parcellations = datasets.fetch_atlas_basc_multiscale_2015(version='sym')\n",
        "atlas_filename = parcellations.scale064"
      ]
    },
    {
      "cell_type": "code",
      "source": [
        "#import phenotypic data\n",
        "import pandas\n",
        "pheno = pandas.DataFrame(data.phenotypic)"
      ],
      "metadata": {
        "id": "P-cGVN3u5Ub5"
      },
      "execution_count": 4,
      "outputs": []
    },
    {
      "cell_type": "code",
      "source": [
        "#extract participant id from file paths\n",
        "file_names = []\n",
        "for path in data.func:\n",
        "    \n",
        "    file_names.append(path[32:37])"
      ],
      "metadata": {
        "id": "NAPrmV7T5a3Y"
      },
      "execution_count": 9,
      "outputs": []
    },
    {
      "cell_type": "code",
      "source": [
        "#create dataframe of file paths and ids\n",
        "files = pandas.DataFrame(data.func, columns = ['path'])\n",
        "files['id'] = file_names\n",
        "files['id'] = files.id.astype(int)"
      ],
      "metadata": {
        "id": "4CHTY1kR5eFN"
      },
      "execution_count": 10,
      "outputs": []
    },
    {
      "cell_type": "code",
      "source": [
        "files['id']"
      ],
      "metadata": {
        "colab": {
          "base_uri": "https://localhost:8080/"
        },
        "id": "ZcZVVGwv50xd",
        "outputId": "65fbd177-da73-4707-c0aa-80ac7941eabd"
      },
      "execution_count": 11,
      "outputs": [
        {
          "output_type": "execute_result",
          "data": {
            "text/plain": [
              "0      40046\n",
              "1      40002\n",
              "2      40117\n",
              "3      40145\n",
              "4      40000\n",
              "       ...  \n",
              "141    40144\n",
              "142    40069\n",
              "143    40111\n",
              "144    40066\n",
              "145    40086\n",
              "Name: id, Length: 146, dtype: int64"
            ]
          },
          "metadata": {},
          "execution_count": 11
        }
      ]
    },
    {
      "cell_type": "code",
      "source": [
        "#merge phenotypic data with file paths\n",
        "import pandas\n",
        "pheno = pandas.merge(pheno, files, on = 'id')\n",
        "\n",
        "#fix string decoding\n",
        "pheno['gender'] = pheno['gender'].map(lambda x: x.decode('utf-8'))\n",
        "pheno['handedness'] = pheno['handedness'].map(lambda x: x.decode('utf-8'))\n",
        "pheno['subject_type'] = pheno['subject_type'].map(lambda x: x.decode('utf-8'))\n",
        "pheno['diagnosis'] = pheno['diagnosis'].map(lambda x: x.decode('utf-8'))"
      ],
      "metadata": {
        "id": "4rOIVytt56ZL"
      },
      "execution_count": 12,
      "outputs": []
    },
    {
      "cell_type": "code",
      "source": [
        "#pheno.to_csv('pheno.csv', index=False)\n",
        "pheno"
      ],
      "metadata": {
        "colab": {
          "base_uri": "https://localhost:8080/",
          "height": 423
        },
        "id": "3ylCvVQc6AJz",
        "outputId": "b9416741-181f-4c9b-8c6c-aca4c6fab22c"
      },
      "execution_count": 13,
      "outputs": [
        {
          "output_type": "execute_result",
          "data": {
            "text/html": [
              "\n",
              "  <div id=\"df-db275a89-72ad-4149-a7c5-e84192b73d04\">\n",
              "    <div class=\"colab-df-container\">\n",
              "      <div>\n",
              "<style scoped>\n",
              "    .dataframe tbody tr th:only-of-type {\n",
              "        vertical-align: middle;\n",
              "    }\n",
              "\n",
              "    .dataframe tbody tr th {\n",
              "        vertical-align: top;\n",
              "    }\n",
              "\n",
              "    .dataframe thead th {\n",
              "        text-align: right;\n",
              "    }\n",
              "</style>\n",
              "<table border=\"1\" class=\"dataframe\">\n",
              "  <thead>\n",
              "    <tr style=\"text-align: right;\">\n",
              "      <th></th>\n",
              "      <th>id</th>\n",
              "      <th>current_age</th>\n",
              "      <th>gender</th>\n",
              "      <th>handedness</th>\n",
              "      <th>subject_type</th>\n",
              "      <th>diagnosis</th>\n",
              "      <th>frames_ok</th>\n",
              "      <th>fd</th>\n",
              "      <th>fd_scrubbed</th>\n",
              "      <th>path</th>\n",
              "    </tr>\n",
              "  </thead>\n",
              "  <tbody>\n",
              "    <tr>\n",
              "      <th>0</th>\n",
              "      <td>40061</td>\n",
              "      <td>18</td>\n",
              "      <td>Male</td>\n",
              "      <td>Right</td>\n",
              "      <td>Control</td>\n",
              "      <td>None</td>\n",
              "      <td>133</td>\n",
              "      <td>0.25512</td>\n",
              "      <td>0.22657</td>\n",
              "      <td>/root/nilearn_data/cobre/fmri_0040061.nii.gz</td>\n",
              "    </tr>\n",
              "    <tr>\n",
              "      <th>1</th>\n",
              "      <td>40090</td>\n",
              "      <td>18</td>\n",
              "      <td>Female</td>\n",
              "      <td>Right</td>\n",
              "      <td>Control</td>\n",
              "      <td>None</td>\n",
              "      <td>150</td>\n",
              "      <td>0.16963</td>\n",
              "      <td>0.16963</td>\n",
              "      <td>/root/nilearn_data/cobre/fmri_0040090.nii.gz</td>\n",
              "    </tr>\n",
              "    <tr>\n",
              "      <th>2</th>\n",
              "      <td>40046</td>\n",
              "      <td>18</td>\n",
              "      <td>Male</td>\n",
              "      <td>Left</td>\n",
              "      <td>Patient</td>\n",
              "      <td>295.70 depressed type</td>\n",
              "      <td>76</td>\n",
              "      <td>0.37504</td>\n",
              "      <td>0.30042</td>\n",
              "      <td>/root/nilearn_data/cobre/fmri_0040046.nii.gz</td>\n",
              "    </tr>\n",
              "    <tr>\n",
              "      <th>3</th>\n",
              "      <td>40002</td>\n",
              "      <td>19</td>\n",
              "      <td>Male</td>\n",
              "      <td>Right</td>\n",
              "      <td>Patient</td>\n",
              "      <td>295.3</td>\n",
              "      <td>67</td>\n",
              "      <td>0.40006</td>\n",
              "      <td>0.21575</td>\n",
              "      <td>/root/nilearn_data/cobre/fmri_0040002.nii.gz</td>\n",
              "    </tr>\n",
              "    <tr>\n",
              "      <th>4</th>\n",
              "      <td>40117</td>\n",
              "      <td>19</td>\n",
              "      <td>Male</td>\n",
              "      <td>Right</td>\n",
              "      <td>Patient</td>\n",
              "      <td>295.3</td>\n",
              "      <td>133</td>\n",
              "      <td>0.20975</td>\n",
              "      <td>0.18410</td>\n",
              "      <td>/root/nilearn_data/cobre/fmri_0040117.nii.gz</td>\n",
              "    </tr>\n",
              "    <tr>\n",
              "      <th>...</th>\n",
              "      <td>...</td>\n",
              "      <td>...</td>\n",
              "      <td>...</td>\n",
              "      <td>...</td>\n",
              "      <td>...</td>\n",
              "      <td>...</td>\n",
              "      <td>...</td>\n",
              "      <td>...</td>\n",
              "      <td>...</td>\n",
              "      <td>...</td>\n",
              "    </tr>\n",
              "    <tr>\n",
              "      <th>141</th>\n",
              "      <td>40089</td>\n",
              "      <td>62</td>\n",
              "      <td>Male</td>\n",
              "      <td>Right</td>\n",
              "      <td>Patient</td>\n",
              "      <td>295.3</td>\n",
              "      <td>40</td>\n",
              "      <td>0.70368</td>\n",
              "      <td>0.72439</td>\n",
              "      <td>/root/nilearn_data/cobre/fmri_0040089.nii.gz</td>\n",
              "    </tr>\n",
              "    <tr>\n",
              "      <th>142</th>\n",
              "      <td>40040</td>\n",
              "      <td>63</td>\n",
              "      <td>Male</td>\n",
              "      <td>Right</td>\n",
              "      <td>Patient</td>\n",
              "      <td>295.3</td>\n",
              "      <td>42</td>\n",
              "      <td>0.58301</td>\n",
              "      <td>0.40646</td>\n",
              "      <td>/root/nilearn_data/cobre/fmri_0040040.nii.gz</td>\n",
              "    </tr>\n",
              "    <tr>\n",
              "      <th>143</th>\n",
              "      <td>40028</td>\n",
              "      <td>64</td>\n",
              "      <td>Male</td>\n",
              "      <td>Right</td>\n",
              "      <td>Patient</td>\n",
              "      <td>295.3</td>\n",
              "      <td>55</td>\n",
              "      <td>0.42364</td>\n",
              "      <td>0.26393</td>\n",
              "      <td>/root/nilearn_data/cobre/fmri_0040028.nii.gz</td>\n",
              "    </tr>\n",
              "    <tr>\n",
              "      <th>144</th>\n",
              "      <td>40086</td>\n",
              "      <td>65</td>\n",
              "      <td>Male</td>\n",
              "      <td>Right</td>\n",
              "      <td>Control</td>\n",
              "      <td>None</td>\n",
              "      <td>48</td>\n",
              "      <td>0.39595</td>\n",
              "      <td>0.32296</td>\n",
              "      <td>/root/nilearn_data/cobre/fmri_0040086.nii.gz</td>\n",
              "    </tr>\n",
              "    <tr>\n",
              "      <th>145</th>\n",
              "      <td>40007</td>\n",
              "      <td>65</td>\n",
              "      <td>Female</td>\n",
              "      <td>Right</td>\n",
              "      <td>Patient</td>\n",
              "      <td>295.3</td>\n",
              "      <td>40</td>\n",
              "      <td>0.70044</td>\n",
              "      <td>0.72077</td>\n",
              "      <td>/root/nilearn_data/cobre/fmri_0040007.nii.gz</td>\n",
              "    </tr>\n",
              "  </tbody>\n",
              "</table>\n",
              "<p>146 rows × 10 columns</p>\n",
              "</div>\n",
              "      <button class=\"colab-df-convert\" onclick=\"convertToInteractive('df-db275a89-72ad-4149-a7c5-e84192b73d04')\"\n",
              "              title=\"Convert this dataframe to an interactive table.\"\n",
              "              style=\"display:none;\">\n",
              "        \n",
              "  <svg xmlns=\"http://www.w3.org/2000/svg\" height=\"24px\"viewBox=\"0 0 24 24\"\n",
              "       width=\"24px\">\n",
              "    <path d=\"M0 0h24v24H0V0z\" fill=\"none\"/>\n",
              "    <path d=\"M18.56 5.44l.94 2.06.94-2.06 2.06-.94-2.06-.94-.94-2.06-.94 2.06-2.06.94zm-11 1L8.5 8.5l.94-2.06 2.06-.94-2.06-.94L8.5 2.5l-.94 2.06-2.06.94zm10 10l.94 2.06.94-2.06 2.06-.94-2.06-.94-.94-2.06-.94 2.06-2.06.94z\"/><path d=\"M17.41 7.96l-1.37-1.37c-.4-.4-.92-.59-1.43-.59-.52 0-1.04.2-1.43.59L10.3 9.45l-7.72 7.72c-.78.78-.78 2.05 0 2.83L4 21.41c.39.39.9.59 1.41.59.51 0 1.02-.2 1.41-.59l7.78-7.78 2.81-2.81c.8-.78.8-2.07 0-2.86zM5.41 20L4 18.59l7.72-7.72 1.47 1.35L5.41 20z\"/>\n",
              "  </svg>\n",
              "      </button>\n",
              "      \n",
              "  <style>\n",
              "    .colab-df-container {\n",
              "      display:flex;\n",
              "      flex-wrap:wrap;\n",
              "      gap: 12px;\n",
              "    }\n",
              "\n",
              "    .colab-df-convert {\n",
              "      background-color: #E8F0FE;\n",
              "      border: none;\n",
              "      border-radius: 50%;\n",
              "      cursor: pointer;\n",
              "      display: none;\n",
              "      fill: #1967D2;\n",
              "      height: 32px;\n",
              "      padding: 0 0 0 0;\n",
              "      width: 32px;\n",
              "    }\n",
              "\n",
              "    .colab-df-convert:hover {\n",
              "      background-color: #E2EBFA;\n",
              "      box-shadow: 0px 1px 2px rgba(60, 64, 67, 0.3), 0px 1px 3px 1px rgba(60, 64, 67, 0.15);\n",
              "      fill: #174EA6;\n",
              "    }\n",
              "\n",
              "    [theme=dark] .colab-df-convert {\n",
              "      background-color: #3B4455;\n",
              "      fill: #D2E3FC;\n",
              "    }\n",
              "\n",
              "    [theme=dark] .colab-df-convert:hover {\n",
              "      background-color: #434B5C;\n",
              "      box-shadow: 0px 1px 3px 1px rgba(0, 0, 0, 0.15);\n",
              "      filter: drop-shadow(0px 1px 2px rgba(0, 0, 0, 0.3));\n",
              "      fill: #FFFFFF;\n",
              "    }\n",
              "  </style>\n",
              "\n",
              "      <script>\n",
              "        const buttonEl =\n",
              "          document.querySelector('#df-db275a89-72ad-4149-a7c5-e84192b73d04 button.colab-df-convert');\n",
              "        buttonEl.style.display =\n",
              "          google.colab.kernel.accessAllowed ? 'block' : 'none';\n",
              "\n",
              "        async function convertToInteractive(key) {\n",
              "          const element = document.querySelector('#df-db275a89-72ad-4149-a7c5-e84192b73d04');\n",
              "          const dataTable =\n",
              "            await google.colab.kernel.invokeFunction('convertToInteractive',\n",
              "                                                     [key], {});\n",
              "          if (!dataTable) return;\n",
              "\n",
              "          const docLinkHtml = 'Like what you see? Visit the ' +\n",
              "            '<a target=\"_blank\" href=https://colab.research.google.com/notebooks/data_table.ipynb>data table notebook</a>'\n",
              "            + ' to learn more about interactive tables.';\n",
              "          element.innerHTML = '';\n",
              "          dataTable['output_type'] = 'display_data';\n",
              "          await google.colab.output.renderOutput(dataTable, element);\n",
              "          const docLink = document.createElement('div');\n",
              "          docLink.innerHTML = docLinkHtml;\n",
              "          element.appendChild(docLink);\n",
              "        }\n",
              "      </script>\n",
              "    </div>\n",
              "  </div>\n",
              "  "
            ],
            "text/plain": [
              "        id  ...                                          path\n",
              "0    40061  ...  /root/nilearn_data/cobre/fmri_0040061.nii.gz\n",
              "1    40090  ...  /root/nilearn_data/cobre/fmri_0040090.nii.gz\n",
              "2    40046  ...  /root/nilearn_data/cobre/fmri_0040046.nii.gz\n",
              "3    40002  ...  /root/nilearn_data/cobre/fmri_0040002.nii.gz\n",
              "4    40117  ...  /root/nilearn_data/cobre/fmri_0040117.nii.gz\n",
              "..     ...  ...                                           ...\n",
              "141  40089  ...  /root/nilearn_data/cobre/fmri_0040089.nii.gz\n",
              "142  40040  ...  /root/nilearn_data/cobre/fmri_0040040.nii.gz\n",
              "143  40028  ...  /root/nilearn_data/cobre/fmri_0040028.nii.gz\n",
              "144  40086  ...  /root/nilearn_data/cobre/fmri_0040086.nii.gz\n",
              "145  40007  ...  /root/nilearn_data/cobre/fmri_0040007.nii.gz\n",
              "\n",
              "[146 rows x 10 columns]"
            ]
          },
          "metadata": {},
          "execution_count": 13
        }
      ]
    },
    {
      "cell_type": "code",
      "source": [
        "#create lists of filepaths for patients and controls\n",
        "patients = []\n",
        "controls = []\n",
        "\n",
        "for i in pheno.index:\n",
        "    if pheno.loc[i, 'subject_type']=='Patient':\n",
        "    \n",
        "        patients.append(pheno.loc[i, 'path'])\n",
        "    else:\n",
        "        controls.append(pheno.loc[i, 'path'])"
      ],
      "metadata": {
        "id": "kEPuNcXc6D1b"
      },
      "execution_count": 14,
      "outputs": []
    },
    {
      "cell_type": "code",
      "source": [
        "#import atlas\n",
        "parcellations = datasets.fetch_atlas_basc_multiscale_2015(version='sym')\n",
        "atlas_filename = parcellations.scale064"
      ],
      "metadata": {
        "id": "xwh5pAbJ6K9e"
      },
      "execution_count": 15,
      "outputs": []
    },
    {
      "cell_type": "code",
      "source": [
        "# visualize atlas\n",
        "from nilearn import plotting\n",
        "plotting.plot_roi(atlas_filename, draw_cross = False)"
      ],
      "metadata": {
        "colab": {
          "base_uri": "https://localhost:8080/",
          "height": 290
        },
        "id": "9h_0Aeix6OZl",
        "outputId": "bc58c0bd-8b84-4e54-ebbd-34238785a600"
      },
      "execution_count": 16,
      "outputs": [
        {
          "output_type": "stream",
          "name": "stderr",
          "text": [
            "/usr/local/lib/python3.7/dist-packages/nilearn/plotting/img_plotting.py:341: FutureWarning: Default resolution of the MNI template will change from 2mm to 1mm in version 0.10.0\n",
            "  anat_img = load_mni152_template()\n"
          ]
        },
        {
          "output_type": "execute_result",
          "data": {
            "text/plain": [
              "<nilearn.plotting.displays.OrthoSlicer at 0x7fdcfda9b9d0>"
            ]
          },
          "metadata": {},
          "execution_count": 16
        },
        {
          "output_type": "display_data",
          "data": {
            "image/png": "[encoded data removed]",
            "text/plain": [
              "<Figure size 475.2x187.2 with 4 Axes>"
            ]
          },
          "metadata": {}
        }
      ]
    },
    {
      "cell_type": "code",
      "source": [
        "from nilearn.input_data import NiftiLabelsMasker\n",
        "from nilearn.connectome import ConnectivityMeasure\n",
        "\n",
        "# create mask\n",
        "mask = NiftiLabelsMasker(labels_img=atlas_filename, \n",
        "                           standardize=True, \n",
        "                           memory='nilearn_cache', \n",
        "                           verbose=1)\n",
        "\n",
        "# initialize correlation measure\n",
        "correlation_measure = ConnectivityMeasure(kind='correlation', vectorize=True,\n",
        "                                         discard_diagonal=True)"
      ],
      "metadata": {
        "id": "6eEmwpY36bor"
      },
      "execution_count": 17,
      "outputs": []
    },
    {
      "cell_type": "code",
      "source": [
        "import pandas as pd\n",
        "\n",
        "#initialize empty dataframe\n",
        "all_features = pd.DataFrame(columns=['features', 'file'])\n",
        "\n",
        "for i,sub in enumerate(data.func):\n",
        "    # extract the timeseries from the ROIs in the atlas\n",
        "    time_series = mask.fit_transform(sub, confounds=data.confounds[i])\n",
        "    # create a region x region correlation matrix\n",
        "    correlation_matrix = correlation_measure.fit_transform([time_series])[0]\n",
        "    # add features and file name to dataframe\n",
        "    all_features = all_features.append({'features': correlation_matrix, 'file': data.func[i]}, ignore_index=True)\n",
        "    # uncomment below to keep track of status\n",
        "    #print('finished %s of %s'%(i+1,len(data.func)))"
      ],
      "metadata": {
        "colab": {
          "base_uri": "https://localhost:8080/"
        },
        "id": "YCpix2do6fpF",
        "outputId": "c8143b21-c530-43d8-da78-912e3d7129f0"
      },
      "execution_count": 18,
      "outputs": [
        {
          "output_type": "stream",
          "name": "stdout",
          "text": [
            "[NiftiLabelsMasker.fit_transform] loading data from /root/nilearn_data/basc_multiscale_2015/template_cambridge_basc_multiscale_nii_sym/template_cambridge_basc_multiscale_sym_scale064.nii.gz\n",
            "Resampling labels\n",
            "________________________________________________________________________________\n",
            "[Memory] Calling nilearn.input_data.base_masker.filter_and_extract...\n",
            "filter_and_extract('/root/nilearn_data/cobre/fmri_0040046.nii.gz', <nilearn.input_data.nifti_labels_masker._ExtractionFunctor object at 0x7fdcfdae1890>, \n",
            "{ 'background_label': 0,\n",
            "  'detrend': False,\n",
            "  'dtype': None,\n",
            "  'high_pass': None,\n",
            "  'high_variance_confounds': False,\n",
            "  'labels': None,\n",
            "  'labels_img': '/root/nilearn_data/basc_multiscale_2015/template_cambridge_basc_multiscale_nii_sym/template_cambridge_basc_multiscale_sym_scale064.nii.gz',\n",
            "  'low_pass': None,\n",
            "  'mask_img': None,\n",
            "  'reports': True,\n",
            "  'smoothing_fwhm': None,\n",
            "  'standardize': True,\n",
            "  'standardize_confounds': True,\n",
            "  'strategy': 'mean',\n",
            "  't_r': None,\n",
            "  'target_affine': None,\n",
            "  'target_shape': None}, confounds=['/root/nilearn_data/cobre/fmri_0040046.tsv'], sample_mask=None, dtype=None, memory=Memory(location=nilearn_cache/joblib), memory_level=1, verbose=1)\n",
            "[NiftiLabelsMasker.transform_single_imgs] Loading data from /root/nilearn_data/cobre/fmri_0040046.nii.gz\n",
            "[NiftiLabelsMasker.transform_single_imgs] Extracting region signals\n",
            "[NiftiLabelsMasker.transform_single_imgs] Cleaning extracted signals\n",
            "_______________________________________________filter_and_extract - 1.1s, 0.0min\n",
            "[NiftiLabelsMasker.fit_transform] loading data from /root/nilearn_data/basc_multiscale_2015/template_cambridge_basc_multiscale_nii_sym/template_cambridge_basc_multiscale_sym_scale064.nii.gz\n",
            "________________________________________________________________________________\n",
            "[Memory] Calling nilearn.input_data.base_masker.filter_and_extract...\n",
            "filter_and_extract('/root/nilearn_data/cobre/fmri_0040002.nii.gz', <nilearn.input_data.nifti_labels_masker._ExtractionFunctor object at 0x7fdd08a38090>, \n",
            "{ 'background_label': 0,\n",
            "  'detrend': False,\n",
            "  'dtype': None,\n",
            "  'high_pass': None,\n",
            "  'high_variance_confounds': False,\n",
            "  'labels': None,\n",
            "  'labels_img': '/root/nilearn_data/basc_multiscale_2015/template_cambridge_basc_multiscale_nii_sym/template_cambridge_basc_multiscale_sym_scale064.nii.gz',\n",
            "  'low_pass': None,\n",
            "  'mask_img': None,\n",
            "  'reports': True,\n",
            "  'smoothing_fwhm': None,\n",
            "  'standardize': True,\n",
            "  'standardize_confounds': True,\n",
            "  'strategy': 'mean',\n",
            "  't_r': None,\n",
            "  'target_affine': None,\n",
            "  'target_shape': None}, confounds=['/root/nilearn_data/cobre/fmri_0040002.tsv'], sample_mask=None, dtype=None, memory=Memory(location=nilearn_cache/joblib), memory_level=1, verbose=1)\n",
            "[NiftiLabelsMasker.transform_single_imgs] Loading data from /root/nilearn_data/cobre/fmri_0040002.nii.gz\n",
            "[NiftiLabelsMasker.transform_single_imgs] Extracting region signals\n",
            "[NiftiLabelsMasker.transform_single_imgs] Cleaning extracted signals\n",
            "_______________________________________________filter_and_extract - 1.5s, 0.0min\n",
            "[NiftiLabelsMasker.fit_transform] loading data from /root/nilearn_data/basc_multiscale_2015/template_cambridge_basc_multiscale_nii_sym/template_cambridge_basc_multiscale_sym_scale064.nii.gz\n",
            "________________________________________________________________________________\n",
            "[Memory] Calling nilearn.input_data.base_masker.filter_and_extract...\n",
            "filter_and_extract('/root/nilearn_data/cobre/fmri_0040117.nii.gz', <nilearn.input_data.nifti_labels_masker._ExtractionFunctor object at 0x7fdd0833bf50>, \n",
            "{ 'background_label': 0,\n",
            "  'detrend': False,\n",
            "  'dtype': None,\n",
            "  'high_pass': None,\n",
            "  'high_variance_confounds': False,\n",
            "  'labels': None,\n",
            "  'labels_img': '/root/nilearn_data/basc_multiscale_2015/template_cambridge_basc_multiscale_nii_sym/template_cambridge_basc_multiscale_sym_scale064.nii.gz',\n",
            "  'low_pass': None,\n",
            "  'mask_img': None,\n",
            "  'reports': True,\n",
            "  'smoothing_fwhm': None,\n",
            "  'standardize': True,\n",
            "  'standardize_confounds': True,\n",
            "  'strategy': 'mean',\n",
            "  't_r': None,\n",
            "  'target_affine': None,\n",
            "  'target_shape': None}, confounds=['/root/nilearn_data/cobre/fmri_0040117.tsv'], sample_mask=None, dtype=None, memory=Memory(location=nilearn_cache/joblib), memory_level=1, verbose=1)\n",
            "[NiftiLabelsMasker.transform_single_imgs] Loading data from /root/nilearn_data/cobre/fmri_0040117.nii.gz\n",
            "[NiftiLabelsMasker.transform_single_imgs] Extracting region signals\n",
            "[NiftiLabelsMasker.transform_single_imgs] Cleaning extracted signals\n",
            "_______________________________________________filter_and_extract - 0.6s, 0.0min\n",
            "[NiftiLabelsMasker.fit_transform] loading data from /root/nilearn_data/basc_multiscale_2015/template_cambridge_basc_multiscale_nii_sym/template_cambridge_basc_multiscale_sym_scale064.nii.gz\n",
            "________________________________________________________________________________\n",
            "[Memory] Calling nilearn.input_data.base_masker.filter_and_extract...\n",
            "filter_and_extract('/root/nilearn_data/cobre/fmri_0040145.nii.gz', <nilearn.input_data.nifti_labels_masker._ExtractionFunctor object at 0x7fdcfd4aaf10>, \n",
            "{ 'background_label': 0,\n",
            "  'detrend': False,\n",
            "  'dtype': None,\n",
            "  'high_pass': None,\n",
            "  'high_variance_confounds': False,\n",
            "  'labels': None,\n",
            "  'labels_img': '/root/nilearn_data/basc_multiscale_2015/template_cambridge_basc_multiscale_nii_sym/template_cambridge_basc_multiscale_sym_scale064.nii.gz',\n",
            "  'low_pass': None,\n",
            "  'mask_img': None,\n",
            "  'reports': True,\n",
            "  'smoothing_fwhm': None,\n",
            "  'standardize': True,\n",
            "  'standardize_confounds': True,\n",
            "  'strategy': 'mean',\n",
            "  't_r': None,\n",
            "  'target_affine': None,\n",
            "  'target_shape': None}, confounds=['/root/nilearn_data/cobre/fmri_0040145.tsv'], sample_mask=None, dtype=None, memory=Memory(location=nilearn_cache/joblib), memory_level=1, verbose=1)\n",
            "[NiftiLabelsMasker.transform_single_imgs] Loading data from /root/nilearn_data/cobre/fmri_0040145.nii.gz\n",
            "[NiftiLabelsMasker.transform_single_imgs] Extracting region signals\n",
            "[NiftiLabelsMasker.transform_single_imgs] Cleaning extracted signals\n",
            "_______________________________________________filter_and_extract - 0.5s, 0.0min\n",
            "[NiftiLabelsMasker.fit_transform] loading data from /root/nilearn_data/basc_multiscale_2015/template_cambridge_basc_multiscale_nii_sym/template_cambridge_basc_multiscale_sym_scale064.nii.gz\n",
            "________________________________________________________________________________\n",
            "[Memory] Calling nilearn.input_data.base_masker.filter_and_extract...\n",
            "filter_and_extract('/root/nilearn_data/cobre/fmri_0040000.nii.gz', <nilearn.input_data.nifti_labels_masker._ExtractionFunctor object at 0x7fdcfd9b61d0>, \n",
            "{ 'background_label': 0,\n",
            "  'detrend': False,\n",
            "  'dtype': None,\n",
            "  'high_pass': None,\n",
            "  'high_variance_confounds': False,\n",
            "  'labels': None,\n",
            "  'labels_img': '/root/nilearn_data/basc_multiscale_2015/template_cambridge_basc_multiscale_nii_sym/template_cambridge_basc_multiscale_sym_scale064.nii.gz',\n",
            "  'low_pass': None,\n",
            "  'mask_img': None,\n",
            "  'reports': True,\n",
            "  'smoothing_fwhm': None,\n",
            "  'standardize': True,\n",
            "  'standardize_confounds': True,\n",
            "  'strategy': 'mean',\n",
            "  't_r': None,\n",
            "  'target_affine': None,\n",
            "  'target_shape': None}, confounds=['/root/nilearn_data/cobre/fmri_0040000.tsv'], sample_mask=None, dtype=None, memory=Memory(location=nilearn_cache/joblib), memory_level=1, verbose=1)\n",
            "[NiftiLabelsMasker.transform_single_imgs] Loading data from /root/nilearn_data/cobre/fmri_0040000.nii.gz\n",
            "[NiftiLabelsMasker.transform_single_imgs] Extracting region signals\n",
            "[NiftiLabelsMasker.transform_single_imgs] Cleaning extracted signals\n",
            "_______________________________________________filter_and_extract - 0.5s, 0.0min\n",
            "[NiftiLabelsMasker.fit_transform] loading data from /root/nilearn_data/basc_multiscale_2015/template_cambridge_basc_multiscale_nii_sym/template_cambridge_basc_multiscale_sym_scale064.nii.gz\n",
            "________________________________________________________________________________\n",
            "[Memory] Calling nilearn.input_data.base_masker.filter_and_extract...\n",
            "filter_and_extract('/root/nilearn_data/cobre/fmri_0040029.nii.gz', <nilearn.input_data.nifti_labels_masker._ExtractionFunctor object at 0x7fdcfd9b09d0>, \n",
            "{ 'background_label': 0,\n",
            "  'detrend': False,\n",
            "  'dtype': None,\n",
            "  'high_pass': None,\n",
            "  'high_variance_confounds': False,\n",
            "  'labels': None,\n",
            "  'labels_img': '/root/nilearn_data/basc_multiscale_2015/template_cambridge_basc_multiscale_nii_sym/template_cambridge_basc_multiscale_sym_scale064.nii.gz',\n",
            "  'low_pass': None,\n",
            "  'mask_img': None,\n",
            "  'reports': True,\n",
            "  'smoothing_fwhm': None,\n",
            "  'standardize': True,\n",
            "  'standardize_confounds': True,\n",
            "  'strategy': 'mean',\n",
            "  't_r': None,\n",
            "  'target_affine': None,\n",
            "  'target_shape': None}, confounds=['/root/nilearn_data/cobre/fmri_0040029.tsv'], sample_mask=None, dtype=None, memory=Memory(location=nilearn_cache/joblib), memory_level=1, verbose=1)\n",
            "[NiftiLabelsMasker.transform_single_imgs] Loading data from /root/nilearn_data/cobre/fmri_0040029.nii.gz\n",
            "[NiftiLabelsMasker.transform_single_imgs] Extracting region signals\n",
            "[NiftiLabelsMasker.transform_single_imgs] Cleaning extracted signals\n",
            "_______________________________________________filter_and_extract - 0.5s, 0.0min\n",
            "[NiftiLabelsMasker.fit_transform] loading data from /root/nilearn_data/basc_multiscale_2015/template_cambridge_basc_multiscale_nii_sym/template_cambridge_basc_multiscale_sym_scale064.nii.gz\n",
            "________________________________________________________________________________\n",
            "[Memory] Calling nilearn.input_data.base_masker.filter_and_extract...\n",
            "filter_and_extract('/root/nilearn_data/cobre/fmri_0040133.nii.gz', <nilearn.input_data.nifti_labels_masker._ExtractionFunctor object at 0x7fdcfd9b09d0>, \n",
            "{ 'background_label': 0,\n",
            "  'detrend': False,\n",
            "  'dtype': None,\n",
            "  'high_pass': None,\n",
            "  'high_variance_confounds': False,\n",
            "  'labels': None,\n",
            "  'labels_img': '/root/nilearn_data/basc_multiscale_2015/template_cambridge_basc_multiscale_nii_sym/template_cambridge_basc_multiscale_sym_scale064.nii.gz',\n",
            "  'low_pass': None,\n",
            "  'mask_img': None,\n",
            "  'reports': True,\n",
            "  'smoothing_fwhm': None,\n",
            "  'standardize': True,\n",
            "  'standardize_confounds': True,\n",
            "  'strategy': 'mean',\n",
            "  't_r': None,\n",
            "  'target_affine': None,\n",
            "  'target_shape': None}, confounds=['/root/nilearn_data/cobre/fmri_0040133.tsv'], sample_mask=None, dtype=None, memory=Memory(location=nilearn_cache/joblib), memory_level=1, verbose=1)\n",
            "[NiftiLabelsMasker.transform_single_imgs] Loading data from /root/nilearn_data/cobre/fmri_0040133.nii.gz\n",
            "[NiftiLabelsMasker.transform_single_imgs] Extracting region signals\n",
            "[NiftiLabelsMasker.transform_single_imgs] Cleaning extracted signals\n",
            "_______________________________________________filter_and_extract - 0.4s, 0.0min\n",
            "[NiftiLabelsMasker.fit_transform] loading data from /root/nilearn_data/basc_multiscale_2015/template_cambridge_basc_multiscale_nii_sym/template_cambridge_basc_multiscale_sym_scale064.nii.gz\n",
            "________________________________________________________________________________\n",
            "[Memory] Calling nilearn.input_data.base_masker.filter_and_extract...\n",
            "filter_and_extract('/root/nilearn_data/cobre/fmri_0040021.nii.gz', <nilearn.input_data.nifti_labels_masker._ExtractionFunctor object at 0x7fdcfd9b6090>, \n",
            "{ 'background_label': 0,\n",
            "  'detrend': False,\n",
            "  'dtype': None,\n",
            "  'high_pass': None,\n",
            "  'high_variance_confounds': False,\n",
            "  'labels': None,\n",
            "  'labels_img': '/root/nilearn_data/basc_multiscale_2015/template_cambridge_basc_multiscale_nii_sym/template_cambridge_basc_multiscale_sym_scale064.nii.gz',\n",
            "  'low_pass': None,\n",
            "  'mask_img': None,\n",
            "  'reports': True,\n",
            "  'smoothing_fwhm': None,\n",
            "  'standardize': True,\n",
            "  'standardize_confounds': True,\n",
            "  'strategy': 'mean',\n",
            "  't_r': None,\n",
            "  'target_affine': None,\n",
            "  'target_shape': None}, confounds=['/root/nilearn_data/cobre/fmri_0040021.tsv'], sample_mask=None, dtype=None, memory=Memory(location=nilearn_cache/joblib), memory_level=1, verbose=1)\n",
            "[NiftiLabelsMasker.transform_single_imgs] Loading data from /root/nilearn_data/cobre/fmri_0040021.nii.gz\n",
            "[NiftiLabelsMasker.transform_single_imgs] Extracting region signals\n",
            "[NiftiLabelsMasker.transform_single_imgs] Cleaning extracted signals\n",
            "_______________________________________________filter_and_extract - 0.5s, 0.0min\n",
            "[NiftiLabelsMasker.fit_transform] loading data from /root/nilearn_data/basc_multiscale_2015/template_cambridge_basc_multiscale_nii_sym/template_cambridge_basc_multiscale_sym_scale064.nii.gz\n",
            "________________________________________________________________________________\n",
            "[Memory] Calling nilearn.input_data.base_masker.filter_and_extract...\n",
            "filter_and_extract('/root/nilearn_data/cobre/fmri_0040137.nii.gz', <nilearn.input_data.nifti_labels_masker._ExtractionFunctor object at 0x7fdcfd4aaf50>, \n",
            "{ 'background_label': 0,\n",
            "  'detrend': False,\n",
            "  'dtype': None,\n",
            "  'high_pass': None,\n",
            "  'high_variance_confounds': False,\n",
            "  'labels': None,\n",
            "  'labels_img': '/root/nilearn_data/basc_multiscale_2015/template_cambridge_basc_multiscale_nii_sym/template_cambridge_basc_multiscale_sym_scale064.nii.gz',\n",
            "  'low_pass': None,\n",
            "  'mask_img': None,\n",
            "  'reports': True,\n",
            "  'smoothing_fwhm': None,\n",
            "  'standardize': True,\n",
            "  'standardize_confounds': True,\n",
            "  'strategy': 'mean',\n",
            "  't_r': None,\n",
            "  'target_affine': None,\n",
            "  'target_shape': None}, confounds=['/root/nilearn_data/cobre/fmri_0040137.tsv'], sample_mask=None, dtype=None, memory=Memory(location=nilearn_cache/joblib), memory_level=1, verbose=1)\n",
            "[NiftiLabelsMasker.transform_single_imgs] Loading data from /root/nilearn_data/cobre/fmri_0040137.nii.gz\n",
            "[NiftiLabelsMasker.transform_single_imgs] Extracting region signals\n",
            "[NiftiLabelsMasker.transform_single_imgs] Cleaning extracted signals\n",
            "_______________________________________________filter_and_extract - 0.5s, 0.0min\n",
            "[NiftiLabelsMasker.fit_transform] loading data from /root/nilearn_data/basc_multiscale_2015/template_cambridge_basc_multiscale_nii_sym/template_cambridge_basc_multiscale_sym_scale064.nii.gz\n",
            "________________________________________________________________________________\n",
            "[Memory] Calling nilearn.input_data.base_masker.filter_and_extract...\n",
            "filter_and_extract('/root/nilearn_data/cobre/fmri_0040085.nii.gz', <nilearn.input_data.nifti_labels_masker._ExtractionFunctor object at 0x7fdd0ae9d490>, \n",
            "{ 'background_label': 0,\n",
            "  'detrend': False,\n",
            "  'dtype': None,\n",
            "  'high_pass': None,\n",
            "  'high_variance_confounds': False,\n",
            "  'labels': None,\n",
            "  'labels_img': '/root/nilearn_data/basc_multiscale_2015/template_cambridge_basc_multiscale_nii_sym/template_cambridge_basc_multiscale_sym_scale064.nii.gz',\n",
            "  'low_pass': None,\n",
            "  'mask_img': None,\n",
            "  'reports': True,\n",
            "  'smoothing_fwhm': None,\n",
            "  'standardize': True,\n",
            "  'standardize_confounds': True,\n",
            "  'strategy': 'mean',\n",
            "  't_r': None,\n",
            "  'target_affine': None,\n",
            "  'target_shape': None}, confounds=['/root/nilearn_data/cobre/fmri_0040085.tsv'], sample_mask=None, dtype=None, memory=Memory(location=nilearn_cache/joblib), memory_level=1, verbose=1)\n",
            "[NiftiLabelsMasker.transform_single_imgs] Loading data from /root/nilearn_data/cobre/fmri_0040085.nii.gz\n",
            "[NiftiLabelsMasker.transform_single_imgs] Extracting region signals\n",
            "[NiftiLabelsMasker.transform_single_imgs] Cleaning extracted signals\n",
            "_______________________________________________filter_and_extract - 0.5s, 0.0min\n",
            "[NiftiLabelsMasker.fit_transform] loading data from /root/nilearn_data/basc_multiscale_2015/template_cambridge_basc_multiscale_nii_sym/template_cambridge_basc_multiscale_sym_scale064.nii.gz\n",
            "________________________________________________________________________________\n",
            "[Memory] Calling nilearn.input_data.base_masker.filter_and_extract...\n",
            "filter_and_extract('/root/nilearn_data/cobre/fmri_0040096.nii.gz', <nilearn.input_data.nifti_labels_masker._ExtractionFunctor object at 0x7fdcfd457a90>, \n",
            "{ 'background_label': 0,\n",
            "  'detrend': False,\n",
            "  'dtype': None,\n",
            "  'high_pass': None,\n",
            "  'high_variance_confounds': False,\n",
            "  'labels': None,\n",
            "  'labels_img': '/root/nilearn_data/basc_multiscale_2015/template_cambridge_basc_multiscale_nii_sym/template_cambridge_basc_multiscale_sym_scale064.nii.gz',\n",
            "  'low_pass': None,\n",
            "  'mask_img': None,\n",
            "  'reports': True,\n",
            "  'smoothing_fwhm': None,\n",
            "  'standardize': True,\n",
            "  'standardize_confounds': True,\n",
            "  'strategy': 'mean',\n",
            "  't_r': None,\n",
            "  'target_affine': None,\n",
            "  'target_shape': None}, confounds=['/root/nilearn_data/cobre/fmri_0040096.tsv'], sample_mask=None, dtype=None, memory=Memory(location=nilearn_cache/joblib), memory_level=1, verbose=1)\n",
            "[NiftiLabelsMasker.transform_single_imgs] Loading data from /root/nilearn_data/cobre/fmri_0040096.nii.gz\n",
            "[NiftiLabelsMasker.transform_single_imgs] Extracting region signals\n",
            "[NiftiLabelsMasker.transform_single_imgs] Cleaning extracted signals\n",
            "_______________________________________________filter_and_extract - 0.5s, 0.0min\n",
            "[NiftiLabelsMasker.fit_transform] loading data from /root/nilearn_data/basc_multiscale_2015/template_cambridge_basc_multiscale_nii_sym/template_cambridge_basc_multiscale_sym_scale064.nii.gz\n",
            "________________________________________________________________________________\n",
            "[Memory] Calling nilearn.input_data.base_masker.filter_and_extract...\n",
            "filter_and_extract('/root/nilearn_data/cobre/fmri_0040122.nii.gz', <nilearn.input_data.nifti_labels_masker._ExtractionFunctor object at 0x7fdd0f70dbd0>, \n",
            "{ 'background_label': 0,\n",
            "  'detrend': False,\n",
            "  'dtype': None,\n",
            "  'high_pass': None,\n",
            "  'high_variance_confounds': False,\n",
            "  'labels': None,\n",
            "  'labels_img': '/root/nilearn_data/basc_multiscale_2015/template_cambridge_basc_multiscale_nii_sym/template_cambridge_basc_multiscale_sym_scale064.nii.gz',\n",
            "  'low_pass': None,\n",
            "  'mask_img': None,\n",
            "  'reports': True,\n",
            "  'smoothing_fwhm': None,\n",
            "  'standardize': True,\n",
            "  'standardize_confounds': True,\n",
            "  'strategy': 'mean',\n",
            "  't_r': None,\n",
            "  'target_affine': None,\n",
            "  'target_shape': None}, confounds=['/root/nilearn_data/cobre/fmri_0040122.tsv'], sample_mask=None, dtype=None, memory=Memory(location=nilearn_cache/joblib), memory_level=1, verbose=1)\n",
            "[NiftiLabelsMasker.transform_single_imgs] Loading data from /root/nilearn_data/cobre/fmri_0040122.nii.gz\n",
            "[NiftiLabelsMasker.transform_single_imgs] Extracting region signals\n",
            "[NiftiLabelsMasker.transform_single_imgs] Cleaning extracted signals\n",
            "_______________________________________________filter_and_extract - 0.5s, 0.0min\n",
            "[NiftiLabelsMasker.fit_transform] loading data from /root/nilearn_data/basc_multiscale_2015/template_cambridge_basc_multiscale_nii_sym/template_cambridge_basc_multiscale_sym_scale064.nii.gz\n",
            "________________________________________________________________________________\n",
            "[Memory] Calling nilearn.input_data.base_masker.filter_and_extract...\n",
            "filter_and_extract('/root/nilearn_data/cobre/fmri_0040022.nii.gz', <nilearn.input_data.nifti_labels_masker._ExtractionFunctor object at 0x7fdd0af1e050>, \n",
            "{ 'background_label': 0,\n",
            "  'detrend': False,\n",
            "  'dtype': None,\n",
            "  'high_pass': None,\n",
            "  'high_variance_confounds': False,\n",
            "  'labels': None,\n",
            "  'labels_img': '/root/nilearn_data/basc_multiscale_2015/template_cambridge_basc_multiscale_nii_sym/template_cambridge_basc_multiscale_sym_scale064.nii.gz',\n",
            "  'low_pass': None,\n",
            "  'mask_img': None,\n",
            "  'reports': True,\n",
            "  'smoothing_fwhm': None,\n",
            "  'standardize': True,\n",
            "  'standardize_confounds': True,\n",
            "  'strategy': 'mean',\n",
            "  't_r': None,\n",
            "  'target_affine': None,\n",
            "  'target_shape': None}, confounds=['/root/nilearn_data/cobre/fmri_0040022.tsv'], sample_mask=None, dtype=None, memory=Memory(location=nilearn_cache/joblib), memory_level=1, verbose=1)\n",
            "[NiftiLabelsMasker.transform_single_imgs] Loading data from /root/nilearn_data/cobre/fmri_0040022.nii.gz\n",
            "[NiftiLabelsMasker.transform_single_imgs] Extracting region signals\n",
            "[NiftiLabelsMasker.transform_single_imgs] Cleaning extracted signals\n",
            "_______________________________________________filter_and_extract - 0.5s, 0.0min\n",
            "[NiftiLabelsMasker.fit_transform] loading data from /root/nilearn_data/basc_multiscale_2015/template_cambridge_basc_multiscale_nii_sym/template_cambridge_basc_multiscale_sym_scale064.nii.gz\n",
            "________________________________________________________________________________\n",
            "[Memory] Calling nilearn.input_data.base_masker.filter_and_extract...\n",
            "filter_and_extract('/root/nilearn_data/cobre/fmri_0040073.nii.gz', <nilearn.input_data.nifti_labels_masker._ExtractionFunctor object at 0x7fdd0ae9d4d0>, \n",
            "{ 'background_label': 0,\n",
            "  'detrend': False,\n",
            "  'dtype': None,\n",
            "  'high_pass': None,\n",
            "  'high_variance_confounds': False,\n",
            "  'labels': None,\n",
            "  'labels_img': '/root/nilearn_data/basc_multiscale_2015/template_cambridge_basc_multiscale_nii_sym/template_cambridge_basc_multiscale_sym_scale064.nii.gz',\n",
            "  'low_pass': None,\n",
            "  'mask_img': None,\n",
            "  'reports': True,\n",
            "  'smoothing_fwhm': None,\n",
            "  'standardize': True,\n",
            "  'standardize_confounds': True,\n",
            "  'strategy': 'mean',\n",
            "  't_r': None,\n",
            "  'target_affine': None,\n",
            "  'target_shape': None}, confounds=['/root/nilearn_data/cobre/fmri_0040073.tsv'], sample_mask=None, dtype=None, memory=Memory(location=nilearn_cache/joblib), memory_level=1, verbose=1)\n",
            "[NiftiLabelsMasker.transform_single_imgs] Loading data from /root/nilearn_data/cobre/fmri_0040073.nii.gz\n",
            "[NiftiLabelsMasker.transform_single_imgs] Extracting region signals\n",
            "[NiftiLabelsMasker.transform_single_imgs] Cleaning extracted signals\n",
            "_______________________________________________filter_and_extract - 0.5s, 0.0min\n",
            "[NiftiLabelsMasker.fit_transform] loading data from /root/nilearn_data/basc_multiscale_2015/template_cambridge_basc_multiscale_nii_sym/template_cambridge_basc_multiscale_sym_scale064.nii.gz\n",
            "________________________________________________________________________________\n",
            "[Memory] Calling nilearn.input_data.base_masker.filter_and_extract...\n",
            "filter_and_extract('/root/nilearn_data/cobre/fmri_0040142.nii.gz', <nilearn.input_data.nifti_labels_masker._ExtractionFunctor object at 0x7fdcfd9a9e90>, \n",
            "{ 'background_label': 0,\n",
            "  'detrend': False,\n",
            "  'dtype': None,\n",
            "  'high_pass': None,\n",
            "  'high_variance_confounds': False,\n",
            "  'labels': None,\n",
            "  'labels_img': '/root/nilearn_data/basc_multiscale_2015/template_cambridge_basc_multiscale_nii_sym/template_cambridge_basc_multiscale_sym_scale064.nii.gz',\n",
            "  'low_pass': None,\n",
            "  'mask_img': None,\n",
            "  'reports': True,\n",
            "  'smoothing_fwhm': None,\n",
            "  'standardize': True,\n",
            "  'standardize_confounds': True,\n",
            "  'strategy': 'mean',\n",
            "  't_r': None,\n",
            "  'target_affine': None,\n",
            "  'target_shape': None}, confounds=['/root/nilearn_data/cobre/fmri_0040142.tsv'], sample_mask=None, dtype=None, memory=Memory(location=nilearn_cache/joblib), memory_level=1, verbose=1)\n",
            "[NiftiLabelsMasker.transform_single_imgs] Loading data from /root/nilearn_data/cobre/fmri_0040142.nii.gz\n",
            "[NiftiLabelsMasker.transform_single_imgs] Extracting region signals\n",
            "[NiftiLabelsMasker.transform_single_imgs] Cleaning extracted signals\n",
            "_______________________________________________filter_and_extract - 0.5s, 0.0min\n",
            "[NiftiLabelsMasker.fit_transform] loading data from /root/nilearn_data/basc_multiscale_2015/template_cambridge_basc_multiscale_nii_sym/template_cambridge_basc_multiscale_sym_scale064.nii.gz\n",
            "________________________________________________________________________________\n",
            "[Memory] Calling nilearn.input_data.base_masker.filter_and_extract...\n",
            "filter_and_extract('/root/nilearn_data/cobre/fmri_0040037.nii.gz', <nilearn.input_data.nifti_labels_masker._ExtractionFunctor object at 0x7fdcfd44ee50>, \n",
            "{ 'background_label': 0,\n",
            "  'detrend': False,\n",
            "  'dtype': None,\n",
            "  'high_pass': None,\n",
            "  'high_variance_confounds': False,\n",
            "  'labels': None,\n",
            "  'labels_img': '/root/nilearn_data/basc_multiscale_2015/template_cambridge_basc_multiscale_nii_sym/template_cambridge_basc_multiscale_sym_scale064.nii.gz',\n",
            "  'low_pass': None,\n",
            "  'mask_img': None,\n",
            "  'reports': True,\n",
            "  'smoothing_fwhm': None,\n",
            "  'standardize': True,\n",
            "  'standardize_confounds': True,\n",
            "  'strategy': 'mean',\n",
            "  't_r': None,\n",
            "  'target_affine': None,\n",
            "  'target_shape': None}, confounds=['/root/nilearn_data/cobre/fmri_0040037.tsv'], sample_mask=None, dtype=None, memory=Memory(location=nilearn_cache/joblib), memory_level=1, verbose=1)\n",
            "[NiftiLabelsMasker.transform_single_imgs] Loading data from /root/nilearn_data/cobre/fmri_0040037.nii.gz\n",
            "[NiftiLabelsMasker.transform_single_imgs] Extracting region signals\n",
            "[NiftiLabelsMasker.transform_single_imgs] Cleaning extracted signals\n",
            "_______________________________________________filter_and_extract - 0.5s, 0.0min\n",
            "[NiftiLabelsMasker.fit_transform] loading data from /root/nilearn_data/basc_multiscale_2015/template_cambridge_basc_multiscale_nii_sym/template_cambridge_basc_multiscale_sym_scale064.nii.gz\n",
            "________________________________________________________________________________\n",
            "[Memory] Calling nilearn.input_data.base_masker.filter_and_extract...\n",
            "filter_and_extract('/root/nilearn_data/cobre/fmri_0040059.nii.gz', <nilearn.input_data.nifti_labels_masker._ExtractionFunctor object at 0x7fdd0a466250>, \n",
            "{ 'background_label': 0,\n",
            "  'detrend': False,\n",
            "  'dtype': None,\n",
            "  'high_pass': None,\n",
            "  'high_variance_confounds': False,\n",
            "  'labels': None,\n",
            "  'labels_img': '/root/nilearn_data/basc_multiscale_2015/template_cambridge_basc_multiscale_nii_sym/template_cambridge_basc_multiscale_sym_scale064.nii.gz',\n",
            "  'low_pass': None,\n",
            "  'mask_img': None,\n",
            "  'reports': True,\n",
            "  'smoothing_fwhm': None,\n",
            "  'standardize': True,\n",
            "  'standardize_confounds': True,\n",
            "  'strategy': 'mean',\n",
            "  't_r': None,\n",
            "  'target_affine': None,\n",
            "  'target_shape': None}, confounds=['/root/nilearn_data/cobre/fmri_0040059.tsv'], sample_mask=None, dtype=None, memory=Memory(location=nilearn_cache/joblib), memory_level=1, verbose=1)\n",
            "[NiftiLabelsMasker.transform_single_imgs] Loading data from /root/nilearn_data/cobre/fmri_0040059.nii.gz\n",
            "[NiftiLabelsMasker.transform_single_imgs] Extracting region signals\n",
            "[NiftiLabelsMasker.transform_single_imgs] Cleaning extracted signals\n",
            "_______________________________________________filter_and_extract - 0.5s, 0.0min\n",
            "[NiftiLabelsMasker.fit_transform] loading data from /root/nilearn_data/basc_multiscale_2015/template_cambridge_basc_multiscale_nii_sym/template_cambridge_basc_multiscale_sym_scale064.nii.gz\n",
            "________________________________________________________________________________\n",
            "[Memory] Calling nilearn.input_data.base_masker.filter_and_extract...\n",
            "filter_and_extract('/root/nilearn_data/cobre/fmri_0040072.nii.gz', <nilearn.input_data.nifti_labels_masker._ExtractionFunctor object at 0x7fdd0ae9d690>, \n",
            "{ 'background_label': 0,\n",
            "  'detrend': False,\n",
            "  'dtype': None,\n",
            "  'high_pass': None,\n",
            "  'high_variance_confounds': False,\n",
            "  'labels': None,\n",
            "  'labels_img': '/root/nilearn_data/basc_multiscale_2015/template_cambridge_basc_multiscale_nii_sym/template_cambridge_basc_multiscale_sym_scale064.nii.gz',\n",
            "  'low_pass': None,\n",
            "  'mask_img': None,\n",
            "  'reports': True,\n",
            "  'smoothing_fwhm': None,\n",
            "  'standardize': True,\n",
            "  'standardize_confounds': True,\n",
            "  'strategy': 'mean',\n",
            "  't_r': None,\n",
            "  'target_affine': None,\n",
            "  'target_shape': None}, confounds=['/root/nilearn_data/cobre/fmri_0040072.tsv'], sample_mask=None, dtype=None, memory=Memory(location=nilearn_cache/joblib), memory_level=1, verbose=1)\n",
            "[NiftiLabelsMasker.transform_single_imgs] Loading data from /root/nilearn_data/cobre/fmri_0040072.nii.gz\n",
            "[NiftiLabelsMasker.transform_single_imgs] Extracting region signals\n",
            "[NiftiLabelsMasker.transform_single_imgs] Cleaning extracted signals\n",
            "_______________________________________________filter_and_extract - 0.5s, 0.0min\n",
            "[NiftiLabelsMasker.fit_transform] loading data from /root/nilearn_data/basc_multiscale_2015/template_cambridge_basc_multiscale_nii_sym/template_cambridge_basc_multiscale_sym_scale064.nii.gz\n",
            "________________________________________________________________________________\n",
            "[Memory] Calling nilearn.input_data.base_masker.filter_and_extract...\n",
            "filter_and_extract('/root/nilearn_data/cobre/fmri_0040079.nii.gz', <nilearn.input_data.nifti_labels_masker._ExtractionFunctor object at 0x7fdd11532d10>, \n",
            "{ 'background_label': 0,\n",
            "  'detrend': False,\n",
            "  'dtype': None,\n",
            "  'high_pass': None,\n",
            "  'high_variance_confounds': False,\n",
            "  'labels': None,\n",
            "  'labels_img': '/root/nilearn_data/basc_multiscale_2015/template_cambridge_basc_multiscale_nii_sym/template_cambridge_basc_multiscale_sym_scale064.nii.gz',\n",
            "  'low_pass': None,\n",
            "  'mask_img': None,\n",
            "  'reports': True,\n",
            "  'smoothing_fwhm': None,\n",
            "  'standardize': True,\n",
            "  'standardize_confounds': True,\n",
            "  'strategy': 'mean',\n",
            "  't_r': None,\n",
            "  'target_affine': None,\n",
            "  'target_shape': None}, confounds=['/root/nilearn_data/cobre/fmri_0040079.tsv'], sample_mask=None, dtype=None, memory=Memory(location=nilearn_cache/joblib), memory_level=1, verbose=1)\n",
            "[NiftiLabelsMasker.transform_single_imgs] Loading data from /root/nilearn_data/cobre/fmri_0040079.nii.gz\n",
            "[NiftiLabelsMasker.transform_single_imgs] Extracting region signals\n",
            "[NiftiLabelsMasker.transform_single_imgs] Cleaning extracted signals\n",
            "_______________________________________________filter_and_extract - 0.5s, 0.0min\n",
            "[NiftiLabelsMasker.fit_transform] loading data from /root/nilearn_data/basc_multiscale_2015/template_cambridge_basc_multiscale_nii_sym/template_cambridge_basc_multiscale_sym_scale064.nii.gz\n",
            "________________________________________________________________________________\n",
            "[Memory] Calling nilearn.input_data.base_masker.filter_and_extract...\n",
            "filter_and_extract('/root/nilearn_data/cobre/fmri_0040080.nii.gz', <nilearn.input_data.nifti_labels_masker._ExtractionFunctor object at 0x7fdd0efe0fd0>, \n",
            "{ 'background_label': 0,\n",
            "  'detrend': False,\n",
            "  'dtype': None,\n",
            "  'high_pass': None,\n",
            "  'high_variance_confounds': False,\n",
            "  'labels': None,\n",
            "  'labels_img': '/root/nilearn_data/basc_multiscale_2015/template_cambridge_basc_multiscale_nii_sym/template_cambridge_basc_multiscale_sym_scale064.nii.gz',\n",
            "  'low_pass': None,\n",
            "  'mask_img': None,\n",
            "  'reports': True,\n",
            "  'smoothing_fwhm': None,\n",
            "  'standardize': True,\n",
            "  'standardize_confounds': True,\n",
            "  'strategy': 'mean',\n",
            "  't_r': None,\n",
            "  'target_affine': None,\n",
            "  'target_shape': None}, confounds=['/root/nilearn_data/cobre/fmri_0040080.tsv'], sample_mask=None, dtype=None, memory=Memory(location=nilearn_cache/joblib), memory_level=1, verbose=1)\n",
            "[NiftiLabelsMasker.transform_single_imgs] Loading data from /root/nilearn_data/cobre/fmri_0040080.nii.gz\n",
            "[NiftiLabelsMasker.transform_single_imgs] Extracting region signals\n",
            "[NiftiLabelsMasker.transform_single_imgs] Cleaning extracted signals\n",
            "_______________________________________________filter_and_extract - 0.5s, 0.0min\n",
            "[NiftiLabelsMasker.fit_transform] loading data from /root/nilearn_data/basc_multiscale_2015/template_cambridge_basc_multiscale_nii_sym/template_cambridge_basc_multiscale_sym_scale064.nii.gz\n",
            "________________________________________________________________________________\n",
            "[Memory] Calling nilearn.input_data.base_masker.filter_and_extract...\n",
            "filter_and_extract('/root/nilearn_data/cobre/fmri_0040001.nii.gz', <nilearn.input_data.nifti_labels_masker._ExtractionFunctor object at 0x7fdd0efb4310>, \n",
            "{ 'background_label': 0,\n",
            "  'detrend': False,\n",
            "  'dtype': None,\n",
            "  'high_pass': None,\n",
            "  'high_variance_confounds': False,\n",
            "  'labels': None,\n",
            "  'labels_img': '/root/nilearn_data/basc_multiscale_2015/template_cambridge_basc_multiscale_nii_sym/template_cambridge_basc_multiscale_sym_scale064.nii.gz',\n",
            "  'low_pass': None,\n",
            "  'mask_img': None,\n",
            "  'reports': True,\n",
            "  'smoothing_fwhm': None,\n",
            "  'standardize': True,\n",
            "  'standardize_confounds': True,\n",
            "  'strategy': 'mean',\n",
            "  't_r': None,\n",
            "  'target_affine': None,\n",
            "  'target_shape': None}, confounds=['/root/nilearn_data/cobre/fmri_0040001.tsv'], sample_mask=None, dtype=None, memory=Memory(location=nilearn_cache/joblib), memory_level=1, verbose=1)\n",
            "[NiftiLabelsMasker.transform_single_imgs] Loading data from /root/nilearn_data/cobre/fmri_0040001.nii.gz\n",
            "[NiftiLabelsMasker.transform_single_imgs] Extracting region signals\n",
            "[NiftiLabelsMasker.transform_single_imgs] Cleaning extracted signals\n",
            "_______________________________________________filter_and_extract - 0.5s, 0.0min\n",
            "[NiftiLabelsMasker.fit_transform] loading data from /root/nilearn_data/basc_multiscale_2015/template_cambridge_basc_multiscale_nii_sym/template_cambridge_basc_multiscale_sym_scale064.nii.gz\n",
            "________________________________________________________________________________\n",
            "[Memory] Calling nilearn.input_data.base_masker.filter_and_extract...\n",
            "filter_and_extract('/root/nilearn_data/cobre/fmri_0040003.nii.gz', <nilearn.input_data.nifti_labels_masker._ExtractionFunctor object at 0x7fdcfdaafc50>, \n",
            "{ 'background_label': 0,\n",
            "  'detrend': False,\n",
            "  'dtype': None,\n",
            "  'high_pass': None,\n",
            "  'high_variance_confounds': False,\n",
            "  'labels': None,\n",
            "  'labels_img': '/root/nilearn_data/basc_multiscale_2015/template_cambridge_basc_multiscale_nii_sym/template_cambridge_basc_multiscale_sym_scale064.nii.gz',\n",
            "  'low_pass': None,\n",
            "  'mask_img': None,\n",
            "  'reports': True,\n",
            "  'smoothing_fwhm': None,\n",
            "  'standardize': True,\n",
            "  'standardize_confounds': True,\n",
            "  'strategy': 'mean',\n",
            "  't_r': None,\n",
            "  'target_affine': None,\n",
            "  'target_shape': None}, confounds=['/root/nilearn_data/cobre/fmri_0040003.tsv'], sample_mask=None, dtype=None, memory=Memory(location=nilearn_cache/joblib), memory_level=1, verbose=1)\n",
            "[NiftiLabelsMasker.transform_single_imgs] Loading data from /root/nilearn_data/cobre/fmri_0040003.nii.gz\n",
            "[NiftiLabelsMasker.transform_single_imgs] Extracting region signals\n",
            "[NiftiLabelsMasker.transform_single_imgs] Cleaning extracted signals\n",
            "_______________________________________________filter_and_extract - 0.4s, 0.0min\n",
            "[NiftiLabelsMasker.fit_transform] loading data from /root/nilearn_data/basc_multiscale_2015/template_cambridge_basc_multiscale_nii_sym/template_cambridge_basc_multiscale_sym_scale064.nii.gz\n",
            "________________________________________________________________________________\n",
            "[Memory] Calling nilearn.input_data.base_masker.filter_and_extract...\n",
            "filter_and_extract('/root/nilearn_data/cobre/fmri_0040008.nii.gz', <nilearn.input_data.nifti_labels_masker._ExtractionFunctor object at 0x7fdcfdb07890>, \n",
            "{ 'background_label': 0,\n",
            "  'detrend': False,\n",
            "  'dtype': None,\n",
            "  'high_pass': None,\n",
            "  'high_variance_confounds': False,\n",
            "  'labels': None,\n",
            "  'labels_img': '/root/nilearn_data/basc_multiscale_2015/template_cambridge_basc_multiscale_nii_sym/template_cambridge_basc_multiscale_sym_scale064.nii.gz',\n",
            "  'low_pass': None,\n",
            "  'mask_img': None,\n",
            "  'reports': True,\n",
            "  'smoothing_fwhm': None,\n",
            "  'standardize': True,\n",
            "  'standardize_confounds': True,\n",
            "  'strategy': 'mean',\n",
            "  't_r': None,\n",
            "  'target_affine': None,\n",
            "  'target_shape': None}, confounds=['/root/nilearn_data/cobre/fmri_0040008.tsv'], sample_mask=None, dtype=None, memory=Memory(location=nilearn_cache/joblib), memory_level=1, verbose=1)\n",
            "[NiftiLabelsMasker.transform_single_imgs] Loading data from /root/nilearn_data/cobre/fmri_0040008.nii.gz\n",
            "[NiftiLabelsMasker.transform_single_imgs] Extracting region signals\n",
            "[NiftiLabelsMasker.transform_single_imgs] Cleaning extracted signals\n",
            "_______________________________________________filter_and_extract - 0.5s, 0.0min\n",
            "[NiftiLabelsMasker.fit_transform] loading data from /root/nilearn_data/basc_multiscale_2015/template_cambridge_basc_multiscale_nii_sym/template_cambridge_basc_multiscale_sym_scale064.nii.gz\n",
            "________________________________________________________________________________\n",
            "[Memory] Calling nilearn.input_data.base_masker.filter_and_extract...\n",
            "filter_and_extract('/root/nilearn_data/cobre/fmri_0040011.nii.gz', <nilearn.input_data.nifti_labels_masker._ExtractionFunctor object at 0x7fdcfdb07890>, \n",
            "{ 'background_label': 0,\n",
            "  'detrend': False,\n",
            "  'dtype': None,\n",
            "  'high_pass': None,\n",
            "  'high_variance_confounds': False,\n",
            "  'labels': None,\n",
            "  'labels_img': '/root/nilearn_data/basc_multiscale_2015/template_cambridge_basc_multiscale_nii_sym/template_cambridge_basc_multiscale_sym_scale064.nii.gz',\n",
            "  'low_pass': None,\n",
            "  'mask_img': None,\n",
            "  'reports': True,\n",
            "  'smoothing_fwhm': None,\n",
            "  'standardize': True,\n",
            "  'standardize_confounds': True,\n",
            "  'strategy': 'mean',\n",
            "  't_r': None,\n",
            "  'target_affine': None,\n",
            "  'target_shape': None}, confounds=['/root/nilearn_data/cobre/fmri_0040011.tsv'], sample_mask=None, dtype=None, memory=Memory(location=nilearn_cache/joblib), memory_level=1, verbose=1)\n",
            "[NiftiLabelsMasker.transform_single_imgs] Loading data from /root/nilearn_data/cobre/fmri_0040011.nii.gz\n",
            "[NiftiLabelsMasker.transform_single_imgs] Extracting region signals\n",
            "[NiftiLabelsMasker.transform_single_imgs] Cleaning extracted signals\n",
            "_______________________________________________filter_and_extract - 0.5s, 0.0min\n",
            "[NiftiLabelsMasker.fit_transform] loading data from /root/nilearn_data/basc_multiscale_2015/template_cambridge_basc_multiscale_nii_sym/template_cambridge_basc_multiscale_sym_scale064.nii.gz\n",
            "________________________________________________________________________________\n",
            "[Memory] Calling nilearn.input_data.base_masker.filter_and_extract...\n",
            "filter_and_extract('/root/nilearn_data/cobre/fmri_0040077.nii.gz', <nilearn.input_data.nifti_labels_masker._ExtractionFunctor object at 0x7fdd149a1f50>, \n",
            "{ 'background_label': 0,\n",
            "  'detrend': False,\n",
            "  'dtype': None,\n",
            "  'high_pass': None,\n",
            "  'high_variance_confounds': False,\n",
            "  'labels': None,\n",
            "  'labels_img': '/root/nilearn_data/basc_multiscale_2015/template_cambridge_basc_multiscale_nii_sym/template_cambridge_basc_multiscale_sym_scale064.nii.gz',\n",
            "  'low_pass': None,\n",
            "  'mask_img': None,\n",
            "  'reports': True,\n",
            "  'smoothing_fwhm': None,\n",
            "  'standardize': True,\n",
            "  'standardize_confounds': True,\n",
            "  'strategy': 'mean',\n",
            "  't_r': None,\n",
            "  'target_affine': None,\n",
            "  'target_shape': None}, confounds=['/root/nilearn_data/cobre/fmri_0040077.tsv'], sample_mask=None, dtype=None, memory=Memory(location=nilearn_cache/joblib), memory_level=1, verbose=1)\n",
            "[NiftiLabelsMasker.transform_single_imgs] Loading data from /root/nilearn_data/cobre/fmri_0040077.nii.gz\n",
            "[NiftiLabelsMasker.transform_single_imgs] Extracting region signals\n",
            "[NiftiLabelsMasker.transform_single_imgs] Cleaning extracted signals\n",
            "_______________________________________________filter_and_extract - 0.5s, 0.0min\n",
            "[NiftiLabelsMasker.fit_transform] loading data from /root/nilearn_data/basc_multiscale_2015/template_cambridge_basc_multiscale_nii_sym/template_cambridge_basc_multiscale_sym_scale064.nii.gz\n",
            "________________________________________________________________________________\n",
            "[Memory] Calling nilearn.input_data.base_masker.filter_and_extract...\n",
            "filter_and_extract('/root/nilearn_data/cobre/fmri_0040034.nii.gz', <nilearn.input_data.nifti_labels_masker._ExtractionFunctor object at 0x7fdcfdaafc50>, \n",
            "{ 'background_label': 0,\n",
            "  'detrend': False,\n",
            "  'dtype': None,\n",
            "  'high_pass': None,\n",
            "  'high_variance_confounds': False,\n",
            "  'labels': None,\n",
            "  'labels_img': '/root/nilearn_data/basc_multiscale_2015/template_cambridge_basc_multiscale_nii_sym/template_cambridge_basc_multiscale_sym_scale064.nii.gz',\n",
            "  'low_pass': None,\n",
            "  'mask_img': None,\n",
            "  'reports': True,\n",
            "  'smoothing_fwhm': None,\n",
            "  'standardize': True,\n",
            "  'standardize_confounds': True,\n",
            "  'strategy': 'mean',\n",
            "  't_r': None,\n",
            "  'target_affine': None,\n",
            "  'target_shape': None}, confounds=['/root/nilearn_data/cobre/fmri_0040034.tsv'], sample_mask=None, dtype=None, memory=Memory(location=nilearn_cache/joblib), memory_level=1, verbose=1)\n",
            "[NiftiLabelsMasker.transform_single_imgs] Loading data from /root/nilearn_data/cobre/fmri_0040034.nii.gz\n",
            "[NiftiLabelsMasker.transform_single_imgs] Extracting region signals\n",
            "[NiftiLabelsMasker.transform_single_imgs] Cleaning extracted signals\n",
            "_______________________________________________filter_and_extract - 0.5s, 0.0min\n",
            "[NiftiLabelsMasker.fit_transform] loading data from /root/nilearn_data/basc_multiscale_2015/template_cambridge_basc_multiscale_nii_sym/template_cambridge_basc_multiscale_sym_scale064.nii.gz\n",
            "________________________________________________________________________________\n",
            "[Memory] Calling nilearn.input_data.base_masker.filter_and_extract...\n",
            "filter_and_extract('/root/nilearn_data/cobre/fmri_0040108.nii.gz', <nilearn.input_data.nifti_labels_masker._ExtractionFunctor object at 0x7fdcfd9b6410>, \n",
            "{ 'background_label': 0,\n",
            "  'detrend': False,\n",
            "  'dtype': None,\n",
            "  'high_pass': None,\n",
            "  'high_variance_confounds': False,\n",
            "  'labels': None,\n",
            "  'labels_img': '/root/nilearn_data/basc_multiscale_2015/template_cambridge_basc_multiscale_nii_sym/template_cambridge_basc_multiscale_sym_scale064.nii.gz',\n",
            "  'low_pass': None,\n",
            "  'mask_img': None,\n",
            "  'reports': True,\n",
            "  'smoothing_fwhm': None,\n",
            "  'standardize': True,\n",
            "  'standardize_confounds': True,\n",
            "  'strategy': 'mean',\n",
            "  't_r': None,\n",
            "  'target_affine': None,\n",
            "  'target_shape': None}, confounds=['/root/nilearn_data/cobre/fmri_0040108.tsv'], sample_mask=None, dtype=None, memory=Memory(location=nilearn_cache/joblib), memory_level=1, verbose=1)\n",
            "[NiftiLabelsMasker.transform_single_imgs] Loading data from /root/nilearn_data/cobre/fmri_0040108.nii.gz\n",
            "[NiftiLabelsMasker.transform_single_imgs] Extracting region signals\n",
            "[NiftiLabelsMasker.transform_single_imgs] Cleaning extracted signals\n",
            "_______________________________________________filter_and_extract - 0.5s, 0.0min\n",
            "[NiftiLabelsMasker.fit_transform] loading data from /root/nilearn_data/basc_multiscale_2015/template_cambridge_basc_multiscale_nii_sym/template_cambridge_basc_multiscale_sym_scale064.nii.gz\n",
            "________________________________________________________________________________\n",
            "[Memory] Calling nilearn.input_data.base_masker.filter_and_extract...\n",
            "filter_and_extract('/root/nilearn_data/cobre/fmri_0040009.nii.gz', <nilearn.input_data.nifti_labels_masker._ExtractionFunctor object at 0x7fdd0f4b6850>, \n",
            "{ 'background_label': 0,\n",
            "  'detrend': False,\n",
            "  'dtype': None,\n",
            "  'high_pass': None,\n",
            "  'high_variance_confounds': False,\n",
            "  'labels': None,\n",
            "  'labels_img': '/root/nilearn_data/basc_multiscale_2015/template_cambridge_basc_multiscale_nii_sym/template_cambridge_basc_multiscale_sym_scale064.nii.gz',\n",
            "  'low_pass': None,\n",
            "  'mask_img': None,\n",
            "  'reports': True,\n",
            "  'smoothing_fwhm': None,\n",
            "  'standardize': True,\n",
            "  'standardize_confounds': True,\n",
            "  'strategy': 'mean',\n",
            "  't_r': None,\n",
            "  'target_affine': None,\n",
            "  'target_shape': None}, confounds=['/root/nilearn_data/cobre/fmri_0040009.tsv'], sample_mask=None, dtype=None, memory=Memory(location=nilearn_cache/joblib), memory_level=1, verbose=1)\n",
            "[NiftiLabelsMasker.transform_single_imgs] Loading data from /root/nilearn_data/cobre/fmri_0040009.nii.gz\n",
            "[NiftiLabelsMasker.transform_single_imgs] Extracting region signals\n",
            "[NiftiLabelsMasker.transform_single_imgs] Cleaning extracted signals\n",
            "_______________________________________________filter_and_extract - 0.5s, 0.0min\n",
            "[NiftiLabelsMasker.fit_transform] loading data from /root/nilearn_data/basc_multiscale_2015/template_cambridge_basc_multiscale_nii_sym/template_cambridge_basc_multiscale_sym_scale064.nii.gz\n",
            "________________________________________________________________________________\n",
            "[Memory] Calling nilearn.input_data.base_masker.filter_and_extract...\n",
            "filter_and_extract('/root/nilearn_data/cobre/fmri_0040032.nii.gz', <nilearn.input_data.nifti_labels_masker._ExtractionFunctor object at 0x7fdcfd9b6410>, \n",
            "{ 'background_label': 0,\n",
            "  'detrend': False,\n",
            "  'dtype': None,\n",
            "  'high_pass': None,\n",
            "  'high_variance_confounds': False,\n",
            "  'labels': None,\n",
            "  'labels_img': '/root/nilearn_data/basc_multiscale_2015/template_cambridge_basc_multiscale_nii_sym/template_cambridge_basc_multiscale_sym_scale064.nii.gz',\n",
            "  'low_pass': None,\n",
            "  'mask_img': None,\n",
            "  'reports': True,\n",
            "  'smoothing_fwhm': None,\n",
            "  'standardize': True,\n",
            "  'standardize_confounds': True,\n",
            "  'strategy': 'mean',\n",
            "  't_r': None,\n",
            "  'target_affine': None,\n",
            "  'target_shape': None}, confounds=['/root/nilearn_data/cobre/fmri_0040032.tsv'], sample_mask=None, dtype=None, memory=Memory(location=nilearn_cache/joblib), memory_level=1, verbose=1)\n",
            "[NiftiLabelsMasker.transform_single_imgs] Loading data from /root/nilearn_data/cobre/fmri_0040032.nii.gz\n",
            "[NiftiLabelsMasker.transform_single_imgs] Extracting region signals\n",
            "[NiftiLabelsMasker.transform_single_imgs] Cleaning extracted signals\n",
            "_______________________________________________filter_and_extract - 0.5s, 0.0min\n",
            "[NiftiLabelsMasker.fit_transform] loading data from /root/nilearn_data/basc_multiscale_2015/template_cambridge_basc_multiscale_nii_sym/template_cambridge_basc_multiscale_sym_scale064.nii.gz\n",
            "________________________________________________________________________________\n",
            "[Memory] Calling nilearn.input_data.base_masker.filter_and_extract...\n",
            "filter_and_extract('/root/nilearn_data/cobre/fmri_0040012.nii.gz', <nilearn.input_data.nifti_labels_masker._ExtractionFunctor object at 0x7fdcfdadbf90>, \n",
            "{ 'background_label': 0,\n",
            "  'detrend': False,\n",
            "  'dtype': None,\n",
            "  'high_pass': None,\n",
            "  'high_variance_confounds': False,\n",
            "  'labels': None,\n",
            "  'labels_img': '/root/nilearn_data/basc_multiscale_2015/template_cambridge_basc_multiscale_nii_sym/template_cambridge_basc_multiscale_sym_scale064.nii.gz',\n",
            "  'low_pass': None,\n",
            "  'mask_img': None,\n",
            "  'reports': True,\n",
            "  'smoothing_fwhm': None,\n",
            "  'standardize': True,\n",
            "  'standardize_confounds': True,\n",
            "  'strategy': 'mean',\n",
            "  't_r': None,\n",
            "  'target_affine': None,\n",
            "  'target_shape': None}, confounds=['/root/nilearn_data/cobre/fmri_0040012.tsv'], sample_mask=None, dtype=None, memory=Memory(location=nilearn_cache/joblib), memory_level=1, verbose=1)\n",
            "[NiftiLabelsMasker.transform_single_imgs] Loading data from /root/nilearn_data/cobre/fmri_0040012.nii.gz\n",
            "[NiftiLabelsMasker.transform_single_imgs] Extracting region signals\n",
            "[NiftiLabelsMasker.transform_single_imgs] Cleaning extracted signals\n",
            "_______________________________________________filter_and_extract - 0.5s, 0.0min\n",
            "[NiftiLabelsMasker.fit_transform] loading data from /root/nilearn_data/basc_multiscale_2015/template_cambridge_basc_multiscale_nii_sym/template_cambridge_basc_multiscale_sym_scale064.nii.gz\n",
            "________________________________________________________________________________\n",
            "[Memory] Calling nilearn.input_data.base_masker.filter_and_extract...\n",
            "filter_and_extract('/root/nilearn_data/cobre/fmri_0040025.nii.gz', <nilearn.input_data.nifti_labels_masker._ExtractionFunctor object at 0x7fdd0ae9d690>, \n",
            "{ 'background_label': 0,\n",
            "  'detrend': False,\n",
            "  'dtype': None,\n",
            "  'high_pass': None,\n",
            "  'high_variance_confounds': False,\n",
            "  'labels': None,\n",
            "  'labels_img': '/root/nilearn_data/basc_multiscale_2015/template_cambridge_basc_multiscale_nii_sym/template_cambridge_basc_multiscale_sym_scale064.nii.gz',\n",
            "  'low_pass': None,\n",
            "  'mask_img': None,\n",
            "  'reports': True,\n",
            "  'smoothing_fwhm': None,\n",
            "  'standardize': True,\n",
            "  'standardize_confounds': True,\n",
            "  'strategy': 'mean',\n",
            "  't_r': None,\n",
            "  'target_affine': None,\n",
            "  'target_shape': None}, confounds=['/root/nilearn_data/cobre/fmri_0040025.tsv'], sample_mask=None, dtype=None, memory=Memory(location=nilearn_cache/joblib), memory_level=1, verbose=1)\n",
            "[NiftiLabelsMasker.transform_single_imgs] Loading data from /root/nilearn_data/cobre/fmri_0040025.nii.gz\n",
            "[NiftiLabelsMasker.transform_single_imgs] Extracting region signals\n",
            "[NiftiLabelsMasker.transform_single_imgs] Cleaning extracted signals\n",
            "_______________________________________________filter_and_extract - 0.5s, 0.0min\n",
            "[NiftiLabelsMasker.fit_transform] loading data from /root/nilearn_data/basc_multiscale_2015/template_cambridge_basc_multiscale_nii_sym/template_cambridge_basc_multiscale_sym_scale064.nii.gz\n",
            "________________________________________________________________________________\n",
            "[Memory] Calling nilearn.input_data.base_masker.filter_and_extract...\n",
            "filter_and_extract('/root/nilearn_data/cobre/fmri_0040088.nii.gz', <nilearn.input_data.nifti_labels_masker._ExtractionFunctor object at 0x7fdcfdae1890>, \n",
            "{ 'background_label': 0,\n",
            "  'detrend': False,\n",
            "  'dtype': None,\n",
            "  'high_pass': None,\n",
            "  'high_variance_confounds': False,\n",
            "  'labels': None,\n",
            "  'labels_img': '/root/nilearn_data/basc_multiscale_2015/template_cambridge_basc_multiscale_nii_sym/template_cambridge_basc_multiscale_sym_scale064.nii.gz',\n",
            "  'low_pass': None,\n",
            "  'mask_img': None,\n",
            "  'reports': True,\n",
            "  'smoothing_fwhm': None,\n",
            "  'standardize': True,\n",
            "  'standardize_confounds': True,\n",
            "  'strategy': 'mean',\n",
            "  't_r': None,\n",
            "  'target_affine': None,\n",
            "  'target_shape': None}, confounds=['/root/nilearn_data/cobre/fmri_0040088.tsv'], sample_mask=None, dtype=None, memory=Memory(location=nilearn_cache/joblib), memory_level=1, verbose=1)\n",
            "[NiftiLabelsMasker.transform_single_imgs] Loading data from /root/nilearn_data/cobre/fmri_0040088.nii.gz\n",
            "[NiftiLabelsMasker.transform_single_imgs] Extracting region signals\n",
            "[NiftiLabelsMasker.transform_single_imgs] Cleaning extracted signals\n",
            "_______________________________________________filter_and_extract - 1.0s, 0.0min\n",
            "[NiftiLabelsMasker.fit_transform] loading data from /root/nilearn_data/basc_multiscale_2015/template_cambridge_basc_multiscale_nii_sym/template_cambridge_basc_multiscale_sym_scale064.nii.gz\n",
            "________________________________________________________________________________\n",
            "[Memory] Calling nilearn.input_data.base_masker.filter_and_extract...\n",
            "filter_and_extract('/root/nilearn_data/cobre/fmri_0040109.nii.gz', <nilearn.input_data.nifti_labels_masker._ExtractionFunctor object at 0x7fdd0efb4050>, \n",
            "{ 'background_label': 0,\n",
            "  'detrend': False,\n",
            "  'dtype': None,\n",
            "  'high_pass': None,\n",
            "  'high_variance_confounds': False,\n",
            "  'labels': None,\n",
            "  'labels_img': '/root/nilearn_data/basc_multiscale_2015/template_cambridge_basc_multiscale_nii_sym/template_cambridge_basc_multiscale_sym_scale064.nii.gz',\n",
            "  'low_pass': None,\n",
            "  'mask_img': None,\n",
            "  'reports': True,\n",
            "  'smoothing_fwhm': None,\n",
            "  'standardize': True,\n",
            "  'standardize_confounds': True,\n",
            "  'strategy': 'mean',\n",
            "  't_r': None,\n",
            "  'target_affine': None,\n",
            "  'target_shape': None}, confounds=['/root/nilearn_data/cobre/fmri_0040109.tsv'], sample_mask=None, dtype=None, memory=Memory(location=nilearn_cache/joblib), memory_level=1, verbose=1)\n",
            "[NiftiLabelsMasker.transform_single_imgs] Loading data from /root/nilearn_data/cobre/fmri_0040109.nii.gz\n",
            "[NiftiLabelsMasker.transform_single_imgs] Extracting region signals\n",
            "[NiftiLabelsMasker.transform_single_imgs] Cleaning extracted signals\n",
            "_______________________________________________filter_and_extract - 1.1s, 0.0min\n",
            "[NiftiLabelsMasker.fit_transform] loading data from /root/nilearn_data/basc_multiscale_2015/template_cambridge_basc_multiscale_nii_sym/template_cambridge_basc_multiscale_sym_scale064.nii.gz\n",
            "________________________________________________________________________________\n",
            "[Memory] Calling nilearn.input_data.base_masker.filter_and_extract...\n",
            "filter_and_extract('/root/nilearn_data/cobre/fmri_0040098.nii.gz', <nilearn.input_data.nifti_labels_masker._ExtractionFunctor object at 0x7fdd11532d10>, \n",
            "{ 'background_label': 0,\n",
            "  'detrend': False,\n",
            "  'dtype': None,\n",
            "  'high_pass': None,\n",
            "  'high_variance_confounds': False,\n",
            "  'labels': None,\n",
            "  'labels_img': '/root/nilearn_data/basc_multiscale_2015/template_cambridge_basc_multiscale_nii_sym/template_cambridge_basc_multiscale_sym_scale064.nii.gz',\n",
            "  'low_pass': None,\n",
            "  'mask_img': None,\n",
            "  'reports': True,\n",
            "  'smoothing_fwhm': None,\n",
            "  'standardize': True,\n",
            "  'standardize_confounds': True,\n",
            "  'strategy': 'mean',\n",
            "  't_r': None,\n",
            "  'target_affine': None,\n",
            "  'target_shape': None}, confounds=['/root/nilearn_data/cobre/fmri_0040098.tsv'], sample_mask=None, dtype=None, memory=Memory(location=nilearn_cache/joblib), memory_level=1, verbose=1)\n",
            "[NiftiLabelsMasker.transform_single_imgs] Loading data from /root/nilearn_data/cobre/fmri_0040098.nii.gz\n",
            "[NiftiLabelsMasker.transform_single_imgs] Extracting region signals\n",
            "[NiftiLabelsMasker.transform_single_imgs] Cleaning extracted signals\n",
            "_______________________________________________filter_and_extract - 0.9s, 0.0min\n",
            "[NiftiLabelsMasker.fit_transform] loading data from /root/nilearn_data/basc_multiscale_2015/template_cambridge_basc_multiscale_nii_sym/template_cambridge_basc_multiscale_sym_scale064.nii.gz\n",
            "________________________________________________________________________________\n",
            "[Memory] Calling nilearn.input_data.base_masker.filter_and_extract...\n",
            "filter_and_extract('/root/nilearn_data/cobre/fmri_0040100.nii.gz', <nilearn.input_data.nifti_labels_masker._ExtractionFunctor object at 0x7fdcfdaafc50>, \n",
            "{ 'background_label': 0,\n",
            "  'detrend': False,\n",
            "  'dtype': None,\n",
            "  'high_pass': None,\n",
            "  'high_variance_confounds': False,\n",
            "  'labels': None,\n",
            "  'labels_img': '/root/nilearn_data/basc_multiscale_2015/template_cambridge_basc_multiscale_nii_sym/template_cambridge_basc_multiscale_sym_scale064.nii.gz',\n",
            "  'low_pass': None,\n",
            "  'mask_img': None,\n",
            "  'reports': True,\n",
            "  'smoothing_fwhm': None,\n",
            "  'standardize': True,\n",
            "  'standardize_confounds': True,\n",
            "  'strategy': 'mean',\n",
            "  't_r': None,\n",
            "  'target_affine': None,\n",
            "  'target_shape': None}, confounds=['/root/nilearn_data/cobre/fmri_0040100.tsv'], sample_mask=None, dtype=None, memory=Memory(location=nilearn_cache/joblib), memory_level=1, verbose=1)\n",
            "[NiftiLabelsMasker.transform_single_imgs] Loading data from /root/nilearn_data/cobre/fmri_0040100.nii.gz\n",
            "[NiftiLabelsMasker.transform_single_imgs] Extracting region signals\n",
            "[NiftiLabelsMasker.transform_single_imgs] Cleaning extracted signals\n",
            "_______________________________________________filter_and_extract - 1.1s, 0.0min\n",
            "[NiftiLabelsMasker.fit_transform] loading data from /root/nilearn_data/basc_multiscale_2015/template_cambridge_basc_multiscale_nii_sym/template_cambridge_basc_multiscale_sym_scale064.nii.gz\n",
            "________________________________________________________________________________\n",
            "[Memory] Calling nilearn.input_data.base_masker.filter_and_extract...\n",
            "filter_and_extract('/root/nilearn_data/cobre/fmri_0040047.nii.gz', <nilearn.input_data.nifti_labels_masker._ExtractionFunctor object at 0x7fdcfda6a8d0>, \n",
            "{ 'background_label': 0,\n",
            "  'detrend': False,\n",
            "  'dtype': None,\n",
            "  'high_pass': None,\n",
            "  'high_variance_confounds': False,\n",
            "  'labels': None,\n",
            "  'labels_img': '/root/nilearn_data/basc_multiscale_2015/template_cambridge_basc_multiscale_nii_sym/template_cambridge_basc_multiscale_sym_scale064.nii.gz',\n",
            "  'low_pass': None,\n",
            "  'mask_img': None,\n",
            "  'reports': True,\n",
            "  'smoothing_fwhm': None,\n",
            "  'standardize': True,\n",
            "  'standardize_confounds': True,\n",
            "  'strategy': 'mean',\n",
            "  't_r': None,\n",
            "  'target_affine': None,\n",
            "  'target_shape': None}, confounds=['/root/nilearn_data/cobre/fmri_0040047.tsv'], sample_mask=None, dtype=None, memory=Memory(location=nilearn_cache/joblib), memory_level=1, verbose=1)\n",
            "[NiftiLabelsMasker.transform_single_imgs] Loading data from /root/nilearn_data/cobre/fmri_0040047.nii.gz\n",
            "[NiftiLabelsMasker.transform_single_imgs] Extracting region signals\n",
            "[NiftiLabelsMasker.transform_single_imgs] Cleaning extracted signals\n",
            "_______________________________________________filter_and_extract - 0.8s, 0.0min\n",
            "[NiftiLabelsMasker.fit_transform] loading data from /root/nilearn_data/basc_multiscale_2015/template_cambridge_basc_multiscale_nii_sym/template_cambridge_basc_multiscale_sym_scale064.nii.gz\n",
            "________________________________________________________________________________\n",
            "[Memory] Calling nilearn.input_data.base_masker.filter_and_extract...\n",
            "filter_and_extract('/root/nilearn_data/cobre/fmri_0040099.nii.gz', <nilearn.input_data.nifti_labels_masker._ExtractionFunctor object at 0x7fdd11532cd0>, \n",
            "{ 'background_label': 0,\n",
            "  'detrend': False,\n",
            "  'dtype': None,\n",
            "  'high_pass': None,\n",
            "  'high_variance_confounds': False,\n",
            "  'labels': None,\n",
            "  'labels_img': '/root/nilearn_data/basc_multiscale_2015/template_cambridge_basc_multiscale_nii_sym/template_cambridge_basc_multiscale_sym_scale064.nii.gz',\n",
            "  'low_pass': None,\n",
            "  'mask_img': None,\n",
            "  'reports': True,\n",
            "  'smoothing_fwhm': None,\n",
            "  'standardize': True,\n",
            "  'standardize_confounds': True,\n",
            "  'strategy': 'mean',\n",
            "  't_r': None,\n",
            "  'target_affine': None,\n",
            "  'target_shape': None}, confounds=['/root/nilearn_data/cobre/fmri_0040099.tsv'], sample_mask=None, dtype=None, memory=Memory(location=nilearn_cache/joblib), memory_level=1, verbose=1)\n",
            "[NiftiLabelsMasker.transform_single_imgs] Loading data from /root/nilearn_data/cobre/fmri_0040099.nii.gz\n",
            "[NiftiLabelsMasker.transform_single_imgs] Extracting region signals\n",
            "[NiftiLabelsMasker.transform_single_imgs] Cleaning extracted signals\n",
            "_______________________________________________filter_and_extract - 0.8s, 0.0min\n",
            "[NiftiLabelsMasker.fit_transform] loading data from /root/nilearn_data/basc_multiscale_2015/template_cambridge_basc_multiscale_nii_sym/template_cambridge_basc_multiscale_sym_scale064.nii.gz\n",
            "________________________________________________________________________________\n",
            "[Memory] Calling nilearn.input_data.base_masker.filter_and_extract...\n",
            "filter_and_extract('/root/nilearn_data/cobre/fmri_0040042.nii.gz', <nilearn.input_data.nifti_labels_masker._ExtractionFunctor object at 0x7fdcfd43f090>, \n",
            "{ 'background_label': 0,\n",
            "  'detrend': False,\n",
            "  'dtype': None,\n",
            "  'high_pass': None,\n",
            "  'high_variance_confounds': False,\n",
            "  'labels': None,\n",
            "  'labels_img': '/root/nilearn_data/basc_multiscale_2015/template_cambridge_basc_multiscale_nii_sym/template_cambridge_basc_multiscale_sym_scale064.nii.gz',\n",
            "  'low_pass': None,\n",
            "  'mask_img': None,\n",
            "  'reports': True,\n",
            "  'smoothing_fwhm': None,\n",
            "  'standardize': True,\n",
            "  'standardize_confounds': True,\n",
            "  'strategy': 'mean',\n",
            "  't_r': None,\n",
            "  'target_affine': None,\n",
            "  'target_shape': None}, confounds=['/root/nilearn_data/cobre/fmri_0040042.tsv'], sample_mask=None, dtype=None, memory=Memory(location=nilearn_cache/joblib), memory_level=1, verbose=1)\n",
            "[NiftiLabelsMasker.transform_single_imgs] Loading data from /root/nilearn_data/cobre/fmri_0040042.nii.gz\n",
            "[NiftiLabelsMasker.transform_single_imgs] Extracting region signals\n",
            "[NiftiLabelsMasker.transform_single_imgs] Cleaning extracted signals\n",
            "_______________________________________________filter_and_extract - 0.8s, 0.0min\n",
            "[NiftiLabelsMasker.fit_transform] loading data from /root/nilearn_data/basc_multiscale_2015/template_cambridge_basc_multiscale_nii_sym/template_cambridge_basc_multiscale_sym_scale064.nii.gz\n",
            "________________________________________________________________________________\n",
            "[Memory] Calling nilearn.input_data.base_masker.filter_and_extract...\n",
            "filter_and_extract('/root/nilearn_data/cobre/fmri_0040075.nii.gz', <nilearn.input_data.nifti_labels_masker._ExtractionFunctor object at 0x7fdd0af24150>, \n",
            "{ 'background_label': 0,\n",
            "  'detrend': False,\n",
            "  'dtype': None,\n",
            "  'high_pass': None,\n",
            "  'high_variance_confounds': False,\n",
            "  'labels': None,\n",
            "  'labels_img': '/root/nilearn_data/basc_multiscale_2015/template_cambridge_basc_multiscale_nii_sym/template_cambridge_basc_multiscale_sym_scale064.nii.gz',\n",
            "  'low_pass': None,\n",
            "  'mask_img': None,\n",
            "  'reports': True,\n",
            "  'smoothing_fwhm': None,\n",
            "  'standardize': True,\n",
            "  'standardize_confounds': True,\n",
            "  'strategy': 'mean',\n",
            "  't_r': None,\n",
            "  'target_affine': None,\n",
            "  'target_shape': None}, confounds=['/root/nilearn_data/cobre/fmri_0040075.tsv'], sample_mask=None, dtype=None, memory=Memory(location=nilearn_cache/joblib), memory_level=1, verbose=1)\n",
            "[NiftiLabelsMasker.transform_single_imgs] Loading data from /root/nilearn_data/cobre/fmri_0040075.nii.gz\n",
            "[NiftiLabelsMasker.transform_single_imgs] Extracting region signals\n",
            "[NiftiLabelsMasker.transform_single_imgs] Cleaning extracted signals\n",
            "_______________________________________________filter_and_extract - 0.4s, 0.0min\n",
            "[NiftiLabelsMasker.fit_transform] loading data from /root/nilearn_data/basc_multiscale_2015/template_cambridge_basc_multiscale_nii_sym/template_cambridge_basc_multiscale_sym_scale064.nii.gz\n",
            "________________________________________________________________________________\n",
            "[Memory] Calling nilearn.input_data.base_masker.filter_and_extract...\n",
            "filter_and_extract('/root/nilearn_data/cobre/fmri_0040103.nii.gz', <nilearn.input_data.nifti_labels_masker._ExtractionFunctor object at 0x7fdd0ae9db90>, \n",
            "{ 'background_label': 0,\n",
            "  'detrend': False,\n",
            "  'dtype': None,\n",
            "  'high_pass': None,\n",
            "  'high_variance_confounds': False,\n",
            "  'labels': None,\n",
            "  'labels_img': '/root/nilearn_data/basc_multiscale_2015/template_cambridge_basc_multiscale_nii_sym/template_cambridge_basc_multiscale_sym_scale064.nii.gz',\n",
            "  'low_pass': None,\n",
            "  'mask_img': None,\n",
            "  'reports': True,\n",
            "  'smoothing_fwhm': None,\n",
            "  'standardize': True,\n",
            "  'standardize_confounds': True,\n",
            "  'strategy': 'mean',\n",
            "  't_r': None,\n",
            "  'target_affine': None,\n",
            "  'target_shape': None}, confounds=['/root/nilearn_data/cobre/fmri_0040103.tsv'], sample_mask=None, dtype=None, memory=Memory(location=nilearn_cache/joblib), memory_level=1, verbose=1)\n",
            "[NiftiLabelsMasker.transform_single_imgs] Loading data from /root/nilearn_data/cobre/fmri_0040103.nii.gz\n",
            "[NiftiLabelsMasker.transform_single_imgs] Extracting region signals\n",
            "[NiftiLabelsMasker.transform_single_imgs] Cleaning extracted signals\n",
            "_______________________________________________filter_and_extract - 0.8s, 0.0min\n",
            "[NiftiLabelsMasker.fit_transform] loading data from /root/nilearn_data/basc_multiscale_2015/template_cambridge_basc_multiscale_nii_sym/template_cambridge_basc_multiscale_sym_scale064.nii.gz\n",
            "________________________________________________________________________________\n",
            "[Memory] Calling nilearn.input_data.base_masker.filter_and_extract...\n",
            "filter_and_extract('/root/nilearn_data/cobre/fmri_0040060.nii.gz', <nilearn.input_data.nifti_labels_masker._ExtractionFunctor object at 0x7fdcfd9b6410>, \n",
            "{ 'background_label': 0,\n",
            "  'detrend': False,\n",
            "  'dtype': None,\n",
            "  'high_pass': None,\n",
            "  'high_variance_confounds': False,\n",
            "  'labels': None,\n",
            "  'labels_img': '/root/nilearn_data/basc_multiscale_2015/template_cambridge_basc_multiscale_nii_sym/template_cambridge_basc_multiscale_sym_scale064.nii.gz',\n",
            "  'low_pass': None,\n",
            "  'mask_img': None,\n",
            "  'reports': True,\n",
            "  'smoothing_fwhm': None,\n",
            "  'standardize': True,\n",
            "  'standardize_confounds': True,\n",
            "  'strategy': 'mean',\n",
            "  't_r': None,\n",
            "  'target_affine': None,\n",
            "  'target_shape': None}, confounds=['/root/nilearn_data/cobre/fmri_0040060.tsv'], sample_mask=None, dtype=None, memory=Memory(location=nilearn_cache/joblib), memory_level=1, verbose=1)\n",
            "[NiftiLabelsMasker.transform_single_imgs] Loading data from /root/nilearn_data/cobre/fmri_0040060.nii.gz\n",
            "[NiftiLabelsMasker.transform_single_imgs] Extracting region signals\n",
            "[NiftiLabelsMasker.transform_single_imgs] Cleaning extracted signals\n",
            "_______________________________________________filter_and_extract - 1.0s, 0.0min\n",
            "[NiftiLabelsMasker.fit_transform] loading data from /root/nilearn_data/basc_multiscale_2015/template_cambridge_basc_multiscale_nii_sym/template_cambridge_basc_multiscale_sym_scale064.nii.gz\n",
            "________________________________________________________________________________\n",
            "[Memory] Calling nilearn.input_data.base_masker.filter_and_extract...\n",
            "filter_and_extract('/root/nilearn_data/cobre/fmri_0040126.nii.gz', <nilearn.input_data.nifti_labels_masker._ExtractionFunctor object at 0x7fdd0f4b6850>, \n",
            "{ 'background_label': 0,\n",
            "  'detrend': False,\n",
            "  'dtype': None,\n",
            "  'high_pass': None,\n",
            "  'high_variance_confounds': False,\n",
            "  'labels': None,\n",
            "  'labels_img': '/root/nilearn_data/basc_multiscale_2015/template_cambridge_basc_multiscale_nii_sym/template_cambridge_basc_multiscale_sym_scale064.nii.gz',\n",
            "  'low_pass': None,\n",
            "  'mask_img': None,\n",
            "  'reports': True,\n",
            "  'smoothing_fwhm': None,\n",
            "  'standardize': True,\n",
            "  'standardize_confounds': True,\n",
            "  'strategy': 'mean',\n",
            "  't_r': None,\n",
            "  'target_affine': None,\n",
            "  'target_shape': None}, confounds=['/root/nilearn_data/cobre/fmri_0040126.tsv'], sample_mask=None, dtype=None, memory=Memory(location=nilearn_cache/joblib), memory_level=1, verbose=1)\n",
            "[NiftiLabelsMasker.transform_single_imgs] Loading data from /root/nilearn_data/cobre/fmri_0040126.nii.gz\n",
            "[NiftiLabelsMasker.transform_single_imgs] Extracting region signals\n",
            "[NiftiLabelsMasker.transform_single_imgs] Cleaning extracted signals\n",
            "_______________________________________________filter_and_extract - 0.6s, 0.0min\n",
            "[NiftiLabelsMasker.fit_transform] loading data from /root/nilearn_data/basc_multiscale_2015/template_cambridge_basc_multiscale_nii_sym/template_cambridge_basc_multiscale_sym_scale064.nii.gz\n",
            "________________________________________________________________________________\n",
            "[Memory] Calling nilearn.input_data.base_masker.filter_and_extract...\n",
            "filter_and_extract('/root/nilearn_data/cobre/fmri_0040112.nii.gz', <nilearn.input_data.nifti_labels_masker._ExtractionFunctor object at 0x7fdd0ae54b90>, \n",
            "{ 'background_label': 0,\n",
            "  'detrend': False,\n",
            "  'dtype': None,\n",
            "  'high_pass': None,\n",
            "  'high_variance_confounds': False,\n",
            "  'labels': None,\n",
            "  'labels_img': '/root/nilearn_data/basc_multiscale_2015/template_cambridge_basc_multiscale_nii_sym/template_cambridge_basc_multiscale_sym_scale064.nii.gz',\n",
            "  'low_pass': None,\n",
            "  'mask_img': None,\n",
            "  'reports': True,\n",
            "  'smoothing_fwhm': None,\n",
            "  'standardize': True,\n",
            "  'standardize_confounds': True,\n",
            "  'strategy': 'mean',\n",
            "  't_r': None,\n",
            "  'target_affine': None,\n",
            "  'target_shape': None}, confounds=['/root/nilearn_data/cobre/fmri_0040112.tsv'], sample_mask=None, dtype=None, memory=Memory(location=nilearn_cache/joblib), memory_level=1, verbose=1)\n",
            "[NiftiLabelsMasker.transform_single_imgs] Loading data from /root/nilearn_data/cobre/fmri_0040112.nii.gz\n",
            "[NiftiLabelsMasker.transform_single_imgs] Extracting region signals\n",
            "[NiftiLabelsMasker.transform_single_imgs] Cleaning extracted signals\n",
            "_______________________________________________filter_and_extract - 0.5s, 0.0min\n",
            "[NiftiLabelsMasker.fit_transform] loading data from /root/nilearn_data/basc_multiscale_2015/template_cambridge_basc_multiscale_nii_sym/template_cambridge_basc_multiscale_sym_scale064.nii.gz\n",
            "________________________________________________________________________________\n",
            "[Memory] Calling nilearn.input_data.base_masker.filter_and_extract...\n",
            "filter_and_extract('/root/nilearn_data/cobre/fmri_0040081.nii.gz', <nilearn.input_data.nifti_labels_masker._ExtractionFunctor object at 0x7fdcfd9b6410>, \n",
            "{ 'background_label': 0,\n",
            "  'detrend': False,\n",
            "  'dtype': None,\n",
            "  'high_pass': None,\n",
            "  'high_variance_confounds': False,\n",
            "  'labels': None,\n",
            "  'labels_img': '/root/nilearn_data/basc_multiscale_2015/template_cambridge_basc_multiscale_nii_sym/template_cambridge_basc_multiscale_sym_scale064.nii.gz',\n",
            "  'low_pass': None,\n",
            "  'mask_img': None,\n",
            "  'reports': True,\n",
            "  'smoothing_fwhm': None,\n",
            "  'standardize': True,\n",
            "  'standardize_confounds': True,\n",
            "  'strategy': 'mean',\n",
            "  't_r': None,\n",
            "  'target_affine': None,\n",
            "  'target_shape': None}, confounds=['/root/nilearn_data/cobre/fmri_0040081.tsv'], sample_mask=None, dtype=None, memory=Memory(location=nilearn_cache/joblib), memory_level=1, verbose=1)\n",
            "[NiftiLabelsMasker.transform_single_imgs] Loading data from /root/nilearn_data/cobre/fmri_0040081.nii.gz\n",
            "[NiftiLabelsMasker.transform_single_imgs] Extracting region signals\n",
            "[NiftiLabelsMasker.transform_single_imgs] Cleaning extracted signals\n",
            "_______________________________________________filter_and_extract - 0.5s, 0.0min\n",
            "[NiftiLabelsMasker.fit_transform] loading data from /root/nilearn_data/basc_multiscale_2015/template_cambridge_basc_multiscale_nii_sym/template_cambridge_basc_multiscale_sym_scale064.nii.gz\n",
            "________________________________________________________________________________\n",
            "[Memory] Calling nilearn.input_data.base_masker.filter_and_extract...\n",
            "filter_and_extract('/root/nilearn_data/cobre/fmri_0040110.nii.gz', <nilearn.input_data.nifti_labels_masker._ExtractionFunctor object at 0x7fdd0aea0150>, \n",
            "{ 'background_label': 0,\n",
            "  'detrend': False,\n",
            "  'dtype': None,\n",
            "  'high_pass': None,\n",
            "  'high_variance_confounds': False,\n",
            "  'labels': None,\n",
            "  'labels_img': '/root/nilearn_data/basc_multiscale_2015/template_cambridge_basc_multiscale_nii_sym/template_cambridge_basc_multiscale_sym_scale064.nii.gz',\n",
            "  'low_pass': None,\n",
            "  'mask_img': None,\n",
            "  'reports': True,\n",
            "  'smoothing_fwhm': None,\n",
            "  'standardize': True,\n",
            "  'standardize_confounds': True,\n",
            "  'strategy': 'mean',\n",
            "  't_r': None,\n",
            "  'target_affine': None,\n",
            "  'target_shape': None}, confounds=['/root/nilearn_data/cobre/fmri_0040110.tsv'], sample_mask=None, dtype=None, memory=Memory(location=nilearn_cache/joblib), memory_level=1, verbose=1)\n",
            "[NiftiLabelsMasker.transform_single_imgs] Loading data from /root/nilearn_data/cobre/fmri_0040110.nii.gz\n",
            "[NiftiLabelsMasker.transform_single_imgs] Extracting region signals\n",
            "[NiftiLabelsMasker.transform_single_imgs] Cleaning extracted signals\n",
            "_______________________________________________filter_and_extract - 0.5s, 0.0min\n",
            "[NiftiLabelsMasker.fit_transform] loading data from /root/nilearn_data/basc_multiscale_2015/template_cambridge_basc_multiscale_nii_sym/template_cambridge_basc_multiscale_sym_scale064.nii.gz\n",
            "________________________________________________________________________________\n",
            "[Memory] Calling nilearn.input_data.base_masker.filter_and_extract...\n",
            "filter_and_extract('/root/nilearn_data/cobre/fmri_0040049.nii.gz', <nilearn.input_data.nifti_labels_masker._ExtractionFunctor object at 0x7fdcfdae1890>, \n",
            "{ 'background_label': 0,\n",
            "  'detrend': False,\n",
            "  'dtype': None,\n",
            "  'high_pass': None,\n",
            "  'high_variance_confounds': False,\n",
            "  'labels': None,\n",
            "  'labels_img': '/root/nilearn_data/basc_multiscale_2015/template_cambridge_basc_multiscale_nii_sym/template_cambridge_basc_multiscale_sym_scale064.nii.gz',\n",
            "  'low_pass': None,\n",
            "  'mask_img': None,\n",
            "  'reports': True,\n",
            "  'smoothing_fwhm': None,\n",
            "  'standardize': True,\n",
            "  'standardize_confounds': True,\n",
            "  'strategy': 'mean',\n",
            "  't_r': None,\n",
            "  'target_affine': None,\n",
            "  'target_shape': None}, confounds=['/root/nilearn_data/cobre/fmri_0040049.tsv'], sample_mask=None, dtype=None, memory=Memory(location=nilearn_cache/joblib), memory_level=1, verbose=1)\n",
            "[NiftiLabelsMasker.transform_single_imgs] Loading data from /root/nilearn_data/cobre/fmri_0040049.nii.gz\n",
            "[NiftiLabelsMasker.transform_single_imgs] Extracting region signals\n",
            "[NiftiLabelsMasker.transform_single_imgs] Cleaning extracted signals\n",
            "_______________________________________________filter_and_extract - 0.5s, 0.0min\n",
            "[NiftiLabelsMasker.fit_transform] loading data from /root/nilearn_data/basc_multiscale_2015/template_cambridge_basc_multiscale_nii_sym/template_cambridge_basc_multiscale_sym_scale064.nii.gz\n",
            "________________________________________________________________________________\n",
            "[Memory] Calling nilearn.input_data.base_masker.filter_and_extract...\n",
            "filter_and_extract('/root/nilearn_data/cobre/fmri_0040106.nii.gz', <nilearn.input_data.nifti_labels_masker._ExtractionFunctor object at 0x7fdcfd9b0090>, \n",
            "{ 'background_label': 0,\n",
            "  'detrend': False,\n",
            "  'dtype': None,\n",
            "  'high_pass': None,\n",
            "  'high_variance_confounds': False,\n",
            "  'labels': None,\n",
            "  'labels_img': '/root/nilearn_data/basc_multiscale_2015/template_cambridge_basc_multiscale_nii_sym/template_cambridge_basc_multiscale_sym_scale064.nii.gz',\n",
            "  'low_pass': None,\n",
            "  'mask_img': None,\n",
            "  'reports': True,\n",
            "  'smoothing_fwhm': None,\n",
            "  'standardize': True,\n",
            "  'standardize_confounds': True,\n",
            "  'strategy': 'mean',\n",
            "  't_r': None,\n",
            "  'target_affine': None,\n",
            "  'target_shape': None}, confounds=['/root/nilearn_data/cobre/fmri_0040106.tsv'], sample_mask=None, dtype=None, memory=Memory(location=nilearn_cache/joblib), memory_level=1, verbose=1)\n",
            "[NiftiLabelsMasker.transform_single_imgs] Loading data from /root/nilearn_data/cobre/fmri_0040106.nii.gz\n",
            "[NiftiLabelsMasker.transform_single_imgs] Extracting region signals\n",
            "[NiftiLabelsMasker.transform_single_imgs] Cleaning extracted signals\n",
            "_______________________________________________filter_and_extract - 0.5s, 0.0min\n",
            "[NiftiLabelsMasker.fit_transform] loading data from /root/nilearn_data/basc_multiscale_2015/template_cambridge_basc_multiscale_nii_sym/template_cambridge_basc_multiscale_sym_scale064.nii.gz\n",
            "________________________________________________________________________________\n",
            "[Memory] Calling nilearn.input_data.base_masker.filter_and_extract...\n",
            "filter_and_extract('/root/nilearn_data/cobre/fmri_0040015.nii.gz', <nilearn.input_data.nifti_labels_masker._ExtractionFunctor object at 0x7fdcfd9b6410>, \n",
            "{ 'background_label': 0,\n",
            "  'detrend': False,\n",
            "  'dtype': None,\n",
            "  'high_pass': None,\n",
            "  'high_variance_confounds': False,\n",
            "  'labels': None,\n",
            "  'labels_img': '/root/nilearn_data/basc_multiscale_2015/template_cambridge_basc_multiscale_nii_sym/template_cambridge_basc_multiscale_sym_scale064.nii.gz',\n",
            "  'low_pass': None,\n",
            "  'mask_img': None,\n",
            "  'reports': True,\n",
            "  'smoothing_fwhm': None,\n",
            "  'standardize': True,\n",
            "  'standardize_confounds': True,\n",
            "  'strategy': 'mean',\n",
            "  't_r': None,\n",
            "  'target_affine': None,\n",
            "  'target_shape': None}, confounds=['/root/nilearn_data/cobre/fmri_0040015.tsv'], sample_mask=None, dtype=None, memory=Memory(location=nilearn_cache/joblib), memory_level=1, verbose=1)\n",
            "[NiftiLabelsMasker.transform_single_imgs] Loading data from /root/nilearn_data/cobre/fmri_0040015.nii.gz\n",
            "[NiftiLabelsMasker.transform_single_imgs] Extracting region signals\n",
            "[NiftiLabelsMasker.transform_single_imgs] Cleaning extracted signals\n",
            "_______________________________________________filter_and_extract - 0.5s, 0.0min\n",
            "[NiftiLabelsMasker.fit_transform] loading data from /root/nilearn_data/basc_multiscale_2015/template_cambridge_basc_multiscale_nii_sym/template_cambridge_basc_multiscale_sym_scale064.nii.gz\n",
            "________________________________________________________________________________\n",
            "[Memory] Calling nilearn.input_data.base_masker.filter_and_extract...\n",
            "filter_and_extract('/root/nilearn_data/cobre/fmri_0040005.nii.gz', <nilearn.input_data.nifti_labels_masker._ExtractionFunctor object at 0x7fdd0aea0250>, \n",
            "{ 'background_label': 0,\n",
            "  'detrend': False,\n",
            "  'dtype': None,\n",
            "  'high_pass': None,\n",
            "  'high_variance_confounds': False,\n",
            "  'labels': None,\n",
            "  'labels_img': '/root/nilearn_data/basc_multiscale_2015/template_cambridge_basc_multiscale_nii_sym/template_cambridge_basc_multiscale_sym_scale064.nii.gz',\n",
            "  'low_pass': None,\n",
            "  'mask_img': None,\n",
            "  'reports': True,\n",
            "  'smoothing_fwhm': None,\n",
            "  'standardize': True,\n",
            "  'standardize_confounds': True,\n",
            "  'strategy': 'mean',\n",
            "  't_r': None,\n",
            "  'target_affine': None,\n",
            "  'target_shape': None}, confounds=['/root/nilearn_data/cobre/fmri_0040005.tsv'], sample_mask=None, dtype=None, memory=Memory(location=nilearn_cache/joblib), memory_level=1, verbose=1)\n",
            "[NiftiLabelsMasker.transform_single_imgs] Loading data from /root/nilearn_data/cobre/fmri_0040005.nii.gz\n",
            "[NiftiLabelsMasker.transform_single_imgs] Extracting region signals\n",
            "[NiftiLabelsMasker.transform_single_imgs] Cleaning extracted signals\n",
            "_______________________________________________filter_and_extract - 0.5s, 0.0min\n",
            "[NiftiLabelsMasker.fit_transform] loading data from /root/nilearn_data/basc_multiscale_2015/template_cambridge_basc_multiscale_nii_sym/template_cambridge_basc_multiscale_sym_scale064.nii.gz\n",
            "________________________________________________________________________________\n",
            "[Memory] Calling nilearn.input_data.base_masker.filter_and_extract...\n",
            "filter_and_extract('/root/nilearn_data/cobre/fmri_0040044.nii.gz', <nilearn.input_data.nifti_labels_masker._ExtractionFunctor object at 0x7fdd0aea0250>, \n",
            "{ 'background_label': 0,\n",
            "  'detrend': False,\n",
            "  'dtype': None,\n",
            "  'high_pass': None,\n",
            "  'high_variance_confounds': False,\n",
            "  'labels': None,\n",
            "  'labels_img': '/root/nilearn_data/basc_multiscale_2015/template_cambridge_basc_multiscale_nii_sym/template_cambridge_basc_multiscale_sym_scale064.nii.gz',\n",
            "  'low_pass': None,\n",
            "  'mask_img': None,\n",
            "  'reports': True,\n",
            "  'smoothing_fwhm': None,\n",
            "  'standardize': True,\n",
            "  'standardize_confounds': True,\n",
            "  'strategy': 'mean',\n",
            "  't_r': None,\n",
            "  'target_affine': None,\n",
            "  'target_shape': None}, confounds=['/root/nilearn_data/cobre/fmri_0040044.tsv'], sample_mask=None, dtype=None, memory=Memory(location=nilearn_cache/joblib), memory_level=1, verbose=1)\n",
            "[NiftiLabelsMasker.transform_single_imgs] Loading data from /root/nilearn_data/cobre/fmri_0040044.nii.gz\n",
            "[NiftiLabelsMasker.transform_single_imgs] Extracting region signals\n",
            "[NiftiLabelsMasker.transform_single_imgs] Cleaning extracted signals\n",
            "_______________________________________________filter_and_extract - 0.5s, 0.0min\n",
            "[NiftiLabelsMasker.fit_transform] loading data from /root/nilearn_data/basc_multiscale_2015/template_cambridge_basc_multiscale_nii_sym/template_cambridge_basc_multiscale_sym_scale064.nii.gz\n",
            "________________________________________________________________________________\n",
            "[Memory] Calling nilearn.input_data.base_masker.filter_and_extract...\n",
            "filter_and_extract('/root/nilearn_data/cobre/fmri_0040016.nii.gz', <nilearn.input_data.nifti_labels_masker._ExtractionFunctor object at 0x7fdd0af24150>, \n",
            "{ 'background_label': 0,\n",
            "  'detrend': False,\n",
            "  'dtype': None,\n",
            "  'high_pass': None,\n",
            "  'high_variance_confounds': False,\n",
            "  'labels': None,\n",
            "  'labels_img': '/root/nilearn_data/basc_multiscale_2015/template_cambridge_basc_multiscale_nii_sym/template_cambridge_basc_multiscale_sym_scale064.nii.gz',\n",
            "  'low_pass': None,\n",
            "  'mask_img': None,\n",
            "  'reports': True,\n",
            "  'smoothing_fwhm': None,\n",
            "  'standardize': True,\n",
            "  'standardize_confounds': True,\n",
            "  'strategy': 'mean',\n",
            "  't_r': None,\n",
            "  'target_affine': None,\n",
            "  'target_shape': None}, confounds=['/root/nilearn_data/cobre/fmri_0040016.tsv'], sample_mask=None, dtype=None, memory=Memory(location=nilearn_cache/joblib), memory_level=1, verbose=1)\n",
            "[NiftiLabelsMasker.transform_single_imgs] Loading data from /root/nilearn_data/cobre/fmri_0040016.nii.gz\n",
            "[NiftiLabelsMasker.transform_single_imgs] Extracting region signals\n",
            "[NiftiLabelsMasker.transform_single_imgs] Cleaning extracted signals\n",
            "_______________________________________________filter_and_extract - 0.5s, 0.0min\n",
            "[NiftiLabelsMasker.fit_transform] loading data from /root/nilearn_data/basc_multiscale_2015/template_cambridge_basc_multiscale_nii_sym/template_cambridge_basc_multiscale_sym_scale064.nii.gz\n",
            "________________________________________________________________________________\n",
            "[Memory] Calling nilearn.input_data.base_masker.filter_and_extract...\n",
            "filter_and_extract('/root/nilearn_data/cobre/fmri_0040092.nii.gz', <nilearn.input_data.nifti_labels_masker._ExtractionFunctor object at 0x7fdcfdae1890>, \n",
            "{ 'background_label': 0,\n",
            "  'detrend': False,\n",
            "  'dtype': None,\n",
            "  'high_pass': None,\n",
            "  'high_variance_confounds': False,\n",
            "  'labels': None,\n",
            "  'labels_img': '/root/nilearn_data/basc_multiscale_2015/template_cambridge_basc_multiscale_nii_sym/template_cambridge_basc_multiscale_sym_scale064.nii.gz',\n",
            "  'low_pass': None,\n",
            "  'mask_img': None,\n",
            "  'reports': True,\n",
            "  'smoothing_fwhm': None,\n",
            "  'standardize': True,\n",
            "  'standardize_confounds': True,\n",
            "  'strategy': 'mean',\n",
            "  't_r': None,\n",
            "  'target_affine': None,\n",
            "  'target_shape': None}, confounds=['/root/nilearn_data/cobre/fmri_0040092.tsv'], sample_mask=None, dtype=None, memory=Memory(location=nilearn_cache/joblib), memory_level=1, verbose=1)\n",
            "[NiftiLabelsMasker.transform_single_imgs] Loading data from /root/nilearn_data/cobre/fmri_0040092.nii.gz\n",
            "[NiftiLabelsMasker.transform_single_imgs] Extracting region signals\n",
            "[NiftiLabelsMasker.transform_single_imgs] Cleaning extracted signals\n",
            "_______________________________________________filter_and_extract - 0.6s, 0.0min\n",
            "[NiftiLabelsMasker.fit_transform] loading data from /root/nilearn_data/basc_multiscale_2015/template_cambridge_basc_multiscale_nii_sym/template_cambridge_basc_multiscale_sym_scale064.nii.gz\n",
            "________________________________________________________________________________\n",
            "[Memory] Calling nilearn.input_data.base_masker.filter_and_extract...\n",
            "filter_and_extract('/root/nilearn_data/cobre/fmri_0040082.nii.gz', <nilearn.input_data.nifti_labels_masker._ExtractionFunctor object at 0x7fdd0af1e050>, \n",
            "{ 'background_label': 0,\n",
            "  'detrend': False,\n",
            "  'dtype': None,\n",
            "  'high_pass': None,\n",
            "  'high_variance_confounds': False,\n",
            "  'labels': None,\n",
            "  'labels_img': '/root/nilearn_data/basc_multiscale_2015/template_cambridge_basc_multiscale_nii_sym/template_cambridge_basc_multiscale_sym_scale064.nii.gz',\n",
            "  'low_pass': None,\n",
            "  'mask_img': None,\n",
            "  'reports': True,\n",
            "  'smoothing_fwhm': None,\n",
            "  'standardize': True,\n",
            "  'standardize_confounds': True,\n",
            "  'strategy': 'mean',\n",
            "  't_r': None,\n",
            "  'target_affine': None,\n",
            "  'target_shape': None}, confounds=['/root/nilearn_data/cobre/fmri_0040082.tsv'], sample_mask=None, dtype=None, memory=Memory(location=nilearn_cache/joblib), memory_level=1, verbose=1)\n",
            "[NiftiLabelsMasker.transform_single_imgs] Loading data from /root/nilearn_data/cobre/fmri_0040082.nii.gz\n",
            "[NiftiLabelsMasker.transform_single_imgs] Extracting region signals\n",
            "[NiftiLabelsMasker.transform_single_imgs] Cleaning extracted signals\n",
            "_______________________________________________filter_and_extract - 0.8s, 0.0min\n",
            "[NiftiLabelsMasker.fit_transform] loading data from /root/nilearn_data/basc_multiscale_2015/template_cambridge_basc_multiscale_nii_sym/template_cambridge_basc_multiscale_sym_scale064.nii.gz\n",
            "________________________________________________________________________________\n",
            "[Memory] Calling nilearn.input_data.base_masker.filter_and_extract...\n",
            "filter_and_extract('/root/nilearn_data/cobre/fmri_0040101.nii.gz', <nilearn.input_data.nifti_labels_masker._ExtractionFunctor object at 0x7fdcfda4aa90>, \n",
            "{ 'background_label': 0,\n",
            "  'detrend': False,\n",
            "  'dtype': None,\n",
            "  'high_pass': None,\n",
            "  'high_variance_confounds': False,\n",
            "  'labels': None,\n",
            "  'labels_img': '/root/nilearn_data/basc_multiscale_2015/template_cambridge_basc_multiscale_nii_sym/template_cambridge_basc_multiscale_sym_scale064.nii.gz',\n",
            "  'low_pass': None,\n",
            "  'mask_img': None,\n",
            "  'reports': True,\n",
            "  'smoothing_fwhm': None,\n",
            "  'standardize': True,\n",
            "  'standardize_confounds': True,\n",
            "  'strategy': 'mean',\n",
            "  't_r': None,\n",
            "  'target_affine': None,\n",
            "  'target_shape': None}, confounds=['/root/nilearn_data/cobre/fmri_0040101.tsv'], sample_mask=None, dtype=None, memory=Memory(location=nilearn_cache/joblib), memory_level=1, verbose=1)\n",
            "[NiftiLabelsMasker.transform_single_imgs] Loading data from /root/nilearn_data/cobre/fmri_0040101.nii.gz\n",
            "[NiftiLabelsMasker.transform_single_imgs] Extracting region signals\n",
            "[NiftiLabelsMasker.transform_single_imgs] Cleaning extracted signals\n",
            "_______________________________________________filter_and_extract - 0.7s, 0.0min\n",
            "[NiftiLabelsMasker.fit_transform] loading data from /root/nilearn_data/basc_multiscale_2015/template_cambridge_basc_multiscale_nii_sym/template_cambridge_basc_multiscale_sym_scale064.nii.gz\n",
            "________________________________________________________________________________\n",
            "[Memory] Calling nilearn.input_data.base_masker.filter_and_extract...\n",
            "filter_and_extract('/root/nilearn_data/cobre/fmri_0040132.nii.gz', <nilearn.input_data.nifti_labels_masker._ExtractionFunctor object at 0x7fdd08a38090>, \n",
            "{ 'background_label': 0,\n",
            "  'detrend': False,\n",
            "  'dtype': None,\n",
            "  'high_pass': None,\n",
            "  'high_variance_confounds': False,\n",
            "  'labels': None,\n",
            "  'labels_img': '/root/nilearn_data/basc_multiscale_2015/template_cambridge_basc_multiscale_nii_sym/template_cambridge_basc_multiscale_sym_scale064.nii.gz',\n",
            "  'low_pass': None,\n",
            "  'mask_img': None,\n",
            "  'reports': True,\n",
            "  'smoothing_fwhm': None,\n",
            "  'standardize': True,\n",
            "  'standardize_confounds': True,\n",
            "  'strategy': 'mean',\n",
            "  't_r': None,\n",
            "  'target_affine': None,\n",
            "  'target_shape': None}, confounds=['/root/nilearn_data/cobre/fmri_0040132.tsv'], sample_mask=None, dtype=None, memory=Memory(location=nilearn_cache/joblib), memory_level=1, verbose=1)\n",
            "[NiftiLabelsMasker.transform_single_imgs] Loading data from /root/nilearn_data/cobre/fmri_0040132.nii.gz\n",
            "[NiftiLabelsMasker.transform_single_imgs] Extracting region signals\n",
            "[NiftiLabelsMasker.transform_single_imgs] Cleaning extracted signals\n",
            "_______________________________________________filter_and_extract - 0.5s, 0.0min\n",
            "[NiftiLabelsMasker.fit_transform] loading data from /root/nilearn_data/basc_multiscale_2015/template_cambridge_basc_multiscale_nii_sym/template_cambridge_basc_multiscale_sym_scale064.nii.gz\n",
            "________________________________________________________________________________\n",
            "[Memory] Calling nilearn.input_data.base_masker.filter_and_extract...\n",
            "filter_and_extract('/root/nilearn_data/cobre/fmri_0040039.nii.gz', <nilearn.input_data.nifti_labels_masker._ExtractionFunctor object at 0x7fdcfd9b09d0>, \n",
            "{ 'background_label': 0,\n",
            "  'detrend': False,\n",
            "  'dtype': None,\n",
            "  'high_pass': None,\n",
            "  'high_variance_confounds': False,\n",
            "  'labels': None,\n",
            "  'labels_img': '/root/nilearn_data/basc_multiscale_2015/template_cambridge_basc_multiscale_nii_sym/template_cambridge_basc_multiscale_sym_scale064.nii.gz',\n",
            "  'low_pass': None,\n",
            "  'mask_img': None,\n",
            "  'reports': True,\n",
            "  'smoothing_fwhm': None,\n",
            "  'standardize': True,\n",
            "  'standardize_confounds': True,\n",
            "  'strategy': 'mean',\n",
            "  't_r': None,\n",
            "  'target_affine': None,\n",
            "  'target_shape': None}, confounds=['/root/nilearn_data/cobre/fmri_0040039.tsv'], sample_mask=None, dtype=None, memory=Memory(location=nilearn_cache/joblib), memory_level=1, verbose=1)\n",
            "[NiftiLabelsMasker.transform_single_imgs] Loading data from /root/nilearn_data/cobre/fmri_0040039.nii.gz\n",
            "[NiftiLabelsMasker.transform_single_imgs] Extracting region signals\n",
            "[NiftiLabelsMasker.transform_single_imgs] Cleaning extracted signals\n",
            "_______________________________________________filter_and_extract - 0.5s, 0.0min\n",
            "[NiftiLabelsMasker.fit_transform] loading data from /root/nilearn_data/basc_multiscale_2015/template_cambridge_basc_multiscale_nii_sym/template_cambridge_basc_multiscale_sym_scale064.nii.gz\n",
            "________________________________________________________________________________\n",
            "[Memory] Calling nilearn.input_data.base_masker.filter_and_extract...\n",
            "filter_and_extract('/root/nilearn_data/cobre/fmri_0040071.nii.gz', <nilearn.input_data.nifti_labels_masker._ExtractionFunctor object at 0x7fdcfd4aafd0>, \n",
            "{ 'background_label': 0,\n",
            "  'detrend': False,\n",
            "  'dtype': None,\n",
            "  'high_pass': None,\n",
            "  'high_variance_confounds': False,\n",
            "  'labels': None,\n",
            "  'labels_img': '/root/nilearn_data/basc_multiscale_2015/template_cambridge_basc_multiscale_nii_sym/template_cambridge_basc_multiscale_sym_scale064.nii.gz',\n",
            "  'low_pass': None,\n",
            "  'mask_img': None,\n",
            "  'reports': True,\n",
            "  'smoothing_fwhm': None,\n",
            "  'standardize': True,\n",
            "  'standardize_confounds': True,\n",
            "  'strategy': 'mean',\n",
            "  't_r': None,\n",
            "  'target_affine': None,\n",
            "  'target_shape': None}, confounds=['/root/nilearn_data/cobre/fmri_0040071.tsv'], sample_mask=None, dtype=None, memory=Memory(location=nilearn_cache/joblib), memory_level=1, verbose=1)\n",
            "[NiftiLabelsMasker.transform_single_imgs] Loading data from /root/nilearn_data/cobre/fmri_0040071.nii.gz\n",
            "[NiftiLabelsMasker.transform_single_imgs] Extracting region signals\n",
            "[NiftiLabelsMasker.transform_single_imgs] Cleaning extracted signals\n",
            "_______________________________________________filter_and_extract - 0.5s, 0.0min\n",
            "[NiftiLabelsMasker.fit_transform] loading data from /root/nilearn_data/basc_multiscale_2015/template_cambridge_basc_multiscale_nii_sym/template_cambridge_basc_multiscale_sym_scale064.nii.gz\n",
            "________________________________________________________________________________\n",
            "[Memory] Calling nilearn.input_data.base_masker.filter_and_extract...\n",
            "filter_and_extract('/root/nilearn_data/cobre/fmri_0040010.nii.gz', <nilearn.input_data.nifti_labels_masker._ExtractionFunctor object at 0x7fdd0833bf50>, \n",
            "{ 'background_label': 0,\n",
            "  'detrend': False,\n",
            "  'dtype': None,\n",
            "  'high_pass': None,\n",
            "  'high_variance_confounds': False,\n",
            "  'labels': None,\n",
            "  'labels_img': '/root/nilearn_data/basc_multiscale_2015/template_cambridge_basc_multiscale_nii_sym/template_cambridge_basc_multiscale_sym_scale064.nii.gz',\n",
            "  'low_pass': None,\n",
            "  'mask_img': None,\n",
            "  'reports': True,\n",
            "  'smoothing_fwhm': None,\n",
            "  'standardize': True,\n",
            "  'standardize_confounds': True,\n",
            "  'strategy': 'mean',\n",
            "  't_r': None,\n",
            "  'target_affine': None,\n",
            "  'target_shape': None}, confounds=['/root/nilearn_data/cobre/fmri_0040010.tsv'], sample_mask=None, dtype=None, memory=Memory(location=nilearn_cache/joblib), memory_level=1, verbose=1)\n",
            "[NiftiLabelsMasker.transform_single_imgs] Loading data from /root/nilearn_data/cobre/fmri_0040010.nii.gz\n",
            "[NiftiLabelsMasker.transform_single_imgs] Extracting region signals\n",
            "[NiftiLabelsMasker.transform_single_imgs] Cleaning extracted signals\n",
            "_______________________________________________filter_and_extract - 0.5s, 0.0min\n",
            "[NiftiLabelsMasker.fit_transform] loading data from /root/nilearn_data/basc_multiscale_2015/template_cambridge_basc_multiscale_nii_sym/template_cambridge_basc_multiscale_sym_scale064.nii.gz\n",
            "________________________________________________________________________________\n",
            "[Memory] Calling nilearn.input_data.base_masker.filter_and_extract...\n",
            "filter_and_extract('/root/nilearn_data/cobre/fmri_0040097.nii.gz', <nilearn.input_data.nifti_labels_masker._ExtractionFunctor object at 0x7fdcfdaafc50>, \n",
            "{ 'background_label': 0,\n",
            "  'detrend': False,\n",
            "  'dtype': None,\n",
            "  'high_pass': None,\n",
            "  'high_variance_confounds': False,\n",
            "  'labels': None,\n",
            "  'labels_img': '/root/nilearn_data/basc_multiscale_2015/template_cambridge_basc_multiscale_nii_sym/template_cambridge_basc_multiscale_sym_scale064.nii.gz',\n",
            "  'low_pass': None,\n",
            "  'mask_img': None,\n",
            "  'reports': True,\n",
            "  'smoothing_fwhm': None,\n",
            "  'standardize': True,\n",
            "  'standardize_confounds': True,\n",
            "  'strategy': 'mean',\n",
            "  't_r': None,\n",
            "  'target_affine': None,\n",
            "  'target_shape': None}, confounds=['/root/nilearn_data/cobre/fmri_0040097.tsv'], sample_mask=None, dtype=None, memory=Memory(location=nilearn_cache/joblib), memory_level=1, verbose=1)\n",
            "[NiftiLabelsMasker.transform_single_imgs] Loading data from /root/nilearn_data/cobre/fmri_0040097.nii.gz\n",
            "[NiftiLabelsMasker.transform_single_imgs] Extracting region signals\n",
            "[NiftiLabelsMasker.transform_single_imgs] Cleaning extracted signals\n",
            "_______________________________________________filter_and_extract - 0.4s, 0.0min\n",
            "[NiftiLabelsMasker.fit_transform] loading data from /root/nilearn_data/basc_multiscale_2015/template_cambridge_basc_multiscale_nii_sym/template_cambridge_basc_multiscale_sym_scale064.nii.gz\n",
            "________________________________________________________________________________\n",
            "[Memory] Calling nilearn.input_data.base_masker.filter_and_extract...\n",
            "filter_and_extract('/root/nilearn_data/cobre/fmri_0040105.nii.gz', <nilearn.input_data.nifti_labels_masker._ExtractionFunctor object at 0x7fdcfd44ee90>, \n",
            "{ 'background_label': 0,\n",
            "  'detrend': False,\n",
            "  'dtype': None,\n",
            "  'high_pass': None,\n",
            "  'high_variance_confounds': False,\n",
            "  'labels': None,\n",
            "  'labels_img': '/root/nilearn_data/basc_multiscale_2015/template_cambridge_basc_multiscale_nii_sym/template_cambridge_basc_multiscale_sym_scale064.nii.gz',\n",
            "  'low_pass': None,\n",
            "  'mask_img': None,\n",
            "  'reports': True,\n",
            "  'smoothing_fwhm': None,\n",
            "  'standardize': True,\n",
            "  'standardize_confounds': True,\n",
            "  'strategy': 'mean',\n",
            "  't_r': None,\n",
            "  'target_affine': None,\n",
            "  'target_shape': None}, confounds=['/root/nilearn_data/cobre/fmri_0040105.tsv'], sample_mask=None, dtype=None, memory=Memory(location=nilearn_cache/joblib), memory_level=1, verbose=1)\n",
            "[NiftiLabelsMasker.transform_single_imgs] Loading data from /root/nilearn_data/cobre/fmri_0040105.nii.gz\n",
            "[NiftiLabelsMasker.transform_single_imgs] Extracting region signals\n",
            "[NiftiLabelsMasker.transform_single_imgs] Cleaning extracted signals\n",
            "_______________________________________________filter_and_extract - 0.5s, 0.0min\n",
            "[NiftiLabelsMasker.fit_transform] loading data from /root/nilearn_data/basc_multiscale_2015/template_cambridge_basc_multiscale_nii_sym/template_cambridge_basc_multiscale_sym_scale064.nii.gz\n",
            "________________________________________________________________________________\n",
            "[Memory] Calling nilearn.input_data.base_masker.filter_and_extract...\n",
            "filter_and_extract('/root/nilearn_data/cobre/fmri_0040143.nii.gz', <nilearn.input_data.nifti_labels_masker._ExtractionFunctor object at 0x7fdd0af03690>, \n",
            "{ 'background_label': 0,\n",
            "  'detrend': False,\n",
            "  'dtype': None,\n",
            "  'high_pass': None,\n",
            "  'high_variance_confounds': False,\n",
            "  'labels': None,\n",
            "  'labels_img': '/root/nilearn_data/basc_multiscale_2015/template_cambridge_basc_multiscale_nii_sym/template_cambridge_basc_multiscale_sym_scale064.nii.gz',\n",
            "  'low_pass': None,\n",
            "  'mask_img': None,\n",
            "  'reports': True,\n",
            "  'smoothing_fwhm': None,\n",
            "  'standardize': True,\n",
            "  'standardize_confounds': True,\n",
            "  'strategy': 'mean',\n",
            "  't_r': None,\n",
            "  'target_affine': None,\n",
            "  'target_shape': None}, confounds=['/root/nilearn_data/cobre/fmri_0040143.tsv'], sample_mask=None, dtype=None, memory=Memory(location=nilearn_cache/joblib), memory_level=1, verbose=1)\n",
            "[NiftiLabelsMasker.transform_single_imgs] Loading data from /root/nilearn_data/cobre/fmri_0040143.nii.gz\n",
            "[NiftiLabelsMasker.transform_single_imgs] Extracting region signals\n",
            "[NiftiLabelsMasker.transform_single_imgs] Cleaning extracted signals\n",
            "_______________________________________________filter_and_extract - 0.5s, 0.0min\n",
            "[NiftiLabelsMasker.fit_transform] loading data from /root/nilearn_data/basc_multiscale_2015/template_cambridge_basc_multiscale_nii_sym/template_cambridge_basc_multiscale_sym_scale064.nii.gz\n",
            "________________________________________________________________________________\n",
            "[Memory] Calling nilearn.input_data.base_masker.filter_and_extract...\n",
            "filter_and_extract('/root/nilearn_data/cobre/fmri_0040006.nii.gz', <nilearn.input_data.nifti_labels_masker._ExtractionFunctor object at 0x7fdd149a1f50>, \n",
            "{ 'background_label': 0,\n",
            "  'detrend': False,\n",
            "  'dtype': None,\n",
            "  'high_pass': None,\n",
            "  'high_variance_confounds': False,\n",
            "  'labels': None,\n",
            "  'labels_img': '/root/nilearn_data/basc_multiscale_2015/template_cambridge_basc_multiscale_nii_sym/template_cambridge_basc_multiscale_sym_scale064.nii.gz',\n",
            "  'low_pass': None,\n",
            "  'mask_img': None,\n",
            "  'reports': True,\n",
            "  'smoothing_fwhm': None,\n",
            "  'standardize': True,\n",
            "  'standardize_confounds': True,\n",
            "  'strategy': 'mean',\n",
            "  't_r': None,\n",
            "  'target_affine': None,\n",
            "  'target_shape': None}, confounds=['/root/nilearn_data/cobre/fmri_0040006.tsv'], sample_mask=None, dtype=None, memory=Memory(location=nilearn_cache/joblib), memory_level=1, verbose=1)\n",
            "[NiftiLabelsMasker.transform_single_imgs] Loading data from /root/nilearn_data/cobre/fmri_0040006.nii.gz\n",
            "[NiftiLabelsMasker.transform_single_imgs] Extracting region signals\n",
            "[NiftiLabelsMasker.transform_single_imgs] Cleaning extracted signals\n",
            "_______________________________________________filter_and_extract - 0.5s, 0.0min\n",
            "[NiftiLabelsMasker.fit_transform] loading data from /root/nilearn_data/basc_multiscale_2015/template_cambridge_basc_multiscale_nii_sym/template_cambridge_basc_multiscale_sym_scale064.nii.gz\n",
            "________________________________________________________________________________\n",
            "[Memory] Calling nilearn.input_data.base_masker.filter_and_extract...\n",
            "filter_and_extract('/root/nilearn_data/cobre/fmri_0040004.nii.gz', <nilearn.input_data.nifti_labels_masker._ExtractionFunctor object at 0x7fdcfda9bd10>, \n",
            "{ 'background_label': 0,\n",
            "  'detrend': False,\n",
            "  'dtype': None,\n",
            "  'high_pass': None,\n",
            "  'high_variance_confounds': False,\n",
            "  'labels': None,\n",
            "  'labels_img': '/root/nilearn_data/basc_multiscale_2015/template_cambridge_basc_multiscale_nii_sym/template_cambridge_basc_multiscale_sym_scale064.nii.gz',\n",
            "  'low_pass': None,\n",
            "  'mask_img': None,\n",
            "  'reports': True,\n",
            "  'smoothing_fwhm': None,\n",
            "  'standardize': True,\n",
            "  'standardize_confounds': True,\n",
            "  'strategy': 'mean',\n",
            "  't_r': None,\n",
            "  'target_affine': None,\n",
            "  'target_shape': None}, confounds=['/root/nilearn_data/cobre/fmri_0040004.tsv'], sample_mask=None, dtype=None, memory=Memory(location=nilearn_cache/joblib), memory_level=1, verbose=1)\n",
            "[NiftiLabelsMasker.transform_single_imgs] Loading data from /root/nilearn_data/cobre/fmri_0040004.nii.gz\n",
            "[NiftiLabelsMasker.transform_single_imgs] Extracting region signals\n",
            "[NiftiLabelsMasker.transform_single_imgs] Cleaning extracted signals\n",
            "_______________________________________________filter_and_extract - 0.5s, 0.0min\n",
            "[NiftiLabelsMasker.fit_transform] loading data from /root/nilearn_data/basc_multiscale_2015/template_cambridge_basc_multiscale_nii_sym/template_cambridge_basc_multiscale_sym_scale064.nii.gz\n",
            "________________________________________________________________________________\n",
            "[Memory] Calling nilearn.input_data.base_masker.filter_and_extract...\n",
            "filter_and_extract('/root/nilearn_data/cobre/fmri_0040064.nii.gz', <nilearn.input_data.nifti_labels_masker._ExtractionFunctor object at 0x7fdd0f70dc10>, \n",
            "{ 'background_label': 0,\n",
            "  'detrend': False,\n",
            "  'dtype': None,\n",
            "  'high_pass': None,\n",
            "  'high_variance_confounds': False,\n",
            "  'labels': None,\n",
            "  'labels_img': '/root/nilearn_data/basc_multiscale_2015/template_cambridge_basc_multiscale_nii_sym/template_cambridge_basc_multiscale_sym_scale064.nii.gz',\n",
            "  'low_pass': None,\n",
            "  'mask_img': None,\n",
            "  'reports': True,\n",
            "  'smoothing_fwhm': None,\n",
            "  'standardize': True,\n",
            "  'standardize_confounds': True,\n",
            "  'strategy': 'mean',\n",
            "  't_r': None,\n",
            "  'target_affine': None,\n",
            "  'target_shape': None}, confounds=['/root/nilearn_data/cobre/fmri_0040064.tsv'], sample_mask=None, dtype=None, memory=Memory(location=nilearn_cache/joblib), memory_level=1, verbose=1)\n",
            "[NiftiLabelsMasker.transform_single_imgs] Loading data from /root/nilearn_data/cobre/fmri_0040064.nii.gz\n",
            "[NiftiLabelsMasker.transform_single_imgs] Extracting region signals\n",
            "[NiftiLabelsMasker.transform_single_imgs] Cleaning extracted signals\n",
            "_______________________________________________filter_and_extract - 0.5s, 0.0min\n",
            "[NiftiLabelsMasker.fit_transform] loading data from /root/nilearn_data/basc_multiscale_2015/template_cambridge_basc_multiscale_nii_sym/template_cambridge_basc_multiscale_sym_scale064.nii.gz\n",
            "________________________________________________________________________________\n",
            "[Memory] Calling nilearn.input_data.base_masker.filter_and_extract...\n",
            "filter_and_extract('/root/nilearn_data/cobre/fmri_0040078.nii.gz', <nilearn.input_data.nifti_labels_masker._ExtractionFunctor object at 0x7fdd0aea0150>, \n",
            "{ 'background_label': 0,\n",
            "  'detrend': False,\n",
            "  'dtype': None,\n",
            "  'high_pass': None,\n",
            "  'high_variance_confounds': False,\n",
            "  'labels': None,\n",
            "  'labels_img': '/root/nilearn_data/basc_multiscale_2015/template_cambridge_basc_multiscale_nii_sym/template_cambridge_basc_multiscale_sym_scale064.nii.gz',\n",
            "  'low_pass': None,\n",
            "  'mask_img': None,\n",
            "  'reports': True,\n",
            "  'smoothing_fwhm': None,\n",
            "  'standardize': True,\n",
            "  'standardize_confounds': True,\n",
            "  'strategy': 'mean',\n",
            "  't_r': None,\n",
            "  'target_affine': None,\n",
            "  'target_shape': None}, confounds=['/root/nilearn_data/cobre/fmri_0040078.tsv'], sample_mask=None, dtype=None, memory=Memory(location=nilearn_cache/joblib), memory_level=1, verbose=1)\n",
            "[NiftiLabelsMasker.transform_single_imgs] Loading data from /root/nilearn_data/cobre/fmri_0040078.nii.gz\n",
            "[NiftiLabelsMasker.transform_single_imgs] Extracting region signals\n",
            "[NiftiLabelsMasker.transform_single_imgs] Cleaning extracted signals\n",
            "_______________________________________________filter_and_extract - 0.5s, 0.0min\n",
            "[NiftiLabelsMasker.fit_transform] loading data from /root/nilearn_data/basc_multiscale_2015/template_cambridge_basc_multiscale_nii_sym/template_cambridge_basc_multiscale_sym_scale064.nii.gz\n",
            "________________________________________________________________________________\n",
            "[Memory] Calling nilearn.input_data.base_masker.filter_and_extract...\n",
            "filter_and_extract('/root/nilearn_data/cobre/fmri_0040094.nii.gz', <nilearn.input_data.nifti_labels_masker._ExtractionFunctor object at 0x7fdcfd44ee50>, \n",
            "{ 'background_label': 0,\n",
            "  'detrend': False,\n",
            "  'dtype': None,\n",
            "  'high_pass': None,\n",
            "  'high_variance_confounds': False,\n",
            "  'labels': None,\n",
            "  'labels_img': '/root/nilearn_data/basc_multiscale_2015/template_cambridge_basc_multiscale_nii_sym/template_cambridge_basc_multiscale_sym_scale064.nii.gz',\n",
            "  'low_pass': None,\n",
            "  'mask_img': None,\n",
            "  'reports': True,\n",
            "  'smoothing_fwhm': None,\n",
            "  'standardize': True,\n",
            "  'standardize_confounds': True,\n",
            "  'strategy': 'mean',\n",
            "  't_r': None,\n",
            "  'target_affine': None,\n",
            "  'target_shape': None}, confounds=['/root/nilearn_data/cobre/fmri_0040094.tsv'], sample_mask=None, dtype=None, memory=Memory(location=nilearn_cache/joblib), memory_level=1, verbose=1)\n",
            "[NiftiLabelsMasker.transform_single_imgs] Loading data from /root/nilearn_data/cobre/fmri_0040094.nii.gz\n",
            "[NiftiLabelsMasker.transform_single_imgs] Extracting region signals\n",
            "[NiftiLabelsMasker.transform_single_imgs] Cleaning extracted signals\n",
            "_______________________________________________filter_and_extract - 0.5s, 0.0min\n",
            "[NiftiLabelsMasker.fit_transform] loading data from /root/nilearn_data/basc_multiscale_2015/template_cambridge_basc_multiscale_nii_sym/template_cambridge_basc_multiscale_sym_scale064.nii.gz\n",
            "________________________________________________________________________________\n",
            "[Memory] Calling nilearn.input_data.base_masker.filter_and_extract...\n",
            "filter_and_extract('/root/nilearn_data/cobre/fmri_0040084.nii.gz', <nilearn.input_data.nifti_labels_masker._ExtractionFunctor object at 0x7fdd0f4a2bd0>, \n",
            "{ 'background_label': 0,\n",
            "  'detrend': False,\n",
            "  'dtype': None,\n",
            "  'high_pass': None,\n",
            "  'high_variance_confounds': False,\n",
            "  'labels': None,\n",
            "  'labels_img': '/root/nilearn_data/basc_multiscale_2015/template_cambridge_basc_multiscale_nii_sym/template_cambridge_basc_multiscale_sym_scale064.nii.gz',\n",
            "  'low_pass': None,\n",
            "  'mask_img': None,\n",
            "  'reports': True,\n",
            "  'smoothing_fwhm': None,\n",
            "  'standardize': True,\n",
            "  'standardize_confounds': True,\n",
            "  'strategy': 'mean',\n",
            "  't_r': None,\n",
            "  'target_affine': None,\n",
            "  'target_shape': None}, confounds=['/root/nilearn_data/cobre/fmri_0040084.tsv'], sample_mask=None, dtype=None, memory=Memory(location=nilearn_cache/joblib), memory_level=1, verbose=1)\n",
            "[NiftiLabelsMasker.transform_single_imgs] Loading data from /root/nilearn_data/cobre/fmri_0040084.nii.gz\n",
            "[NiftiLabelsMasker.transform_single_imgs] Extracting region signals\n",
            "[NiftiLabelsMasker.transform_single_imgs] Cleaning extracted signals\n",
            "_______________________________________________filter_and_extract - 0.5s, 0.0min\n",
            "[NiftiLabelsMasker.fit_transform] loading data from /root/nilearn_data/basc_multiscale_2015/template_cambridge_basc_multiscale_nii_sym/template_cambridge_basc_multiscale_sym_scale064.nii.gz\n",
            "________________________________________________________________________________\n",
            "[Memory] Calling nilearn.input_data.base_masker.filter_and_extract...\n",
            "filter_and_extract('/root/nilearn_data/cobre/fmri_0040041.nii.gz', <nilearn.input_data.nifti_labels_masker._ExtractionFunctor object at 0x7fdd0ae9d690>, \n",
            "{ 'background_label': 0,\n",
            "  'detrend': False,\n",
            "  'dtype': None,\n",
            "  'high_pass': None,\n",
            "  'high_variance_confounds': False,\n",
            "  'labels': None,\n",
            "  'labels_img': '/root/nilearn_data/basc_multiscale_2015/template_cambridge_basc_multiscale_nii_sym/template_cambridge_basc_multiscale_sym_scale064.nii.gz',\n",
            "  'low_pass': None,\n",
            "  'mask_img': None,\n",
            "  'reports': True,\n",
            "  'smoothing_fwhm': None,\n",
            "  'standardize': True,\n",
            "  'standardize_confounds': True,\n",
            "  'strategy': 'mean',\n",
            "  't_r': None,\n",
            "  'target_affine': None,\n",
            "  'target_shape': None}, confounds=['/root/nilearn_data/cobre/fmri_0040041.tsv'], sample_mask=None, dtype=None, memory=Memory(location=nilearn_cache/joblib), memory_level=1, verbose=1)\n",
            "[NiftiLabelsMasker.transform_single_imgs] Loading data from /root/nilearn_data/cobre/fmri_0040041.nii.gz\n",
            "[NiftiLabelsMasker.transform_single_imgs] Extracting region signals\n",
            "[NiftiLabelsMasker.transform_single_imgs] Cleaning extracted signals\n",
            "_______________________________________________filter_and_extract - 0.4s, 0.0min\n",
            "[NiftiLabelsMasker.fit_transform] loading data from /root/nilearn_data/basc_multiscale_2015/template_cambridge_basc_multiscale_nii_sym/template_cambridge_basc_multiscale_sym_scale064.nii.gz\n",
            "________________________________________________________________________________\n",
            "[Memory] Calling nilearn.input_data.base_masker.filter_and_extract...\n",
            "filter_and_extract('/root/nilearn_data/cobre/fmri_0040089.nii.gz', <nilearn.input_data.nifti_labels_masker._ExtractionFunctor object at 0x7fdd0af24150>, \n",
            "{ 'background_label': 0,\n",
            "  'detrend': False,\n",
            "  'dtype': None,\n",
            "  'high_pass': None,\n",
            "  'high_variance_confounds': False,\n",
            "  'labels': None,\n",
            "  'labels_img': '/root/nilearn_data/basc_multiscale_2015/template_cambridge_basc_multiscale_nii_sym/template_cambridge_basc_multiscale_sym_scale064.nii.gz',\n",
            "  'low_pass': None,\n",
            "  'mask_img': None,\n",
            "  'reports': True,\n",
            "  'smoothing_fwhm': None,\n",
            "  'standardize': True,\n",
            "  'standardize_confounds': True,\n",
            "  'strategy': 'mean',\n",
            "  't_r': None,\n",
            "  'target_affine': None,\n",
            "  'target_shape': None}, confounds=['/root/nilearn_data/cobre/fmri_0040089.tsv'], sample_mask=None, dtype=None, memory=Memory(location=nilearn_cache/joblib), memory_level=1, verbose=1)\n",
            "[NiftiLabelsMasker.transform_single_imgs] Loading data from /root/nilearn_data/cobre/fmri_0040089.nii.gz\n",
            "[NiftiLabelsMasker.transform_single_imgs] Extracting region signals\n",
            "[NiftiLabelsMasker.transform_single_imgs] Cleaning extracted signals\n",
            "_______________________________________________filter_and_extract - 0.5s, 0.0min\n",
            "[NiftiLabelsMasker.fit_transform] loading data from /root/nilearn_data/basc_multiscale_2015/template_cambridge_basc_multiscale_nii_sym/template_cambridge_basc_multiscale_sym_scale064.nii.gz\n",
            "________________________________________________________________________________\n",
            "[Memory] Calling nilearn.input_data.base_masker.filter_and_extract...\n",
            "filter_and_extract('/root/nilearn_data/cobre/fmri_0040040.nii.gz', <nilearn.input_data.nifti_labels_masker._ExtractionFunctor object at 0x7fdd0af03690>, \n",
            "{ 'background_label': 0,\n",
            "  'detrend': False,\n",
            "  'dtype': None,\n",
            "  'high_pass': None,\n",
            "  'high_variance_confounds': False,\n",
            "  'labels': None,\n",
            "  'labels_img': '/root/nilearn_data/basc_multiscale_2015/template_cambridge_basc_multiscale_nii_sym/template_cambridge_basc_multiscale_sym_scale064.nii.gz',\n",
            "  'low_pass': None,\n",
            "  'mask_img': None,\n",
            "  'reports': True,\n",
            "  'smoothing_fwhm': None,\n",
            "  'standardize': True,\n",
            "  'standardize_confounds': True,\n",
            "  'strategy': 'mean',\n",
            "  't_r': None,\n",
            "  'target_affine': None,\n",
            "  'target_shape': None}, confounds=['/root/nilearn_data/cobre/fmri_0040040.tsv'], sample_mask=None, dtype=None, memory=Memory(location=nilearn_cache/joblib), memory_level=1, verbose=1)\n",
            "[NiftiLabelsMasker.transform_single_imgs] Loading data from /root/nilearn_data/cobre/fmri_0040040.nii.gz\n",
            "[NiftiLabelsMasker.transform_single_imgs] Extracting region signals\n",
            "[NiftiLabelsMasker.transform_single_imgs] Cleaning extracted signals\n",
            "_______________________________________________filter_and_extract - 0.5s, 0.0min\n",
            "[NiftiLabelsMasker.fit_transform] loading data from /root/nilearn_data/basc_multiscale_2015/template_cambridge_basc_multiscale_nii_sym/template_cambridge_basc_multiscale_sym_scale064.nii.gz\n",
            "________________________________________________________________________________\n",
            "[Memory] Calling nilearn.input_data.base_masker.filter_and_extract...\n",
            "filter_and_extract('/root/nilearn_data/cobre/fmri_0040028.nii.gz', <nilearn.input_data.nifti_labels_masker._ExtractionFunctor object at 0x7fdd0f039610>, \n",
            "{ 'background_label': 0,\n",
            "  'detrend': False,\n",
            "  'dtype': None,\n",
            "  'high_pass': None,\n",
            "  'high_variance_confounds': False,\n",
            "  'labels': None,\n",
            "  'labels_img': '/root/nilearn_data/basc_multiscale_2015/template_cambridge_basc_multiscale_nii_sym/template_cambridge_basc_multiscale_sym_scale064.nii.gz',\n",
            "  'low_pass': None,\n",
            "  'mask_img': None,\n",
            "  'reports': True,\n",
            "  'smoothing_fwhm': None,\n",
            "  'standardize': True,\n",
            "  'standardize_confounds': True,\n",
            "  'strategy': 'mean',\n",
            "  't_r': None,\n",
            "  'target_affine': None,\n",
            "  'target_shape': None}, confounds=['/root/nilearn_data/cobre/fmri_0040028.tsv'], sample_mask=None, dtype=None, memory=Memory(location=nilearn_cache/joblib), memory_level=1, verbose=1)\n",
            "[NiftiLabelsMasker.transform_single_imgs] Loading data from /root/nilearn_data/cobre/fmri_0040028.nii.gz\n",
            "[NiftiLabelsMasker.transform_single_imgs] Extracting region signals\n",
            "[NiftiLabelsMasker.transform_single_imgs] Cleaning extracted signals\n",
            "_______________________________________________filter_and_extract - 0.5s, 0.0min\n",
            "[NiftiLabelsMasker.fit_transform] loading data from /root/nilearn_data/basc_multiscale_2015/template_cambridge_basc_multiscale_nii_sym/template_cambridge_basc_multiscale_sym_scale064.nii.gz\n",
            "________________________________________________________________________________\n",
            "[Memory] Calling nilearn.input_data.base_masker.filter_and_extract...\n",
            "filter_and_extract('/root/nilearn_data/cobre/fmri_0040007.nii.gz', <nilearn.input_data.nifti_labels_masker._ExtractionFunctor object at 0x7fdd0ae9d4d0>, \n",
            "{ 'background_label': 0,\n",
            "  'detrend': False,\n",
            "  'dtype': None,\n",
            "  'high_pass': None,\n",
            "  'high_variance_confounds': False,\n",
            "  'labels': None,\n",
            "  'labels_img': '/root/nilearn_data/basc_multiscale_2015/template_cambridge_basc_multiscale_nii_sym/template_cambridge_basc_multiscale_sym_scale064.nii.gz',\n",
            "  'low_pass': None,\n",
            "  'mask_img': None,\n",
            "  'reports': True,\n",
            "  'smoothing_fwhm': None,\n",
            "  'standardize': True,\n",
            "  'standardize_confounds': True,\n",
            "  'strategy': 'mean',\n",
            "  't_r': None,\n",
            "  'target_affine': None,\n",
            "  'target_shape': None}, confounds=['/root/nilearn_data/cobre/fmri_0040007.tsv'], sample_mask=None, dtype=None, memory=Memory(location=nilearn_cache/joblib), memory_level=1, verbose=1)\n",
            "[NiftiLabelsMasker.transform_single_imgs] Loading data from /root/nilearn_data/cobre/fmri_0040007.nii.gz\n",
            "[NiftiLabelsMasker.transform_single_imgs] Extracting region signals\n",
            "[NiftiLabelsMasker.transform_single_imgs] Cleaning extracted signals\n",
            "_______________________________________________filter_and_extract - 0.5s, 0.0min\n",
            "[NiftiLabelsMasker.fit_transform] loading data from /root/nilearn_data/basc_multiscale_2015/template_cambridge_basc_multiscale_nii_sym/template_cambridge_basc_multiscale_sym_scale064.nii.gz\n",
            "________________________________________________________________________________\n",
            "[Memory] Calling nilearn.input_data.base_masker.filter_and_extract...\n",
            "filter_and_extract('/root/nilearn_data/cobre/fmri_0040061.nii.gz', <nilearn.input_data.nifti_labels_masker._ExtractionFunctor object at 0x7fdd0af24150>, \n",
            "{ 'background_label': 0,\n",
            "  'detrend': False,\n",
            "  'dtype': None,\n",
            "  'high_pass': None,\n",
            "  'high_variance_confounds': False,\n",
            "  'labels': None,\n",
            "  'labels_img': '/root/nilearn_data/basc_multiscale_2015/template_cambridge_basc_multiscale_nii_sym/template_cambridge_basc_multiscale_sym_scale064.nii.gz',\n",
            "  'low_pass': None,\n",
            "  'mask_img': None,\n",
            "  'reports': True,\n",
            "  'smoothing_fwhm': None,\n",
            "  'standardize': True,\n",
            "  'standardize_confounds': True,\n",
            "  'strategy': 'mean',\n",
            "  't_r': None,\n",
            "  'target_affine': None,\n",
            "  'target_shape': None}, confounds=['/root/nilearn_data/cobre/fmri_0040061.tsv'], sample_mask=None, dtype=None, memory=Memory(location=nilearn_cache/joblib), memory_level=1, verbose=1)\n",
            "[NiftiLabelsMasker.transform_single_imgs] Loading data from /root/nilearn_data/cobre/fmri_0040061.nii.gz\n",
            "[NiftiLabelsMasker.transform_single_imgs] Extracting region signals\n",
            "[NiftiLabelsMasker.transform_single_imgs] Cleaning extracted signals\n",
            "_______________________________________________filter_and_extract - 0.5s, 0.0min\n",
            "[NiftiLabelsMasker.fit_transform] loading data from /root/nilearn_data/basc_multiscale_2015/template_cambridge_basc_multiscale_nii_sym/template_cambridge_basc_multiscale_sym_scale064.nii.gz\n",
            "________________________________________________________________________________\n",
            "[Memory] Calling nilearn.input_data.base_masker.filter_and_extract...\n",
            "filter_and_extract('/root/nilearn_data/cobre/fmri_0040090.nii.gz', <nilearn.input_data.nifti_labels_masker._ExtractionFunctor object at 0x7fdcfd9b0b10>, \n",
            "{ 'background_label': 0,\n",
            "  'detrend': False,\n",
            "  'dtype': None,\n",
            "  'high_pass': None,\n",
            "  'high_variance_confounds': False,\n",
            "  'labels': None,\n",
            "  'labels_img': '/root/nilearn_data/basc_multiscale_2015/template_cambridge_basc_multiscale_nii_sym/template_cambridge_basc_multiscale_sym_scale064.nii.gz',\n",
            "  'low_pass': None,\n",
            "  'mask_img': None,\n",
            "  'reports': True,\n",
            "  'smoothing_fwhm': None,\n",
            "  'standardize': True,\n",
            "  'standardize_confounds': True,\n",
            "  'strategy': 'mean',\n",
            "  't_r': None,\n",
            "  'target_affine': None,\n",
            "  'target_shape': None}, confounds=['/root/nilearn_data/cobre/fmri_0040090.tsv'], sample_mask=None, dtype=None, memory=Memory(location=nilearn_cache/joblib), memory_level=1, verbose=1)\n",
            "[NiftiLabelsMasker.transform_single_imgs] Loading data from /root/nilearn_data/cobre/fmri_0040090.nii.gz\n",
            "[NiftiLabelsMasker.transform_single_imgs] Extracting region signals\n",
            "[NiftiLabelsMasker.transform_single_imgs] Cleaning extracted signals\n",
            "_______________________________________________filter_and_extract - 0.5s, 0.0min\n",
            "[NiftiLabelsMasker.fit_transform] loading data from /root/nilearn_data/basc_multiscale_2015/template_cambridge_basc_multiscale_nii_sym/template_cambridge_basc_multiscale_sym_scale064.nii.gz\n",
            "________________________________________________________________________________\n",
            "[Memory] Calling nilearn.input_data.base_masker.filter_and_extract...\n",
            "filter_and_extract('/root/nilearn_data/cobre/fmri_0040113.nii.gz', <nilearn.input_data.nifti_labels_masker._ExtractionFunctor object at 0x7fdd0fde6b50>, \n",
            "{ 'background_label': 0,\n",
            "  'detrend': False,\n",
            "  'dtype': None,\n",
            "  'high_pass': None,\n",
            "  'high_variance_confounds': False,\n",
            "  'labels': None,\n",
            "  'labels_img': '/root/nilearn_data/basc_multiscale_2015/template_cambridge_basc_multiscale_nii_sym/template_cambridge_basc_multiscale_sym_scale064.nii.gz',\n",
            "  'low_pass': None,\n",
            "  'mask_img': None,\n",
            "  'reports': True,\n",
            "  'smoothing_fwhm': None,\n",
            "  'standardize': True,\n",
            "  'standardize_confounds': True,\n",
            "  'strategy': 'mean',\n",
            "  't_r': None,\n",
            "  'target_affine': None,\n",
            "  'target_shape': None}, confounds=['/root/nilearn_data/cobre/fmri_0040113.tsv'], sample_mask=None, dtype=None, memory=Memory(location=nilearn_cache/joblib), memory_level=1, verbose=1)\n",
            "[NiftiLabelsMasker.transform_single_imgs] Loading data from /root/nilearn_data/cobre/fmri_0040113.nii.gz\n",
            "[NiftiLabelsMasker.transform_single_imgs] Extracting region signals\n",
            "[NiftiLabelsMasker.transform_single_imgs] Cleaning extracted signals\n",
            "_______________________________________________filter_and_extract - 0.5s, 0.0min\n",
            "[NiftiLabelsMasker.fit_transform] loading data from /root/nilearn_data/basc_multiscale_2015/template_cambridge_basc_multiscale_nii_sym/template_cambridge_basc_multiscale_sym_scale064.nii.gz\n",
            "________________________________________________________________________________\n",
            "[Memory] Calling nilearn.input_data.base_masker.filter_and_extract...\n",
            "filter_and_extract('/root/nilearn_data/cobre/fmri_0040121.nii.gz', <nilearn.input_data.nifti_labels_masker._ExtractionFunctor object at 0x7fdcfd9d5290>, \n",
            "{ 'background_label': 0,\n",
            "  'detrend': False,\n",
            "  'dtype': None,\n",
            "  'high_pass': None,\n",
            "  'high_variance_confounds': False,\n",
            "  'labels': None,\n",
            "  'labels_img': '/root/nilearn_data/basc_multiscale_2015/template_cambridge_basc_multiscale_nii_sym/template_cambridge_basc_multiscale_sym_scale064.nii.gz',\n",
            "  'low_pass': None,\n",
            "  'mask_img': None,\n",
            "  'reports': True,\n",
            "  'smoothing_fwhm': None,\n",
            "  'standardize': True,\n",
            "  'standardize_confounds': True,\n",
            "  'strategy': 'mean',\n",
            "  't_r': None,\n",
            "  'target_affine': None,\n",
            "  'target_shape': None}, confounds=['/root/nilearn_data/cobre/fmri_0040121.tsv'], sample_mask=None, dtype=None, memory=Memory(location=nilearn_cache/joblib), memory_level=1, verbose=1)\n",
            "[NiftiLabelsMasker.transform_single_imgs] Loading data from /root/nilearn_data/cobre/fmri_0040121.nii.gz\n",
            "[NiftiLabelsMasker.transform_single_imgs] Extracting region signals\n",
            "[NiftiLabelsMasker.transform_single_imgs] Cleaning extracted signals\n",
            "_______________________________________________filter_and_extract - 0.5s, 0.0min\n",
            "[NiftiLabelsMasker.fit_transform] loading data from /root/nilearn_data/basc_multiscale_2015/template_cambridge_basc_multiscale_nii_sym/template_cambridge_basc_multiscale_sym_scale064.nii.gz\n",
            "________________________________________________________________________________\n",
            "[Memory] Calling nilearn.input_data.base_masker.filter_and_extract...\n",
            "filter_and_extract('/root/nilearn_data/cobre/fmri_0040020.nii.gz', <nilearn.input_data.nifti_labels_masker._ExtractionFunctor object at 0x7fdcfd9a9e90>, \n",
            "{ 'background_label': 0,\n",
            "  'detrend': False,\n",
            "  'dtype': None,\n",
            "  'high_pass': None,\n",
            "  'high_variance_confounds': False,\n",
            "  'labels': None,\n",
            "  'labels_img': '/root/nilearn_data/basc_multiscale_2015/template_cambridge_basc_multiscale_nii_sym/template_cambridge_basc_multiscale_sym_scale064.nii.gz',\n",
            "  'low_pass': None,\n",
            "  'mask_img': None,\n",
            "  'reports': True,\n",
            "  'smoothing_fwhm': None,\n",
            "  'standardize': True,\n",
            "  'standardize_confounds': True,\n",
            "  'strategy': 'mean',\n",
            "  't_r': None,\n",
            "  'target_affine': None,\n",
            "  'target_shape': None}, confounds=['/root/nilearn_data/cobre/fmri_0040020.tsv'], sample_mask=None, dtype=None, memory=Memory(location=nilearn_cache/joblib), memory_level=1, verbose=1)\n",
            "[NiftiLabelsMasker.transform_single_imgs] Loading data from /root/nilearn_data/cobre/fmri_0040020.nii.gz\n",
            "[NiftiLabelsMasker.transform_single_imgs] Extracting region signals\n",
            "[NiftiLabelsMasker.transform_single_imgs] Cleaning extracted signals\n",
            "_______________________________________________filter_and_extract - 0.5s, 0.0min\n",
            "[NiftiLabelsMasker.fit_transform] loading data from /root/nilearn_data/basc_multiscale_2015/template_cambridge_basc_multiscale_nii_sym/template_cambridge_basc_multiscale_sym_scale064.nii.gz\n",
            "________________________________________________________________________________\n",
            "[Memory] Calling nilearn.input_data.base_masker.filter_and_extract...\n",
            "filter_and_extract('/root/nilearn_data/cobre/fmri_0040052.nii.gz', <nilearn.input_data.nifti_labels_masker._ExtractionFunctor object at 0x7fdd0a466250>, \n",
            "{ 'background_label': 0,\n",
            "  'detrend': False,\n",
            "  'dtype': None,\n",
            "  'high_pass': None,\n",
            "  'high_variance_confounds': False,\n",
            "  'labels': None,\n",
            "  'labels_img': '/root/nilearn_data/basc_multiscale_2015/template_cambridge_basc_multiscale_nii_sym/template_cambridge_basc_multiscale_sym_scale064.nii.gz',\n",
            "  'low_pass': None,\n",
            "  'mask_img': None,\n",
            "  'reports': True,\n",
            "  'smoothing_fwhm': None,\n",
            "  'standardize': True,\n",
            "  'standardize_confounds': True,\n",
            "  'strategy': 'mean',\n",
            "  't_r': None,\n",
            "  'target_affine': None,\n",
            "  'target_shape': None}, confounds=['/root/nilearn_data/cobre/fmri_0040052.tsv'], sample_mask=None, dtype=None, memory=Memory(location=nilearn_cache/joblib), memory_level=1, verbose=1)\n",
            "[NiftiLabelsMasker.transform_single_imgs] Loading data from /root/nilearn_data/cobre/fmri_0040052.nii.gz\n",
            "[NiftiLabelsMasker.transform_single_imgs] Extracting region signals\n",
            "[NiftiLabelsMasker.transform_single_imgs] Cleaning extracted signals\n",
            "_______________________________________________filter_and_extract - 0.5s, 0.0min\n",
            "[NiftiLabelsMasker.fit_transform] loading data from /root/nilearn_data/basc_multiscale_2015/template_cambridge_basc_multiscale_nii_sym/template_cambridge_basc_multiscale_sym_scale064.nii.gz\n",
            "________________________________________________________________________________\n",
            "[Memory] Calling nilearn.input_data.base_masker.filter_and_extract...\n",
            "filter_and_extract('/root/nilearn_data/cobre/fmri_0040065.nii.gz', <nilearn.input_data.nifti_labels_masker._ExtractionFunctor object at 0x7fdd0af24150>, \n",
            "{ 'background_label': 0,\n",
            "  'detrend': False,\n",
            "  'dtype': None,\n",
            "  'high_pass': None,\n",
            "  'high_variance_confounds': False,\n",
            "  'labels': None,\n",
            "  'labels_img': '/root/nilearn_data/basc_multiscale_2015/template_cambridge_basc_multiscale_nii_sym/template_cambridge_basc_multiscale_sym_scale064.nii.gz',\n",
            "  'low_pass': None,\n",
            "  'mask_img': None,\n",
            "  'reports': True,\n",
            "  'smoothing_fwhm': None,\n",
            "  'standardize': True,\n",
            "  'standardize_confounds': True,\n",
            "  'strategy': 'mean',\n",
            "  't_r': None,\n",
            "  'target_affine': None,\n",
            "  'target_shape': None}, confounds=['/root/nilearn_data/cobre/fmri_0040065.tsv'], sample_mask=None, dtype=None, memory=Memory(location=nilearn_cache/joblib), memory_level=1, verbose=1)\n",
            "[NiftiLabelsMasker.transform_single_imgs] Loading data from /root/nilearn_data/cobre/fmri_0040065.nii.gz\n",
            "[NiftiLabelsMasker.transform_single_imgs] Extracting region signals\n",
            "[NiftiLabelsMasker.transform_single_imgs] Cleaning extracted signals\n",
            "_______________________________________________filter_and_extract - 0.5s, 0.0min\n",
            "[NiftiLabelsMasker.fit_transform] loading data from /root/nilearn_data/basc_multiscale_2015/template_cambridge_basc_multiscale_nii_sym/template_cambridge_basc_multiscale_sym_scale064.nii.gz\n",
            "________________________________________________________________________________\n",
            "[Memory] Calling nilearn.input_data.base_masker.filter_and_extract...\n",
            "filter_and_extract('/root/nilearn_data/cobre/fmri_0040128.nii.gz', <nilearn.input_data.nifti_labels_masker._ExtractionFunctor object at 0x7fdd0efe0d10>, \n",
            "{ 'background_label': 0,\n",
            "  'detrend': False,\n",
            "  'dtype': None,\n",
            "  'high_pass': None,\n",
            "  'high_variance_confounds': False,\n",
            "  'labels': None,\n",
            "  'labels_img': '/root/nilearn_data/basc_multiscale_2015/template_cambridge_basc_multiscale_nii_sym/template_cambridge_basc_multiscale_sym_scale064.nii.gz',\n",
            "  'low_pass': None,\n",
            "  'mask_img': None,\n",
            "  'reports': True,\n",
            "  'smoothing_fwhm': None,\n",
            "  'standardize': True,\n",
            "  'standardize_confounds': True,\n",
            "  'strategy': 'mean',\n",
            "  't_r': None,\n",
            "  'target_affine': None,\n",
            "  'target_shape': None}, confounds=['/root/nilearn_data/cobre/fmri_0040128.tsv'], sample_mask=None, dtype=None, memory=Memory(location=nilearn_cache/joblib), memory_level=1, verbose=1)\n",
            "[NiftiLabelsMasker.transform_single_imgs] Loading data from /root/nilearn_data/cobre/fmri_0040128.nii.gz\n",
            "[NiftiLabelsMasker.transform_single_imgs] Extracting region signals\n",
            "[NiftiLabelsMasker.transform_single_imgs] Cleaning extracted signals\n",
            "_______________________________________________filter_and_extract - 0.5s, 0.0min\n",
            "[NiftiLabelsMasker.fit_transform] loading data from /root/nilearn_data/basc_multiscale_2015/template_cambridge_basc_multiscale_nii_sym/template_cambridge_basc_multiscale_sym_scale064.nii.gz\n",
            "________________________________________________________________________________\n",
            "[Memory] Calling nilearn.input_data.base_masker.filter_and_extract...\n",
            "filter_and_extract('/root/nilearn_data/cobre/fmri_0040051.nii.gz', <nilearn.input_data.nifti_labels_masker._ExtractionFunctor object at 0x7fdcfd9b0d50>, \n",
            "{ 'background_label': 0,\n",
            "  'detrend': False,\n",
            "  'dtype': None,\n",
            "  'high_pass': None,\n",
            "  'high_variance_confounds': False,\n",
            "  'labels': None,\n",
            "  'labels_img': '/root/nilearn_data/basc_multiscale_2015/template_cambridge_basc_multiscale_nii_sym/template_cambridge_basc_multiscale_sym_scale064.nii.gz',\n",
            "  'low_pass': None,\n",
            "  'mask_img': None,\n",
            "  'reports': True,\n",
            "  'smoothing_fwhm': None,\n",
            "  'standardize': True,\n",
            "  'standardize_confounds': True,\n",
            "  'strategy': 'mean',\n",
            "  't_r': None,\n",
            "  'target_affine': None,\n",
            "  'target_shape': None}, confounds=['/root/nilearn_data/cobre/fmri_0040051.tsv'], sample_mask=None, dtype=None, memory=Memory(location=nilearn_cache/joblib), memory_level=1, verbose=1)\n",
            "[NiftiLabelsMasker.transform_single_imgs] Loading data from /root/nilearn_data/cobre/fmri_0040051.nii.gz\n",
            "[NiftiLabelsMasker.transform_single_imgs] Extracting region signals\n",
            "[NiftiLabelsMasker.transform_single_imgs] Cleaning extracted signals\n",
            "_______________________________________________filter_and_extract - 0.5s, 0.0min\n",
            "[NiftiLabelsMasker.fit_transform] loading data from /root/nilearn_data/basc_multiscale_2015/template_cambridge_basc_multiscale_nii_sym/template_cambridge_basc_multiscale_sym_scale064.nii.gz\n",
            "________________________________________________________________________________\n",
            "[Memory] Calling nilearn.input_data.base_masker.filter_and_extract...\n",
            "filter_and_extract('/root/nilearn_data/cobre/fmri_0040114.nii.gz', <nilearn.input_data.nifti_labels_masker._ExtractionFunctor object at 0x7fdd0f4b6e50>, \n",
            "{ 'background_label': 0,\n",
            "  'detrend': False,\n",
            "  'dtype': None,\n",
            "  'high_pass': None,\n",
            "  'high_variance_confounds': False,\n",
            "  'labels': None,\n",
            "  'labels_img': '/root/nilearn_data/basc_multiscale_2015/template_cambridge_basc_multiscale_nii_sym/template_cambridge_basc_multiscale_sym_scale064.nii.gz',\n",
            "  'low_pass': None,\n",
            "  'mask_img': None,\n",
            "  'reports': True,\n",
            "  'smoothing_fwhm': None,\n",
            "  'standardize': True,\n",
            "  'standardize_confounds': True,\n",
            "  'strategy': 'mean',\n",
            "  't_r': None,\n",
            "  'target_affine': None,\n",
            "  'target_shape': None}, confounds=['/root/nilearn_data/cobre/fmri_0040114.tsv'], sample_mask=None, dtype=None, memory=Memory(location=nilearn_cache/joblib), memory_level=1, verbose=1)\n",
            "[NiftiLabelsMasker.transform_single_imgs] Loading data from /root/nilearn_data/cobre/fmri_0040114.nii.gz\n",
            "[NiftiLabelsMasker.transform_single_imgs] Extracting region signals\n",
            "[NiftiLabelsMasker.transform_single_imgs] Cleaning extracted signals\n",
            "_______________________________________________filter_and_extract - 0.5s, 0.0min\n",
            "[NiftiLabelsMasker.fit_transform] loading data from /root/nilearn_data/basc_multiscale_2015/template_cambridge_basc_multiscale_nii_sym/template_cambridge_basc_multiscale_sym_scale064.nii.gz\n",
            "________________________________________________________________________________\n",
            "[Memory] Calling nilearn.input_data.base_masker.filter_and_extract...\n",
            "filter_and_extract('/root/nilearn_data/cobre/fmri_0040129.nii.gz', <nilearn.input_data.nifti_labels_masker._ExtractionFunctor object at 0x7fdcfdadb650>, \n",
            "{ 'background_label': 0,\n",
            "  'detrend': False,\n",
            "  'dtype': None,\n",
            "  'high_pass': None,\n",
            "  'high_variance_confounds': False,\n",
            "  'labels': None,\n",
            "  'labels_img': '/root/nilearn_data/basc_multiscale_2015/template_cambridge_basc_multiscale_nii_sym/template_cambridge_basc_multiscale_sym_scale064.nii.gz',\n",
            "  'low_pass': None,\n",
            "  'mask_img': None,\n",
            "  'reports': True,\n",
            "  'smoothing_fwhm': None,\n",
            "  'standardize': True,\n",
            "  'standardize_confounds': True,\n",
            "  'strategy': 'mean',\n",
            "  't_r': None,\n",
            "  'target_affine': None,\n",
            "  'target_shape': None}, confounds=['/root/nilearn_data/cobre/fmri_0040129.tsv'], sample_mask=None, dtype=None, memory=Memory(location=nilearn_cache/joblib), memory_level=1, verbose=1)\n",
            "[NiftiLabelsMasker.transform_single_imgs] Loading data from /root/nilearn_data/cobre/fmri_0040129.nii.gz\n",
            "[NiftiLabelsMasker.transform_single_imgs] Extracting region signals\n",
            "[NiftiLabelsMasker.transform_single_imgs] Cleaning extracted signals\n",
            "_______________________________________________filter_and_extract - 0.5s, 0.0min\n",
            "[NiftiLabelsMasker.fit_transform] loading data from /root/nilearn_data/basc_multiscale_2015/template_cambridge_basc_multiscale_nii_sym/template_cambridge_basc_multiscale_sym_scale064.nii.gz\n",
            "________________________________________________________________________________\n",
            "[Memory] Calling nilearn.input_data.base_masker.filter_and_extract...\n",
            "filter_and_extract('/root/nilearn_data/cobre/fmri_0040053.nii.gz', <nilearn.input_data.nifti_labels_masker._ExtractionFunctor object at 0x7fdd08321d50>, \n",
            "{ 'background_label': 0,\n",
            "  'detrend': False,\n",
            "  'dtype': None,\n",
            "  'high_pass': None,\n",
            "  'high_variance_confounds': False,\n",
            "  'labels': None,\n",
            "  'labels_img': '/root/nilearn_data/basc_multiscale_2015/template_cambridge_basc_multiscale_nii_sym/template_cambridge_basc_multiscale_sym_scale064.nii.gz',\n",
            "  'low_pass': None,\n",
            "  'mask_img': None,\n",
            "  'reports': True,\n",
            "  'smoothing_fwhm': None,\n",
            "  'standardize': True,\n",
            "  'standardize_confounds': True,\n",
            "  'strategy': 'mean',\n",
            "  't_r': None,\n",
            "  'target_affine': None,\n",
            "  'target_shape': None}, confounds=['/root/nilearn_data/cobre/fmri_0040053.tsv'], sample_mask=None, dtype=None, memory=Memory(location=nilearn_cache/joblib), memory_level=1, verbose=1)\n",
            "[NiftiLabelsMasker.transform_single_imgs] Loading data from /root/nilearn_data/cobre/fmri_0040053.nii.gz\n",
            "[NiftiLabelsMasker.transform_single_imgs] Extracting region signals\n",
            "[NiftiLabelsMasker.transform_single_imgs] Cleaning extracted signals\n",
            "_______________________________________________filter_and_extract - 0.5s, 0.0min\n",
            "[NiftiLabelsMasker.fit_transform] loading data from /root/nilearn_data/basc_multiscale_2015/template_cambridge_basc_multiscale_nii_sym/template_cambridge_basc_multiscale_sym_scale064.nii.gz\n",
            "________________________________________________________________________________\n",
            "[Memory] Calling nilearn.input_data.base_masker.filter_and_extract...\n",
            "filter_and_extract('/root/nilearn_data/cobre/fmri_0040068.nii.gz', <nilearn.input_data.nifti_labels_masker._ExtractionFunctor object at 0x7fdd0f70dc10>, \n",
            "{ 'background_label': 0,\n",
            "  'detrend': False,\n",
            "  'dtype': None,\n",
            "  'high_pass': None,\n",
            "  'high_variance_confounds': False,\n",
            "  'labels': None,\n",
            "  'labels_img': '/root/nilearn_data/basc_multiscale_2015/template_cambridge_basc_multiscale_nii_sym/template_cambridge_basc_multiscale_sym_scale064.nii.gz',\n",
            "  'low_pass': None,\n",
            "  'mask_img': None,\n",
            "  'reports': True,\n",
            "  'smoothing_fwhm': None,\n",
            "  'standardize': True,\n",
            "  'standardize_confounds': True,\n",
            "  'strategy': 'mean',\n",
            "  't_r': None,\n",
            "  'target_affine': None,\n",
            "  'target_shape': None}, confounds=['/root/nilearn_data/cobre/fmri_0040068.tsv'], sample_mask=None, dtype=None, memory=Memory(location=nilearn_cache/joblib), memory_level=1, verbose=1)\n",
            "[NiftiLabelsMasker.transform_single_imgs] Loading data from /root/nilearn_data/cobre/fmri_0040068.nii.gz\n",
            "[NiftiLabelsMasker.transform_single_imgs] Extracting region signals\n",
            "[NiftiLabelsMasker.transform_single_imgs] Cleaning extracted signals\n",
            "_______________________________________________filter_and_extract - 0.5s, 0.0min\n",
            "[NiftiLabelsMasker.fit_transform] loading data from /root/nilearn_data/basc_multiscale_2015/template_cambridge_basc_multiscale_nii_sym/template_cambridge_basc_multiscale_sym_scale064.nii.gz\n",
            "________________________________________________________________________________\n",
            "[Memory] Calling nilearn.input_data.base_masker.filter_and_extract...\n",
            "filter_and_extract('/root/nilearn_data/cobre/fmri_0040091.nii.gz', <nilearn.input_data.nifti_labels_masker._ExtractionFunctor object at 0x7fdcfdaafc50>, \n",
            "{ 'background_label': 0,\n",
            "  'detrend': False,\n",
            "  'dtype': None,\n",
            "  'high_pass': None,\n",
            "  'high_variance_confounds': False,\n",
            "  'labels': None,\n",
            "  'labels_img': '/root/nilearn_data/basc_multiscale_2015/template_cambridge_basc_multiscale_nii_sym/template_cambridge_basc_multiscale_sym_scale064.nii.gz',\n",
            "  'low_pass': None,\n",
            "  'mask_img': None,\n",
            "  'reports': True,\n",
            "  'smoothing_fwhm': None,\n",
            "  'standardize': True,\n",
            "  'standardize_confounds': True,\n",
            "  'strategy': 'mean',\n",
            "  't_r': None,\n",
            "  'target_affine': None,\n",
            "  'target_shape': None}, confounds=['/root/nilearn_data/cobre/fmri_0040091.tsv'], sample_mask=None, dtype=None, memory=Memory(location=nilearn_cache/joblib), memory_level=1, verbose=1)\n",
            "[NiftiLabelsMasker.transform_single_imgs] Loading data from /root/nilearn_data/cobre/fmri_0040091.nii.gz\n",
            "[NiftiLabelsMasker.transform_single_imgs] Extracting region signals\n",
            "[NiftiLabelsMasker.transform_single_imgs] Cleaning extracted signals\n",
            "_______________________________________________filter_and_extract - 0.5s, 0.0min\n",
            "[NiftiLabelsMasker.fit_transform] loading data from /root/nilearn_data/basc_multiscale_2015/template_cambridge_basc_multiscale_nii_sym/template_cambridge_basc_multiscale_sym_scale064.nii.gz\n",
            "________________________________________________________________________________\n",
            "[Memory] Calling nilearn.input_data.base_masker.filter_and_extract...\n",
            "filter_and_extract('/root/nilearn_data/cobre/fmri_0040135.nii.gz', <nilearn.input_data.nifti_labels_masker._ExtractionFunctor object at 0x7fdcfdaafc50>, \n",
            "{ 'background_label': 0,\n",
            "  'detrend': False,\n",
            "  'dtype': None,\n",
            "  'high_pass': None,\n",
            "  'high_variance_confounds': False,\n",
            "  'labels': None,\n",
            "  'labels_img': '/root/nilearn_data/basc_multiscale_2015/template_cambridge_basc_multiscale_nii_sym/template_cambridge_basc_multiscale_sym_scale064.nii.gz',\n",
            "  'low_pass': None,\n",
            "  'mask_img': None,\n",
            "  'reports': True,\n",
            "  'smoothing_fwhm': None,\n",
            "  'standardize': True,\n",
            "  'standardize_confounds': True,\n",
            "  'strategy': 'mean',\n",
            "  't_r': None,\n",
            "  'target_affine': None,\n",
            "  'target_shape': None}, confounds=['/root/nilearn_data/cobre/fmri_0040135.tsv'], sample_mask=None, dtype=None, memory=Memory(location=nilearn_cache/joblib), memory_level=1, verbose=1)\n",
            "[NiftiLabelsMasker.transform_single_imgs] Loading data from /root/nilearn_data/cobre/fmri_0040135.nii.gz\n",
            "[NiftiLabelsMasker.transform_single_imgs] Extracting region signals\n",
            "[NiftiLabelsMasker.transform_single_imgs] Cleaning extracted signals\n",
            "_______________________________________________filter_and_extract - 0.5s, 0.0min\n",
            "[NiftiLabelsMasker.fit_transform] loading data from /root/nilearn_data/basc_multiscale_2015/template_cambridge_basc_multiscale_nii_sym/template_cambridge_basc_multiscale_sym_scale064.nii.gz\n",
            "________________________________________________________________________________\n",
            "[Memory] Calling nilearn.input_data.base_masker.filter_and_extract...\n",
            "filter_and_extract('/root/nilearn_data/cobre/fmri_0040093.nii.gz', <nilearn.input_data.nifti_labels_masker._ExtractionFunctor object at 0x7fdcfda9bd10>, \n",
            "{ 'background_label': 0,\n",
            "  'detrend': False,\n",
            "  'dtype': None,\n",
            "  'high_pass': None,\n",
            "  'high_variance_confounds': False,\n",
            "  'labels': None,\n",
            "  'labels_img': '/root/nilearn_data/basc_multiscale_2015/template_cambridge_basc_multiscale_nii_sym/template_cambridge_basc_multiscale_sym_scale064.nii.gz',\n",
            "  'low_pass': None,\n",
            "  'mask_img': None,\n",
            "  'reports': True,\n",
            "  'smoothing_fwhm': None,\n",
            "  'standardize': True,\n",
            "  'standardize_confounds': True,\n",
            "  'strategy': 'mean',\n",
            "  't_r': None,\n",
            "  'target_affine': None,\n",
            "  'target_shape': None}, confounds=['/root/nilearn_data/cobre/fmri_0040093.tsv'], sample_mask=None, dtype=None, memory=Memory(location=nilearn_cache/joblib), memory_level=1, verbose=1)\n",
            "[NiftiLabelsMasker.transform_single_imgs] Loading data from /root/nilearn_data/cobre/fmri_0040093.nii.gz\n",
            "[NiftiLabelsMasker.transform_single_imgs] Extracting region signals\n",
            "[NiftiLabelsMasker.transform_single_imgs] Cleaning extracted signals\n",
            "_______________________________________________filter_and_extract - 0.5s, 0.0min\n",
            "[NiftiLabelsMasker.fit_transform] loading data from /root/nilearn_data/basc_multiscale_2015/template_cambridge_basc_multiscale_nii_sym/template_cambridge_basc_multiscale_sym_scale064.nii.gz\n",
            "________________________________________________________________________________\n",
            "[Memory] Calling nilearn.input_data.base_masker.filter_and_extract...\n",
            "filter_and_extract('/root/nilearn_data/cobre/fmri_0040036.nii.gz', <nilearn.input_data.nifti_labels_masker._ExtractionFunctor object at 0x7fdd0f4b68d0>, \n",
            "{ 'background_label': 0,\n",
            "  'detrend': False,\n",
            "  'dtype': None,\n",
            "  'high_pass': None,\n",
            "  'high_variance_confounds': False,\n",
            "  'labels': None,\n",
            "  'labels_img': '/root/nilearn_data/basc_multiscale_2015/template_cambridge_basc_multiscale_nii_sym/template_cambridge_basc_multiscale_sym_scale064.nii.gz',\n",
            "  'low_pass': None,\n",
            "  'mask_img': None,\n",
            "  'reports': True,\n",
            "  'smoothing_fwhm': None,\n",
            "  'standardize': True,\n",
            "  'standardize_confounds': True,\n",
            "  'strategy': 'mean',\n",
            "  't_r': None,\n",
            "  'target_affine': None,\n",
            "  'target_shape': None}, confounds=['/root/nilearn_data/cobre/fmri_0040036.tsv'], sample_mask=None, dtype=None, memory=Memory(location=nilearn_cache/joblib), memory_level=1, verbose=1)\n",
            "[NiftiLabelsMasker.transform_single_imgs] Loading data from /root/nilearn_data/cobre/fmri_0040036.nii.gz\n",
            "[NiftiLabelsMasker.transform_single_imgs] Extracting region signals\n",
            "[NiftiLabelsMasker.transform_single_imgs] Cleaning extracted signals\n",
            "_______________________________________________filter_and_extract - 0.5s, 0.0min\n",
            "[NiftiLabelsMasker.fit_transform] loading data from /root/nilearn_data/basc_multiscale_2015/template_cambridge_basc_multiscale_nii_sym/template_cambridge_basc_multiscale_sym_scale064.nii.gz\n",
            "________________________________________________________________________________\n",
            "[Memory] Calling nilearn.input_data.base_masker.filter_and_extract...\n",
            "filter_and_extract('/root/nilearn_data/cobre/fmri_0040104.nii.gz', <nilearn.input_data.nifti_labels_masker._ExtractionFunctor object at 0x7fdd0f039c10>, \n",
            "{ 'background_label': 0,\n",
            "  'detrend': False,\n",
            "  'dtype': None,\n",
            "  'high_pass': None,\n",
            "  'high_variance_confounds': False,\n",
            "  'labels': None,\n",
            "  'labels_img': '/root/nilearn_data/basc_multiscale_2015/template_cambridge_basc_multiscale_nii_sym/template_cambridge_basc_multiscale_sym_scale064.nii.gz',\n",
            "  'low_pass': None,\n",
            "  'mask_img': None,\n",
            "  'reports': True,\n",
            "  'smoothing_fwhm': None,\n",
            "  'standardize': True,\n",
            "  'standardize_confounds': True,\n",
            "  'strategy': 'mean',\n",
            "  't_r': None,\n",
            "  'target_affine': None,\n",
            "  'target_shape': None}, confounds=['/root/nilearn_data/cobre/fmri_0040104.tsv'], sample_mask=None, dtype=None, memory=Memory(location=nilearn_cache/joblib), memory_level=1, verbose=1)\n",
            "[NiftiLabelsMasker.transform_single_imgs] Loading data from /root/nilearn_data/cobre/fmri_0040104.nii.gz\n",
            "[NiftiLabelsMasker.transform_single_imgs] Extracting region signals\n",
            "[NiftiLabelsMasker.transform_single_imgs] Cleaning extracted signals\n",
            "_______________________________________________filter_and_extract - 0.5s, 0.0min\n",
            "[NiftiLabelsMasker.fit_transform] loading data from /root/nilearn_data/basc_multiscale_2015/template_cambridge_basc_multiscale_nii_sym/template_cambridge_basc_multiscale_sym_scale064.nii.gz\n",
            "________________________________________________________________________________\n",
            "[Memory] Calling nilearn.input_data.base_masker.filter_and_extract...\n",
            "filter_and_extract('/root/nilearn_data/cobre/fmri_0040120.nii.gz', <nilearn.input_data.nifti_labels_masker._ExtractionFunctor object at 0x7fdd0f039c10>, \n",
            "{ 'background_label': 0,\n",
            "  'detrend': False,\n",
            "  'dtype': None,\n",
            "  'high_pass': None,\n",
            "  'high_variance_confounds': False,\n",
            "  'labels': None,\n",
            "  'labels_img': '/root/nilearn_data/basc_multiscale_2015/template_cambridge_basc_multiscale_nii_sym/template_cambridge_basc_multiscale_sym_scale064.nii.gz',\n",
            "  'low_pass': None,\n",
            "  'mask_img': None,\n",
            "  'reports': True,\n",
            "  'smoothing_fwhm': None,\n",
            "  'standardize': True,\n",
            "  'standardize_confounds': True,\n",
            "  'strategy': 'mean',\n",
            "  't_r': None,\n",
            "  'target_affine': None,\n",
            "  'target_shape': None}, confounds=['/root/nilearn_data/cobre/fmri_0040120.tsv'], sample_mask=None, dtype=None, memory=Memory(location=nilearn_cache/joblib), memory_level=1, verbose=1)\n",
            "[NiftiLabelsMasker.transform_single_imgs] Loading data from /root/nilearn_data/cobre/fmri_0040120.nii.gz\n",
            "[NiftiLabelsMasker.transform_single_imgs] Extracting region signals\n",
            "[NiftiLabelsMasker.transform_single_imgs] Cleaning extracted signals\n",
            "_______________________________________________filter_and_extract - 0.5s, 0.0min\n",
            "[NiftiLabelsMasker.fit_transform] loading data from /root/nilearn_data/basc_multiscale_2015/template_cambridge_basc_multiscale_nii_sym/template_cambridge_basc_multiscale_sym_scale064.nii.gz\n",
            "________________________________________________________________________________\n",
            "[Memory] Calling nilearn.input_data.base_masker.filter_and_extract...\n",
            "filter_and_extract('/root/nilearn_data/cobre/fmri_0040127.nii.gz', <nilearn.input_data.nifti_labels_masker._ExtractionFunctor object at 0x7fdcfd4aaf10>, \n",
            "{ 'background_label': 0,\n",
            "  'detrend': False,\n",
            "  'dtype': None,\n",
            "  'high_pass': None,\n",
            "  'high_variance_confounds': False,\n",
            "  'labels': None,\n",
            "  'labels_img': '/root/nilearn_data/basc_multiscale_2015/template_cambridge_basc_multiscale_nii_sym/template_cambridge_basc_multiscale_sym_scale064.nii.gz',\n",
            "  'low_pass': None,\n",
            "  'mask_img': None,\n",
            "  'reports': True,\n",
            "  'smoothing_fwhm': None,\n",
            "  'standardize': True,\n",
            "  'standardize_confounds': True,\n",
            "  'strategy': 'mean',\n",
            "  't_r': None,\n",
            "  'target_affine': None,\n",
            "  'target_shape': None}, confounds=['/root/nilearn_data/cobre/fmri_0040127.tsv'], sample_mask=None, dtype=None, memory=Memory(location=nilearn_cache/joblib), memory_level=1, verbose=1)\n",
            "[NiftiLabelsMasker.transform_single_imgs] Loading data from /root/nilearn_data/cobre/fmri_0040127.nii.gz\n",
            "[NiftiLabelsMasker.transform_single_imgs] Extracting region signals\n",
            "[NiftiLabelsMasker.transform_single_imgs] Cleaning extracted signals\n",
            "_______________________________________________filter_and_extract - 0.5s, 0.0min\n",
            "[NiftiLabelsMasker.fit_transform] loading data from /root/nilearn_data/basc_multiscale_2015/template_cambridge_basc_multiscale_nii_sym/template_cambridge_basc_multiscale_sym_scale064.nii.gz\n",
            "________________________________________________________________________________\n",
            "[Memory] Calling nilearn.input_data.base_masker.filter_and_extract...\n",
            "filter_and_extract('/root/nilearn_data/cobre/fmri_0040056.nii.gz', <nilearn.input_data.nifti_labels_masker._ExtractionFunctor object at 0x7fdd11532d10>, \n",
            "{ 'background_label': 0,\n",
            "  'detrend': False,\n",
            "  'dtype': None,\n",
            "  'high_pass': None,\n",
            "  'high_variance_confounds': False,\n",
            "  'labels': None,\n",
            "  'labels_img': '/root/nilearn_data/basc_multiscale_2015/template_cambridge_basc_multiscale_nii_sym/template_cambridge_basc_multiscale_sym_scale064.nii.gz',\n",
            "  'low_pass': None,\n",
            "  'mask_img': None,\n",
            "  'reports': True,\n",
            "  'smoothing_fwhm': None,\n",
            "  'standardize': True,\n",
            "  'standardize_confounds': True,\n",
            "  'strategy': 'mean',\n",
            "  't_r': None,\n",
            "  'target_affine': None,\n",
            "  'target_shape': None}, confounds=['/root/nilearn_data/cobre/fmri_0040056.tsv'], sample_mask=None, dtype=None, memory=Memory(location=nilearn_cache/joblib), memory_level=1, verbose=1)\n",
            "[NiftiLabelsMasker.transform_single_imgs] Loading data from /root/nilearn_data/cobre/fmri_0040056.nii.gz\n",
            "[NiftiLabelsMasker.transform_single_imgs] Extracting region signals\n",
            "[NiftiLabelsMasker.transform_single_imgs] Cleaning extracted signals\n",
            "_______________________________________________filter_and_extract - 0.5s, 0.0min\n",
            "[NiftiLabelsMasker.fit_transform] loading data from /root/nilearn_data/basc_multiscale_2015/template_cambridge_basc_multiscale_nii_sym/template_cambridge_basc_multiscale_sym_scale064.nii.gz\n",
            "________________________________________________________________________________\n",
            "[Memory] Calling nilearn.input_data.base_masker.filter_and_extract...\n",
            "filter_and_extract('/root/nilearn_data/cobre/fmri_0040058.nii.gz', <nilearn.input_data.nifti_labels_masker._ExtractionFunctor object at 0x7fdd09635b10>, \n",
            "{ 'background_label': 0,\n",
            "  'detrend': False,\n",
            "  'dtype': None,\n",
            "  'high_pass': None,\n",
            "  'high_variance_confounds': False,\n",
            "  'labels': None,\n",
            "  'labels_img': '/root/nilearn_data/basc_multiscale_2015/template_cambridge_basc_multiscale_nii_sym/template_cambridge_basc_multiscale_sym_scale064.nii.gz',\n",
            "  'low_pass': None,\n",
            "  'mask_img': None,\n",
            "  'reports': True,\n",
            "  'smoothing_fwhm': None,\n",
            "  'standardize': True,\n",
            "  'standardize_confounds': True,\n",
            "  'strategy': 'mean',\n",
            "  't_r': None,\n",
            "  'target_affine': None,\n",
            "  'target_shape': None}, confounds=['/root/nilearn_data/cobre/fmri_0040058.tsv'], sample_mask=None, dtype=None, memory=Memory(location=nilearn_cache/joblib), memory_level=1, verbose=1)\n",
            "[NiftiLabelsMasker.transform_single_imgs] Loading data from /root/nilearn_data/cobre/fmri_0040058.nii.gz\n",
            "[NiftiLabelsMasker.transform_single_imgs] Extracting region signals\n",
            "[NiftiLabelsMasker.transform_single_imgs] Cleaning extracted signals\n",
            "_______________________________________________filter_and_extract - 0.5s, 0.0min\n",
            "[NiftiLabelsMasker.fit_transform] loading data from /root/nilearn_data/basc_multiscale_2015/template_cambridge_basc_multiscale_nii_sym/template_cambridge_basc_multiscale_sym_scale064.nii.gz\n",
            "________________________________________________________________________________\n",
            "[Memory] Calling nilearn.input_data.base_masker.filter_and_extract...\n",
            "filter_and_extract('/root/nilearn_data/cobre/fmri_0040087.nii.gz', <nilearn.input_data.nifti_labels_masker._ExtractionFunctor object at 0x7fdd11532d10>, \n",
            "{ 'background_label': 0,\n",
            "  'detrend': False,\n",
            "  'dtype': None,\n",
            "  'high_pass': None,\n",
            "  'high_variance_confounds': False,\n",
            "  'labels': None,\n",
            "  'labels_img': '/root/nilearn_data/basc_multiscale_2015/template_cambridge_basc_multiscale_nii_sym/template_cambridge_basc_multiscale_sym_scale064.nii.gz',\n",
            "  'low_pass': None,\n",
            "  'mask_img': None,\n",
            "  'reports': True,\n",
            "  'smoothing_fwhm': None,\n",
            "  'standardize': True,\n",
            "  'standardize_confounds': True,\n",
            "  'strategy': 'mean',\n",
            "  't_r': None,\n",
            "  'target_affine': None,\n",
            "  'target_shape': None}, confounds=['/root/nilearn_data/cobre/fmri_0040087.tsv'], sample_mask=None, dtype=None, memory=Memory(location=nilearn_cache/joblib), memory_level=1, verbose=1)\n",
            "[NiftiLabelsMasker.transform_single_imgs] Loading data from /root/nilearn_data/cobre/fmri_0040087.nii.gz\n",
            "[NiftiLabelsMasker.transform_single_imgs] Extracting region signals\n",
            "[NiftiLabelsMasker.transform_single_imgs] Cleaning extracted signals\n",
            "_______________________________________________filter_and_extract - 0.5s, 0.0min\n",
            "[NiftiLabelsMasker.fit_transform] loading data from /root/nilearn_data/basc_multiscale_2015/template_cambridge_basc_multiscale_nii_sym/template_cambridge_basc_multiscale_sym_scale064.nii.gz\n",
            "________________________________________________________________________________\n",
            "[Memory] Calling nilearn.input_data.base_masker.filter_and_extract...\n",
            "filter_and_extract('/root/nilearn_data/cobre/fmri_0040115.nii.gz', <nilearn.input_data.nifti_labels_masker._ExtractionFunctor object at 0x7fdcfdae1890>, \n",
            "{ 'background_label': 0,\n",
            "  'detrend': False,\n",
            "  'dtype': None,\n",
            "  'high_pass': None,\n",
            "  'high_variance_confounds': False,\n",
            "  'labels': None,\n",
            "  'labels_img': '/root/nilearn_data/basc_multiscale_2015/template_cambridge_basc_multiscale_nii_sym/template_cambridge_basc_multiscale_sym_scale064.nii.gz',\n",
            "  'low_pass': None,\n",
            "  'mask_img': None,\n",
            "  'reports': True,\n",
            "  'smoothing_fwhm': None,\n",
            "  'standardize': True,\n",
            "  'standardize_confounds': True,\n",
            "  'strategy': 'mean',\n",
            "  't_r': None,\n",
            "  'target_affine': None,\n",
            "  'target_shape': None}, confounds=['/root/nilearn_data/cobre/fmri_0040115.tsv'], sample_mask=None, dtype=None, memory=Memory(location=nilearn_cache/joblib), memory_level=1, verbose=1)\n",
            "[NiftiLabelsMasker.transform_single_imgs] Loading data from /root/nilearn_data/cobre/fmri_0040115.nii.gz\n",
            "[NiftiLabelsMasker.transform_single_imgs] Extracting region signals\n",
            "[NiftiLabelsMasker.transform_single_imgs] Cleaning extracted signals\n",
            "_______________________________________________filter_and_extract - 0.5s, 0.0min\n",
            "[NiftiLabelsMasker.fit_transform] loading data from /root/nilearn_data/basc_multiscale_2015/template_cambridge_basc_multiscale_nii_sym/template_cambridge_basc_multiscale_sym_scale064.nii.gz\n",
            "________________________________________________________________________________\n",
            "[Memory] Calling nilearn.input_data.base_masker.filter_and_extract...\n",
            "filter_and_extract('/root/nilearn_data/cobre/fmri_0040138.nii.gz', <nilearn.input_data.nifti_labels_masker._ExtractionFunctor object at 0x7fdcfdb07890>, \n",
            "{ 'background_label': 0,\n",
            "  'detrend': False,\n",
            "  'dtype': None,\n",
            "  'high_pass': None,\n",
            "  'high_variance_confounds': False,\n",
            "  'labels': None,\n",
            "  'labels_img': '/root/nilearn_data/basc_multiscale_2015/template_cambridge_basc_multiscale_nii_sym/template_cambridge_basc_multiscale_sym_scale064.nii.gz',\n",
            "  'low_pass': None,\n",
            "  'mask_img': None,\n",
            "  'reports': True,\n",
            "  'smoothing_fwhm': None,\n",
            "  'standardize': True,\n",
            "  'standardize_confounds': True,\n",
            "  'strategy': 'mean',\n",
            "  't_r': None,\n",
            "  'target_affine': None,\n",
            "  'target_shape': None}, confounds=['/root/nilearn_data/cobre/fmri_0040138.tsv'], sample_mask=None, dtype=None, memory=Memory(location=nilearn_cache/joblib), memory_level=1, verbose=1)\n",
            "[NiftiLabelsMasker.transform_single_imgs] Loading data from /root/nilearn_data/cobre/fmri_0040138.nii.gz\n",
            "[NiftiLabelsMasker.transform_single_imgs] Extracting region signals\n",
            "[NiftiLabelsMasker.transform_single_imgs] Cleaning extracted signals\n",
            "_______________________________________________filter_and_extract - 0.5s, 0.0min\n",
            "[NiftiLabelsMasker.fit_transform] loading data from /root/nilearn_data/basc_multiscale_2015/template_cambridge_basc_multiscale_nii_sym/template_cambridge_basc_multiscale_sym_scale064.nii.gz\n",
            "________________________________________________________________________________\n",
            "[Memory] Calling nilearn.input_data.base_masker.filter_and_extract...\n",
            "filter_and_extract('/root/nilearn_data/cobre/fmri_0040139.nii.gz', <nilearn.input_data.nifti_labels_masker._ExtractionFunctor object at 0x7fdd0aea0250>, \n",
            "{ 'background_label': 0,\n",
            "  'detrend': False,\n",
            "  'dtype': None,\n",
            "  'high_pass': None,\n",
            "  'high_variance_confounds': False,\n",
            "  'labels': None,\n",
            "  'labels_img': '/root/nilearn_data/basc_multiscale_2015/template_cambridge_basc_multiscale_nii_sym/template_cambridge_basc_multiscale_sym_scale064.nii.gz',\n",
            "  'low_pass': None,\n",
            "  'mask_img': None,\n",
            "  'reports': True,\n",
            "  'smoothing_fwhm': None,\n",
            "  'standardize': True,\n",
            "  'standardize_confounds': True,\n",
            "  'strategy': 'mean',\n",
            "  't_r': None,\n",
            "  'target_affine': None,\n",
            "  'target_shape': None}, confounds=['/root/nilearn_data/cobre/fmri_0040139.tsv'], sample_mask=None, dtype=None, memory=Memory(location=nilearn_cache/joblib), memory_level=1, verbose=1)\n",
            "[NiftiLabelsMasker.transform_single_imgs] Loading data from /root/nilearn_data/cobre/fmri_0040139.nii.gz\n",
            "[NiftiLabelsMasker.transform_single_imgs] Extracting region signals\n",
            "[NiftiLabelsMasker.transform_single_imgs] Cleaning extracted signals\n",
            "_______________________________________________filter_and_extract - 0.5s, 0.0min\n",
            "[NiftiLabelsMasker.fit_transform] loading data from /root/nilearn_data/basc_multiscale_2015/template_cambridge_basc_multiscale_nii_sym/template_cambridge_basc_multiscale_sym_scale064.nii.gz\n",
            "________________________________________________________________________________\n",
            "[Memory] Calling nilearn.input_data.base_masker.filter_and_extract...\n",
            "filter_and_extract('/root/nilearn_data/cobre/fmri_0040017.nii.gz', <nilearn.input_data.nifti_labels_masker._ExtractionFunctor object at 0x7fdd0f70dbd0>, \n",
            "{ 'background_label': 0,\n",
            "  'detrend': False,\n",
            "  'dtype': None,\n",
            "  'high_pass': None,\n",
            "  'high_variance_confounds': False,\n",
            "  'labels': None,\n",
            "  'labels_img': '/root/nilearn_data/basc_multiscale_2015/template_cambridge_basc_multiscale_nii_sym/template_cambridge_basc_multiscale_sym_scale064.nii.gz',\n",
            "  'low_pass': None,\n",
            "  'mask_img': None,\n",
            "  'reports': True,\n",
            "  'smoothing_fwhm': None,\n",
            "  'standardize': True,\n",
            "  'standardize_confounds': True,\n",
            "  'strategy': 'mean',\n",
            "  't_r': None,\n",
            "  'target_affine': None,\n",
            "  'target_shape': None}, confounds=['/root/nilearn_data/cobre/fmri_0040017.tsv'], sample_mask=None, dtype=None, memory=Memory(location=nilearn_cache/joblib), memory_level=1, verbose=1)\n",
            "[NiftiLabelsMasker.transform_single_imgs] Loading data from /root/nilearn_data/cobre/fmri_0040017.nii.gz\n",
            "[NiftiLabelsMasker.transform_single_imgs] Extracting region signals\n",
            "[NiftiLabelsMasker.transform_single_imgs] Cleaning extracted signals\n",
            "_______________________________________________filter_and_extract - 0.5s, 0.0min\n",
            "[NiftiLabelsMasker.fit_transform] loading data from /root/nilearn_data/basc_multiscale_2015/template_cambridge_basc_multiscale_nii_sym/template_cambridge_basc_multiscale_sym_scale064.nii.gz\n",
            "________________________________________________________________________________\n",
            "[Memory] Calling nilearn.input_data.base_masker.filter_and_extract...\n",
            "filter_and_extract('/root/nilearn_data/cobre/fmri_0040035.nii.gz', <nilearn.input_data.nifti_labels_masker._ExtractionFunctor object at 0x7fdd11532d10>, \n",
            "{ 'background_label': 0,\n",
            "  'detrend': False,\n",
            "  'dtype': None,\n",
            "  'high_pass': None,\n",
            "  'high_variance_confounds': False,\n",
            "  'labels': None,\n",
            "  'labels_img': '/root/nilearn_data/basc_multiscale_2015/template_cambridge_basc_multiscale_nii_sym/template_cambridge_basc_multiscale_sym_scale064.nii.gz',\n",
            "  'low_pass': None,\n",
            "  'mask_img': None,\n",
            "  'reports': True,\n",
            "  'smoothing_fwhm': None,\n",
            "  'standardize': True,\n",
            "  'standardize_confounds': True,\n",
            "  'strategy': 'mean',\n",
            "  't_r': None,\n",
            "  'target_affine': None,\n",
            "  'target_shape': None}, confounds=['/root/nilearn_data/cobre/fmri_0040035.tsv'], sample_mask=None, dtype=None, memory=Memory(location=nilearn_cache/joblib), memory_level=1, verbose=1)\n",
            "[NiftiLabelsMasker.transform_single_imgs] Loading data from /root/nilearn_data/cobre/fmri_0040035.nii.gz\n",
            "[NiftiLabelsMasker.transform_single_imgs] Extracting region signals\n",
            "[NiftiLabelsMasker.transform_single_imgs] Cleaning extracted signals\n",
            "_______________________________________________filter_and_extract - 0.5s, 0.0min\n",
            "[NiftiLabelsMasker.fit_transform] loading data from /root/nilearn_data/basc_multiscale_2015/template_cambridge_basc_multiscale_nii_sym/template_cambridge_basc_multiscale_sym_scale064.nii.gz\n",
            "________________________________________________________________________________\n",
            "[Memory] Calling nilearn.input_data.base_masker.filter_and_extract...\n",
            "filter_and_extract('/root/nilearn_data/cobre/fmri_0040045.nii.gz', <nilearn.input_data.nifti_labels_masker._ExtractionFunctor object at 0x7fdd0efb4310>, \n",
            "{ 'background_label': 0,\n",
            "  'detrend': False,\n",
            "  'dtype': None,\n",
            "  'high_pass': None,\n",
            "  'high_variance_confounds': False,\n",
            "  'labels': None,\n",
            "  'labels_img': '/root/nilearn_data/basc_multiscale_2015/template_cambridge_basc_multiscale_nii_sym/template_cambridge_basc_multiscale_sym_scale064.nii.gz',\n",
            "  'low_pass': None,\n",
            "  'mask_img': None,\n",
            "  'reports': True,\n",
            "  'smoothing_fwhm': None,\n",
            "  'standardize': True,\n",
            "  'standardize_confounds': True,\n",
            "  'strategy': 'mean',\n",
            "  't_r': None,\n",
            "  'target_affine': None,\n",
            "  'target_shape': None}, confounds=['/root/nilearn_data/cobre/fmri_0040045.tsv'], sample_mask=None, dtype=None, memory=Memory(location=nilearn_cache/joblib), memory_level=1, verbose=1)\n",
            "[NiftiLabelsMasker.transform_single_imgs] Loading data from /root/nilearn_data/cobre/fmri_0040045.nii.gz\n",
            "[NiftiLabelsMasker.transform_single_imgs] Extracting region signals\n",
            "[NiftiLabelsMasker.transform_single_imgs] Cleaning extracted signals\n",
            "_______________________________________________filter_and_extract - 0.5s, 0.0min\n",
            "[NiftiLabelsMasker.fit_transform] loading data from /root/nilearn_data/basc_multiscale_2015/template_cambridge_basc_multiscale_nii_sym/template_cambridge_basc_multiscale_sym_scale064.nii.gz\n",
            "________________________________________________________________________________\n",
            "[Memory] Calling nilearn.input_data.base_masker.filter_and_extract...\n",
            "filter_and_extract('/root/nilearn_data/cobre/fmri_0040055.nii.gz', <nilearn.input_data.nifti_labels_masker._ExtractionFunctor object at 0x7fdd0aea0150>, \n",
            "{ 'background_label': 0,\n",
            "  'detrend': False,\n",
            "  'dtype': None,\n",
            "  'high_pass': None,\n",
            "  'high_variance_confounds': False,\n",
            "  'labels': None,\n",
            "  'labels_img': '/root/nilearn_data/basc_multiscale_2015/template_cambridge_basc_multiscale_nii_sym/template_cambridge_basc_multiscale_sym_scale064.nii.gz',\n",
            "  'low_pass': None,\n",
            "  'mask_img': None,\n",
            "  'reports': True,\n",
            "  'smoothing_fwhm': None,\n",
            "  'standardize': True,\n",
            "  'standardize_confounds': True,\n",
            "  'strategy': 'mean',\n",
            "  't_r': None,\n",
            "  'target_affine': None,\n",
            "  'target_shape': None}, confounds=['/root/nilearn_data/cobre/fmri_0040055.tsv'], sample_mask=None, dtype=None, memory=Memory(location=nilearn_cache/joblib), memory_level=1, verbose=1)\n",
            "[NiftiLabelsMasker.transform_single_imgs] Loading data from /root/nilearn_data/cobre/fmri_0040055.nii.gz\n",
            "[NiftiLabelsMasker.transform_single_imgs] Extracting region signals\n",
            "[NiftiLabelsMasker.transform_single_imgs] Cleaning extracted signals\n",
            "_______________________________________________filter_and_extract - 0.5s, 0.0min\n",
            "[NiftiLabelsMasker.fit_transform] loading data from /root/nilearn_data/basc_multiscale_2015/template_cambridge_basc_multiscale_nii_sym/template_cambridge_basc_multiscale_sym_scale064.nii.gz\n",
            "________________________________________________________________________________\n",
            "[Memory] Calling nilearn.input_data.base_masker.filter_and_extract...\n",
            "filter_and_extract('/root/nilearn_data/cobre/fmri_0040014.nii.gz', <nilearn.input_data.nifti_labels_masker._ExtractionFunctor object at 0x7fdd0af03690>, \n",
            "{ 'background_label': 0,\n",
            "  'detrend': False,\n",
            "  'dtype': None,\n",
            "  'high_pass': None,\n",
            "  'high_variance_confounds': False,\n",
            "  'labels': None,\n",
            "  'labels_img': '/root/nilearn_data/basc_multiscale_2015/template_cambridge_basc_multiscale_nii_sym/template_cambridge_basc_multiscale_sym_scale064.nii.gz',\n",
            "  'low_pass': None,\n",
            "  'mask_img': None,\n",
            "  'reports': True,\n",
            "  'smoothing_fwhm': None,\n",
            "  'standardize': True,\n",
            "  'standardize_confounds': True,\n",
            "  'strategy': 'mean',\n",
            "  't_r': None,\n",
            "  'target_affine': None,\n",
            "  'target_shape': None}, confounds=['/root/nilearn_data/cobre/fmri_0040014.tsv'], sample_mask=None, dtype=None, memory=Memory(location=nilearn_cache/joblib), memory_level=1, verbose=1)\n",
            "[NiftiLabelsMasker.transform_single_imgs] Loading data from /root/nilearn_data/cobre/fmri_0040014.nii.gz\n",
            "[NiftiLabelsMasker.transform_single_imgs] Extracting region signals\n",
            "[NiftiLabelsMasker.transform_single_imgs] Cleaning extracted signals\n",
            "_______________________________________________filter_and_extract - 0.5s, 0.0min\n",
            "[NiftiLabelsMasker.fit_transform] loading data from /root/nilearn_data/basc_multiscale_2015/template_cambridge_basc_multiscale_nii_sym/template_cambridge_basc_multiscale_sym_scale064.nii.gz\n",
            "________________________________________________________________________________\n",
            "[Memory] Calling nilearn.input_data.base_masker.filter_and_extract...\n",
            "filter_and_extract('/root/nilearn_data/cobre/fmri_0040033.nii.gz', <nilearn.input_data.nifti_labels_masker._ExtractionFunctor object at 0x7fdcfd43f050>, \n",
            "{ 'background_label': 0,\n",
            "  'detrend': False,\n",
            "  'dtype': None,\n",
            "  'high_pass': None,\n",
            "  'high_variance_confounds': False,\n",
            "  'labels': None,\n",
            "  'labels_img': '/root/nilearn_data/basc_multiscale_2015/template_cambridge_basc_multiscale_nii_sym/template_cambridge_basc_multiscale_sym_scale064.nii.gz',\n",
            "  'low_pass': None,\n",
            "  'mask_img': None,\n",
            "  'reports': True,\n",
            "  'smoothing_fwhm': None,\n",
            "  'standardize': True,\n",
            "  'standardize_confounds': True,\n",
            "  'strategy': 'mean',\n",
            "  't_r': None,\n",
            "  'target_affine': None,\n",
            "  'target_shape': None}, confounds=['/root/nilearn_data/cobre/fmri_0040033.tsv'], sample_mask=None, dtype=None, memory=Memory(location=nilearn_cache/joblib), memory_level=1, verbose=1)\n",
            "[NiftiLabelsMasker.transform_single_imgs] Loading data from /root/nilearn_data/cobre/fmri_0040033.nii.gz\n",
            "[NiftiLabelsMasker.transform_single_imgs] Extracting region signals\n",
            "[NiftiLabelsMasker.transform_single_imgs] Cleaning extracted signals\n",
            "_______________________________________________filter_and_extract - 0.5s, 0.0min\n",
            "[NiftiLabelsMasker.fit_transform] loading data from /root/nilearn_data/basc_multiscale_2015/template_cambridge_basc_multiscale_nii_sym/template_cambridge_basc_multiscale_sym_scale064.nii.gz\n",
            "________________________________________________________________________________\n",
            "[Memory] Calling nilearn.input_data.base_masker.filter_and_extract...\n",
            "filter_and_extract('/root/nilearn_data/cobre/fmri_0040048.nii.gz', <nilearn.input_data.nifti_labels_masker._ExtractionFunctor object at 0x7fdcfdaafc50>, \n",
            "{ 'background_label': 0,\n",
            "  'detrend': False,\n",
            "  'dtype': None,\n",
            "  'high_pass': None,\n",
            "  'high_variance_confounds': False,\n",
            "  'labels': None,\n",
            "  'labels_img': '/root/nilearn_data/basc_multiscale_2015/template_cambridge_basc_multiscale_nii_sym/template_cambridge_basc_multiscale_sym_scale064.nii.gz',\n",
            "  'low_pass': None,\n",
            "  'mask_img': None,\n",
            "  'reports': True,\n",
            "  'smoothing_fwhm': None,\n",
            "  'standardize': True,\n",
            "  'standardize_confounds': True,\n",
            "  'strategy': 'mean',\n",
            "  't_r': None,\n",
            "  'target_affine': None,\n",
            "  'target_shape': None}, confounds=['/root/nilearn_data/cobre/fmri_0040048.tsv'], sample_mask=None, dtype=None, memory=Memory(location=nilearn_cache/joblib), memory_level=1, verbose=1)\n",
            "[NiftiLabelsMasker.transform_single_imgs] Loading data from /root/nilearn_data/cobre/fmri_0040048.nii.gz\n",
            "[NiftiLabelsMasker.transform_single_imgs] Extracting region signals\n",
            "[NiftiLabelsMasker.transform_single_imgs] Cleaning extracted signals\n",
            "_______________________________________________filter_and_extract - 0.5s, 0.0min\n",
            "[NiftiLabelsMasker.fit_transform] loading data from /root/nilearn_data/basc_multiscale_2015/template_cambridge_basc_multiscale_nii_sym/template_cambridge_basc_multiscale_sym_scale064.nii.gz\n",
            "________________________________________________________________________________\n",
            "[Memory] Calling nilearn.input_data.base_masker.filter_and_extract...\n",
            "filter_and_extract('/root/nilearn_data/cobre/fmri_0040067.nii.gz', <nilearn.input_data.nifti_labels_masker._ExtractionFunctor object at 0x7fdd0837e350>, \n",
            "{ 'background_label': 0,\n",
            "  'detrend': False,\n",
            "  'dtype': None,\n",
            "  'high_pass': None,\n",
            "  'high_variance_confounds': False,\n",
            "  'labels': None,\n",
            "  'labels_img': '/root/nilearn_data/basc_multiscale_2015/template_cambridge_basc_multiscale_nii_sym/template_cambridge_basc_multiscale_sym_scale064.nii.gz',\n",
            "  'low_pass': None,\n",
            "  'mask_img': None,\n",
            "  'reports': True,\n",
            "  'smoothing_fwhm': None,\n",
            "  'standardize': True,\n",
            "  'standardize_confounds': True,\n",
            "  'strategy': 'mean',\n",
            "  't_r': None,\n",
            "  'target_affine': None,\n",
            "  'target_shape': None}, confounds=['/root/nilearn_data/cobre/fmri_0040067.tsv'], sample_mask=None, dtype=None, memory=Memory(location=nilearn_cache/joblib), memory_level=1, verbose=1)\n",
            "[NiftiLabelsMasker.transform_single_imgs] Loading data from /root/nilearn_data/cobre/fmri_0040067.nii.gz\n",
            "[NiftiLabelsMasker.transform_single_imgs] Extracting region signals\n",
            "[NiftiLabelsMasker.transform_single_imgs] Cleaning extracted signals\n",
            "_______________________________________________filter_and_extract - 0.5s, 0.0min\n",
            "[NiftiLabelsMasker.fit_transform] loading data from /root/nilearn_data/basc_multiscale_2015/template_cambridge_basc_multiscale_nii_sym/template_cambridge_basc_multiscale_sym_scale064.nii.gz\n",
            "________________________________________________________________________________\n",
            "[Memory] Calling nilearn.input_data.base_masker.filter_and_extract...\n",
            "filter_and_extract('/root/nilearn_data/cobre/fmri_0040107.nii.gz', <nilearn.input_data.nifti_labels_masker._ExtractionFunctor object at 0x7fdd0833bf50>, \n",
            "{ 'background_label': 0,\n",
            "  'detrend': False,\n",
            "  'dtype': None,\n",
            "  'high_pass': None,\n",
            "  'high_variance_confounds': False,\n",
            "  'labels': None,\n",
            "  'labels_img': '/root/nilearn_data/basc_multiscale_2015/template_cambridge_basc_multiscale_nii_sym/template_cambridge_basc_multiscale_sym_scale064.nii.gz',\n",
            "  'low_pass': None,\n",
            "  'mask_img': None,\n",
            "  'reports': True,\n",
            "  'smoothing_fwhm': None,\n",
            "  'standardize': True,\n",
            "  'standardize_confounds': True,\n",
            "  'strategy': 'mean',\n",
            "  't_r': None,\n",
            "  'target_affine': None,\n",
            "  'target_shape': None}, confounds=['/root/nilearn_data/cobre/fmri_0040107.tsv'], sample_mask=None, dtype=None, memory=Memory(location=nilearn_cache/joblib), memory_level=1, verbose=1)\n",
            "[NiftiLabelsMasker.transform_single_imgs] Loading data from /root/nilearn_data/cobre/fmri_0040107.nii.gz\n",
            "[NiftiLabelsMasker.transform_single_imgs] Extracting region signals\n",
            "[NiftiLabelsMasker.transform_single_imgs] Cleaning extracted signals\n",
            "_______________________________________________filter_and_extract - 0.5s, 0.0min\n",
            "[NiftiLabelsMasker.fit_transform] loading data from /root/nilearn_data/basc_multiscale_2015/template_cambridge_basc_multiscale_nii_sym/template_cambridge_basc_multiscale_sym_scale064.nii.gz\n",
            "________________________________________________________________________________\n",
            "[Memory] Calling nilearn.input_data.base_masker.filter_and_extract...\n",
            "filter_and_extract('/root/nilearn_data/cobre/fmri_0040013.nii.gz', <nilearn.input_data.nifti_labels_masker._ExtractionFunctor object at 0x7fdd0f039610>, \n",
            "{ 'background_label': 0,\n",
            "  'detrend': False,\n",
            "  'dtype': None,\n",
            "  'high_pass': None,\n",
            "  'high_variance_confounds': False,\n",
            "  'labels': None,\n",
            "  'labels_img': '/root/nilearn_data/basc_multiscale_2015/template_cambridge_basc_multiscale_nii_sym/template_cambridge_basc_multiscale_sym_scale064.nii.gz',\n",
            "  'low_pass': None,\n",
            "  'mask_img': None,\n",
            "  'reports': True,\n",
            "  'smoothing_fwhm': None,\n",
            "  'standardize': True,\n",
            "  'standardize_confounds': True,\n",
            "  'strategy': 'mean',\n",
            "  't_r': None,\n",
            "  'target_affine': None,\n",
            "  'target_shape': None}, confounds=['/root/nilearn_data/cobre/fmri_0040013.tsv'], sample_mask=None, dtype=None, memory=Memory(location=nilearn_cache/joblib), memory_level=1, verbose=1)\n",
            "[NiftiLabelsMasker.transform_single_imgs] Loading data from /root/nilearn_data/cobre/fmri_0040013.nii.gz\n",
            "[NiftiLabelsMasker.transform_single_imgs] Extracting region signals\n",
            "[NiftiLabelsMasker.transform_single_imgs] Cleaning extracted signals\n",
            "_______________________________________________filter_and_extract - 0.5s, 0.0min\n",
            "[NiftiLabelsMasker.fit_transform] loading data from /root/nilearn_data/basc_multiscale_2015/template_cambridge_basc_multiscale_nii_sym/template_cambridge_basc_multiscale_sym_scale064.nii.gz\n",
            "________________________________________________________________________________\n",
            "[Memory] Calling nilearn.input_data.base_masker.filter_and_extract...\n",
            "filter_and_extract('/root/nilearn_data/cobre/fmri_0040074.nii.gz', <nilearn.input_data.nifti_labels_masker._ExtractionFunctor object at 0x7fdcfdb07c90>, \n",
            "{ 'background_label': 0,\n",
            "  'detrend': False,\n",
            "  'dtype': None,\n",
            "  'high_pass': None,\n",
            "  'high_variance_confounds': False,\n",
            "  'labels': None,\n",
            "  'labels_img': '/root/nilearn_data/basc_multiscale_2015/template_cambridge_basc_multiscale_nii_sym/template_cambridge_basc_multiscale_sym_scale064.nii.gz',\n",
            "  'low_pass': None,\n",
            "  'mask_img': None,\n",
            "  'reports': True,\n",
            "  'smoothing_fwhm': None,\n",
            "  'standardize': True,\n",
            "  'standardize_confounds': True,\n",
            "  'strategy': 'mean',\n",
            "  't_r': None,\n",
            "  'target_affine': None,\n",
            "  'target_shape': None}, confounds=['/root/nilearn_data/cobre/fmri_0040074.tsv'], sample_mask=None, dtype=None, memory=Memory(location=nilearn_cache/joblib), memory_level=1, verbose=1)\n",
            "[NiftiLabelsMasker.transform_single_imgs] Loading data from /root/nilearn_data/cobre/fmri_0040074.nii.gz\n",
            "[NiftiLabelsMasker.transform_single_imgs] Extracting region signals\n",
            "[NiftiLabelsMasker.transform_single_imgs] Cleaning extracted signals\n",
            "_______________________________________________filter_and_extract - 0.5s, 0.0min\n",
            "[NiftiLabelsMasker.fit_transform] loading data from /root/nilearn_data/basc_multiscale_2015/template_cambridge_basc_multiscale_nii_sym/template_cambridge_basc_multiscale_sym_scale064.nii.gz\n",
            "________________________________________________________________________________\n",
            "[Memory] Calling nilearn.input_data.base_masker.filter_and_extract...\n",
            "filter_and_extract('/root/nilearn_data/cobre/fmri_0040118.nii.gz', <nilearn.input_data.nifti_labels_masker._ExtractionFunctor object at 0x7fdd0af03690>, \n",
            "{ 'background_label': 0,\n",
            "  'detrend': False,\n",
            "  'dtype': None,\n",
            "  'high_pass': None,\n",
            "  'high_variance_confounds': False,\n",
            "  'labels': None,\n",
            "  'labels_img': '/root/nilearn_data/basc_multiscale_2015/template_cambridge_basc_multiscale_nii_sym/template_cambridge_basc_multiscale_sym_scale064.nii.gz',\n",
            "  'low_pass': None,\n",
            "  'mask_img': None,\n",
            "  'reports': True,\n",
            "  'smoothing_fwhm': None,\n",
            "  'standardize': True,\n",
            "  'standardize_confounds': True,\n",
            "  'strategy': 'mean',\n",
            "  't_r': None,\n",
            "  'target_affine': None,\n",
            "  'target_shape': None}, confounds=['/root/nilearn_data/cobre/fmri_0040118.tsv'], sample_mask=None, dtype=None, memory=Memory(location=nilearn_cache/joblib), memory_level=1, verbose=1)\n",
            "[NiftiLabelsMasker.transform_single_imgs] Loading data from /root/nilearn_data/cobre/fmri_0040118.nii.gz\n",
            "[NiftiLabelsMasker.transform_single_imgs] Extracting region signals\n",
            "[NiftiLabelsMasker.transform_single_imgs] Cleaning extracted signals\n",
            "_______________________________________________filter_and_extract - 0.5s, 0.0min\n",
            "[NiftiLabelsMasker.fit_transform] loading data from /root/nilearn_data/basc_multiscale_2015/template_cambridge_basc_multiscale_nii_sym/template_cambridge_basc_multiscale_sym_scale064.nii.gz\n",
            "________________________________________________________________________________\n",
            "[Memory] Calling nilearn.input_data.base_masker.filter_and_extract...\n",
            "filter_and_extract('/root/nilearn_data/cobre/fmri_0040147.nii.gz', <nilearn.input_data.nifti_labels_masker._ExtractionFunctor object at 0x7fdd0af03690>, \n",
            "{ 'background_label': 0,\n",
            "  'detrend': False,\n",
            "  'dtype': None,\n",
            "  'high_pass': None,\n",
            "  'high_variance_confounds': False,\n",
            "  'labels': None,\n",
            "  'labels_img': '/root/nilearn_data/basc_multiscale_2015/template_cambridge_basc_multiscale_nii_sym/template_cambridge_basc_multiscale_sym_scale064.nii.gz',\n",
            "  'low_pass': None,\n",
            "  'mask_img': None,\n",
            "  'reports': True,\n",
            "  'smoothing_fwhm': None,\n",
            "  'standardize': True,\n",
            "  'standardize_confounds': True,\n",
            "  'strategy': 'mean',\n",
            "  't_r': None,\n",
            "  'target_affine': None,\n",
            "  'target_shape': None}, confounds=['/root/nilearn_data/cobre/fmri_0040147.tsv'], sample_mask=None, dtype=None, memory=Memory(location=nilearn_cache/joblib), memory_level=1, verbose=1)\n",
            "[NiftiLabelsMasker.transform_single_imgs] Loading data from /root/nilearn_data/cobre/fmri_0040147.nii.gz\n",
            "[NiftiLabelsMasker.transform_single_imgs] Extracting region signals\n",
            "[NiftiLabelsMasker.transform_single_imgs] Cleaning extracted signals\n",
            "_______________________________________________filter_and_extract - 0.5s, 0.0min\n",
            "[NiftiLabelsMasker.fit_transform] loading data from /root/nilearn_data/basc_multiscale_2015/template_cambridge_basc_multiscale_nii_sym/template_cambridge_basc_multiscale_sym_scale064.nii.gz\n",
            "________________________________________________________________________________\n",
            "[Memory] Calling nilearn.input_data.base_masker.filter_and_extract...\n",
            "filter_and_extract('/root/nilearn_data/cobre/fmri_0040124.nii.gz', <nilearn.input_data.nifti_labels_masker._ExtractionFunctor object at 0x7fdd0af03690>, \n",
            "{ 'background_label': 0,\n",
            "  'detrend': False,\n",
            "  'dtype': None,\n",
            "  'high_pass': None,\n",
            "  'high_variance_confounds': False,\n",
            "  'labels': None,\n",
            "  'labels_img': '/root/nilearn_data/basc_multiscale_2015/template_cambridge_basc_multiscale_nii_sym/template_cambridge_basc_multiscale_sym_scale064.nii.gz',\n",
            "  'low_pass': None,\n",
            "  'mask_img': None,\n",
            "  'reports': True,\n",
            "  'smoothing_fwhm': None,\n",
            "  'standardize': True,\n",
            "  'standardize_confounds': True,\n",
            "  'strategy': 'mean',\n",
            "  't_r': None,\n",
            "  'target_affine': None,\n",
            "  'target_shape': None}, confounds=['/root/nilearn_data/cobre/fmri_0040124.tsv'], sample_mask=None, dtype=None, memory=Memory(location=nilearn_cache/joblib), memory_level=1, verbose=1)\n",
            "[NiftiLabelsMasker.transform_single_imgs] Loading data from /root/nilearn_data/cobre/fmri_0040124.nii.gz\n",
            "[NiftiLabelsMasker.transform_single_imgs] Extracting region signals\n",
            "[NiftiLabelsMasker.transform_single_imgs] Cleaning extracted signals\n",
            "_______________________________________________filter_and_extract - 0.5s, 0.0min\n",
            "[NiftiLabelsMasker.fit_transform] loading data from /root/nilearn_data/basc_multiscale_2015/template_cambridge_basc_multiscale_nii_sym/template_cambridge_basc_multiscale_sym_scale064.nii.gz\n",
            "________________________________________________________________________________\n",
            "[Memory] Calling nilearn.input_data.base_masker.filter_and_extract...\n",
            "filter_and_extract('/root/nilearn_data/cobre/fmri_0040141.nii.gz', <nilearn.input_data.nifti_labels_masker._ExtractionFunctor object at 0x7fdd0b49df10>, \n",
            "{ 'background_label': 0,\n",
            "  'detrend': False,\n",
            "  'dtype': None,\n",
            "  'high_pass': None,\n",
            "  'high_variance_confounds': False,\n",
            "  'labels': None,\n",
            "  'labels_img': '/root/nilearn_data/basc_multiscale_2015/template_cambridge_basc_multiscale_nii_sym/template_cambridge_basc_multiscale_sym_scale064.nii.gz',\n",
            "  'low_pass': None,\n",
            "  'mask_img': None,\n",
            "  'reports': True,\n",
            "  'smoothing_fwhm': None,\n",
            "  'standardize': True,\n",
            "  'standardize_confounds': True,\n",
            "  'strategy': 'mean',\n",
            "  't_r': None,\n",
            "  'target_affine': None,\n",
            "  'target_shape': None}, confounds=['/root/nilearn_data/cobre/fmri_0040141.tsv'], sample_mask=None, dtype=None, memory=Memory(location=nilearn_cache/joblib), memory_level=1, verbose=1)\n",
            "[NiftiLabelsMasker.transform_single_imgs] Loading data from /root/nilearn_data/cobre/fmri_0040141.nii.gz\n",
            "[NiftiLabelsMasker.transform_single_imgs] Extracting region signals\n",
            "[NiftiLabelsMasker.transform_single_imgs] Cleaning extracted signals\n",
            "_______________________________________________filter_and_extract - 0.5s, 0.0min\n",
            "[NiftiLabelsMasker.fit_transform] loading data from /root/nilearn_data/basc_multiscale_2015/template_cambridge_basc_multiscale_nii_sym/template_cambridge_basc_multiscale_sym_scale064.nii.gz\n",
            "________________________________________________________________________________\n",
            "[Memory] Calling nilearn.input_data.base_masker.filter_and_extract...\n",
            "filter_and_extract('/root/nilearn_data/cobre/fmri_0040050.nii.gz', <nilearn.input_data.nifti_labels_masker._ExtractionFunctor object at 0x7fdcfd9a9850>, \n",
            "{ 'background_label': 0,\n",
            "  'detrend': False,\n",
            "  'dtype': None,\n",
            "  'high_pass': None,\n",
            "  'high_variance_confounds': False,\n",
            "  'labels': None,\n",
            "  'labels_img': '/root/nilearn_data/basc_multiscale_2015/template_cambridge_basc_multiscale_nii_sym/template_cambridge_basc_multiscale_sym_scale064.nii.gz',\n",
            "  'low_pass': None,\n",
            "  'mask_img': None,\n",
            "  'reports': True,\n",
            "  'smoothing_fwhm': None,\n",
            "  'standardize': True,\n",
            "  'standardize_confounds': True,\n",
            "  'strategy': 'mean',\n",
            "  't_r': None,\n",
            "  'target_affine': None,\n",
            "  'target_shape': None}, confounds=['/root/nilearn_data/cobre/fmri_0040050.tsv'], sample_mask=None, dtype=None, memory=Memory(location=nilearn_cache/joblib), memory_level=1, verbose=1)\n",
            "[NiftiLabelsMasker.transform_single_imgs] Loading data from /root/nilearn_data/cobre/fmri_0040050.nii.gz\n",
            "[NiftiLabelsMasker.transform_single_imgs] Extracting region signals\n",
            "[NiftiLabelsMasker.transform_single_imgs] Cleaning extracted signals\n",
            "_______________________________________________filter_and_extract - 0.5s, 0.0min\n",
            "[NiftiLabelsMasker.fit_transform] loading data from /root/nilearn_data/basc_multiscale_2015/template_cambridge_basc_multiscale_nii_sym/template_cambridge_basc_multiscale_sym_scale064.nii.gz\n",
            "________________________________________________________________________________\n",
            "[Memory] Calling nilearn.input_data.base_masker.filter_and_extract...\n",
            "filter_and_extract('/root/nilearn_data/cobre/fmri_0040057.nii.gz', <nilearn.input_data.nifti_labels_masker._ExtractionFunctor object at 0x7fdcfd4aae90>, \n",
            "{ 'background_label': 0,\n",
            "  'detrend': False,\n",
            "  'dtype': None,\n",
            "  'high_pass': None,\n",
            "  'high_variance_confounds': False,\n",
            "  'labels': None,\n",
            "  'labels_img': '/root/nilearn_data/basc_multiscale_2015/template_cambridge_basc_multiscale_nii_sym/template_cambridge_basc_multiscale_sym_scale064.nii.gz',\n",
            "  'low_pass': None,\n",
            "  'mask_img': None,\n",
            "  'reports': True,\n",
            "  'smoothing_fwhm': None,\n",
            "  'standardize': True,\n",
            "  'standardize_confounds': True,\n",
            "  'strategy': 'mean',\n",
            "  't_r': None,\n",
            "  'target_affine': None,\n",
            "  'target_shape': None}, confounds=['/root/nilearn_data/cobre/fmri_0040057.tsv'], sample_mask=None, dtype=None, memory=Memory(location=nilearn_cache/joblib), memory_level=1, verbose=1)\n",
            "[NiftiLabelsMasker.transform_single_imgs] Loading data from /root/nilearn_data/cobre/fmri_0040057.nii.gz\n",
            "[NiftiLabelsMasker.transform_single_imgs] Extracting region signals\n",
            "[NiftiLabelsMasker.transform_single_imgs] Cleaning extracted signals\n",
            "_______________________________________________filter_and_extract - 0.5s, 0.0min\n",
            "[NiftiLabelsMasker.fit_transform] loading data from /root/nilearn_data/basc_multiscale_2015/template_cambridge_basc_multiscale_nii_sym/template_cambridge_basc_multiscale_sym_scale064.nii.gz\n",
            "________________________________________________________________________________\n",
            "[Memory] Calling nilearn.input_data.base_masker.filter_and_extract...\n",
            "filter_and_extract('/root/nilearn_data/cobre/fmri_0040063.nii.gz', <nilearn.input_data.nifti_labels_masker._ExtractionFunctor object at 0x7fdd0af24150>, \n",
            "{ 'background_label': 0,\n",
            "  'detrend': False,\n",
            "  'dtype': None,\n",
            "  'high_pass': None,\n",
            "  'high_variance_confounds': False,\n",
            "  'labels': None,\n",
            "  'labels_img': '/root/nilearn_data/basc_multiscale_2015/template_cambridge_basc_multiscale_nii_sym/template_cambridge_basc_multiscale_sym_scale064.nii.gz',\n",
            "  'low_pass': None,\n",
            "  'mask_img': None,\n",
            "  'reports': True,\n",
            "  'smoothing_fwhm': None,\n",
            "  'standardize': True,\n",
            "  'standardize_confounds': True,\n",
            "  'strategy': 'mean',\n",
            "  't_r': None,\n",
            "  'target_affine': None,\n",
            "  'target_shape': None}, confounds=['/root/nilearn_data/cobre/fmri_0040063.tsv'], sample_mask=None, dtype=None, memory=Memory(location=nilearn_cache/joblib), memory_level=1, verbose=1)\n",
            "[NiftiLabelsMasker.transform_single_imgs] Loading data from /root/nilearn_data/cobre/fmri_0040063.nii.gz\n",
            "[NiftiLabelsMasker.transform_single_imgs] Extracting region signals\n",
            "[NiftiLabelsMasker.transform_single_imgs] Cleaning extracted signals\n",
            "_______________________________________________filter_and_extract - 0.5s, 0.0min\n",
            "[NiftiLabelsMasker.fit_transform] loading data from /root/nilearn_data/basc_multiscale_2015/template_cambridge_basc_multiscale_nii_sym/template_cambridge_basc_multiscale_sym_scale064.nii.gz\n",
            "________________________________________________________________________________\n",
            "[Memory] Calling nilearn.input_data.base_masker.filter_and_extract...\n",
            "filter_and_extract('/root/nilearn_data/cobre/fmri_0040043.nii.gz', <nilearn.input_data.nifti_labels_masker._ExtractionFunctor object at 0x7fdd0837e350>, \n",
            "{ 'background_label': 0,\n",
            "  'detrend': False,\n",
            "  'dtype': None,\n",
            "  'high_pass': None,\n",
            "  'high_variance_confounds': False,\n",
            "  'labels': None,\n",
            "  'labels_img': '/root/nilearn_data/basc_multiscale_2015/template_cambridge_basc_multiscale_nii_sym/template_cambridge_basc_multiscale_sym_scale064.nii.gz',\n",
            "  'low_pass': None,\n",
            "  'mask_img': None,\n",
            "  'reports': True,\n",
            "  'smoothing_fwhm': None,\n",
            "  'standardize': True,\n",
            "  'standardize_confounds': True,\n",
            "  'strategy': 'mean',\n",
            "  't_r': None,\n",
            "  'target_affine': None,\n",
            "  'target_shape': None}, confounds=['/root/nilearn_data/cobre/fmri_0040043.tsv'], sample_mask=None, dtype=None, memory=Memory(location=nilearn_cache/joblib), memory_level=1, verbose=1)\n",
            "[NiftiLabelsMasker.transform_single_imgs] Loading data from /root/nilearn_data/cobre/fmri_0040043.nii.gz\n",
            "[NiftiLabelsMasker.transform_single_imgs] Extracting region signals\n",
            "[NiftiLabelsMasker.transform_single_imgs] Cleaning extracted signals\n",
            "_______________________________________________filter_and_extract - 0.5s, 0.0min\n",
            "[NiftiLabelsMasker.fit_transform] loading data from /root/nilearn_data/basc_multiscale_2015/template_cambridge_basc_multiscale_nii_sym/template_cambridge_basc_multiscale_sym_scale064.nii.gz\n",
            "________________________________________________________________________________\n",
            "[Memory] Calling nilearn.input_data.base_masker.filter_and_extract...\n",
            "filter_and_extract('/root/nilearn_data/cobre/fmri_0040136.nii.gz', <nilearn.input_data.nifti_labels_masker._ExtractionFunctor object at 0x7fdcfd9b0090>, \n",
            "{ 'background_label': 0,\n",
            "  'detrend': False,\n",
            "  'dtype': None,\n",
            "  'high_pass': None,\n",
            "  'high_variance_confounds': False,\n",
            "  'labels': None,\n",
            "  'labels_img': '/root/nilearn_data/basc_multiscale_2015/template_cambridge_basc_multiscale_nii_sym/template_cambridge_basc_multiscale_sym_scale064.nii.gz',\n",
            "  'low_pass': None,\n",
            "  'mask_img': None,\n",
            "  'reports': True,\n",
            "  'smoothing_fwhm': None,\n",
            "  'standardize': True,\n",
            "  'standardize_confounds': True,\n",
            "  'strategy': 'mean',\n",
            "  't_r': None,\n",
            "  'target_affine': None,\n",
            "  'target_shape': None}, confounds=['/root/nilearn_data/cobre/fmri_0040136.tsv'], sample_mask=None, dtype=None, memory=Memory(location=nilearn_cache/joblib), memory_level=1, verbose=1)\n",
            "[NiftiLabelsMasker.transform_single_imgs] Loading data from /root/nilearn_data/cobre/fmri_0040136.nii.gz\n",
            "[NiftiLabelsMasker.transform_single_imgs] Extracting region signals\n",
            "[NiftiLabelsMasker.transform_single_imgs] Cleaning extracted signals\n",
            "_______________________________________________filter_and_extract - 0.4s, 0.0min\n",
            "[NiftiLabelsMasker.fit_transform] loading data from /root/nilearn_data/basc_multiscale_2015/template_cambridge_basc_multiscale_nii_sym/template_cambridge_basc_multiscale_sym_scale064.nii.gz\n",
            "________________________________________________________________________________\n",
            "[Memory] Calling nilearn.input_data.base_masker.filter_and_extract...\n",
            "filter_and_extract('/root/nilearn_data/cobre/fmri_0040146.nii.gz', <nilearn.input_data.nifti_labels_masker._ExtractionFunctor object at 0x7fdcfda6a8d0>, \n",
            "{ 'background_label': 0,\n",
            "  'detrend': False,\n",
            "  'dtype': None,\n",
            "  'high_pass': None,\n",
            "  'high_variance_confounds': False,\n",
            "  'labels': None,\n",
            "  'labels_img': '/root/nilearn_data/basc_multiscale_2015/template_cambridge_basc_multiscale_nii_sym/template_cambridge_basc_multiscale_sym_scale064.nii.gz',\n",
            "  'low_pass': None,\n",
            "  'mask_img': None,\n",
            "  'reports': True,\n",
            "  'smoothing_fwhm': None,\n",
            "  'standardize': True,\n",
            "  'standardize_confounds': True,\n",
            "  'strategy': 'mean',\n",
            "  't_r': None,\n",
            "  'target_affine': None,\n",
            "  'target_shape': None}, confounds=['/root/nilearn_data/cobre/fmri_0040146.tsv'], sample_mask=None, dtype=None, memory=Memory(location=nilearn_cache/joblib), memory_level=1, verbose=1)\n",
            "[NiftiLabelsMasker.transform_single_imgs] Loading data from /root/nilearn_data/cobre/fmri_0040146.nii.gz\n",
            "[NiftiLabelsMasker.transform_single_imgs] Extracting region signals\n",
            "[NiftiLabelsMasker.transform_single_imgs] Cleaning extracted signals\n",
            "_______________________________________________filter_and_extract - 0.5s, 0.0min\n",
            "[NiftiLabelsMasker.fit_transform] loading data from /root/nilearn_data/basc_multiscale_2015/template_cambridge_basc_multiscale_nii_sym/template_cambridge_basc_multiscale_sym_scale064.nii.gz\n",
            "________________________________________________________________________________\n",
            "[Memory] Calling nilearn.input_data.base_masker.filter_and_extract...\n",
            "filter_and_extract('/root/nilearn_data/cobre/fmri_0040095.nii.gz', <nilearn.input_data.nifti_labels_masker._ExtractionFunctor object at 0x7fdd0ae9db90>, \n",
            "{ 'background_label': 0,\n",
            "  'detrend': False,\n",
            "  'dtype': None,\n",
            "  'high_pass': None,\n",
            "  'high_variance_confounds': False,\n",
            "  'labels': None,\n",
            "  'labels_img': '/root/nilearn_data/basc_multiscale_2015/template_cambridge_basc_multiscale_nii_sym/template_cambridge_basc_multiscale_sym_scale064.nii.gz',\n",
            "  'low_pass': None,\n",
            "  'mask_img': None,\n",
            "  'reports': True,\n",
            "  'smoothing_fwhm': None,\n",
            "  'standardize': True,\n",
            "  'standardize_confounds': True,\n",
            "  'strategy': 'mean',\n",
            "  't_r': None,\n",
            "  'target_affine': None,\n",
            "  'target_shape': None}, confounds=['/root/nilearn_data/cobre/fmri_0040095.tsv'], sample_mask=None, dtype=None, memory=Memory(location=nilearn_cache/joblib), memory_level=1, verbose=1)\n",
            "[NiftiLabelsMasker.transform_single_imgs] Loading data from /root/nilearn_data/cobre/fmri_0040095.nii.gz\n",
            "[NiftiLabelsMasker.transform_single_imgs] Extracting region signals\n",
            "[NiftiLabelsMasker.transform_single_imgs] Cleaning extracted signals\n",
            "_______________________________________________filter_and_extract - 0.5s, 0.0min\n",
            "[NiftiLabelsMasker.fit_transform] loading data from /root/nilearn_data/basc_multiscale_2015/template_cambridge_basc_multiscale_nii_sym/template_cambridge_basc_multiscale_sym_scale064.nii.gz\n",
            "________________________________________________________________________________\n",
            "[Memory] Calling nilearn.input_data.base_masker.filter_and_extract...\n",
            "filter_and_extract('/root/nilearn_data/cobre/fmri_0040102.nii.gz', <nilearn.input_data.nifti_labels_masker._ExtractionFunctor object at 0x7fdcfd45ef10>, \n",
            "{ 'background_label': 0,\n",
            "  'detrend': False,\n",
            "  'dtype': None,\n",
            "  'high_pass': None,\n",
            "  'high_variance_confounds': False,\n",
            "  'labels': None,\n",
            "  'labels_img': '/root/nilearn_data/basc_multiscale_2015/template_cambridge_basc_multiscale_nii_sym/template_cambridge_basc_multiscale_sym_scale064.nii.gz',\n",
            "  'low_pass': None,\n",
            "  'mask_img': None,\n",
            "  'reports': True,\n",
            "  'smoothing_fwhm': None,\n",
            "  'standardize': True,\n",
            "  'standardize_confounds': True,\n",
            "  'strategy': 'mean',\n",
            "  't_r': None,\n",
            "  'target_affine': None,\n",
            "  'target_shape': None}, confounds=['/root/nilearn_data/cobre/fmri_0040102.tsv'], sample_mask=None, dtype=None, memory=Memory(location=nilearn_cache/joblib), memory_level=1, verbose=1)\n",
            "[NiftiLabelsMasker.transform_single_imgs] Loading data from /root/nilearn_data/cobre/fmri_0040102.nii.gz\n",
            "[NiftiLabelsMasker.transform_single_imgs] Extracting region signals\n",
            "[NiftiLabelsMasker.transform_single_imgs] Cleaning extracted signals\n",
            "_______________________________________________filter_and_extract - 0.5s, 0.0min\n",
            "[NiftiLabelsMasker.fit_transform] loading data from /root/nilearn_data/basc_multiscale_2015/template_cambridge_basc_multiscale_nii_sym/template_cambridge_basc_multiscale_sym_scale064.nii.gz\n",
            "________________________________________________________________________________\n",
            "[Memory] Calling nilearn.input_data.base_masker.filter_and_extract...\n",
            "filter_and_extract('/root/nilearn_data/cobre/fmri_0040024.nii.gz', <nilearn.input_data.nifti_labels_masker._ExtractionFunctor object at 0x7fdcfdadbd50>, \n",
            "{ 'background_label': 0,\n",
            "  'detrend': False,\n",
            "  'dtype': None,\n",
            "  'high_pass': None,\n",
            "  'high_variance_confounds': False,\n",
            "  'labels': None,\n",
            "  'labels_img': '/root/nilearn_data/basc_multiscale_2015/template_cambridge_basc_multiscale_nii_sym/template_cambridge_basc_multiscale_sym_scale064.nii.gz',\n",
            "  'low_pass': None,\n",
            "  'mask_img': None,\n",
            "  'reports': True,\n",
            "  'smoothing_fwhm': None,\n",
            "  'standardize': True,\n",
            "  'standardize_confounds': True,\n",
            "  'strategy': 'mean',\n",
            "  't_r': None,\n",
            "  'target_affine': None,\n",
            "  'target_shape': None}, confounds=['/root/nilearn_data/cobre/fmri_0040024.tsv'], sample_mask=None, dtype=None, memory=Memory(location=nilearn_cache/joblib), memory_level=1, verbose=1)\n",
            "[NiftiLabelsMasker.transform_single_imgs] Loading data from /root/nilearn_data/cobre/fmri_0040024.nii.gz\n",
            "[NiftiLabelsMasker.transform_single_imgs] Extracting region signals\n",
            "[NiftiLabelsMasker.transform_single_imgs] Cleaning extracted signals\n",
            "_______________________________________________filter_and_extract - 0.5s, 0.0min\n",
            "[NiftiLabelsMasker.fit_transform] loading data from /root/nilearn_data/basc_multiscale_2015/template_cambridge_basc_multiscale_nii_sym/template_cambridge_basc_multiscale_sym_scale064.nii.gz\n",
            "________________________________________________________________________________\n",
            "[Memory] Calling nilearn.input_data.base_masker.filter_and_extract...\n",
            "filter_and_extract('/root/nilearn_data/cobre/fmri_0040134.nii.gz', <nilearn.input_data.nifti_labels_masker._ExtractionFunctor object at 0x7fdd0efb4d50>, \n",
            "{ 'background_label': 0,\n",
            "  'detrend': False,\n",
            "  'dtype': None,\n",
            "  'high_pass': None,\n",
            "  'high_variance_confounds': False,\n",
            "  'labels': None,\n",
            "  'labels_img': '/root/nilearn_data/basc_multiscale_2015/template_cambridge_basc_multiscale_nii_sym/template_cambridge_basc_multiscale_sym_scale064.nii.gz',\n",
            "  'low_pass': None,\n",
            "  'mask_img': None,\n",
            "  'reports': True,\n",
            "  'smoothing_fwhm': None,\n",
            "  'standardize': True,\n",
            "  'standardize_confounds': True,\n",
            "  'strategy': 'mean',\n",
            "  't_r': None,\n",
            "  'target_affine': None,\n",
            "  'target_shape': None}, confounds=['/root/nilearn_data/cobre/fmri_0040134.tsv'], sample_mask=None, dtype=None, memory=Memory(location=nilearn_cache/joblib), memory_level=1, verbose=1)\n",
            "[NiftiLabelsMasker.transform_single_imgs] Loading data from /root/nilearn_data/cobre/fmri_0040134.nii.gz\n",
            "[NiftiLabelsMasker.transform_single_imgs] Extracting region signals\n",
            "[NiftiLabelsMasker.transform_single_imgs] Cleaning extracted signals\n",
            "_______________________________________________filter_and_extract - 0.5s, 0.0min\n",
            "[NiftiLabelsMasker.fit_transform] loading data from /root/nilearn_data/basc_multiscale_2015/template_cambridge_basc_multiscale_nii_sym/template_cambridge_basc_multiscale_sym_scale064.nii.gz\n",
            "________________________________________________________________________________\n",
            "[Memory] Calling nilearn.input_data.base_masker.filter_and_extract...\n",
            "filter_and_extract('/root/nilearn_data/cobre/fmri_0040030.nii.gz', <nilearn.input_data.nifti_labels_masker._ExtractionFunctor object at 0x7fdd0af24150>, \n",
            "{ 'background_label': 0,\n",
            "  'detrend': False,\n",
            "  'dtype': None,\n",
            "  'high_pass': None,\n",
            "  'high_variance_confounds': False,\n",
            "  'labels': None,\n",
            "  'labels_img': '/root/nilearn_data/basc_multiscale_2015/template_cambridge_basc_multiscale_nii_sym/template_cambridge_basc_multiscale_sym_scale064.nii.gz',\n",
            "  'low_pass': None,\n",
            "  'mask_img': None,\n",
            "  'reports': True,\n",
            "  'smoothing_fwhm': None,\n",
            "  'standardize': True,\n",
            "  'standardize_confounds': True,\n",
            "  'strategy': 'mean',\n",
            "  't_r': None,\n",
            "  'target_affine': None,\n",
            "  'target_shape': None}, confounds=['/root/nilearn_data/cobre/fmri_0040030.tsv'], sample_mask=None, dtype=None, memory=Memory(location=nilearn_cache/joblib), memory_level=1, verbose=1)\n",
            "[NiftiLabelsMasker.transform_single_imgs] Loading data from /root/nilearn_data/cobre/fmri_0040030.nii.gz\n",
            "[NiftiLabelsMasker.transform_single_imgs] Extracting region signals\n",
            "[NiftiLabelsMasker.transform_single_imgs] Cleaning extracted signals\n",
            "_______________________________________________filter_and_extract - 0.5s, 0.0min\n",
            "[NiftiLabelsMasker.fit_transform] loading data from /root/nilearn_data/basc_multiscale_2015/template_cambridge_basc_multiscale_nii_sym/template_cambridge_basc_multiscale_sym_scale064.nii.gz\n",
            "________________________________________________________________________________\n",
            "[Memory] Calling nilearn.input_data.base_masker.filter_and_extract...\n",
            "filter_and_extract('/root/nilearn_data/cobre/fmri_0040031.nii.gz', <nilearn.input_data.nifti_labels_masker._ExtractionFunctor object at 0x7fdd0aea0250>, \n",
            "{ 'background_label': 0,\n",
            "  'detrend': False,\n",
            "  'dtype': None,\n",
            "  'high_pass': None,\n",
            "  'high_variance_confounds': False,\n",
            "  'labels': None,\n",
            "  'labels_img': '/root/nilearn_data/basc_multiscale_2015/template_cambridge_basc_multiscale_nii_sym/template_cambridge_basc_multiscale_sym_scale064.nii.gz',\n",
            "  'low_pass': None,\n",
            "  'mask_img': None,\n",
            "  'reports': True,\n",
            "  'smoothing_fwhm': None,\n",
            "  'standardize': True,\n",
            "  'standardize_confounds': True,\n",
            "  'strategy': 'mean',\n",
            "  't_r': None,\n",
            "  'target_affine': None,\n",
            "  'target_shape': None}, confounds=['/root/nilearn_data/cobre/fmri_0040031.tsv'], sample_mask=None, dtype=None, memory=Memory(location=nilearn_cache/joblib), memory_level=1, verbose=1)\n",
            "[NiftiLabelsMasker.transform_single_imgs] Loading data from /root/nilearn_data/cobre/fmri_0040031.nii.gz\n",
            "[NiftiLabelsMasker.transform_single_imgs] Extracting region signals\n",
            "[NiftiLabelsMasker.transform_single_imgs] Cleaning extracted signals\n",
            "_______________________________________________filter_and_extract - 0.5s, 0.0min\n",
            "[NiftiLabelsMasker.fit_transform] loading data from /root/nilearn_data/basc_multiscale_2015/template_cambridge_basc_multiscale_nii_sym/template_cambridge_basc_multiscale_sym_scale064.nii.gz\n",
            "________________________________________________________________________________\n",
            "[Memory] Calling nilearn.input_data.base_masker.filter_and_extract...\n",
            "filter_and_extract('/root/nilearn_data/cobre/fmri_0040019.nii.gz', <nilearn.input_data.nifti_labels_masker._ExtractionFunctor object at 0x7fdd0af24150>, \n",
            "{ 'background_label': 0,\n",
            "  'detrend': False,\n",
            "  'dtype': None,\n",
            "  'high_pass': None,\n",
            "  'high_variance_confounds': False,\n",
            "  'labels': None,\n",
            "  'labels_img': '/root/nilearn_data/basc_multiscale_2015/template_cambridge_basc_multiscale_nii_sym/template_cambridge_basc_multiscale_sym_scale064.nii.gz',\n",
            "  'low_pass': None,\n",
            "  'mask_img': None,\n",
            "  'reports': True,\n",
            "  'smoothing_fwhm': None,\n",
            "  'standardize': True,\n",
            "  'standardize_confounds': True,\n",
            "  'strategy': 'mean',\n",
            "  't_r': None,\n",
            "  'target_affine': None,\n",
            "  'target_shape': None}, confounds=['/root/nilearn_data/cobre/fmri_0040019.tsv'], sample_mask=None, dtype=None, memory=Memory(location=nilearn_cache/joblib), memory_level=1, verbose=1)\n",
            "[NiftiLabelsMasker.transform_single_imgs] Loading data from /root/nilearn_data/cobre/fmri_0040019.nii.gz\n",
            "[NiftiLabelsMasker.transform_single_imgs] Extracting region signals\n",
            "[NiftiLabelsMasker.transform_single_imgs] Cleaning extracted signals\n",
            "_______________________________________________filter_and_extract - 0.5s, 0.0min\n",
            "[NiftiLabelsMasker.fit_transform] loading data from /root/nilearn_data/basc_multiscale_2015/template_cambridge_basc_multiscale_nii_sym/template_cambridge_basc_multiscale_sym_scale064.nii.gz\n",
            "________________________________________________________________________________\n",
            "[Memory] Calling nilearn.input_data.base_masker.filter_and_extract...\n",
            "filter_and_extract('/root/nilearn_data/cobre/fmri_0040026.nii.gz', <nilearn.input_data.nifti_labels_masker._ExtractionFunctor object at 0x7fdcfda4ae50>, \n",
            "{ 'background_label': 0,\n",
            "  'detrend': False,\n",
            "  'dtype': None,\n",
            "  'high_pass': None,\n",
            "  'high_variance_confounds': False,\n",
            "  'labels': None,\n",
            "  'labels_img': '/root/nilearn_data/basc_multiscale_2015/template_cambridge_basc_multiscale_nii_sym/template_cambridge_basc_multiscale_sym_scale064.nii.gz',\n",
            "  'low_pass': None,\n",
            "  'mask_img': None,\n",
            "  'reports': True,\n",
            "  'smoothing_fwhm': None,\n",
            "  'standardize': True,\n",
            "  'standardize_confounds': True,\n",
            "  'strategy': 'mean',\n",
            "  't_r': None,\n",
            "  'target_affine': None,\n",
            "  'target_shape': None}, confounds=['/root/nilearn_data/cobre/fmri_0040026.tsv'], sample_mask=None, dtype=None, memory=Memory(location=nilearn_cache/joblib), memory_level=1, verbose=1)\n",
            "[NiftiLabelsMasker.transform_single_imgs] Loading data from /root/nilearn_data/cobre/fmri_0040026.nii.gz\n",
            "[NiftiLabelsMasker.transform_single_imgs] Extracting region signals\n",
            "[NiftiLabelsMasker.transform_single_imgs] Cleaning extracted signals\n",
            "_______________________________________________filter_and_extract - 0.5s, 0.0min\n",
            "[NiftiLabelsMasker.fit_transform] loading data from /root/nilearn_data/basc_multiscale_2015/template_cambridge_basc_multiscale_nii_sym/template_cambridge_basc_multiscale_sym_scale064.nii.gz\n",
            "________________________________________________________________________________\n",
            "[Memory] Calling nilearn.input_data.base_masker.filter_and_extract...\n",
            "filter_and_extract('/root/nilearn_data/cobre/fmri_0040119.nii.gz', <nilearn.input_data.nifti_labels_masker._ExtractionFunctor object at 0x7fdcfd9a9e90>, \n",
            "{ 'background_label': 0,\n",
            "  'detrend': False,\n",
            "  'dtype': None,\n",
            "  'high_pass': None,\n",
            "  'high_variance_confounds': False,\n",
            "  'labels': None,\n",
            "  'labels_img': '/root/nilearn_data/basc_multiscale_2015/template_cambridge_basc_multiscale_nii_sym/template_cambridge_basc_multiscale_sym_scale064.nii.gz',\n",
            "  'low_pass': None,\n",
            "  'mask_img': None,\n",
            "  'reports': True,\n",
            "  'smoothing_fwhm': None,\n",
            "  'standardize': True,\n",
            "  'standardize_confounds': True,\n",
            "  'strategy': 'mean',\n",
            "  't_r': None,\n",
            "  'target_affine': None,\n",
            "  'target_shape': None}, confounds=['/root/nilearn_data/cobre/fmri_0040119.tsv'], sample_mask=None, dtype=None, memory=Memory(location=nilearn_cache/joblib), memory_level=1, verbose=1)\n",
            "[NiftiLabelsMasker.transform_single_imgs] Loading data from /root/nilearn_data/cobre/fmri_0040119.nii.gz\n",
            "[NiftiLabelsMasker.transform_single_imgs] Extracting region signals\n",
            "[NiftiLabelsMasker.transform_single_imgs] Cleaning extracted signals\n",
            "_______________________________________________filter_and_extract - 0.5s, 0.0min\n",
            "[NiftiLabelsMasker.fit_transform] loading data from /root/nilearn_data/basc_multiscale_2015/template_cambridge_basc_multiscale_nii_sym/template_cambridge_basc_multiscale_sym_scale064.nii.gz\n",
            "________________________________________________________________________________\n",
            "[Memory] Calling nilearn.input_data.base_masker.filter_and_extract...\n",
            "filter_and_extract('/root/nilearn_data/cobre/fmri_0040018.nii.gz', <nilearn.input_data.nifti_labels_masker._ExtractionFunctor object at 0x7fdd11532d10>, \n",
            "{ 'background_label': 0,\n",
            "  'detrend': False,\n",
            "  'dtype': None,\n",
            "  'high_pass': None,\n",
            "  'high_variance_confounds': False,\n",
            "  'labels': None,\n",
            "  'labels_img': '/root/nilearn_data/basc_multiscale_2015/template_cambridge_basc_multiscale_nii_sym/template_cambridge_basc_multiscale_sym_scale064.nii.gz',\n",
            "  'low_pass': None,\n",
            "  'mask_img': None,\n",
            "  'reports': True,\n",
            "  'smoothing_fwhm': None,\n",
            "  'standardize': True,\n",
            "  'standardize_confounds': True,\n",
            "  'strategy': 'mean',\n",
            "  't_r': None,\n",
            "  'target_affine': None,\n",
            "  'target_shape': None}, confounds=['/root/nilearn_data/cobre/fmri_0040018.tsv'], sample_mask=None, dtype=None, memory=Memory(location=nilearn_cache/joblib), memory_level=1, verbose=1)\n",
            "[NiftiLabelsMasker.transform_single_imgs] Loading data from /root/nilearn_data/cobre/fmri_0040018.nii.gz\n",
            "[NiftiLabelsMasker.transform_single_imgs] Extracting region signals\n",
            "[NiftiLabelsMasker.transform_single_imgs] Cleaning extracted signals\n",
            "_______________________________________________filter_and_extract - 0.5s, 0.0min\n",
            "[NiftiLabelsMasker.fit_transform] loading data from /root/nilearn_data/basc_multiscale_2015/template_cambridge_basc_multiscale_nii_sym/template_cambridge_basc_multiscale_sym_scale064.nii.gz\n",
            "________________________________________________________________________________\n",
            "[Memory] Calling nilearn.input_data.base_masker.filter_and_extract...\n",
            "filter_and_extract('/root/nilearn_data/cobre/fmri_0040116.nii.gz', <nilearn.input_data.nifti_labels_masker._ExtractionFunctor object at 0x7fdcfda4ae50>, \n",
            "{ 'background_label': 0,\n",
            "  'detrend': False,\n",
            "  'dtype': None,\n",
            "  'high_pass': None,\n",
            "  'high_variance_confounds': False,\n",
            "  'labels': None,\n",
            "  'labels_img': '/root/nilearn_data/basc_multiscale_2015/template_cambridge_basc_multiscale_nii_sym/template_cambridge_basc_multiscale_sym_scale064.nii.gz',\n",
            "  'low_pass': None,\n",
            "  'mask_img': None,\n",
            "  'reports': True,\n",
            "  'smoothing_fwhm': None,\n",
            "  'standardize': True,\n",
            "  'standardize_confounds': True,\n",
            "  'strategy': 'mean',\n",
            "  't_r': None,\n",
            "  'target_affine': None,\n",
            "  'target_shape': None}, confounds=['/root/nilearn_data/cobre/fmri_0040116.tsv'], sample_mask=None, dtype=None, memory=Memory(location=nilearn_cache/joblib), memory_level=1, verbose=1)\n",
            "[NiftiLabelsMasker.transform_single_imgs] Loading data from /root/nilearn_data/cobre/fmri_0040116.nii.gz\n",
            "[NiftiLabelsMasker.transform_single_imgs] Extracting region signals\n",
            "[NiftiLabelsMasker.transform_single_imgs] Cleaning extracted signals\n",
            "_______________________________________________filter_and_extract - 0.6s, 0.0min\n",
            "[NiftiLabelsMasker.fit_transform] loading data from /root/nilearn_data/basc_multiscale_2015/template_cambridge_basc_multiscale_nii_sym/template_cambridge_basc_multiscale_sym_scale064.nii.gz\n",
            "________________________________________________________________________________\n",
            "[Memory] Calling nilearn.input_data.base_masker.filter_and_extract...\n",
            "filter_and_extract('/root/nilearn_data/cobre/fmri_0040130.nii.gz', <nilearn.input_data.nifti_labels_masker._ExtractionFunctor object at 0x7fdd08a2d390>, \n",
            "{ 'background_label': 0,\n",
            "  'detrend': False,\n",
            "  'dtype': None,\n",
            "  'high_pass': None,\n",
            "  'high_variance_confounds': False,\n",
            "  'labels': None,\n",
            "  'labels_img': '/root/nilearn_data/basc_multiscale_2015/template_cambridge_basc_multiscale_nii_sym/template_cambridge_basc_multiscale_sym_scale064.nii.gz',\n",
            "  'low_pass': None,\n",
            "  'mask_img': None,\n",
            "  'reports': True,\n",
            "  'smoothing_fwhm': None,\n",
            "  'standardize': True,\n",
            "  'standardize_confounds': True,\n",
            "  'strategy': 'mean',\n",
            "  't_r': None,\n",
            "  'target_affine': None,\n",
            "  'target_shape': None}, confounds=['/root/nilearn_data/cobre/fmri_0040130.tsv'], sample_mask=None, dtype=None, memory=Memory(location=nilearn_cache/joblib), memory_level=1, verbose=1)\n",
            "[NiftiLabelsMasker.transform_single_imgs] Loading data from /root/nilearn_data/cobre/fmri_0040130.nii.gz\n",
            "[NiftiLabelsMasker.transform_single_imgs] Extracting region signals\n",
            "[NiftiLabelsMasker.transform_single_imgs] Cleaning extracted signals\n",
            "_______________________________________________filter_and_extract - 0.5s, 0.0min\n",
            "[NiftiLabelsMasker.fit_transform] loading data from /root/nilearn_data/basc_multiscale_2015/template_cambridge_basc_multiscale_nii_sym/template_cambridge_basc_multiscale_sym_scale064.nii.gz\n",
            "________________________________________________________________________________\n",
            "[Memory] Calling nilearn.input_data.base_masker.filter_and_extract...\n",
            "filter_and_extract('/root/nilearn_data/cobre/fmri_0040131.nii.gz', <nilearn.input_data.nifti_labels_masker._ExtractionFunctor object at 0x7fdd11532cd0>, \n",
            "{ 'background_label': 0,\n",
            "  'detrend': False,\n",
            "  'dtype': None,\n",
            "  'high_pass': None,\n",
            "  'high_variance_confounds': False,\n",
            "  'labels': None,\n",
            "  'labels_img': '/root/nilearn_data/basc_multiscale_2015/template_cambridge_basc_multiscale_nii_sym/template_cambridge_basc_multiscale_sym_scale064.nii.gz',\n",
            "  'low_pass': None,\n",
            "  'mask_img': None,\n",
            "  'reports': True,\n",
            "  'smoothing_fwhm': None,\n",
            "  'standardize': True,\n",
            "  'standardize_confounds': True,\n",
            "  'strategy': 'mean',\n",
            "  't_r': None,\n",
            "  'target_affine': None,\n",
            "  'target_shape': None}, confounds=['/root/nilearn_data/cobre/fmri_0040131.tsv'], sample_mask=None, dtype=None, memory=Memory(location=nilearn_cache/joblib), memory_level=1, verbose=1)\n",
            "[NiftiLabelsMasker.transform_single_imgs] Loading data from /root/nilearn_data/cobre/fmri_0040131.nii.gz\n",
            "[NiftiLabelsMasker.transform_single_imgs] Extracting region signals\n",
            "[NiftiLabelsMasker.transform_single_imgs] Cleaning extracted signals\n",
            "_______________________________________________filter_and_extract - 0.5s, 0.0min\n",
            "[NiftiLabelsMasker.fit_transform] loading data from /root/nilearn_data/basc_multiscale_2015/template_cambridge_basc_multiscale_nii_sym/template_cambridge_basc_multiscale_sym_scale064.nii.gz\n",
            "________________________________________________________________________________\n",
            "[Memory] Calling nilearn.input_data.base_masker.filter_and_extract...\n",
            "filter_and_extract('/root/nilearn_data/cobre/fmri_0040023.nii.gz', <nilearn.input_data.nifti_labels_masker._ExtractionFunctor object at 0x7fdcfd9d5290>, \n",
            "{ 'background_label': 0,\n",
            "  'detrend': False,\n",
            "  'dtype': None,\n",
            "  'high_pass': None,\n",
            "  'high_variance_confounds': False,\n",
            "  'labels': None,\n",
            "  'labels_img': '/root/nilearn_data/basc_multiscale_2015/template_cambridge_basc_multiscale_nii_sym/template_cambridge_basc_multiscale_sym_scale064.nii.gz',\n",
            "  'low_pass': None,\n",
            "  'mask_img': None,\n",
            "  'reports': True,\n",
            "  'smoothing_fwhm': None,\n",
            "  'standardize': True,\n",
            "  'standardize_confounds': True,\n",
            "  'strategy': 'mean',\n",
            "  't_r': None,\n",
            "  'target_affine': None,\n",
            "  'target_shape': None}, confounds=['/root/nilearn_data/cobre/fmri_0040023.tsv'], sample_mask=None, dtype=None, memory=Memory(location=nilearn_cache/joblib), memory_level=1, verbose=1)\n",
            "[NiftiLabelsMasker.transform_single_imgs] Loading data from /root/nilearn_data/cobre/fmri_0040023.nii.gz\n",
            "[NiftiLabelsMasker.transform_single_imgs] Extracting region signals\n",
            "[NiftiLabelsMasker.transform_single_imgs] Cleaning extracted signals\n",
            "_______________________________________________filter_and_extract - 0.5s, 0.0min\n",
            "[NiftiLabelsMasker.fit_transform] loading data from /root/nilearn_data/basc_multiscale_2015/template_cambridge_basc_multiscale_nii_sym/template_cambridge_basc_multiscale_sym_scale064.nii.gz\n",
            "________________________________________________________________________________\n",
            "[Memory] Calling nilearn.input_data.base_masker.filter_and_extract...\n",
            "filter_and_extract('/root/nilearn_data/cobre/fmri_0040027.nii.gz', <nilearn.input_data.nifti_labels_masker._ExtractionFunctor object at 0x7fdcfdae1890>, \n",
            "{ 'background_label': 0,\n",
            "  'detrend': False,\n",
            "  'dtype': None,\n",
            "  'high_pass': None,\n",
            "  'high_variance_confounds': False,\n",
            "  'labels': None,\n",
            "  'labels_img': '/root/nilearn_data/basc_multiscale_2015/template_cambridge_basc_multiscale_nii_sym/template_cambridge_basc_multiscale_sym_scale064.nii.gz',\n",
            "  'low_pass': None,\n",
            "  'mask_img': None,\n",
            "  'reports': True,\n",
            "  'smoothing_fwhm': None,\n",
            "  'standardize': True,\n",
            "  'standardize_confounds': True,\n",
            "  'strategy': 'mean',\n",
            "  't_r': None,\n",
            "  'target_affine': None,\n",
            "  'target_shape': None}, confounds=['/root/nilearn_data/cobre/fmri_0040027.tsv'], sample_mask=None, dtype=None, memory=Memory(location=nilearn_cache/joblib), memory_level=1, verbose=1)\n",
            "[NiftiLabelsMasker.transform_single_imgs] Loading data from /root/nilearn_data/cobre/fmri_0040027.nii.gz\n",
            "[NiftiLabelsMasker.transform_single_imgs] Extracting region signals\n",
            "[NiftiLabelsMasker.transform_single_imgs] Cleaning extracted signals\n",
            "_______________________________________________filter_and_extract - 0.5s, 0.0min\n",
            "[NiftiLabelsMasker.fit_transform] loading data from /root/nilearn_data/basc_multiscale_2015/template_cambridge_basc_multiscale_nii_sym/template_cambridge_basc_multiscale_sym_scale064.nii.gz\n",
            "________________________________________________________________________________\n",
            "[Memory] Calling nilearn.input_data.base_masker.filter_and_extract...\n",
            "filter_and_extract('/root/nilearn_data/cobre/fmri_0040123.nii.gz', <nilearn.input_data.nifti_labels_masker._ExtractionFunctor object at 0x7fdd0ae9d690>, \n",
            "{ 'background_label': 0,\n",
            "  'detrend': False,\n",
            "  'dtype': None,\n",
            "  'high_pass': None,\n",
            "  'high_variance_confounds': False,\n",
            "  'labels': None,\n",
            "  'labels_img': '/root/nilearn_data/basc_multiscale_2015/template_cambridge_basc_multiscale_nii_sym/template_cambridge_basc_multiscale_sym_scale064.nii.gz',\n",
            "  'low_pass': None,\n",
            "  'mask_img': None,\n",
            "  'reports': True,\n",
            "  'smoothing_fwhm': None,\n",
            "  'standardize': True,\n",
            "  'standardize_confounds': True,\n",
            "  'strategy': 'mean',\n",
            "  't_r': None,\n",
            "  'target_affine': None,\n",
            "  'target_shape': None}, confounds=['/root/nilearn_data/cobre/fmri_0040123.tsv'], sample_mask=None, dtype=None, memory=Memory(location=nilearn_cache/joblib), memory_level=1, verbose=1)\n",
            "[NiftiLabelsMasker.transform_single_imgs] Loading data from /root/nilearn_data/cobre/fmri_0040123.nii.gz\n",
            "[NiftiLabelsMasker.transform_single_imgs] Extracting region signals\n",
            "[NiftiLabelsMasker.transform_single_imgs] Cleaning extracted signals\n",
            "_______________________________________________filter_and_extract - 0.5s, 0.0min\n",
            "[NiftiLabelsMasker.fit_transform] loading data from /root/nilearn_data/basc_multiscale_2015/template_cambridge_basc_multiscale_nii_sym/template_cambridge_basc_multiscale_sym_scale064.nii.gz\n",
            "________________________________________________________________________________\n",
            "[Memory] Calling nilearn.input_data.base_masker.filter_and_extract...\n",
            "filter_and_extract('/root/nilearn_data/cobre/fmri_0040125.nii.gz', <nilearn.input_data.nifti_labels_masker._ExtractionFunctor object at 0x7fdcfda4aa90>, \n",
            "{ 'background_label': 0,\n",
            "  'detrend': False,\n",
            "  'dtype': None,\n",
            "  'high_pass': None,\n",
            "  'high_variance_confounds': False,\n",
            "  'labels': None,\n",
            "  'labels_img': '/root/nilearn_data/basc_multiscale_2015/template_cambridge_basc_multiscale_nii_sym/template_cambridge_basc_multiscale_sym_scale064.nii.gz',\n",
            "  'low_pass': None,\n",
            "  'mask_img': None,\n",
            "  'reports': True,\n",
            "  'smoothing_fwhm': None,\n",
            "  'standardize': True,\n",
            "  'standardize_confounds': True,\n",
            "  'strategy': 'mean',\n",
            "  't_r': None,\n",
            "  'target_affine': None,\n",
            "  'target_shape': None}, confounds=['/root/nilearn_data/cobre/fmri_0040125.tsv'], sample_mask=None, dtype=None, memory=Memory(location=nilearn_cache/joblib), memory_level=1, verbose=1)\n",
            "[NiftiLabelsMasker.transform_single_imgs] Loading data from /root/nilearn_data/cobre/fmri_0040125.nii.gz\n",
            "[NiftiLabelsMasker.transform_single_imgs] Extracting region signals\n",
            "[NiftiLabelsMasker.transform_single_imgs] Cleaning extracted signals\n",
            "_______________________________________________filter_and_extract - 0.5s, 0.0min\n",
            "[NiftiLabelsMasker.fit_transform] loading data from /root/nilearn_data/basc_multiscale_2015/template_cambridge_basc_multiscale_nii_sym/template_cambridge_basc_multiscale_sym_scale064.nii.gz\n",
            "________________________________________________________________________________\n",
            "[Memory] Calling nilearn.input_data.base_masker.filter_and_extract...\n",
            "filter_and_extract('/root/nilearn_data/cobre/fmri_0040062.nii.gz', <nilearn.input_data.nifti_labels_masker._ExtractionFunctor object at 0x7fdd0af03690>, \n",
            "{ 'background_label': 0,\n",
            "  'detrend': False,\n",
            "  'dtype': None,\n",
            "  'high_pass': None,\n",
            "  'high_variance_confounds': False,\n",
            "  'labels': None,\n",
            "  'labels_img': '/root/nilearn_data/basc_multiscale_2015/template_cambridge_basc_multiscale_nii_sym/template_cambridge_basc_multiscale_sym_scale064.nii.gz',\n",
            "  'low_pass': None,\n",
            "  'mask_img': None,\n",
            "  'reports': True,\n",
            "  'smoothing_fwhm': None,\n",
            "  'standardize': True,\n",
            "  'standardize_confounds': True,\n",
            "  'strategy': 'mean',\n",
            "  't_r': None,\n",
            "  'target_affine': None,\n",
            "  'target_shape': None}, confounds=['/root/nilearn_data/cobre/fmri_0040062.tsv'], sample_mask=None, dtype=None, memory=Memory(location=nilearn_cache/joblib), memory_level=1, verbose=1)\n",
            "[NiftiLabelsMasker.transform_single_imgs] Loading data from /root/nilearn_data/cobre/fmri_0040062.nii.gz\n",
            "[NiftiLabelsMasker.transform_single_imgs] Extracting region signals\n",
            "[NiftiLabelsMasker.transform_single_imgs] Cleaning extracted signals\n",
            "_______________________________________________filter_and_extract - 0.5s, 0.0min\n",
            "[NiftiLabelsMasker.fit_transform] loading data from /root/nilearn_data/basc_multiscale_2015/template_cambridge_basc_multiscale_nii_sym/template_cambridge_basc_multiscale_sym_scale064.nii.gz\n",
            "________________________________________________________________________________\n",
            "[Memory] Calling nilearn.input_data.base_masker.filter_and_extract...\n",
            "filter_and_extract('/root/nilearn_data/cobre/fmri_0040054.nii.gz', <nilearn.input_data.nifti_labels_masker._ExtractionFunctor object at 0x7fdd0a466250>, \n",
            "{ 'background_label': 0,\n",
            "  'detrend': False,\n",
            "  'dtype': None,\n",
            "  'high_pass': None,\n",
            "  'high_variance_confounds': False,\n",
            "  'labels': None,\n",
            "  'labels_img': '/root/nilearn_data/basc_multiscale_2015/template_cambridge_basc_multiscale_nii_sym/template_cambridge_basc_multiscale_sym_scale064.nii.gz',\n",
            "  'low_pass': None,\n",
            "  'mask_img': None,\n",
            "  'reports': True,\n",
            "  'smoothing_fwhm': None,\n",
            "  'standardize': True,\n",
            "  'standardize_confounds': True,\n",
            "  'strategy': 'mean',\n",
            "  't_r': None,\n",
            "  'target_affine': None,\n",
            "  'target_shape': None}, confounds=['/root/nilearn_data/cobre/fmri_0040054.tsv'], sample_mask=None, dtype=None, memory=Memory(location=nilearn_cache/joblib), memory_level=1, verbose=1)\n",
            "[NiftiLabelsMasker.transform_single_imgs] Loading data from /root/nilearn_data/cobre/fmri_0040054.nii.gz\n",
            "[NiftiLabelsMasker.transform_single_imgs] Extracting region signals\n",
            "[NiftiLabelsMasker.transform_single_imgs] Cleaning extracted signals\n",
            "_______________________________________________filter_and_extract - 0.5s, 0.0min\n",
            "[NiftiLabelsMasker.fit_transform] loading data from /root/nilearn_data/basc_multiscale_2015/template_cambridge_basc_multiscale_nii_sym/template_cambridge_basc_multiscale_sym_scale064.nii.gz\n",
            "________________________________________________________________________________\n",
            "[Memory] Calling nilearn.input_data.base_masker.filter_and_extract...\n",
            "filter_and_extract('/root/nilearn_data/cobre/fmri_0040076.nii.gz', <nilearn.input_data.nifti_labels_masker._ExtractionFunctor object at 0x7fdcfd4aafd0>, \n",
            "{ 'background_label': 0,\n",
            "  'detrend': False,\n",
            "  'dtype': None,\n",
            "  'high_pass': None,\n",
            "  'high_variance_confounds': False,\n",
            "  'labels': None,\n",
            "  'labels_img': '/root/nilearn_data/basc_multiscale_2015/template_cambridge_basc_multiscale_nii_sym/template_cambridge_basc_multiscale_sym_scale064.nii.gz',\n",
            "  'low_pass': None,\n",
            "  'mask_img': None,\n",
            "  'reports': True,\n",
            "  'smoothing_fwhm': None,\n",
            "  'standardize': True,\n",
            "  'standardize_confounds': True,\n",
            "  'strategy': 'mean',\n",
            "  't_r': None,\n",
            "  'target_affine': None,\n",
            "  'target_shape': None}, confounds=['/root/nilearn_data/cobre/fmri_0040076.tsv'], sample_mask=None, dtype=None, memory=Memory(location=nilearn_cache/joblib), memory_level=1, verbose=1)\n",
            "[NiftiLabelsMasker.transform_single_imgs] Loading data from /root/nilearn_data/cobre/fmri_0040076.nii.gz\n",
            "[NiftiLabelsMasker.transform_single_imgs] Extracting region signals\n",
            "[NiftiLabelsMasker.transform_single_imgs] Cleaning extracted signals\n",
            "_______________________________________________filter_and_extract - 0.5s, 0.0min\n",
            "[NiftiLabelsMasker.fit_transform] loading data from /root/nilearn_data/basc_multiscale_2015/template_cambridge_basc_multiscale_nii_sym/template_cambridge_basc_multiscale_sym_scale064.nii.gz\n",
            "________________________________________________________________________________\n",
            "[Memory] Calling nilearn.input_data.base_masker.filter_and_extract...\n",
            "filter_and_extract('/root/nilearn_data/cobre/fmri_0040038.nii.gz', <nilearn.input_data.nifti_labels_masker._ExtractionFunctor object at 0x7fdd0af24150>, \n",
            "{ 'background_label': 0,\n",
            "  'detrend': False,\n",
            "  'dtype': None,\n",
            "  'high_pass': None,\n",
            "  'high_variance_confounds': False,\n",
            "  'labels': None,\n",
            "  'labels_img': '/root/nilearn_data/basc_multiscale_2015/template_cambridge_basc_multiscale_nii_sym/template_cambridge_basc_multiscale_sym_scale064.nii.gz',\n",
            "  'low_pass': None,\n",
            "  'mask_img': None,\n",
            "  'reports': True,\n",
            "  'smoothing_fwhm': None,\n",
            "  'standardize': True,\n",
            "  'standardize_confounds': True,\n",
            "  'strategy': 'mean',\n",
            "  't_r': None,\n",
            "  'target_affine': None,\n",
            "  'target_shape': None}, confounds=['/root/nilearn_data/cobre/fmri_0040038.tsv'], sample_mask=None, dtype=None, memory=Memory(location=nilearn_cache/joblib), memory_level=1, verbose=1)\n",
            "[NiftiLabelsMasker.transform_single_imgs] Loading data from /root/nilearn_data/cobre/fmri_0040038.nii.gz\n",
            "[NiftiLabelsMasker.transform_single_imgs] Extracting region signals\n",
            "[NiftiLabelsMasker.transform_single_imgs] Cleaning extracted signals\n",
            "_______________________________________________filter_and_extract - 0.5s, 0.0min\n",
            "[NiftiLabelsMasker.fit_transform] loading data from /root/nilearn_data/basc_multiscale_2015/template_cambridge_basc_multiscale_nii_sym/template_cambridge_basc_multiscale_sym_scale064.nii.gz\n",
            "________________________________________________________________________________\n",
            "[Memory] Calling nilearn.input_data.base_masker.filter_and_extract...\n",
            "filter_and_extract('/root/nilearn_data/cobre/fmri_0040140.nii.gz', <nilearn.input_data.nifti_labels_masker._ExtractionFunctor object at 0x7fdcfd44eed0>, \n",
            "{ 'background_label': 0,\n",
            "  'detrend': False,\n",
            "  'dtype': None,\n",
            "  'high_pass': None,\n",
            "  'high_variance_confounds': False,\n",
            "  'labels': None,\n",
            "  'labels_img': '/root/nilearn_data/basc_multiscale_2015/template_cambridge_basc_multiscale_nii_sym/template_cambridge_basc_multiscale_sym_scale064.nii.gz',\n",
            "  'low_pass': None,\n",
            "  'mask_img': None,\n",
            "  'reports': True,\n",
            "  'smoothing_fwhm': None,\n",
            "  'standardize': True,\n",
            "  'standardize_confounds': True,\n",
            "  'strategy': 'mean',\n",
            "  't_r': None,\n",
            "  'target_affine': None,\n",
            "  'target_shape': None}, confounds=['/root/nilearn_data/cobre/fmri_0040140.tsv'], sample_mask=None, dtype=None, memory=Memory(location=nilearn_cache/joblib), memory_level=1, verbose=1)\n",
            "[NiftiLabelsMasker.transform_single_imgs] Loading data from /root/nilearn_data/cobre/fmri_0040140.nii.gz\n",
            "[NiftiLabelsMasker.transform_single_imgs] Extracting region signals\n",
            "[NiftiLabelsMasker.transform_single_imgs] Cleaning extracted signals\n",
            "_______________________________________________filter_and_extract - 0.5s, 0.0min\n",
            "[NiftiLabelsMasker.fit_transform] loading data from /root/nilearn_data/basc_multiscale_2015/template_cambridge_basc_multiscale_nii_sym/template_cambridge_basc_multiscale_sym_scale064.nii.gz\n",
            "________________________________________________________________________________\n",
            "[Memory] Calling nilearn.input_data.base_masker.filter_and_extract...\n",
            "filter_and_extract('/root/nilearn_data/cobre/fmri_0040144.nii.gz', <nilearn.input_data.nifti_labels_masker._ExtractionFunctor object at 0x7fdcfd9a9e90>, \n",
            "{ 'background_label': 0,\n",
            "  'detrend': False,\n",
            "  'dtype': None,\n",
            "  'high_pass': None,\n",
            "  'high_variance_confounds': False,\n",
            "  'labels': None,\n",
            "  'labels_img': '/root/nilearn_data/basc_multiscale_2015/template_cambridge_basc_multiscale_nii_sym/template_cambridge_basc_multiscale_sym_scale064.nii.gz',\n",
            "  'low_pass': None,\n",
            "  'mask_img': None,\n",
            "  'reports': True,\n",
            "  'smoothing_fwhm': None,\n",
            "  'standardize': True,\n",
            "  'standardize_confounds': True,\n",
            "  'strategy': 'mean',\n",
            "  't_r': None,\n",
            "  'target_affine': None,\n",
            "  'target_shape': None}, confounds=['/root/nilearn_data/cobre/fmri_0040144.tsv'], sample_mask=None, dtype=None, memory=Memory(location=nilearn_cache/joblib), memory_level=1, verbose=1)\n",
            "[NiftiLabelsMasker.transform_single_imgs] Loading data from /root/nilearn_data/cobre/fmri_0040144.nii.gz\n",
            "[NiftiLabelsMasker.transform_single_imgs] Extracting region signals\n",
            "[NiftiLabelsMasker.transform_single_imgs] Cleaning extracted signals\n",
            "_______________________________________________filter_and_extract - 0.5s, 0.0min\n",
            "[NiftiLabelsMasker.fit_transform] loading data from /root/nilearn_data/basc_multiscale_2015/template_cambridge_basc_multiscale_nii_sym/template_cambridge_basc_multiscale_sym_scale064.nii.gz\n",
            "________________________________________________________________________________\n",
            "[Memory] Calling nilearn.input_data.base_masker.filter_and_extract...\n",
            "filter_and_extract('/root/nilearn_data/cobre/fmri_0040069.nii.gz', <nilearn.input_data.nifti_labels_masker._ExtractionFunctor object at 0x7fdd08321d50>, \n",
            "{ 'background_label': 0,\n",
            "  'detrend': False,\n",
            "  'dtype': None,\n",
            "  'high_pass': None,\n",
            "  'high_variance_confounds': False,\n",
            "  'labels': None,\n",
            "  'labels_img': '/root/nilearn_data/basc_multiscale_2015/template_cambridge_basc_multiscale_nii_sym/template_cambridge_basc_multiscale_sym_scale064.nii.gz',\n",
            "  'low_pass': None,\n",
            "  'mask_img': None,\n",
            "  'reports': True,\n",
            "  'smoothing_fwhm': None,\n",
            "  'standardize': True,\n",
            "  'standardize_confounds': True,\n",
            "  'strategy': 'mean',\n",
            "  't_r': None,\n",
            "  'target_affine': None,\n",
            "  'target_shape': None}, confounds=['/root/nilearn_data/cobre/fmri_0040069.tsv'], sample_mask=None, dtype=None, memory=Memory(location=nilearn_cache/joblib), memory_level=1, verbose=1)\n",
            "[NiftiLabelsMasker.transform_single_imgs] Loading data from /root/nilearn_data/cobre/fmri_0040069.nii.gz\n",
            "[NiftiLabelsMasker.transform_single_imgs] Extracting region signals\n",
            "[NiftiLabelsMasker.transform_single_imgs] Cleaning extracted signals\n",
            "_______________________________________________filter_and_extract - 0.5s, 0.0min\n",
            "[NiftiLabelsMasker.fit_transform] loading data from /root/nilearn_data/basc_multiscale_2015/template_cambridge_basc_multiscale_nii_sym/template_cambridge_basc_multiscale_sym_scale064.nii.gz\n",
            "________________________________________________________________________________\n",
            "[Memory] Calling nilearn.input_data.base_masker.filter_and_extract...\n",
            "filter_and_extract('/root/nilearn_data/cobre/fmri_0040111.nii.gz', <nilearn.input_data.nifti_labels_masker._ExtractionFunctor object at 0x7fdd0833bf50>, \n",
            "{ 'background_label': 0,\n",
            "  'detrend': False,\n",
            "  'dtype': None,\n",
            "  'high_pass': None,\n",
            "  'high_variance_confounds': False,\n",
            "  'labels': None,\n",
            "  'labels_img': '/root/nilearn_data/basc_multiscale_2015/template_cambridge_basc_multiscale_nii_sym/template_cambridge_basc_multiscale_sym_scale064.nii.gz',\n",
            "  'low_pass': None,\n",
            "  'mask_img': None,\n",
            "  'reports': True,\n",
            "  'smoothing_fwhm': None,\n",
            "  'standardize': True,\n",
            "  'standardize_confounds': True,\n",
            "  'strategy': 'mean',\n",
            "  't_r': None,\n",
            "  'target_affine': None,\n",
            "  'target_shape': None}, confounds=['/root/nilearn_data/cobre/fmri_0040111.tsv'], sample_mask=None, dtype=None, memory=Memory(location=nilearn_cache/joblib), memory_level=1, verbose=1)\n",
            "[NiftiLabelsMasker.transform_single_imgs] Loading data from /root/nilearn_data/cobre/fmri_0040111.nii.gz\n",
            "[NiftiLabelsMasker.transform_single_imgs] Extracting region signals\n",
            "[NiftiLabelsMasker.transform_single_imgs] Cleaning extracted signals\n",
            "_______________________________________________filter_and_extract - 0.5s, 0.0min\n",
            "[NiftiLabelsMasker.fit_transform] loading data from /root/nilearn_data/basc_multiscale_2015/template_cambridge_basc_multiscale_nii_sym/template_cambridge_basc_multiscale_sym_scale064.nii.gz\n",
            "________________________________________________________________________________\n",
            "[Memory] Calling nilearn.input_data.base_masker.filter_and_extract...\n",
            "filter_and_extract('/root/nilearn_data/cobre/fmri_0040066.nii.gz', <nilearn.input_data.nifti_labels_masker._ExtractionFunctor object at 0x7fdd0f039610>, \n",
            "{ 'background_label': 0,\n",
            "  'detrend': False,\n",
            "  'dtype': None,\n",
            "  'high_pass': None,\n",
            "  'high_variance_confounds': False,\n",
            "  'labels': None,\n",
            "  'labels_img': '/root/nilearn_data/basc_multiscale_2015/template_cambridge_basc_multiscale_nii_sym/template_cambridge_basc_multiscale_sym_scale064.nii.gz',\n",
            "  'low_pass': None,\n",
            "  'mask_img': None,\n",
            "  'reports': True,\n",
            "  'smoothing_fwhm': None,\n",
            "  'standardize': True,\n",
            "  'standardize_confounds': True,\n",
            "  'strategy': 'mean',\n",
            "  't_r': None,\n",
            "  'target_affine': None,\n",
            "  'target_shape': None}, confounds=['/root/nilearn_data/cobre/fmri_0040066.tsv'], sample_mask=None, dtype=None, memory=Memory(location=nilearn_cache/joblib), memory_level=1, verbose=1)\n",
            "[NiftiLabelsMasker.transform_single_imgs] Loading data from /root/nilearn_data/cobre/fmri_0040066.nii.gz\n",
            "[NiftiLabelsMasker.transform_single_imgs] Extracting region signals\n",
            "[NiftiLabelsMasker.transform_single_imgs] Cleaning extracted signals\n",
            "_______________________________________________filter_and_extract - 0.5s, 0.0min\n",
            "[NiftiLabelsMasker.fit_transform] loading data from /root/nilearn_data/basc_multiscale_2015/template_cambridge_basc_multiscale_nii_sym/template_cambridge_basc_multiscale_sym_scale064.nii.gz\n",
            "________________________________________________________________________________\n",
            "[Memory] Calling nilearn.input_data.base_masker.filter_and_extract...\n",
            "filter_and_extract('/root/nilearn_data/cobre/fmri_0040086.nii.gz', <nilearn.input_data.nifti_labels_masker._ExtractionFunctor object at 0x7fdd11532cd0>, \n",
            "{ 'background_label': 0,\n",
            "  'detrend': False,\n",
            "  'dtype': None,\n",
            "  'high_pass': None,\n",
            "  'high_variance_confounds': False,\n",
            "  'labels': None,\n",
            "  'labels_img': '/root/nilearn_data/basc_multiscale_2015/template_cambridge_basc_multiscale_nii_sym/template_cambridge_basc_multiscale_sym_scale064.nii.gz',\n",
            "  'low_pass': None,\n",
            "  'mask_img': None,\n",
            "  'reports': True,\n",
            "  'smoothing_fwhm': None,\n",
            "  'standardize': True,\n",
            "  'standardize_confounds': True,\n",
            "  'strategy': 'mean',\n",
            "  't_r': None,\n",
            "  'target_affine': None,\n",
            "  'target_shape': None}, confounds=['/root/nilearn_data/cobre/fmri_0040086.tsv'], sample_mask=None, dtype=None, memory=Memory(location=nilearn_cache/joblib), memory_level=1, verbose=1)\n",
            "[NiftiLabelsMasker.transform_single_imgs] Loading data from /root/nilearn_data/cobre/fmri_0040086.nii.gz\n",
            "[NiftiLabelsMasker.transform_single_imgs] Extracting region signals\n",
            "[NiftiLabelsMasker.transform_single_imgs] Cleaning extracted signals\n",
            "_______________________________________________filter_and_extract - 0.5s, 0.0min\n"
          ]
        }
      ]
    },
    {
      "cell_type": "code",
      "source": [
        "# create pandas dataframe of features and phenotypic data\n",
        "full = pandas.merge(pheno, all_features, left_on = 'path', right_on = 'file')"
      ],
      "metadata": {
        "id": "3W-9QX9w6mD9"
      },
      "execution_count": 19,
      "outputs": []
    },
    {
      "cell_type": "code",
      "source": [
        "full"
      ],
      "metadata": {
        "colab": {
          "base_uri": "https://localhost:8080/",
          "height": 834
        },
        "id": "uDy2LcOV6nND",
        "outputId": "e0dec5b3-83f6-42fb-ff71-213d22fa733e"
      },
      "execution_count": 20,
      "outputs": [
        {
          "output_type": "execute_result",
          "data": {
            "text/html": [
              "\n",
              "  <div id=\"df-1304a7df-1a1f-49a8-8920-688b61846fe2\">\n",
              "    <div class=\"colab-df-container\">\n",
              "      <div>\n",
              "<style scoped>\n",
              "    .dataframe tbody tr th:only-of-type {\n",
              "        vertical-align: middle;\n",
              "    }\n",
              "\n",
              "    .dataframe tbody tr th {\n",
              "        vertical-align: top;\n",
              "    }\n",
              "\n",
              "    .dataframe thead th {\n",
              "        text-align: right;\n",
              "    }\n",
              "</style>\n",
              "<table border=\"1\" class=\"dataframe\">\n",
              "  <thead>\n",
              "    <tr style=\"text-align: right;\">\n",
              "      <th></th>\n",
              "      <th>id</th>\n",
              "      <th>current_age</th>\n",
              "      <th>gender</th>\n",
              "      <th>handedness</th>\n",
              "      <th>subject_type</th>\n",
              "      <th>diagnosis</th>\n",
              "      <th>frames_ok</th>\n",
              "      <th>fd</th>\n",
              "      <th>fd_scrubbed</th>\n",
              "      <th>path</th>\n",
              "      <th>features</th>\n",
              "      <th>file</th>\n",
              "    </tr>\n",
              "  </thead>\n",
              "  <tbody>\n",
              "    <tr>\n",
              "      <th>0</th>\n",
              "      <td>40061</td>\n",
              "      <td>18</td>\n",
              "      <td>Male</td>\n",
              "      <td>Right</td>\n",
              "      <td>Control</td>\n",
              "      <td>None</td>\n",
              "      <td>133</td>\n",
              "      <td>0.25512</td>\n",
              "      <td>0.22657</td>\n",
              "      <td>/root/nilearn_data/cobre/fmri_0040061.nii.gz</td>\n",
              "      <td>[0.12785325357283284, 0.2442231147941914, 0.02...</td>\n",
              "      <td>/root/nilearn_data/cobre/fmri_0040061.nii.gz</td>\n",
              "    </tr>\n",
              "    <tr>\n",
              "      <th>1</th>\n",
              "      <td>40090</td>\n",
              "      <td>18</td>\n",
              "      <td>Female</td>\n",
              "      <td>Right</td>\n",
              "      <td>Control</td>\n",
              "      <td>None</td>\n",
              "      <td>150</td>\n",
              "      <td>0.16963</td>\n",
              "      <td>0.16963</td>\n",
              "      <td>/root/nilearn_data/cobre/fmri_0040090.nii.gz</td>\n",
              "      <td>[0.05584897620356599, 0.11246991477285286, 0.0...</td>\n",
              "      <td>/root/nilearn_data/cobre/fmri_0040090.nii.gz</td>\n",
              "    </tr>\n",
              "    <tr>\n",
              "      <th>2</th>\n",
              "      <td>40046</td>\n",
              "      <td>18</td>\n",
              "      <td>Male</td>\n",
              "      <td>Left</td>\n",
              "      <td>Patient</td>\n",
              "      <td>295.70 depressed type</td>\n",
              "      <td>76</td>\n",
              "      <td>0.37504</td>\n",
              "      <td>0.30042</td>\n",
              "      <td>/root/nilearn_data/cobre/fmri_0040046.nii.gz</td>\n",
              "      <td>[0.08678037911431263, 0.06380639929294542, 0.2...</td>\n",
              "      <td>/root/nilearn_data/cobre/fmri_0040046.nii.gz</td>\n",
              "    </tr>\n",
              "    <tr>\n",
              "      <th>3</th>\n",
              "      <td>40002</td>\n",
              "      <td>19</td>\n",
              "      <td>Male</td>\n",
              "      <td>Right</td>\n",
              "      <td>Patient</td>\n",
              "      <td>295.3</td>\n",
              "      <td>67</td>\n",
              "      <td>0.40006</td>\n",
              "      <td>0.21575</td>\n",
              "      <td>/root/nilearn_data/cobre/fmri_0040002.nii.gz</td>\n",
              "      <td>[0.14562583490409123, -0.063139770457594, 0.05...</td>\n",
              "      <td>/root/nilearn_data/cobre/fmri_0040002.nii.gz</td>\n",
              "    </tr>\n",
              "    <tr>\n",
              "      <th>4</th>\n",
              "      <td>40117</td>\n",
              "      <td>19</td>\n",
              "      <td>Male</td>\n",
              "      <td>Right</td>\n",
              "      <td>Patient</td>\n",
              "      <td>295.3</td>\n",
              "      <td>133</td>\n",
              "      <td>0.20975</td>\n",
              "      <td>0.18410</td>\n",
              "      <td>/root/nilearn_data/cobre/fmri_0040117.nii.gz</td>\n",
              "      <td>[0.17462308889198713, -0.11825290188442354, -0...</td>\n",
              "      <td>/root/nilearn_data/cobre/fmri_0040117.nii.gz</td>\n",
              "    </tr>\n",
              "    <tr>\n",
              "      <th>...</th>\n",
              "      <td>...</td>\n",
              "      <td>...</td>\n",
              "      <td>...</td>\n",
              "      <td>...</td>\n",
              "      <td>...</td>\n",
              "      <td>...</td>\n",
              "      <td>...</td>\n",
              "      <td>...</td>\n",
              "      <td>...</td>\n",
              "      <td>...</td>\n",
              "      <td>...</td>\n",
              "      <td>...</td>\n",
              "    </tr>\n",
              "    <tr>\n",
              "      <th>141</th>\n",
              "      <td>40089</td>\n",
              "      <td>62</td>\n",
              "      <td>Male</td>\n",
              "      <td>Right</td>\n",
              "      <td>Patient</td>\n",
              "      <td>295.3</td>\n",
              "      <td>40</td>\n",
              "      <td>0.70368</td>\n",
              "      <td>0.72439</td>\n",
              "      <td>/root/nilearn_data/cobre/fmri_0040089.nii.gz</td>\n",
              "      <td>[0.010289989396448462, 0.05385253837185151, 0....</td>\n",
              "      <td>/root/nilearn_data/cobre/fmri_0040089.nii.gz</td>\n",
              "    </tr>\n",
              "    <tr>\n",
              "      <th>142</th>\n",
              "      <td>40040</td>\n",
              "      <td>63</td>\n",
              "      <td>Male</td>\n",
              "      <td>Right</td>\n",
              "      <td>Patient</td>\n",
              "      <td>295.3</td>\n",
              "      <td>42</td>\n",
              "      <td>0.58301</td>\n",
              "      <td>0.40646</td>\n",
              "      <td>/root/nilearn_data/cobre/fmri_0040040.nii.gz</td>\n",
              "      <td>[-0.059428113805521585, 0.005379451667067092, ...</td>\n",
              "      <td>/root/nilearn_data/cobre/fmri_0040040.nii.gz</td>\n",
              "    </tr>\n",
              "    <tr>\n",
              "      <th>143</th>\n",
              "      <td>40028</td>\n",
              "      <td>64</td>\n",
              "      <td>Male</td>\n",
              "      <td>Right</td>\n",
              "      <td>Patient</td>\n",
              "      <td>295.3</td>\n",
              "      <td>55</td>\n",
              "      <td>0.42364</td>\n",
              "      <td>0.26393</td>\n",
              "      <td>/root/nilearn_data/cobre/fmri_0040028.nii.gz</td>\n",
              "      <td>[0.15269061708862267, 0.219744937631541, 0.301...</td>\n",
              "      <td>/root/nilearn_data/cobre/fmri_0040028.nii.gz</td>\n",
              "    </tr>\n",
              "    <tr>\n",
              "      <th>144</th>\n",
              "      <td>40086</td>\n",
              "      <td>65</td>\n",
              "      <td>Male</td>\n",
              "      <td>Right</td>\n",
              "      <td>Control</td>\n",
              "      <td>None</td>\n",
              "      <td>48</td>\n",
              "      <td>0.39595</td>\n",
              "      <td>0.32296</td>\n",
              "      <td>/root/nilearn_data/cobre/fmri_0040086.nii.gz</td>\n",
              "      <td>[0.44868677474051166, -0.19578477957852558, -0...</td>\n",
              "      <td>/root/nilearn_data/cobre/fmri_0040086.nii.gz</td>\n",
              "    </tr>\n",
              "    <tr>\n",
              "      <th>145</th>\n",
              "      <td>40007</td>\n",
              "      <td>65</td>\n",
              "      <td>Female</td>\n",
              "      <td>Right</td>\n",
              "      <td>Patient</td>\n",
              "      <td>295.3</td>\n",
              "      <td>40</td>\n",
              "      <td>0.70044</td>\n",
              "      <td>0.72077</td>\n",
              "      <td>/root/nilearn_data/cobre/fmri_0040007.nii.gz</td>\n",
              "      <td>[0.0890028386073004, 0.11650348658753835, 0.30...</td>\n",
              "      <td>/root/nilearn_data/cobre/fmri_0040007.nii.gz</td>\n",
              "    </tr>\n",
              "  </tbody>\n",
              "</table>\n",
              "<p>146 rows × 12 columns</p>\n",
              "</div>\n",
              "      <button class=\"colab-df-convert\" onclick=\"convertToInteractive('df-1304a7df-1a1f-49a8-8920-688b61846fe2')\"\n",
              "              title=\"Convert this dataframe to an interactive table.\"\n",
              "              style=\"display:none;\">\n",
              "        \n",
              "  <svg xmlns=\"http://www.w3.org/2000/svg\" height=\"24px\"viewBox=\"0 0 24 24\"\n",
              "       width=\"24px\">\n",
              "    <path d=\"M0 0h24v24H0V0z\" fill=\"none\"/>\n",
              "    <path d=\"M18.56 5.44l.94 2.06.94-2.06 2.06-.94-2.06-.94-.94-2.06-.94 2.06-2.06.94zm-11 1L8.5 8.5l.94-2.06 2.06-.94-2.06-.94L8.5 2.5l-.94 2.06-2.06.94zm10 10l.94 2.06.94-2.06 2.06-.94-2.06-.94-.94-2.06-.94 2.06-2.06.94z\"/><path d=\"M17.41 7.96l-1.37-1.37c-.4-.4-.92-.59-1.43-.59-.52 0-1.04.2-1.43.59L10.3 9.45l-7.72 7.72c-.78.78-.78 2.05 0 2.83L4 21.41c.39.39.9.59 1.41.59.51 0 1.02-.2 1.41-.59l7.78-7.78 2.81-2.81c.8-.78.8-2.07 0-2.86zM5.41 20L4 18.59l7.72-7.72 1.47 1.35L5.41 20z\"/>\n",
              "  </svg>\n",
              "      </button>\n",
              "      \n",
              "  <style>\n",
              "    .colab-df-container {\n",
              "      display:flex;\n",
              "      flex-wrap:wrap;\n",
              "      gap: 12px;\n",
              "    }\n",
              "\n",
              "    .colab-df-convert {\n",
              "      background-color: #E8F0FE;\n",
              "      border: none;\n",
              "      border-radius: 50%;\n",
              "      cursor: pointer;\n",
              "      display: none;\n",
              "      fill: #1967D2;\n",
              "      height: 32px;\n",
              "      padding: 0 0 0 0;\n",
              "      width: 32px;\n",
              "    }\n",
              "\n",
              "    .colab-df-convert:hover {\n",
              "      background-color: #E2EBFA;\n",
              "      box-shadow: 0px 1px 2px rgba(60, 64, 67, 0.3), 0px 1px 3px 1px rgba(60, 64, 67, 0.15);\n",
              "      fill: #174EA6;\n",
              "    }\n",
              "\n",
              "    [theme=dark] .colab-df-convert {\n",
              "      background-color: #3B4455;\n",
              "      fill: #D2E3FC;\n",
              "    }\n",
              "\n",
              "    [theme=dark] .colab-df-convert:hover {\n",
              "      background-color: #434B5C;\n",
              "      box-shadow: 0px 1px 3px 1px rgba(0, 0, 0, 0.15);\n",
              "      filter: drop-shadow(0px 1px 2px rgba(0, 0, 0, 0.3));\n",
              "      fill: #FFFFFF;\n",
              "    }\n",
              "  </style>\n",
              "\n",
              "      <script>\n",
              "        const buttonEl =\n",
              "          document.querySelector('#df-1304a7df-1a1f-49a8-8920-688b61846fe2 button.colab-df-convert');\n",
              "        buttonEl.style.display =\n",
              "          google.colab.kernel.accessAllowed ? 'block' : 'none';\n",
              "\n",
              "        async function convertToInteractive(key) {\n",
              "          const element = document.querySelector('#df-1304a7df-1a1f-49a8-8920-688b61846fe2');\n",
              "          const dataTable =\n",
              "            await google.colab.kernel.invokeFunction('convertToInteractive',\n",
              "                                                     [key], {});\n",
              "          if (!dataTable) return;\n",
              "\n",
              "          const docLinkHtml = 'Like what you see? Visit the ' +\n",
              "            '<a target=\"_blank\" href=https://colab.research.google.com/notebooks/data_table.ipynb>data table notebook</a>'\n",
              "            + ' to learn more about interactive tables.';\n",
              "          element.innerHTML = '';\n",
              "          dataTable['output_type'] = 'display_data';\n",
              "          await google.colab.output.renderOutput(dataTable, element);\n",
              "          const docLink = document.createElement('div');\n",
              "          docLink.innerHTML = docLinkHtml;\n",
              "          element.appendChild(docLink);\n",
              "        }\n",
              "      </script>\n",
              "    </div>\n",
              "  </div>\n",
              "  "
            ],
            "text/plain": [
              "        id  ...                                          file\n",
              "0    40061  ...  /root/nilearn_data/cobre/fmri_0040061.nii.gz\n",
              "1    40090  ...  /root/nilearn_data/cobre/fmri_0040090.nii.gz\n",
              "2    40046  ...  /root/nilearn_data/cobre/fmri_0040046.nii.gz\n",
              "3    40002  ...  /root/nilearn_data/cobre/fmri_0040002.nii.gz\n",
              "4    40117  ...  /root/nilearn_data/cobre/fmri_0040117.nii.gz\n",
              "..     ...  ...                                           ...\n",
              "141  40089  ...  /root/nilearn_data/cobre/fmri_0040089.nii.gz\n",
              "142  40040  ...  /root/nilearn_data/cobre/fmri_0040040.nii.gz\n",
              "143  40028  ...  /root/nilearn_data/cobre/fmri_0040028.nii.gz\n",
              "144  40086  ...  /root/nilearn_data/cobre/fmri_0040086.nii.gz\n",
              "145  40007  ...  /root/nilearn_data/cobre/fmri_0040007.nii.gz\n",
              "\n",
              "[146 rows x 12 columns]"
            ]
          },
          "metadata": {},
          "execution_count": 20
        }
      ]
    },
    {
      "cell_type": "code",
      "source": [
        "full.diagnosis.value_counts()"
      ],
      "metadata": {
        "colab": {
          "base_uri": "https://localhost:8080/"
        },
        "id": "BK9awVie7Hgt",
        "outputId": "d60c243d-0981-4de4-d655-f1fc17872f5d"
      },
      "execution_count": 21,
      "outputs": [
        {
          "output_type": "execute_result",
          "data": {
            "text/plain": [
              "None                     72\n",
              "295.3                    41\n",
              "295.6                    12\n",
              "295.9                     5\n",
              "295.7                     5\n",
              "295.1                     3\n",
              "311                       1\n",
              "295.70 depressed type     1\n",
              "295.92                    1\n",
              "290.3                     1\n",
              "295.2                     1\n",
              "296.26                    1\n",
              "295.70 bipolar type       1\n",
              "296.4                     1\n",
              "Name: diagnosis, dtype: int64"
            ]
          },
          "metadata": {},
          "execution_count": 21
        }
      ]
    },
    {
      "cell_type": "code",
      "source": [
        "# creating a new variable for subtype\n",
        "diagnosis=[]\n",
        "\n",
        "for i in full.index:\n",
        "    if full.loc[i, 'diagnosis']=='295.3':\n",
        "        diagnosis.append('Paranoid')\n",
        "    elif full.loc[i, 'diagnosis']=='None':\n",
        "        diagnosis.append('None')\n",
        "    else:\n",
        "        diagnosis.append('Other')\n",
        "        \n",
        "full['type'] = diagnosis"
      ],
      "metadata": {
        "id": "6BuUhTB07R0c"
      },
      "execution_count": 22,
      "outputs": []
    },
    {
      "cell_type": "code",
      "source": [
        "from sklearn.model_selection import train_test_split\n",
        "\n",
        "# Split the sample to training/validation with a 80/20 ratio\n",
        "\n",
        "x_train2, x_val2, y_train2, y_val2 = train_test_split(\n",
        "                                                    list(full['features']), # x\n",
        "                                                    full['type'], # y\n",
        "                                                    test_size = 0.2, # 80%/20% split  \n",
        "                                                    shuffle = True, # shuffle dataset\n",
        "                                                    stratify = full['type'],\n",
        "                                                    random_state = 242 \n",
        "                                                                       )"
      ],
      "metadata": {
        "id": "_H-Ck4IC7VyW"
      },
      "execution_count": 23,
      "outputs": []
    },
    {
      "cell_type": "code",
      "source": [
        "from sklearn.model_selection import cross_val_score\n"
      ],
      "metadata": {
        "id": "k7xtvcMM7pYS"
      },
      "execution_count": 26,
      "outputs": []
    },
    {
      "cell_type": "code",
      "source": [
        "import numpy as np\n",
        "import matplotlib.pyplot as plt\n",
        "from sklearn.neural_network import MLPClassifier\n",
        "from sklearn.neighbors import KNeighborsClassifier\n",
        "from sklearn.svm import SVC\n",
        "from sklearn.gaussian_process import GaussianProcessClassifier\n",
        "from sklearn.gaussian_process.kernels import RBF\n",
        "from sklearn.tree import DecisionTreeClassifier\n",
        "from sklearn.ensemble import RandomForestClassifier, AdaBoostClassifier\n",
        "from sklearn.naive_bayes import GaussianNB\n",
        "\n",
        "np.random.seed(242)\n",
        "\n",
        "names = [\"Nearest Neighbors\", \"Linear SVM\", \"RBF SVM\", \"Gaussian Process\",\n",
        "         \"Decision Tree\", \"Random Forest\", \"Neural Net\", \"AdaBoost\",\n",
        "         \"Naive Bayes\"]\n",
        "\n",
        "classifiers = [\n",
        "    KNeighborsClassifier(3),\n",
        "    SVC(kernel=\"linear\"),\n",
        "    SVC(gamma=2, C=1),\n",
        "    GaussianProcessClassifier(1.0 * RBF(1.0)),\n",
        "    DecisionTreeClassifier(max_depth=5),\n",
        "    RandomForestClassifier(max_depth=5, n_estimators=10, max_features=1),\n",
        "    MLPClassifier(alpha=1, max_iter=1000),\n",
        "    AdaBoostClassifier(),\n",
        "    GaussianNB()]\n",
        "\n",
        "for name, clf in zip(names, classifiers):\n",
        "        \n",
        "        score = cross_val_score(clf, x_train2, y_train2, cv=10, scoring='f1_macro')\n",
        "        \n",
        "        print(name, np.mean(score))"
      ],
      "metadata": {
        "colab": {
          "base_uri": "https://localhost:8080/"
        },
        "id": "mDdiiKG17eJ4",
        "outputId": "7e01d22c-e61f-470b-a02c-a64f426b82ab"
      },
      "execution_count": 27,
      "outputs": [
        {
          "output_type": "stream",
          "name": "stdout",
          "text": [
            "Nearest Neighbors 0.39345543345543355\n",
            "Linear SVM 0.4076200651200651\n",
            "RBF SVM 0.21960784313725487\n",
            "Gaussian Process 0.1431135531135531\n",
            "Decision Tree 0.34980260480260483\n",
            "Random Forest 0.36240516564045977\n",
            "Neural Net 0.3840762723115664\n",
            "AdaBoost 0.3908056540409482\n",
            "Naive Bayes 0.41458892958892957\n"
          ]
        }
      ]
    },
    {
      "cell_type": "code",
      "source": [
        "from sklearn.metrics import f1_score, accuracy_score"
      ],
      "metadata": {
        "id": "Do0x5I1r8Fzh"
      },
      "execution_count": 29,
      "outputs": []
    },
    {
      "cell_type": "code",
      "source": [
        "# Validation\n",
        "NB = GaussianNB()\n",
        "\n",
        "NB.fit(x_train2, y_train2)\n",
        "type_pred = NB.predict(x_val2)\n",
        "f1_score(y_val2, type_pred, average='macro')"
      ],
      "metadata": {
        "colab": {
          "base_uri": "https://localhost:8080/"
        },
        "id": "yh2iQVi_7yUY",
        "outputId": "365e6a71-a76c-46eb-8a03-26cc4c6221b2"
      },
      "execution_count": 30,
      "outputs": [
        {
          "output_type": "execute_result",
          "data": {
            "text/plain": [
              "0.4464646464646464"
            ]
          },
          "metadata": {},
          "execution_count": 30
        }
      ]
    },
    {
      "cell_type": "code",
      "source": [
        "import matplotlib.pyplot as plt\n",
        "from sklearn.metrics import plot_confusion_matrix\n",
        "\n",
        "\n",
        "disp = plot_confusion_matrix(NB, x_val2, y_val2,\n",
        "                                 #display_labels=class_names,\n",
        "                                 cmap=plt.cm.Blues,\n",
        "                                 normalize=None)\n",
        "disp.ax_.set_title('Naive Bayes: Schizophrenia Type')\n",
        "\n",
        "\n",
        "print(disp.confusion_matrix)"
      ],
      "metadata": {
        "colab": {
          "base_uri": "https://localhost:8080/",
          "height": 402
        },
        "id": "Ui8O6DgO8M2C",
        "outputId": "fb3fa722-6230-411c-ae0b-6d9fc30ad90a"
      },
      "execution_count": 31,
      "outputs": [
        {
          "output_type": "stream",
          "name": "stderr",
          "text": [
            "/usr/local/lib/python3.7/dist-packages/sklearn/utils/deprecation.py:87: FutureWarning: Function plot_confusion_matrix is deprecated; Function `plot_confusion_matrix` is deprecated in 1.0 and will be removed in 1.2. Use one of the class methods: ConfusionMatrixDisplay.from_predictions or ConfusionMatrixDisplay.from_estimator.\n",
            "  warnings.warn(msg, category=FutureWarning)\n"
          ]
        },
        {
          "output_type": "stream",
          "name": "stdout",
          "text": [
            "[[10  3  2]\n",
            " [ 4  3  0]\n",
            " [ 4  2  2]]\n"
          ]
        },
        {
          "output_type": "display_data",
          "data": {
            "image/png": "[encoded data removed]",
            "text/plain": [
              "<Figure size 432x288 with 2 Axes>"
            ]
          },
          "metadata": {
            "needs_background": "light"
          }
        }
      ]
    }
  ]
}