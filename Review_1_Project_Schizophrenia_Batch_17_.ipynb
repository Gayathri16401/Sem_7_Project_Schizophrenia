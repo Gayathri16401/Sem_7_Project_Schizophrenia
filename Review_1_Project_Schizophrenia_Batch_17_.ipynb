{
  "nbformat": 4,
  "nbformat_minor": 0,
  "metadata": {
    "colab": {
      "name": "Review 1 Project Schizophrenia - Batch 17 .ipynb",
      "provenance": [],
      "authorship_tag": "ABX9TyNKjOxWtmpcuYZxukukIX2q",
      "include_colab_link": true
    },
    "kernelspec": {
      "name": "python3",
      "display_name": "Python 3"
    },
    "language_info": {
      "name": "python"
    },
    "widgets": {
      "application/vnd.jupyter.widget-state+json": {
        "f03a2094a4d14b8eb2764c0bc688aaa4": {
          "model_module": "@jupyter-widgets/controls",
          "model_name": "VBoxModel",
          "model_module_version": "1.5.0",
          "state": {
            "_view_name": "VBoxView",
            "_dom_classes": [
              "widget-interact"
            ],
            "_model_name": "VBoxModel",
            "_view_module": "@jupyter-widgets/controls",
            "_model_module_version": "1.5.0",
            "_view_count": null,
            "_view_module_version": "1.5.0",
            "box_style": "",
            "layout": "IPY_MODEL_4afa65cf60a7484c9280ae69379e7205",
            "_model_module": "@jupyter-widgets/controls",
            "children": [
              "IPY_MODEL_d166d096c2634a3cb69868b782e63a1b",
              "IPY_MODEL_3579f105d0fe47408bdee42a06384c27"
            ]
          }
        },
        "4afa65cf60a7484c9280ae69379e7205": {
          "model_module": "@jupyter-widgets/base",
          "model_name": "LayoutModel",
          "model_module_version": "1.2.0",
          "state": {
            "_view_name": "LayoutView",
            "grid_template_rows": null,
            "right": null,
            "justify_content": null,
            "_view_module": "@jupyter-widgets/base",
            "overflow": null,
            "_model_module_version": "1.2.0",
            "_view_count": null,
            "flex_flow": null,
            "width": null,
            "min_width": null,
            "border": null,
            "align_items": null,
            "bottom": null,
            "_model_module": "@jupyter-widgets/base",
            "top": null,
            "grid_column": null,
            "overflow_y": null,
            "overflow_x": null,
            "grid_auto_flow": null,
            "grid_area": null,
            "grid_template_columns": null,
            "flex": null,
            "_model_name": "LayoutModel",
            "justify_items": null,
            "grid_row": null,
            "max_height": null,
            "align_content": null,
            "visibility": null,
            "align_self": null,
            "height": null,
            "min_height": null,
            "padding": null,
            "grid_auto_rows": null,
            "grid_gap": null,
            "max_width": null,
            "order": null,
            "_view_module_version": "1.2.0",
            "grid_template_areas": null,
            "object_position": null,
            "object_fit": null,
            "grid_auto_columns": null,
            "margin": null,
            "display": null,
            "left": null
          }
        },
        "d166d096c2634a3cb69868b782e63a1b": {
          "model_module": "@jupyter-widgets/controls",
          "model_name": "DropdownModel",
          "model_module_version": "1.5.0",
          "state": {
            "_options_labels": [
              "Patients",
              "Controls"
            ],
            "_view_name": "DropdownView",
            "style": "IPY_MODEL_83cdf24405d142c4bd0d63535584dd18",
            "_dom_classes": [],
            "description": "subset",
            "_model_name": "DropdownModel",
            "index": 1,
            "_view_module": "@jupyter-widgets/controls",
            "_model_module_version": "1.5.0",
            "_view_count": null,
            "disabled": false,
            "_view_module_version": "1.5.0",
            "description_tooltip": null,
            "_model_module": "@jupyter-widgets/controls",
            "layout": "IPY_MODEL_76f1ec560e4d4f168be447219b6f60e4"
          }
        },
        "3579f105d0fe47408bdee42a06384c27": {
          "model_module": "@jupyter-widgets/output",
          "model_name": "OutputModel",
          "model_module_version": "1.0.0",
          "state": {
            "_view_name": "OutputView",
            "msg_id": "",
            "_dom_classes": [],
            "_model_name": "OutputModel",
            "outputs": [
              {
                "output_type": "display_data",
                "data": {
                  "image/png": "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\n",
                  "text/plain": "<Figure size 720x576 with 2 Axes>"
                },
                "metadata": {
                  "needs_background": "light"
                }
              }
            ],
            "_view_module": "@jupyter-widgets/output",
            "_model_module_version": "1.0.0",
            "_view_count": null,
            "_view_module_version": "1.0.0",
            "layout": "IPY_MODEL_507e57beb8144129a6c13fc3ac9921c4",
            "_model_module": "@jupyter-widgets/output"
          }
        },
        "83cdf24405d142c4bd0d63535584dd18": {
          "model_module": "@jupyter-widgets/controls",
          "model_name": "DescriptionStyleModel",
          "model_module_version": "1.5.0",
          "state": {
            "_view_name": "StyleView",
            "_model_name": "DescriptionStyleModel",
            "description_width": "",
            "_view_module": "@jupyter-widgets/base",
            "_model_module_version": "1.5.0",
            "_view_count": null,
            "_view_module_version": "1.2.0",
            "_model_module": "@jupyter-widgets/controls"
          }
        },
        "76f1ec560e4d4f168be447219b6f60e4": {
          "model_module": "@jupyter-widgets/base",
          "model_name": "LayoutModel",
          "model_module_version": "1.2.0",
          "state": {
            "_view_name": "LayoutView",
            "grid_template_rows": null,
            "right": null,
            "justify_content": null,
            "_view_module": "@jupyter-widgets/base",
            "overflow": null,
            "_model_module_version": "1.2.0",
            "_view_count": null,
            "flex_flow": null,
            "width": null,
            "min_width": null,
            "border": null,
            "align_items": null,
            "bottom": null,
            "_model_module": "@jupyter-widgets/base",
            "top": null,
            "grid_column": null,
            "overflow_y": null,
            "overflow_x": null,
            "grid_auto_flow": null,
            "grid_area": null,
            "grid_template_columns": null,
            "flex": null,
            "_model_name": "LayoutModel",
            "justify_items": null,
            "grid_row": null,
            "max_height": null,
            "align_content": null,
            "visibility": null,
            "align_self": null,
            "height": null,
            "min_height": null,
            "padding": null,
            "grid_auto_rows": null,
            "grid_gap": null,
            "max_width": null,
            "order": null,
            "_view_module_version": "1.2.0",
            "grid_template_areas": null,
            "object_position": null,
            "object_fit": null,
            "grid_auto_columns": null,
            "margin": null,
            "display": null,
            "left": null
          }
        },
        "507e57beb8144129a6c13fc3ac9921c4": {
          "model_module": "@jupyter-widgets/base",
          "model_name": "LayoutModel",
          "model_module_version": "1.2.0",
          "state": {
            "_view_name": "LayoutView",
            "grid_template_rows": null,
            "right": null,
            "justify_content": null,
            "_view_module": "@jupyter-widgets/base",
            "overflow": null,
            "_model_module_version": "1.2.0",
            "_view_count": null,
            "flex_flow": null,
            "width": null,
            "min_width": null,
            "border": null,
            "align_items": null,
            "bottom": null,
            "_model_module": "@jupyter-widgets/base",
            "top": null,
            "grid_column": null,
            "overflow_y": null,
            "overflow_x": null,
            "grid_auto_flow": null,
            "grid_area": null,
            "grid_template_columns": null,
            "flex": null,
            "_model_name": "LayoutModel",
            "justify_items": null,
            "grid_row": null,
            "max_height": null,
            "align_content": null,
            "visibility": null,
            "align_self": null,
            "height": null,
            "min_height": null,
            "padding": null,
            "grid_auto_rows": null,
            "grid_gap": null,
            "max_width": null,
            "order": null,
            "_view_module_version": "1.2.0",
            "grid_template_areas": null,
            "object_position": null,
            "object_fit": null,
            "grid_auto_columns": null,
            "margin": null,
            "display": null,
            "left": null
          }
        }
      }
    }
  },
  "cells": [
    {
      "cell_type": "markdown",
      "metadata": {
        "id": "view-in-github",
        "colab_type": "text"
      },
      "source": [
        "<a href=\"https://colab.research.google.com/github/Gayathri16401/Sem_7_Project_Schizophrenia/blob/main/Review_1_Project_Schizophrenia_Batch_17_.ipynb\" target=\"_parent\"><img src=\"https://colab.research.google.com/assets/colab-badge.svg\" alt=\"Open In Colab\"/></a>"
      ]
    },
    {
      "cell_type": "markdown",
      "metadata": {
        "id": "8OosoWb-PD-n"
      },
      "source": [
        "# **BATCH 17**\n",
        "###**An hybrid approach for Schizophrenia disorder classification using MRI data**"
      ]
    },
    {
      "cell_type": "markdown",
      "metadata": {
        "id": "Gg7AV56oPUz4"
      },
      "source": [
        "###                                   **Dataset**\n",
        "**Nilearn**\n",
        "\n",
        "Nilearn enables approachable and versatile analyses of brain volumes. It provides statistical and machine-learning tools, with instructive documentation & open community.\n",
        "\n",
        "---\n",
        "\n",
        "\n",
        "\n",
        "**COBRE**\n",
        "\n",
        "The Center for Biomedical Research Excellence (COBRE) is contributing raw anatomical and functional MR data from 72 patients with Schizophrenia and 75 healthy controls (ages ranging from 18 to 65 in each group).\n",
        "\n",
        "---"
      ]
    },
    {
      "cell_type": "code",
      "metadata": {
        "colab": {
          "base_uri": "https://localhost:8080/"
        },
        "id": "U8IAykezO23c",
        "outputId": "445bb977-751d-403e-e1a4-2919dad8e3c7"
      },
      "source": [
        "#import data\n",
        "from nilearn import datasets\n",
        "data = datasets.fetch_cobre(n_subjects=None)\n",
        "\n",
        "#import atlas\n",
        "parcellations = datasets.fetch_atlas_basc_multiscale_2015(version='sym')\n",
        "atlas_filename = parcellations.scale064"
      ],
      "execution_count": null,
      "outputs": [
        {
          "output_type": "stream",
          "name": "stderr",
          "text": [
            "/usr/local/lib/python3.7/dist-packages/nilearn/datasets/__init__.py:89: FutureWarning: Fetchers from the nilearn.datasets module will be updated in version 0.9 to return python strings instead of bytes and Pandas dataframes instead of Numpy arrays.\n",
            "  \"Numpy arrays.\", FutureWarning)\n",
            "/usr/local/lib/python3.7/dist-packages/sklearn/utils/deprecation.py:87: FutureWarning: Function fetch_cobre is deprecated; 'fetch_cobre' has been deprecated and will be removed in release 0.9 . Please consider using a different datasets or downloading it with a different tool than nilearn.\n",
            "  warnings.warn(msg, category=FutureWarning)\n"
          ]
        },
        {
          "output_type": "stream",
          "name": "stdout",
          "text": [
            "\n",
            "Dataset created in /root/nilearn_data/cobre\n",
            "\n",
            "Downloading data from https://api.figshare.com/v2/articles/4197885 ...\n"
          ]
        },
        {
          "output_type": "stream",
          "name": "stderr",
          "text": [
            " ...done. (2 seconds, 0 min)\n"
          ]
        },
        {
          "output_type": "stream",
          "name": "stdout",
          "text": [
            "Downloading data from https://ndownloader.figshare.com/files/6849063 ...\n"
          ]
        },
        {
          "output_type": "stream",
          "name": "stderr",
          "text": [
            " ...done. (1 seconds, 0 min)\n",
            "Extracting data from /root/nilearn_data/cobre/bbfb27073f7305ba75f231550ad51673/phenotypic_data.tsv.gz..... done.\n",
            "/usr/local/lib/python3.7/dist-packages/numpy/lib/npyio.py:2349: VisibleDeprecationWarning: Reading unicode strings without specifying the encoding argument is deprecated. Set the encoding, use None for the system default.\n",
            "  output = genfromtxt(fname, **kwargs)\n"
          ]
        },
        {
          "output_type": "stream",
          "name": "stdout",
          "text": [
            "Downloading data from https://ndownloader.figshare.com/files/6848454 ...\n"
          ]
        },
        {
          "output_type": "stream",
          "name": "stderr",
          "text": [
            "\rDownloaded 2244608 of 4575042 bytes (49.1%,    1.1s remaining) ...done. (2 seconds, 0 min)\n"
          ]
        },
        {
          "output_type": "stream",
          "name": "stdout",
          "text": [
            "Downloading data from https://ndownloader.figshare.com/files/6848457 ...\n"
          ]
        },
        {
          "output_type": "stream",
          "name": "stderr",
          "text": [
            " ...done. (0 seconds, 0 min)\n",
            "Extracting data from /root/nilearn_data/cobre/0cd5e97478f9a8e664a01eb1c6ba17e1/fmri_0040046.tsv.gz..... done.\n"
          ]
        },
        {
          "output_type": "stream",
          "name": "stdout",
          "text": [
            "Downloading data from https://ndownloader.figshare.com/files/6848190 ...\n"
          ]
        },
        {
          "output_type": "stream",
          "name": "stderr",
          "text": [
            "\rDownloaded 3448832 of 4479849 bytes (77.0%,    0.3s remaining) ...done. (2 seconds, 0 min)\n"
          ]
        },
        {
          "output_type": "stream",
          "name": "stdout",
          "text": [
            "Downloading data from https://ndownloader.figshare.com/files/6848193 ...\n"
          ]
        },
        {
          "output_type": "stream",
          "name": "stderr",
          "text": [
            " ...done. (0 seconds, 0 min)\n",
            "Extracting data from /root/nilearn_data/cobre/0822cabbe39213c28b7a33bea04f0ae9/fmri_0040002.tsv.gz..... done.\n"
          ]
        },
        {
          "output_type": "stream",
          "name": "stdout",
          "text": [
            "Downloading data from https://ndownloader.figshare.com/files/6848868 ...\n"
          ]
        },
        {
          "output_type": "stream",
          "name": "stderr",
          "text": [
            "\rDownloaded 2703360 of 4446722 bytes (60.8%,    0.7s remaining) ...done. (2 seconds, 0 min)\n"
          ]
        },
        {
          "output_type": "stream",
          "name": "stdout",
          "text": [
            "Downloading data from https://ndownloader.figshare.com/files/6848871 ...\n"
          ]
        },
        {
          "output_type": "stream",
          "name": "stderr",
          "text": [
            " ...done. (0 seconds, 0 min)\n",
            "Extracting data from /root/nilearn_data/cobre/3ea49b064cdc65d4ac19c58b94369d5a/fmri_0040117.tsv.gz..... done.\n"
          ]
        },
        {
          "output_type": "stream",
          "name": "stdout",
          "text": [
            "Downloading data from https://ndownloader.figshare.com/files/6849036 ...\n"
          ]
        },
        {
          "output_type": "stream",
          "name": "stderr",
          "text": [
            "\rDownloaded 2908160 of 4614105 bytes (63.0%,    0.6s remaining) ...done. (2 seconds, 0 min)\n"
          ]
        },
        {
          "output_type": "stream",
          "name": "stdout",
          "text": [
            "Downloading data from https://ndownloader.figshare.com/files/6849039 ...\n"
          ]
        },
        {
          "output_type": "stream",
          "name": "stderr",
          "text": [
            " ...done. (0 seconds, 0 min)\n",
            "Extracting data from /root/nilearn_data/cobre/4abc23195f714fbb210d677f34285d5d/fmri_0040145.tsv.gz..... done.\n"
          ]
        },
        {
          "output_type": "stream",
          "name": "stdout",
          "text": [
            "Downloading data from https://ndownloader.figshare.com/files/6848178 ...\n"
          ]
        },
        {
          "output_type": "stream",
          "name": "stderr",
          "text": [
            "\rDownloaded 3989504 of 4560443 bytes (87.5%,    0.2s remaining) ...done. (2 seconds, 0 min)\n"
          ]
        },
        {
          "output_type": "stream",
          "name": "stdout",
          "text": [
            "Downloading data from https://ndownloader.figshare.com/files/6848181 ...\n"
          ]
        },
        {
          "output_type": "stream",
          "name": "stderr",
          "text": [
            " ...done. (0 seconds, 0 min)\n",
            "Extracting data from /root/nilearn_data/cobre/a7b5152347d1e56591484acae177b77d/fmri_0040000.tsv.gz..... done.\n"
          ]
        },
        {
          "output_type": "stream",
          "name": "stdout",
          "text": [
            "Downloading data from https://ndownloader.figshare.com/files/6848352 ...\n"
          ]
        },
        {
          "output_type": "stream",
          "name": "stderr",
          "text": [
            "\rDownloaded 2629632 of 4303893 bytes (61.1%,    0.7s remaining) ...done. (2 seconds, 0 min)\n"
          ]
        },
        {
          "output_type": "stream",
          "name": "stdout",
          "text": [
            "Downloading data from https://ndownloader.figshare.com/files/6848355 ...\n"
          ]
        },
        {
          "output_type": "stream",
          "name": "stderr",
          "text": [
            " ...done. (0 seconds, 0 min)\n",
            "Extracting data from /root/nilearn_data/cobre/f1549b465246de612b4ab314805d9a4e/fmri_0040029.tsv.gz..... done.\n"
          ]
        },
        {
          "output_type": "stream",
          "name": "stdout",
          "text": [
            "Downloading data from https://ndownloader.figshare.com/files/6848964 ...\n"
          ]
        },
        {
          "output_type": "stream",
          "name": "stderr",
          "text": [
            "\rDownloaded 3448832 of 4499372 bytes (76.7%,    0.3s remaining) ...done. (2 seconds, 0 min)\n"
          ]
        },
        {
          "output_type": "stream",
          "name": "stdout",
          "text": [
            "Downloading data from https://ndownloader.figshare.com/files/6848967 ...\n"
          ]
        },
        {
          "output_type": "stream",
          "name": "stderr",
          "text": [
            " ...done. (0 seconds, 0 min)\n",
            "Extracting data from /root/nilearn_data/cobre/c40fbbae26164964a850266b5eab9c1b/fmri_0040133.tsv.gz..... done.\n"
          ]
        },
        {
          "output_type": "stream",
          "name": "stdout",
          "text": [
            "Downloading data from https://ndownloader.figshare.com/files/6848304 ...\n"
          ]
        },
        {
          "output_type": "stream",
          "name": "stderr",
          "text": [
            "\rDownloaded 2859008 of 4514752 bytes (63.3%,    0.6s remaining) ...done. (2 seconds, 0 min)\n"
          ]
        },
        {
          "output_type": "stream",
          "name": "stdout",
          "text": [
            "Downloading data from https://ndownloader.figshare.com/files/6848307 ...\n"
          ]
        },
        {
          "output_type": "stream",
          "name": "stderr",
          "text": [
            " ...done. (0 seconds, 0 min)\n",
            "Extracting data from /root/nilearn_data/cobre/a93fad3aad3897219b9761fd2b3673c2/fmri_0040021.tsv.gz..... done.\n"
          ]
        },
        {
          "output_type": "stream",
          "name": "stdout",
          "text": [
            "Downloading data from https://ndownloader.figshare.com/files/6848988 ...\n"
          ]
        },
        {
          "output_type": "stream",
          "name": "stderr",
          "text": [
            "\rDownloaded 2875392 of 4081189 bytes (70.5%,    0.5s remaining) ...done. (2 seconds, 0 min)\n"
          ]
        },
        {
          "output_type": "stream",
          "name": "stdout",
          "text": [
            "Downloading data from https://ndownloader.figshare.com/files/6848991 ...\n"
          ]
        },
        {
          "output_type": "stream",
          "name": "stderr",
          "text": [
            " ...done. (0 seconds, 0 min)\n",
            "Extracting data from /root/nilearn_data/cobre/074e1a811ce944695346377d70f9971a/fmri_0040137.tsv.gz..... done.\n"
          ]
        },
        {
          "output_type": "stream",
          "name": "stdout",
          "text": [
            "Downloading data from https://ndownloader.figshare.com/files/6848676 ...\n"
          ]
        },
        {
          "output_type": "stream",
          "name": "stderr",
          "text": [
            "\rDownloaded 2244608 of 4639152 bytes (48.4%,    1.2s remaining) ...done. (2 seconds, 0 min)\n"
          ]
        },
        {
          "output_type": "stream",
          "name": "stdout",
          "text": [
            "Downloading data from https://ndownloader.figshare.com/files/6848679 ...\n"
          ]
        },
        {
          "output_type": "stream",
          "name": "stderr",
          "text": [
            " ...done. (0 seconds, 0 min)\n",
            "Extracting data from /root/nilearn_data/cobre/9294cb1e05427bb3045d3975619b0890/fmri_0040085.tsv.gz..... done.\n"
          ]
        },
        {
          "output_type": "stream",
          "name": "stdout",
          "text": [
            "Downloading data from https://ndownloader.figshare.com/files/6848742 ...\n"
          ]
        },
        {
          "output_type": "stream",
          "name": "stderr",
          "text": [
            "\rDownloaded 1343488 of 4343132 bytes (30.9%,    2.4s remaining) ...done. (2 seconds, 0 min)\n"
          ]
        },
        {
          "output_type": "stream",
          "name": "stdout",
          "text": [
            "Downloading data from https://ndownloader.figshare.com/files/6848745 ...\n"
          ]
        },
        {
          "output_type": "stream",
          "name": "stderr",
          "text": [
            " ...done. (0 seconds, 0 min)\n",
            "Extracting data from /root/nilearn_data/cobre/fe30ad948ff3c61ea5a8219012168901/fmri_0040096.tsv.gz..... done.\n"
          ]
        },
        {
          "output_type": "stream",
          "name": "stdout",
          "text": [
            "Downloading data from https://ndownloader.figshare.com/files/6848898 ...\n"
          ]
        },
        {
          "output_type": "stream",
          "name": "stderr",
          "text": [
            "\rDownloaded 2424832 of 4407737 bytes (55.0%,    0.9s remaining) ...done. (2 seconds, 0 min)\n"
          ]
        },
        {
          "output_type": "stream",
          "name": "stdout",
          "text": [
            "Downloading data from https://ndownloader.figshare.com/files/6848901 ...\n"
          ]
        },
        {
          "output_type": "stream",
          "name": "stderr",
          "text": [
            " ...done. (0 seconds, 0 min)\n",
            "Extracting data from /root/nilearn_data/cobre/3c999b44ec4999b7d2da82ecd0e749ec/fmri_0040122.tsv.gz..... done.\n"
          ]
        },
        {
          "output_type": "stream",
          "name": "stdout",
          "text": [
            "Downloading data from https://ndownloader.figshare.com/files/6848310 ...\n"
          ]
        },
        {
          "output_type": "stream",
          "name": "stderr",
          "text": [
            "\rDownloaded 3293184 of 4371608 bytes (75.3%,    0.4s remaining) ...done. (2 seconds, 0 min)\n"
          ]
        },
        {
          "output_type": "stream",
          "name": "stdout",
          "text": [
            "Downloading data from https://ndownloader.figshare.com/files/6848313 ...\n"
          ]
        },
        {
          "output_type": "stream",
          "name": "stderr",
          "text": [
            " ...done. (0 seconds, 0 min)\n",
            "Extracting data from /root/nilearn_data/cobre/456d859c3569e8f5962b80e096330062/fmri_0040022.tsv.gz..... done.\n"
          ]
        },
        {
          "output_type": "stream",
          "name": "stdout",
          "text": [
            "Downloading data from https://ndownloader.figshare.com/files/6848610 ...\n"
          ]
        },
        {
          "output_type": "stream",
          "name": "stderr",
          "text": [
            "\rDownloaded 2367488 of 4424854 bytes (53.5%,    0.9s remaining) ...done. (2 seconds, 0 min)\n"
          ]
        },
        {
          "output_type": "stream",
          "name": "stdout",
          "text": [
            "Downloading data from https://ndownloader.figshare.com/files/6848613 ...\n"
          ]
        },
        {
          "output_type": "stream",
          "name": "stderr",
          "text": [
            " ...done. (0 seconds, 0 min)\n",
            "Extracting data from /root/nilearn_data/cobre/2ea61e582fc3521ee2bbc6746f6184f8/fmri_0040073.tsv.gz..... done.\n"
          ]
        },
        {
          "output_type": "stream",
          "name": "stdout",
          "text": [
            "Downloading data from https://ndownloader.figshare.com/files/6849018 ...\n"
          ]
        },
        {
          "output_type": "stream",
          "name": "stderr",
          "text": [
            "\rDownloaded 3203072 of 4546119 bytes (70.5%,    0.5s remaining) ...done. (2 seconds, 0 min)\n"
          ]
        },
        {
          "output_type": "stream",
          "name": "stdout",
          "text": [
            "Downloading data from https://ndownloader.figshare.com/files/6849021 ...\n"
          ]
        },
        {
          "output_type": "stream",
          "name": "stderr",
          "text": [
            " ...done. (0 seconds, 0 min)\n",
            "Extracting data from /root/nilearn_data/cobre/c6d5bd48a8b3c543c02e280f636e1c63/fmri_0040142.tsv.gz..... done.\n"
          ]
        },
        {
          "output_type": "stream",
          "name": "stdout",
          "text": [
            "Downloading data from https://ndownloader.figshare.com/files/6848400 ...\n"
          ]
        },
        {
          "output_type": "stream",
          "name": "stderr",
          "text": [
            "\rDownloaded 3088384 of 4492007 bytes (68.8%,    0.5s remaining) ...done. (2 seconds, 0 min)\n"
          ]
        },
        {
          "output_type": "stream",
          "name": "stdout",
          "text": [
            "Downloading data from https://ndownloader.figshare.com/files/6848403 ...\n"
          ]
        },
        {
          "output_type": "stream",
          "name": "stderr",
          "text": [
            " ...done. (0 seconds, 0 min)\n",
            "Extracting data from /root/nilearn_data/cobre/4c545e7d237bd26e3e4940de09ac74ce/fmri_0040037.tsv.gz..... done.\n"
          ]
        },
        {
          "output_type": "stream",
          "name": "stdout",
          "text": [
            "Downloading data from https://ndownloader.figshare.com/files/6848532 ...\n"
          ]
        },
        {
          "output_type": "stream",
          "name": "stderr",
          "text": [
            "\rDownloaded 2940928 of 4619945 bytes (63.7%,    0.6s remaining) ...done. (2 seconds, 0 min)\n"
          ]
        },
        {
          "output_type": "stream",
          "name": "stdout",
          "text": [
            "Downloading data from https://ndownloader.figshare.com/files/6848535 ...\n"
          ]
        },
        {
          "output_type": "stream",
          "name": "stderr",
          "text": [
            " ...done. (0 seconds, 0 min)\n",
            "Extracting data from /root/nilearn_data/cobre/cb2042a760d08af2da4895bec94ba766/fmri_0040059.tsv.gz..... done.\n"
          ]
        },
        {
          "output_type": "stream",
          "name": "stdout",
          "text": [
            "Downloading data from https://ndownloader.figshare.com/files/6848604 ...\n"
          ]
        },
        {
          "output_type": "stream",
          "name": "stderr",
          "text": [
            "\rDownloaded 2547712 of 4524639 bytes (56.3%,    0.8s remaining) ...done. (2 seconds, 0 min)\n"
          ]
        },
        {
          "output_type": "stream",
          "name": "stdout",
          "text": [
            "Downloading data from https://ndownloader.figshare.com/files/6848607 ...\n"
          ]
        },
        {
          "output_type": "stream",
          "name": "stderr",
          "text": [
            " ...done. (0 seconds, 0 min)\n",
            "Extracting data from /root/nilearn_data/cobre/8a252244ede345c00c07c732ccb7090d/fmri_0040072.tsv.gz..... done.\n"
          ]
        },
        {
          "output_type": "stream",
          "name": "stdout",
          "text": [
            "Downloading data from https://ndownloader.figshare.com/files/6848646 ...\n"
          ]
        },
        {
          "output_type": "stream",
          "name": "stderr",
          "text": [
            "\rDownloaded 3809280 of 4410163 bytes (86.4%,    0.2s remaining) ...done. (2 seconds, 0 min)\n"
          ]
        },
        {
          "output_type": "stream",
          "name": "stdout",
          "text": [
            "Downloading data from https://ndownloader.figshare.com/files/6848649 ...\n"
          ]
        },
        {
          "output_type": "stream",
          "name": "stderr",
          "text": [
            " ...done. (0 seconds, 0 min)\n",
            "Extracting data from /root/nilearn_data/cobre/3ca9612264cca5658926bc6823fec3f3/fmri_0040079.tsv.gz..... done.\n"
          ]
        },
        {
          "output_type": "stream",
          "name": "stdout",
          "text": [
            "Downloading data from https://ndownloader.figshare.com/files/6848652 ...\n"
          ]
        },
        {
          "output_type": "stream",
          "name": "stderr",
          "text": [
            "\rDownloaded 3350528 of 4446835 bytes (75.3%,    0.4s remaining) ...done. (2 seconds, 0 min)\n"
          ]
        },
        {
          "output_type": "stream",
          "name": "stdout",
          "text": [
            "Downloading data from https://ndownloader.figshare.com/files/6848655 ...\n"
          ]
        },
        {
          "output_type": "stream",
          "name": "stderr",
          "text": [
            " ...done. (0 seconds, 0 min)\n",
            "Extracting data from /root/nilearn_data/cobre/548b44ab0d8c4b98d75f6b6042327070/fmri_0040080.tsv.gz..... done.\n"
          ]
        },
        {
          "output_type": "stream",
          "name": "stdout",
          "text": [
            "Downloading data from https://ndownloader.figshare.com/files/6848184 ...\n"
          ]
        },
        {
          "output_type": "stream",
          "name": "stderr",
          "text": [
            "\rDownloaded 2244608 of 4697375 bytes (47.8%,    1.2s remaining) ...done. (2 seconds, 0 min)\n"
          ]
        },
        {
          "output_type": "stream",
          "name": "stdout",
          "text": [
            "Downloading data from https://ndownloader.figshare.com/files/6848187 ...\n"
          ]
        },
        {
          "output_type": "stream",
          "name": "stderr",
          "text": [
            " ...done. (0 seconds, 0 min)\n",
            "Extracting data from /root/nilearn_data/cobre/3b4fb092665591f76d7322a7dcbad5a9/fmri_0040001.tsv.gz..... done.\n"
          ]
        },
        {
          "output_type": "stream",
          "name": "stdout",
          "text": [
            "Downloading data from https://ndownloader.figshare.com/files/6848196 ...\n"
          ]
        },
        {
          "output_type": "stream",
          "name": "stderr",
          "text": [
            "\rDownloaded 3178496 of 4267284 bytes (74.5%,    0.4s remaining) ...done. (2 seconds, 0 min)\n"
          ]
        },
        {
          "output_type": "stream",
          "name": "stdout",
          "text": [
            "Downloading data from https://ndownloader.figshare.com/files/6848199 ...\n"
          ]
        },
        {
          "output_type": "stream",
          "name": "stderr",
          "text": [
            " ...done. (0 seconds, 0 min)\n",
            "Extracting data from /root/nilearn_data/cobre/9e8009b8fae67a0090292af91199ccb6/fmri_0040003.tsv.gz..... done.\n"
          ]
        },
        {
          "output_type": "stream",
          "name": "stdout",
          "text": [
            "Downloading data from https://ndownloader.figshare.com/files/6848226 ...\n"
          ]
        },
        {
          "output_type": "stream",
          "name": "stderr",
          "text": [
            "\rDownloaded 3276800 of 4576579 bytes (71.6%,    0.4s remaining) ...done. (2 seconds, 0 min)\n"
          ]
        },
        {
          "output_type": "stream",
          "name": "stdout",
          "text": [
            "Downloading data from https://ndownloader.figshare.com/files/6848229 ...\n"
          ]
        },
        {
          "output_type": "stream",
          "name": "stderr",
          "text": [
            " ...done. (0 seconds, 0 min)\n",
            "Extracting data from /root/nilearn_data/cobre/e8b526b0c72ce2b076e1951a99637ce1/fmri_0040008.tsv.gz..... done.\n"
          ]
        },
        {
          "output_type": "stream",
          "name": "stdout",
          "text": [
            "Downloading data from https://ndownloader.figshare.com/files/6848244 ...\n"
          ]
        },
        {
          "output_type": "stream",
          "name": "stderr",
          "text": [
            "\rDownloaded 3866624 of 4598085 bytes (84.1%,    0.2s remaining) ...done. (2 seconds, 0 min)\n"
          ]
        },
        {
          "output_type": "stream",
          "name": "stdout",
          "text": [
            "Downloading data from https://ndownloader.figshare.com/files/6848247 ...\n"
          ]
        },
        {
          "output_type": "stream",
          "name": "stderr",
          "text": [
            " ...done. (0 seconds, 0 min)\n",
            "Extracting data from /root/nilearn_data/cobre/797f8708de05c78a7ff27b00bdc5652e/fmri_0040011.tsv.gz..... done.\n"
          ]
        },
        {
          "output_type": "stream",
          "name": "stdout",
          "text": [
            "Downloading data from https://ndownloader.figshare.com/files/6848634 ...\n"
          ]
        },
        {
          "output_type": "stream",
          "name": "stderr",
          "text": [
            "\rDownloaded 3178496 of 4412317 bytes (72.0%,    0.4s remaining) ...done. (2 seconds, 0 min)\n"
          ]
        },
        {
          "output_type": "stream",
          "name": "stdout",
          "text": [
            "Downloading data from https://ndownloader.figshare.com/files/6848637 ...\n"
          ]
        },
        {
          "output_type": "stream",
          "name": "stderr",
          "text": [
            " ...done. (0 seconds, 0 min)\n",
            "Extracting data from /root/nilearn_data/cobre/7a3179c6afab68083abda20501e6f063/fmri_0040077.tsv.gz..... done.\n"
          ]
        },
        {
          "output_type": "stream",
          "name": "stdout",
          "text": [
            "Downloading data from https://ndownloader.figshare.com/files/6848382 ...\n"
          ]
        },
        {
          "output_type": "stream",
          "name": "stderr",
          "text": [
            "\rDownloaded 2981888 of 4627634 bytes (64.4%,    0.6s remaining) ...done. (2 seconds, 0 min)\n"
          ]
        },
        {
          "output_type": "stream",
          "name": "stdout",
          "text": [
            "Downloading data from https://ndownloader.figshare.com/files/6848385 ...\n"
          ]
        },
        {
          "output_type": "stream",
          "name": "stderr",
          "text": [
            " ...done. (0 seconds, 0 min)\n",
            "Extracting data from /root/nilearn_data/cobre/559fc4fa1df118bc63c511e2c75f04fc/fmri_0040034.tsv.gz..... done.\n"
          ]
        },
        {
          "output_type": "stream",
          "name": "stdout",
          "text": [
            "Downloading data from https://ndownloader.figshare.com/files/6848814 ...\n"
          ]
        },
        {
          "output_type": "stream",
          "name": "stderr",
          "text": [
            "\rDownloaded 3579904 of 4325032 bytes (82.8%,    0.2s remaining) ...done. (2 seconds, 0 min)\n"
          ]
        },
        {
          "output_type": "stream",
          "name": "stdout",
          "text": [
            "Downloading data from https://ndownloader.figshare.com/files/6848817 ...\n"
          ]
        },
        {
          "output_type": "stream",
          "name": "stderr",
          "text": [
            " ...done. (0 seconds, 0 min)\n",
            "Extracting data from /root/nilearn_data/cobre/cf2f8fe2b25bb0181d915e1873ac9044/fmri_0040108.tsv.gz..... done.\n"
          ]
        },
        {
          "output_type": "stream",
          "name": "stdout",
          "text": [
            "Downloading data from https://ndownloader.figshare.com/files/6848232 ...\n"
          ]
        },
        {
          "output_type": "stream",
          "name": "stderr",
          "text": [
            "\rDownloaded 2924544 of 4409707 bytes (66.3%,    0.5s remaining) ...done. (2 seconds, 0 min)\n"
          ]
        },
        {
          "output_type": "stream",
          "name": "stdout",
          "text": [
            "Downloading data from https://ndownloader.figshare.com/files/6848235 ...\n"
          ]
        },
        {
          "output_type": "stream",
          "name": "stderr",
          "text": [
            " ...done. (0 seconds, 0 min)\n",
            "Extracting data from /root/nilearn_data/cobre/eb260aa2c2d4f7c43344b8364a0a28c2/fmri_0040009.tsv.gz..... done.\n"
          ]
        },
        {
          "output_type": "stream",
          "name": "stdout",
          "text": [
            "Downloading data from https://ndownloader.figshare.com/files/6848370 ...\n"
          ]
        },
        {
          "output_type": "stream",
          "name": "stderr",
          "text": [
            "\rDownloaded 2498560 of 4595193 bytes (54.4%,    0.9s remaining) ...done. (2 seconds, 0 min)\n"
          ]
        },
        {
          "output_type": "stream",
          "name": "stdout",
          "text": [
            "Downloading data from https://ndownloader.figshare.com/files/6848373 ...\n"
          ]
        },
        {
          "output_type": "stream",
          "name": "stderr",
          "text": [
            " ...done. (0 seconds, 0 min)\n",
            "Extracting data from /root/nilearn_data/cobre/bc34c1c0e4d9d261c457b6dca10a73e7/fmri_0040032.tsv.gz..... done.\n"
          ]
        },
        {
          "output_type": "stream",
          "name": "stdout",
          "text": [
            "Downloading data from https://ndownloader.figshare.com/files/6848250 ...\n"
          ]
        },
        {
          "output_type": "stream",
          "name": "stderr",
          "text": [
            "\rDownloaded 2072576 of 4572039 bytes (45.3%,    1.3s remaining) ...done. (2 seconds, 0 min)\n"
          ]
        },
        {
          "output_type": "stream",
          "name": "stdout",
          "text": [
            "Downloading data from https://ndownloader.figshare.com/files/6848253 ...\n"
          ]
        },
        {
          "output_type": "stream",
          "name": "stderr",
          "text": [
            " ...done. (0 seconds, 0 min)\n",
            "Extracting data from /root/nilearn_data/cobre/18475aebea226bd7e99061db888d8b52/fmri_0040012.tsv.gz..... done.\n"
          ]
        },
        {
          "output_type": "stream",
          "name": "stdout",
          "text": [
            "Downloading data from https://ndownloader.figshare.com/files/6848328 ...\n"
          ]
        },
        {
          "output_type": "stream",
          "name": "stderr",
          "text": [
            "\rDownloaded 3481600 of 4305576 bytes (80.9%,    0.3s remaining) ...done. (2 seconds, 0 min)\n"
          ]
        },
        {
          "output_type": "stream",
          "name": "stdout",
          "text": [
            "Downloading data from https://ndownloader.figshare.com/files/6848331 ...\n"
          ]
        },
        {
          "output_type": "stream",
          "name": "stderr",
          "text": [
            " ...done. (0 seconds, 0 min)\n",
            "Extracting data from /root/nilearn_data/cobre/46e722967eb6e70e092da8c89ece2f64/fmri_0040025.tsv.gz..... done.\n"
          ]
        },
        {
          "output_type": "stream",
          "name": "stdout",
          "text": [
            "Downloading data from https://ndownloader.figshare.com/files/6848694 ...\n"
          ]
        },
        {
          "output_type": "stream",
          "name": "stderr",
          "text": [
            "\rDownloaded 2719744 of 4415744 bytes (61.6%,    0.7s remaining) ...done. (2 seconds, 0 min)\n"
          ]
        },
        {
          "output_type": "stream",
          "name": "stdout",
          "text": [
            "Downloading data from https://ndownloader.figshare.com/files/6848697 ...\n"
          ]
        },
        {
          "output_type": "stream",
          "name": "stderr",
          "text": [
            " ...done. (0 seconds, 0 min)\n",
            "Extracting data from /root/nilearn_data/cobre/262b9678efb7738453b841979345b737/fmri_0040088.tsv.gz..... done.\n"
          ]
        },
        {
          "output_type": "stream",
          "name": "stdout",
          "text": [
            "Downloading data from https://ndownloader.figshare.com/files/6848820 ...\n"
          ]
        },
        {
          "output_type": "stream",
          "name": "stderr",
          "text": [
            "\rDownloaded 3358720 of 4498069 bytes (74.7%,    0.4s remaining) ...done. (2 seconds, 0 min)\n"
          ]
        },
        {
          "output_type": "stream",
          "name": "stdout",
          "text": [
            "Downloading data from https://ndownloader.figshare.com/files/6848823 ...\n"
          ]
        },
        {
          "output_type": "stream",
          "name": "stderr",
          "text": [
            " ...done. (0 seconds, 0 min)\n",
            "Extracting data from /root/nilearn_data/cobre/1a39bb37a2ad86ae337ff7ad9dd19633/fmri_0040109.tsv.gz..... done.\n"
          ]
        },
        {
          "output_type": "stream",
          "name": "stdout",
          "text": [
            "Downloading data from https://ndownloader.figshare.com/files/6848754 ...\n"
          ]
        },
        {
          "output_type": "stream",
          "name": "stderr",
          "text": [
            "\rDownloaded 2662400 of 4310726 bytes (61.8%,    0.7s remaining) ...done. (2 seconds, 0 min)\n"
          ]
        },
        {
          "output_type": "stream",
          "name": "stdout",
          "text": [
            "Downloading data from https://ndownloader.figshare.com/files/6848757 ...\n"
          ]
        },
        {
          "output_type": "stream",
          "name": "stderr",
          "text": [
            " ...done. (0 seconds, 0 min)\n",
            "Extracting data from /root/nilearn_data/cobre/1a05462fa223fa90bf0c2191b765c773/fmri_0040098.tsv.gz..... done.\n"
          ]
        },
        {
          "output_type": "stream",
          "name": "stdout",
          "text": [
            "Downloading data from https://ndownloader.figshare.com/files/6848766 ...\n"
          ]
        },
        {
          "output_type": "stream",
          "name": "stderr",
          "text": [
            "\rDownloaded 2703360 of 4580313 bytes (59.0%,    0.8s remaining) ...done. (2 seconds, 0 min)\n"
          ]
        },
        {
          "output_type": "stream",
          "name": "stdout",
          "text": [
            "Downloading data from https://ndownloader.figshare.com/files/6848769 ...\n"
          ]
        },
        {
          "output_type": "stream",
          "name": "stderr",
          "text": [
            " ...done. (0 seconds, 0 min)\n",
            "Extracting data from /root/nilearn_data/cobre/be49f8d6fbda9610118341d2b3824cc8/fmri_0040100.tsv.gz..... done.\n"
          ]
        },
        {
          "output_type": "stream",
          "name": "stdout",
          "text": [
            "Downloading data from https://ndownloader.figshare.com/files/6848460 ...\n"
          ]
        },
        {
          "output_type": "stream",
          "name": "stderr",
          "text": [
            "\rDownloaded 3072000 of 4332199 bytes (70.9%,    0.4s remaining) ...done. (2 seconds, 0 min)\n"
          ]
        },
        {
          "output_type": "stream",
          "name": "stdout",
          "text": [
            "Downloading data from https://ndownloader.figshare.com/files/6848463 ...\n"
          ]
        },
        {
          "output_type": "stream",
          "name": "stderr",
          "text": [
            " ...done. (0 seconds, 0 min)\n",
            "Extracting data from /root/nilearn_data/cobre/464fa45d7a4e5648989426e01cedba5c/fmri_0040047.tsv.gz..... done.\n"
          ]
        },
        {
          "output_type": "stream",
          "name": "stdout",
          "text": [
            "Downloading data from https://ndownloader.figshare.com/files/6848760 ...\n"
          ]
        },
        {
          "output_type": "stream",
          "name": "stderr",
          "text": [
            "\rDownloaded 2031616 of 4586801 bytes (44.3%,    1.4s remaining) ...done. (2 seconds, 0 min)\n"
          ]
        },
        {
          "output_type": "stream",
          "name": "stdout",
          "text": [
            "Downloading data from https://ndownloader.figshare.com/files/6848763 ...\n"
          ]
        },
        {
          "output_type": "stream",
          "name": "stderr",
          "text": [
            " ...done. (0 seconds, 0 min)\n",
            "Extracting data from /root/nilearn_data/cobre/38f589110f71c6738d4594f0ac1ad7a7/fmri_0040099.tsv.gz..... done.\n"
          ]
        },
        {
          "output_type": "stream",
          "name": "stdout",
          "text": [
            "Downloading data from https://ndownloader.figshare.com/files/6848430 ...\n"
          ]
        },
        {
          "output_type": "stream",
          "name": "stderr",
          "text": [
            "\rDownloaded 2375680 of 4402140 bytes (54.0%,    0.9s remaining) ...done. (2 seconds, 0 min)\n"
          ]
        },
        {
          "output_type": "stream",
          "name": "stdout",
          "text": [
            "Downloading data from https://ndownloader.figshare.com/files/6848433 ...\n"
          ]
        },
        {
          "output_type": "stream",
          "name": "stderr",
          "text": [
            " ...done. (0 seconds, 0 min)\n",
            "Extracting data from /root/nilearn_data/cobre/629039eb91b668ba9180f122d202a99a/fmri_0040042.tsv.gz..... done.\n"
          ]
        },
        {
          "output_type": "stream",
          "name": "stdout",
          "text": [
            "Downloading data from https://ndownloader.figshare.com/files/6848622 ...\n"
          ]
        },
        {
          "output_type": "stream",
          "name": "stderr",
          "text": [
            " ...done. (2 seconds, 0 min)\n"
          ]
        },
        {
          "output_type": "stream",
          "name": "stdout",
          "text": [
            "Downloading data from https://ndownloader.figshare.com/files/6848625 ...\n"
          ]
        },
        {
          "output_type": "stream",
          "name": "stderr",
          "text": [
            " ...done. (0 seconds, 0 min)\n",
            "Extracting data from /root/nilearn_data/cobre/fa6dddf3186a4435575f7a1ed297faae/fmri_0040075.tsv.gz..... done.\n"
          ]
        },
        {
          "output_type": "stream",
          "name": "stdout",
          "text": [
            "Downloading data from https://ndownloader.figshare.com/files/6848784 ...\n"
          ]
        },
        {
          "output_type": "stream",
          "name": "stderr",
          "text": [
            "\rDownloaded 3186688 of 4635847 bytes (68.7%,    0.5s remaining) ...done. (2 seconds, 0 min)\n"
          ]
        },
        {
          "output_type": "stream",
          "name": "stdout",
          "text": [
            "Downloading data from https://ndownloader.figshare.com/files/6848787 ...\n"
          ]
        },
        {
          "output_type": "stream",
          "name": "stderr",
          "text": [
            " ...done. (0 seconds, 0 min)\n",
            "Extracting data from /root/nilearn_data/cobre/321185bd10831a3701afef181ed4273e/fmri_0040103.tsv.gz..... done.\n"
          ]
        },
        {
          "output_type": "stream",
          "name": "stdout",
          "text": [
            "Downloading data from https://ndownloader.figshare.com/files/6848538 ...\n"
          ]
        },
        {
          "output_type": "stream",
          "name": "stderr",
          "text": [
            "\rDownloaded 2457600 of 4337046 bytes (56.7%,    0.8s remaining) ...done. (2 seconds, 0 min)\n"
          ]
        },
        {
          "output_type": "stream",
          "name": "stdout",
          "text": [
            "Downloading data from https://ndownloader.figshare.com/files/6848541 ...\n"
          ]
        },
        {
          "output_type": "stream",
          "name": "stderr",
          "text": [
            " ...done. (0 seconds, 0 min)\n",
            "Extracting data from /root/nilearn_data/cobre/32154f247e90cba41e3c35a59788ac90/fmri_0040060.tsv.gz..... done.\n"
          ]
        },
        {
          "output_type": "stream",
          "name": "stdout",
          "text": [
            "Downloading data from https://ndownloader.figshare.com/files/6848922 ...\n"
          ]
        },
        {
          "output_type": "stream",
          "name": "stderr",
          "text": [
            "\rDownloaded 2367488 of 4623949 bytes (51.2%,    1.0s remaining) ...done. (2 seconds, 0 min)\n"
          ]
        },
        {
          "output_type": "stream",
          "name": "stdout",
          "text": [
            "Downloading data from https://ndownloader.figshare.com/files/6848925 ...\n"
          ]
        },
        {
          "output_type": "stream",
          "name": "stderr",
          "text": [
            " ...done. (0 seconds, 0 min)\n",
            "Extracting data from /root/nilearn_data/cobre/0c8a546a37188a64b3df92c363a37c75/fmri_0040126.tsv.gz..... done.\n"
          ]
        },
        {
          "output_type": "stream",
          "name": "stdout",
          "text": [
            "Downloading data from https://ndownloader.figshare.com/files/6848838 ...\n"
          ]
        },
        {
          "output_type": "stream",
          "name": "stderr",
          "text": [
            "\rDownloaded 3227648 of 4647206 bytes (69.5%,    0.5s remaining) ...done. (2 seconds, 0 min)\n"
          ]
        },
        {
          "output_type": "stream",
          "name": "stdout",
          "text": [
            "Downloading data from https://ndownloader.figshare.com/files/6848841 ...\n"
          ]
        },
        {
          "output_type": "stream",
          "name": "stderr",
          "text": [
            " ...done. (0 seconds, 0 min)\n",
            "Extracting data from /root/nilearn_data/cobre/223535a3d0f5536a8098fa4146d78f96/fmri_0040112.tsv.gz..... done.\n"
          ]
        },
        {
          "output_type": "stream",
          "name": "stdout",
          "text": [
            "Downloading data from https://ndownloader.figshare.com/files/6848658 ...\n"
          ]
        },
        {
          "output_type": "stream",
          "name": "stderr",
          "text": [
            "\rDownloaded 2916352 of 4547973 bytes (64.1%,    0.6s remaining) ...done. (2 seconds, 0 min)\n"
          ]
        },
        {
          "output_type": "stream",
          "name": "stdout",
          "text": [
            "Downloading data from https://ndownloader.figshare.com/files/6848661 ...\n"
          ]
        },
        {
          "output_type": "stream",
          "name": "stderr",
          "text": [
            " ...done. (0 seconds, 0 min)\n",
            "Extracting data from /root/nilearn_data/cobre/4a04a4cc2fb08af93d922a9da72793a1/fmri_0040081.tsv.gz..... done.\n"
          ]
        },
        {
          "output_type": "stream",
          "name": "stdout",
          "text": [
            "Downloading data from https://ndownloader.figshare.com/files/6848826 ...\n"
          ]
        },
        {
          "output_type": "stream",
          "name": "stderr",
          "text": [
            "\rDownloaded 2203648 of 4393147 bytes (50.2%,    1.1s remaining) ...done. (3 seconds, 0 min)\n"
          ]
        },
        {
          "output_type": "stream",
          "name": "stdout",
          "text": [
            "Downloading data from https://ndownloader.figshare.com/files/6848829 ...\n"
          ]
        },
        {
          "output_type": "stream",
          "name": "stderr",
          "text": [
            " ...done. (0 seconds, 0 min)\n",
            "Extracting data from /root/nilearn_data/cobre/1a7a95d2dddc00b6dc8ea8f1c9a3a7ef/fmri_0040110.tsv.gz..... done.\n"
          ]
        },
        {
          "output_type": "stream",
          "name": "stdout",
          "text": [
            "Downloading data from https://ndownloader.figshare.com/files/6848472 ...\n"
          ]
        },
        {
          "output_type": "stream",
          "name": "stderr",
          "text": [
            "\rDownloaded 3268608 of 4610293 bytes (70.9%,    0.4s remaining) ...done. (2 seconds, 0 min)\n"
          ]
        },
        {
          "output_type": "stream",
          "name": "stdout",
          "text": [
            "Downloading data from https://ndownloader.figshare.com/files/6848475 ...\n"
          ]
        },
        {
          "output_type": "stream",
          "name": "stderr",
          "text": [
            " ...done. (0 seconds, 0 min)\n",
            "Extracting data from /root/nilearn_data/cobre/a653a53f44e3a36017e48112481b799f/fmri_0040049.tsv.gz..... done.\n"
          ]
        },
        {
          "output_type": "stream",
          "name": "stdout",
          "text": [
            "Downloading data from https://ndownloader.figshare.com/files/6848802 ...\n"
          ]
        },
        {
          "output_type": "stream",
          "name": "stderr",
          "text": [
            "\rDownloaded 3596288 of 4542026 bytes (79.2%,    0.3s remaining) ...done. (2 seconds, 0 min)\n"
          ]
        },
        {
          "output_type": "stream",
          "name": "stdout",
          "text": [
            "Downloading data from https://ndownloader.figshare.com/files/6848805 ...\n"
          ]
        },
        {
          "output_type": "stream",
          "name": "stderr",
          "text": [
            " ...done. (0 seconds, 0 min)\n",
            "Extracting data from /root/nilearn_data/cobre/fbe7932b931e7aac276b73713f2b48f7/fmri_0040106.tsv.gz..... done.\n"
          ]
        },
        {
          "output_type": "stream",
          "name": "stdout",
          "text": [
            "Downloading data from https://ndownloader.figshare.com/files/6848268 ...\n"
          ]
        },
        {
          "output_type": "stream",
          "name": "stderr",
          "text": [
            "\rDownloaded 2695168 of 4234757 bytes (63.6%,    0.6s remaining) ...done. (2 seconds, 0 min)\n"
          ]
        },
        {
          "output_type": "stream",
          "name": "stdout",
          "text": [
            "Downloading data from https://ndownloader.figshare.com/files/6848271 ...\n"
          ]
        },
        {
          "output_type": "stream",
          "name": "stderr",
          "text": [
            " ...done. (0 seconds, 0 min)\n",
            "Extracting data from /root/nilearn_data/cobre/a49b4db4fc1d15e60e94f2c8ce2b540c/fmri_0040015.tsv.gz..... done.\n"
          ]
        },
        {
          "output_type": "stream",
          "name": "stdout",
          "text": [
            "Downloading data from https://ndownloader.figshare.com/files/6848208 ...\n"
          ]
        },
        {
          "output_type": "stream",
          "name": "stderr",
          "text": [
            "\rDownloaded 2736128 of 4606288 bytes (59.4%,    0.7s remaining) ...done. (2 seconds, 0 min)\n"
          ]
        },
        {
          "output_type": "stream",
          "name": "stdout",
          "text": [
            "Downloading data from https://ndownloader.figshare.com/files/6848211 ...\n"
          ]
        },
        {
          "output_type": "stream",
          "name": "stderr",
          "text": [
            " ...done. (0 seconds, 0 min)\n",
            "Extracting data from /root/nilearn_data/cobre/3cc26e31470f08daabd476c187faf7ab/fmri_0040005.tsv.gz..... done.\n"
          ]
        },
        {
          "output_type": "stream",
          "name": "stdout",
          "text": [
            "Downloading data from https://ndownloader.figshare.com/files/6848442 ...\n"
          ]
        },
        {
          "output_type": "stream",
          "name": "stderr",
          "text": [
            "\rDownloaded 2924544 of 4401529 bytes (66.4%,    0.6s remaining) ...done. (2 seconds, 0 min)\n"
          ]
        },
        {
          "output_type": "stream",
          "name": "stdout",
          "text": [
            "Downloading data from https://ndownloader.figshare.com/files/6848445 ...\n"
          ]
        },
        {
          "output_type": "stream",
          "name": "stderr",
          "text": [
            " ...done. (0 seconds, 0 min)\n",
            "Extracting data from /root/nilearn_data/cobre/5d210a2285666e70c2dcc66210e477b9/fmri_0040044.tsv.gz..... done.\n"
          ]
        },
        {
          "output_type": "stream",
          "name": "stdout",
          "text": [
            "Downloading data from https://ndownloader.figshare.com/files/6848274 ...\n"
          ]
        },
        {
          "output_type": "stream",
          "name": "stderr",
          "text": [
            "\rDownloaded 2736128 of 4607647 bytes (59.4%,    0.7s remaining) ...done. (2 seconds, 0 min)\n"
          ]
        },
        {
          "output_type": "stream",
          "name": "stdout",
          "text": [
            "Downloading data from https://ndownloader.figshare.com/files/6848277 ...\n"
          ]
        },
        {
          "output_type": "stream",
          "name": "stderr",
          "text": [
            " ...done. (0 seconds, 0 min)\n",
            "Extracting data from /root/nilearn_data/cobre/c37a040359f7136307e5541a58369578/fmri_0040016.tsv.gz..... done.\n"
          ]
        },
        {
          "output_type": "stream",
          "name": "stdout",
          "text": [
            "Downloading data from https://ndownloader.figshare.com/files/6848718 ...\n"
          ]
        },
        {
          "output_type": "stream",
          "name": "stderr",
          "text": [
            "\rDownloaded 3383296 of 4522924 bytes (74.8%,    0.4s remaining) ...done. (2 seconds, 0 min)\n"
          ]
        },
        {
          "output_type": "stream",
          "name": "stdout",
          "text": [
            "Downloading data from https://ndownloader.figshare.com/files/6848721 ...\n"
          ]
        },
        {
          "output_type": "stream",
          "name": "stderr",
          "text": [
            " ...done. (0 seconds, 0 min)\n",
            "Extracting data from /root/nilearn_data/cobre/4acb9160c066c1620a26601ed9bad8fa/fmri_0040092.tsv.gz..... done.\n"
          ]
        },
        {
          "output_type": "stream",
          "name": "stdout",
          "text": [
            "Downloading data from https://ndownloader.figshare.com/files/6848664 ...\n"
          ]
        },
        {
          "output_type": "stream",
          "name": "stderr",
          "text": [
            "\rDownloaded 2244608 of 4351779 bytes (51.6%,    1.0s remaining) ...done. (2 seconds, 0 min)\n"
          ]
        },
        {
          "output_type": "stream",
          "name": "stdout",
          "text": [
            "Downloading data from https://ndownloader.figshare.com/files/6848667 ...\n"
          ]
        },
        {
          "output_type": "stream",
          "name": "stderr",
          "text": [
            " ...done. (0 seconds, 0 min)\n",
            "Extracting data from /root/nilearn_data/cobre/65e373478e617322618fcb1b6458b695/fmri_0040082.tsv.gz..... done.\n"
          ]
        },
        {
          "output_type": "stream",
          "name": "stdout",
          "text": [
            "Downloading data from https://ndownloader.figshare.com/files/6848772 ...\n"
          ]
        },
        {
          "output_type": "stream",
          "name": "stderr",
          "text": [
            "\rDownloaded 2203648 of 4354517 bytes (50.6%,    1.1s remaining) ...done. (2 seconds, 0 min)\n"
          ]
        },
        {
          "output_type": "stream",
          "name": "stdout",
          "text": [
            "Downloading data from https://ndownloader.figshare.com/files/6848775 ...\n"
          ]
        },
        {
          "output_type": "stream",
          "name": "stderr",
          "text": [
            " ...done. (0 seconds, 0 min)\n",
            "Extracting data from /root/nilearn_data/cobre/76d22a017c497c5b147929e2cadfe7a1/fmri_0040101.tsv.gz..... done.\n"
          ]
        },
        {
          "output_type": "stream",
          "name": "stdout",
          "text": [
            "Downloading data from https://ndownloader.figshare.com/files/6848958 ...\n"
          ]
        },
        {
          "output_type": "stream",
          "name": "stderr",
          "text": [
            "\rDownloaded 2957312 of 4712968 bytes (62.7%,    0.6s remaining) ...done. (2 seconds, 0 min)\n"
          ]
        },
        {
          "output_type": "stream",
          "name": "stdout",
          "text": [
            "Downloading data from https://ndownloader.figshare.com/files/6848961 ...\n"
          ]
        },
        {
          "output_type": "stream",
          "name": "stderr",
          "text": [
            " ...done. (0 seconds, 0 min)\n",
            "Extracting data from /root/nilearn_data/cobre/7fc23d1d8d2a171a87acf65bef292017/fmri_0040132.tsv.gz..... done.\n"
          ]
        },
        {
          "output_type": "stream",
          "name": "stdout",
          "text": [
            "Downloading data from https://ndownloader.figshare.com/files/6848412 ...\n"
          ]
        },
        {
          "output_type": "stream",
          "name": "stderr",
          "text": [
            "\rDownloaded 3325952 of 4419995 bytes (75.2%,    0.4s remaining) ...done. (2 seconds, 0 min)\n"
          ]
        },
        {
          "output_type": "stream",
          "name": "stdout",
          "text": [
            "Downloading data from https://ndownloader.figshare.com/files/6848415 ...\n"
          ]
        },
        {
          "output_type": "stream",
          "name": "stderr",
          "text": [
            " ...done. (0 seconds, 0 min)\n",
            "Extracting data from /root/nilearn_data/cobre/e4561a4d86d1453c5c82165b19ca12df/fmri_0040039.tsv.gz..... done.\n"
          ]
        },
        {
          "output_type": "stream",
          "name": "stdout",
          "text": [
            "Downloading data from https://ndownloader.figshare.com/files/6848598 ...\n"
          ]
        },
        {
          "output_type": "stream",
          "name": "stderr",
          "text": [
            "\rDownloaded 2990080 of 4589027 bytes (65.2%,    0.6s remaining) ...done. (2 seconds, 0 min)\n"
          ]
        },
        {
          "output_type": "stream",
          "name": "stdout",
          "text": [
            "Downloading data from https://ndownloader.figshare.com/files/6848601 ...\n"
          ]
        },
        {
          "output_type": "stream",
          "name": "stderr",
          "text": [
            " ...done. (0 seconds, 0 min)\n",
            "Extracting data from /root/nilearn_data/cobre/66c1827f0566d7e10d707729c574e4c9/fmri_0040071.tsv.gz..... done.\n"
          ]
        },
        {
          "output_type": "stream",
          "name": "stdout",
          "text": [
            "Downloading data from https://ndownloader.figshare.com/files/6848238 ...\n"
          ]
        },
        {
          "output_type": "stream",
          "name": "stderr",
          "text": [
            "\rDownloaded 3334144 of 4534677 bytes (73.5%,    0.4s remaining) ...done. (2 seconds, 0 min)\n"
          ]
        },
        {
          "output_type": "stream",
          "name": "stdout",
          "text": [
            "Downloading data from https://ndownloader.figshare.com/files/6848241 ...\n"
          ]
        },
        {
          "output_type": "stream",
          "name": "stderr",
          "text": [
            " ...done. (0 seconds, 0 min)\n",
            "Extracting data from /root/nilearn_data/cobre/5ac96f6fe2ff3a366856c7519a259ae1/fmri_0040010.tsv.gz..... done.\n"
          ]
        },
        {
          "output_type": "stream",
          "name": "stdout",
          "text": [
            "Downloading data from https://ndownloader.figshare.com/files/6848748 ...\n"
          ]
        },
        {
          "output_type": "stream",
          "name": "stderr",
          "text": [
            "\rDownloaded 3768320 of 4487452 bytes (84.0%,    0.2s remaining) ...done. (2 seconds, 0 min)\n"
          ]
        },
        {
          "output_type": "stream",
          "name": "stdout",
          "text": [
            "Downloading data from https://ndownloader.figshare.com/files/6848751 ...\n"
          ]
        },
        {
          "output_type": "stream",
          "name": "stderr",
          "text": [
            " ...done. (0 seconds, 0 min)\n",
            "Extracting data from /root/nilearn_data/cobre/33a605d076b1ec10305d36158a019ca2/fmri_0040097.tsv.gz..... done.\n"
          ]
        },
        {
          "output_type": "stream",
          "name": "stdout",
          "text": [
            "Downloading data from https://ndownloader.figshare.com/files/6848796 ...\n"
          ]
        },
        {
          "output_type": "stream",
          "name": "stderr",
          "text": [
            "\rDownloaded 3407872 of 4669705 bytes (73.0%,    0.4s remaining) ...done. (2 seconds, 0 min)\n"
          ]
        },
        {
          "output_type": "stream",
          "name": "stdout",
          "text": [
            "Downloading data from https://ndownloader.figshare.com/files/6848799 ...\n"
          ]
        },
        {
          "output_type": "stream",
          "name": "stderr",
          "text": [
            " ...done. (0 seconds, 0 min)\n",
            "Extracting data from /root/nilearn_data/cobre/8af538f3408e1b1497436e7628c12cd1/fmri_0040105.tsv.gz..... done.\n"
          ]
        },
        {
          "output_type": "stream",
          "name": "stdout",
          "text": [
            "Downloading data from https://ndownloader.figshare.com/files/6849024 ...\n"
          ]
        },
        {
          "output_type": "stream",
          "name": "stderr",
          "text": [
            "\rDownloaded 2105344 of 4686280 bytes (44.9%,    1.3s remaining) ...done. (2 seconds, 0 min)\n"
          ]
        },
        {
          "output_type": "stream",
          "name": "stdout",
          "text": [
            "Downloading data from https://ndownloader.figshare.com/files/6849027 ...\n"
          ]
        },
        {
          "output_type": "stream",
          "name": "stderr",
          "text": [
            " ...done. (0 seconds, 0 min)\n",
            "Extracting data from /root/nilearn_data/cobre/9918b97ac22971acffd50b5b20ed63a9/fmri_0040143.tsv.gz..... done.\n"
          ]
        },
        {
          "output_type": "stream",
          "name": "stdout",
          "text": [
            "Downloading data from https://ndownloader.figshare.com/files/6848214 ...\n"
          ]
        },
        {
          "output_type": "stream",
          "name": "stderr",
          "text": [
            "\rDownloaded 3956736 of 4614678 bytes (85.7%,    0.2s remaining) ...done. (2 seconds, 0 min)\n"
          ]
        },
        {
          "output_type": "stream",
          "name": "stdout",
          "text": [
            "Downloading data from https://ndownloader.figshare.com/files/6848217 ...\n"
          ]
        },
        {
          "output_type": "stream",
          "name": "stderr",
          "text": [
            " ...done. (0 seconds, 0 min)\n",
            "Extracting data from /root/nilearn_data/cobre/22c47ad0848e42ca09a41e38a539a586/fmri_0040006.tsv.gz..... done.\n"
          ]
        },
        {
          "output_type": "stream",
          "name": "stdout",
          "text": [
            "Downloading data from https://ndownloader.figshare.com/files/6848202 ...\n"
          ]
        },
        {
          "output_type": "stream",
          "name": "stderr",
          "text": [
            "\rDownloaded 2498560 of 4677442 bytes (53.4%,    1.0s remaining) ...done. (2 seconds, 0 min)\n"
          ]
        },
        {
          "output_type": "stream",
          "name": "stdout",
          "text": [
            "Downloading data from https://ndownloader.figshare.com/files/6848205 ...\n"
          ]
        },
        {
          "output_type": "stream",
          "name": "stderr",
          "text": [
            " ...done. (0 seconds, 0 min)\n",
            "Extracting data from /root/nilearn_data/cobre/2f46e386b49aee2ace572298b18aea2d/fmri_0040004.tsv.gz..... done.\n"
          ]
        },
        {
          "output_type": "stream",
          "name": "stdout",
          "text": [
            "Downloading data from https://ndownloader.figshare.com/files/6848562 ...\n"
          ]
        },
        {
          "output_type": "stream",
          "name": "stderr",
          "text": [
            "\rDownloaded 2998272 of 4596847 bytes (65.2%,    0.6s remaining) ...done. (2 seconds, 0 min)\n"
          ]
        },
        {
          "output_type": "stream",
          "name": "stdout",
          "text": [
            "Downloading data from https://ndownloader.figshare.com/files/6848565 ...\n"
          ]
        },
        {
          "output_type": "stream",
          "name": "stderr",
          "text": [
            " ...done. (0 seconds, 0 min)\n",
            "Extracting data from /root/nilearn_data/cobre/316a59145109c16a527ab8d92a9789c6/fmri_0040064.tsv.gz..... done.\n"
          ]
        },
        {
          "output_type": "stream",
          "name": "stdout",
          "text": [
            "Downloading data from https://ndownloader.figshare.com/files/6848640 ...\n"
          ]
        },
        {
          "output_type": "stream",
          "name": "stderr",
          "text": [
            "\rDownloaded 3661824 of 4485179 bytes (81.6%,    0.2s remaining) ...done. (2 seconds, 0 min)\n"
          ]
        },
        {
          "output_type": "stream",
          "name": "stdout",
          "text": [
            "Downloading data from https://ndownloader.figshare.com/files/6848643 ...\n"
          ]
        },
        {
          "output_type": "stream",
          "name": "stderr",
          "text": [
            " ...done. (0 seconds, 0 min)\n",
            "Extracting data from /root/nilearn_data/cobre/e65881d7f743bf728be584597c350fb0/fmri_0040078.tsv.gz..... done.\n"
          ]
        },
        {
          "output_type": "stream",
          "name": "stdout",
          "text": [
            "Downloading data from https://ndownloader.figshare.com/files/6848730 ...\n"
          ]
        },
        {
          "output_type": "stream",
          "name": "stderr",
          "text": [
            "\rDownloaded 3448832 of 4436080 bytes (77.7%,    0.3s remaining) ...done. (2 seconds, 0 min)\n"
          ]
        },
        {
          "output_type": "stream",
          "name": "stdout",
          "text": [
            "Downloading data from https://ndownloader.figshare.com/files/6848733 ...\n"
          ]
        },
        {
          "output_type": "stream",
          "name": "stderr",
          "text": [
            " ...done. (0 seconds, 0 min)\n",
            "Extracting data from /root/nilearn_data/cobre/d81f30f9782ad5750682a04c0c63ad86/fmri_0040094.tsv.gz..... done.\n"
          ]
        },
        {
          "output_type": "stream",
          "name": "stdout",
          "text": [
            "Downloading data from https://ndownloader.figshare.com/files/6848670 ...\n"
          ]
        },
        {
          "output_type": "stream",
          "name": "stderr",
          "text": [
            "\rDownloaded 3276800 of 3902422 bytes (84.0%,    0.2s remaining) ...done. (2 seconds, 0 min)\n"
          ]
        },
        {
          "output_type": "stream",
          "name": "stdout",
          "text": [
            "Downloading data from https://ndownloader.figshare.com/files/6848673 ...\n"
          ]
        },
        {
          "output_type": "stream",
          "name": "stderr",
          "text": [
            " ...done. (0 seconds, 0 min)\n",
            "Extracting data from /root/nilearn_data/cobre/7874a5a9f7979cc31d01f73eb576e67e/fmri_0040084.tsv.gz..... done.\n"
          ]
        },
        {
          "output_type": "stream",
          "name": "stdout",
          "text": [
            "Downloading data from https://ndownloader.figshare.com/files/6848424 ...\n"
          ]
        },
        {
          "output_type": "stream",
          "name": "stderr",
          "text": [
            "\rDownloaded 2236416 of 4343353 bytes (51.5%,    1.0s remaining) ...done. (2 seconds, 0 min)\n"
          ]
        },
        {
          "output_type": "stream",
          "name": "stdout",
          "text": [
            "Downloading data from https://ndownloader.figshare.com/files/6848427 ...\n"
          ]
        },
        {
          "output_type": "stream",
          "name": "stderr",
          "text": [
            " ...done. (0 seconds, 0 min)\n",
            "Extracting data from /root/nilearn_data/cobre/7707908b86cd00610a0da82a49cba7d1/fmri_0040041.tsv.gz..... done.\n"
          ]
        },
        {
          "output_type": "stream",
          "name": "stdout",
          "text": [
            "Downloading data from https://ndownloader.figshare.com/files/6848700 ...\n"
          ]
        },
        {
          "output_type": "stream",
          "name": "stderr",
          "text": [
            "\rDownloaded 2727936 of 4301164 bytes (63.4%,    0.6s remaining) ...done. (2 seconds, 0 min)\n"
          ]
        },
        {
          "output_type": "stream",
          "name": "stdout",
          "text": [
            "Downloading data from https://ndownloader.figshare.com/files/6848703 ...\n"
          ]
        },
        {
          "output_type": "stream",
          "name": "stderr",
          "text": [
            " ...done. (0 seconds, 0 min)\n",
            "Extracting data from /root/nilearn_data/cobre/70de19035ad72b43cc8384b0e59c5cf3/fmri_0040089.tsv.gz..... done.\n"
          ]
        },
        {
          "output_type": "stream",
          "name": "stdout",
          "text": [
            "Downloading data from https://ndownloader.figshare.com/files/6848418 ...\n"
          ]
        },
        {
          "output_type": "stream",
          "name": "stderr",
          "text": [
            "\rDownloaded 2916352 of 4262891 bytes (68.4%,    0.5s remaining) ...done. (2 seconds, 0 min)\n"
          ]
        },
        {
          "output_type": "stream",
          "name": "stdout",
          "text": [
            "Downloading data from https://ndownloader.figshare.com/files/6848421 ...\n"
          ]
        },
        {
          "output_type": "stream",
          "name": "stderr",
          "text": [
            " ...done. (0 seconds, 0 min)\n",
            "Extracting data from /root/nilearn_data/cobre/9ebb1028205a5f825475866bb9288800/fmri_0040040.tsv.gz..... done.\n"
          ]
        },
        {
          "output_type": "stream",
          "name": "stdout",
          "text": [
            "Downloading data from https://ndownloader.figshare.com/files/6848346 ...\n"
          ]
        },
        {
          "output_type": "stream",
          "name": "stderr",
          "text": [
            "\rDownloaded 3031040 of 4399794 bytes (68.9%,    0.5s remaining) ...done. (2 seconds, 0 min)\n"
          ]
        },
        {
          "output_type": "stream",
          "name": "stdout",
          "text": [
            "Downloading data from https://ndownloader.figshare.com/files/6848349 ...\n"
          ]
        },
        {
          "output_type": "stream",
          "name": "stderr",
          "text": [
            " ...done. (0 seconds, 0 min)\n",
            "Extracting data from /root/nilearn_data/cobre/3b593703b0a29043c971f3cc9a190148/fmri_0040028.tsv.gz..... done.\n"
          ]
        },
        {
          "output_type": "stream",
          "name": "stdout",
          "text": [
            "Downloading data from https://ndownloader.figshare.com/files/6848220 ...\n"
          ]
        },
        {
          "output_type": "stream",
          "name": "stderr",
          "text": [
            "\rDownloaded 2023424 of 4553009 bytes (44.4%,    1.4s remaining) ...done. (2 seconds, 0 min)\n"
          ]
        },
        {
          "output_type": "stream",
          "name": "stdout",
          "text": [
            "Downloading data from https://ndownloader.figshare.com/files/6848223 ...\n"
          ]
        },
        {
          "output_type": "stream",
          "name": "stderr",
          "text": [
            " ...done. (0 seconds, 0 min)\n",
            "Extracting data from /root/nilearn_data/cobre/6e6fcccace5a7d17c5f297df03e023a8/fmri_0040007.tsv.gz..... done.\n"
          ]
        },
        {
          "output_type": "stream",
          "name": "stdout",
          "text": [
            "Downloading data from https://ndownloader.figshare.com/files/6848544 ...\n"
          ]
        },
        {
          "output_type": "stream",
          "name": "stderr",
          "text": [
            "\rDownloaded 3244032 of 4647995 bytes (69.8%,    0.5s remaining) ...done. (2 seconds, 0 min)\n"
          ]
        },
        {
          "output_type": "stream",
          "name": "stdout",
          "text": [
            "Downloading data from https://ndownloader.figshare.com/files/6848547 ...\n"
          ]
        },
        {
          "output_type": "stream",
          "name": "stderr",
          "text": [
            " ...done. (0 seconds, 0 min)\n",
            "Extracting data from /root/nilearn_data/cobre/fdbfd280ff5322077b5eff6994660f90/fmri_0040061.tsv.gz..... done.\n"
          ]
        },
        {
          "output_type": "stream",
          "name": "stdout",
          "text": [
            "Downloading data from https://ndownloader.figshare.com/files/6848706 ...\n"
          ]
        },
        {
          "output_type": "stream",
          "name": "stderr",
          "text": [
            "\rDownloaded 2924544 of 4595137 bytes (63.6%,    0.6s remaining) ...done. (2 seconds, 0 min)\n"
          ]
        },
        {
          "output_type": "stream",
          "name": "stdout",
          "text": [
            "Downloading data from https://ndownloader.figshare.com/files/6848709 ...\n"
          ]
        },
        {
          "output_type": "stream",
          "name": "stderr",
          "text": [
            " ...done. (0 seconds, 0 min)\n",
            "Extracting data from /root/nilearn_data/cobre/17ca77ec81f75b50b825727c4aab1df2/fmri_0040090.tsv.gz..... done.\n"
          ]
        },
        {
          "output_type": "stream",
          "name": "stdout",
          "text": [
            "Downloading data from https://ndownloader.figshare.com/files/6848844 ...\n"
          ]
        },
        {
          "output_type": "stream",
          "name": "stderr",
          "text": [
            "\rDownloaded 2293760 of 4593987 bytes (49.9%,    1.1s remaining) ...done. (2 seconds, 0 min)\n"
          ]
        },
        {
          "output_type": "stream",
          "name": "stdout",
          "text": [
            "Downloading data from https://ndownloader.figshare.com/files/6848847 ...\n"
          ]
        },
        {
          "output_type": "stream",
          "name": "stderr",
          "text": [
            " ...done. (0 seconds, 0 min)\n",
            "Extracting data from /root/nilearn_data/cobre/76e2655b3aa1b303589dfdef904ebcff/fmri_0040113.tsv.gz..... done.\n"
          ]
        },
        {
          "output_type": "stream",
          "name": "stdout",
          "text": [
            "Downloading data from https://ndownloader.figshare.com/files/6848892 ...\n"
          ]
        },
        {
          "output_type": "stream",
          "name": "stderr",
          "text": [
            "\rDownloaded 2629632 of 4525595 bytes (58.1%,    0.8s remaining) ...done. (2 seconds, 0 min)\n"
          ]
        },
        {
          "output_type": "stream",
          "name": "stdout",
          "text": [
            "Downloading data from https://ndownloader.figshare.com/files/6848895 ...\n"
          ]
        },
        {
          "output_type": "stream",
          "name": "stderr",
          "text": [
            " ...done. (0 seconds, 0 min)\n",
            "Extracting data from /root/nilearn_data/cobre/433e5c0cba0e8bdc641c5a8adbb3c990/fmri_0040121.tsv.gz..... done.\n"
          ]
        },
        {
          "output_type": "stream",
          "name": "stdout",
          "text": [
            "Downloading data from https://ndownloader.figshare.com/files/6848298 ...\n"
          ]
        },
        {
          "output_type": "stream",
          "name": "stderr",
          "text": [
            "\rDownloaded 3481600 of 4551063 bytes (76.5%,    0.3s remaining) ...done. (2 seconds, 0 min)\n"
          ]
        },
        {
          "output_type": "stream",
          "name": "stdout",
          "text": [
            "Downloading data from https://ndownloader.figshare.com/files/6848301 ...\n"
          ]
        },
        {
          "output_type": "stream",
          "name": "stderr",
          "text": [
            " ...done. (0 seconds, 0 min)\n",
            "Extracting data from /root/nilearn_data/cobre/bfac74090e10957abb67237a9a6a5655/fmri_0040020.tsv.gz..... done.\n"
          ]
        },
        {
          "output_type": "stream",
          "name": "stdout",
          "text": [
            "Downloading data from https://ndownloader.figshare.com/files/6848490 ...\n"
          ]
        },
        {
          "output_type": "stream",
          "name": "stderr",
          "text": [
            "\rDownloaded 2768896 of 4653489 bytes (59.5%,    0.7s remaining) ...done. (2 seconds, 0 min)\n"
          ]
        },
        {
          "output_type": "stream",
          "name": "stdout",
          "text": [
            "Downloading data from https://ndownloader.figshare.com/files/6848493 ...\n"
          ]
        },
        {
          "output_type": "stream",
          "name": "stderr",
          "text": [
            " ...done. (0 seconds, 0 min)\n",
            "Extracting data from /root/nilearn_data/cobre/f006ca3519f6bb28f44b9cf417d21baf/fmri_0040052.tsv.gz..... done.\n"
          ]
        },
        {
          "output_type": "stream",
          "name": "stdout",
          "text": [
            "Downloading data from https://ndownloader.figshare.com/files/6848568 ...\n"
          ]
        },
        {
          "output_type": "stream",
          "name": "stderr",
          "text": [
            "\rDownloaded 2277376 of 4596677 bytes (49.5%,    1.1s remaining) ...done. (2 seconds, 0 min)\n"
          ]
        },
        {
          "output_type": "stream",
          "name": "stdout",
          "text": [
            "Downloading data from https://ndownloader.figshare.com/files/6848571 ...\n"
          ]
        },
        {
          "output_type": "stream",
          "name": "stderr",
          "text": [
            " ...done. (0 seconds, 0 min)\n",
            "Extracting data from /root/nilearn_data/cobre/299ca69e0ad3a861a125a7c752e83e5a/fmri_0040065.tsv.gz..... done.\n"
          ]
        },
        {
          "output_type": "stream",
          "name": "stdout",
          "text": [
            "Downloading data from https://ndownloader.figshare.com/files/6848934 ...\n"
          ]
        },
        {
          "output_type": "stream",
          "name": "stderr",
          "text": [
            "\rDownloaded 3809280 of 4587115 bytes (83.0%,    0.2s remaining) ...done. (2 seconds, 0 min)\n"
          ]
        },
        {
          "output_type": "stream",
          "name": "stdout",
          "text": [
            "Downloading data from https://ndownloader.figshare.com/files/6848937 ...\n"
          ]
        },
        {
          "output_type": "stream",
          "name": "stderr",
          "text": [
            " ...done. (0 seconds, 0 min)\n",
            "Extracting data from /root/nilearn_data/cobre/5eb64f00c4a989fd64422c592475ed4c/fmri_0040128.tsv.gz..... done.\n"
          ]
        },
        {
          "output_type": "stream",
          "name": "stdout",
          "text": [
            "Downloading data from https://ndownloader.figshare.com/files/6848484 ...\n"
          ]
        },
        {
          "output_type": "stream",
          "name": "stderr",
          "text": [
            "\rDownloaded 3342336 of 4672864 bytes (71.5%,    0.4s remaining) ...done. (2 seconds, 0 min)\n"
          ]
        },
        {
          "output_type": "stream",
          "name": "stdout",
          "text": [
            "Downloading data from https://ndownloader.figshare.com/files/6848487 ...\n"
          ]
        },
        {
          "output_type": "stream",
          "name": "stderr",
          "text": [
            " ...done. (0 seconds, 0 min)\n",
            "Extracting data from /root/nilearn_data/cobre/ce31f466fadb6e22c80c0b8969b17ff8/fmri_0040051.tsv.gz..... done.\n"
          ]
        },
        {
          "output_type": "stream",
          "name": "stdout",
          "text": [
            "Downloading data from https://ndownloader.figshare.com/files/6848850 ...\n"
          ]
        },
        {
          "output_type": "stream",
          "name": "stderr",
          "text": [
            "\rDownloaded 2760704 of 4331760 bytes (63.7%,    0.6s remaining) ...done. (2 seconds, 0 min)\n"
          ]
        },
        {
          "output_type": "stream",
          "name": "stdout",
          "text": [
            "Downloading data from https://ndownloader.figshare.com/files/6848853 ...\n"
          ]
        },
        {
          "output_type": "stream",
          "name": "stderr",
          "text": [
            " ...done. (0 seconds, 0 min)\n",
            "Extracting data from /root/nilearn_data/cobre/cff9fd15d22059a176d15190e6caf601/fmri_0040114.tsv.gz..... done.\n"
          ]
        },
        {
          "output_type": "stream",
          "name": "stdout",
          "text": [
            "Downloading data from https://ndownloader.figshare.com/files/6848940 ...\n"
          ]
        },
        {
          "output_type": "stream",
          "name": "stderr",
          "text": [
            "\rDownloaded 3555328 of 4518393 bytes (78.7%,    0.3s remaining) ...done. (2 seconds, 0 min)\n"
          ]
        },
        {
          "output_type": "stream",
          "name": "stdout",
          "text": [
            "Downloading data from https://ndownloader.figshare.com/files/6848943 ...\n"
          ]
        },
        {
          "output_type": "stream",
          "name": "stderr",
          "text": [
            " ...done. (0 seconds, 0 min)\n",
            "Extracting data from /root/nilearn_data/cobre/447df6e56661d38b5f894d96e38b01c2/fmri_0040129.tsv.gz..... done.\n"
          ]
        },
        {
          "output_type": "stream",
          "name": "stdout",
          "text": [
            "Downloading data from https://ndownloader.figshare.com/files/6848496 ...\n"
          ]
        },
        {
          "output_type": "stream",
          "name": "stderr",
          "text": [
            "\rDownloaded 3063808 of 4516202 bytes (67.8%,    0.5s remaining) ...done. (2 seconds, 0 min)\n"
          ]
        },
        {
          "output_type": "stream",
          "name": "stdout",
          "text": [
            "Downloading data from https://ndownloader.figshare.com/files/6848499 ...\n"
          ]
        },
        {
          "output_type": "stream",
          "name": "stderr",
          "text": [
            " ...done. (0 seconds, 0 min)\n",
            "Extracting data from /root/nilearn_data/cobre/4c7d2fca87218d8466eecbacf3eab588/fmri_0040053.tsv.gz..... done.\n"
          ]
        },
        {
          "output_type": "stream",
          "name": "stdout",
          "text": [
            "Downloading data from https://ndownloader.figshare.com/files/6848586 ...\n"
          ]
        },
        {
          "output_type": "stream",
          "name": "stderr",
          "text": [
            "\rDownloaded 2834432 of 4595254 bytes (61.7%,    0.7s remaining) ...done. (2 seconds, 0 min)\n"
          ]
        },
        {
          "output_type": "stream",
          "name": "stdout",
          "text": [
            "Downloading data from https://ndownloader.figshare.com/files/6848589 ...\n"
          ]
        },
        {
          "output_type": "stream",
          "name": "stderr",
          "text": [
            " ...done. (0 seconds, 0 min)\n",
            "Extracting data from /root/nilearn_data/cobre/7c77d9be9410f1827a5bfd2a9d55f421/fmri_0040068.tsv.gz..... done.\n"
          ]
        },
        {
          "output_type": "stream",
          "name": "stdout",
          "text": [
            "Downloading data from https://ndownloader.figshare.com/files/6848712 ...\n"
          ]
        },
        {
          "output_type": "stream",
          "name": "stderr",
          "text": [
            "\rDownloaded 2637824 of 4556172 bytes (57.9%,    0.8s remaining) ...done. (2 seconds, 0 min)\n"
          ]
        },
        {
          "output_type": "stream",
          "name": "stdout",
          "text": [
            "Downloading data from https://ndownloader.figshare.com/files/6848715 ...\n"
          ]
        },
        {
          "output_type": "stream",
          "name": "stderr",
          "text": [
            " ...done. (0 seconds, 0 min)\n",
            "Extracting data from /root/nilearn_data/cobre/aea7a57b01069fb5564e61dc1f42530c/fmri_0040091.tsv.gz..... done.\n"
          ]
        },
        {
          "output_type": "stream",
          "name": "stdout",
          "text": [
            "Downloading data from https://ndownloader.figshare.com/files/6848976 ...\n"
          ]
        },
        {
          "output_type": "stream",
          "name": "stderr",
          "text": [
            "\rDownloaded 2834432 of 4624452 bytes (61.3%,    0.7s remaining) ...done. (2 seconds, 0 min)\n"
          ]
        },
        {
          "output_type": "stream",
          "name": "stdout",
          "text": [
            "Downloading data from https://ndownloader.figshare.com/files/6848979 ...\n"
          ]
        },
        {
          "output_type": "stream",
          "name": "stderr",
          "text": [
            " ...done. (0 seconds, 0 min)\n",
            "Extracting data from /root/nilearn_data/cobre/98a2d5d55994201cf5ca899f41edb483/fmri_0040135.tsv.gz..... done.\n"
          ]
        },
        {
          "output_type": "stream",
          "name": "stdout",
          "text": [
            "Downloading data from https://ndownloader.figshare.com/files/6848724 ...\n"
          ]
        },
        {
          "output_type": "stream",
          "name": "stderr",
          "text": [
            "\rDownloaded 2752512 of 4533894 bytes (60.7%,    0.7s remaining) ...done. (2 seconds, 0 min)\n"
          ]
        },
        {
          "output_type": "stream",
          "name": "stdout",
          "text": [
            "Downloading data from https://ndownloader.figshare.com/files/6848727 ...\n"
          ]
        },
        {
          "output_type": "stream",
          "name": "stderr",
          "text": [
            " ...done. (0 seconds, 0 min)\n",
            "Extracting data from /root/nilearn_data/cobre/8ac369f55252247ed042bfbdbdaf8832/fmri_0040093.tsv.gz..... done.\n"
          ]
        },
        {
          "output_type": "stream",
          "name": "stdout",
          "text": [
            "Downloading data from https://ndownloader.figshare.com/files/6848394 ...\n"
          ]
        },
        {
          "output_type": "stream",
          "name": "stderr",
          "text": [
            "\rDownloaded 2760704 of 4566244 bytes (60.5%,    0.7s remaining) ...done. (2 seconds, 0 min)\n"
          ]
        },
        {
          "output_type": "stream",
          "name": "stdout",
          "text": [
            "Downloading data from https://ndownloader.figshare.com/files/6848397 ...\n"
          ]
        },
        {
          "output_type": "stream",
          "name": "stderr",
          "text": [
            " ...done. (0 seconds, 0 min)\n",
            "Extracting data from /root/nilearn_data/cobre/d22a0250adab29b895fcd9e986961ac6/fmri_0040036.tsv.gz..... done.\n"
          ]
        },
        {
          "output_type": "stream",
          "name": "stdout",
          "text": [
            "Downloading data from https://ndownloader.figshare.com/files/6848790 ...\n"
          ]
        },
        {
          "output_type": "stream",
          "name": "stderr",
          "text": [
            "\rDownloaded 2351104 of 4566556 bytes (51.5%,    1.0s remaining) ...done. (2 seconds, 0 min)\n"
          ]
        },
        {
          "output_type": "stream",
          "name": "stdout",
          "text": [
            "Downloading data from https://ndownloader.figshare.com/files/6848793 ...\n"
          ]
        },
        {
          "output_type": "stream",
          "name": "stderr",
          "text": [
            " ...done. (0 seconds, 0 min)\n",
            "Extracting data from /root/nilearn_data/cobre/386c9d2e3df1d7f9be222929c539a85e/fmri_0040104.tsv.gz..... done.\n"
          ]
        },
        {
          "output_type": "stream",
          "name": "stdout",
          "text": [
            "Downloading data from https://ndownloader.figshare.com/files/6848886 ...\n"
          ]
        },
        {
          "output_type": "stream",
          "name": "stderr",
          "text": [
            "\rDownloaded 3170304 of 4335464 bytes (73.1%,    0.4s remaining) ...done. (2 seconds, 0 min)\n"
          ]
        },
        {
          "output_type": "stream",
          "name": "stdout",
          "text": [
            "Downloading data from https://ndownloader.figshare.com/files/6848889 ...\n"
          ]
        },
        {
          "output_type": "stream",
          "name": "stderr",
          "text": [
            " ...done. (0 seconds, 0 min)\n",
            "Extracting data from /root/nilearn_data/cobre/5dc5e3b270269cba3966fa31588b7257/fmri_0040120.tsv.gz..... done.\n"
          ]
        },
        {
          "output_type": "stream",
          "name": "stdout",
          "text": [
            "Downloading data from https://ndownloader.figshare.com/files/6848928 ...\n"
          ]
        },
        {
          "output_type": "stream",
          "name": "stderr",
          "text": [
            "\rDownloaded 2670592 of 4358576 bytes (61.3%,    0.7s remaining) ...done. (2 seconds, 0 min)\n"
          ]
        },
        {
          "output_type": "stream",
          "name": "stdout",
          "text": [
            "Downloading data from https://ndownloader.figshare.com/files/6848931 ...\n"
          ]
        },
        {
          "output_type": "stream",
          "name": "stderr",
          "text": [
            " ...done. (0 seconds, 0 min)\n",
            "Extracting data from /root/nilearn_data/cobre/b316555cbb1737d7e894b988e9780e64/fmri_0040127.tsv.gz..... done.\n"
          ]
        },
        {
          "output_type": "stream",
          "name": "stdout",
          "text": [
            "Downloading data from https://ndownloader.figshare.com/files/6848514 ...\n"
          ]
        },
        {
          "output_type": "stream",
          "name": "stderr",
          "text": [
            "\rDownloaded 3317760 of 4639453 bytes (71.5%,    0.4s remaining) ...done. (2 seconds, 0 min)\n"
          ]
        },
        {
          "output_type": "stream",
          "name": "stdout",
          "text": [
            "Downloading data from https://ndownloader.figshare.com/files/6848517 ...\n"
          ]
        },
        {
          "output_type": "stream",
          "name": "stderr",
          "text": [
            " ...done. (0 seconds, 0 min)\n",
            "Extracting data from /root/nilearn_data/cobre/b54127146bebc0a1577663db77da54e7/fmri_0040056.tsv.gz..... done.\n"
          ]
        },
        {
          "output_type": "stream",
          "name": "stdout",
          "text": [
            "Downloading data from https://ndownloader.figshare.com/files/6848526 ...\n"
          ]
        },
        {
          "output_type": "stream",
          "name": "stderr",
          "text": [
            "\rDownloaded 2678784 of 4526132 bytes (59.2%,    0.8s remaining) ...done. (2 seconds, 0 min)\n"
          ]
        },
        {
          "output_type": "stream",
          "name": "stdout",
          "text": [
            "Downloading data from https://ndownloader.figshare.com/files/6848529 ...\n"
          ]
        },
        {
          "output_type": "stream",
          "name": "stderr",
          "text": [
            " ...done. (0 seconds, 0 min)\n",
            "Extracting data from /root/nilearn_data/cobre/d266bff0ab2e5630aa19b5281c47dcc2/fmri_0040058.tsv.gz..... done.\n"
          ]
        },
        {
          "output_type": "stream",
          "name": "stdout",
          "text": [
            "Downloading data from https://ndownloader.figshare.com/files/6848688 ...\n"
          ]
        },
        {
          "output_type": "stream",
          "name": "stderr",
          "text": [
            "\rDownloaded 2785280 of 4250059 bytes (65.5%,    0.6s remaining) ...done. (2 seconds, 0 min)\n"
          ]
        },
        {
          "output_type": "stream",
          "name": "stdout",
          "text": [
            "Downloading data from https://ndownloader.figshare.com/files/6848691 ...\n"
          ]
        },
        {
          "output_type": "stream",
          "name": "stderr",
          "text": [
            " ...done. (0 seconds, 0 min)\n",
            "Extracting data from /root/nilearn_data/cobre/dc0b143affa421c69fedc2926b7eeca9/fmri_0040087.tsv.gz..... done.\n"
          ]
        },
        {
          "output_type": "stream",
          "name": "stdout",
          "text": [
            "Downloading data from https://ndownloader.figshare.com/files/6848856 ...\n"
          ]
        },
        {
          "output_type": "stream",
          "name": "stderr",
          "text": [
            "\rDownloaded 3506176 of 4361922 bytes (80.4%,    0.3s remaining) ...done. (2 seconds, 0 min)\n"
          ]
        },
        {
          "output_type": "stream",
          "name": "stdout",
          "text": [
            "Downloading data from https://ndownloader.figshare.com/files/6848859 ...\n"
          ]
        },
        {
          "output_type": "stream",
          "name": "stderr",
          "text": [
            " ...done. (0 seconds, 0 min)\n",
            "Extracting data from /root/nilearn_data/cobre/5a9e6ef1c95ae6b0568f859a5cf27ec9/fmri_0040115.tsv.gz..... done.\n"
          ]
        },
        {
          "output_type": "stream",
          "name": "stdout",
          "text": [
            "Downloading data from https://ndownloader.figshare.com/files/6848994 ...\n"
          ]
        },
        {
          "output_type": "stream",
          "name": "stderr",
          "text": [
            "\rDownloaded 2367488 of 4597734 bytes (51.5%,    1.0s remaining) ...done. (2 seconds, 0 min)\n"
          ]
        },
        {
          "output_type": "stream",
          "name": "stdout",
          "text": [
            "Downloading data from https://ndownloader.figshare.com/files/6848997 ...\n"
          ]
        },
        {
          "output_type": "stream",
          "name": "stderr",
          "text": [
            " ...done. (0 seconds, 0 min)\n",
            "Extracting data from /root/nilearn_data/cobre/b82db541e4f9a5e408d9ad43343175de/fmri_0040138.tsv.gz..... done.\n"
          ]
        },
        {
          "output_type": "stream",
          "name": "stdout",
          "text": [
            "Downloading data from https://ndownloader.figshare.com/files/6849000 ...\n"
          ]
        },
        {
          "output_type": "stream",
          "name": "stderr",
          "text": [
            "\rDownloaded 2654208 of 4447040 bytes (59.7%,    0.7s remaining) ...done. (2 seconds, 0 min)\n"
          ]
        },
        {
          "output_type": "stream",
          "name": "stdout",
          "text": [
            "Downloading data from https://ndownloader.figshare.com/files/6849003 ...\n"
          ]
        },
        {
          "output_type": "stream",
          "name": "stderr",
          "text": [
            " ...done. (0 seconds, 0 min)\n",
            "Extracting data from /root/nilearn_data/cobre/add86cccd2ec37880b3e555251501f43/fmri_0040139.tsv.gz..... done.\n"
          ]
        },
        {
          "output_type": "stream",
          "name": "stdout",
          "text": [
            "Downloading data from https://ndownloader.figshare.com/files/6848280 ...\n"
          ]
        },
        {
          "output_type": "stream",
          "name": "stderr",
          "text": [
            "\rDownloaded 2629632 of 4318414 bytes (60.9%,    0.7s remaining) ...done. (2 seconds, 0 min)\n"
          ]
        },
        {
          "output_type": "stream",
          "name": "stdout",
          "text": [
            "Downloading data from https://ndownloader.figshare.com/files/6848283 ...\n"
          ]
        },
        {
          "output_type": "stream",
          "name": "stderr",
          "text": [
            " ...done. (0 seconds, 0 min)\n",
            "Extracting data from /root/nilearn_data/cobre/b70d55395685d07aa8fdffc94edc71da/fmri_0040017.tsv.gz..... done.\n"
          ]
        },
        {
          "output_type": "stream",
          "name": "stdout",
          "text": [
            "Downloading data from https://ndownloader.figshare.com/files/6848388 ...\n"
          ]
        },
        {
          "output_type": "stream",
          "name": "stderr",
          "text": [
            "\rDownloaded 3301376 of 4407131 bytes (74.9%,    0.4s remaining) ...done. (2 seconds, 0 min)\n"
          ]
        },
        {
          "output_type": "stream",
          "name": "stdout",
          "text": [
            "Downloading data from https://ndownloader.figshare.com/files/6848391 ...\n"
          ]
        },
        {
          "output_type": "stream",
          "name": "stderr",
          "text": [
            " ...done. (0 seconds, 0 min)\n",
            "Extracting data from /root/nilearn_data/cobre/353ecb8a3fa22bfea3957c8bc90a8290/fmri_0040035.tsv.gz..... done.\n"
          ]
        },
        {
          "output_type": "stream",
          "name": "stdout",
          "text": [
            "Downloading data from https://ndownloader.figshare.com/files/6848448 ...\n"
          ]
        },
        {
          "output_type": "stream",
          "name": "stderr",
          "text": [
            "\rDownloaded 2662400 of 4126071 bytes (64.5%,    0.6s remaining) ...done. (2 seconds, 0 min)\n"
          ]
        },
        {
          "output_type": "stream",
          "name": "stdout",
          "text": [
            "Downloading data from https://ndownloader.figshare.com/files/6848451 ...\n"
          ]
        },
        {
          "output_type": "stream",
          "name": "stderr",
          "text": [
            " ...done. (0 seconds, 0 min)\n",
            "Extracting data from /root/nilearn_data/cobre/32b47fdf5040a6cf341e306058d1d040/fmri_0040045.tsv.gz..... done.\n"
          ]
        },
        {
          "output_type": "stream",
          "name": "stdout",
          "text": [
            "Downloading data from https://ndownloader.figshare.com/files/6848508 ...\n"
          ]
        },
        {
          "output_type": "stream",
          "name": "stderr",
          "text": [
            "\rDownloaded 2826240 of 4535546 bytes (62.3%,    0.7s remaining) ...done. (2 seconds, 0 min)\n"
          ]
        },
        {
          "output_type": "stream",
          "name": "stdout",
          "text": [
            "Downloading data from https://ndownloader.figshare.com/files/6848511 ...\n"
          ]
        },
        {
          "output_type": "stream",
          "name": "stderr",
          "text": [
            " ...done. (0 seconds, 0 min)\n",
            "Extracting data from /root/nilearn_data/cobre/e5dc1faa428abfd54acfffa1c1091732/fmri_0040055.tsv.gz..... done.\n"
          ]
        },
        {
          "output_type": "stream",
          "name": "stdout",
          "text": [
            "Downloading data from https://ndownloader.figshare.com/files/6848262 ...\n"
          ]
        },
        {
          "output_type": "stream",
          "name": "stderr",
          "text": [
            "\rDownloaded 2924544 of 4240132 bytes (69.0%,    0.5s remaining) ...done. (2 seconds, 0 min)\n"
          ]
        },
        {
          "output_type": "stream",
          "name": "stdout",
          "text": [
            "Downloading data from https://ndownloader.figshare.com/files/6848265 ...\n"
          ]
        },
        {
          "output_type": "stream",
          "name": "stderr",
          "text": [
            " ...done. (0 seconds, 0 min)\n",
            "Extracting data from /root/nilearn_data/cobre/0b613ec379333f48f6d60632e7fe449e/fmri_0040014.tsv.gz..... done.\n"
          ]
        },
        {
          "output_type": "stream",
          "name": "stdout",
          "text": [
            "Downloading data from https://ndownloader.figshare.com/files/6848376 ...\n"
          ]
        },
        {
          "output_type": "stream",
          "name": "stderr",
          "text": [
            "\rDownloaded 2400256 of 4530982 bytes (53.0%,    1.0s remaining) ...done. (2 seconds, 0 min)\n"
          ]
        },
        {
          "output_type": "stream",
          "name": "stdout",
          "text": [
            "Downloading data from https://ndownloader.figshare.com/files/6848379 ...\n"
          ]
        },
        {
          "output_type": "stream",
          "name": "stderr",
          "text": [
            " ...done. (0 seconds, 0 min)\n",
            "Extracting data from /root/nilearn_data/cobre/f16c0a0e779562038bc1d80a48174aa6/fmri_0040033.tsv.gz..... done.\n"
          ]
        },
        {
          "output_type": "stream",
          "name": "stdout",
          "text": [
            "Downloading data from https://ndownloader.figshare.com/files/6848466 ...\n"
          ]
        },
        {
          "output_type": "stream",
          "name": "stderr",
          "text": [
            "\rDownloaded 2072576 of 4415380 bytes (46.9%,    1.2s remaining) ...done. (2 seconds, 0 min)\n"
          ]
        },
        {
          "output_type": "stream",
          "name": "stdout",
          "text": [
            "Downloading data from https://ndownloader.figshare.com/files/6848469 ...\n"
          ]
        },
        {
          "output_type": "stream",
          "name": "stderr",
          "text": [
            " ...done. (0 seconds, 0 min)\n",
            "Extracting data from /root/nilearn_data/cobre/f1cf4fc950e390b644c4756f1d7571ed/fmri_0040048.tsv.gz..... done.\n"
          ]
        },
        {
          "output_type": "stream",
          "name": "stdout",
          "text": [
            "Downloading data from https://ndownloader.figshare.com/files/6848580 ...\n"
          ]
        },
        {
          "output_type": "stream",
          "name": "stderr",
          "text": [
            "\rDownloaded 2957312 of 4675739 bytes (63.2%,    0.6s remaining) ...done. (3 seconds, 0 min)\n"
          ]
        },
        {
          "output_type": "stream",
          "name": "stdout",
          "text": [
            "Downloading data from https://ndownloader.figshare.com/files/6848583 ...\n"
          ]
        },
        {
          "output_type": "stream",
          "name": "stderr",
          "text": [
            " ...done. (0 seconds, 0 min)\n",
            "Extracting data from /root/nilearn_data/cobre/0a13ad695794bd882eb610537ed8834c/fmri_0040067.tsv.gz..... done.\n"
          ]
        },
        {
          "output_type": "stream",
          "name": "stdout",
          "text": [
            "Downloading data from https://ndownloader.figshare.com/files/6848808 ...\n"
          ]
        },
        {
          "output_type": "stream",
          "name": "stderr",
          "text": [
            "\rDownloaded 2859008 of 4541587 bytes (63.0%,    0.6s remaining) ...done. (2 seconds, 0 min)\n"
          ]
        },
        {
          "output_type": "stream",
          "name": "stdout",
          "text": [
            "Downloading data from https://ndownloader.figshare.com/files/6848811 ...\n"
          ]
        },
        {
          "output_type": "stream",
          "name": "stderr",
          "text": [
            " ...done. (0 seconds, 0 min)\n",
            "Extracting data from /root/nilearn_data/cobre/51cf21fec93eda9d261ba6e60772b3b3/fmri_0040107.tsv.gz..... done.\n"
          ]
        },
        {
          "output_type": "stream",
          "name": "stdout",
          "text": [
            "Downloading data from https://ndownloader.figshare.com/files/6848256 ...\n"
          ]
        },
        {
          "output_type": "stream",
          "name": "stderr",
          "text": [
            "\rDownloaded 3268608 of 4316661 bytes (75.7%,    0.3s remaining) ...done. (2 seconds, 0 min)\n"
          ]
        },
        {
          "output_type": "stream",
          "name": "stdout",
          "text": [
            "Downloading data from https://ndownloader.figshare.com/files/6848259 ...\n"
          ]
        },
        {
          "output_type": "stream",
          "name": "stderr",
          "text": [
            " ...done. (0 seconds, 0 min)\n",
            "Extracting data from /root/nilearn_data/cobre/1fb653a5f34e2668fc3f6b7f9a0e7fdf/fmri_0040013.tsv.gz..... done.\n"
          ]
        },
        {
          "output_type": "stream",
          "name": "stdout",
          "text": [
            "Downloading data from https://ndownloader.figshare.com/files/6848616 ...\n"
          ]
        },
        {
          "output_type": "stream",
          "name": "stderr",
          "text": [
            "\rDownloaded 3006464 of 4538631 bytes (66.2%,    0.6s remaining) ...done. (2 seconds, 0 min)\n"
          ]
        },
        {
          "output_type": "stream",
          "name": "stdout",
          "text": [
            "Downloading data from https://ndownloader.figshare.com/files/6848619 ...\n"
          ]
        },
        {
          "output_type": "stream",
          "name": "stderr",
          "text": [
            " ...done. (0 seconds, 0 min)\n",
            "Extracting data from /root/nilearn_data/cobre/3458e174c96ff3708392fa25271e0a42/fmri_0040074.tsv.gz..... done.\n"
          ]
        },
        {
          "output_type": "stream",
          "name": "stdout",
          "text": [
            "Downloading data from https://ndownloader.figshare.com/files/6848874 ...\n"
          ]
        },
        {
          "output_type": "stream",
          "name": "stderr",
          "text": [
            "\rDownloaded 2547712 of 4654182 bytes (54.7%,    0.9s remaining) ...done. (2 seconds, 0 min)\n"
          ]
        },
        {
          "output_type": "stream",
          "name": "stdout",
          "text": [
            "Downloading data from https://ndownloader.figshare.com/files/6848877 ...\n"
          ]
        },
        {
          "output_type": "stream",
          "name": "stderr",
          "text": [
            " ...done. (0 seconds, 0 min)\n",
            "Extracting data from /root/nilearn_data/cobre/fd51da8a572a93da7d704e4e6d8380de/fmri_0040118.tsv.gz..... done.\n"
          ]
        },
        {
          "output_type": "stream",
          "name": "stdout",
          "text": [
            "Downloading data from https://ndownloader.figshare.com/files/6849048 ...\n"
          ]
        },
        {
          "output_type": "stream",
          "name": "stderr",
          "text": [
            "\rDownloaded 2809856 of 4732662 bytes (59.4%,    0.7s remaining) ...done. (2 seconds, 0 min)\n"
          ]
        },
        {
          "output_type": "stream",
          "name": "stdout",
          "text": [
            "Downloading data from https://ndownloader.figshare.com/files/6849051 ...\n"
          ]
        },
        {
          "output_type": "stream",
          "name": "stderr",
          "text": [
            " ...done. (0 seconds, 0 min)\n",
            "Extracting data from /root/nilearn_data/cobre/fc6b1216887a29eac3e7628292ff1923/fmri_0040147.tsv.gz..... done.\n"
          ]
        },
        {
          "output_type": "stream",
          "name": "stdout",
          "text": [
            "Downloading data from https://ndownloader.figshare.com/files/6848910 ...\n"
          ]
        },
        {
          "output_type": "stream",
          "name": "stderr",
          "text": [
            "\rDownloaded 3006464 of 4511976 bytes (66.6%,    0.5s remaining) ...done. (2 seconds, 0 min)\n"
          ]
        },
        {
          "output_type": "stream",
          "name": "stdout",
          "text": [
            "Downloading data from https://ndownloader.figshare.com/files/6848913 ...\n"
          ]
        },
        {
          "output_type": "stream",
          "name": "stderr",
          "text": [
            " ...done. (0 seconds, 0 min)\n",
            "Extracting data from /root/nilearn_data/cobre/2219daeb72e9bcf0927820da7526c1d5/fmri_0040124.tsv.gz..... done.\n"
          ]
        },
        {
          "output_type": "stream",
          "name": "stdout",
          "text": [
            "Downloading data from https://ndownloader.figshare.com/files/6849012 ...\n"
          ]
        },
        {
          "output_type": "stream",
          "name": "stderr",
          "text": [
            "\rDownloaded 3997696 of 4507888 bytes (88.7%,    0.1s remaining) ...done. (2 seconds, 0 min)\n"
          ]
        },
        {
          "output_type": "stream",
          "name": "stdout",
          "text": [
            "Downloading data from https://ndownloader.figshare.com/files/6849015 ...\n"
          ]
        },
        {
          "output_type": "stream",
          "name": "stderr",
          "text": [
            " ...done. (0 seconds, 0 min)\n",
            "Extracting data from /root/nilearn_data/cobre/3051fbde06e5148f55676302829cf31d/fmri_0040141.tsv.gz..... done.\n"
          ]
        },
        {
          "output_type": "stream",
          "name": "stdout",
          "text": [
            "Downloading data from https://ndownloader.figshare.com/files/6848478 ...\n"
          ]
        },
        {
          "output_type": "stream",
          "name": "stderr",
          "text": [
            "\rDownloaded 2695168 of 4430995 bytes (60.8%,    0.7s remaining) ...done. (2 seconds, 0 min)\n"
          ]
        },
        {
          "output_type": "stream",
          "name": "stdout",
          "text": [
            "Downloading data from https://ndownloader.figshare.com/files/6848481 ...\n"
          ]
        },
        {
          "output_type": "stream",
          "name": "stderr",
          "text": [
            " ...done. (0 seconds, 0 min)\n",
            "Extracting data from /root/nilearn_data/cobre/7bdf63b853c93eaf64b8f09aa60f673d/fmri_0040050.tsv.gz..... done.\n"
          ]
        },
        {
          "output_type": "stream",
          "name": "stdout",
          "text": [
            "Downloading data from https://ndownloader.figshare.com/files/6848520 ...\n"
          ]
        },
        {
          "output_type": "stream",
          "name": "stderr",
          "text": [
            "\rDownloaded 3325952 of 4363787 bytes (76.2%,    0.3s remaining) ...done. (2 seconds, 0 min)\n"
          ]
        },
        {
          "output_type": "stream",
          "name": "stdout",
          "text": [
            "Downloading data from https://ndownloader.figshare.com/files/6848523 ...\n"
          ]
        },
        {
          "output_type": "stream",
          "name": "stderr",
          "text": [
            " ...done. (0 seconds, 0 min)\n",
            "Extracting data from /root/nilearn_data/cobre/3e28795f5120be4512aa09e6a7cb98f3/fmri_0040057.tsv.gz..... done.\n"
          ]
        },
        {
          "output_type": "stream",
          "name": "stdout",
          "text": [
            "Downloading data from https://ndownloader.figshare.com/files/6848556 ...\n"
          ]
        },
        {
          "output_type": "stream",
          "name": "stderr",
          "text": [
            "\rDownloaded 2801664 of 4656081 bytes (60.2%,    0.7s remaining) ...done. (2 seconds, 0 min)\n"
          ]
        },
        {
          "output_type": "stream",
          "name": "stdout",
          "text": [
            "Downloading data from https://ndownloader.figshare.com/files/6848559 ...\n"
          ]
        },
        {
          "output_type": "stream",
          "name": "stderr",
          "text": [
            " ...done. (0 seconds, 0 min)\n",
            "Extracting data from /root/nilearn_data/cobre/05458d776a3c6f8fbcfd8bae19ce6ce8/fmri_0040063.tsv.gz..... done.\n"
          ]
        },
        {
          "output_type": "stream",
          "name": "stdout",
          "text": [
            "Downloading data from https://ndownloader.figshare.com/files/6848436 ...\n"
          ]
        },
        {
          "output_type": "stream",
          "name": "stderr",
          "text": [
            "\rDownloaded 2736128 of 4780012 bytes (57.2%,    0.8s remaining) ...done. (2 seconds, 0 min)\n"
          ]
        },
        {
          "output_type": "stream",
          "name": "stdout",
          "text": [
            "Downloading data from https://ndownloader.figshare.com/files/6848439 ...\n"
          ]
        },
        {
          "output_type": "stream",
          "name": "stderr",
          "text": [
            " ...done. (0 seconds, 0 min)\n",
            "Extracting data from /root/nilearn_data/cobre/96489eca6fef4a2ed308a6e7b16c04bb/fmri_0040043.tsv.gz..... done.\n"
          ]
        },
        {
          "output_type": "stream",
          "name": "stdout",
          "text": [
            "Downloading data from https://ndownloader.figshare.com/files/6848982 ...\n"
          ]
        },
        {
          "output_type": "stream",
          "name": "stderr",
          "text": [
            "\rDownloaded 2154496 of 4263927 bytes (50.5%,    1.1s remaining) ...done. (2 seconds, 0 min)\n"
          ]
        },
        {
          "output_type": "stream",
          "name": "stdout",
          "text": [
            "Downloading data from https://ndownloader.figshare.com/files/6848985 ...\n"
          ]
        },
        {
          "output_type": "stream",
          "name": "stderr",
          "text": [
            " ...done. (0 seconds, 0 min)\n",
            "Extracting data from /root/nilearn_data/cobre/d7267ae2d66935a22adc343a26562d59/fmri_0040136.tsv.gz..... done.\n"
          ]
        },
        {
          "output_type": "stream",
          "name": "stdout",
          "text": [
            "Downloading data from https://ndownloader.figshare.com/files/6849042 ...\n"
          ]
        },
        {
          "output_type": "stream",
          "name": "stderr",
          "text": [
            "\rDownloaded 2539520 of 4634643 bytes (54.8%,    0.9s remaining) ...done. (2 seconds, 0 min)\n"
          ]
        },
        {
          "output_type": "stream",
          "name": "stdout",
          "text": [
            "Downloading data from https://ndownloader.figshare.com/files/6849045 ...\n"
          ]
        },
        {
          "output_type": "stream",
          "name": "stderr",
          "text": [
            " ...done. (0 seconds, 0 min)\n",
            "Extracting data from /root/nilearn_data/cobre/3281888247af6caa04615124e14c654e/fmri_0040146.tsv.gz..... done.\n"
          ]
        },
        {
          "output_type": "stream",
          "name": "stdout",
          "text": [
            "Downloading data from https://ndownloader.figshare.com/files/6848736 ...\n"
          ]
        },
        {
          "output_type": "stream",
          "name": "stderr",
          "text": [
            "\rDownloaded 2891776 of 4573061 bytes (63.2%,    0.6s remaining) ...done. (2 seconds, 0 min)\n"
          ]
        },
        {
          "output_type": "stream",
          "name": "stdout",
          "text": [
            "Downloading data from https://ndownloader.figshare.com/files/6848739 ...\n"
          ]
        },
        {
          "output_type": "stream",
          "name": "stderr",
          "text": [
            " ...done. (0 seconds, 0 min)\n",
            "Extracting data from /root/nilearn_data/cobre/a4080a2306a6a90fceda43ba1e3e9a53/fmri_0040095.tsv.gz..... done.\n"
          ]
        },
        {
          "output_type": "stream",
          "name": "stdout",
          "text": [
            "Downloading data from https://ndownloader.figshare.com/files/6848778 ...\n"
          ]
        },
        {
          "output_type": "stream",
          "name": "stderr",
          "text": [
            "\rDownloaded 2940928 of 4499658 bytes (65.4%,    0.6s remaining) ...done. (2 seconds, 0 min)\n"
          ]
        },
        {
          "output_type": "stream",
          "name": "stdout",
          "text": [
            "Downloading data from https://ndownloader.figshare.com/files/6848781 ...\n"
          ]
        },
        {
          "output_type": "stream",
          "name": "stderr",
          "text": [
            " ...done. (0 seconds, 0 min)\n",
            "Extracting data from /root/nilearn_data/cobre/1a9608467cb5e039612d04d3a262a8da/fmri_0040102.tsv.gz..... done.\n"
          ]
        },
        {
          "output_type": "stream",
          "name": "stdout",
          "text": [
            "Downloading data from https://ndownloader.figshare.com/files/6848322 ...\n"
          ]
        },
        {
          "output_type": "stream",
          "name": "stderr",
          "text": [
            "\rDownloaded 3899392 of 4524258 bytes (86.2%,    0.2s remaining) ...done. (2 seconds, 0 min)\n"
          ]
        },
        {
          "output_type": "stream",
          "name": "stdout",
          "text": [
            "Downloading data from https://ndownloader.figshare.com/files/6848325 ...\n"
          ]
        },
        {
          "output_type": "stream",
          "name": "stderr",
          "text": [
            " ...done. (0 seconds, 0 min)\n",
            "Extracting data from /root/nilearn_data/cobre/4de055e8bb1c5c1bdc4c3354f4776db5/fmri_0040024.tsv.gz..... done.\n"
          ]
        },
        {
          "output_type": "stream",
          "name": "stdout",
          "text": [
            "Downloading data from https://ndownloader.figshare.com/files/6848970 ...\n"
          ]
        },
        {
          "output_type": "stream",
          "name": "stderr",
          "text": [
            "\rDownloaded 2580480 of 4461010 bytes (57.8%,    0.8s remaining) ...done. (2 seconds, 0 min)\n"
          ]
        },
        {
          "output_type": "stream",
          "name": "stdout",
          "text": [
            "Downloading data from https://ndownloader.figshare.com/files/6848973 ...\n"
          ]
        },
        {
          "output_type": "stream",
          "name": "stderr",
          "text": [
            " ...done. (0 seconds, 0 min)\n",
            "Extracting data from /root/nilearn_data/cobre/ab2a9793115c71d7ce094faac266ed93/fmri_0040134.tsv.gz..... done.\n"
          ]
        },
        {
          "output_type": "stream",
          "name": "stdout",
          "text": [
            "Downloading data from https://ndownloader.figshare.com/files/6848358 ...\n"
          ]
        },
        {
          "output_type": "stream",
          "name": "stderr",
          "text": [
            "\rDownloaded 2686976 of 4448033 bytes (60.4%,    0.7s remaining) ...done. (2 seconds, 0 min)\n"
          ]
        },
        {
          "output_type": "stream",
          "name": "stdout",
          "text": [
            "Downloading data from https://ndownloader.figshare.com/files/6848361 ...\n"
          ]
        },
        {
          "output_type": "stream",
          "name": "stderr",
          "text": [
            " ...done. (0 seconds, 0 min)\n",
            "Extracting data from /root/nilearn_data/cobre/76454a9c807ed8aaa0ea18e4e0d58e0d/fmri_0040030.tsv.gz..... done.\n"
          ]
        },
        {
          "output_type": "stream",
          "name": "stdout",
          "text": [
            "Downloading data from https://ndownloader.figshare.com/files/6848364 ...\n"
          ]
        },
        {
          "output_type": "stream",
          "name": "stderr",
          "text": [
            "\rDownloaded 2670592 of 4527341 bytes (59.0%,    0.8s remaining) ...done. (2 seconds, 0 min)\n"
          ]
        },
        {
          "output_type": "stream",
          "name": "stdout",
          "text": [
            "Downloading data from https://ndownloader.figshare.com/files/6848367 ...\n"
          ]
        },
        {
          "output_type": "stream",
          "name": "stderr",
          "text": [
            " ...done. (0 seconds, 0 min)\n",
            "Extracting data from /root/nilearn_data/cobre/7802b7540d4af1f2c38f670d851ac6bf/fmri_0040031.tsv.gz..... done.\n"
          ]
        },
        {
          "output_type": "stream",
          "name": "stdout",
          "text": [
            "Downloading data from https://ndownloader.figshare.com/files/6848292 ...\n"
          ]
        },
        {
          "output_type": "stream",
          "name": "stderr",
          "text": [
            "\rDownloaded 3227648 of 4715263 bytes (68.5%,    0.5s remaining) ...done. (2 seconds, 0 min)\n"
          ]
        },
        {
          "output_type": "stream",
          "name": "stdout",
          "text": [
            "Downloading data from https://ndownloader.figshare.com/files/6848295 ...\n"
          ]
        },
        {
          "output_type": "stream",
          "name": "stderr",
          "text": [
            " ...done. (0 seconds, 0 min)\n",
            "Extracting data from /root/nilearn_data/cobre/b8086ca73891f2a3c7860a151bf7fc6d/fmri_0040019.tsv.gz..... done.\n"
          ]
        },
        {
          "output_type": "stream",
          "name": "stdout",
          "text": [
            "Downloading data from https://ndownloader.figshare.com/files/6848334 ...\n"
          ]
        },
        {
          "output_type": "stream",
          "name": "stderr",
          "text": [
            "\rDownloaded 2547712 of 4503502 bytes (56.6%,    0.8s remaining) ...done. (2 seconds, 0 min)\n"
          ]
        },
        {
          "output_type": "stream",
          "name": "stdout",
          "text": [
            "Downloading data from https://ndownloader.figshare.com/files/6848337 ...\n"
          ]
        },
        {
          "output_type": "stream",
          "name": "stderr",
          "text": [
            " ...done. (0 seconds, 0 min)\n",
            "Extracting data from /root/nilearn_data/cobre/5595cf821720fd513e28f773a0326b81/fmri_0040026.tsv.gz..... done.\n"
          ]
        },
        {
          "output_type": "stream",
          "name": "stdout",
          "text": [
            "Downloading data from https://ndownloader.figshare.com/files/6848880 ...\n"
          ]
        },
        {
          "output_type": "stream",
          "name": "stderr",
          "text": [
            "\rDownloaded 2383872 of 4373892 bytes (54.5%,    0.9s remaining) ...done. (2 seconds, 0 min)\n"
          ]
        },
        {
          "output_type": "stream",
          "name": "stdout",
          "text": [
            "Downloading data from https://ndownloader.figshare.com/files/6848883 ...\n"
          ]
        },
        {
          "output_type": "stream",
          "name": "stderr",
          "text": [
            " ...done. (0 seconds, 0 min)\n",
            "Extracting data from /root/nilearn_data/cobre/65680433eec49f74a40b9c90b635a886/fmri_0040119.tsv.gz..... done.\n"
          ]
        },
        {
          "output_type": "stream",
          "name": "stdout",
          "text": [
            "Downloading data from https://ndownloader.figshare.com/files/6848286 ...\n"
          ]
        },
        {
          "output_type": "stream",
          "name": "stderr",
          "text": [
            "\rDownloaded 2670592 of 4562442 bytes (58.5%,    0.8s remaining) ...done. (2 seconds, 0 min)\n"
          ]
        },
        {
          "output_type": "stream",
          "name": "stdout",
          "text": [
            "Downloading data from https://ndownloader.figshare.com/files/6848289 ...\n"
          ]
        },
        {
          "output_type": "stream",
          "name": "stderr",
          "text": [
            " ...done. (0 seconds, 0 min)\n",
            "Extracting data from /root/nilearn_data/cobre/15fa0b569d31f9615f4d6cae22c52117/fmri_0040018.tsv.gz..... done.\n"
          ]
        },
        {
          "output_type": "stream",
          "name": "stdout",
          "text": [
            "Downloading data from https://ndownloader.figshare.com/files/6848862 ...\n"
          ]
        },
        {
          "output_type": "stream",
          "name": "stderr",
          "text": [
            "\rDownloaded 2260992 of 4586293 bytes (49.3%,    1.1s remaining) ...done. (2 seconds, 0 min)\n"
          ]
        },
        {
          "output_type": "stream",
          "name": "stdout",
          "text": [
            "Downloading data from https://ndownloader.figshare.com/files/6848865 ...\n"
          ]
        },
        {
          "output_type": "stream",
          "name": "stderr",
          "text": [
            " ...done. (0 seconds, 0 min)\n",
            "Extracting data from /root/nilearn_data/cobre/3f32a4ac9d612349bbbb73c3ee75c107/fmri_0040116.tsv.gz..... done.\n"
          ]
        },
        {
          "output_type": "stream",
          "name": "stdout",
          "text": [
            "Downloading data from https://ndownloader.figshare.com/files/6848946 ...\n"
          ]
        },
        {
          "output_type": "stream",
          "name": "stderr",
          "text": [
            "\rDownloaded 2285568 of 4515203 bytes (50.6%,    1.1s remaining) ...done. (2 seconds, 0 min)\n"
          ]
        },
        {
          "output_type": "stream",
          "name": "stdout",
          "text": [
            "Downloading data from https://ndownloader.figshare.com/files/6848949 ...\n"
          ]
        },
        {
          "output_type": "stream",
          "name": "stderr",
          "text": [
            " ...done. (0 seconds, 0 min)\n",
            "Extracting data from /root/nilearn_data/cobre/c9bee9f65ea2449097832fcf5a19bb97/fmri_0040130.tsv.gz..... done.\n"
          ]
        },
        {
          "output_type": "stream",
          "name": "stdout",
          "text": [
            "Downloading data from https://ndownloader.figshare.com/files/6848952 ...\n"
          ]
        },
        {
          "output_type": "stream",
          "name": "stderr",
          "text": [
            "\rDownloaded 3637248 of 4460774 bytes (81.5%,    0.2s remaining) ...done. (2 seconds, 0 min)\n"
          ]
        },
        {
          "output_type": "stream",
          "name": "stdout",
          "text": [
            "Downloading data from https://ndownloader.figshare.com/files/6848955 ...\n"
          ]
        },
        {
          "output_type": "stream",
          "name": "stderr",
          "text": [
            " ...done. (0 seconds, 0 min)\n",
            "Extracting data from /root/nilearn_data/cobre/684382e28c0fbbe89d31718317e2734b/fmri_0040131.tsv.gz..... done.\n"
          ]
        },
        {
          "output_type": "stream",
          "name": "stdout",
          "text": [
            "Downloading data from https://ndownloader.figshare.com/files/6848316 ...\n"
          ]
        },
        {
          "output_type": "stream",
          "name": "stderr",
          "text": [
            "\rDownloaded 3481600 of 4528051 bytes (76.9%,    0.3s remaining) ...done. (2 seconds, 0 min)\n"
          ]
        },
        {
          "output_type": "stream",
          "name": "stdout",
          "text": [
            "Downloading data from https://ndownloader.figshare.com/files/6848319 ...\n"
          ]
        },
        {
          "output_type": "stream",
          "name": "stderr",
          "text": [
            " ...done. (0 seconds, 0 min)\n",
            "Extracting data from /root/nilearn_data/cobre/ac1cdf7fb3b9387d25a908df52ad1d66/fmri_0040023.tsv.gz..... done.\n"
          ]
        },
        {
          "output_type": "stream",
          "name": "stdout",
          "text": [
            "Downloading data from https://ndownloader.figshare.com/files/6848340 ...\n"
          ]
        },
        {
          "output_type": "stream",
          "name": "stderr",
          "text": [
            "\rDownloaded 2408448 of 4388669 bytes (54.9%,    0.9s remaining) ...done. (2 seconds, 0 min)\n"
          ]
        },
        {
          "output_type": "stream",
          "name": "stdout",
          "text": [
            "Downloading data from https://ndownloader.figshare.com/files/6848343 ...\n"
          ]
        },
        {
          "output_type": "stream",
          "name": "stderr",
          "text": [
            " ...done. (0 seconds, 0 min)\n",
            "Extracting data from /root/nilearn_data/cobre/5ef41fda8564bf964332d3bb5c6f178f/fmri_0040027.tsv.gz..... done.\n"
          ]
        },
        {
          "output_type": "stream",
          "name": "stdout",
          "text": [
            "Downloading data from https://ndownloader.figshare.com/files/6848904 ...\n"
          ]
        },
        {
          "output_type": "stream",
          "name": "stderr",
          "text": [
            "\rDownloaded 3325952 of 4517561 bytes (73.6%,    0.4s remaining) ...done. (2 seconds, 0 min)\n"
          ]
        },
        {
          "output_type": "stream",
          "name": "stdout",
          "text": [
            "Downloading data from https://ndownloader.figshare.com/files/6848907 ...\n"
          ]
        },
        {
          "output_type": "stream",
          "name": "stderr",
          "text": [
            " ...done. (0 seconds, 0 min)\n",
            "Extracting data from /root/nilearn_data/cobre/b7fc4019d9eabc78bb1a92a55f55d262/fmri_0040123.tsv.gz..... done.\n"
          ]
        },
        {
          "output_type": "stream",
          "name": "stdout",
          "text": [
            "Downloading data from https://ndownloader.figshare.com/files/6848916 ...\n"
          ]
        },
        {
          "output_type": "stream",
          "name": "stderr",
          "text": [
            "\rDownloaded 2768896 of 4432653 bytes (62.5%,    0.7s remaining) ...done. (2 seconds, 0 min)\n"
          ]
        },
        {
          "output_type": "stream",
          "name": "stdout",
          "text": [
            "Downloading data from https://ndownloader.figshare.com/files/6848919 ...\n"
          ]
        },
        {
          "output_type": "stream",
          "name": "stderr",
          "text": [
            " ...done. (0 seconds, 0 min)\n",
            "Extracting data from /root/nilearn_data/cobre/a3b4301367112991b3d6ef706de2a9ef/fmri_0040125.tsv.gz..... done.\n"
          ]
        },
        {
          "output_type": "stream",
          "name": "stdout",
          "text": [
            "Downloading data from https://ndownloader.figshare.com/files/6848550 ...\n"
          ]
        },
        {
          "output_type": "stream",
          "name": "stderr",
          "text": [
            "\rDownloaded 3883008 of 4270467 bytes (90.9%,    0.1s remaining) ...done. (2 seconds, 0 min)\n"
          ]
        },
        {
          "output_type": "stream",
          "name": "stdout",
          "text": [
            "Downloading data from https://ndownloader.figshare.com/files/6848553 ...\n"
          ]
        },
        {
          "output_type": "stream",
          "name": "stderr",
          "text": [
            " ...done. (0 seconds, 0 min)\n",
            "Extracting data from /root/nilearn_data/cobre/48cef84d830ccc4b708e606c20c56761/fmri_0040062.tsv.gz..... done.\n"
          ]
        },
        {
          "output_type": "stream",
          "name": "stdout",
          "text": [
            "Downloading data from https://ndownloader.figshare.com/files/6848502 ...\n"
          ]
        },
        {
          "output_type": "stream",
          "name": "stderr",
          "text": [
            "\rDownloaded 2473984 of 4488285 bytes (55.1%,    0.9s remaining) ...done. (2 seconds, 0 min)\n"
          ]
        },
        {
          "output_type": "stream",
          "name": "stdout",
          "text": [
            "Downloading data from https://ndownloader.figshare.com/files/6848505 ...\n"
          ]
        },
        {
          "output_type": "stream",
          "name": "stderr",
          "text": [
            " ...done. (0 seconds, 0 min)\n",
            "Extracting data from /root/nilearn_data/cobre/80fa1b55c99e04d0239326e471f79878/fmri_0040054.tsv.gz..... done.\n"
          ]
        },
        {
          "output_type": "stream",
          "name": "stdout",
          "text": [
            "Downloading data from https://ndownloader.figshare.com/files/6848628 ...\n"
          ]
        },
        {
          "output_type": "stream",
          "name": "stderr",
          "text": [
            "\rDownloaded 3620864 of 4500368 bytes (80.5%,    0.3s remaining) ...done. (2 seconds, 0 min)\n"
          ]
        },
        {
          "output_type": "stream",
          "name": "stdout",
          "text": [
            "Downloading data from https://ndownloader.figshare.com/files/6848631 ...\n"
          ]
        },
        {
          "output_type": "stream",
          "name": "stderr",
          "text": [
            " ...done. (0 seconds, 0 min)\n",
            "Extracting data from /root/nilearn_data/cobre/55a4b038c00fd66969b6200a66bdf8bc/fmri_0040076.tsv.gz..... done.\n"
          ]
        },
        {
          "output_type": "stream",
          "name": "stdout",
          "text": [
            "Downloading data from https://ndownloader.figshare.com/files/6848406 ...\n"
          ]
        },
        {
          "output_type": "stream",
          "name": "stderr",
          "text": [
            "\rDownloaded 3424256 of 4490986 bytes (76.2%,    0.3s remaining) ...done. (2 seconds, 0 min)\n"
          ]
        },
        {
          "output_type": "stream",
          "name": "stdout",
          "text": [
            "Downloading data from https://ndownloader.figshare.com/files/6848409 ...\n"
          ]
        },
        {
          "output_type": "stream",
          "name": "stderr",
          "text": [
            " ...done. (0 seconds, 0 min)\n",
            "Extracting data from /root/nilearn_data/cobre/872bb5f066fc85b420bd4ee19708cce2/fmri_0040038.tsv.gz..... done.\n"
          ]
        },
        {
          "output_type": "stream",
          "name": "stdout",
          "text": [
            "Downloading data from https://ndownloader.figshare.com/files/6849006 ...\n"
          ]
        },
        {
          "output_type": "stream",
          "name": "stderr",
          "text": [
            "\rDownloaded 3637248 of 4469398 bytes (81.4%,    0.2s remaining) ...done. (2 seconds, 0 min)\n"
          ]
        },
        {
          "output_type": "stream",
          "name": "stdout",
          "text": [
            "Downloading data from https://ndownloader.figshare.com/files/6849009 ...\n"
          ]
        },
        {
          "output_type": "stream",
          "name": "stderr",
          "text": [
            " ...done. (0 seconds, 0 min)\n",
            "Extracting data from /root/nilearn_data/cobre/4f6b1d4e4494ff5a65b79a421cce5cc2/fmri_0040140.tsv.gz..... done.\n"
          ]
        },
        {
          "output_type": "stream",
          "name": "stdout",
          "text": [
            "Downloading data from https://ndownloader.figshare.com/files/6849030 ...\n"
          ]
        },
        {
          "output_type": "stream",
          "name": "stderr",
          "text": [
            "\rDownloaded 2367488 of 4570622 bytes (51.8%,    1.0s remaining) ...done. (2 seconds, 0 min)\n"
          ]
        },
        {
          "output_type": "stream",
          "name": "stdout",
          "text": [
            "Downloading data from https://ndownloader.figshare.com/files/6849033 ...\n"
          ]
        },
        {
          "output_type": "stream",
          "name": "stderr",
          "text": [
            " ...done. (0 seconds, 0 min)\n",
            "Extracting data from /root/nilearn_data/cobre/72e1972585f10b4fbfb3fea4dd65c708/fmri_0040144.tsv.gz..... done.\n"
          ]
        },
        {
          "output_type": "stream",
          "name": "stdout",
          "text": [
            "Downloading data from https://ndownloader.figshare.com/files/6848592 ...\n"
          ]
        },
        {
          "output_type": "stream",
          "name": "stderr",
          "text": [
            "\rDownloaded 2007040 of 4616872 bytes (43.5%,    1.4s remaining) ...done. (2 seconds, 0 min)\n"
          ]
        },
        {
          "output_type": "stream",
          "name": "stdout",
          "text": [
            "Downloading data from https://ndownloader.figshare.com/files/6848595 ...\n"
          ]
        },
        {
          "output_type": "stream",
          "name": "stderr",
          "text": [
            " ...done. (0 seconds, 0 min)\n",
            "Extracting data from /root/nilearn_data/cobre/be47f798e4acd10ae7b242401b2f7a63/fmri_0040069.tsv.gz..... done.\n"
          ]
        },
        {
          "output_type": "stream",
          "name": "stdout",
          "text": [
            "Downloading data from https://ndownloader.figshare.com/files/6848832 ...\n"
          ]
        },
        {
          "output_type": "stream",
          "name": "stderr",
          "text": [
            "\rDownloaded 3104768 of 4503940 bytes (68.9%,    0.5s remaining) ...done. (2 seconds, 0 min)\n"
          ]
        },
        {
          "output_type": "stream",
          "name": "stdout",
          "text": [
            "Downloading data from https://ndownloader.figshare.com/files/6848835 ...\n"
          ]
        },
        {
          "output_type": "stream",
          "name": "stderr",
          "text": [
            " ...done. (0 seconds, 0 min)\n",
            "Extracting data from /root/nilearn_data/cobre/c5d2073d953d5ce3aa84b6344c27ad31/fmri_0040111.tsv.gz..... done.\n"
          ]
        },
        {
          "output_type": "stream",
          "name": "stdout",
          "text": [
            "Downloading data from https://ndownloader.figshare.com/files/6848574 ...\n"
          ]
        },
        {
          "output_type": "stream",
          "name": "stderr",
          "text": [
            "\rDownloaded 2678784 of 4630617 bytes (57.8%,    0.8s remaining) ...done. (2 seconds, 0 min)\n"
          ]
        },
        {
          "output_type": "stream",
          "name": "stdout",
          "text": [
            "Downloading data from https://ndownloader.figshare.com/files/6848577 ...\n"
          ]
        },
        {
          "output_type": "stream",
          "name": "stderr",
          "text": [
            " ...done. (0 seconds, 0 min)\n",
            "Extracting data from /root/nilearn_data/cobre/b17b358bde184b3622f63cbda9c959a3/fmri_0040066.tsv.gz..... done.\n"
          ]
        },
        {
          "output_type": "stream",
          "name": "stdout",
          "text": [
            "Downloading data from https://ndownloader.figshare.com/files/6848682 ...\n"
          ]
        },
        {
          "output_type": "stream",
          "name": "stderr",
          "text": [
            "\rDownloaded 2998272 of 4638932 bytes (64.6%,    0.6s remaining) ...done. (2 seconds, 0 min)\n"
          ]
        },
        {
          "output_type": "stream",
          "name": "stdout",
          "text": [
            "Downloading data from https://ndownloader.figshare.com/files/6848685 ...\n"
          ]
        },
        {
          "output_type": "stream",
          "name": "stderr",
          "text": [
            " ...done. (0 seconds, 0 min)\n",
            "Extracting data from /root/nilearn_data/cobre/46a0292e04917d03a6ce9f981944d6fa/fmri_0040086.tsv.gz..... done.\n"
          ]
        },
        {
          "output_type": "stream",
          "name": "stdout",
          "text": [
            "Downloading data from https://ndownloader.figshare.com/files/6849054 ...\n"
          ]
        },
        {
          "output_type": "stream",
          "name": "stderr",
          "text": [
            " ...done. (1 seconds, 0 min)\n"
          ]
        },
        {
          "output_type": "stream",
          "name": "stdout",
          "text": [
            "Downloading data from https://ndownloader.figshare.com/files/6849057 ...\n"
          ]
        },
        {
          "output_type": "stream",
          "name": "stderr",
          "text": [
            " ...done. (0 seconds, 0 min)\n"
          ]
        },
        {
          "output_type": "stream",
          "name": "stdout",
          "text": [
            "\n",
            "Dataset created in /root/nilearn_data/basc_multiscale_2015\n",
            "\n",
            "Downloading data from https://ndownloader.figshare.com/files/1861819 ...\n"
          ]
        },
        {
          "output_type": "stream",
          "name": "stderr",
          "text": [
            " ...done. (2 seconds, 0 min)\n",
            "Extracting data from /root/nilearn_data/basc_multiscale_2015/3cbcf0eeb3f666f55070aba1db9a758f/1861819..... done.\n"
          ]
        }
      ]
    },
    {
      "cell_type": "markdown",
      "metadata": {
        "id": "P_4JhTA1PCu4"
      },
      "source": [
        "**Dataset Contain**"
      ]
    },
    {
      "cell_type": "code",
      "metadata": {
        "colab": {
          "base_uri": "https://localhost:8080/"
        },
        "id": "nLfG_DZ1QwFi",
        "outputId": "90ca9bca-60eb-4f68-835f-cc83aa5c4185"
      },
      "source": [
        "data"
      ],
      "execution_count": null,
      "outputs": [
        {
          "output_type": "execute_result",
          "data": {
            "text/plain": [
              "{'confounds': ['/root/nilearn_data/cobre/fmri_0040046.tsv',\n",
              "  '/root/nilearn_data/cobre/fmri_0040002.tsv',\n",
              "  '/root/nilearn_data/cobre/fmri_0040117.tsv',\n",
              "  '/root/nilearn_data/cobre/fmri_0040145.tsv',\n",
              "  '/root/nilearn_data/cobre/fmri_0040000.tsv',\n",
              "  '/root/nilearn_data/cobre/fmri_0040029.tsv',\n",
              "  '/root/nilearn_data/cobre/fmri_0040133.tsv',\n",
              "  '/root/nilearn_data/cobre/fmri_0040021.tsv',\n",
              "  '/root/nilearn_data/cobre/fmri_0040137.tsv',\n",
              "  '/root/nilearn_data/cobre/fmri_0040085.tsv',\n",
              "  '/root/nilearn_data/cobre/fmri_0040096.tsv',\n",
              "  '/root/nilearn_data/cobre/fmri_0040122.tsv',\n",
              "  '/root/nilearn_data/cobre/fmri_0040022.tsv',\n",
              "  '/root/nilearn_data/cobre/fmri_0040073.tsv',\n",
              "  '/root/nilearn_data/cobre/fmri_0040142.tsv',\n",
              "  '/root/nilearn_data/cobre/fmri_0040037.tsv',\n",
              "  '/root/nilearn_data/cobre/fmri_0040059.tsv',\n",
              "  '/root/nilearn_data/cobre/fmri_0040072.tsv',\n",
              "  '/root/nilearn_data/cobre/fmri_0040079.tsv',\n",
              "  '/root/nilearn_data/cobre/fmri_0040080.tsv',\n",
              "  '/root/nilearn_data/cobre/fmri_0040001.tsv',\n",
              "  '/root/nilearn_data/cobre/fmri_0040003.tsv',\n",
              "  '/root/nilearn_data/cobre/fmri_0040008.tsv',\n",
              "  '/root/nilearn_data/cobre/fmri_0040011.tsv',\n",
              "  '/root/nilearn_data/cobre/fmri_0040077.tsv',\n",
              "  '/root/nilearn_data/cobre/fmri_0040034.tsv',\n",
              "  '/root/nilearn_data/cobre/fmri_0040108.tsv',\n",
              "  '/root/nilearn_data/cobre/fmri_0040009.tsv',\n",
              "  '/root/nilearn_data/cobre/fmri_0040032.tsv',\n",
              "  '/root/nilearn_data/cobre/fmri_0040012.tsv',\n",
              "  '/root/nilearn_data/cobre/fmri_0040025.tsv',\n",
              "  '/root/nilearn_data/cobre/fmri_0040088.tsv',\n",
              "  '/root/nilearn_data/cobre/fmri_0040109.tsv',\n",
              "  '/root/nilearn_data/cobre/fmri_0040098.tsv',\n",
              "  '/root/nilearn_data/cobre/fmri_0040100.tsv',\n",
              "  '/root/nilearn_data/cobre/fmri_0040047.tsv',\n",
              "  '/root/nilearn_data/cobre/fmri_0040099.tsv',\n",
              "  '/root/nilearn_data/cobre/fmri_0040042.tsv',\n",
              "  '/root/nilearn_data/cobre/fmri_0040075.tsv',\n",
              "  '/root/nilearn_data/cobre/fmri_0040103.tsv',\n",
              "  '/root/nilearn_data/cobre/fmri_0040060.tsv',\n",
              "  '/root/nilearn_data/cobre/fmri_0040126.tsv',\n",
              "  '/root/nilearn_data/cobre/fmri_0040112.tsv',\n",
              "  '/root/nilearn_data/cobre/fmri_0040081.tsv',\n",
              "  '/root/nilearn_data/cobre/fmri_0040110.tsv',\n",
              "  '/root/nilearn_data/cobre/fmri_0040049.tsv',\n",
              "  '/root/nilearn_data/cobre/fmri_0040106.tsv',\n",
              "  '/root/nilearn_data/cobre/fmri_0040015.tsv',\n",
              "  '/root/nilearn_data/cobre/fmri_0040005.tsv',\n",
              "  '/root/nilearn_data/cobre/fmri_0040044.tsv',\n",
              "  '/root/nilearn_data/cobre/fmri_0040016.tsv',\n",
              "  '/root/nilearn_data/cobre/fmri_0040092.tsv',\n",
              "  '/root/nilearn_data/cobre/fmri_0040082.tsv',\n",
              "  '/root/nilearn_data/cobre/fmri_0040101.tsv',\n",
              "  '/root/nilearn_data/cobre/fmri_0040132.tsv',\n",
              "  '/root/nilearn_data/cobre/fmri_0040039.tsv',\n",
              "  '/root/nilearn_data/cobre/fmri_0040071.tsv',\n",
              "  '/root/nilearn_data/cobre/fmri_0040010.tsv',\n",
              "  '/root/nilearn_data/cobre/fmri_0040097.tsv',\n",
              "  '/root/nilearn_data/cobre/fmri_0040105.tsv',\n",
              "  '/root/nilearn_data/cobre/fmri_0040143.tsv',\n",
              "  '/root/nilearn_data/cobre/fmri_0040006.tsv',\n",
              "  '/root/nilearn_data/cobre/fmri_0040004.tsv',\n",
              "  '/root/nilearn_data/cobre/fmri_0040064.tsv',\n",
              "  '/root/nilearn_data/cobre/fmri_0040078.tsv',\n",
              "  '/root/nilearn_data/cobre/fmri_0040094.tsv',\n",
              "  '/root/nilearn_data/cobre/fmri_0040084.tsv',\n",
              "  '/root/nilearn_data/cobre/fmri_0040041.tsv',\n",
              "  '/root/nilearn_data/cobre/fmri_0040089.tsv',\n",
              "  '/root/nilearn_data/cobre/fmri_0040040.tsv',\n",
              "  '/root/nilearn_data/cobre/fmri_0040028.tsv',\n",
              "  '/root/nilearn_data/cobre/fmri_0040007.tsv',\n",
              "  '/root/nilearn_data/cobre/fmri_0040061.tsv',\n",
              "  '/root/nilearn_data/cobre/fmri_0040090.tsv',\n",
              "  '/root/nilearn_data/cobre/fmri_0040113.tsv',\n",
              "  '/root/nilearn_data/cobre/fmri_0040121.tsv',\n",
              "  '/root/nilearn_data/cobre/fmri_0040020.tsv',\n",
              "  '/root/nilearn_data/cobre/fmri_0040052.tsv',\n",
              "  '/root/nilearn_data/cobre/fmri_0040065.tsv',\n",
              "  '/root/nilearn_data/cobre/fmri_0040128.tsv',\n",
              "  '/root/nilearn_data/cobre/fmri_0040051.tsv',\n",
              "  '/root/nilearn_data/cobre/fmri_0040114.tsv',\n",
              "  '/root/nilearn_data/cobre/fmri_0040129.tsv',\n",
              "  '/root/nilearn_data/cobre/fmri_0040053.tsv',\n",
              "  '/root/nilearn_data/cobre/fmri_0040068.tsv',\n",
              "  '/root/nilearn_data/cobre/fmri_0040091.tsv',\n",
              "  '/root/nilearn_data/cobre/fmri_0040135.tsv',\n",
              "  '/root/nilearn_data/cobre/fmri_0040093.tsv',\n",
              "  '/root/nilearn_data/cobre/fmri_0040036.tsv',\n",
              "  '/root/nilearn_data/cobre/fmri_0040104.tsv',\n",
              "  '/root/nilearn_data/cobre/fmri_0040120.tsv',\n",
              "  '/root/nilearn_data/cobre/fmri_0040127.tsv',\n",
              "  '/root/nilearn_data/cobre/fmri_0040056.tsv',\n",
              "  '/root/nilearn_data/cobre/fmri_0040058.tsv',\n",
              "  '/root/nilearn_data/cobre/fmri_0040087.tsv',\n",
              "  '/root/nilearn_data/cobre/fmri_0040115.tsv',\n",
              "  '/root/nilearn_data/cobre/fmri_0040138.tsv',\n",
              "  '/root/nilearn_data/cobre/fmri_0040139.tsv',\n",
              "  '/root/nilearn_data/cobre/fmri_0040017.tsv',\n",
              "  '/root/nilearn_data/cobre/fmri_0040035.tsv',\n",
              "  '/root/nilearn_data/cobre/fmri_0040045.tsv',\n",
              "  '/root/nilearn_data/cobre/fmri_0040055.tsv',\n",
              "  '/root/nilearn_data/cobre/fmri_0040014.tsv',\n",
              "  '/root/nilearn_data/cobre/fmri_0040033.tsv',\n",
              "  '/root/nilearn_data/cobre/fmri_0040048.tsv',\n",
              "  '/root/nilearn_data/cobre/fmri_0040067.tsv',\n",
              "  '/root/nilearn_data/cobre/fmri_0040107.tsv',\n",
              "  '/root/nilearn_data/cobre/fmri_0040013.tsv',\n",
              "  '/root/nilearn_data/cobre/fmri_0040074.tsv',\n",
              "  '/root/nilearn_data/cobre/fmri_0040118.tsv',\n",
              "  '/root/nilearn_data/cobre/fmri_0040147.tsv',\n",
              "  '/root/nilearn_data/cobre/fmri_0040124.tsv',\n",
              "  '/root/nilearn_data/cobre/fmri_0040141.tsv',\n",
              "  '/root/nilearn_data/cobre/fmri_0040050.tsv',\n",
              "  '/root/nilearn_data/cobre/fmri_0040057.tsv',\n",
              "  '/root/nilearn_data/cobre/fmri_0040063.tsv',\n",
              "  '/root/nilearn_data/cobre/fmri_0040043.tsv',\n",
              "  '/root/nilearn_data/cobre/fmri_0040136.tsv',\n",
              "  '/root/nilearn_data/cobre/fmri_0040146.tsv',\n",
              "  '/root/nilearn_data/cobre/fmri_0040095.tsv',\n",
              "  '/root/nilearn_data/cobre/fmri_0040102.tsv',\n",
              "  '/root/nilearn_data/cobre/fmri_0040024.tsv',\n",
              "  '/root/nilearn_data/cobre/fmri_0040134.tsv',\n",
              "  '/root/nilearn_data/cobre/fmri_0040030.tsv',\n",
              "  '/root/nilearn_data/cobre/fmri_0040031.tsv',\n",
              "  '/root/nilearn_data/cobre/fmri_0040019.tsv',\n",
              "  '/root/nilearn_data/cobre/fmri_0040026.tsv',\n",
              "  '/root/nilearn_data/cobre/fmri_0040119.tsv',\n",
              "  '/root/nilearn_data/cobre/fmri_0040018.tsv',\n",
              "  '/root/nilearn_data/cobre/fmri_0040116.tsv',\n",
              "  '/root/nilearn_data/cobre/fmri_0040130.tsv',\n",
              "  '/root/nilearn_data/cobre/fmri_0040131.tsv',\n",
              "  '/root/nilearn_data/cobre/fmri_0040023.tsv',\n",
              "  '/root/nilearn_data/cobre/fmri_0040027.tsv',\n",
              "  '/root/nilearn_data/cobre/fmri_0040123.tsv',\n",
              "  '/root/nilearn_data/cobre/fmri_0040125.tsv',\n",
              "  '/root/nilearn_data/cobre/fmri_0040062.tsv',\n",
              "  '/root/nilearn_data/cobre/fmri_0040054.tsv',\n",
              "  '/root/nilearn_data/cobre/fmri_0040076.tsv',\n",
              "  '/root/nilearn_data/cobre/fmri_0040038.tsv',\n",
              "  '/root/nilearn_data/cobre/fmri_0040140.tsv',\n",
              "  '/root/nilearn_data/cobre/fmri_0040144.tsv',\n",
              "  '/root/nilearn_data/cobre/fmri_0040069.tsv',\n",
              "  '/root/nilearn_data/cobre/fmri_0040111.tsv',\n",
              "  '/root/nilearn_data/cobre/fmri_0040066.tsv',\n",
              "  '/root/nilearn_data/cobre/fmri_0040086.tsv'],\n",
              " 'desc_con': '{\\n    \"motion_tx\": \"rigid-body motion parameter - translation along the x-axis (unit consistent with header, expect mm).\",\\n    \"motion_ty\": \"rigid-body motion parameter - translation along the y-axis (unit consistent with header, expect mm).\",\\n    \"motion_tz\": \"rigid-body motion parameter - translation along the z-axis (unit consistent with header, expect mm).\",\\n    \"motion_rx\": \"rigid-body motion parameter - rotation along the x-axis (degrees).\",\\n    \"motion_ry\": \"rigid-body motion parameter - rotation along the y-axis (degrees).\",\\n    \"motion_rz\": \"rigid-body motion parameter - rotation along the z-axis (degrees).\",\\n    \"FD\": \"Frame Displacement, as defined in Power et al. (Neuroimage 2012). Value for last volume is (arbitrarily) set to 0.\",\\n    \"scrub\": \"a mask of time frames that have been identified with excessive motion. The scrubbing parameters are specified at preprocessing\", \\n    \"slow_drift\": \"Slow time drifts, modelled by discrete cosines. The actual spectral band covered by the basis is specified at preprocessing.\",\\n    \"wm_avg\": \"average signal in a conservative mask of the white matter.\",\\n    \"vent_avg\": \"average signal in a conservative mask of the lateral ventricles.\",\\n    \"global_signal_pca\": \"global signal (over all brain tissues, including grey matter), estimated through PCA, see Carbonell et al. (Brain Connectivity, 2011).\",\\n    \"compcor\": \"confounds estimated by a component based noise correction (COMPCOR), see (Behzadi et al, Neuroimage 2007). Exact parameters are specified at preprocessing.\",\\n}\\n',\n",
              " 'desc_phenotypic': '{\\n    \"ID\": \" Identification Number - unique for each participant (expect an integer).\",\\n    \"Current Age\": \"Current age of the participant (expect an integer, number of years).\",\\n    \"Gender\": \"sex of the participant (expect \\'Male\\' or \\'Female\\').\", \\n    \"Handedness\": \"Hand dominance of the participant (expect \\'Right\\', \\'Left\\' or \\'Both\\').\",\\n    \"Subject Type\": \"Diagnostic status of the participant (expect \\'Control\\', no clinical diagnosis was made, or \\'Patient\\', diagnosis of schizophrenia.\",\\n    \"Diagnosis\": \"Clinical diagnosis made for the participant, based on the Diagnostic and Statistical Manual of Mental Disorders (DSM), (expect \\'None\\', for control participants, 290.3 or other similarly formed numbers, code for specific diagnosis as described in http://www.icd9data.com/2007/Volume1/290-319/\",\\n    \"Frames OK\": \"Number of time frames deemed to have an acceptable level of motion (expect an integer)\",\\n    \"FD\": \"Measure of average frame displacement on raw time series, as defined by Power et al., Neuroimage 2012 (expect a floating point value)\",\\n    \"FD Scrubbed\": \"Measure of average frame displacement on time series after suppression of time frames with excessive motion, as defined by Power et al., Neuroimage 2012 (expect a floating point value)\"\\n}\\n',\n",
              " 'description': b\"COBRE\\n\\n\\nNotes\\n-----\\nThis work is a derivative from the COBRE sample found in the International\\nNeuroimaging Data-sharing Initiative.\\n(http://fcon_1000.projects.nitrc.org/indi/retro/cobre.html), originally\\nreleased under Creative Commons - Attribution Non-Commercial.\\nIt includes preprocessed resting - state functional magnetic resonance images\\nfor 72 patients diagnosed with schizophrenia and 74 healthy controls.\\n\\nContent\\n-------\\n    :'phenotypic_data.tsv.gz': A gzipped tabular-separated value file,\\n    with each column representing a phenotypic variable as well as measures\\n    of data quality, related to motions. Each row corresponds to one\\n    participant, except the first row which contains the names of the\\n    variables.\\n    :'keys_phenotypic_data.json': a json file describing each variable found\\n    in 'phenotypic_data.tsv.gz'.\\n    :'fmri_XXXXXXX.tsv.gz': A gzipped tabular-separated value file, with each\\n    column representing a confounding variable for the time series of\\n    participant XXXXXXX, which is the same participant ID found in\\n    'phenotypic_data.tsv.gz'. Each row corresponds to a time frame, except for\\n    the first row, which contains the names of the variables.\\n    :'keys_confounds.json': a json file describing each variable found in the\\n    files 'fmri_XXXXXXX.tsv.gz'.\\n    :'fmri_XXXXXXX.nii.gz': a 3D + t nifti volume at 6 mm isotropic resolution.\\n    Each fMRI data features 150 volumes.\\n\\n\\nUsage recommendations\\n---------------------\\nIndividual analyses: You may want to remove some time frames with excessive\\nmotion for each subject, see the confounding variable called 'scrub' in\\n'fmri_XXXXXXX.tsv.gz'. Also, after removing these time frames there may not be\\nenough usable data. We recommend a minimum number of 60 time frames. A fairly\\nlarge number of confounds have been made available as part of the release: slow\\ntime drifts, motion paramaters, frame displacement, scrubbing, average WM/Vent\\nsignal, COMPCOR, global signal.\\nWe strongly recommend regression of slow time drifts.\\nEverything else is optional.\\n\\nGroup analyses: There will also be some residuals effect of motion, which you\\nmay want to regress out from connectivity measures at the group level. The\\nnumber of acceptable time frames as well as a measure of residual motion, can\\nbe found in the variables 'Frames OK' and 'FD scrubbed' in\\n'phenotypic_data.tsv.gz'. Finally, the simplest use case with these data is to\\npredict the overall presence of a diagnosis of schizophrenia (values 'Control'\\nor 'Patient' in the phenotypic variable 'Subject Type').\\n\\n\\nPreprocessing\\n-------------\\nThe datasets were analysed using the NeuroImaging Analysis Kit (NIAK\\nhttps://github.com/SIMEXP/niak) version 0.17, under CentOS version 6.3 with\\nOctave(http://gnu.octave.org) version 4.0.2 and the Minc toolkit\\n(http://www.bic.mni.mcgill.ca/ServicesSoftware/ServicesSoftwareMincToolKit)\\nversion 0.3.18.\\n\\nNote that a number of confounding variables were estimated and are made\\navailable as part of the release.\\n\\nWARNING: no confounds were actually regressed from the data, so it can be done\\ninteractively by the user who will be able to explore different analytical\\npaths easily.\\n\\n\\nReferences\\n----------\\nAd-Dab\\xe2\\x80\\x99bagh, et. al., 2006. The CIVET Image-Processing Environment: A Fully\\nAutomated Comprehensive Pipeline for Anatomical Neuroimaging Research. In:\\nCorbetta, M. (Ed.), Proceedings of the 12th Annual Meeting of the Human Brain\\nMapping Organization. Neuroimage, Florence, Italy.\\n\\nBellec, P., et. al., 2010. Multi-level bootstrap analysis of stable clusters in\\nresting-state fMRI. NeuroImage 51 (3), 1126-1139.\\n\\nF. Carbonell, P. Bellec, A. Shmuel. Validation of a superposition model of\\nglobal and system-specific resting state activity reveals anti-correlated\\nnetworks. Brain Connectivity 2011 1(6): 496-510.\\n\\nChai, X. J., et. al., 2012. Anticorrelations in resting state networks without\\nglobal signal regression. NeuroImage 59 (2), 1420-1428.\\n\\nCollins, D. L., Evans, A. C., 1997. Animal: validation and applications of\\nnonlinear registration-based segmentation. International Journal of Pattern\\nRecognition and Artificial Intelligence 11, 1271-1294.\\n\\nFonov, V., et. al., 2011. Unbiased average age-appropriate atlases for\\npediatric studies. NeuroImage 54 (1), 313-327.\\n\\nGiove, F., et. al., 2009. Images-based suppression of unwanted global signals\\nin resting-state functional connectivity studies. Magnetic resonance imaging\\n27 (8), 1058-1064.\\n\\nPower, J. D., et. al., 2012. Spurious but systematic correlations in functional\\nconnectivity MRI networks arise from subject motion. NeuroImage 59 (3),\\n2142-2154.\\n\",\n",
              " 'func': ['/root/nilearn_data/cobre/fmri_0040046.nii.gz',\n",
              "  '/root/nilearn_data/cobre/fmri_0040002.nii.gz',\n",
              "  '/root/nilearn_data/cobre/fmri_0040117.nii.gz',\n",
              "  '/root/nilearn_data/cobre/fmri_0040145.nii.gz',\n",
              "  '/root/nilearn_data/cobre/fmri_0040000.nii.gz',\n",
              "  '/root/nilearn_data/cobre/fmri_0040029.nii.gz',\n",
              "  '/root/nilearn_data/cobre/fmri_0040133.nii.gz',\n",
              "  '/root/nilearn_data/cobre/fmri_0040021.nii.gz',\n",
              "  '/root/nilearn_data/cobre/fmri_0040137.nii.gz',\n",
              "  '/root/nilearn_data/cobre/fmri_0040085.nii.gz',\n",
              "  '/root/nilearn_data/cobre/fmri_0040096.nii.gz',\n",
              "  '/root/nilearn_data/cobre/fmri_0040122.nii.gz',\n",
              "  '/root/nilearn_data/cobre/fmri_0040022.nii.gz',\n",
              "  '/root/nilearn_data/cobre/fmri_0040073.nii.gz',\n",
              "  '/root/nilearn_data/cobre/fmri_0040142.nii.gz',\n",
              "  '/root/nilearn_data/cobre/fmri_0040037.nii.gz',\n",
              "  '/root/nilearn_data/cobre/fmri_0040059.nii.gz',\n",
              "  '/root/nilearn_data/cobre/fmri_0040072.nii.gz',\n",
              "  '/root/nilearn_data/cobre/fmri_0040079.nii.gz',\n",
              "  '/root/nilearn_data/cobre/fmri_0040080.nii.gz',\n",
              "  '/root/nilearn_data/cobre/fmri_0040001.nii.gz',\n",
              "  '/root/nilearn_data/cobre/fmri_0040003.nii.gz',\n",
              "  '/root/nilearn_data/cobre/fmri_0040008.nii.gz',\n",
              "  '/root/nilearn_data/cobre/fmri_0040011.nii.gz',\n",
              "  '/root/nilearn_data/cobre/fmri_0040077.nii.gz',\n",
              "  '/root/nilearn_data/cobre/fmri_0040034.nii.gz',\n",
              "  '/root/nilearn_data/cobre/fmri_0040108.nii.gz',\n",
              "  '/root/nilearn_data/cobre/fmri_0040009.nii.gz',\n",
              "  '/root/nilearn_data/cobre/fmri_0040032.nii.gz',\n",
              "  '/root/nilearn_data/cobre/fmri_0040012.nii.gz',\n",
              "  '/root/nilearn_data/cobre/fmri_0040025.nii.gz',\n",
              "  '/root/nilearn_data/cobre/fmri_0040088.nii.gz',\n",
              "  '/root/nilearn_data/cobre/fmri_0040109.nii.gz',\n",
              "  '/root/nilearn_data/cobre/fmri_0040098.nii.gz',\n",
              "  '/root/nilearn_data/cobre/fmri_0040100.nii.gz',\n",
              "  '/root/nilearn_data/cobre/fmri_0040047.nii.gz',\n",
              "  '/root/nilearn_data/cobre/fmri_0040099.nii.gz',\n",
              "  '/root/nilearn_data/cobre/fmri_0040042.nii.gz',\n",
              "  '/root/nilearn_data/cobre/fmri_0040075.nii.gz',\n",
              "  '/root/nilearn_data/cobre/fmri_0040103.nii.gz',\n",
              "  '/root/nilearn_data/cobre/fmri_0040060.nii.gz',\n",
              "  '/root/nilearn_data/cobre/fmri_0040126.nii.gz',\n",
              "  '/root/nilearn_data/cobre/fmri_0040112.nii.gz',\n",
              "  '/root/nilearn_data/cobre/fmri_0040081.nii.gz',\n",
              "  '/root/nilearn_data/cobre/fmri_0040110.nii.gz',\n",
              "  '/root/nilearn_data/cobre/fmri_0040049.nii.gz',\n",
              "  '/root/nilearn_data/cobre/fmri_0040106.nii.gz',\n",
              "  '/root/nilearn_data/cobre/fmri_0040015.nii.gz',\n",
              "  '/root/nilearn_data/cobre/fmri_0040005.nii.gz',\n",
              "  '/root/nilearn_data/cobre/fmri_0040044.nii.gz',\n",
              "  '/root/nilearn_data/cobre/fmri_0040016.nii.gz',\n",
              "  '/root/nilearn_data/cobre/fmri_0040092.nii.gz',\n",
              "  '/root/nilearn_data/cobre/fmri_0040082.nii.gz',\n",
              "  '/root/nilearn_data/cobre/fmri_0040101.nii.gz',\n",
              "  '/root/nilearn_data/cobre/fmri_0040132.nii.gz',\n",
              "  '/root/nilearn_data/cobre/fmri_0040039.nii.gz',\n",
              "  '/root/nilearn_data/cobre/fmri_0040071.nii.gz',\n",
              "  '/root/nilearn_data/cobre/fmri_0040010.nii.gz',\n",
              "  '/root/nilearn_data/cobre/fmri_0040097.nii.gz',\n",
              "  '/root/nilearn_data/cobre/fmri_0040105.nii.gz',\n",
              "  '/root/nilearn_data/cobre/fmri_0040143.nii.gz',\n",
              "  '/root/nilearn_data/cobre/fmri_0040006.nii.gz',\n",
              "  '/root/nilearn_data/cobre/fmri_0040004.nii.gz',\n",
              "  '/root/nilearn_data/cobre/fmri_0040064.nii.gz',\n",
              "  '/root/nilearn_data/cobre/fmri_0040078.nii.gz',\n",
              "  '/root/nilearn_data/cobre/fmri_0040094.nii.gz',\n",
              "  '/root/nilearn_data/cobre/fmri_0040084.nii.gz',\n",
              "  '/root/nilearn_data/cobre/fmri_0040041.nii.gz',\n",
              "  '/root/nilearn_data/cobre/fmri_0040089.nii.gz',\n",
              "  '/root/nilearn_data/cobre/fmri_0040040.nii.gz',\n",
              "  '/root/nilearn_data/cobre/fmri_0040028.nii.gz',\n",
              "  '/root/nilearn_data/cobre/fmri_0040007.nii.gz',\n",
              "  '/root/nilearn_data/cobre/fmri_0040061.nii.gz',\n",
              "  '/root/nilearn_data/cobre/fmri_0040090.nii.gz',\n",
              "  '/root/nilearn_data/cobre/fmri_0040113.nii.gz',\n",
              "  '/root/nilearn_data/cobre/fmri_0040121.nii.gz',\n",
              "  '/root/nilearn_data/cobre/fmri_0040020.nii.gz',\n",
              "  '/root/nilearn_data/cobre/fmri_0040052.nii.gz',\n",
              "  '/root/nilearn_data/cobre/fmri_0040065.nii.gz',\n",
              "  '/root/nilearn_data/cobre/fmri_0040128.nii.gz',\n",
              "  '/root/nilearn_data/cobre/fmri_0040051.nii.gz',\n",
              "  '/root/nilearn_data/cobre/fmri_0040114.nii.gz',\n",
              "  '/root/nilearn_data/cobre/fmri_0040129.nii.gz',\n",
              "  '/root/nilearn_data/cobre/fmri_0040053.nii.gz',\n",
              "  '/root/nilearn_data/cobre/fmri_0040068.nii.gz',\n",
              "  '/root/nilearn_data/cobre/fmri_0040091.nii.gz',\n",
              "  '/root/nilearn_data/cobre/fmri_0040135.nii.gz',\n",
              "  '/root/nilearn_data/cobre/fmri_0040093.nii.gz',\n",
              "  '/root/nilearn_data/cobre/fmri_0040036.nii.gz',\n",
              "  '/root/nilearn_data/cobre/fmri_0040104.nii.gz',\n",
              "  '/root/nilearn_data/cobre/fmri_0040120.nii.gz',\n",
              "  '/root/nilearn_data/cobre/fmri_0040127.nii.gz',\n",
              "  '/root/nilearn_data/cobre/fmri_0040056.nii.gz',\n",
              "  '/root/nilearn_data/cobre/fmri_0040058.nii.gz',\n",
              "  '/root/nilearn_data/cobre/fmri_0040087.nii.gz',\n",
              "  '/root/nilearn_data/cobre/fmri_0040115.nii.gz',\n",
              "  '/root/nilearn_data/cobre/fmri_0040138.nii.gz',\n",
              "  '/root/nilearn_data/cobre/fmri_0040139.nii.gz',\n",
              "  '/root/nilearn_data/cobre/fmri_0040017.nii.gz',\n",
              "  '/root/nilearn_data/cobre/fmri_0040035.nii.gz',\n",
              "  '/root/nilearn_data/cobre/fmri_0040045.nii.gz',\n",
              "  '/root/nilearn_data/cobre/fmri_0040055.nii.gz',\n",
              "  '/root/nilearn_data/cobre/fmri_0040014.nii.gz',\n",
              "  '/root/nilearn_data/cobre/fmri_0040033.nii.gz',\n",
              "  '/root/nilearn_data/cobre/fmri_0040048.nii.gz',\n",
              "  '/root/nilearn_data/cobre/fmri_0040067.nii.gz',\n",
              "  '/root/nilearn_data/cobre/fmri_0040107.nii.gz',\n",
              "  '/root/nilearn_data/cobre/fmri_0040013.nii.gz',\n",
              "  '/root/nilearn_data/cobre/fmri_0040074.nii.gz',\n",
              "  '/root/nilearn_data/cobre/fmri_0040118.nii.gz',\n",
              "  '/root/nilearn_data/cobre/fmri_0040147.nii.gz',\n",
              "  '/root/nilearn_data/cobre/fmri_0040124.nii.gz',\n",
              "  '/root/nilearn_data/cobre/fmri_0040141.nii.gz',\n",
              "  '/root/nilearn_data/cobre/fmri_0040050.nii.gz',\n",
              "  '/root/nilearn_data/cobre/fmri_0040057.nii.gz',\n",
              "  '/root/nilearn_data/cobre/fmri_0040063.nii.gz',\n",
              "  '/root/nilearn_data/cobre/fmri_0040043.nii.gz',\n",
              "  '/root/nilearn_data/cobre/fmri_0040136.nii.gz',\n",
              "  '/root/nilearn_data/cobre/fmri_0040146.nii.gz',\n",
              "  '/root/nilearn_data/cobre/fmri_0040095.nii.gz',\n",
              "  '/root/nilearn_data/cobre/fmri_0040102.nii.gz',\n",
              "  '/root/nilearn_data/cobre/fmri_0040024.nii.gz',\n",
              "  '/root/nilearn_data/cobre/fmri_0040134.nii.gz',\n",
              "  '/root/nilearn_data/cobre/fmri_0040030.nii.gz',\n",
              "  '/root/nilearn_data/cobre/fmri_0040031.nii.gz',\n",
              "  '/root/nilearn_data/cobre/fmri_0040019.nii.gz',\n",
              "  '/root/nilearn_data/cobre/fmri_0040026.nii.gz',\n",
              "  '/root/nilearn_data/cobre/fmri_0040119.nii.gz',\n",
              "  '/root/nilearn_data/cobre/fmri_0040018.nii.gz',\n",
              "  '/root/nilearn_data/cobre/fmri_0040116.nii.gz',\n",
              "  '/root/nilearn_data/cobre/fmri_0040130.nii.gz',\n",
              "  '/root/nilearn_data/cobre/fmri_0040131.nii.gz',\n",
              "  '/root/nilearn_data/cobre/fmri_0040023.nii.gz',\n",
              "  '/root/nilearn_data/cobre/fmri_0040027.nii.gz',\n",
              "  '/root/nilearn_data/cobre/fmri_0040123.nii.gz',\n",
              "  '/root/nilearn_data/cobre/fmri_0040125.nii.gz',\n",
              "  '/root/nilearn_data/cobre/fmri_0040062.nii.gz',\n",
              "  '/root/nilearn_data/cobre/fmri_0040054.nii.gz',\n",
              "  '/root/nilearn_data/cobre/fmri_0040076.nii.gz',\n",
              "  '/root/nilearn_data/cobre/fmri_0040038.nii.gz',\n",
              "  '/root/nilearn_data/cobre/fmri_0040140.nii.gz',\n",
              "  '/root/nilearn_data/cobre/fmri_0040144.nii.gz',\n",
              "  '/root/nilearn_data/cobre/fmri_0040069.nii.gz',\n",
              "  '/root/nilearn_data/cobre/fmri_0040111.nii.gz',\n",
              "  '/root/nilearn_data/cobre/fmri_0040066.nii.gz',\n",
              "  '/root/nilearn_data/cobre/fmri_0040086.nii.gz'],\n",
              " 'phenotypic': rec.array([(40061, 18, b'Male', b'Right', b'Control', b'None', 133, 0.25512, 0.22657),\n",
              "            (40090, 18, b'Female', b'Right', b'Control', b'None', 150, 0.16963, 0.16963),\n",
              "            (40046, 18, b'Male', b'Left', b'Patient', b'295.70 depressed type',  76, 0.37504, 0.30042),\n",
              "            (40002, 19, b'Male', b'Right', b'Patient', b'295.3',  67, 0.40006, 0.21575),\n",
              "            (40117, 19, b'Male', b'Right', b'Patient', b'295.3', 133, 0.20975, 0.1841 ),\n",
              "            (40145, 19, b'Male', b'Right', b'Patient', b'295.6', 144, 0.16429, 0.15521),\n",
              "            (40113, 20, b'Male', b'Right', b'Control', b'None', 126, 0.19962, 0.1579 ),\n",
              "            (40000, 20, b'Female', b'Right', b'Patient', b'295.9', 140, 0.21234, 0.20245),\n",
              "            (40029, 20, b'Male', b'Right', b'Patient', b'295.6', 125, 0.24732, 0.23723),\n",
              "            (40133, 20, b'Male', b'Right', b'Patient', b'295.3', 118, 0.2999 , 0.18351),\n",
              "            (40121, 21, b'Female', b'Right', b'Control', b'None', 145, 0.25869, 0.25791),\n",
              "            (40021, 21, b'Female', b'Right', b'Patient', b'295.3', 114, 0.30954, 0.28146),\n",
              "            (40137, 21, b'Male', b'Left', b'Patient', b'295.2', 117, 0.29161, 0.2102 ),\n",
              "            (40020, 22, b'Male', b'Right', b'Control', b'None', 135, 0.20898, 0.19203),\n",
              "            (40052, 22, b'Female', b'Right', b'Control', b'None', 122, 0.2513 , 0.22395),\n",
              "            (40065, 22, b'Male', b'Right', b'Control', b'None', 120, 0.22359, 0.16432),\n",
              "            (40128, 22, b'Male', b'Right', b'Control', b'None',  40, 0.54862, 0.43736),\n",
              "            (40085, 22, b'Male', b'Right', b'Patient', b'295.3',  87, 0.46104, 0.14984),\n",
              "            (40096, 22, b'Male', b'Right', b'Patient', b'295.9',  44, 0.6207 , 0.30721),\n",
              "            (40122, 22, b'Male', b'Right', b'Patient', b'295.3', 130, 0.21948, 0.18048),\n",
              "            (40051, 23, b'Male', b'Right', b'Control', b'None', 145, 0.16916, 0.1643 ),\n",
              "            (40114, 23, b'Male', b'Right', b'Control', b'None',  49, 0.41307, 0.29275),\n",
              "            (40129, 23, b'Male', b'Right', b'Control', b'None', 108, 0.32753, 0.2889 ),\n",
              "            (40022, 23, b'Male', b'Left', b'Patient', b'295.6', 127, 0.24566, 0.18068),\n",
              "            (40073, 23, b'Male', b'Right', b'Patient', b'295.7',  40, 0.60657, 0.50509),\n",
              "            (40142, 23, b'Male', b'Left', b'Patient', b'295.9', 118, 0.27772, 0.23005),\n",
              "            (40053, 24, b'Female', b'Right', b'Control', b'None', 123, 0.20612, 0.13628),\n",
              "            (40068, 24, b'Female', b'Right', b'Control', b'None', 128, 0.2173 , 0.19019),\n",
              "            (40091, 24, b'Male', b'Right', b'Control', b'None', 137, 0.17093, 0.1538 ),\n",
              "            (40135, 24, b'Female', b'Right', b'Control', b'None', 134, 0.14645, 0.13457),\n",
              "            (40037, 24, b'Male', b'Right', b'Patient', b'295.3', 119, 0.30658, 0.26472),\n",
              "            (40093, 25, b'Male', b'Right', b'Control', b'None', 150, 0.18575, 0.18575),\n",
              "            (40059, 25, b'Male', b'Right', b'Patient', b'295.3', 145, 0.18168, 0.17674),\n",
              "            (40072, 25, b'Male', b'Right', b'Patient', b'295.3',  77, 0.36038, 0.25813),\n",
              "            (40036, 26, b'Male', b'Both', b'Control', b'None', 150, 0.18557, 0.18557),\n",
              "            (40104, 26, b'Male', b'Right', b'Control', b'None', 130, 0.24188, 0.23106),\n",
              "            (40120, 26, b'Male', b'Right', b'Control', b'None', 114, 0.22336, 0.15925),\n",
              "            (40127, 26, b'Male', b'Right', b'Control', b'None',  42, 0.44118, 0.31396),\n",
              "            (40079, 26, b'Male', b'Right', b'Patient', b'295.6',  61, 0.65635, 0.2982 ),\n",
              "            (40080, 26, b'Male', b'Right', b'Patient', b'295.6',  68, 0.34153, 0.27562),\n",
              "            (40056, 27, b'Male', b'Right', b'Control', b'None',  42, 0.58427, 0.24754),\n",
              "            (40058, 27, b'Female', b'Right', b'Control', b'None',  92, 0.34268, 0.22976),\n",
              "            (40087, 27, b'Male', b'Right', b'Control', b'None', 150, 0.12506, 0.12506),\n",
              "            (40115, 27, b'Male', b'Right', b'Control', b'None', 145, 0.15655, 0.15085),\n",
              "            (40001, 27, b'Male', b'Right', b'Patient', b'295.3',  40, 1.4742 , 1.6213 ),\n",
              "            (40138, 28, b'Male', b'Right', b'Control', b'None', 104, 0.29143, 0.24424),\n",
              "            (40139, 28, b'Female', b'Right', b'Control', b'None', 150, 0.1618 , 0.1618 ),\n",
              "            (40003, 28, b'Male', b'Right', b'Patient', b'295.1', 114, 0.38006, 0.23088),\n",
              "            (40008, 28, b'Male', b'Right', b'Patient', b'295.9', 127, 0.34424, 0.22329),\n",
              "            (40011, 28, b'Male', b'Left', b'Patient', b'295.6',  40, 0.91389, 0.97531),\n",
              "            (40077, 28, b'Male', b'Right', b'Patient', b'295.6', 145, 0.18998, 0.18584),\n",
              "            (40034, 29, b'Male', b'Left', b'Patient', b'295.3',  76, 0.37617, 0.28342),\n",
              "            (40108, 29, b'Male', b'Right', b'Patient', b'295.3', 125, 0.21887, 0.14502),\n",
              "            (40017, 30, b'Female', b'Right', b'Control', b'None',  73, 0.33847, 0.24309),\n",
              "            (40035, 30, b'Male', b'Right', b'Control', b'None', 125, 0.26599, 0.23136),\n",
              "            (40045, 30, b'Male', b'Right', b'Control', b'None', 139, 0.2134 , 0.1963 ),\n",
              "            (40055, 30, b'Female', b'Right', b'Control', b'None', 106, 0.3229 , 0.26254),\n",
              "            (40014, 31, b'Male', b'Right', b'Control', b'None',  80, 0.37479, 0.30023),\n",
              "            (40033, 31, b'Female', b'Right', b'Control', b'None', 150, 0.16199, 0.16199),\n",
              "            (40048, 31, b'Male', b'Right', b'Control', b'None', 123, 0.25954, 0.20885),\n",
              "            (40009, 31, b'Female', b'Right', b'Patient', b'295.3',  40, 0.74579, 0.83253),\n",
              "            (40032, 31, b'Female', b'Right', b'Patient', b'295.3', 144, 0.18982, 0.18381),\n",
              "            (40012, 32, b'Female', b'Right', b'Patient', b'295.3',  40, 0.47137, 0.32061),\n",
              "            (40067, 33, b'Male', b'Right', b'Control', b'None', 150, 0.17101, 0.17101),\n",
              "            (40107, 33, b'Female', b'Right', b'Control', b'None',  44, 0.39038, 0.29359),\n",
              "            (40025, 33, b'Male', b'Right', b'Patient', b'295.3',  60, 0.45623, 0.23537),\n",
              "            (40088, 33, b'Female', b'Right', b'Patient', b'295.9',  40, 1.6249 , 1.995  ),\n",
              "            (40109, 33, b'Male', b'Right', b'Patient', b'295.3',  80, 0.35142, 0.32788),\n",
              "            (40013, 34, b'Male', b'Right', b'Control', b'None', 144, 0.21028, 0.19575),\n",
              "            (40074, 34, b'Female', b'Right', b'Control', b'311',  42, 0.5038 , 0.40084),\n",
              "            (40118, 34, b'Female', b'Right', b'Control', b'296.26', 134, 0.21138, 0.17856),\n",
              "            (40147, 34, b'Male', b'Right', b'Control', b'None', 118, 0.28917, 0.22969),\n",
              "            (40124, 35, b'Male', b'Right', b'Control', b'None', 131, 0.24932, 0.22583),\n",
              "            (40141, 35, b'Female', b'Right', b'Control', b'None', 102, 0.38611, 0.24044),\n",
              "            (40098, 35, b'Male', b'Right', b'Patient', b'295.3', 133, 0.3089 , 0.28621),\n",
              "            (40100, 35, b'Male', b'Right', b'Patient', b'295.3',  40, 0.53406, 0.42236),\n",
              "            (40050, 36, b'Male', b'Right', b'Control', b'None', 133, 0.2315 , 0.22038),\n",
              "            (40057, 36, b'Male', b'Right', b'Control', b'None',  84, 0.386  , 0.27416),\n",
              "            (40063, 37, b'Male', b'Right', b'Control', b'None', 150, 0.14487, 0.14487),\n",
              "            (40047, 37, b'Male', b'Right', b'Patient', b'295.3',  88, 0.32137, 0.25356),\n",
              "            (40043, 38, b'Male', b'Right', b'Control', b'None', 150, 0.20795, 0.20795),\n",
              "            (40136, 38, b'Male', b'Right', b'Control', b'None',  40, 0.74496, 0.81228),\n",
              "            (40099, 38, b'Male', b'Right', b'Patient', b'295.70 bipolar type',  66, 0.49133, 0.24305),\n",
              "            (40146, 39, b'Male', b'Right', b'Control', b'None', 150, 0.23899, 0.23899),\n",
              "            (40095, 40, b'Female', b'Right', b'Control', b'None',  40, 0.60893, 0.64667),\n",
              "            (40102, 40, b'Female', b'Right', b'Control', b'None', 129, 0.24834, 0.22769),\n",
              "            (40042, 40, b'Female', b'Right', b'Patient', b'295.3',  41, 0.40782, 0.33002),\n",
              "            (40075, 40, b'Male', b'Right', b'Patient', b'295.1',  40, 0.63283, 0.50345),\n",
              "            (40103, 40, b'Male', b'Right', b'Patient', b'295.3', 144, 0.18647, 0.17775),\n",
              "            (40060, 41, b'Male', b'Right', b'Patient', b'295.3',  40, 0.82794, 0.43365),\n",
              "            (40126, 41, b'Female', b'Right', b'Patient', b'295.3',  63, 0.42124, 0.2928 ),\n",
              "            (40024, 42, b'Male', b'Right', b'Control', b'None',  40, 0.85918, 0.9328 ),\n",
              "            (40134, 42, b'Male', b'Right', b'Control', b'None', 145, 0.20061, 0.19482),\n",
              "            (40112, 42, b'Male', b'Right', b'Patient', b'295.3',  60, 0.36911, 0.29211),\n",
              "            (40030, 43, b'Male', b'Right', b'Control', b'None',  40, 0.62152, 0.51788),\n",
              "            (40031, 43, b'Female', b'Right', b'Control', b'None',  42, 0.56666, 0.47594),\n",
              "            (40081, 43, b'Male', b'Right', b'Patient', b'295.7',  94, 0.37463, 0.32208),\n",
              "            (40110, 43, b'Male', b'Left', b'Patient', b'295.7',  41, 0.45515, 0.38546),\n",
              "            (40019, 44, b'Male', b'Right', b'Control', b'None', 119, 0.2572 , 0.20713),\n",
              "            (40026, 44, b'Male', b'Right', b'Control', b'None',  41, 0.61259, 0.46797),\n",
              "            (40119, 44, b'Female', b'Right', b'Control', b'None',  87, 0.34221, 0.26478),\n",
              "            (40049, 44, b'Male', b'Right', b'Patient', b'295.3',  41, 0.69799, 0.75885),\n",
              "            (40106, 46, b'Male', b'Right', b'Patient', b'295.6', 139, 0.18579, 0.16822),\n",
              "            (40018, 47, b'Male', b'Right', b'Control', b'None', 116, 0.26954, 0.19725),\n",
              "            (40116, 47, b'Male', b'Right', b'Control', b'None',  63, 0.36441, 0.27333),\n",
              "            (40130, 47, b'Female', b'Right', b'Control', b'None', 130, 0.19747, 0.17862),\n",
              "            (40131, 47, b'Male', b'Right', b'Control', b'None',  77, 0.37017, 0.21213),\n",
              "            (40015, 47, b'Male', b'Right', b'Patient', b'295.3',  40, 0.46477, 0.40612),\n",
              "            (40023, 48, b'Male', b'Right', b'Control', b'None', 124, 0.19415, 0.16827),\n",
              "            (40027, 48, b'Male', b'Right', b'Control', b'None', 116, 0.25987, 0.2296 ),\n",
              "            (40123, 48, b'Male', b'Right', b'Control', b'None', 145, 0.18028, 0.17286),\n",
              "            (40125, 48, b'Male', b'Right', b'Control', b'None',  83, 0.39807, 0.2608 ),\n",
              "            (40005, 48, b'Female', b'Right', b'Patient', b'295.3',  40, 0.95485, 0.99867),\n",
              "            (40044, 48, b'Male', b'Left', b'Patient', b'290.3',  41, 0.50784, 0.44061),\n",
              "            (40016, 49, b'Male', b'Both', b'Patient', b'295.3',  40, 0.92654, 0.99456),\n",
              "            (40092, 49, b'Male', b'Right', b'Patient', b'295.3',  67, 0.3837 , 0.28436),\n",
              "            (40062, 50, b'Male', b'Right', b'Control', b'None', 150, 0.21444, 0.21444),\n",
              "            (40082, 50, b'Male', b'Right', b'Patient', b'295.3',  42, 0.46627, 0.32769),\n",
              "            (40101, 50, b'Male', b'Right', b'Patient', b'295.3',  43, 0.48589, 0.31121),\n",
              "            (40132, 50, b'Male', b'Right', b'Patient', b'295.7',  88, 0.3352 , 0.25822),\n",
              "            (40039, 51, b'Female', b'Left', b'Patient', b'295.7',  40, 0.80609, 0.88386),\n",
              "            (40071, 51, b'Female', b'Right', b'Patient', b'295.6',  41, 0.79009, 0.84431),\n",
              "            (40054, 52, b'Male', b'Right', b'Control', b'None',  55, 0.45838, 0.28347),\n",
              "            (40076, 52, b'Male', b'Right', b'Control', b'None',  73, 0.40177, 0.28988),\n",
              "            (40010, 52, b'Male', b'Right', b'Patient', b'295.3', 121, 0.30325, 0.18095),\n",
              "            (40097, 52, b'Female', b'Right', b'Patient', b'296.4',  40, 0.56275, 0.62827),\n",
              "            (40105, 52, b'Male', b'Right', b'Patient', b'295.3',  43, 0.70647, 0.61457),\n",
              "            (40143, 52, b'Male', b'Right', b'Patient', b'295.3',  41, 0.50056, 0.46866),\n",
              "            (40038, 53, b'Female', b'Right', b'Control', b'None',  40, 0.4424 , 0.28167),\n",
              "            (40140, 53, b'Female', b'Right', b'Control', b'None', 145, 0.27728, 0.27424),\n",
              "            (40006, 53, b'Male', b'Right', b'Patient', b'295.6',  87, 0.38235, 0.20964),\n",
              "            (40144, 54, b'Male', b'Right', b'Control', b'None',  49, 0.40327, 0.29335),\n",
              "            (40004, 55, b'Male', b'Right', b'Patient', b'295.3', 129, 0.20401, 0.12937),\n",
              "            (40064, 56, b'Female', b'Both', b'Patient', b'295.6',  88, 0.32853, 0.26428),\n",
              "            (40078, 57, b'Male', b'Right', b'Patient', b'295.6', 125, 0.27258, 0.23321),\n",
              "            (40094, 57, b'Male', b'Left', b'Patient', b'295.92',  65, 0.39593, 0.29667),\n",
              "            (40069, 58, b'Male', b'Right', b'Control', b'None',  42, 0.46426, 0.50447),\n",
              "            (40111, 58, b'Female', b'Both', b'Control', b'None',  40, 0.6121 , 0.58886),\n",
              "            (40084, 60, b'Male', b'Right', b'Patient', b'295.1',  40, 0.99827, 0.99949),\n",
              "            (40066, 62, b'Male', b'Left', b'Control', b'None', 109, 0.27777, 0.24623),\n",
              "            (40041, 62, b'Male', b'Right', b'Patient', b'295.3',  50, 0.48969, 0.35007),\n",
              "            (40089, 62, b'Male', b'Right', b'Patient', b'295.3',  40, 0.70368, 0.72439),\n",
              "            (40040, 63, b'Male', b'Right', b'Patient', b'295.3',  42, 0.58301, 0.40646),\n",
              "            (40028, 64, b'Male', b'Right', b'Patient', b'295.3',  55, 0.42364, 0.26393),\n",
              "            (40086, 65, b'Male', b'Right', b'Control', b'None',  48, 0.39595, 0.32296),\n",
              "            (40007, 65, b'Female', b'Right', b'Patient', b'295.3',  40, 0.70044, 0.72077)],\n",
              "           dtype=[('id', '<i8'), ('current_age', '<i8'), ('gender', 'S6'), ('handedness', 'S5'), ('subject_type', 'S7'), ('diagnosis', 'S21'), ('frames_ok', '<i8'), ('fd', '<f8'), ('fd_scrubbed', '<f8')])}"
            ]
          },
          "metadata": {},
          "execution_count": 4
        }
      ]
    },
    {
      "cell_type": "markdown",
      "metadata": {
        "id": "OwwZc2gqPe9e"
      },
      "source": [
        "**Create Data Frame for phenotypic data**\n",
        "\n",
        "Phenotypic data are all kinds of clinical information regarding patients' disease symptoms, as well as relevant demographic data, such as age, ethnicity and sex"
      ]
    },
    {
      "cell_type": "code",
      "metadata": {
        "id": "hn41rUHXQ3OI"
      },
      "source": [
        "#import phenotypic data\n",
        "import pandas\n",
        "pheno = pandas.DataFrame(data.phenotypic)"
      ],
      "execution_count": null,
      "outputs": []
    },
    {
      "cell_type": "markdown",
      "metadata": {
        "id": "re3qV9faPnWU"
      },
      "source": [
        "**Create another data frame for path**\n",
        "\n",
        "Name of the new data frame is : files"
      ]
    },
    {
      "cell_type": "code",
      "metadata": {
        "id": "kxqpIZ9kRAQR"
      },
      "source": [
        "#extract participant id from file paths\n",
        "file_names = []\n",
        "for path in data.func:\n",
        "    #note the string slicing below is not best practice and will need to change if file paths change\n",
        "    file_names.append(path[39:44])\n"
      ],
      "execution_count": null,
      "outputs": []
    },
    {
      "cell_type": "code",
      "metadata": {
        "id": "Qpht_-8AREhH"
      },
      "source": [
        "#create dataframe of file paths and ids\n",
        "files = pandas.DataFrame(data.func, columns = ['path'])\n",
        "files['id'] = file_names\n",
        "files['id'] = pheno['id'].astype('int')"
      ],
      "execution_count": null,
      "outputs": []
    },
    {
      "cell_type": "markdown",
      "metadata": {
        "id": "ifAjTooEPqy2"
      },
      "source": [
        "**Data Frame 1 : pheno**\n",
        "\n",
        "Pheno contain phenotypic datas"
      ]
    },
    {
      "cell_type": "code",
      "metadata": {
        "colab": {
          "base_uri": "https://localhost:8080/",
          "height": 417
        },
        "id": "jGbZPuINRG-f",
        "outputId": "1be5eb1e-ffa6-4241-b3c5-41cff67ece11"
      },
      "source": [
        "pheno"
      ],
      "execution_count": null,
      "outputs": [
        {
          "output_type": "execute_result",
          "data": {
            "text/html": [
              "<div>\n",
              "<style scoped>\n",
              "    .dataframe tbody tr th:only-of-type {\n",
              "        vertical-align: middle;\n",
              "    }\n",
              "\n",
              "    .dataframe tbody tr th {\n",
              "        vertical-align: top;\n",
              "    }\n",
              "\n",
              "    .dataframe thead th {\n",
              "        text-align: right;\n",
              "    }\n",
              "</style>\n",
              "<table border=\"1\" class=\"dataframe\">\n",
              "  <thead>\n",
              "    <tr style=\"text-align: right;\">\n",
              "      <th></th>\n",
              "      <th>id</th>\n",
              "      <th>current_age</th>\n",
              "      <th>gender</th>\n",
              "      <th>handedness</th>\n",
              "      <th>subject_type</th>\n",
              "      <th>diagnosis</th>\n",
              "      <th>frames_ok</th>\n",
              "      <th>fd</th>\n",
              "      <th>fd_scrubbed</th>\n",
              "    </tr>\n",
              "  </thead>\n",
              "  <tbody>\n",
              "    <tr>\n",
              "      <th>0</th>\n",
              "      <td>40061</td>\n",
              "      <td>18</td>\n",
              "      <td>b'Male'</td>\n",
              "      <td>b'Right'</td>\n",
              "      <td>b'Control'</td>\n",
              "      <td>b'None'</td>\n",
              "      <td>133</td>\n",
              "      <td>0.25512</td>\n",
              "      <td>0.22657</td>\n",
              "    </tr>\n",
              "    <tr>\n",
              "      <th>1</th>\n",
              "      <td>40090</td>\n",
              "      <td>18</td>\n",
              "      <td>b'Female'</td>\n",
              "      <td>b'Right'</td>\n",
              "      <td>b'Control'</td>\n",
              "      <td>b'None'</td>\n",
              "      <td>150</td>\n",
              "      <td>0.16963</td>\n",
              "      <td>0.16963</td>\n",
              "    </tr>\n",
              "    <tr>\n",
              "      <th>2</th>\n",
              "      <td>40046</td>\n",
              "      <td>18</td>\n",
              "      <td>b'Male'</td>\n",
              "      <td>b'Left'</td>\n",
              "      <td>b'Patient'</td>\n",
              "      <td>b'295.70 depressed type'</td>\n",
              "      <td>76</td>\n",
              "      <td>0.37504</td>\n",
              "      <td>0.30042</td>\n",
              "    </tr>\n",
              "    <tr>\n",
              "      <th>3</th>\n",
              "      <td>40002</td>\n",
              "      <td>19</td>\n",
              "      <td>b'Male'</td>\n",
              "      <td>b'Right'</td>\n",
              "      <td>b'Patient'</td>\n",
              "      <td>b'295.3'</td>\n",
              "      <td>67</td>\n",
              "      <td>0.40006</td>\n",
              "      <td>0.21575</td>\n",
              "    </tr>\n",
              "    <tr>\n",
              "      <th>4</th>\n",
              "      <td>40117</td>\n",
              "      <td>19</td>\n",
              "      <td>b'Male'</td>\n",
              "      <td>b'Right'</td>\n",
              "      <td>b'Patient'</td>\n",
              "      <td>b'295.3'</td>\n",
              "      <td>133</td>\n",
              "      <td>0.20975</td>\n",
              "      <td>0.18410</td>\n",
              "    </tr>\n",
              "    <tr>\n",
              "      <th>...</th>\n",
              "      <td>...</td>\n",
              "      <td>...</td>\n",
              "      <td>...</td>\n",
              "      <td>...</td>\n",
              "      <td>...</td>\n",
              "      <td>...</td>\n",
              "      <td>...</td>\n",
              "      <td>...</td>\n",
              "      <td>...</td>\n",
              "    </tr>\n",
              "    <tr>\n",
              "      <th>141</th>\n",
              "      <td>40089</td>\n",
              "      <td>62</td>\n",
              "      <td>b'Male'</td>\n",
              "      <td>b'Right'</td>\n",
              "      <td>b'Patient'</td>\n",
              "      <td>b'295.3'</td>\n",
              "      <td>40</td>\n",
              "      <td>0.70368</td>\n",
              "      <td>0.72439</td>\n",
              "    </tr>\n",
              "    <tr>\n",
              "      <th>142</th>\n",
              "      <td>40040</td>\n",
              "      <td>63</td>\n",
              "      <td>b'Male'</td>\n",
              "      <td>b'Right'</td>\n",
              "      <td>b'Patient'</td>\n",
              "      <td>b'295.3'</td>\n",
              "      <td>42</td>\n",
              "      <td>0.58301</td>\n",
              "      <td>0.40646</td>\n",
              "    </tr>\n",
              "    <tr>\n",
              "      <th>143</th>\n",
              "      <td>40028</td>\n",
              "      <td>64</td>\n",
              "      <td>b'Male'</td>\n",
              "      <td>b'Right'</td>\n",
              "      <td>b'Patient'</td>\n",
              "      <td>b'295.3'</td>\n",
              "      <td>55</td>\n",
              "      <td>0.42364</td>\n",
              "      <td>0.26393</td>\n",
              "    </tr>\n",
              "    <tr>\n",
              "      <th>144</th>\n",
              "      <td>40086</td>\n",
              "      <td>65</td>\n",
              "      <td>b'Male'</td>\n",
              "      <td>b'Right'</td>\n",
              "      <td>b'Control'</td>\n",
              "      <td>b'None'</td>\n",
              "      <td>48</td>\n",
              "      <td>0.39595</td>\n",
              "      <td>0.32296</td>\n",
              "    </tr>\n",
              "    <tr>\n",
              "      <th>145</th>\n",
              "      <td>40007</td>\n",
              "      <td>65</td>\n",
              "      <td>b'Female'</td>\n",
              "      <td>b'Right'</td>\n",
              "      <td>b'Patient'</td>\n",
              "      <td>b'295.3'</td>\n",
              "      <td>40</td>\n",
              "      <td>0.70044</td>\n",
              "      <td>0.72077</td>\n",
              "    </tr>\n",
              "  </tbody>\n",
              "</table>\n",
              "<p>146 rows × 9 columns</p>\n",
              "</div>"
            ],
            "text/plain": [
              "        id  current_age     gender  ... frames_ok       fd fd_scrubbed\n",
              "0    40061           18    b'Male'  ...       133  0.25512     0.22657\n",
              "1    40090           18  b'Female'  ...       150  0.16963     0.16963\n",
              "2    40046           18    b'Male'  ...        76  0.37504     0.30042\n",
              "3    40002           19    b'Male'  ...        67  0.40006     0.21575\n",
              "4    40117           19    b'Male'  ...       133  0.20975     0.18410\n",
              "..     ...          ...        ...  ...       ...      ...         ...\n",
              "141  40089           62    b'Male'  ...        40  0.70368     0.72439\n",
              "142  40040           63    b'Male'  ...        42  0.58301     0.40646\n",
              "143  40028           64    b'Male'  ...        55  0.42364     0.26393\n",
              "144  40086           65    b'Male'  ...        48  0.39595     0.32296\n",
              "145  40007           65  b'Female'  ...        40  0.70044     0.72077\n",
              "\n",
              "[146 rows x 9 columns]"
            ]
          },
          "metadata": {},
          "execution_count": 8
        }
      ]
    },
    {
      "cell_type": "markdown",
      "metadata": {
        "id": "TvJwDZcMPuFH"
      },
      "source": [
        "**Data Frame 2 : files**\n",
        "\n",
        "files contain id and path"
      ]
    },
    {
      "cell_type": "code",
      "metadata": {
        "colab": {
          "base_uri": "https://localhost:8080/",
          "height": 417
        },
        "id": "yp-KMJTDRcuH",
        "outputId": "e1f5ccf7-f1d5-46ef-fe52-2f43fbab402a"
      },
      "source": [
        "files"
      ],
      "execution_count": null,
      "outputs": [
        {
          "output_type": "execute_result",
          "data": {
            "text/html": [
              "<div>\n",
              "<style scoped>\n",
              "    .dataframe tbody tr th:only-of-type {\n",
              "        vertical-align: middle;\n",
              "    }\n",
              "\n",
              "    .dataframe tbody tr th {\n",
              "        vertical-align: top;\n",
              "    }\n",
              "\n",
              "    .dataframe thead th {\n",
              "        text-align: right;\n",
              "    }\n",
              "</style>\n",
              "<table border=\"1\" class=\"dataframe\">\n",
              "  <thead>\n",
              "    <tr style=\"text-align: right;\">\n",
              "      <th></th>\n",
              "      <th>path</th>\n",
              "      <th>id</th>\n",
              "    </tr>\n",
              "  </thead>\n",
              "  <tbody>\n",
              "    <tr>\n",
              "      <th>0</th>\n",
              "      <td>/root/nilearn_data/cobre/fmri_0040046.nii.gz</td>\n",
              "      <td>40061</td>\n",
              "    </tr>\n",
              "    <tr>\n",
              "      <th>1</th>\n",
              "      <td>/root/nilearn_data/cobre/fmri_0040002.nii.gz</td>\n",
              "      <td>40090</td>\n",
              "    </tr>\n",
              "    <tr>\n",
              "      <th>2</th>\n",
              "      <td>/root/nilearn_data/cobre/fmri_0040117.nii.gz</td>\n",
              "      <td>40046</td>\n",
              "    </tr>\n",
              "    <tr>\n",
              "      <th>3</th>\n",
              "      <td>/root/nilearn_data/cobre/fmri_0040145.nii.gz</td>\n",
              "      <td>40002</td>\n",
              "    </tr>\n",
              "    <tr>\n",
              "      <th>4</th>\n",
              "      <td>/root/nilearn_data/cobre/fmri_0040000.nii.gz</td>\n",
              "      <td>40117</td>\n",
              "    </tr>\n",
              "    <tr>\n",
              "      <th>...</th>\n",
              "      <td>...</td>\n",
              "      <td>...</td>\n",
              "    </tr>\n",
              "    <tr>\n",
              "      <th>141</th>\n",
              "      <td>/root/nilearn_data/cobre/fmri_0040144.nii.gz</td>\n",
              "      <td>40089</td>\n",
              "    </tr>\n",
              "    <tr>\n",
              "      <th>142</th>\n",
              "      <td>/root/nilearn_data/cobre/fmri_0040069.nii.gz</td>\n",
              "      <td>40040</td>\n",
              "    </tr>\n",
              "    <tr>\n",
              "      <th>143</th>\n",
              "      <td>/root/nilearn_data/cobre/fmri_0040111.nii.gz</td>\n",
              "      <td>40028</td>\n",
              "    </tr>\n",
              "    <tr>\n",
              "      <th>144</th>\n",
              "      <td>/root/nilearn_data/cobre/fmri_0040066.nii.gz</td>\n",
              "      <td>40086</td>\n",
              "    </tr>\n",
              "    <tr>\n",
              "      <th>145</th>\n",
              "      <td>/root/nilearn_data/cobre/fmri_0040086.nii.gz</td>\n",
              "      <td>40007</td>\n",
              "    </tr>\n",
              "  </tbody>\n",
              "</table>\n",
              "<p>146 rows × 2 columns</p>\n",
              "</div>"
            ],
            "text/plain": [
              "                                             path     id\n",
              "0    /root/nilearn_data/cobre/fmri_0040046.nii.gz  40061\n",
              "1    /root/nilearn_data/cobre/fmri_0040002.nii.gz  40090\n",
              "2    /root/nilearn_data/cobre/fmri_0040117.nii.gz  40046\n",
              "3    /root/nilearn_data/cobre/fmri_0040145.nii.gz  40002\n",
              "4    /root/nilearn_data/cobre/fmri_0040000.nii.gz  40117\n",
              "..                                            ...    ...\n",
              "141  /root/nilearn_data/cobre/fmri_0040144.nii.gz  40089\n",
              "142  /root/nilearn_data/cobre/fmri_0040069.nii.gz  40040\n",
              "143  /root/nilearn_data/cobre/fmri_0040111.nii.gz  40028\n",
              "144  /root/nilearn_data/cobre/fmri_0040066.nii.gz  40086\n",
              "145  /root/nilearn_data/cobre/fmri_0040086.nii.gz  40007\n",
              "\n",
              "[146 rows x 2 columns]"
            ]
          },
          "metadata": {},
          "execution_count": 9
        }
      ]
    },
    {
      "cell_type": "markdown",
      "metadata": {
        "id": "-NqGIGRTPxVF"
      },
      "source": [
        "**Merge two Data Frames and store the result in pheno**"
      ]
    },
    {
      "cell_type": "code",
      "metadata": {
        "id": "zHNZ9XGqRv2O"
      },
      "source": [
        "#merge phenotypic data with file paths\n",
        "import pandas\n",
        "pheno = pandas.merge(pheno, files, on = 'id')\n",
        "\n",
        "#fix string decoding\n",
        "pheno['gender'] = pheno['gender'].map(lambda x: x.decode('utf-8'))\n",
        "pheno['handedness'] = pheno['handedness'].map(lambda x: x.decode('utf-8'))\n",
        "pheno['subject_type'] = pheno['subject_type'].map(lambda x: x.decode('utf-8'))\n",
        "pheno['diagnosis'] = pheno['diagnosis'].map(lambda x: x.decode('utf-8'))"
      ],
      "execution_count": null,
      "outputs": []
    },
    {
      "cell_type": "code",
      "metadata": {
        "colab": {
          "base_uri": "https://localhost:8080/",
          "height": 417
        },
        "id": "RGvAxV9JR1k_",
        "outputId": "5b90e5e7-c0c2-4258-85f5-e89e38bb9c80"
      },
      "source": [
        "pheno"
      ],
      "execution_count": null,
      "outputs": [
        {
          "output_type": "execute_result",
          "data": {
            "text/html": [
              "<div>\n",
              "<style scoped>\n",
              "    .dataframe tbody tr th:only-of-type {\n",
              "        vertical-align: middle;\n",
              "    }\n",
              "\n",
              "    .dataframe tbody tr th {\n",
              "        vertical-align: top;\n",
              "    }\n",
              "\n",
              "    .dataframe thead th {\n",
              "        text-align: right;\n",
              "    }\n",
              "</style>\n",
              "<table border=\"1\" class=\"dataframe\">\n",
              "  <thead>\n",
              "    <tr style=\"text-align: right;\">\n",
              "      <th></th>\n",
              "      <th>id</th>\n",
              "      <th>current_age</th>\n",
              "      <th>gender</th>\n",
              "      <th>handedness</th>\n",
              "      <th>subject_type</th>\n",
              "      <th>diagnosis</th>\n",
              "      <th>frames_ok</th>\n",
              "      <th>fd</th>\n",
              "      <th>fd_scrubbed</th>\n",
              "      <th>path</th>\n",
              "    </tr>\n",
              "  </thead>\n",
              "  <tbody>\n",
              "    <tr>\n",
              "      <th>0</th>\n",
              "      <td>40061</td>\n",
              "      <td>18</td>\n",
              "      <td>Male</td>\n",
              "      <td>Right</td>\n",
              "      <td>Control</td>\n",
              "      <td>None</td>\n",
              "      <td>133</td>\n",
              "      <td>0.25512</td>\n",
              "      <td>0.22657</td>\n",
              "      <td>/root/nilearn_data/cobre/fmri_0040046.nii.gz</td>\n",
              "    </tr>\n",
              "    <tr>\n",
              "      <th>1</th>\n",
              "      <td>40090</td>\n",
              "      <td>18</td>\n",
              "      <td>Female</td>\n",
              "      <td>Right</td>\n",
              "      <td>Control</td>\n",
              "      <td>None</td>\n",
              "      <td>150</td>\n",
              "      <td>0.16963</td>\n",
              "      <td>0.16963</td>\n",
              "      <td>/root/nilearn_data/cobre/fmri_0040002.nii.gz</td>\n",
              "    </tr>\n",
              "    <tr>\n",
              "      <th>2</th>\n",
              "      <td>40046</td>\n",
              "      <td>18</td>\n",
              "      <td>Male</td>\n",
              "      <td>Left</td>\n",
              "      <td>Patient</td>\n",
              "      <td>295.70 depressed type</td>\n",
              "      <td>76</td>\n",
              "      <td>0.37504</td>\n",
              "      <td>0.30042</td>\n",
              "      <td>/root/nilearn_data/cobre/fmri_0040117.nii.gz</td>\n",
              "    </tr>\n",
              "    <tr>\n",
              "      <th>3</th>\n",
              "      <td>40002</td>\n",
              "      <td>19</td>\n",
              "      <td>Male</td>\n",
              "      <td>Right</td>\n",
              "      <td>Patient</td>\n",
              "      <td>295.3</td>\n",
              "      <td>67</td>\n",
              "      <td>0.40006</td>\n",
              "      <td>0.21575</td>\n",
              "      <td>/root/nilearn_data/cobre/fmri_0040145.nii.gz</td>\n",
              "    </tr>\n",
              "    <tr>\n",
              "      <th>4</th>\n",
              "      <td>40117</td>\n",
              "      <td>19</td>\n",
              "      <td>Male</td>\n",
              "      <td>Right</td>\n",
              "      <td>Patient</td>\n",
              "      <td>295.3</td>\n",
              "      <td>133</td>\n",
              "      <td>0.20975</td>\n",
              "      <td>0.18410</td>\n",
              "      <td>/root/nilearn_data/cobre/fmri_0040000.nii.gz</td>\n",
              "    </tr>\n",
              "    <tr>\n",
              "      <th>...</th>\n",
              "      <td>...</td>\n",
              "      <td>...</td>\n",
              "      <td>...</td>\n",
              "      <td>...</td>\n",
              "      <td>...</td>\n",
              "      <td>...</td>\n",
              "      <td>...</td>\n",
              "      <td>...</td>\n",
              "      <td>...</td>\n",
              "      <td>...</td>\n",
              "    </tr>\n",
              "    <tr>\n",
              "      <th>141</th>\n",
              "      <td>40089</td>\n",
              "      <td>62</td>\n",
              "      <td>Male</td>\n",
              "      <td>Right</td>\n",
              "      <td>Patient</td>\n",
              "      <td>295.3</td>\n",
              "      <td>40</td>\n",
              "      <td>0.70368</td>\n",
              "      <td>0.72439</td>\n",
              "      <td>/root/nilearn_data/cobre/fmri_0040144.nii.gz</td>\n",
              "    </tr>\n",
              "    <tr>\n",
              "      <th>142</th>\n",
              "      <td>40040</td>\n",
              "      <td>63</td>\n",
              "      <td>Male</td>\n",
              "      <td>Right</td>\n",
              "      <td>Patient</td>\n",
              "      <td>295.3</td>\n",
              "      <td>42</td>\n",
              "      <td>0.58301</td>\n",
              "      <td>0.40646</td>\n",
              "      <td>/root/nilearn_data/cobre/fmri_0040069.nii.gz</td>\n",
              "    </tr>\n",
              "    <tr>\n",
              "      <th>143</th>\n",
              "      <td>40028</td>\n",
              "      <td>64</td>\n",
              "      <td>Male</td>\n",
              "      <td>Right</td>\n",
              "      <td>Patient</td>\n",
              "      <td>295.3</td>\n",
              "      <td>55</td>\n",
              "      <td>0.42364</td>\n",
              "      <td>0.26393</td>\n",
              "      <td>/root/nilearn_data/cobre/fmri_0040111.nii.gz</td>\n",
              "    </tr>\n",
              "    <tr>\n",
              "      <th>144</th>\n",
              "      <td>40086</td>\n",
              "      <td>65</td>\n",
              "      <td>Male</td>\n",
              "      <td>Right</td>\n",
              "      <td>Control</td>\n",
              "      <td>None</td>\n",
              "      <td>48</td>\n",
              "      <td>0.39595</td>\n",
              "      <td>0.32296</td>\n",
              "      <td>/root/nilearn_data/cobre/fmri_0040066.nii.gz</td>\n",
              "    </tr>\n",
              "    <tr>\n",
              "      <th>145</th>\n",
              "      <td>40007</td>\n",
              "      <td>65</td>\n",
              "      <td>Female</td>\n",
              "      <td>Right</td>\n",
              "      <td>Patient</td>\n",
              "      <td>295.3</td>\n",
              "      <td>40</td>\n",
              "      <td>0.70044</td>\n",
              "      <td>0.72077</td>\n",
              "      <td>/root/nilearn_data/cobre/fmri_0040086.nii.gz</td>\n",
              "    </tr>\n",
              "  </tbody>\n",
              "</table>\n",
              "<p>146 rows × 10 columns</p>\n",
              "</div>"
            ],
            "text/plain": [
              "        id  ...                                          path\n",
              "0    40061  ...  /root/nilearn_data/cobre/fmri_0040046.nii.gz\n",
              "1    40090  ...  /root/nilearn_data/cobre/fmri_0040002.nii.gz\n",
              "2    40046  ...  /root/nilearn_data/cobre/fmri_0040117.nii.gz\n",
              "3    40002  ...  /root/nilearn_data/cobre/fmri_0040145.nii.gz\n",
              "4    40117  ...  /root/nilearn_data/cobre/fmri_0040000.nii.gz\n",
              "..     ...  ...                                           ...\n",
              "141  40089  ...  /root/nilearn_data/cobre/fmri_0040144.nii.gz\n",
              "142  40040  ...  /root/nilearn_data/cobre/fmri_0040069.nii.gz\n",
              "143  40028  ...  /root/nilearn_data/cobre/fmri_0040111.nii.gz\n",
              "144  40086  ...  /root/nilearn_data/cobre/fmri_0040066.nii.gz\n",
              "145  40007  ...  /root/nilearn_data/cobre/fmri_0040086.nii.gz\n",
              "\n",
              "[146 rows x 10 columns]"
            ]
          },
          "metadata": {},
          "execution_count": 11
        }
      ]
    },
    {
      "cell_type": "markdown",
      "metadata": {
        "id": "bh_DPo40P0jb"
      },
      "source": [
        "**Create two seperate lists for patients and controls and store the path seperately**"
      ]
    },
    {
      "cell_type": "code",
      "metadata": {
        "id": "5zRVJX_sSUjo"
      },
      "source": [
        "import pandas as pd\n",
        "\n",
        "#create lists of filepaths for patients and controls\n",
        "patients = []\n",
        "controls = []\n",
        "\n",
        "for i in pheno.index:\n",
        "    if pheno.loc[i, 'subject_type']=='Patient':\n",
        "    \n",
        "        patients.append(pheno.loc[i, 'path'])\n",
        "    else:\n",
        "        controls.append(pheno.loc[i, 'path'])"
      ],
      "execution_count": null,
      "outputs": []
    },
    {
      "cell_type": "markdown",
      "metadata": {
        "id": "hGTXXHk1TXue"
      },
      "source": [
        "**The cell below generates a plotly express app to show the age distribution of subjects in the data. Use the dropdown box to select between Patients and Controls.**"
      ]
    },
    {
      "cell_type": "code",
      "metadata": {
        "colab": {
          "base_uri": "https://localhost:8080/",
          "height": 873
        },
        "id": "OBlWOagjSYYO",
        "outputId": "465ed615-14ab-4392-badb-24c7fb2cea94"
      },
      "source": [
        "import plotly.express as px\n",
        "from jupyter_dash import JupyterDash\n",
        "import dash_core_components as dcc\n",
        "import dash_html_components as html\n",
        "from dash.dependencies import Input, Output\n",
        "# Load Data\n",
        "df = pheno\n",
        "# Build App\n",
        "app = JupyterDash(__name__)\n",
        "app.layout = html.Div([\n",
        "    html.H1(\"Age\"),\n",
        "    dcc.Graph(id='graph'),\n",
        "    html.Label([\n",
        "        \"Participant type\",\n",
        "        dcc.Dropdown(\n",
        "            id='subject_type', clearable=False,\n",
        "            value='Patient', options=[\n",
        "                {'label': c, 'value': c}\n",
        "                for c in df.subject_type.unique() #get all unique values from column\n",
        "            ])\n",
        "    ]),\n",
        "])\n",
        "# Define callback to update graph\n",
        "@app.callback(\n",
        "    Output('graph', 'figure'),\n",
        "    [Input(\"subject_type\", \"value\")]\n",
        ")\n",
        "def update_figure(subject_type):\n",
        "    return px.histogram(\n",
        "        df[df[\"subject_type\"]==subject_type], x=\"current_age\", color=\"gender\"\n",
        "        \n",
        "    )\n",
        "# Run app and display result inline in the notebook\n",
        "app.run_server(mode='inline')\n"
      ],
      "execution_count": null,
      "outputs": [
        {
          "output_type": "stream",
          "name": "stderr",
          "text": [
            "/usr/local/lib/python3.7/dist-packages/ipykernel_launcher.py:3: UserWarning:\n",
            "\n",
            "\n",
            "The dash_core_components package is deprecated. Please replace\n",
            "`import dash_core_components as dcc` with `from dash import dcc`\n",
            "\n",
            "/usr/local/lib/python3.7/dist-packages/ipykernel_launcher.py:4: UserWarning:\n",
            "\n",
            "\n",
            "The dash_html_components package is deprecated. Please replace\n",
            "`import dash_html_components as html` with `from dash import html`\n",
            "\n"
          ]
        },
        {
          "output_type": "display_data",
          "data": {
            "application/javascript": [
              "(async (port, path, width, height, cache, element) => {\n",
              "    if (!google.colab.kernel.accessAllowed && !cache) {\n",
              "      return;\n",
              "    }\n",
              "    element.appendChild(document.createTextNode(''));\n",
              "    const url = await google.colab.kernel.proxyPort(port, {cache});\n",
              "    const iframe = document.createElement('iframe');\n",
              "    iframe.src = new URL(path, url).toString();\n",
              "    iframe.height = height;\n",
              "    iframe.width = width;\n",
              "    iframe.style.border = 0;\n",
              "    element.appendChild(iframe);\n",
              "  })(8050, \"/\", \"100%\", 650, false, window.element)"
            ],
            "text/plain": [
              "<IPython.core.display.Javascript object>"
            ]
          },
          "metadata": {}
        }
      ]
    },
    {
      "cell_type": "markdown",
      "metadata": {
        "id": "G4CmTuxxTclG"
      },
      "source": [
        "**Use the dropdown menu below to view an average correlation matrix for schizophrenia patients and healthy controls.**"
      ]
    },
    {
      "cell_type": "code",
      "metadata": {
        "id": "G8SATHEUS5lx"
      },
      "source": [
        "def corr_matrix(subset):\n",
        "\n",
        "    from nilearn.input_data import NiftiLabelsMasker\n",
        "    from nilearn.connectome import ConnectivityMeasure\n",
        "\n",
        "    func = []\n",
        "    conf = []\n",
        "\n",
        "    for i in range(len(data.func)):\n",
        "        if data.func[i] in subset:\n",
        "            func.append(data.func[i])\n",
        "\n",
        "            conf.append(data.confounds[i])\n",
        "\n",
        "    # ConenctivityMeasure from Nilearn uses simple 'correlation' to compute\n",
        "    # connectivity matrices for all subjects in a list\n",
        "    connectome_measure = ConnectivityMeasure(kind='correlation')\n",
        "\n",
        "    # useful for plotting connectivity interactions on glass brain\n",
        "    from nilearn import plotting\n",
        "\n",
        "    # create masker to extract functional data within atlas parcels\n",
        "    masker = NiftiLabelsMasker(labels_img=atlas_filename, \n",
        "                               standardize=True, \n",
        "                               memory='nilearn_cache', \n",
        "                               verbose=0)\n",
        "    # extract time series from all subjects and concatenate them\n",
        "    time_series = []\n",
        "    for func, confounds in zip(func, conf):\n",
        "        time_series.append(masker.fit_transform(func, confounds=confounds))\n",
        "    # calculate correlation matrices across subjects\n",
        "    correlation_matrices = connectome_measure.fit_transform(time_series)\n",
        "\n",
        "    # Mean correlation matrix across all subjects\n",
        "    mean_correlation_matrix = connectome_measure.mean_\n",
        "\n",
        "    # grab center coordinates for atlas labels\n",
        "    coordinates = plotting.find_parcellation_cut_coords(labels_img=atlas_filename)\n",
        "\n",
        "    import numpy as np\n",
        "    # Mask the main diagonal\n",
        "    np.fill_diagonal(mean_correlation_matrix, 0)\n",
        "\n",
        "    plotting.plot_matrix(mean_correlation_matrix, figure=(10, 8),\n",
        "                         vmax=0.8, vmin=-0.8, reorder=False, tri='lower')\n"
      ],
      "execution_count": null,
      "outputs": []
    },
    {
      "cell_type": "code",
      "metadata": {
        "colab": {
          "base_uri": "https://localhost:8080/",
          "height": 637,
          "referenced_widgets": [
            "f03a2094a4d14b8eb2764c0bc688aaa4",
            "4afa65cf60a7484c9280ae69379e7205",
            "d166d096c2634a3cb69868b782e63a1b",
            "3579f105d0fe47408bdee42a06384c27",
            "83cdf24405d142c4bd0d63535584dd18",
            "76f1ec560e4d4f168be447219b6f60e4",
            "507e57beb8144129a6c13fc3ac9921c4"
          ]
        },
        "id": "nULLLdObS_-R",
        "outputId": "c52bdabd-8afc-4097-bd98-2fc31b07cd2b"
      },
      "source": [
        "from ipywidgets import interact\n",
        "\n",
        "interact(corr_matrix, subset=[('Patients', patients), ('Controls', controls)]);"
      ],
      "execution_count": null,
      "outputs": [
        {
          "output_type": "display_data",
          "data": {
            "application/vnd.jupyter.widget-view+json": {
              "model_id": "f03a2094a4d14b8eb2764c0bc688aaa4",
              "version_minor": 0,
              "version_major": 2
            },
            "text/plain": [
              "interactive(children=(Dropdown(description='subset', options=(('Patients', ['/root/nilearn_data/cobre/fmri_004…"
            ]
          },
          "metadata": {}
        }
      ]
    },
    {
      "cell_type": "markdown",
      "metadata": {
        "id": "yedGMCuYP8w-"
      },
      "source": [
        "**Libraries Required**"
      ]
    },
    {
      "cell_type": "code",
      "metadata": {
        "colab": {
          "base_uri": "https://localhost:8080/"
        },
        "id": "8s2CGOhFPFm6",
        "outputId": "c8add709-424b-475f-9dbd-616a89e2eb98"
      },
      "source": [
        "! pip install nilearn"
      ],
      "execution_count": null,
      "outputs": [
        {
          "output_type": "stream",
          "name": "stdout",
          "text": [
            "Collecting nilearn\n",
            "  Downloading nilearn-0.8.0-py3-none-any.whl (4.9 MB)\n",
            "\u001b[K     |████████████████████████████████| 4.9 MB 7.4 MB/s \n",
            "\u001b[?25hRequirement already satisfied: requests>=2 in /usr/local/lib/python3.7/dist-packages (from nilearn) (2.23.0)\n",
            "Requirement already satisfied: joblib>=0.12 in /usr/local/lib/python3.7/dist-packages (from nilearn) (1.0.1)\n",
            "Requirement already satisfied: pandas>=0.24.0 in /usr/local/lib/python3.7/dist-packages (from nilearn) (1.1.5)\n",
            "Requirement already satisfied: scipy>=1.2 in /usr/local/lib/python3.7/dist-packages (from nilearn) (1.4.1)\n",
            "Requirement already satisfied: scikit-learn>=0.21 in /usr/local/lib/python3.7/dist-packages (from nilearn) (0.22.2.post1)\n",
            "Requirement already satisfied: nibabel>=2.5 in /usr/local/lib/python3.7/dist-packages (from nilearn) (3.0.2)\n",
            "Requirement already satisfied: numpy>=1.16 in /usr/local/lib/python3.7/dist-packages (from nilearn) (1.19.5)\n",
            "Requirement already satisfied: pytz>=2017.2 in /usr/local/lib/python3.7/dist-packages (from pandas>=0.24.0->nilearn) (2018.9)\n",
            "Requirement already satisfied: python-dateutil>=2.7.3 in /usr/local/lib/python3.7/dist-packages (from pandas>=0.24.0->nilearn) (2.8.2)\n",
            "Requirement already satisfied: six>=1.5 in /usr/local/lib/python3.7/dist-packages (from python-dateutil>=2.7.3->pandas>=0.24.0->nilearn) (1.15.0)\n",
            "Requirement already satisfied: urllib3!=1.25.0,!=1.25.1,<1.26,>=1.21.1 in /usr/local/lib/python3.7/dist-packages (from requests>=2->nilearn) (1.24.3)\n",
            "Requirement already satisfied: idna<3,>=2.5 in /usr/local/lib/python3.7/dist-packages (from requests>=2->nilearn) (2.10)\n",
            "Requirement already satisfied: chardet<4,>=3.0.2 in /usr/local/lib/python3.7/dist-packages (from requests>=2->nilearn) (3.0.4)\n",
            "Requirement already satisfied: certifi>=2017.4.17 in /usr/local/lib/python3.7/dist-packages (from requests>=2->nilearn) (2021.5.30)\n",
            "Installing collected packages: nilearn\n",
            "Successfully installed nilearn-0.8.0\n"
          ]
        }
      ]
    },
    {
      "cell_type": "code",
      "metadata": {
        "colab": {
          "base_uri": "https://localhost:8080/",
          "height": 1000
        },
        "id": "ftAqthEBSdQ9",
        "outputId": "dda064c0-accf-42b4-a3d6-c268c23c2fbc"
      },
      "source": [
        "! pip install jupyter_dash"
      ],
      "execution_count": null,
      "outputs": [
        {
          "output_type": "stream",
          "name": "stdout",
          "text": [
            "Collecting jupyter_dash\n",
            "  Downloading jupyter_dash-0.4.0-py3-none-any.whl (20 kB)\n",
            "Requirement already satisfied: requests in /usr/local/lib/python3.7/dist-packages (from jupyter_dash) (2.23.0)\n",
            "Requirement already satisfied: ipython in /usr/local/lib/python3.7/dist-packages (from jupyter_dash) (5.5.0)\n",
            "Collecting ansi2html\n",
            "  Downloading ansi2html-1.6.0-py3-none-any.whl (14 kB)\n",
            "Collecting dash\n",
            "  Downloading dash-2.0.0-py3-none-any.whl (7.3 MB)\n",
            "\u001b[K     |████████████████████████████████| 7.3 MB 9.4 MB/s \n",
            "\u001b[?25hRequirement already satisfied: flask in /usr/local/lib/python3.7/dist-packages (from jupyter_dash) (1.1.4)\n",
            "Requirement already satisfied: retrying in /usr/local/lib/python3.7/dist-packages (from jupyter_dash) (1.3.3)\n",
            "Requirement already satisfied: ipykernel in /usr/local/lib/python3.7/dist-packages (from jupyter_dash) (4.10.1)\n",
            "Collecting flask-compress\n",
            "  Downloading Flask_Compress-1.10.1-py3-none-any.whl (7.9 kB)\n",
            "Collecting dash-table==5.0.0\n",
            "  Downloading dash_table-5.0.0.tar.gz (3.4 kB)\n",
            "Collecting dash-core-components==2.0.0\n",
            "  Downloading dash_core_components-2.0.0.tar.gz (3.4 kB)\n",
            "Collecting dash-html-components==2.0.0\n",
            "  Downloading dash_html_components-2.0.0.tar.gz (3.8 kB)\n",
            "Collecting plotly>=5.0.0\n",
            "  Downloading plotly-5.3.1-py2.py3-none-any.whl (23.9 MB)\n",
            "\u001b[K     |████████████████████████████████| 23.9 MB 12 kB/s \n",
            "\u001b[?25hRequirement already satisfied: click<8.0,>=5.1 in /usr/local/lib/python3.7/dist-packages (from flask->jupyter_dash) (7.1.2)\n",
            "Requirement already satisfied: Werkzeug<2.0,>=0.15 in /usr/local/lib/python3.7/dist-packages (from flask->jupyter_dash) (1.0.1)\n",
            "Requirement already satisfied: itsdangerous<2.0,>=0.24 in /usr/local/lib/python3.7/dist-packages (from flask->jupyter_dash) (1.1.0)\n",
            "Requirement already satisfied: Jinja2<3.0,>=2.10.1 in /usr/local/lib/python3.7/dist-packages (from flask->jupyter_dash) (2.11.3)\n",
            "Requirement already satisfied: MarkupSafe>=0.23 in /usr/local/lib/python3.7/dist-packages (from Jinja2<3.0,>=2.10.1->flask->jupyter_dash) (2.0.1)\n",
            "Collecting tenacity>=6.2.0\n",
            "  Downloading tenacity-8.0.1-py3-none-any.whl (24 kB)\n",
            "Requirement already satisfied: six in /usr/local/lib/python3.7/dist-packages (from plotly>=5.0.0->dash->jupyter_dash) (1.15.0)\n",
            "Collecting brotli\n",
            "  Downloading Brotli-1.0.9-cp37-cp37m-manylinux1_x86_64.whl (357 kB)\n",
            "\u001b[K     |████████████████████████████████| 357 kB 69.7 MB/s \n",
            "\u001b[?25hRequirement already satisfied: jupyter-client in /usr/local/lib/python3.7/dist-packages (from ipykernel->jupyter_dash) (5.3.5)\n",
            "Requirement already satisfied: tornado>=4.0 in /usr/local/lib/python3.7/dist-packages (from ipykernel->jupyter_dash) (5.1.1)\n",
            "Requirement already satisfied: traitlets>=4.1.0 in /usr/local/lib/python3.7/dist-packages (from ipykernel->jupyter_dash) (5.0.5)\n",
            "Requirement already satisfied: setuptools>=18.5 in /usr/local/lib/python3.7/dist-packages (from ipython->jupyter_dash) (57.4.0)\n",
            "Requirement already satisfied: decorator in /usr/local/lib/python3.7/dist-packages (from ipython->jupyter_dash) (4.4.2)\n",
            "Requirement already satisfied: prompt-toolkit<2.0.0,>=1.0.4 in /usr/local/lib/python3.7/dist-packages (from ipython->jupyter_dash) (1.0.18)\n",
            "Requirement already satisfied: pexpect in /usr/local/lib/python3.7/dist-packages (from ipython->jupyter_dash) (4.8.0)\n",
            "Requirement already satisfied: simplegeneric>0.8 in /usr/local/lib/python3.7/dist-packages (from ipython->jupyter_dash) (0.8.1)\n",
            "Requirement already satisfied: pickleshare in /usr/local/lib/python3.7/dist-packages (from ipython->jupyter_dash) (0.7.5)\n",
            "Requirement already satisfied: pygments in /usr/local/lib/python3.7/dist-packages (from ipython->jupyter_dash) (2.6.1)\n",
            "Requirement already satisfied: wcwidth in /usr/local/lib/python3.7/dist-packages (from prompt-toolkit<2.0.0,>=1.0.4->ipython->jupyter_dash) (0.2.5)\n",
            "Requirement already satisfied: ipython-genutils in /usr/local/lib/python3.7/dist-packages (from traitlets>=4.1.0->ipykernel->jupyter_dash) (0.2.0)\n",
            "Requirement already satisfied: python-dateutil>=2.1 in /usr/local/lib/python3.7/dist-packages (from jupyter-client->ipykernel->jupyter_dash) (2.8.2)\n",
            "Requirement already satisfied: jupyter-core>=4.6.0 in /usr/local/lib/python3.7/dist-packages (from jupyter-client->ipykernel->jupyter_dash) (4.7.1)\n",
            "Requirement already satisfied: pyzmq>=13 in /usr/local/lib/python3.7/dist-packages (from jupyter-client->ipykernel->jupyter_dash) (22.2.1)\n",
            "Requirement already satisfied: ptyprocess>=0.5 in /usr/local/lib/python3.7/dist-packages (from pexpect->ipython->jupyter_dash) (0.7.0)\n",
            "Requirement already satisfied: idna<3,>=2.5 in /usr/local/lib/python3.7/dist-packages (from requests->jupyter_dash) (2.10)\n",
            "Requirement already satisfied: certifi>=2017.4.17 in /usr/local/lib/python3.7/dist-packages (from requests->jupyter_dash) (2021.5.30)\n",
            "Requirement already satisfied: urllib3!=1.25.0,!=1.25.1,<1.26,>=1.21.1 in /usr/local/lib/python3.7/dist-packages (from requests->jupyter_dash) (1.24.3)\n",
            "Requirement already satisfied: chardet<4,>=3.0.2 in /usr/local/lib/python3.7/dist-packages (from requests->jupyter_dash) (3.0.4)\n",
            "Building wheels for collected packages: dash-core-components, dash-html-components, dash-table\n",
            "  Building wheel for dash-core-components (setup.py) ... \u001b[?25l\u001b[?25hdone\n",
            "  Created wheel for dash-core-components: filename=dash_core_components-2.0.0-py3-none-any.whl size=3821 sha256=6d4086ca8457919213bc25c9e475e4a9c21524bcb4870b74aff581e51919c77e\n",
            "  Stored in directory: /root/.cache/pip/wheels/00/f9/c7/1a6437d794ed753ea9bc9079e761d4fc803a1f1f5d3697b9ec\n",
            "  Building wheel for dash-html-components (setup.py) ... \u001b[?25l\u001b[?25hdone\n",
            "  Created wheel for dash-html-components: filename=dash_html_components-2.0.0-py3-none-any.whl size=4089 sha256=ef283b6e81ceb808283874c5c32105a2e38a4224c4c8f09a9b46d6415cbae7d6\n",
            "  Stored in directory: /root/.cache/pip/wheels/ec/6b/81/05aceabd8b27f724e2c96784016287cc1bfbc349ebfda451de\n",
            "  Building wheel for dash-table (setup.py) ... \u001b[?25l\u001b[?25hdone\n",
            "  Created wheel for dash-table: filename=dash_table-5.0.0-py3-none-any.whl size=3911 sha256=2624a345590c3ba4b05f92bf30777be5696cd005c275becc1328d439ffc72083\n",
            "  Stored in directory: /root/.cache/pip/wheels/85/5d/4e/7c276b57992951dbe770bf5caad6448d0539c510663aefd2e2\n",
            "Successfully built dash-core-components dash-html-components dash-table\n",
            "Installing collected packages: tenacity, brotli, plotly, flask-compress, dash-table, dash-html-components, dash-core-components, dash, ansi2html, jupyter-dash\n",
            "  Attempting uninstall: plotly\n",
            "    Found existing installation: plotly 4.4.1\n",
            "    Uninstalling plotly-4.4.1:\n",
            "      Successfully uninstalled plotly-4.4.1\n",
            "Successfully installed ansi2html-1.6.0 brotli-1.0.9 dash-2.0.0 dash-core-components-2.0.0 dash-html-components-2.0.0 dash-table-5.0.0 flask-compress-1.10.1 jupyter-dash-0.4.0 plotly-5.3.1 tenacity-8.0.1\n"
          ]
        },
        {
          "output_type": "display_data",
          "data": {
            "application/vnd.colab-display-data+json": {
              "pip_warning": {
                "packages": [
                  "_plotly_utils",
                  "plotly"
                ]
              }
            }
          },
          "metadata": {}
        }
      ]
    }
  ]
}