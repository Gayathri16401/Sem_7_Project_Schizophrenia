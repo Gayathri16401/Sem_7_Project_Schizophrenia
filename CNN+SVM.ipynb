{
  "nbformat": 4,
  "nbformat_minor": 0,
  "metadata": {
    "colab": {
      "name": "CNN+SVM.ipynb",
      "provenance": [],
      "collapsed_sections": [],
      "include_colab_link": true
    },
    "kernelspec": {
      "name": "python3",
      "display_name": "Python 3"
    },
    "language_info": {
      "name": "python"
    }
  },
  "cells": [
    {
      "cell_type": "markdown",
      "metadata": {
        "id": "view-in-github",
        "colab_type": "text"
      },
      "source": [
        "<a href=\"https://colab.research.google.com/github/Gayathri16401/Sem_7_Project_Schizophrenia/blob/main/CNN%2BSVM.ipynb\" target=\"_parent\"><img src=\"https://colab.research.google.com/assets/colab-badge.svg\" alt=\"Open In Colab\"/></a>"
      ]
    },
    {
      "cell_type": "markdown",
      "metadata": {
        "id": "zjQZuo0MfeRM"
      },
      "source": [
        "# **Input FMRI Data**"
      ]
    },
    {
      "cell_type": "markdown",
      "metadata": {
        "id": "7toQ0XY2fgRA"
      },
      "source": [
        "**Import Required Libraries** "
      ]
    },
    {
      "cell_type": "code",
      "metadata": {
        "colab": {
          "base_uri": "https://localhost:8080/"
        },
        "id": "y73U0nxejBIZ",
        "outputId": "c4752007-b7aa-4b29-967e-1e4be6e1027e"
      },
      "source": [
        "! pip install nilearn"
      ],
      "execution_count": 1,
      "outputs": [
        {
          "output_type": "stream",
          "name": "stdout",
          "text": [
            "Collecting nilearn\n",
            "  Downloading nilearn-0.8.1-py3-none-any.whl (10.0 MB)\n",
            "\u001b[K     |████████████████████████████████| 10.0 MB 2.7 MB/s \n",
            "\u001b[?25hRequirement already satisfied: requests>=2 in /usr/local/lib/python3.7/dist-packages (from nilearn) (2.23.0)\n",
            "Requirement already satisfied: pandas>=0.24.0 in /usr/local/lib/python3.7/dist-packages (from nilearn) (1.1.5)\n",
            "Requirement already satisfied: scikit-learn>=0.21 in /usr/local/lib/python3.7/dist-packages (from nilearn) (0.22.2.post1)\n",
            "Requirement already satisfied: joblib>=0.12 in /usr/local/lib/python3.7/dist-packages (from nilearn) (1.0.1)\n",
            "Requirement already satisfied: nibabel>=2.5 in /usr/local/lib/python3.7/dist-packages (from nilearn) (3.0.2)\n",
            "Requirement already satisfied: numpy>=1.16 in /usr/local/lib/python3.7/dist-packages (from nilearn) (1.19.5)\n",
            "Requirement already satisfied: scipy>=1.2 in /usr/local/lib/python3.7/dist-packages (from nilearn) (1.4.1)\n",
            "Requirement already satisfied: python-dateutil>=2.7.3 in /usr/local/lib/python3.7/dist-packages (from pandas>=0.24.0->nilearn) (2.8.2)\n",
            "Requirement already satisfied: pytz>=2017.2 in /usr/local/lib/python3.7/dist-packages (from pandas>=0.24.0->nilearn) (2018.9)\n",
            "Requirement already satisfied: six>=1.5 in /usr/local/lib/python3.7/dist-packages (from python-dateutil>=2.7.3->pandas>=0.24.0->nilearn) (1.15.0)\n",
            "Requirement already satisfied: chardet<4,>=3.0.2 in /usr/local/lib/python3.7/dist-packages (from requests>=2->nilearn) (3.0.4)\n",
            "Requirement already satisfied: certifi>=2017.4.17 in /usr/local/lib/python3.7/dist-packages (from requests>=2->nilearn) (2021.5.30)\n",
            "Requirement already satisfied: idna<3,>=2.5 in /usr/local/lib/python3.7/dist-packages (from requests>=2->nilearn) (2.10)\n",
            "Requirement already satisfied: urllib3!=1.25.0,!=1.25.1,<1.26,>=1.21.1 in /usr/local/lib/python3.7/dist-packages (from requests>=2->nilearn) (1.24.3)\n",
            "Installing collected packages: nilearn\n",
            "Successfully installed nilearn-0.8.1\n"
          ]
        }
      ]
    },
    {
      "cell_type": "markdown",
      "metadata": {
        "id": "PYt4aPCpfuUr"
      },
      "source": [
        "**Import Dataset**"
      ]
    },
    {
      "cell_type": "code",
      "metadata": {
        "colab": {
          "base_uri": "https://localhost:8080/"
        },
        "id": "FVXnomgSijtr",
        "outputId": "ff8e38c4-60ae-4e81-f093-2673e3282e7a"
      },
      "source": [
        "from nilearn import datasets\n",
        "data = datasets.fetch_cobre(n_subjects=None)"
      ],
      "execution_count": 2,
      "outputs": [
        {
          "output_type": "stream",
          "name": "stderr",
          "text": [
            "/usr/local/lib/python3.7/dist-packages/nilearn/datasets/__init__.py:96: FutureWarning: Fetchers from the nilearn.datasets module will be updated in version 0.9 to return python strings instead of bytes and Pandas dataframes instead of Numpy arrays.\n",
            "  \"Numpy arrays.\", FutureWarning)\n",
            "/usr/local/lib/python3.7/dist-packages/sklearn/utils/deprecation.py:87: FutureWarning: Function fetch_cobre is deprecated; 'fetch_cobre' has been deprecated and will be removed in release 0.9 . Please consider using a different datasets or downloading it with a different tool than nilearn.\n",
            "  warnings.warn(msg, category=FutureWarning)\n"
          ]
        },
        {
          "output_type": "stream",
          "name": "stdout",
          "text": [
            "\n",
            "Dataset created in /root/nilearn_data/cobre\n",
            "\n",
            "Downloading data from https://api.figshare.com/v2/articles/4197885 ...\n"
          ]
        },
        {
          "output_type": "stream",
          "name": "stderr",
          "text": [
            " ...done. (1 seconds, 0 min)\n"
          ]
        },
        {
          "output_type": "stream",
          "name": "stdout",
          "text": [
            "Downloading data from https://ndownloader.figshare.com/files/6849063 ...\n"
          ]
        },
        {
          "output_type": "stream",
          "name": "stderr",
          "text": [
            " ...done. (2 seconds, 0 min)\n",
            "Extracting data from /root/nilearn_data/cobre/bbfb27073f7305ba75f231550ad51673/phenotypic_data.tsv.gz..... done.\n",
            "/usr/local/lib/python3.7/dist-packages/numpy/lib/npyio.py:2349: VisibleDeprecationWarning: Reading unicode strings without specifying the encoding argument is deprecated. Set the encoding, use None for the system default.\n",
            "  output = genfromtxt(fname, **kwargs)\n"
          ]
        },
        {
          "output_type": "stream",
          "name": "stdout",
          "text": [
            "Downloading data from https://ndownloader.figshare.com/files/6848454 ...\n"
          ]
        },
        {
          "output_type": "stream",
          "name": "stderr",
          "text": [
            "Downloaded 3579904 of 4575042 bytes (78.2%,    0.6s remaining) ...done. (4 seconds, 0 min)\n"
          ]
        },
        {
          "output_type": "stream",
          "name": "stdout",
          "text": [
            "Downloading data from https://ndownloader.figshare.com/files/6848457 ...\n"
          ]
        },
        {
          "output_type": "stream",
          "name": "stderr",
          "text": [
            " ...done. (1 seconds, 0 min)\n",
            "Extracting data from /root/nilearn_data/cobre/0cd5e97478f9a8e664a01eb1c6ba17e1/fmri_0040046.tsv.gz..... done.\n"
          ]
        },
        {
          "output_type": "stream",
          "name": "stdout",
          "text": [
            "Downloading data from https://ndownloader.figshare.com/files/6848190 ...\n"
          ]
        },
        {
          "output_type": "stream",
          "name": "stderr",
          "text": [
            "Downloaded 2998272 of 4479849 bytes (66.9%,    1.0s remaining) ...done. (4 seconds, 0 min)\n"
          ]
        },
        {
          "output_type": "stream",
          "name": "stdout",
          "text": [
            "Downloading data from https://ndownloader.figshare.com/files/6848193 ...\n"
          ]
        },
        {
          "output_type": "stream",
          "name": "stderr",
          "text": [
            " ...done. (1 seconds, 0 min)\n",
            "Extracting data from /root/nilearn_data/cobre/0822cabbe39213c28b7a33bea04f0ae9/fmri_0040002.tsv.gz..... done.\n"
          ]
        },
        {
          "output_type": "stream",
          "name": "stdout",
          "text": [
            "Downloading data from https://ndownloader.figshare.com/files/6848868 ...\n"
          ]
        },
        {
          "output_type": "stream",
          "name": "stderr",
          "text": [
            "Downloaded 2744320 of 4446722 bytes (61.7%,    1.3s remaining) ...done. (4 seconds, 0 min)\n"
          ]
        },
        {
          "output_type": "stream",
          "name": "stdout",
          "text": [
            "Downloading data from https://ndownloader.figshare.com/files/6848871 ...\n"
          ]
        },
        {
          "output_type": "stream",
          "name": "stderr",
          "text": [
            " ...done. (1 seconds, 0 min)\n",
            "Extracting data from /root/nilearn_data/cobre/3ea49b064cdc65d4ac19c58b94369d5a/fmri_0040117.tsv.gz..... done.\n"
          ]
        },
        {
          "output_type": "stream",
          "name": "stdout",
          "text": [
            "Downloading data from https://ndownloader.figshare.com/files/6849036 ...\n"
          ]
        },
        {
          "output_type": "stream",
          "name": "stderr",
          "text": [
            "Downloaded 2064384 of 4614105 bytes (44.7%,    2.5s remaining) ...done. (4 seconds, 0 min)\n"
          ]
        },
        {
          "output_type": "stream",
          "name": "stdout",
          "text": [
            "Downloading data from https://ndownloader.figshare.com/files/6849039 ...\n"
          ]
        },
        {
          "output_type": "stream",
          "name": "stderr",
          "text": [
            " ...done. (1 seconds, 0 min)\n",
            "Extracting data from /root/nilearn_data/cobre/4abc23195f714fbb210d677f34285d5d/fmri_0040145.tsv.gz..... done.\n"
          ]
        },
        {
          "output_type": "stream",
          "name": "stdout",
          "text": [
            "Downloading data from https://ndownloader.figshare.com/files/6848178 ...\n"
          ]
        },
        {
          "output_type": "stream",
          "name": "stderr",
          "text": [
            "Downloaded 3817472 of 4560443 bytes (83.7%,    0.4s remaining) ...done. (4 seconds, 0 min)\n"
          ]
        },
        {
          "output_type": "stream",
          "name": "stdout",
          "text": [
            "Downloading data from https://ndownloader.figshare.com/files/6848181 ...\n"
          ]
        },
        {
          "output_type": "stream",
          "name": "stderr",
          "text": [
            " ...done. (1 seconds, 0 min)\n",
            "Extracting data from /root/nilearn_data/cobre/a7b5152347d1e56591484acae177b77d/fmri_0040000.tsv.gz..... done.\n"
          ]
        },
        {
          "output_type": "stream",
          "name": "stdout",
          "text": [
            "Downloading data from https://ndownloader.figshare.com/files/6848352 ...\n"
          ]
        },
        {
          "output_type": "stream",
          "name": "stderr",
          "text": [
            "Downloaded 2654208 of 4303893 bytes (61.7%,    1.3s remaining) ...done. (4 seconds, 0 min)\n"
          ]
        },
        {
          "output_type": "stream",
          "name": "stdout",
          "text": [
            "Downloading data from https://ndownloader.figshare.com/files/6848355 ...\n"
          ]
        },
        {
          "output_type": "stream",
          "name": "stderr",
          "text": [
            " ...done. (1 seconds, 0 min)\n",
            "Extracting data from /root/nilearn_data/cobre/f1549b465246de612b4ab314805d9a4e/fmri_0040029.tsv.gz..... done.\n"
          ]
        },
        {
          "output_type": "stream",
          "name": "stdout",
          "text": [
            "Downloading data from https://ndownloader.figshare.com/files/6848964 ...\n"
          ]
        },
        {
          "output_type": "stream",
          "name": "stderr",
          "text": [
            "Downloaded 3743744 of 4499372 bytes (83.2%,    0.4s remaining) ...done. (4 seconds, 0 min)\n"
          ]
        },
        {
          "output_type": "stream",
          "name": "stdout",
          "text": [
            "Downloading data from https://ndownloader.figshare.com/files/6848967 ...\n"
          ]
        },
        {
          "output_type": "stream",
          "name": "stderr",
          "text": [
            " ...done. (1 seconds, 0 min)\n",
            "Extracting data from /root/nilearn_data/cobre/c40fbbae26164964a850266b5eab9c1b/fmri_0040133.tsv.gz..... done.\n"
          ]
        },
        {
          "output_type": "stream",
          "name": "stdout",
          "text": [
            "Downloading data from https://ndownloader.figshare.com/files/6848304 ...\n"
          ]
        },
        {
          "output_type": "stream",
          "name": "stderr",
          "text": [
            "Downloaded 2646016 of 4514752 bytes (58.6%,    1.4s remaining) ...done. (4 seconds, 0 min)\n"
          ]
        },
        {
          "output_type": "stream",
          "name": "stdout",
          "text": [
            "Downloading data from https://ndownloader.figshare.com/files/6848307 ...\n"
          ]
        },
        {
          "output_type": "stream",
          "name": "stderr",
          "text": [
            " ...done. (1 seconds, 0 min)\n",
            "Extracting data from /root/nilearn_data/cobre/a93fad3aad3897219b9761fd2b3673c2/fmri_0040021.tsv.gz..... done.\n"
          ]
        },
        {
          "output_type": "stream",
          "name": "stdout",
          "text": [
            "Downloading data from https://ndownloader.figshare.com/files/6848988 ...\n"
          ]
        },
        {
          "output_type": "stream",
          "name": "stderr",
          "text": [
            "Downloaded 2318336 of 4081189 bytes (56.8%,    1.5s remaining) ...done. (4 seconds, 0 min)\n"
          ]
        },
        {
          "output_type": "stream",
          "name": "stdout",
          "text": [
            "Downloading data from https://ndownloader.figshare.com/files/6848991 ...\n"
          ]
        },
        {
          "output_type": "stream",
          "name": "stderr",
          "text": [
            " ...done. (1 seconds, 0 min)\n",
            "Extracting data from /root/nilearn_data/cobre/074e1a811ce944695346377d70f9971a/fmri_0040137.tsv.gz..... done.\n"
          ]
        },
        {
          "output_type": "stream",
          "name": "stdout",
          "text": [
            "Downloading data from https://ndownloader.figshare.com/files/6848676 ...\n"
          ]
        },
        {
          "output_type": "stream",
          "name": "stderr",
          "text": [
            "Downloaded 3817472 of 4639152 bytes (82.3%,    0.4s remaining) ...done. (4 seconds, 0 min)\n"
          ]
        },
        {
          "output_type": "stream",
          "name": "stdout",
          "text": [
            "Downloading data from https://ndownloader.figshare.com/files/6848679 ...\n"
          ]
        },
        {
          "output_type": "stream",
          "name": "stderr",
          "text": [
            " ...done. (1 seconds, 0 min)\n",
            "Extracting data from /root/nilearn_data/cobre/9294cb1e05427bb3045d3975619b0890/fmri_0040085.tsv.gz..... done.\n"
          ]
        },
        {
          "output_type": "stream",
          "name": "stdout",
          "text": [
            "Downloading data from https://ndownloader.figshare.com/files/6848742 ...\n"
          ]
        },
        {
          "output_type": "stream",
          "name": "stderr",
          "text": [
            "Downloaded 3497984 of 4343132 bytes (80.5%,    0.5s remaining) ...done. (4 seconds, 0 min)\n"
          ]
        },
        {
          "output_type": "stream",
          "name": "stdout",
          "text": [
            "Downloading data from https://ndownloader.figshare.com/files/6848745 ...\n"
          ]
        },
        {
          "output_type": "stream",
          "name": "stderr",
          "text": [
            " ...done. (1 seconds, 0 min)\n",
            "Extracting data from /root/nilearn_data/cobre/fe30ad948ff3c61ea5a8219012168901/fmri_0040096.tsv.gz..... done.\n"
          ]
        },
        {
          "output_type": "stream",
          "name": "stdout",
          "text": [
            "Downloading data from https://ndownloader.figshare.com/files/6848898 ...\n"
          ]
        },
        {
          "output_type": "stream",
          "name": "stderr",
          "text": [
            "Downloaded 3809280 of 4407737 bytes (86.4%,    0.3s remaining) ...done. (4 seconds, 0 min)\n"
          ]
        },
        {
          "output_type": "stream",
          "name": "stdout",
          "text": [
            "Downloading data from https://ndownloader.figshare.com/files/6848901 ...\n"
          ]
        },
        {
          "output_type": "stream",
          "name": "stderr",
          "text": [
            " ...done. (1 seconds, 0 min)\n",
            "Extracting data from /root/nilearn_data/cobre/3c999b44ec4999b7d2da82ecd0e749ec/fmri_0040122.tsv.gz..... done.\n"
          ]
        },
        {
          "output_type": "stream",
          "name": "stdout",
          "text": [
            "Downloading data from https://ndownloader.figshare.com/files/6848310 ...\n"
          ]
        },
        {
          "output_type": "stream",
          "name": "stderr",
          "text": [
            "Downloaded 4186112 of 4371608 bytes (95.8%,    0.1s remaining) ...done. (4 seconds, 0 min)\n"
          ]
        },
        {
          "output_type": "stream",
          "name": "stdout",
          "text": [
            "Downloading data from https://ndownloader.figshare.com/files/6848313 ...\n"
          ]
        },
        {
          "output_type": "stream",
          "name": "stderr",
          "text": [
            " ...done. (1 seconds, 0 min)\n",
            "Extracting data from /root/nilearn_data/cobre/456d859c3569e8f5962b80e096330062/fmri_0040022.tsv.gz..... done.\n"
          ]
        },
        {
          "output_type": "stream",
          "name": "stdout",
          "text": [
            "Downloading data from https://ndownloader.figshare.com/files/6848610 ...\n"
          ]
        },
        {
          "output_type": "stream",
          "name": "stderr",
          "text": [
            "Downloaded 2760704 of 4424854 bytes (62.4%,    1.2s remaining) ...done. (4 seconds, 0 min)\n"
          ]
        },
        {
          "output_type": "stream",
          "name": "stdout",
          "text": [
            "Downloading data from https://ndownloader.figshare.com/files/6848613 ...\n"
          ]
        },
        {
          "output_type": "stream",
          "name": "stderr",
          "text": [
            " ...done. (1 seconds, 0 min)\n",
            "Extracting data from /root/nilearn_data/cobre/2ea61e582fc3521ee2bbc6746f6184f8/fmri_0040073.tsv.gz..... done.\n"
          ]
        },
        {
          "output_type": "stream",
          "name": "stdout",
          "text": [
            "Downloading data from https://ndownloader.figshare.com/files/6849018 ...\n"
          ]
        },
        {
          "output_type": "stream",
          "name": "stderr",
          "text": [
            "Downloaded 3489792 of 4546119 bytes (76.8%,    0.6s remaining) ...done. (4 seconds, 0 min)\n"
          ]
        },
        {
          "output_type": "stream",
          "name": "stdout",
          "text": [
            "Downloading data from https://ndownloader.figshare.com/files/6849021 ...\n"
          ]
        },
        {
          "output_type": "stream",
          "name": "stderr",
          "text": [
            " ...done. (1 seconds, 0 min)\n",
            "Extracting data from /root/nilearn_data/cobre/c6d5bd48a8b3c543c02e280f636e1c63/fmri_0040142.tsv.gz..... done.\n"
          ]
        },
        {
          "output_type": "stream",
          "name": "stdout",
          "text": [
            "Downloading data from https://ndownloader.figshare.com/files/6848400 ...\n"
          ]
        },
        {
          "output_type": "stream",
          "name": "stderr",
          "text": [
            "Downloaded 3817472 of 4492007 bytes (85.0%,    0.4s remaining) ...done. (4 seconds, 0 min)\n"
          ]
        },
        {
          "output_type": "stream",
          "name": "stdout",
          "text": [
            "Downloading data from https://ndownloader.figshare.com/files/6848403 ...\n"
          ]
        },
        {
          "output_type": "stream",
          "name": "stderr",
          "text": [
            " ...done. (1 seconds, 0 min)\n",
            "Extracting data from /root/nilearn_data/cobre/4c545e7d237bd26e3e4940de09ac74ce/fmri_0040037.tsv.gz..... done.\n"
          ]
        },
        {
          "output_type": "stream",
          "name": "stdout",
          "text": [
            "Downloading data from https://ndownloader.figshare.com/files/6848532 ...\n"
          ]
        },
        {
          "output_type": "stream",
          "name": "stderr",
          "text": [
            "Downloaded 3473408 of 4619945 bytes (75.2%,    0.7s remaining) ...done. (4 seconds, 0 min)\n"
          ]
        },
        {
          "output_type": "stream",
          "name": "stdout",
          "text": [
            "Downloading data from https://ndownloader.figshare.com/files/6848535 ...\n"
          ]
        },
        {
          "output_type": "stream",
          "name": "stderr",
          "text": [
            " ...done. (1 seconds, 0 min)\n",
            "Extracting data from /root/nilearn_data/cobre/cb2042a760d08af2da4895bec94ba766/fmri_0040059.tsv.gz..... done.\n"
          ]
        },
        {
          "output_type": "stream",
          "name": "stdout",
          "text": [
            "Downloading data from https://ndownloader.figshare.com/files/6848604 ...\n"
          ]
        },
        {
          "output_type": "stream",
          "name": "stderr",
          "text": [
            "Downloaded 2744320 of 4524639 bytes (60.7%,    1.3s remaining) ...done. (4 seconds, 0 min)\n"
          ]
        },
        {
          "output_type": "stream",
          "name": "stdout",
          "text": [
            "Downloading data from https://ndownloader.figshare.com/files/6848607 ...\n"
          ]
        },
        {
          "output_type": "stream",
          "name": "stderr",
          "text": [
            " ...done. (1 seconds, 0 min)\n",
            "Extracting data from /root/nilearn_data/cobre/8a252244ede345c00c07c732ccb7090d/fmri_0040072.tsv.gz..... done.\n"
          ]
        },
        {
          "output_type": "stream",
          "name": "stdout",
          "text": [
            "Downloading data from https://ndownloader.figshare.com/files/6848646 ...\n"
          ]
        },
        {
          "output_type": "stream",
          "name": "stderr",
          "text": [
            "Downloaded 3334144 of 4410163 bytes (75.6%,    0.7s remaining) ...done. (4 seconds, 0 min)\n"
          ]
        },
        {
          "output_type": "stream",
          "name": "stdout",
          "text": [
            "Downloading data from https://ndownloader.figshare.com/files/6848649 ...\n"
          ]
        },
        {
          "output_type": "stream",
          "name": "stderr",
          "text": [
            " ...done. (1 seconds, 0 min)\n",
            "Extracting data from /root/nilearn_data/cobre/3ca9612264cca5658926bc6823fec3f3/fmri_0040079.tsv.gz..... done.\n"
          ]
        },
        {
          "output_type": "stream",
          "name": "stdout",
          "text": [
            "Downloading data from https://ndownloader.figshare.com/files/6848652 ...\n"
          ]
        },
        {
          "output_type": "stream",
          "name": "stderr",
          "text": [
            "Downloaded 1654784 of 4446835 bytes (37.2%,    3.4s remaining) ...done. (5 seconds, 0 min)\n"
          ]
        },
        {
          "output_type": "stream",
          "name": "stdout",
          "text": [
            "Downloading data from https://ndownloader.figshare.com/files/6848655 ...\n"
          ]
        },
        {
          "output_type": "stream",
          "name": "stderr",
          "text": [
            " ...done. (1 seconds, 0 min)\n",
            "Extracting data from /root/nilearn_data/cobre/548b44ab0d8c4b98d75f6b6042327070/fmri_0040080.tsv.gz..... done.\n"
          ]
        },
        {
          "output_type": "stream",
          "name": "stdout",
          "text": [
            "Downloading data from https://ndownloader.figshare.com/files/6848184 ...\n"
          ]
        },
        {
          "output_type": "stream",
          "name": "stderr",
          "text": [
            "Downloaded 3702784 of 4697375 bytes (78.8%,    0.5s remaining) ...done. (4 seconds, 0 min)\n"
          ]
        },
        {
          "output_type": "stream",
          "name": "stdout",
          "text": [
            "Downloading data from https://ndownloader.figshare.com/files/6848187 ...\n"
          ]
        },
        {
          "output_type": "stream",
          "name": "stderr",
          "text": [
            " ...done. (1 seconds, 0 min)\n",
            "Extracting data from /root/nilearn_data/cobre/3b4fb092665591f76d7322a7dcbad5a9/fmri_0040001.tsv.gz..... done.\n"
          ]
        },
        {
          "output_type": "stream",
          "name": "stdout",
          "text": [
            "Downloading data from https://ndownloader.figshare.com/files/6848196 ...\n"
          ]
        },
        {
          "output_type": "stream",
          "name": "stderr",
          "text": [
            "Downloaded 3416064 of 4267284 bytes (80.1%,    0.5s remaining) ...done. (4 seconds, 0 min)\n"
          ]
        },
        {
          "output_type": "stream",
          "name": "stdout",
          "text": [
            "Downloading data from https://ndownloader.figshare.com/files/6848199 ...\n"
          ]
        },
        {
          "output_type": "stream",
          "name": "stderr",
          "text": [
            " ...done. (1 seconds, 0 min)\n",
            "Extracting data from /root/nilearn_data/cobre/9e8009b8fae67a0090292af91199ccb6/fmri_0040003.tsv.gz..... done.\n"
          ]
        },
        {
          "output_type": "stream",
          "name": "stdout",
          "text": [
            "Downloading data from https://ndownloader.figshare.com/files/6848226 ...\n"
          ]
        },
        {
          "output_type": "stream",
          "name": "stderr",
          "text": [
            "Downloaded 3825664 of 4576579 bytes (83.6%,    0.4s remaining) ...done. (4 seconds, 0 min)\n"
          ]
        },
        {
          "output_type": "stream",
          "name": "stdout",
          "text": [
            "Downloading data from https://ndownloader.figshare.com/files/6848229 ...\n"
          ]
        },
        {
          "output_type": "stream",
          "name": "stderr",
          "text": [
            " ...done. (1 seconds, 0 min)\n",
            "Extracting data from /root/nilearn_data/cobre/e8b526b0c72ce2b076e1951a99637ce1/fmri_0040008.tsv.gz..... done.\n"
          ]
        },
        {
          "output_type": "stream",
          "name": "stdout",
          "text": [
            "Downloading data from https://ndownloader.figshare.com/files/6848244 ...\n"
          ]
        },
        {
          "output_type": "stream",
          "name": "stderr",
          "text": [
            "Downloaded 3817472 of 4598085 bytes (83.0%,    0.4s remaining) ...done. (4 seconds, 0 min)\n"
          ]
        },
        {
          "output_type": "stream",
          "name": "stdout",
          "text": [
            "Downloading data from https://ndownloader.figshare.com/files/6848247 ...\n"
          ]
        },
        {
          "output_type": "stream",
          "name": "stderr",
          "text": [
            " ...done. (1 seconds, 0 min)\n",
            "Extracting data from /root/nilearn_data/cobre/797f8708de05c78a7ff27b00bdc5652e/fmri_0040011.tsv.gz..... done.\n"
          ]
        },
        {
          "output_type": "stream",
          "name": "stdout",
          "text": [
            "Downloading data from https://ndownloader.figshare.com/files/6848634 ...\n"
          ]
        },
        {
          "output_type": "stream",
          "name": "stderr",
          "text": [
            "Downloaded 1966080 of 4412317 bytes (44.6%,    2.5s remaining) ...done. (4 seconds, 0 min)\n"
          ]
        },
        {
          "output_type": "stream",
          "name": "stdout",
          "text": [
            "Downloading data from https://ndownloader.figshare.com/files/6848637 ...\n"
          ]
        },
        {
          "output_type": "stream",
          "name": "stderr",
          "text": [
            " ...done. (1 seconds, 0 min)\n",
            "Extracting data from /root/nilearn_data/cobre/7a3179c6afab68083abda20501e6f063/fmri_0040077.tsv.gz..... done.\n"
          ]
        },
        {
          "output_type": "stream",
          "name": "stdout",
          "text": [
            "Downloading data from https://ndownloader.figshare.com/files/6848382 ...\n"
          ]
        },
        {
          "output_type": "stream",
          "name": "stderr",
          "text": [
            "Downloaded 2121728 of 4627634 bytes (45.8%,    2.4s remaining) ...done. (4 seconds, 0 min)\n"
          ]
        },
        {
          "output_type": "stream",
          "name": "stdout",
          "text": [
            "Downloading data from https://ndownloader.figshare.com/files/6848385 ...\n"
          ]
        },
        {
          "output_type": "stream",
          "name": "stderr",
          "text": [
            " ...done. (1 seconds, 0 min)\n",
            "Extracting data from /root/nilearn_data/cobre/559fc4fa1df118bc63c511e2c75f04fc/fmri_0040034.tsv.gz..... done.\n"
          ]
        },
        {
          "output_type": "stream",
          "name": "stdout",
          "text": [
            "Downloading data from https://ndownloader.figshare.com/files/6848814 ...\n"
          ]
        },
        {
          "output_type": "stream",
          "name": "stderr",
          "text": [
            "Downloaded 3825664 of 4325032 bytes (88.5%,    0.3s remaining) ...done. (4 seconds, 0 min)\n"
          ]
        },
        {
          "output_type": "stream",
          "name": "stdout",
          "text": [
            "Downloading data from https://ndownloader.figshare.com/files/6848817 ...\n"
          ]
        },
        {
          "output_type": "stream",
          "name": "stderr",
          "text": [
            " ...done. (1 seconds, 0 min)\n",
            "Extracting data from /root/nilearn_data/cobre/cf2f8fe2b25bb0181d915e1873ac9044/fmri_0040108.tsv.gz..... done.\n"
          ]
        },
        {
          "output_type": "stream",
          "name": "stdout",
          "text": [
            "Downloading data from https://ndownloader.figshare.com/files/6848232 ...\n"
          ]
        },
        {
          "output_type": "stream",
          "name": "stderr",
          "text": [
            "Downloaded 3809280 of 4409707 bytes (86.4%,    0.3s remaining) ...done. (4 seconds, 0 min)\n"
          ]
        },
        {
          "output_type": "stream",
          "name": "stdout",
          "text": [
            "Downloading data from https://ndownloader.figshare.com/files/6848235 ...\n"
          ]
        },
        {
          "output_type": "stream",
          "name": "stderr",
          "text": [
            " ...done. (1 seconds, 0 min)\n",
            "Extracting data from /root/nilearn_data/cobre/eb260aa2c2d4f7c43344b8364a0a28c2/fmri_0040009.tsv.gz..... done.\n"
          ]
        },
        {
          "output_type": "stream",
          "name": "stdout",
          "text": [
            "Downloading data from https://ndownloader.figshare.com/files/6848370 ...\n"
          ]
        },
        {
          "output_type": "stream",
          "name": "stderr",
          "text": [
            "Downloaded 3809280 of 4595193 bytes (82.9%,    0.4s remaining) ...done. (4 seconds, 0 min)\n"
          ]
        },
        {
          "output_type": "stream",
          "name": "stdout",
          "text": [
            "Downloading data from https://ndownloader.figshare.com/files/6848373 ...\n"
          ]
        },
        {
          "output_type": "stream",
          "name": "stderr",
          "text": [
            " ...done. (1 seconds, 0 min)\n",
            "Extracting data from /root/nilearn_data/cobre/bc34c1c0e4d9d261c457b6dca10a73e7/fmri_0040032.tsv.gz..... done.\n"
          ]
        },
        {
          "output_type": "stream",
          "name": "stdout",
          "text": [
            "Downloading data from https://ndownloader.figshare.com/files/6848250 ...\n"
          ]
        },
        {
          "output_type": "stream",
          "name": "stderr",
          "text": [
            "Downloaded 2736128 of 4572039 bytes (59.8%,    1.4s remaining) ...done. (4 seconds, 0 min)\n"
          ]
        },
        {
          "output_type": "stream",
          "name": "stdout",
          "text": [
            "Downloading data from https://ndownloader.figshare.com/files/6848253 ...\n"
          ]
        },
        {
          "output_type": "stream",
          "name": "stderr",
          "text": [
            " ...done. (1 seconds, 0 min)\n",
            "Extracting data from /root/nilearn_data/cobre/18475aebea226bd7e99061db888d8b52/fmri_0040012.tsv.gz..... done.\n"
          ]
        },
        {
          "output_type": "stream",
          "name": "stdout",
          "text": [
            "Downloading data from https://ndownloader.figshare.com/files/6848328 ...\n"
          ]
        },
        {
          "output_type": "stream",
          "name": "stderr",
          "text": [
            "Downloaded 3817472 of 4305576 bytes (88.7%,    0.3s remaining) ...done. (4 seconds, 0 min)\n"
          ]
        },
        {
          "output_type": "stream",
          "name": "stdout",
          "text": [
            "Downloading data from https://ndownloader.figshare.com/files/6848331 ...\n"
          ]
        },
        {
          "output_type": "stream",
          "name": "stderr",
          "text": [
            " ...done. (1 seconds, 0 min)\n",
            "Extracting data from /root/nilearn_data/cobre/46e722967eb6e70e092da8c89ece2f64/fmri_0040025.tsv.gz..... done.\n"
          ]
        },
        {
          "output_type": "stream",
          "name": "stdout",
          "text": [
            "Downloading data from https://ndownloader.figshare.com/files/6848694 ...\n"
          ]
        },
        {
          "output_type": "stream",
          "name": "stderr",
          "text": [
            "Downloaded 3825664 of 4415744 bytes (86.6%,    0.3s remaining) ...done. (4 seconds, 0 min)\n"
          ]
        },
        {
          "output_type": "stream",
          "name": "stdout",
          "text": [
            "Downloading data from https://ndownloader.figshare.com/files/6848697 ...\n"
          ]
        },
        {
          "output_type": "stream",
          "name": "stderr",
          "text": [
            " ...done. (1 seconds, 0 min)\n",
            "Extracting data from /root/nilearn_data/cobre/262b9678efb7738453b841979345b737/fmri_0040088.tsv.gz..... done.\n"
          ]
        },
        {
          "output_type": "stream",
          "name": "stdout",
          "text": [
            "Downloading data from https://ndownloader.figshare.com/files/6848820 ...\n"
          ]
        },
        {
          "output_type": "stream",
          "name": "stderr",
          "text": [
            "Downloaded 3702784 of 4498069 bytes (82.3%,    0.4s remaining) ...done. (4 seconds, 0 min)\n"
          ]
        },
        {
          "output_type": "stream",
          "name": "stdout",
          "text": [
            "Downloading data from https://ndownloader.figshare.com/files/6848823 ...\n"
          ]
        },
        {
          "output_type": "stream",
          "name": "stderr",
          "text": [
            " ...done. (1 seconds, 0 min)\n",
            "Extracting data from /root/nilearn_data/cobre/1a39bb37a2ad86ae337ff7ad9dd19633/fmri_0040109.tsv.gz..... done.\n"
          ]
        },
        {
          "output_type": "stream",
          "name": "stdout",
          "text": [
            "Downloading data from https://ndownloader.figshare.com/files/6848754 ...\n"
          ]
        },
        {
          "output_type": "stream",
          "name": "stderr",
          "text": [
            "Downloaded 3588096 of 4310726 bytes (83.2%,    0.4s remaining) ...done. (4 seconds, 0 min)\n"
          ]
        },
        {
          "output_type": "stream",
          "name": "stdout",
          "text": [
            "Downloading data from https://ndownloader.figshare.com/files/6848757 ...\n"
          ]
        },
        {
          "output_type": "stream",
          "name": "stderr",
          "text": [
            " ...done. (1 seconds, 0 min)\n",
            "Extracting data from /root/nilearn_data/cobre/1a05462fa223fa90bf0c2191b765c773/fmri_0040098.tsv.gz..... done.\n"
          ]
        },
        {
          "output_type": "stream",
          "name": "stdout",
          "text": [
            "Downloading data from https://ndownloader.figshare.com/files/6848766 ...\n"
          ]
        },
        {
          "output_type": "stream",
          "name": "stderr",
          "text": [
            "Downloaded 3497984 of 4580313 bytes (76.4%,    0.6s remaining) ...done. (4 seconds, 0 min)\n"
          ]
        },
        {
          "output_type": "stream",
          "name": "stdout",
          "text": [
            "Downloading data from https://ndownloader.figshare.com/files/6848769 ...\n"
          ]
        },
        {
          "output_type": "stream",
          "name": "stderr",
          "text": [
            " ...done. (1 seconds, 0 min)\n",
            "Extracting data from /root/nilearn_data/cobre/be49f8d6fbda9610118341d2b3824cc8/fmri_0040100.tsv.gz..... done.\n"
          ]
        },
        {
          "output_type": "stream",
          "name": "stdout",
          "text": [
            "Downloading data from https://ndownloader.figshare.com/files/6848460 ...\n"
          ]
        },
        {
          "output_type": "stream",
          "name": "stderr",
          "text": [
            "Downloaded 3825664 of 4332199 bytes (88.3%,    0.3s remaining) ...done. (4 seconds, 0 min)\n"
          ]
        },
        {
          "output_type": "stream",
          "name": "stdout",
          "text": [
            "Downloading data from https://ndownloader.figshare.com/files/6848463 ...\n"
          ]
        },
        {
          "output_type": "stream",
          "name": "stderr",
          "text": [
            " ...done. (1 seconds, 0 min)\n",
            "Extracting data from /root/nilearn_data/cobre/464fa45d7a4e5648989426e01cedba5c/fmri_0040047.tsv.gz..... done.\n"
          ]
        },
        {
          "output_type": "stream",
          "name": "stdout",
          "text": [
            "Downloading data from https://ndownloader.figshare.com/files/6848760 ...\n"
          ]
        },
        {
          "output_type": "stream",
          "name": "stderr",
          "text": [
            "Downloaded 3489792 of 4586801 bytes (76.1%,    0.6s remaining) ...done. (4 seconds, 0 min)\n"
          ]
        },
        {
          "output_type": "stream",
          "name": "stdout",
          "text": [
            "Downloading data from https://ndownloader.figshare.com/files/6848763 ...\n"
          ]
        },
        {
          "output_type": "stream",
          "name": "stderr",
          "text": [
            " ...done. (1 seconds, 0 min)\n",
            "Extracting data from /root/nilearn_data/cobre/38f589110f71c6738d4594f0ac1ad7a7/fmri_0040099.tsv.gz..... done.\n"
          ]
        },
        {
          "output_type": "stream",
          "name": "stdout",
          "text": [
            "Downloading data from https://ndownloader.figshare.com/files/6848430 ...\n"
          ]
        },
        {
          "output_type": "stream",
          "name": "stderr",
          "text": [
            "Downloaded 2883584 of 4402140 bytes (65.5%,    1.1s remaining) ...done. (4 seconds, 0 min)\n"
          ]
        },
        {
          "output_type": "stream",
          "name": "stdout",
          "text": [
            "Downloading data from https://ndownloader.figshare.com/files/6848433 ...\n"
          ]
        },
        {
          "output_type": "stream",
          "name": "stderr",
          "text": [
            " ...done. (1 seconds, 0 min)\n",
            "Extracting data from /root/nilearn_data/cobre/629039eb91b668ba9180f122d202a99a/fmri_0040042.tsv.gz..... done.\n"
          ]
        },
        {
          "output_type": "stream",
          "name": "stdout",
          "text": [
            "Downloading data from https://ndownloader.figshare.com/files/6848622 ...\n"
          ]
        },
        {
          "output_type": "stream",
          "name": "stderr",
          "text": [
            "\rDownloaded 212992 of 2023514 bytes (10.5%,    8.6s remaining) ...done. (4 seconds, 0 min)\n"
          ]
        },
        {
          "output_type": "stream",
          "name": "stdout",
          "text": [
            "Downloading data from https://ndownloader.figshare.com/files/6848625 ...\n"
          ]
        },
        {
          "output_type": "stream",
          "name": "stderr",
          "text": [
            " ...done. (1 seconds, 0 min)\n",
            "Extracting data from /root/nilearn_data/cobre/fa6dddf3186a4435575f7a1ed297faae/fmri_0040075.tsv.gz..... done.\n"
          ]
        },
        {
          "output_type": "stream",
          "name": "stdout",
          "text": [
            "Downloading data from https://ndownloader.figshare.com/files/6848784 ...\n"
          ]
        },
        {
          "output_type": "stream",
          "name": "stderr",
          "text": [
            "Downloaded 3825664 of 4635847 bytes (82.5%,    0.4s remaining) ...done. (4 seconds, 0 min)\n"
          ]
        },
        {
          "output_type": "stream",
          "name": "stdout",
          "text": [
            "Downloading data from https://ndownloader.figshare.com/files/6848787 ...\n"
          ]
        },
        {
          "output_type": "stream",
          "name": "stderr",
          "text": [
            " ...done. (1 seconds, 0 min)\n",
            "Extracting data from /root/nilearn_data/cobre/321185bd10831a3701afef181ed4273e/fmri_0040103.tsv.gz..... done.\n"
          ]
        },
        {
          "output_type": "stream",
          "name": "stdout",
          "text": [
            "Downloading data from https://ndownloader.figshare.com/files/6848538 ...\n"
          ]
        },
        {
          "output_type": "stream",
          "name": "stderr",
          "text": [
            "Downloaded 2605056 of 4337046 bytes (60.1%,    1.3s remaining) ...done. (4 seconds, 0 min)\n"
          ]
        },
        {
          "output_type": "stream",
          "name": "stdout",
          "text": [
            "Downloading data from https://ndownloader.figshare.com/files/6848541 ...\n"
          ]
        },
        {
          "output_type": "stream",
          "name": "stderr",
          "text": [
            " ...done. (1 seconds, 0 min)\n",
            "Extracting data from /root/nilearn_data/cobre/32154f247e90cba41e3c35a59788ac90/fmri_0040060.tsv.gz..... done.\n"
          ]
        },
        {
          "output_type": "stream",
          "name": "stdout",
          "text": [
            "Downloading data from https://ndownloader.figshare.com/files/6848922 ...\n"
          ]
        },
        {
          "output_type": "stream",
          "name": "stderr",
          "text": [
            "Downloaded 3825664 of 4623949 bytes (82.7%,    0.4s remaining) ...done. (4 seconds, 0 min)\n"
          ]
        },
        {
          "output_type": "stream",
          "name": "stdout",
          "text": [
            "Downloading data from https://ndownloader.figshare.com/files/6848925 ...\n"
          ]
        },
        {
          "output_type": "stream",
          "name": "stderr",
          "text": [
            " ...done. (1 seconds, 0 min)\n",
            "Extracting data from /root/nilearn_data/cobre/0c8a546a37188a64b3df92c363a37c75/fmri_0040126.tsv.gz..... done.\n"
          ]
        },
        {
          "output_type": "stream",
          "name": "stdout",
          "text": [
            "Downloading data from https://ndownloader.figshare.com/files/6848838 ...\n"
          ]
        },
        {
          "output_type": "stream",
          "name": "stderr",
          "text": [
            "Downloaded 3571712 of 4647206 bytes (76.9%,    0.6s remaining) ...done. (4 seconds, 0 min)\n"
          ]
        },
        {
          "output_type": "stream",
          "name": "stdout",
          "text": [
            "Downloading data from https://ndownloader.figshare.com/files/6848841 ...\n"
          ]
        },
        {
          "output_type": "stream",
          "name": "stderr",
          "text": [
            " ...done. (1 seconds, 0 min)\n",
            "Extracting data from /root/nilearn_data/cobre/223535a3d0f5536a8098fa4146d78f96/fmri_0040112.tsv.gz..... done.\n"
          ]
        },
        {
          "output_type": "stream",
          "name": "stdout",
          "text": [
            "Downloading data from https://ndownloader.figshare.com/files/6848658 ...\n"
          ]
        },
        {
          "output_type": "stream",
          "name": "stderr",
          "text": [
            "Downloaded 3629056 of 4547973 bytes (79.8%,    0.5s remaining) ...done. (4 seconds, 0 min)\n"
          ]
        },
        {
          "output_type": "stream",
          "name": "stdout",
          "text": [
            "Downloading data from https://ndownloader.figshare.com/files/6848661 ...\n"
          ]
        },
        {
          "output_type": "stream",
          "name": "stderr",
          "text": [
            " ...done. (1 seconds, 0 min)\n",
            "Extracting data from /root/nilearn_data/cobre/4a04a4cc2fb08af93d922a9da72793a1/fmri_0040081.tsv.gz..... done.\n"
          ]
        },
        {
          "output_type": "stream",
          "name": "stdout",
          "text": [
            "Downloading data from https://ndownloader.figshare.com/files/6848826 ...\n"
          ]
        },
        {
          "output_type": "stream",
          "name": "stderr",
          "text": [
            "Downloaded 3047424 of 4393147 bytes (69.4%,    0.9s remaining) ...done. (4 seconds, 0 min)\n"
          ]
        },
        {
          "output_type": "stream",
          "name": "stdout",
          "text": [
            "Downloading data from https://ndownloader.figshare.com/files/6848829 ...\n"
          ]
        },
        {
          "output_type": "stream",
          "name": "stderr",
          "text": [
            " ...done. (1 seconds, 0 min)\n",
            "Extracting data from /root/nilearn_data/cobre/1a7a95d2dddc00b6dc8ea8f1c9a3a7ef/fmri_0040110.tsv.gz..... done.\n"
          ]
        },
        {
          "output_type": "stream",
          "name": "stdout",
          "text": [
            "Downloading data from https://ndownloader.figshare.com/files/6848472 ...\n"
          ]
        },
        {
          "output_type": "stream",
          "name": "stderr",
          "text": [
            "Downloaded 2310144 of 4610293 bytes (50.1%,    2.0s remaining) ...done. (5 seconds, 0 min)\n"
          ]
        },
        {
          "output_type": "stream",
          "name": "stdout",
          "text": [
            "Downloading data from https://ndownloader.figshare.com/files/6848475 ...\n"
          ]
        },
        {
          "output_type": "stream",
          "name": "stderr",
          "text": [
            " ...done. (1 seconds, 0 min)\n",
            "Extracting data from /root/nilearn_data/cobre/a653a53f44e3a36017e48112481b799f/fmri_0040049.tsv.gz..... done.\n"
          ]
        },
        {
          "output_type": "stream",
          "name": "stdout",
          "text": [
            "Downloading data from https://ndownloader.figshare.com/files/6848802 ...\n"
          ]
        },
        {
          "output_type": "stream",
          "name": "stderr",
          "text": [
            "Downloaded 3809280 of 4542026 bytes (83.9%,    0.4s remaining) ...done. (4 seconds, 0 min)\n"
          ]
        },
        {
          "output_type": "stream",
          "name": "stdout",
          "text": [
            "Downloading data from https://ndownloader.figshare.com/files/6848805 ...\n"
          ]
        },
        {
          "output_type": "stream",
          "name": "stderr",
          "text": [
            " ...done. (1 seconds, 0 min)\n",
            "Extracting data from /root/nilearn_data/cobre/fbe7932b931e7aac276b73713f2b48f7/fmri_0040106.tsv.gz..... done.\n"
          ]
        },
        {
          "output_type": "stream",
          "name": "stdout",
          "text": [
            "Downloading data from https://ndownloader.figshare.com/files/6848268 ...\n"
          ]
        },
        {
          "output_type": "stream",
          "name": "stderr",
          "text": [
            "Downloaded 3809280 of 4234757 bytes (90.0%,    0.2s remaining) ...done. (4 seconds, 0 min)\n"
          ]
        },
        {
          "output_type": "stream",
          "name": "stdout",
          "text": [
            "Downloading data from https://ndownloader.figshare.com/files/6848271 ...\n"
          ]
        },
        {
          "output_type": "stream",
          "name": "stderr",
          "text": [
            " ...done. (1 seconds, 0 min)\n",
            "Extracting data from /root/nilearn_data/cobre/a49b4db4fc1d15e60e94f2c8ce2b540c/fmri_0040015.tsv.gz..... done.\n"
          ]
        },
        {
          "output_type": "stream",
          "name": "stdout",
          "text": [
            "Downloading data from https://ndownloader.figshare.com/files/6848208 ...\n"
          ]
        },
        {
          "output_type": "stream",
          "name": "stderr",
          "text": [
            "Downloaded 3014656 of 4606288 bytes (65.4%,    1.1s remaining) ...done. (4 seconds, 0 min)\n"
          ]
        },
        {
          "output_type": "stream",
          "name": "stdout",
          "text": [
            "Downloading data from https://ndownloader.figshare.com/files/6848211 ...\n"
          ]
        },
        {
          "output_type": "stream",
          "name": "stderr",
          "text": [
            " ...done. (1 seconds, 0 min)\n",
            "Extracting data from /root/nilearn_data/cobre/3cc26e31470f08daabd476c187faf7ab/fmri_0040005.tsv.gz..... done.\n"
          ]
        },
        {
          "output_type": "stream",
          "name": "stdout",
          "text": [
            "Downloading data from https://ndownloader.figshare.com/files/6848442 ...\n"
          ]
        },
        {
          "output_type": "stream",
          "name": "stderr",
          "text": [
            "Downloaded 2539520 of 4401529 bytes (57.7%,    1.5s remaining) ...done. (4 seconds, 0 min)\n"
          ]
        },
        {
          "output_type": "stream",
          "name": "stdout",
          "text": [
            "Downloading data from https://ndownloader.figshare.com/files/6848445 ...\n"
          ]
        },
        {
          "output_type": "stream",
          "name": "stderr",
          "text": [
            " ...done. (1 seconds, 0 min)\n",
            "Extracting data from /root/nilearn_data/cobre/5d210a2285666e70c2dcc66210e477b9/fmri_0040044.tsv.gz..... done.\n"
          ]
        },
        {
          "output_type": "stream",
          "name": "stdout",
          "text": [
            "Downloading data from https://ndownloader.figshare.com/files/6848274 ...\n"
          ]
        },
        {
          "output_type": "stream",
          "name": "stderr",
          "text": [
            "Downloaded 3817472 of 4607647 bytes (82.9%,    0.4s remaining) ...done. (4 seconds, 0 min)\n"
          ]
        },
        {
          "output_type": "stream",
          "name": "stdout",
          "text": [
            "Downloading data from https://ndownloader.figshare.com/files/6848277 ...\n"
          ]
        },
        {
          "output_type": "stream",
          "name": "stderr",
          "text": [
            " ...done. (1 seconds, 0 min)\n",
            "Extracting data from /root/nilearn_data/cobre/c37a040359f7136307e5541a58369578/fmri_0040016.tsv.gz..... done.\n"
          ]
        },
        {
          "output_type": "stream",
          "name": "stdout",
          "text": [
            "Downloading data from https://ndownloader.figshare.com/files/6848718 ...\n"
          ]
        },
        {
          "output_type": "stream",
          "name": "stderr",
          "text": [
            "Downloaded 2637824 of 4522924 bytes (58.3%,    1.4s remaining) ...done. (4 seconds, 0 min)\n"
          ]
        },
        {
          "output_type": "stream",
          "name": "stdout",
          "text": [
            "Downloading data from https://ndownloader.figshare.com/files/6848721 ...\n"
          ]
        },
        {
          "output_type": "stream",
          "name": "stderr",
          "text": [
            " ...done. (1 seconds, 0 min)\n",
            "Extracting data from /root/nilearn_data/cobre/4acb9160c066c1620a26601ed9bad8fa/fmri_0040092.tsv.gz..... done.\n"
          ]
        },
        {
          "output_type": "stream",
          "name": "stdout",
          "text": [
            "Downloading data from https://ndownloader.figshare.com/files/6848664 ...\n"
          ]
        },
        {
          "output_type": "stream",
          "name": "stderr",
          "text": [
            "Downloaded 3489792 of 4351779 bytes (80.2%,    0.5s remaining) ...done. (4 seconds, 0 min)\n"
          ]
        },
        {
          "output_type": "stream",
          "name": "stdout",
          "text": [
            "Downloading data from https://ndownloader.figshare.com/files/6848667 ...\n"
          ]
        },
        {
          "output_type": "stream",
          "name": "stderr",
          "text": [
            " ...done. (1 seconds, 0 min)\n",
            "Extracting data from /root/nilearn_data/cobre/65e373478e617322618fcb1b6458b695/fmri_0040082.tsv.gz..... done.\n"
          ]
        },
        {
          "output_type": "stream",
          "name": "stdout",
          "text": [
            "Downloading data from https://ndownloader.figshare.com/files/6848772 ...\n"
          ]
        },
        {
          "output_type": "stream",
          "name": "stderr",
          "text": [
            "Downloaded 3825664 of 4354517 bytes (87.9%,    0.3s remaining) ...done. (4 seconds, 0 min)\n"
          ]
        },
        {
          "output_type": "stream",
          "name": "stdout",
          "text": [
            "Downloading data from https://ndownloader.figshare.com/files/6848775 ...\n"
          ]
        },
        {
          "output_type": "stream",
          "name": "stderr",
          "text": [
            " ...done. (1 seconds, 0 min)\n",
            "Extracting data from /root/nilearn_data/cobre/76d22a017c497c5b147929e2cadfe7a1/fmri_0040101.tsv.gz..... done.\n"
          ]
        },
        {
          "output_type": "stream",
          "name": "stdout",
          "text": [
            "Downloading data from https://ndownloader.figshare.com/files/6848958 ...\n"
          ]
        },
        {
          "output_type": "stream",
          "name": "stderr",
          "text": [
            "Downloaded 3768320 of 4712968 bytes (80.0%,    0.5s remaining) ...done. (4 seconds, 0 min)\n"
          ]
        },
        {
          "output_type": "stream",
          "name": "stdout",
          "text": [
            "Downloading data from https://ndownloader.figshare.com/files/6848961 ...\n"
          ]
        },
        {
          "output_type": "stream",
          "name": "stderr",
          "text": [
            " ...done. (1 seconds, 0 min)\n",
            "Extracting data from /root/nilearn_data/cobre/7fc23d1d8d2a171a87acf65bef292017/fmri_0040132.tsv.gz..... done.\n"
          ]
        },
        {
          "output_type": "stream",
          "name": "stdout",
          "text": [
            "Downloading data from https://ndownloader.figshare.com/files/6848412 ...\n"
          ]
        },
        {
          "output_type": "stream",
          "name": "stderr",
          "text": [
            "Downloaded 3678208 of 4419995 bytes (83.2%,    0.4s remaining) ...done. (4 seconds, 0 min)\n"
          ]
        },
        {
          "output_type": "stream",
          "name": "stdout",
          "text": [
            "Downloading data from https://ndownloader.figshare.com/files/6848415 ...\n"
          ]
        },
        {
          "output_type": "stream",
          "name": "stderr",
          "text": [
            " ...done. (1 seconds, 0 min)\n",
            "Extracting data from /root/nilearn_data/cobre/e4561a4d86d1453c5c82165b19ca12df/fmri_0040039.tsv.gz..... done.\n"
          ]
        },
        {
          "output_type": "stream",
          "name": "stdout",
          "text": [
            "Downloading data from https://ndownloader.figshare.com/files/6848598 ...\n"
          ]
        },
        {
          "output_type": "stream",
          "name": "stderr",
          "text": [
            "Downloaded 3817472 of 4589027 bytes (83.2%,    0.4s remaining) ...done. (4 seconds, 0 min)\n"
          ]
        },
        {
          "output_type": "stream",
          "name": "stdout",
          "text": [
            "Downloading data from https://ndownloader.figshare.com/files/6848601 ...\n"
          ]
        },
        {
          "output_type": "stream",
          "name": "stderr",
          "text": [
            " ...done. (1 seconds, 0 min)\n",
            "Extracting data from /root/nilearn_data/cobre/66c1827f0566d7e10d707729c574e4c9/fmri_0040071.tsv.gz..... done.\n"
          ]
        },
        {
          "output_type": "stream",
          "name": "stdout",
          "text": [
            "Downloading data from https://ndownloader.figshare.com/files/6848238 ...\n"
          ]
        },
        {
          "output_type": "stream",
          "name": "stderr",
          "text": [
            "Downloaded 3440640 of 4534677 bytes (75.9%,    0.6s remaining) ...done. (4 seconds, 0 min)\n"
          ]
        },
        {
          "output_type": "stream",
          "name": "stdout",
          "text": [
            "Downloading data from https://ndownloader.figshare.com/files/6848241 ...\n"
          ]
        },
        {
          "output_type": "stream",
          "name": "stderr",
          "text": [
            " ...done. (1 seconds, 0 min)\n",
            "Extracting data from /root/nilearn_data/cobre/5ac96f6fe2ff3a366856c7519a259ae1/fmri_0040010.tsv.gz..... done.\n"
          ]
        },
        {
          "output_type": "stream",
          "name": "stdout",
          "text": [
            "Downloading data from https://ndownloader.figshare.com/files/6848748 ...\n"
          ]
        },
        {
          "output_type": "stream",
          "name": "stderr",
          "text": [
            "Downloaded 3997696 of 4487452 bytes (89.1%,    0.2s remaining) ...done. (4 seconds, 0 min)\n"
          ]
        },
        {
          "output_type": "stream",
          "name": "stdout",
          "text": [
            "Downloading data from https://ndownloader.figshare.com/files/6848751 ...\n"
          ]
        },
        {
          "output_type": "stream",
          "name": "stderr",
          "text": [
            " ...done. (1 seconds, 0 min)\n",
            "Extracting data from /root/nilearn_data/cobre/33a605d076b1ec10305d36158a019ca2/fmri_0040097.tsv.gz..... done.\n"
          ]
        },
        {
          "output_type": "stream",
          "name": "stdout",
          "text": [
            "Downloading data from https://ndownloader.figshare.com/files/6848796 ...\n"
          ]
        },
        {
          "output_type": "stream",
          "name": "stderr",
          "text": [
            "Downloaded 3825664 of 4669705 bytes (81.9%,    0.5s remaining) ...done. (4 seconds, 0 min)\n"
          ]
        },
        {
          "output_type": "stream",
          "name": "stdout",
          "text": [
            "Downloading data from https://ndownloader.figshare.com/files/6848799 ...\n"
          ]
        },
        {
          "output_type": "stream",
          "name": "stderr",
          "text": [
            " ...done. (1 seconds, 0 min)\n",
            "Extracting data from /root/nilearn_data/cobre/8af538f3408e1b1497436e7628c12cd1/fmri_0040105.tsv.gz..... done.\n"
          ]
        },
        {
          "output_type": "stream",
          "name": "stdout",
          "text": [
            "Downloading data from https://ndownloader.figshare.com/files/6849024 ...\n"
          ]
        },
        {
          "output_type": "stream",
          "name": "stderr",
          "text": [
            "Downloaded 3678208 of 4686280 bytes (78.5%,    0.6s remaining) ...done. (4 seconds, 0 min)\n"
          ]
        },
        {
          "output_type": "stream",
          "name": "stdout",
          "text": [
            "Downloading data from https://ndownloader.figshare.com/files/6849027 ...\n"
          ]
        },
        {
          "output_type": "stream",
          "name": "stderr",
          "text": [
            " ...done. (1 seconds, 0 min)\n",
            "Extracting data from /root/nilearn_data/cobre/9918b97ac22971acffd50b5b20ed63a9/fmri_0040143.tsv.gz..... done.\n"
          ]
        },
        {
          "output_type": "stream",
          "name": "stdout",
          "text": [
            "Downloading data from https://ndownloader.figshare.com/files/6848214 ...\n"
          ]
        },
        {
          "output_type": "stream",
          "name": "stderr",
          "text": [
            "Downloaded 3817472 of 4614678 bytes (82.7%,    0.4s remaining) ...done. (4 seconds, 0 min)\n"
          ]
        },
        {
          "output_type": "stream",
          "name": "stdout",
          "text": [
            "Downloading data from https://ndownloader.figshare.com/files/6848217 ...\n"
          ]
        },
        {
          "output_type": "stream",
          "name": "stderr",
          "text": [
            " ...done. (1 seconds, 0 min)\n",
            "Extracting data from /root/nilearn_data/cobre/22c47ad0848e42ca09a41e38a539a586/fmri_0040006.tsv.gz..... done.\n"
          ]
        },
        {
          "output_type": "stream",
          "name": "stdout",
          "text": [
            "Downloading data from https://ndownloader.figshare.com/files/6848202 ...\n"
          ]
        },
        {
          "output_type": "stream",
          "name": "stderr",
          "text": [
            "Downloaded 3317760 of 4677442 bytes (70.9%,    0.8s remaining) ...done. (4 seconds, 0 min)\n"
          ]
        },
        {
          "output_type": "stream",
          "name": "stdout",
          "text": [
            "Downloading data from https://ndownloader.figshare.com/files/6848205 ...\n"
          ]
        },
        {
          "output_type": "stream",
          "name": "stderr",
          "text": [
            " ...done. (1 seconds, 0 min)\n",
            "Extracting data from /root/nilearn_data/cobre/2f46e386b49aee2ace572298b18aea2d/fmri_0040004.tsv.gz..... done.\n"
          ]
        },
        {
          "output_type": "stream",
          "name": "stdout",
          "text": [
            "Downloading data from https://ndownloader.figshare.com/files/6848562 ...\n"
          ]
        },
        {
          "output_type": "stream",
          "name": "stderr",
          "text": [
            "Downloaded 2859008 of 4596847 bytes (62.2%,    1.2s remaining) ...done. (4 seconds, 0 min)\n"
          ]
        },
        {
          "output_type": "stream",
          "name": "stdout",
          "text": [
            "Downloading data from https://ndownloader.figshare.com/files/6848565 ...\n"
          ]
        },
        {
          "output_type": "stream",
          "name": "stderr",
          "text": [
            " ...done. (1 seconds, 0 min)\n",
            "Extracting data from /root/nilearn_data/cobre/316a59145109c16a527ab8d92a9789c6/fmri_0040064.tsv.gz..... done.\n"
          ]
        },
        {
          "output_type": "stream",
          "name": "stdout",
          "text": [
            "Downloading data from https://ndownloader.figshare.com/files/6848640 ...\n"
          ]
        },
        {
          "output_type": "stream",
          "name": "stderr",
          "text": [
            "Downloaded 3588096 of 4485179 bytes (80.0%,    0.5s remaining) ...done. (4 seconds, 0 min)\n"
          ]
        },
        {
          "output_type": "stream",
          "name": "stdout",
          "text": [
            "Downloading data from https://ndownloader.figshare.com/files/6848643 ...\n"
          ]
        },
        {
          "output_type": "stream",
          "name": "stderr",
          "text": [
            " ...done. (1 seconds, 0 min)\n",
            "Extracting data from /root/nilearn_data/cobre/e65881d7f743bf728be584597c350fb0/fmri_0040078.tsv.gz..... done.\n"
          ]
        },
        {
          "output_type": "stream",
          "name": "stdout",
          "text": [
            "Downloading data from https://ndownloader.figshare.com/files/6848730 ...\n"
          ]
        },
        {
          "output_type": "stream",
          "name": "stderr",
          "text": [
            "Downloaded 3817472 of 4436080 bytes (86.1%,    0.3s remaining) ...done. (4 seconds, 0 min)\n"
          ]
        },
        {
          "output_type": "stream",
          "name": "stdout",
          "text": [
            "Downloading data from https://ndownloader.figshare.com/files/6848733 ...\n"
          ]
        },
        {
          "output_type": "stream",
          "name": "stderr",
          "text": [
            " ...done. (1 seconds, 0 min)\n",
            "Extracting data from /root/nilearn_data/cobre/d81f30f9782ad5750682a04c0c63ad86/fmri_0040094.tsv.gz..... done.\n"
          ]
        },
        {
          "output_type": "stream",
          "name": "stdout",
          "text": [
            "Downloading data from https://ndownloader.figshare.com/files/6848670 ...\n"
          ]
        },
        {
          "output_type": "stream",
          "name": "stderr",
          "text": [
            "Downloaded 3579904 of 3902422 bytes (91.7%,    0.2s remaining) ...done. (4 seconds, 0 min)\n"
          ]
        },
        {
          "output_type": "stream",
          "name": "stdout",
          "text": [
            "Downloading data from https://ndownloader.figshare.com/files/6848673 ...\n"
          ]
        },
        {
          "output_type": "stream",
          "name": "stderr",
          "text": [
            " ...done. (1 seconds, 0 min)\n",
            "Extracting data from /root/nilearn_data/cobre/7874a5a9f7979cc31d01f73eb576e67e/fmri_0040084.tsv.gz..... done.\n"
          ]
        },
        {
          "output_type": "stream",
          "name": "stdout",
          "text": [
            "Downloading data from https://ndownloader.figshare.com/files/6848424 ...\n"
          ]
        },
        {
          "output_type": "stream",
          "name": "stderr",
          "text": [
            "Downloaded 3588096 of 4343353 bytes (82.6%,    0.4s remaining) ...done. (4 seconds, 0 min)\n"
          ]
        },
        {
          "output_type": "stream",
          "name": "stdout",
          "text": [
            "Downloading data from https://ndownloader.figshare.com/files/6848427 ...\n"
          ]
        },
        {
          "output_type": "stream",
          "name": "stderr",
          "text": [
            " ...done. (1 seconds, 0 min)\n",
            "Extracting data from /root/nilearn_data/cobre/7707908b86cd00610a0da82a49cba7d1/fmri_0040041.tsv.gz..... done.\n"
          ]
        },
        {
          "output_type": "stream",
          "name": "stdout",
          "text": [
            "Downloading data from https://ndownloader.figshare.com/files/6848700 ...\n"
          ]
        },
        {
          "output_type": "stream",
          "name": "stderr",
          "text": [
            "Downloaded 3825664 of 4301164 bytes (88.9%,    0.3s remaining) ...done. (4 seconds, 0 min)\n"
          ]
        },
        {
          "output_type": "stream",
          "name": "stdout",
          "text": [
            "Downloading data from https://ndownloader.figshare.com/files/6848703 ...\n"
          ]
        },
        {
          "output_type": "stream",
          "name": "stderr",
          "text": [
            " ...done. (1 seconds, 0 min)\n",
            "Extracting data from /root/nilearn_data/cobre/70de19035ad72b43cc8384b0e59c5cf3/fmri_0040089.tsv.gz..... done.\n"
          ]
        },
        {
          "output_type": "stream",
          "name": "stdout",
          "text": [
            "Downloading data from https://ndownloader.figshare.com/files/6848418 ...\n"
          ]
        },
        {
          "output_type": "stream",
          "name": "stderr",
          "text": [
            "Downloaded 3686400 of 4262891 bytes (86.5%,    0.3s remaining) ...done. (4 seconds, 0 min)\n"
          ]
        },
        {
          "output_type": "stream",
          "name": "stdout",
          "text": [
            "Downloading data from https://ndownloader.figshare.com/files/6848421 ...\n"
          ]
        },
        {
          "output_type": "stream",
          "name": "stderr",
          "text": [
            " ...done. (1 seconds, 0 min)\n",
            "Extracting data from /root/nilearn_data/cobre/9ebb1028205a5f825475866bb9288800/fmri_0040040.tsv.gz..... done.\n"
          ]
        },
        {
          "output_type": "stream",
          "name": "stdout",
          "text": [
            "Downloading data from https://ndownloader.figshare.com/files/6848346 ...\n"
          ]
        },
        {
          "output_type": "stream",
          "name": "stderr",
          "text": [
            "Downloaded 2072576 of 4399794 bytes (47.1%,    2.3s remaining) ...done. (5 seconds, 0 min)\n"
          ]
        },
        {
          "output_type": "stream",
          "name": "stdout",
          "text": [
            "Downloading data from https://ndownloader.figshare.com/files/6848349 ...\n"
          ]
        },
        {
          "output_type": "stream",
          "name": "stderr",
          "text": [
            " ...done. (1 seconds, 0 min)\n",
            "Extracting data from /root/nilearn_data/cobre/3b593703b0a29043c971f3cc9a190148/fmri_0040028.tsv.gz..... done.\n"
          ]
        },
        {
          "output_type": "stream",
          "name": "stdout",
          "text": [
            "Downloading data from https://ndownloader.figshare.com/files/6848220 ...\n"
          ]
        },
        {
          "output_type": "stream",
          "name": "stderr",
          "text": [
            "Downloaded 3366912 of 4553009 bytes (73.9%,    0.7s remaining) ...done. (4 seconds, 0 min)\n"
          ]
        },
        {
          "output_type": "stream",
          "name": "stdout",
          "text": [
            "Downloading data from https://ndownloader.figshare.com/files/6848223 ...\n"
          ]
        },
        {
          "output_type": "stream",
          "name": "stderr",
          "text": [
            " ...done. (1 seconds, 0 min)\n",
            "Extracting data from /root/nilearn_data/cobre/6e6fcccace5a7d17c5f297df03e023a8/fmri_0040007.tsv.gz..... done.\n"
          ]
        },
        {
          "output_type": "stream",
          "name": "stdout",
          "text": [
            "Downloading data from https://ndownloader.figshare.com/files/6848544 ...\n"
          ]
        },
        {
          "output_type": "stream",
          "name": "stderr",
          "text": [
            "Downloaded 4177920 of 4647995 bytes (89.9%,    0.2s remaining) ...done. (4 seconds, 0 min)\n"
          ]
        },
        {
          "output_type": "stream",
          "name": "stdout",
          "text": [
            "Downloading data from https://ndownloader.figshare.com/files/6848547 ...\n"
          ]
        },
        {
          "output_type": "stream",
          "name": "stderr",
          "text": [
            " ...done. (1 seconds, 0 min)\n",
            "Extracting data from /root/nilearn_data/cobre/fdbfd280ff5322077b5eff6994660f90/fmri_0040061.tsv.gz..... done.\n"
          ]
        },
        {
          "output_type": "stream",
          "name": "stdout",
          "text": [
            "Downloading data from https://ndownloader.figshare.com/files/6848706 ...\n"
          ]
        },
        {
          "output_type": "stream",
          "name": "stderr",
          "text": [
            "Downloaded 3809280 of 4595137 bytes (82.9%,    0.4s remaining) ...done. (4 seconds, 0 min)\n"
          ]
        },
        {
          "output_type": "stream",
          "name": "stdout",
          "text": [
            "Downloading data from https://ndownloader.figshare.com/files/6848709 ...\n"
          ]
        },
        {
          "output_type": "stream",
          "name": "stderr",
          "text": [
            " ...done. (1 seconds, 0 min)\n",
            "Extracting data from /root/nilearn_data/cobre/17ca77ec81f75b50b825727c4aab1df2/fmri_0040090.tsv.gz..... done.\n"
          ]
        },
        {
          "output_type": "stream",
          "name": "stdout",
          "text": [
            "Downloading data from https://ndownloader.figshare.com/files/6848844 ...\n"
          ]
        },
        {
          "output_type": "stream",
          "name": "stderr",
          "text": [
            "Downloaded 2801664 of 4593987 bytes (61.0%,    1.3s remaining) ...done. (4 seconds, 0 min)\n"
          ]
        },
        {
          "output_type": "stream",
          "name": "stdout",
          "text": [
            "Downloading data from https://ndownloader.figshare.com/files/6848847 ...\n"
          ]
        },
        {
          "output_type": "stream",
          "name": "stderr",
          "text": [
            " ...done. (1 seconds, 0 min)\n",
            "Extracting data from /root/nilearn_data/cobre/76e2655b3aa1b303589dfdef904ebcff/fmri_0040113.tsv.gz..... done.\n"
          ]
        },
        {
          "output_type": "stream",
          "name": "stdout",
          "text": [
            "Downloading data from https://ndownloader.figshare.com/files/6848892 ...\n"
          ]
        },
        {
          "output_type": "stream",
          "name": "stderr",
          "text": [
            "Downloaded 2678784 of 4525595 bytes (59.2%,    1.4s remaining) ...done. (4 seconds, 0 min)\n"
          ]
        },
        {
          "output_type": "stream",
          "name": "stdout",
          "text": [
            "Downloading data from https://ndownloader.figshare.com/files/6848895 ...\n"
          ]
        },
        {
          "output_type": "stream",
          "name": "stderr",
          "text": [
            " ...done. (1 seconds, 0 min)\n",
            "Extracting data from /root/nilearn_data/cobre/433e5c0cba0e8bdc641c5a8adbb3c990/fmri_0040121.tsv.gz..... done.\n"
          ]
        },
        {
          "output_type": "stream",
          "name": "stdout",
          "text": [
            "Downloading data from https://ndownloader.figshare.com/files/6848298 ...\n"
          ]
        },
        {
          "output_type": "stream",
          "name": "stderr",
          "text": [
            "Downloaded 2351104 of 4551063 bytes (51.7%,    1.9s remaining) ...done. (4 seconds, 0 min)\n"
          ]
        },
        {
          "output_type": "stream",
          "name": "stdout",
          "text": [
            "Downloading data from https://ndownloader.figshare.com/files/6848301 ...\n"
          ]
        },
        {
          "output_type": "stream",
          "name": "stderr",
          "text": [
            " ...done. (1 seconds, 0 min)\n",
            "Extracting data from /root/nilearn_data/cobre/bfac74090e10957abb67237a9a6a5655/fmri_0040020.tsv.gz..... done.\n"
          ]
        },
        {
          "output_type": "stream",
          "name": "stdout",
          "text": [
            "Downloading data from https://ndownloader.figshare.com/files/6848490 ...\n"
          ]
        },
        {
          "output_type": "stream",
          "name": "stderr",
          "text": [
            "Downloaded 3489792 of 4653489 bytes (75.0%,    0.7s remaining) ...done. (4 seconds, 0 min)\n"
          ]
        },
        {
          "output_type": "stream",
          "name": "stdout",
          "text": [
            "Downloading data from https://ndownloader.figshare.com/files/6848493 ...\n"
          ]
        },
        {
          "output_type": "stream",
          "name": "stderr",
          "text": [
            " ...done. (1 seconds, 0 min)\n",
            "Extracting data from /root/nilearn_data/cobre/f006ca3519f6bb28f44b9cf417d21baf/fmri_0040052.tsv.gz..... done.\n"
          ]
        },
        {
          "output_type": "stream",
          "name": "stdout",
          "text": [
            "Downloading data from https://ndownloader.figshare.com/files/6848568 ...\n"
          ]
        },
        {
          "output_type": "stream",
          "name": "stderr",
          "text": [
            "Downloaded 3825664 of 4596677 bytes (83.2%,    0.4s remaining) ...done. (4 seconds, 0 min)\n"
          ]
        },
        {
          "output_type": "stream",
          "name": "stdout",
          "text": [
            "Downloading data from https://ndownloader.figshare.com/files/6848571 ...\n"
          ]
        },
        {
          "output_type": "stream",
          "name": "stderr",
          "text": [
            " ...done. (1 seconds, 0 min)\n",
            "Extracting data from /root/nilearn_data/cobre/299ca69e0ad3a861a125a7c752e83e5a/fmri_0040065.tsv.gz..... done.\n"
          ]
        },
        {
          "output_type": "stream",
          "name": "stdout",
          "text": [
            "Downloading data from https://ndownloader.figshare.com/files/6848934 ...\n"
          ]
        },
        {
          "output_type": "stream",
          "name": "stderr",
          "text": [
            "Downloaded 3473408 of 4587115 bytes (75.7%,    0.7s remaining) ...done. (4 seconds, 0 min)\n"
          ]
        },
        {
          "output_type": "stream",
          "name": "stdout",
          "text": [
            "Downloading data from https://ndownloader.figshare.com/files/6848937 ...\n"
          ]
        },
        {
          "output_type": "stream",
          "name": "stderr",
          "text": [
            " ...done. (1 seconds, 0 min)\n",
            "Extracting data from /root/nilearn_data/cobre/5eb64f00c4a989fd64422c592475ed4c/fmri_0040128.tsv.gz..... done.\n"
          ]
        },
        {
          "output_type": "stream",
          "name": "stdout",
          "text": [
            "Downloading data from https://ndownloader.figshare.com/files/6848484 ...\n"
          ]
        },
        {
          "output_type": "stream",
          "name": "stderr",
          "text": [
            "Downloaded 2326528 of 4672864 bytes (49.8%,    2.0s remaining) ...done. (4 seconds, 0 min)\n"
          ]
        },
        {
          "output_type": "stream",
          "name": "stdout",
          "text": [
            "Downloading data from https://ndownloader.figshare.com/files/6848487 ...\n"
          ]
        },
        {
          "output_type": "stream",
          "name": "stderr",
          "text": [
            " ...done. (1 seconds, 0 min)\n",
            "Extracting data from /root/nilearn_data/cobre/ce31f466fadb6e22c80c0b8969b17ff8/fmri_0040051.tsv.gz..... done.\n"
          ]
        },
        {
          "output_type": "stream",
          "name": "stdout",
          "text": [
            "Downloading data from https://ndownloader.figshare.com/files/6848850 ...\n"
          ]
        },
        {
          "output_type": "stream",
          "name": "stderr",
          "text": [
            "Downloaded 3825664 of 4331760 bytes (88.3%,    0.3s remaining) ...done. (4 seconds, 0 min)\n"
          ]
        },
        {
          "output_type": "stream",
          "name": "stdout",
          "text": [
            "Downloading data from https://ndownloader.figshare.com/files/6848853 ...\n"
          ]
        },
        {
          "output_type": "stream",
          "name": "stderr",
          "text": [
            " ...done. (1 seconds, 0 min)\n",
            "Extracting data from /root/nilearn_data/cobre/cff9fd15d22059a176d15190e6caf601/fmri_0040114.tsv.gz..... done.\n"
          ]
        },
        {
          "output_type": "stream",
          "name": "stdout",
          "text": [
            "Downloading data from https://ndownloader.figshare.com/files/6848940 ...\n"
          ]
        },
        {
          "output_type": "stream",
          "name": "stderr",
          "text": [
            "Downloaded 3596288 of 4518393 bytes (79.6%,    0.5s remaining) ...done. (4 seconds, 0 min)\n"
          ]
        },
        {
          "output_type": "stream",
          "name": "stdout",
          "text": [
            "Downloading data from https://ndownloader.figshare.com/files/6848943 ...\n"
          ]
        },
        {
          "output_type": "stream",
          "name": "stderr",
          "text": [
            " ...done. (1 seconds, 0 min)\n",
            "Extracting data from /root/nilearn_data/cobre/447df6e56661d38b5f894d96e38b01c2/fmri_0040129.tsv.gz..... done.\n"
          ]
        },
        {
          "output_type": "stream",
          "name": "stdout",
          "text": [
            "Downloading data from https://ndownloader.figshare.com/files/6848496 ...\n"
          ]
        },
        {
          "output_type": "stream",
          "name": "stderr",
          "text": [
            "Downloaded 3522560 of 4516202 bytes (78.0%,    0.6s remaining) ...done. (4 seconds, 0 min)\n"
          ]
        },
        {
          "output_type": "stream",
          "name": "stdout",
          "text": [
            "Downloading data from https://ndownloader.figshare.com/files/6848499 ...\n"
          ]
        },
        {
          "output_type": "stream",
          "name": "stderr",
          "text": [
            " ...done. (1 seconds, 0 min)\n",
            "Extracting data from /root/nilearn_data/cobre/4c7d2fca87218d8466eecbacf3eab588/fmri_0040053.tsv.gz..... done.\n"
          ]
        },
        {
          "output_type": "stream",
          "name": "stdout",
          "text": [
            "Downloading data from https://ndownloader.figshare.com/files/6848586 ...\n"
          ]
        },
        {
          "output_type": "stream",
          "name": "stderr",
          "text": [
            "Downloaded 2859008 of 4595254 bytes (62.2%,    1.2s remaining) ...done. (4 seconds, 0 min)\n"
          ]
        },
        {
          "output_type": "stream",
          "name": "stdout",
          "text": [
            "Downloading data from https://ndownloader.figshare.com/files/6848589 ...\n"
          ]
        },
        {
          "output_type": "stream",
          "name": "stderr",
          "text": [
            " ...done. (1 seconds, 0 min)\n",
            "Extracting data from /root/nilearn_data/cobre/7c77d9be9410f1827a5bfd2a9d55f421/fmri_0040068.tsv.gz..... done.\n"
          ]
        },
        {
          "output_type": "stream",
          "name": "stdout",
          "text": [
            "Downloading data from https://ndownloader.figshare.com/files/6848712 ...\n"
          ]
        },
        {
          "output_type": "stream",
          "name": "stderr",
          "text": [
            "Downloaded 3399680 of 4556172 bytes (74.6%,    0.7s remaining) ...done. (4 seconds, 0 min)\n"
          ]
        },
        {
          "output_type": "stream",
          "name": "stdout",
          "text": [
            "Downloading data from https://ndownloader.figshare.com/files/6848715 ...\n"
          ]
        },
        {
          "output_type": "stream",
          "name": "stderr",
          "text": [
            " ...done. (1 seconds, 0 min)\n",
            "Extracting data from /root/nilearn_data/cobre/aea7a57b01069fb5564e61dc1f42530c/fmri_0040091.tsv.gz..... done.\n"
          ]
        },
        {
          "output_type": "stream",
          "name": "stdout",
          "text": [
            "Downloading data from https://ndownloader.figshare.com/files/6848976 ...\n"
          ]
        },
        {
          "output_type": "stream",
          "name": "stderr",
          "text": [
            "Downloaded 3792896 of 4624452 bytes (82.0%,    0.4s remaining) ...done. (4 seconds, 0 min)\n"
          ]
        },
        {
          "output_type": "stream",
          "name": "stdout",
          "text": [
            "Downloading data from https://ndownloader.figshare.com/files/6848979 ...\n"
          ]
        },
        {
          "output_type": "stream",
          "name": "stderr",
          "text": [
            " ...done. (1 seconds, 0 min)\n",
            "Extracting data from /root/nilearn_data/cobre/98a2d5d55994201cf5ca899f41edb483/fmri_0040135.tsv.gz..... done.\n"
          ]
        },
        {
          "output_type": "stream",
          "name": "stdout",
          "text": [
            "Downloading data from https://ndownloader.figshare.com/files/6848724 ...\n"
          ]
        },
        {
          "output_type": "stream",
          "name": "stderr",
          "text": [
            "Downloaded 3407872 of 4533894 bytes (75.2%,    0.7s remaining) ...done. (4 seconds, 0 min)\n"
          ]
        },
        {
          "output_type": "stream",
          "name": "stdout",
          "text": [
            "Downloading data from https://ndownloader.figshare.com/files/6848727 ...\n"
          ]
        },
        {
          "output_type": "stream",
          "name": "stderr",
          "text": [
            " ...done. (1 seconds, 0 min)\n",
            "Extracting data from /root/nilearn_data/cobre/8ac369f55252247ed042bfbdbdaf8832/fmri_0040093.tsv.gz..... done.\n"
          ]
        },
        {
          "output_type": "stream",
          "name": "stdout",
          "text": [
            "Downloading data from https://ndownloader.figshare.com/files/6848394 ...\n"
          ]
        },
        {
          "output_type": "stream",
          "name": "stderr",
          "text": [
            "Downloaded 2334720 of 4566244 bytes (51.1%,    1.9s remaining) ...done. (4 seconds, 0 min)\n"
          ]
        },
        {
          "output_type": "stream",
          "name": "stdout",
          "text": [
            "Downloading data from https://ndownloader.figshare.com/files/6848397 ...\n"
          ]
        },
        {
          "output_type": "stream",
          "name": "stderr",
          "text": [
            " ...done. (1 seconds, 0 min)\n",
            "Extracting data from /root/nilearn_data/cobre/d22a0250adab29b895fcd9e986961ac6/fmri_0040036.tsv.gz..... done.\n"
          ]
        },
        {
          "output_type": "stream",
          "name": "stdout",
          "text": [
            "Downloading data from https://ndownloader.figshare.com/files/6848790 ...\n"
          ]
        },
        {
          "output_type": "stream",
          "name": "stderr",
          "text": [
            "Downloaded 3358720 of 4566556 bytes (73.6%,    0.7s remaining) ...done. (4 seconds, 0 min)\n"
          ]
        },
        {
          "output_type": "stream",
          "name": "stdout",
          "text": [
            "Downloading data from https://ndownloader.figshare.com/files/6848793 ...\n"
          ]
        },
        {
          "output_type": "stream",
          "name": "stderr",
          "text": [
            " ...done. (1 seconds, 0 min)\n",
            "Extracting data from /root/nilearn_data/cobre/386c9d2e3df1d7f9be222929c539a85e/fmri_0040104.tsv.gz..... done.\n"
          ]
        },
        {
          "output_type": "stream",
          "name": "stdout",
          "text": [
            "Downloading data from https://ndownloader.figshare.com/files/6848886 ...\n"
          ]
        },
        {
          "output_type": "stream",
          "name": "stderr",
          "text": [
            "Downloaded 3268608 of 4335464 bytes (75.4%,    0.7s remaining) ...done. (4 seconds, 0 min)\n"
          ]
        },
        {
          "output_type": "stream",
          "name": "stdout",
          "text": [
            "Downloading data from https://ndownloader.figshare.com/files/6848889 ...\n"
          ]
        },
        {
          "output_type": "stream",
          "name": "stderr",
          "text": [
            " ...done. (1 seconds, 0 min)\n",
            "Extracting data from /root/nilearn_data/cobre/5dc5e3b270269cba3966fa31588b7257/fmri_0040120.tsv.gz..... done.\n"
          ]
        },
        {
          "output_type": "stream",
          "name": "stdout",
          "text": [
            "Downloading data from https://ndownloader.figshare.com/files/6848928 ...\n"
          ]
        },
        {
          "output_type": "stream",
          "name": "stderr",
          "text": [
            "Downloaded 3440640 of 4358576 bytes (78.9%,    0.5s remaining) ...done. (4 seconds, 0 min)\n"
          ]
        },
        {
          "output_type": "stream",
          "name": "stdout",
          "text": [
            "Downloading data from https://ndownloader.figshare.com/files/6848931 ...\n"
          ]
        },
        {
          "output_type": "stream",
          "name": "stderr",
          "text": [
            " ...done. (1 seconds, 0 min)\n",
            "Extracting data from /root/nilearn_data/cobre/b316555cbb1737d7e894b988e9780e64/fmri_0040127.tsv.gz..... done.\n"
          ]
        },
        {
          "output_type": "stream",
          "name": "stdout",
          "text": [
            "Downloading data from https://ndownloader.figshare.com/files/6848514 ...\n"
          ]
        },
        {
          "output_type": "stream",
          "name": "stderr",
          "text": [
            "Downloaded 2056192 of 4639453 bytes (44.3%,    2.6s remaining) ...done. (4 seconds, 0 min)\n"
          ]
        },
        {
          "output_type": "stream",
          "name": "stdout",
          "text": [
            "Downloading data from https://ndownloader.figshare.com/files/6848517 ...\n"
          ]
        },
        {
          "output_type": "stream",
          "name": "stderr",
          "text": [
            " ...done. (1 seconds, 0 min)\n",
            "Extracting data from /root/nilearn_data/cobre/b54127146bebc0a1577663db77da54e7/fmri_0040056.tsv.gz..... done.\n"
          ]
        },
        {
          "output_type": "stream",
          "name": "stdout",
          "text": [
            "Downloading data from https://ndownloader.figshare.com/files/6848526 ...\n"
          ]
        },
        {
          "output_type": "stream",
          "name": "stderr",
          "text": [
            "Downloaded 2719744 of 4526132 bytes (60.1%,    1.3s remaining) ...done. (4 seconds, 0 min)\n"
          ]
        },
        {
          "output_type": "stream",
          "name": "stdout",
          "text": [
            "Downloading data from https://ndownloader.figshare.com/files/6848529 ...\n"
          ]
        },
        {
          "output_type": "stream",
          "name": "stderr",
          "text": [
            " ...done. (1 seconds, 0 min)\n",
            "Extracting data from /root/nilearn_data/cobre/d266bff0ab2e5630aa19b5281c47dcc2/fmri_0040058.tsv.gz..... done.\n"
          ]
        },
        {
          "output_type": "stream",
          "name": "stdout",
          "text": [
            "Downloading data from https://ndownloader.figshare.com/files/6848688 ...\n"
          ]
        },
        {
          "output_type": "stream",
          "name": "stderr",
          "text": [
            "Downloaded 3817472 of 4250059 bytes (89.8%,    0.2s remaining) ...done. (4 seconds, 0 min)\n"
          ]
        },
        {
          "output_type": "stream",
          "name": "stdout",
          "text": [
            "Downloading data from https://ndownloader.figshare.com/files/6848691 ...\n"
          ]
        },
        {
          "output_type": "stream",
          "name": "stderr",
          "text": [
            " ...done. (1 seconds, 0 min)\n",
            "Extracting data from /root/nilearn_data/cobre/dc0b143affa421c69fedc2926b7eeca9/fmri_0040087.tsv.gz..... done.\n"
          ]
        },
        {
          "output_type": "stream",
          "name": "stdout",
          "text": [
            "Downloading data from https://ndownloader.figshare.com/files/6848856 ...\n"
          ]
        },
        {
          "output_type": "stream",
          "name": "stderr",
          "text": [
            "Downloaded 3817472 of 4361922 bytes (87.5%,    0.3s remaining) ...done. (4 seconds, 0 min)\n"
          ]
        },
        {
          "output_type": "stream",
          "name": "stdout",
          "text": [
            "Downloading data from https://ndownloader.figshare.com/files/6848859 ...\n"
          ]
        },
        {
          "output_type": "stream",
          "name": "stderr",
          "text": [
            " ...done. (1 seconds, 0 min)\n",
            "Extracting data from /root/nilearn_data/cobre/5a9e6ef1c95ae6b0568f859a5cf27ec9/fmri_0040115.tsv.gz..... done.\n"
          ]
        },
        {
          "output_type": "stream",
          "name": "stdout",
          "text": [
            "Downloading data from https://ndownloader.figshare.com/files/6848994 ...\n"
          ]
        },
        {
          "output_type": "stream",
          "name": "stderr",
          "text": [
            "Downloaded 3178496 of 4597734 bytes (69.1%,    0.9s remaining) ...done. (4 seconds, 0 min)\n"
          ]
        },
        {
          "output_type": "stream",
          "name": "stdout",
          "text": [
            "Downloading data from https://ndownloader.figshare.com/files/6848997 ...\n"
          ]
        },
        {
          "output_type": "stream",
          "name": "stderr",
          "text": [
            " ...done. (1 seconds, 0 min)\n",
            "Extracting data from /root/nilearn_data/cobre/b82db541e4f9a5e408d9ad43343175de/fmri_0040138.tsv.gz..... done.\n"
          ]
        },
        {
          "output_type": "stream",
          "name": "stdout",
          "text": [
            "Downloading data from https://ndownloader.figshare.com/files/6849000 ...\n"
          ]
        },
        {
          "output_type": "stream",
          "name": "stderr",
          "text": [
            "Downloaded 3276800 of 4447040 bytes (73.7%,    0.7s remaining) ...done. (4 seconds, 0 min)\n"
          ]
        },
        {
          "output_type": "stream",
          "name": "stdout",
          "text": [
            "Downloading data from https://ndownloader.figshare.com/files/6849003 ...\n"
          ]
        },
        {
          "output_type": "stream",
          "name": "stderr",
          "text": [
            " ...done. (1 seconds, 0 min)\n",
            "Extracting data from /root/nilearn_data/cobre/add86cccd2ec37880b3e555251501f43/fmri_0040139.tsv.gz..... done.\n"
          ]
        },
        {
          "output_type": "stream",
          "name": "stdout",
          "text": [
            "Downloading data from https://ndownloader.figshare.com/files/6848280 ...\n"
          ]
        },
        {
          "output_type": "stream",
          "name": "stderr",
          "text": [
            "Downloaded 2719744 of 4318414 bytes (63.0%,    1.2s remaining) ...done. (4 seconds, 0 min)\n"
          ]
        },
        {
          "output_type": "stream",
          "name": "stdout",
          "text": [
            "Downloading data from https://ndownloader.figshare.com/files/6848283 ...\n"
          ]
        },
        {
          "output_type": "stream",
          "name": "stderr",
          "text": [
            " ...done. (1 seconds, 0 min)\n",
            "Extracting data from /root/nilearn_data/cobre/b70d55395685d07aa8fdffc94edc71da/fmri_0040017.tsv.gz..... done.\n"
          ]
        },
        {
          "output_type": "stream",
          "name": "stdout",
          "text": [
            "Downloading data from https://ndownloader.figshare.com/files/6848388 ...\n"
          ]
        },
        {
          "output_type": "stream",
          "name": "stderr",
          "text": [
            "Downloaded 2949120 of 4407131 bytes (66.9%,    1.0s remaining) ...done. (4 seconds, 0 min)\n"
          ]
        },
        {
          "output_type": "stream",
          "name": "stdout",
          "text": [
            "Downloading data from https://ndownloader.figshare.com/files/6848391 ...\n"
          ]
        },
        {
          "output_type": "stream",
          "name": "stderr",
          "text": [
            " ...done. (1 seconds, 0 min)\n",
            "Extracting data from /root/nilearn_data/cobre/353ecb8a3fa22bfea3957c8bc90a8290/fmri_0040035.tsv.gz..... done.\n"
          ]
        },
        {
          "output_type": "stream",
          "name": "stdout",
          "text": [
            "Downloading data from https://ndownloader.figshare.com/files/6848448 ...\n"
          ]
        },
        {
          "output_type": "stream",
          "name": "stderr",
          "text": [
            "Downloaded 3760128 of 4126071 bytes (91.1%,    0.2s remaining) ...done. (4 seconds, 0 min)\n"
          ]
        },
        {
          "output_type": "stream",
          "name": "stdout",
          "text": [
            "Downloading data from https://ndownloader.figshare.com/files/6848451 ...\n"
          ]
        },
        {
          "output_type": "stream",
          "name": "stderr",
          "text": [
            " ...done. (1 seconds, 0 min)\n",
            "Extracting data from /root/nilearn_data/cobre/32b47fdf5040a6cf341e306058d1d040/fmri_0040045.tsv.gz..... done.\n"
          ]
        },
        {
          "output_type": "stream",
          "name": "stdout",
          "text": [
            "Downloading data from https://ndownloader.figshare.com/files/6848508 ...\n"
          ]
        },
        {
          "output_type": "stream",
          "name": "stderr",
          "text": [
            "Downloaded 3399680 of 4535546 bytes (75.0%,    0.7s remaining) ...done. (4 seconds, 0 min)\n"
          ]
        },
        {
          "output_type": "stream",
          "name": "stdout",
          "text": [
            "Downloading data from https://ndownloader.figshare.com/files/6848511 ...\n"
          ]
        },
        {
          "output_type": "stream",
          "name": "stderr",
          "text": [
            " ...done. (1 seconds, 0 min)\n",
            "Extracting data from /root/nilearn_data/cobre/e5dc1faa428abfd54acfffa1c1091732/fmri_0040055.tsv.gz..... done.\n"
          ]
        },
        {
          "output_type": "stream",
          "name": "stdout",
          "text": [
            "Downloading data from https://ndownloader.figshare.com/files/6848262 ...\n"
          ]
        },
        {
          "output_type": "stream",
          "name": "stderr",
          "text": [
            "Downloaded 3399680 of 4240132 bytes (80.2%,    0.5s remaining) ...done. (4 seconds, 0 min)\n"
          ]
        },
        {
          "output_type": "stream",
          "name": "stdout",
          "text": [
            "Downloading data from https://ndownloader.figshare.com/files/6848265 ...\n"
          ]
        },
        {
          "output_type": "stream",
          "name": "stderr",
          "text": [
            " ...done. (1 seconds, 0 min)\n",
            "Extracting data from /root/nilearn_data/cobre/0b613ec379333f48f6d60632e7fe449e/fmri_0040014.tsv.gz..... done.\n"
          ]
        },
        {
          "output_type": "stream",
          "name": "stdout",
          "text": [
            "Downloading data from https://ndownloader.figshare.com/files/6848376 ...\n"
          ]
        },
        {
          "output_type": "stream",
          "name": "stderr",
          "text": [
            "Downloaded 3588096 of 4530982 bytes (79.2%,    0.5s remaining) ...done. (4 seconds, 0 min)\n"
          ]
        },
        {
          "output_type": "stream",
          "name": "stdout",
          "text": [
            "Downloading data from https://ndownloader.figshare.com/files/6848379 ...\n"
          ]
        },
        {
          "output_type": "stream",
          "name": "stderr",
          "text": [
            " ...done. (1 seconds, 0 min)\n",
            "Extracting data from /root/nilearn_data/cobre/f16c0a0e779562038bc1d80a48174aa6/fmri_0040033.tsv.gz..... done.\n"
          ]
        },
        {
          "output_type": "stream",
          "name": "stdout",
          "text": [
            "Downloading data from https://ndownloader.figshare.com/files/6848466 ...\n"
          ]
        },
        {
          "output_type": "stream",
          "name": "stderr",
          "text": [
            "Downloaded 3424256 of 4415380 bytes (77.6%,    0.6s remaining) ...done. (4 seconds, 0 min)\n"
          ]
        },
        {
          "output_type": "stream",
          "name": "stdout",
          "text": [
            "Downloading data from https://ndownloader.figshare.com/files/6848469 ...\n"
          ]
        },
        {
          "output_type": "stream",
          "name": "stderr",
          "text": [
            " ...done. (1 seconds, 0 min)\n",
            "Extracting data from /root/nilearn_data/cobre/f1cf4fc950e390b644c4756f1d7571ed/fmri_0040048.tsv.gz..... done.\n"
          ]
        },
        {
          "output_type": "stream",
          "name": "stdout",
          "text": [
            "Downloading data from https://ndownloader.figshare.com/files/6848580 ...\n"
          ]
        },
        {
          "output_type": "stream",
          "name": "stderr",
          "text": [
            "Downloaded 3825664 of 4675739 bytes (81.8%,    0.4s remaining) ...done. (4 seconds, 0 min)\n"
          ]
        },
        {
          "output_type": "stream",
          "name": "stdout",
          "text": [
            "Downloading data from https://ndownloader.figshare.com/files/6848583 ...\n"
          ]
        },
        {
          "output_type": "stream",
          "name": "stderr",
          "text": [
            " ...done. (1 seconds, 0 min)\n",
            "Extracting data from /root/nilearn_data/cobre/0a13ad695794bd882eb610537ed8834c/fmri_0040067.tsv.gz..... done.\n"
          ]
        },
        {
          "output_type": "stream",
          "name": "stdout",
          "text": [
            "Downloading data from https://ndownloader.figshare.com/files/6848808 ...\n"
          ]
        },
        {
          "output_type": "stream",
          "name": "stderr",
          "text": [
            "Downloaded 3817472 of 4541587 bytes (84.1%,    0.4s remaining) ...done. (4 seconds, 0 min)\n"
          ]
        },
        {
          "output_type": "stream",
          "name": "stdout",
          "text": [
            "Downloading data from https://ndownloader.figshare.com/files/6848811 ...\n"
          ]
        },
        {
          "output_type": "stream",
          "name": "stderr",
          "text": [
            " ...done. (1 seconds, 0 min)\n",
            "Extracting data from /root/nilearn_data/cobre/51cf21fec93eda9d261ba6e60772b3b3/fmri_0040107.tsv.gz..... done.\n"
          ]
        },
        {
          "output_type": "stream",
          "name": "stdout",
          "text": [
            "Downloading data from https://ndownloader.figshare.com/files/6848256 ...\n"
          ]
        },
        {
          "output_type": "stream",
          "name": "stderr",
          "text": [
            "Downloaded 3596288 of 4316661 bytes (83.3%,    0.4s remaining) ...done. (4 seconds, 0 min)\n"
          ]
        },
        {
          "output_type": "stream",
          "name": "stdout",
          "text": [
            "Downloading data from https://ndownloader.figshare.com/files/6848259 ...\n"
          ]
        },
        {
          "output_type": "stream",
          "name": "stderr",
          "text": [
            " ...done. (1 seconds, 0 min)\n",
            "Extracting data from /root/nilearn_data/cobre/1fb653a5f34e2668fc3f6b7f9a0e7fdf/fmri_0040013.tsv.gz..... done.\n"
          ]
        },
        {
          "output_type": "stream",
          "name": "stdout",
          "text": [
            "Downloading data from https://ndownloader.figshare.com/files/6848616 ...\n"
          ]
        },
        {
          "output_type": "stream",
          "name": "stderr",
          "text": [
            "Downloaded 3809280 of 4538631 bytes (83.9%,    0.4s remaining) ...done. (4 seconds, 0 min)\n"
          ]
        },
        {
          "output_type": "stream",
          "name": "stdout",
          "text": [
            "Downloading data from https://ndownloader.figshare.com/files/6848619 ...\n"
          ]
        },
        {
          "output_type": "stream",
          "name": "stderr",
          "text": [
            " ...done. (1 seconds, 0 min)\n",
            "Extracting data from /root/nilearn_data/cobre/3458e174c96ff3708392fa25271e0a42/fmri_0040074.tsv.gz..... done.\n"
          ]
        },
        {
          "output_type": "stream",
          "name": "stdout",
          "text": [
            "Downloading data from https://ndownloader.figshare.com/files/6848874 ...\n"
          ]
        },
        {
          "output_type": "stream",
          "name": "stderr",
          "text": [
            "Downloaded 3284992 of 4654182 bytes (70.6%,    0.8s remaining) ...done. (4 seconds, 0 min)\n"
          ]
        },
        {
          "output_type": "stream",
          "name": "stdout",
          "text": [
            "Downloading data from https://ndownloader.figshare.com/files/6848877 ...\n"
          ]
        },
        {
          "output_type": "stream",
          "name": "stderr",
          "text": [
            " ...done. (1 seconds, 0 min)\n",
            "Extracting data from /root/nilearn_data/cobre/fd51da8a572a93da7d704e4e6d8380de/fmri_0040118.tsv.gz..... done.\n"
          ]
        },
        {
          "output_type": "stream",
          "name": "stdout",
          "text": [
            "Downloading data from https://ndownloader.figshare.com/files/6849048 ...\n"
          ]
        },
        {
          "output_type": "stream",
          "name": "stderr",
          "text": [
            "Downloaded 3809280 of 4732662 bytes (80.5%,    0.5s remaining) ...done. (4 seconds, 0 min)\n"
          ]
        },
        {
          "output_type": "stream",
          "name": "stdout",
          "text": [
            "Downloading data from https://ndownloader.figshare.com/files/6849051 ...\n"
          ]
        },
        {
          "output_type": "stream",
          "name": "stderr",
          "text": [
            " ...done. (1 seconds, 0 min)\n",
            "Extracting data from /root/nilearn_data/cobre/fc6b1216887a29eac3e7628292ff1923/fmri_0040147.tsv.gz..... done.\n"
          ]
        },
        {
          "output_type": "stream",
          "name": "stdout",
          "text": [
            "Downloading data from https://ndownloader.figshare.com/files/6848910 ...\n"
          ]
        },
        {
          "output_type": "stream",
          "name": "stderr",
          "text": [
            "Downloaded 2170880 of 4511976 bytes (48.1%,    2.2s remaining) ...done. (4 seconds, 0 min)\n"
          ]
        },
        {
          "output_type": "stream",
          "name": "stdout",
          "text": [
            "Downloading data from https://ndownloader.figshare.com/files/6848913 ...\n"
          ]
        },
        {
          "output_type": "stream",
          "name": "stderr",
          "text": [
            " ...done. (1 seconds, 0 min)\n",
            "Extracting data from /root/nilearn_data/cobre/2219daeb72e9bcf0927820da7526c1d5/fmri_0040124.tsv.gz..... done.\n"
          ]
        },
        {
          "output_type": "stream",
          "name": "stdout",
          "text": [
            "Downloading data from https://ndownloader.figshare.com/files/6849012 ...\n"
          ]
        },
        {
          "output_type": "stream",
          "name": "stderr",
          "text": [
            "Downloaded 3727360 of 4507888 bytes (82.7%,    0.4s remaining) ...done. (4 seconds, 0 min)\n"
          ]
        },
        {
          "output_type": "stream",
          "name": "stdout",
          "text": [
            "Downloading data from https://ndownloader.figshare.com/files/6849015 ...\n"
          ]
        },
        {
          "output_type": "stream",
          "name": "stderr",
          "text": [
            " ...done. (1 seconds, 0 min)\n",
            "Extracting data from /root/nilearn_data/cobre/3051fbde06e5148f55676302829cf31d/fmri_0040141.tsv.gz..... done.\n"
          ]
        },
        {
          "output_type": "stream",
          "name": "stdout",
          "text": [
            "Downloading data from https://ndownloader.figshare.com/files/6848478 ...\n"
          ]
        },
        {
          "output_type": "stream",
          "name": "stderr",
          "text": [
            "Downloaded 3817472 of 4430995 bytes (86.2%,    0.3s remaining) ...done. (4 seconds, 0 min)\n"
          ]
        },
        {
          "output_type": "stream",
          "name": "stdout",
          "text": [
            "Downloading data from https://ndownloader.figshare.com/files/6848481 ...\n"
          ]
        },
        {
          "output_type": "stream",
          "name": "stderr",
          "text": [
            " ...done. (1 seconds, 0 min)\n",
            "Extracting data from /root/nilearn_data/cobre/7bdf63b853c93eaf64b8f09aa60f673d/fmri_0040050.tsv.gz..... done.\n"
          ]
        },
        {
          "output_type": "stream",
          "name": "stdout",
          "text": [
            "Downloading data from https://ndownloader.figshare.com/files/6848520 ...\n"
          ]
        },
        {
          "output_type": "stream",
          "name": "stderr",
          "text": [
            "Downloaded 2646016 of 4363787 bytes (60.6%,    1.3s remaining) ...done. (4 seconds, 0 min)\n"
          ]
        },
        {
          "output_type": "stream",
          "name": "stdout",
          "text": [
            "Downloading data from https://ndownloader.figshare.com/files/6848523 ...\n"
          ]
        },
        {
          "output_type": "stream",
          "name": "stderr",
          "text": [
            " ...done. (1 seconds, 0 min)\n",
            "Extracting data from /root/nilearn_data/cobre/3e28795f5120be4512aa09e6a7cb98f3/fmri_0040057.tsv.gz..... done.\n"
          ]
        },
        {
          "output_type": "stream",
          "name": "stdout",
          "text": [
            "Downloading data from https://ndownloader.figshare.com/files/6848556 ...\n"
          ]
        },
        {
          "output_type": "stream",
          "name": "stderr",
          "text": [
            "Downloaded 3825664 of 4656081 bytes (82.2%,    0.4s remaining) ...done. (4 seconds, 0 min)\n"
          ]
        },
        {
          "output_type": "stream",
          "name": "stdout",
          "text": [
            "Downloading data from https://ndownloader.figshare.com/files/6848559 ...\n"
          ]
        },
        {
          "output_type": "stream",
          "name": "stderr",
          "text": [
            " ...done. (1 seconds, 0 min)\n",
            "Extracting data from /root/nilearn_data/cobre/05458d776a3c6f8fbcfd8bae19ce6ce8/fmri_0040063.tsv.gz..... done.\n"
          ]
        },
        {
          "output_type": "stream",
          "name": "stdout",
          "text": [
            "Downloading data from https://ndownloader.figshare.com/files/6848436 ...\n"
          ]
        },
        {
          "output_type": "stream",
          "name": "stderr",
          "text": [
            "Downloaded 2736128 of 4780012 bytes (57.2%,    1.5s remaining) ...done. (4 seconds, 0 min)\n"
          ]
        },
        {
          "output_type": "stream",
          "name": "stdout",
          "text": [
            "Downloading data from https://ndownloader.figshare.com/files/6848439 ...\n"
          ]
        },
        {
          "output_type": "stream",
          "name": "stderr",
          "text": [
            " ...done. (1 seconds, 0 min)\n",
            "Extracting data from /root/nilearn_data/cobre/96489eca6fef4a2ed308a6e7b16c04bb/fmri_0040043.tsv.gz..... done.\n"
          ]
        },
        {
          "output_type": "stream",
          "name": "stdout",
          "text": [
            "Downloading data from https://ndownloader.figshare.com/files/6848982 ...\n"
          ]
        },
        {
          "output_type": "stream",
          "name": "stderr",
          "text": [
            "Downloaded 3489792 of 4263927 bytes (81.8%,    0.4s remaining) ...done. (4 seconds, 0 min)\n"
          ]
        },
        {
          "output_type": "stream",
          "name": "stdout",
          "text": [
            "Downloading data from https://ndownloader.figshare.com/files/6848985 ...\n"
          ]
        },
        {
          "output_type": "stream",
          "name": "stderr",
          "text": [
            " ...done. (1 seconds, 0 min)\n",
            "Extracting data from /root/nilearn_data/cobre/d7267ae2d66935a22adc343a26562d59/fmri_0040136.tsv.gz..... done.\n"
          ]
        },
        {
          "output_type": "stream",
          "name": "stdout",
          "text": [
            "Downloading data from https://ndownloader.figshare.com/files/6849042 ...\n"
          ]
        },
        {
          "output_type": "stream",
          "name": "stderr",
          "text": [
            "Downloaded 3457024 of 4634643 bytes (74.6%,    0.7s remaining) ...done. (4 seconds, 0 min)\n"
          ]
        },
        {
          "output_type": "stream",
          "name": "stdout",
          "text": [
            "Downloading data from https://ndownloader.figshare.com/files/6849045 ...\n"
          ]
        },
        {
          "output_type": "stream",
          "name": "stderr",
          "text": [
            " ...done. (1 seconds, 0 min)\n",
            "Extracting data from /root/nilearn_data/cobre/3281888247af6caa04615124e14c654e/fmri_0040146.tsv.gz..... done.\n"
          ]
        },
        {
          "output_type": "stream",
          "name": "stdout",
          "text": [
            "Downloading data from https://ndownloader.figshare.com/files/6848736 ...\n"
          ]
        },
        {
          "output_type": "stream",
          "name": "stderr",
          "text": [
            "Downloaded 3825664 of 4573061 bytes (83.7%,    0.4s remaining) ...done. (4 seconds, 0 min)\n"
          ]
        },
        {
          "output_type": "stream",
          "name": "stdout",
          "text": [
            "Downloading data from https://ndownloader.figshare.com/files/6848739 ...\n"
          ]
        },
        {
          "output_type": "stream",
          "name": "stderr",
          "text": [
            " ...done. (1 seconds, 0 min)\n",
            "Extracting data from /root/nilearn_data/cobre/a4080a2306a6a90fceda43ba1e3e9a53/fmri_0040095.tsv.gz..... done.\n"
          ]
        },
        {
          "output_type": "stream",
          "name": "stdout",
          "text": [
            "Downloading data from https://ndownloader.figshare.com/files/6848778 ...\n"
          ]
        },
        {
          "output_type": "stream",
          "name": "stderr",
          "text": [
            "Downloaded 3014656 of 4499658 bytes (67.0%,    1.0s remaining) ...done. (4 seconds, 0 min)\n"
          ]
        },
        {
          "output_type": "stream",
          "name": "stdout",
          "text": [
            "Downloading data from https://ndownloader.figshare.com/files/6848781 ...\n"
          ]
        },
        {
          "output_type": "stream",
          "name": "stderr",
          "text": [
            " ...done. (1 seconds, 0 min)\n",
            "Extracting data from /root/nilearn_data/cobre/1a9608467cb5e039612d04d3a262a8da/fmri_0040102.tsv.gz..... done.\n"
          ]
        },
        {
          "output_type": "stream",
          "name": "stdout",
          "text": [
            "Downloading data from https://ndownloader.figshare.com/files/6848322 ...\n"
          ]
        },
        {
          "output_type": "stream",
          "name": "stderr",
          "text": [
            "Downloaded 3129344 of 4524258 bytes (69.2%,    0.9s remaining) ...done. (4 seconds, 0 min)\n"
          ]
        },
        {
          "output_type": "stream",
          "name": "stdout",
          "text": [
            "Downloading data from https://ndownloader.figshare.com/files/6848325 ...\n"
          ]
        },
        {
          "output_type": "stream",
          "name": "stderr",
          "text": [
            " ...done. (1 seconds, 0 min)\n",
            "Extracting data from /root/nilearn_data/cobre/4de055e8bb1c5c1bdc4c3354f4776db5/fmri_0040024.tsv.gz..... done.\n"
          ]
        },
        {
          "output_type": "stream",
          "name": "stdout",
          "text": [
            "Downloading data from https://ndownloader.figshare.com/files/6848970 ...\n"
          ]
        },
        {
          "output_type": "stream",
          "name": "stderr",
          "text": [
            "Downloaded 3809280 of 4461010 bytes (85.4%,    0.3s remaining) ...done. (4 seconds, 0 min)\n"
          ]
        },
        {
          "output_type": "stream",
          "name": "stdout",
          "text": [
            "Downloading data from https://ndownloader.figshare.com/files/6848973 ...\n"
          ]
        },
        {
          "output_type": "stream",
          "name": "stderr",
          "text": [
            " ...done. (1 seconds, 0 min)\n",
            "Extracting data from /root/nilearn_data/cobre/ab2a9793115c71d7ce094faac266ed93/fmri_0040134.tsv.gz..... done.\n"
          ]
        },
        {
          "output_type": "stream",
          "name": "stdout",
          "text": [
            "Downloading data from https://ndownloader.figshare.com/files/6848358 ...\n"
          ]
        },
        {
          "output_type": "stream",
          "name": "stderr",
          "text": [
            "Downloaded 3391488 of 4448033 bytes (76.2%,    0.6s remaining) ...done. (4 seconds, 0 min)\n"
          ]
        },
        {
          "output_type": "stream",
          "name": "stdout",
          "text": [
            "Downloading data from https://ndownloader.figshare.com/files/6848361 ...\n"
          ]
        },
        {
          "output_type": "stream",
          "name": "stderr",
          "text": [
            " ...done. (1 seconds, 0 min)\n",
            "Extracting data from /root/nilearn_data/cobre/76454a9c807ed8aaa0ea18e4e0d58e0d/fmri_0040030.tsv.gz..... done.\n"
          ]
        },
        {
          "output_type": "stream",
          "name": "stdout",
          "text": [
            "Downloading data from https://ndownloader.figshare.com/files/6848364 ...\n"
          ]
        },
        {
          "output_type": "stream",
          "name": "stderr",
          "text": [
            "Downloaded 3817472 of 4527341 bytes (84.3%,    0.4s remaining) ...done. (4 seconds, 0 min)\n"
          ]
        },
        {
          "output_type": "stream",
          "name": "stdout",
          "text": [
            "Downloading data from https://ndownloader.figshare.com/files/6848367 ...\n"
          ]
        },
        {
          "output_type": "stream",
          "name": "stderr",
          "text": [
            " ...done. (1 seconds, 0 min)\n",
            "Extracting data from /root/nilearn_data/cobre/7802b7540d4af1f2c38f670d851ac6bf/fmri_0040031.tsv.gz..... done.\n"
          ]
        },
        {
          "output_type": "stream",
          "name": "stdout",
          "text": [
            "Downloading data from https://ndownloader.figshare.com/files/6848292 ...\n"
          ]
        },
        {
          "output_type": "stream",
          "name": "stderr",
          "text": [
            "Downloaded 3588096 of 4715263 bytes (76.1%,    0.6s remaining) ...done. (4 seconds, 0 min)\n"
          ]
        },
        {
          "output_type": "stream",
          "name": "stdout",
          "text": [
            "Downloading data from https://ndownloader.figshare.com/files/6848295 ...\n"
          ]
        },
        {
          "output_type": "stream",
          "name": "stderr",
          "text": [
            " ...done. (1 seconds, 0 min)\n",
            "Extracting data from /root/nilearn_data/cobre/b8086ca73891f2a3c7860a151bf7fc6d/fmri_0040019.tsv.gz..... done.\n"
          ]
        },
        {
          "output_type": "stream",
          "name": "stdout",
          "text": [
            "Downloading data from https://ndownloader.figshare.com/files/6848334 ...\n"
          ]
        },
        {
          "output_type": "stream",
          "name": "stderr",
          "text": [
            "Downloaded 3817472 of 4503502 bytes (84.8%,    0.4s remaining) ...done. (4 seconds, 0 min)\n"
          ]
        },
        {
          "output_type": "stream",
          "name": "stdout",
          "text": [
            "Downloading data from https://ndownloader.figshare.com/files/6848337 ...\n"
          ]
        },
        {
          "output_type": "stream",
          "name": "stderr",
          "text": [
            " ...done. (1 seconds, 0 min)\n",
            "Extracting data from /root/nilearn_data/cobre/5595cf821720fd513e28f773a0326b81/fmri_0040026.tsv.gz..... done.\n"
          ]
        },
        {
          "output_type": "stream",
          "name": "stdout",
          "text": [
            "Downloading data from https://ndownloader.figshare.com/files/6848880 ...\n"
          ]
        },
        {
          "output_type": "stream",
          "name": "stderr",
          "text": [
            "Downloaded 3588096 of 4373892 bytes (82.0%,    0.4s remaining) ...done. (4 seconds, 0 min)\n"
          ]
        },
        {
          "output_type": "stream",
          "name": "stdout",
          "text": [
            "Downloading data from https://ndownloader.figshare.com/files/6848883 ...\n"
          ]
        },
        {
          "output_type": "stream",
          "name": "stderr",
          "text": [
            " ...done. (1 seconds, 0 min)\n",
            "Extracting data from /root/nilearn_data/cobre/65680433eec49f74a40b9c90b635a886/fmri_0040119.tsv.gz..... done.\n"
          ]
        },
        {
          "output_type": "stream",
          "name": "stdout",
          "text": [
            "Downloading data from https://ndownloader.figshare.com/files/6848286 ...\n"
          ]
        },
        {
          "output_type": "stream",
          "name": "stderr",
          "text": [
            "Downloaded 3022848 of 4562442 bytes (66.3%,    1.0s remaining) ...done. (4 seconds, 0 min)\n"
          ]
        },
        {
          "output_type": "stream",
          "name": "stdout",
          "text": [
            "Downloading data from https://ndownloader.figshare.com/files/6848289 ...\n"
          ]
        },
        {
          "output_type": "stream",
          "name": "stderr",
          "text": [
            " ...done. (1 seconds, 0 min)\n",
            "Extracting data from /root/nilearn_data/cobre/15fa0b569d31f9615f4d6cae22c52117/fmri_0040018.tsv.gz..... done.\n"
          ]
        },
        {
          "output_type": "stream",
          "name": "stdout",
          "text": [
            "Downloading data from https://ndownloader.figshare.com/files/6848862 ...\n"
          ]
        },
        {
          "output_type": "stream",
          "name": "stderr",
          "text": [
            "Downloaded 3825664 of 4586293 bytes (83.4%,    0.4s remaining) ...done. (4 seconds, 0 min)\n"
          ]
        },
        {
          "output_type": "stream",
          "name": "stdout",
          "text": [
            "Downloading data from https://ndownloader.figshare.com/files/6848865 ...\n"
          ]
        },
        {
          "output_type": "stream",
          "name": "stderr",
          "text": [
            " ...done. (1 seconds, 0 min)\n",
            "Extracting data from /root/nilearn_data/cobre/3f32a4ac9d612349bbbb73c3ee75c107/fmri_0040116.tsv.gz..... done.\n"
          ]
        },
        {
          "output_type": "stream",
          "name": "stdout",
          "text": [
            "Downloading data from https://ndownloader.figshare.com/files/6848946 ...\n"
          ]
        },
        {
          "output_type": "stream",
          "name": "stderr",
          "text": [
            "Downloaded 3825664 of 4515203 bytes (84.7%,    0.4s remaining) ...done. (4 seconds, 0 min)\n"
          ]
        },
        {
          "output_type": "stream",
          "name": "stdout",
          "text": [
            "Downloading data from https://ndownloader.figshare.com/files/6848949 ...\n"
          ]
        },
        {
          "output_type": "stream",
          "name": "stderr",
          "text": [
            " ...done. (1 seconds, 0 min)\n",
            "Extracting data from /root/nilearn_data/cobre/c9bee9f65ea2449097832fcf5a19bb97/fmri_0040130.tsv.gz..... done.\n"
          ]
        },
        {
          "output_type": "stream",
          "name": "stdout",
          "text": [
            "Downloading data from https://ndownloader.figshare.com/files/6848952 ...\n"
          ]
        },
        {
          "output_type": "stream",
          "name": "stderr",
          "text": [
            "Downloaded 2293760 of 4460774 bytes (51.4%,    1.9s remaining) ...done. (4 seconds, 0 min)\n"
          ]
        },
        {
          "output_type": "stream",
          "name": "stdout",
          "text": [
            "Downloading data from https://ndownloader.figshare.com/files/6848955 ...\n"
          ]
        },
        {
          "output_type": "stream",
          "name": "stderr",
          "text": [
            " ...done. (1 seconds, 0 min)\n",
            "Extracting data from /root/nilearn_data/cobre/684382e28c0fbbe89d31718317e2734b/fmri_0040131.tsv.gz..... done.\n"
          ]
        },
        {
          "output_type": "stream",
          "name": "stdout",
          "text": [
            "Downloading data from https://ndownloader.figshare.com/files/6848316 ...\n"
          ]
        },
        {
          "output_type": "stream",
          "name": "stderr",
          "text": [
            "Downloaded 3817472 of 4528051 bytes (84.3%,    0.4s remaining) ...done. (4 seconds, 0 min)\n"
          ]
        },
        {
          "output_type": "stream",
          "name": "stdout",
          "text": [
            "Downloading data from https://ndownloader.figshare.com/files/6848319 ...\n"
          ]
        },
        {
          "output_type": "stream",
          "name": "stderr",
          "text": [
            " ...done. (1 seconds, 0 min)\n",
            "Extracting data from /root/nilearn_data/cobre/ac1cdf7fb3b9387d25a908df52ad1d66/fmri_0040023.tsv.gz..... done.\n"
          ]
        },
        {
          "output_type": "stream",
          "name": "stdout",
          "text": [
            "Downloading data from https://ndownloader.figshare.com/files/6848340 ...\n"
          ]
        },
        {
          "output_type": "stream",
          "name": "stderr",
          "text": [
            "Downloaded 4251648 of 4388669 bytes (96.9%,    0.6s remaining) ...done. (20 seconds, 0 min)\n"
          ]
        },
        {
          "output_type": "stream",
          "name": "stdout",
          "text": [
            "Downloading data from https://ndownloader.figshare.com/files/6848343 ...\n"
          ]
        },
        {
          "output_type": "stream",
          "name": "stderr",
          "text": [
            " ...done. (1 seconds, 0 min)\n",
            "Extracting data from /root/nilearn_data/cobre/5ef41fda8564bf964332d3bb5c6f178f/fmri_0040027.tsv.gz..... done.\n"
          ]
        },
        {
          "output_type": "stream",
          "name": "stdout",
          "text": [
            "Downloading data from https://ndownloader.figshare.com/files/6848904 ...\n"
          ]
        },
        {
          "output_type": "stream",
          "name": "stderr",
          "text": [
            "Downloaded 3407872 of 4517561 bytes (75.4%,    0.7s remaining) ...done. (4 seconds, 0 min)\n"
          ]
        },
        {
          "output_type": "stream",
          "name": "stdout",
          "text": [
            "Downloading data from https://ndownloader.figshare.com/files/6848907 ...\n"
          ]
        },
        {
          "output_type": "stream",
          "name": "stderr",
          "text": [
            " ...done. (1 seconds, 0 min)\n",
            "Extracting data from /root/nilearn_data/cobre/b7fc4019d9eabc78bb1a92a55f55d262/fmri_0040123.tsv.gz..... done.\n"
          ]
        },
        {
          "output_type": "stream",
          "name": "stdout",
          "text": [
            "Downloading data from https://ndownloader.figshare.com/files/6848916 ...\n"
          ]
        },
        {
          "output_type": "stream",
          "name": "stderr",
          "text": [
            "Downloaded 2826240 of 4432653 bytes (63.8%,    1.1s remaining) ...done. (4 seconds, 0 min)\n"
          ]
        },
        {
          "output_type": "stream",
          "name": "stdout",
          "text": [
            "Downloading data from https://ndownloader.figshare.com/files/6848919 ...\n"
          ]
        },
        {
          "output_type": "stream",
          "name": "stderr",
          "text": [
            " ...done. (1 seconds, 0 min)\n",
            "Extracting data from /root/nilearn_data/cobre/a3b4301367112991b3d6ef706de2a9ef/fmri_0040125.tsv.gz..... done.\n"
          ]
        },
        {
          "output_type": "stream",
          "name": "stdout",
          "text": [
            "Downloading data from https://ndownloader.figshare.com/files/6848550 ...\n"
          ]
        },
        {
          "output_type": "stream",
          "name": "stderr",
          "text": [
            "Downloaded 3817472 of 4270467 bytes (89.4%,    0.2s remaining) ...done. (4 seconds, 0 min)\n"
          ]
        },
        {
          "output_type": "stream",
          "name": "stdout",
          "text": [
            "Downloading data from https://ndownloader.figshare.com/files/6848553 ...\n"
          ]
        },
        {
          "output_type": "stream",
          "name": "stderr",
          "text": [
            " ...done. (1 seconds, 0 min)\n",
            "Extracting data from /root/nilearn_data/cobre/48cef84d830ccc4b708e606c20c56761/fmri_0040062.tsv.gz..... done.\n"
          ]
        },
        {
          "output_type": "stream",
          "name": "stdout",
          "text": [
            "Downloading data from https://ndownloader.figshare.com/files/6848502 ...\n"
          ]
        },
        {
          "output_type": "stream",
          "name": "stderr",
          "text": [
            "Downloaded 3588096 of 4488285 bytes (79.9%,    0.5s remaining) ...done. (4 seconds, 0 min)\n"
          ]
        },
        {
          "output_type": "stream",
          "name": "stdout",
          "text": [
            "Downloading data from https://ndownloader.figshare.com/files/6848505 ...\n"
          ]
        },
        {
          "output_type": "stream",
          "name": "stderr",
          "text": [
            " ...done. (1 seconds, 0 min)\n",
            "Extracting data from /root/nilearn_data/cobre/80fa1b55c99e04d0239326e471f79878/fmri_0040054.tsv.gz..... done.\n"
          ]
        },
        {
          "output_type": "stream",
          "name": "stdout",
          "text": [
            "Downloading data from https://ndownloader.figshare.com/files/6848628 ...\n"
          ]
        },
        {
          "output_type": "stream",
          "name": "stderr",
          "text": [
            "Downloaded 3825664 of 4500368 bytes (85.0%,    0.4s remaining) ...done. (4 seconds, 0 min)\n"
          ]
        },
        {
          "output_type": "stream",
          "name": "stdout",
          "text": [
            "Downloading data from https://ndownloader.figshare.com/files/6848631 ...\n"
          ]
        },
        {
          "output_type": "stream",
          "name": "stderr",
          "text": [
            " ...done. (1 seconds, 0 min)\n",
            "Extracting data from /root/nilearn_data/cobre/55a4b038c00fd66969b6200a66bdf8bc/fmri_0040076.tsv.gz..... done.\n"
          ]
        },
        {
          "output_type": "stream",
          "name": "stdout",
          "text": [
            "Downloading data from https://ndownloader.figshare.com/files/6848406 ...\n"
          ]
        },
        {
          "output_type": "stream",
          "name": "stderr",
          "text": [
            "Downloaded 3768320 of 4490986 bytes (83.9%,    0.4s remaining) ...done. (4 seconds, 0 min)\n"
          ]
        },
        {
          "output_type": "stream",
          "name": "stdout",
          "text": [
            "Downloading data from https://ndownloader.figshare.com/files/6848409 ...\n"
          ]
        },
        {
          "output_type": "stream",
          "name": "stderr",
          "text": [
            " ...done. (1 seconds, 0 min)\n",
            "Extracting data from /root/nilearn_data/cobre/872bb5f066fc85b420bd4ee19708cce2/fmri_0040038.tsv.gz..... done.\n"
          ]
        },
        {
          "output_type": "stream",
          "name": "stdout",
          "text": [
            "Downloading data from https://ndownloader.figshare.com/files/6849006 ...\n"
          ]
        },
        {
          "output_type": "stream",
          "name": "stderr",
          "text": [
            "Downloaded 3817472 of 4469398 bytes (85.4%,    0.3s remaining) ...done. (4 seconds, 0 min)\n"
          ]
        },
        {
          "output_type": "stream",
          "name": "stdout",
          "text": [
            "Downloading data from https://ndownloader.figshare.com/files/6849009 ...\n"
          ]
        },
        {
          "output_type": "stream",
          "name": "stderr",
          "text": [
            " ...done. (1 seconds, 0 min)\n",
            "Extracting data from /root/nilearn_data/cobre/4f6b1d4e4494ff5a65b79a421cce5cc2/fmri_0040140.tsv.gz..... done.\n"
          ]
        },
        {
          "output_type": "stream",
          "name": "stdout",
          "text": [
            "Downloading data from https://ndownloader.figshare.com/files/6849030 ...\n"
          ]
        },
        {
          "output_type": "stream",
          "name": "stderr",
          "text": [
            "Downloaded 3776512 of 4570622 bytes (82.6%,    0.4s remaining) ...done. (4 seconds, 0 min)\n"
          ]
        },
        {
          "output_type": "stream",
          "name": "stdout",
          "text": [
            "Downloading data from https://ndownloader.figshare.com/files/6849033 ...\n"
          ]
        },
        {
          "output_type": "stream",
          "name": "stderr",
          "text": [
            " ...done. (1 seconds, 0 min)\n",
            "Extracting data from /root/nilearn_data/cobre/72e1972585f10b4fbfb3fea4dd65c708/fmri_0040144.tsv.gz..... done.\n"
          ]
        },
        {
          "output_type": "stream",
          "name": "stdout",
          "text": [
            "Downloading data from https://ndownloader.figshare.com/files/6848592 ...\n"
          ]
        },
        {
          "output_type": "stream",
          "name": "stderr",
          "text": [
            "Downloaded 3809280 of 4616872 bytes (82.5%,    0.4s remaining) ...done. (4 seconds, 0 min)\n"
          ]
        },
        {
          "output_type": "stream",
          "name": "stdout",
          "text": [
            "Downloading data from https://ndownloader.figshare.com/files/6848595 ...\n"
          ]
        },
        {
          "output_type": "stream",
          "name": "stderr",
          "text": [
            " ...done. (1 seconds, 0 min)\n",
            "Extracting data from /root/nilearn_data/cobre/be47f798e4acd10ae7b242401b2f7a63/fmri_0040069.tsv.gz..... done.\n"
          ]
        },
        {
          "output_type": "stream",
          "name": "stdout",
          "text": [
            "Downloading data from https://ndownloader.figshare.com/files/6848832 ...\n"
          ]
        },
        {
          "output_type": "stream",
          "name": "stderr",
          "text": [
            "Downloaded 3063808 of 4503940 bytes (68.0%,    1.0s remaining) ...done. (4 seconds, 0 min)\n"
          ]
        },
        {
          "output_type": "stream",
          "name": "stdout",
          "text": [
            "Downloading data from https://ndownloader.figshare.com/files/6848835 ...\n"
          ]
        },
        {
          "output_type": "stream",
          "name": "stderr",
          "text": [
            " ...done. (1 seconds, 0 min)\n",
            "Extracting data from /root/nilearn_data/cobre/c5d2073d953d5ce3aa84b6344c27ad31/fmri_0040111.tsv.gz..... done.\n"
          ]
        },
        {
          "output_type": "stream",
          "name": "stdout",
          "text": [
            "Downloading data from https://ndownloader.figshare.com/files/6848574 ...\n"
          ]
        },
        {
          "output_type": "stream",
          "name": "stderr",
          "text": [
            "Downloaded 3637248 of 4630617 bytes (78.5%,    0.6s remaining) ...done. (4 seconds, 0 min)\n"
          ]
        },
        {
          "output_type": "stream",
          "name": "stdout",
          "text": [
            "Downloading data from https://ndownloader.figshare.com/files/6848577 ...\n"
          ]
        },
        {
          "output_type": "stream",
          "name": "stderr",
          "text": [
            " ...done. (1 seconds, 0 min)\n",
            "Extracting data from /root/nilearn_data/cobre/b17b358bde184b3622f63cbda9c959a3/fmri_0040066.tsv.gz..... done.\n"
          ]
        },
        {
          "output_type": "stream",
          "name": "stdout",
          "text": [
            "Downloading data from https://ndownloader.figshare.com/files/6848682 ...\n"
          ]
        },
        {
          "output_type": "stream",
          "name": "stderr",
          "text": [
            "Downloaded 3629056 of 4638932 bytes (78.2%,    0.6s remaining) ...done. (4 seconds, 0 min)\n"
          ]
        },
        {
          "output_type": "stream",
          "name": "stdout",
          "text": [
            "Downloading data from https://ndownloader.figshare.com/files/6848685 ...\n"
          ]
        },
        {
          "output_type": "stream",
          "name": "stderr",
          "text": [
            " ...done. (1 seconds, 0 min)\n",
            "Extracting data from /root/nilearn_data/cobre/46a0292e04917d03a6ce9f981944d6fa/fmri_0040086.tsv.gz..... done.\n"
          ]
        },
        {
          "output_type": "stream",
          "name": "stdout",
          "text": [
            "Downloading data from https://ndownloader.figshare.com/files/6849054 ...\n"
          ]
        },
        {
          "output_type": "stream",
          "name": "stderr",
          "text": [
            " ...done. (2 seconds, 0 min)\n"
          ]
        },
        {
          "output_type": "stream",
          "name": "stdout",
          "text": [
            "Downloading data from https://ndownloader.figshare.com/files/6849057 ...\n"
          ]
        },
        {
          "output_type": "stream",
          "name": "stderr",
          "text": [
            " ...done. (1 seconds, 0 min)\n"
          ]
        }
      ]
    },
    {
      "cell_type": "markdown",
      "metadata": {
        "id": "eWDKBQ-nf6Mq"
      },
      "source": [
        "# **Data Preprocessing** "
      ]
    },
    {
      "cell_type": "markdown",
      "metadata": {
        "id": "ywYbun0Of_Cj"
      },
      "source": [
        "**Import phenotypic data**"
      ]
    },
    {
      "cell_type": "code",
      "metadata": {
        "id": "73Xth3eqlO4L"
      },
      "source": [
        "import pandas\n",
        "pheno = pandas.DataFrame(data.phenotypic)"
      ],
      "execution_count": 3,
      "outputs": []
    },
    {
      "cell_type": "markdown",
      "metadata": {
        "id": "jLAXoHw0gFdk"
      },
      "source": [
        "**Extract participant id from file paths**"
      ]
    },
    {
      "cell_type": "code",
      "metadata": {
        "id": "o3V2eIhSlQdd"
      },
      "source": [
        "file_names = []\n",
        "for path in data.func:\n",
        "    #note the string slicing below is not best practice and will need to change if file paths change\n",
        "    file_names.append(path[39:44])\n"
      ],
      "execution_count": 4,
      "outputs": []
    },
    {
      "cell_type": "markdown",
      "metadata": {
        "id": "WTVyrZ2WgIai"
      },
      "source": [
        "**Create dataframe of file paths and ids**"
      ]
    },
    {
      "cell_type": "code",
      "metadata": {
        "id": "X-7ZrLSLlSk7"
      },
      "source": [
        "files = pandas.DataFrame(data.func, columns = ['path'])\n",
        "files['id'] = file_names\n",
        "files['id'] = pheno['id'].astype('int')"
      ],
      "execution_count": 5,
      "outputs": []
    },
    {
      "cell_type": "markdown",
      "metadata": {
        "id": "TbroaHe1gT-Q"
      },
      "source": [
        "**Merge phenotypic data with file paths**"
      ]
    },
    {
      "cell_type": "code",
      "metadata": {
        "id": "T8053oSZlUq0"
      },
      "source": [
        "import pandas\n",
        "pheno = pandas.merge(pheno, files, on = 'id')\n",
        "\n",
        "#fix string decoding\n",
        "pheno['gender'] = pheno['gender'].map(lambda x: x.decode('utf-8'))\n",
        "pheno['handedness'] = pheno['handedness'].map(lambda x: x.decode('utf-8'))\n",
        "pheno['subject_type'] = pheno['subject_type'].map(lambda x: x.decode('utf-8'))\n",
        "pheno['diagnosis'] = pheno['diagnosis'].map(lambda x: x.decode('utf-8'))"
      ],
      "execution_count": 6,
      "outputs": []
    },
    {
      "cell_type": "code",
      "metadata": {
        "colab": {
          "base_uri": "https://localhost:8080/",
          "height": 415
        },
        "id": "9kwKA4C-md2y",
        "outputId": "7fe704b0-6397-4f67-9979-71ad0b0b26cc"
      },
      "source": [
        "pheno"
      ],
      "execution_count": 7,
      "outputs": [
        {
          "output_type": "execute_result",
          "data": {
            "text/html": [
              "<div>\n",
              "<style scoped>\n",
              "    .dataframe tbody tr th:only-of-type {\n",
              "        vertical-align: middle;\n",
              "    }\n",
              "\n",
              "    .dataframe tbody tr th {\n",
              "        vertical-align: top;\n",
              "    }\n",
              "\n",
              "    .dataframe thead th {\n",
              "        text-align: right;\n",
              "    }\n",
              "</style>\n",
              "<table border=\"1\" class=\"dataframe\">\n",
              "  <thead>\n",
              "    <tr style=\"text-align: right;\">\n",
              "      <th></th>\n",
              "      <th>id</th>\n",
              "      <th>current_age</th>\n",
              "      <th>gender</th>\n",
              "      <th>handedness</th>\n",
              "      <th>subject_type</th>\n",
              "      <th>diagnosis</th>\n",
              "      <th>frames_ok</th>\n",
              "      <th>fd</th>\n",
              "      <th>fd_scrubbed</th>\n",
              "      <th>path</th>\n",
              "    </tr>\n",
              "  </thead>\n",
              "  <tbody>\n",
              "    <tr>\n",
              "      <th>0</th>\n",
              "      <td>40061</td>\n",
              "      <td>18</td>\n",
              "      <td>Male</td>\n",
              "      <td>Right</td>\n",
              "      <td>Control</td>\n",
              "      <td>None</td>\n",
              "      <td>133</td>\n",
              "      <td>0.25512</td>\n",
              "      <td>0.22657</td>\n",
              "      <td>/root/nilearn_data/cobre/fmri_0040046.nii.gz</td>\n",
              "    </tr>\n",
              "    <tr>\n",
              "      <th>1</th>\n",
              "      <td>40090</td>\n",
              "      <td>18</td>\n",
              "      <td>Female</td>\n",
              "      <td>Right</td>\n",
              "      <td>Control</td>\n",
              "      <td>None</td>\n",
              "      <td>150</td>\n",
              "      <td>0.16963</td>\n",
              "      <td>0.16963</td>\n",
              "      <td>/root/nilearn_data/cobre/fmri_0040002.nii.gz</td>\n",
              "    </tr>\n",
              "    <tr>\n",
              "      <th>2</th>\n",
              "      <td>40046</td>\n",
              "      <td>18</td>\n",
              "      <td>Male</td>\n",
              "      <td>Left</td>\n",
              "      <td>Patient</td>\n",
              "      <td>295.70 depressed type</td>\n",
              "      <td>76</td>\n",
              "      <td>0.37504</td>\n",
              "      <td>0.30042</td>\n",
              "      <td>/root/nilearn_data/cobre/fmri_0040117.nii.gz</td>\n",
              "    </tr>\n",
              "    <tr>\n",
              "      <th>3</th>\n",
              "      <td>40002</td>\n",
              "      <td>19</td>\n",
              "      <td>Male</td>\n",
              "      <td>Right</td>\n",
              "      <td>Patient</td>\n",
              "      <td>295.3</td>\n",
              "      <td>67</td>\n",
              "      <td>0.40006</td>\n",
              "      <td>0.21575</td>\n",
              "      <td>/root/nilearn_data/cobre/fmri_0040145.nii.gz</td>\n",
              "    </tr>\n",
              "    <tr>\n",
              "      <th>4</th>\n",
              "      <td>40117</td>\n",
              "      <td>19</td>\n",
              "      <td>Male</td>\n",
              "      <td>Right</td>\n",
              "      <td>Patient</td>\n",
              "      <td>295.3</td>\n",
              "      <td>133</td>\n",
              "      <td>0.20975</td>\n",
              "      <td>0.18410</td>\n",
              "      <td>/root/nilearn_data/cobre/fmri_0040000.nii.gz</td>\n",
              "    </tr>\n",
              "    <tr>\n",
              "      <th>...</th>\n",
              "      <td>...</td>\n",
              "      <td>...</td>\n",
              "      <td>...</td>\n",
              "      <td>...</td>\n",
              "      <td>...</td>\n",
              "      <td>...</td>\n",
              "      <td>...</td>\n",
              "      <td>...</td>\n",
              "      <td>...</td>\n",
              "      <td>...</td>\n",
              "    </tr>\n",
              "    <tr>\n",
              "      <th>141</th>\n",
              "      <td>40089</td>\n",
              "      <td>62</td>\n",
              "      <td>Male</td>\n",
              "      <td>Right</td>\n",
              "      <td>Patient</td>\n",
              "      <td>295.3</td>\n",
              "      <td>40</td>\n",
              "      <td>0.70368</td>\n",
              "      <td>0.72439</td>\n",
              "      <td>/root/nilearn_data/cobre/fmri_0040144.nii.gz</td>\n",
              "    </tr>\n",
              "    <tr>\n",
              "      <th>142</th>\n",
              "      <td>40040</td>\n",
              "      <td>63</td>\n",
              "      <td>Male</td>\n",
              "      <td>Right</td>\n",
              "      <td>Patient</td>\n",
              "      <td>295.3</td>\n",
              "      <td>42</td>\n",
              "      <td>0.58301</td>\n",
              "      <td>0.40646</td>\n",
              "      <td>/root/nilearn_data/cobre/fmri_0040069.nii.gz</td>\n",
              "    </tr>\n",
              "    <tr>\n",
              "      <th>143</th>\n",
              "      <td>40028</td>\n",
              "      <td>64</td>\n",
              "      <td>Male</td>\n",
              "      <td>Right</td>\n",
              "      <td>Patient</td>\n",
              "      <td>295.3</td>\n",
              "      <td>55</td>\n",
              "      <td>0.42364</td>\n",
              "      <td>0.26393</td>\n",
              "      <td>/root/nilearn_data/cobre/fmri_0040111.nii.gz</td>\n",
              "    </tr>\n",
              "    <tr>\n",
              "      <th>144</th>\n",
              "      <td>40086</td>\n",
              "      <td>65</td>\n",
              "      <td>Male</td>\n",
              "      <td>Right</td>\n",
              "      <td>Control</td>\n",
              "      <td>None</td>\n",
              "      <td>48</td>\n",
              "      <td>0.39595</td>\n",
              "      <td>0.32296</td>\n",
              "      <td>/root/nilearn_data/cobre/fmri_0040066.nii.gz</td>\n",
              "    </tr>\n",
              "    <tr>\n",
              "      <th>145</th>\n",
              "      <td>40007</td>\n",
              "      <td>65</td>\n",
              "      <td>Female</td>\n",
              "      <td>Right</td>\n",
              "      <td>Patient</td>\n",
              "      <td>295.3</td>\n",
              "      <td>40</td>\n",
              "      <td>0.70044</td>\n",
              "      <td>0.72077</td>\n",
              "      <td>/root/nilearn_data/cobre/fmri_0040086.nii.gz</td>\n",
              "    </tr>\n",
              "  </tbody>\n",
              "</table>\n",
              "<p>146 rows × 10 columns</p>\n",
              "</div>"
            ],
            "text/plain": [
              "        id  ...                                          path\n",
              "0    40061  ...  /root/nilearn_data/cobre/fmri_0040046.nii.gz\n",
              "1    40090  ...  /root/nilearn_data/cobre/fmri_0040002.nii.gz\n",
              "2    40046  ...  /root/nilearn_data/cobre/fmri_0040117.nii.gz\n",
              "3    40002  ...  /root/nilearn_data/cobre/fmri_0040145.nii.gz\n",
              "4    40117  ...  /root/nilearn_data/cobre/fmri_0040000.nii.gz\n",
              "..     ...  ...                                           ...\n",
              "141  40089  ...  /root/nilearn_data/cobre/fmri_0040144.nii.gz\n",
              "142  40040  ...  /root/nilearn_data/cobre/fmri_0040069.nii.gz\n",
              "143  40028  ...  /root/nilearn_data/cobre/fmri_0040111.nii.gz\n",
              "144  40086  ...  /root/nilearn_data/cobre/fmri_0040066.nii.gz\n",
              "145  40007  ...  /root/nilearn_data/cobre/fmri_0040086.nii.gz\n",
              "\n",
              "[146 rows x 10 columns]"
            ]
          },
          "metadata": {},
          "execution_count": 7
        }
      ]
    },
    {
      "cell_type": "markdown",
      "metadata": {
        "id": "pU__-2ElgeWA"
      },
      "source": [
        "**Dataset Information**"
      ]
    },
    {
      "cell_type": "code",
      "metadata": {
        "colab": {
          "base_uri": "https://localhost:8080/"
        },
        "id": "1cgpbNeUmwTc",
        "outputId": "e0b448dc-d211-43dd-a480-a1c56518c7d9"
      },
      "source": [
        "pheno.info()"
      ],
      "execution_count": 9,
      "outputs": [
        {
          "output_type": "stream",
          "name": "stdout",
          "text": [
            "<class 'pandas.core.frame.DataFrame'>\n",
            "Int64Index: 146 entries, 0 to 145\n",
            "Data columns (total 10 columns):\n",
            " #   Column        Non-Null Count  Dtype  \n",
            "---  ------        --------------  -----  \n",
            " 0   id            146 non-null    int64  \n",
            " 1   current_age   146 non-null    int64  \n",
            " 2   gender        146 non-null    object \n",
            " 3   handedness    146 non-null    object \n",
            " 4   subject_type  146 non-null    object \n",
            " 5   diagnosis     146 non-null    object \n",
            " 6   frames_ok     146 non-null    int64  \n",
            " 7   fd            146 non-null    float64\n",
            " 8   fd_scrubbed   146 non-null    float64\n",
            " 9   path          146 non-null    object \n",
            "dtypes: float64(2), int64(3), object(5)\n",
            "memory usage: 12.5+ KB\n"
          ]
        }
      ]
    },
    {
      "cell_type": "markdown",
      "metadata": {
        "id": "5qzCxS_ugiu7"
      },
      "source": [
        "**Dataset Description**"
      ]
    },
    {
      "cell_type": "code",
      "metadata": {
        "colab": {
          "base_uri": "https://localhost:8080/",
          "height": 294
        },
        "id": "Rt73BYunm1su",
        "outputId": "7a5876b2-ed8d-4090-d25d-dbca795e50fc"
      },
      "source": [
        "pheno.describe()"
      ],
      "execution_count": 10,
      "outputs": [
        {
          "output_type": "execute_result",
          "data": {
            "text/html": [
              "<div>\n",
              "<style scoped>\n",
              "    .dataframe tbody tr th:only-of-type {\n",
              "        vertical-align: middle;\n",
              "    }\n",
              "\n",
              "    .dataframe tbody tr th {\n",
              "        vertical-align: top;\n",
              "    }\n",
              "\n",
              "    .dataframe thead th {\n",
              "        text-align: right;\n",
              "    }\n",
              "</style>\n",
              "<table border=\"1\" class=\"dataframe\">\n",
              "  <thead>\n",
              "    <tr style=\"text-align: right;\">\n",
              "      <th></th>\n",
              "      <th>id</th>\n",
              "      <th>current_age</th>\n",
              "      <th>frames_ok</th>\n",
              "      <th>fd</th>\n",
              "      <th>fd_scrubbed</th>\n",
              "    </tr>\n",
              "  </thead>\n",
              "  <tbody>\n",
              "    <tr>\n",
              "      <th>count</th>\n",
              "      <td>146.000000</td>\n",
              "      <td>146.000000</td>\n",
              "      <td>146.000000</td>\n",
              "      <td>146.000000</td>\n",
              "      <td>146.000000</td>\n",
              "    </tr>\n",
              "    <tr>\n",
              "      <th>mean</th>\n",
              "      <td>40073.458904</td>\n",
              "      <td>36.979452</td>\n",
              "      <td>91.500000</td>\n",
              "      <td>0.396731</td>\n",
              "      <td>0.337393</td>\n",
              "    </tr>\n",
              "    <tr>\n",
              "      <th>std</th>\n",
              "      <td>43.154434</td>\n",
              "      <td>12.783324</td>\n",
              "      <td>41.724755</td>\n",
              "      <td>0.235578</td>\n",
              "      <td>0.264773</td>\n",
              "    </tr>\n",
              "    <tr>\n",
              "      <th>min</th>\n",
              "      <td>40000.000000</td>\n",
              "      <td>18.000000</td>\n",
              "      <td>40.000000</td>\n",
              "      <td>0.125060</td>\n",
              "      <td>0.125060</td>\n",
              "    </tr>\n",
              "    <tr>\n",
              "      <th>25%</th>\n",
              "      <td>40036.250000</td>\n",
              "      <td>26.000000</td>\n",
              "      <td>42.000000</td>\n",
              "      <td>0.223417</td>\n",
              "      <td>0.195052</td>\n",
              "    </tr>\n",
              "    <tr>\n",
              "      <th>50%</th>\n",
              "      <td>40073.500000</td>\n",
              "      <td>35.000000</td>\n",
              "      <td>88.000000</td>\n",
              "      <td>0.342445</td>\n",
              "      <td>0.255735</td>\n",
              "    </tr>\n",
              "    <tr>\n",
              "      <th>75%</th>\n",
              "      <td>40110.750000</td>\n",
              "      <td>48.000000</td>\n",
              "      <td>130.000000</td>\n",
              "      <td>0.470095</td>\n",
              "      <td>0.326507</td>\n",
              "    </tr>\n",
              "    <tr>\n",
              "      <th>max</th>\n",
              "      <td>40147.000000</td>\n",
              "      <td>65.000000</td>\n",
              "      <td>150.000000</td>\n",
              "      <td>1.624900</td>\n",
              "      <td>1.995000</td>\n",
              "    </tr>\n",
              "  </tbody>\n",
              "</table>\n",
              "</div>"
            ],
            "text/plain": [
              "                 id  current_age   frames_ok          fd  fd_scrubbed\n",
              "count    146.000000   146.000000  146.000000  146.000000   146.000000\n",
              "mean   40073.458904    36.979452   91.500000    0.396731     0.337393\n",
              "std       43.154434    12.783324   41.724755    0.235578     0.264773\n",
              "min    40000.000000    18.000000   40.000000    0.125060     0.125060\n",
              "25%    40036.250000    26.000000   42.000000    0.223417     0.195052\n",
              "50%    40073.500000    35.000000   88.000000    0.342445     0.255735\n",
              "75%    40110.750000    48.000000  130.000000    0.470095     0.326507\n",
              "max    40147.000000    65.000000  150.000000    1.624900     1.995000"
            ]
          },
          "metadata": {},
          "execution_count": 10
        }
      ]
    },
    {
      "cell_type": "markdown",
      "metadata": {
        "id": "rE72VrDxgntT"
      },
      "source": [
        "**Check Null Values**"
      ]
    },
    {
      "cell_type": "code",
      "metadata": {
        "colab": {
          "base_uri": "https://localhost:8080/"
        },
        "id": "79Z8jnhXnpxR",
        "outputId": "5c65766a-5e5a-4b9e-9d99-81e3f8dceeb8"
      },
      "source": [
        "pheno.isna().sum()"
      ],
      "execution_count": 11,
      "outputs": [
        {
          "output_type": "execute_result",
          "data": {
            "text/plain": [
              "id              0\n",
              "current_age     0\n",
              "gender          0\n",
              "handedness      0\n",
              "subject_type    0\n",
              "diagnosis       0\n",
              "frames_ok       0\n",
              "fd              0\n",
              "fd_scrubbed     0\n",
              "path            0\n",
              "dtype: int64"
            ]
          },
          "metadata": {},
          "execution_count": 11
        }
      ]
    },
    {
      "cell_type": "markdown",
      "metadata": {
        "id": "ftQLID4wgsDL"
      },
      "source": [
        "**Unique Values in the Dataset**"
      ]
    },
    {
      "cell_type": "code",
      "metadata": {
        "colab": {
          "base_uri": "https://localhost:8080/"
        },
        "id": "Ujy38X5fnwlz",
        "outputId": "335cbdd0-8c0e-4331-bdd0-b2f55a4844bf"
      },
      "source": [
        "for i in pheno.columns:\n",
        "  print(i, pheno[i].unique())"
      ],
      "execution_count": 12,
      "outputs": [
        {
          "output_type": "stream",
          "name": "stdout",
          "text": [
            "id [40061 40090 40046 40002 40117 40145 40113 40000 40029 40133 40121 40021\n",
            " 40137 40020 40052 40065 40128 40085 40096 40122 40051 40114 40129 40022\n",
            " 40073 40142 40053 40068 40091 40135 40037 40093 40059 40072 40036 40104\n",
            " 40120 40127 40079 40080 40056 40058 40087 40115 40001 40138 40139 40003\n",
            " 40008 40011 40077 40034 40108 40017 40035 40045 40055 40014 40033 40048\n",
            " 40009 40032 40012 40067 40107 40025 40088 40109 40013 40074 40118 40147\n",
            " 40124 40141 40098 40100 40050 40057 40063 40047 40043 40136 40099 40146\n",
            " 40095 40102 40042 40075 40103 40060 40126 40024 40134 40112 40030 40031\n",
            " 40081 40110 40019 40026 40119 40049 40106 40018 40116 40130 40131 40015\n",
            " 40023 40027 40123 40125 40005 40044 40016 40092 40062 40082 40101 40132\n",
            " 40039 40071 40054 40076 40010 40097 40105 40143 40038 40140 40006 40144\n",
            " 40004 40064 40078 40094 40069 40111 40084 40066 40041 40089 40040 40028\n",
            " 40086 40007]\n",
            "current_age [18 19 20 21 22 23 24 25 26 27 28 29 30 31 32 33 34 35 36 37 38 39 40 41\n",
            " 42 43 44 46 47 48 49 50 51 52 53 54 55 56 57 58 60 62 63 64 65]\n",
            "gender ['Male' 'Female']\n",
            "handedness ['Right' 'Left' 'Both']\n",
            "subject_type ['Control' 'Patient']\n",
            "diagnosis ['None' '295.70 depressed type' '295.3' '295.6' '295.9' '295.2' '295.7'\n",
            " '295.1' '311' '296.26' '295.70 bipolar type' '290.3' '296.4' '295.92']\n",
            "frames_ok [133 150  76  67 144 126 140 125 118 145 114 117 135 122 120  40  87  44\n",
            " 130  49 108 127 123 128 137 134 119  77  42  61  68  92 104  73 139 106\n",
            "  80  60 131 102  84  88  66 129  41  63  94 116 124  83  43  55 121  65\n",
            " 109  50  48]\n",
            "fd [0.25512 0.16963 0.37504 0.40006 0.20975 0.16429 0.19962 0.21234 0.24732\n",
            " 0.2999  0.25869 0.30954 0.29161 0.20898 0.2513  0.22359 0.54862 0.46104\n",
            " 0.6207  0.21948 0.16916 0.41307 0.32753 0.24566 0.60657 0.27772 0.20612\n",
            " 0.2173  0.17093 0.14645 0.30658 0.18575 0.18168 0.36038 0.18557 0.24188\n",
            " 0.22336 0.44118 0.65635 0.34153 0.58427 0.34268 0.12506 0.15655 1.4742\n",
            " 0.29143 0.1618  0.38006 0.34424 0.91389 0.18998 0.37617 0.21887 0.33847\n",
            " 0.26599 0.2134  0.3229  0.37479 0.16199 0.25954 0.74579 0.18982 0.47137\n",
            " 0.17101 0.39038 0.45623 1.6249  0.35142 0.21028 0.5038  0.21138 0.28917\n",
            " 0.24932 0.38611 0.3089  0.53406 0.2315  0.386   0.14487 0.32137 0.20795\n",
            " 0.74496 0.49133 0.23899 0.60893 0.24834 0.40782 0.63283 0.18647 0.82794\n",
            " 0.42124 0.85918 0.20061 0.36911 0.62152 0.56666 0.37463 0.45515 0.2572\n",
            " 0.61259 0.34221 0.69799 0.18579 0.26954 0.36441 0.19747 0.37017 0.46477\n",
            " 0.19415 0.25987 0.18028 0.39807 0.95485 0.50784 0.92654 0.3837  0.21444\n",
            " 0.46627 0.48589 0.3352  0.80609 0.79009 0.45838 0.40177 0.30325 0.56275\n",
            " 0.70647 0.50056 0.4424  0.27728 0.38235 0.40327 0.20401 0.32853 0.27258\n",
            " 0.39593 0.46426 0.6121  0.99827 0.27777 0.48969 0.70368 0.58301 0.42364\n",
            " 0.39595 0.70044]\n",
            "fd_scrubbed [0.22657 0.16963 0.30042 0.21575 0.1841  0.15521 0.1579  0.20245 0.23723\n",
            " 0.18351 0.25791 0.28146 0.2102  0.19203 0.22395 0.16432 0.43736 0.14984\n",
            " 0.30721 0.18048 0.1643  0.29275 0.2889  0.18068 0.50509 0.23005 0.13628\n",
            " 0.19019 0.1538  0.13457 0.26472 0.18575 0.17674 0.25813 0.18557 0.23106\n",
            " 0.15925 0.31396 0.2982  0.27562 0.24754 0.22976 0.12506 0.15085 1.6213\n",
            " 0.24424 0.1618  0.23088 0.22329 0.97531 0.18584 0.28342 0.14502 0.24309\n",
            " 0.23136 0.1963  0.26254 0.30023 0.16199 0.20885 0.83253 0.18381 0.32061\n",
            " 0.17101 0.29359 0.23537 1.995   0.32788 0.19575 0.40084 0.17856 0.22969\n",
            " 0.22583 0.24044 0.28621 0.42236 0.22038 0.27416 0.14487 0.25356 0.20795\n",
            " 0.81228 0.24305 0.23899 0.64667 0.22769 0.33002 0.50345 0.17775 0.43365\n",
            " 0.2928  0.9328  0.19482 0.29211 0.51788 0.47594 0.32208 0.38546 0.20713\n",
            " 0.46797 0.26478 0.75885 0.16822 0.19725 0.27333 0.17862 0.21213 0.40612\n",
            " 0.16827 0.2296  0.17286 0.2608  0.99867 0.44061 0.99456 0.28436 0.21444\n",
            " 0.32769 0.31121 0.25822 0.88386 0.84431 0.28347 0.28988 0.18095 0.62827\n",
            " 0.61457 0.46866 0.28167 0.27424 0.20964 0.29335 0.12937 0.26428 0.23321\n",
            " 0.29667 0.50447 0.58886 0.99949 0.24623 0.35007 0.72439 0.40646 0.26393\n",
            " 0.32296 0.72077]\n",
            "path ['/root/nilearn_data/cobre/fmri_0040046.nii.gz'\n",
            " '/root/nilearn_data/cobre/fmri_0040002.nii.gz'\n",
            " '/root/nilearn_data/cobre/fmri_0040117.nii.gz'\n",
            " '/root/nilearn_data/cobre/fmri_0040145.nii.gz'\n",
            " '/root/nilearn_data/cobre/fmri_0040000.nii.gz'\n",
            " '/root/nilearn_data/cobre/fmri_0040029.nii.gz'\n",
            " '/root/nilearn_data/cobre/fmri_0040133.nii.gz'\n",
            " '/root/nilearn_data/cobre/fmri_0040021.nii.gz'\n",
            " '/root/nilearn_data/cobre/fmri_0040137.nii.gz'\n",
            " '/root/nilearn_data/cobre/fmri_0040085.nii.gz'\n",
            " '/root/nilearn_data/cobre/fmri_0040096.nii.gz'\n",
            " '/root/nilearn_data/cobre/fmri_0040122.nii.gz'\n",
            " '/root/nilearn_data/cobre/fmri_0040022.nii.gz'\n",
            " '/root/nilearn_data/cobre/fmri_0040073.nii.gz'\n",
            " '/root/nilearn_data/cobre/fmri_0040142.nii.gz'\n",
            " '/root/nilearn_data/cobre/fmri_0040037.nii.gz'\n",
            " '/root/nilearn_data/cobre/fmri_0040059.nii.gz'\n",
            " '/root/nilearn_data/cobre/fmri_0040072.nii.gz'\n",
            " '/root/nilearn_data/cobre/fmri_0040079.nii.gz'\n",
            " '/root/nilearn_data/cobre/fmri_0040080.nii.gz'\n",
            " '/root/nilearn_data/cobre/fmri_0040001.nii.gz'\n",
            " '/root/nilearn_data/cobre/fmri_0040003.nii.gz'\n",
            " '/root/nilearn_data/cobre/fmri_0040008.nii.gz'\n",
            " '/root/nilearn_data/cobre/fmri_0040011.nii.gz'\n",
            " '/root/nilearn_data/cobre/fmri_0040077.nii.gz'\n",
            " '/root/nilearn_data/cobre/fmri_0040034.nii.gz'\n",
            " '/root/nilearn_data/cobre/fmri_0040108.nii.gz'\n",
            " '/root/nilearn_data/cobre/fmri_0040009.nii.gz'\n",
            " '/root/nilearn_data/cobre/fmri_0040032.nii.gz'\n",
            " '/root/nilearn_data/cobre/fmri_0040012.nii.gz'\n",
            " '/root/nilearn_data/cobre/fmri_0040025.nii.gz'\n",
            " '/root/nilearn_data/cobre/fmri_0040088.nii.gz'\n",
            " '/root/nilearn_data/cobre/fmri_0040109.nii.gz'\n",
            " '/root/nilearn_data/cobre/fmri_0040098.nii.gz'\n",
            " '/root/nilearn_data/cobre/fmri_0040100.nii.gz'\n",
            " '/root/nilearn_data/cobre/fmri_0040047.nii.gz'\n",
            " '/root/nilearn_data/cobre/fmri_0040099.nii.gz'\n",
            " '/root/nilearn_data/cobre/fmri_0040042.nii.gz'\n",
            " '/root/nilearn_data/cobre/fmri_0040075.nii.gz'\n",
            " '/root/nilearn_data/cobre/fmri_0040103.nii.gz'\n",
            " '/root/nilearn_data/cobre/fmri_0040060.nii.gz'\n",
            " '/root/nilearn_data/cobre/fmri_0040126.nii.gz'\n",
            " '/root/nilearn_data/cobre/fmri_0040112.nii.gz'\n",
            " '/root/nilearn_data/cobre/fmri_0040081.nii.gz'\n",
            " '/root/nilearn_data/cobre/fmri_0040110.nii.gz'\n",
            " '/root/nilearn_data/cobre/fmri_0040049.nii.gz'\n",
            " '/root/nilearn_data/cobre/fmri_0040106.nii.gz'\n",
            " '/root/nilearn_data/cobre/fmri_0040015.nii.gz'\n",
            " '/root/nilearn_data/cobre/fmri_0040005.nii.gz'\n",
            " '/root/nilearn_data/cobre/fmri_0040044.nii.gz'\n",
            " '/root/nilearn_data/cobre/fmri_0040016.nii.gz'\n",
            " '/root/nilearn_data/cobre/fmri_0040092.nii.gz'\n",
            " '/root/nilearn_data/cobre/fmri_0040082.nii.gz'\n",
            " '/root/nilearn_data/cobre/fmri_0040101.nii.gz'\n",
            " '/root/nilearn_data/cobre/fmri_0040132.nii.gz'\n",
            " '/root/nilearn_data/cobre/fmri_0040039.nii.gz'\n",
            " '/root/nilearn_data/cobre/fmri_0040071.nii.gz'\n",
            " '/root/nilearn_data/cobre/fmri_0040010.nii.gz'\n",
            " '/root/nilearn_data/cobre/fmri_0040097.nii.gz'\n",
            " '/root/nilearn_data/cobre/fmri_0040105.nii.gz'\n",
            " '/root/nilearn_data/cobre/fmri_0040143.nii.gz'\n",
            " '/root/nilearn_data/cobre/fmri_0040006.nii.gz'\n",
            " '/root/nilearn_data/cobre/fmri_0040004.nii.gz'\n",
            " '/root/nilearn_data/cobre/fmri_0040064.nii.gz'\n",
            " '/root/nilearn_data/cobre/fmri_0040078.nii.gz'\n",
            " '/root/nilearn_data/cobre/fmri_0040094.nii.gz'\n",
            " '/root/nilearn_data/cobre/fmri_0040084.nii.gz'\n",
            " '/root/nilearn_data/cobre/fmri_0040041.nii.gz'\n",
            " '/root/nilearn_data/cobre/fmri_0040089.nii.gz'\n",
            " '/root/nilearn_data/cobre/fmri_0040040.nii.gz'\n",
            " '/root/nilearn_data/cobre/fmri_0040028.nii.gz'\n",
            " '/root/nilearn_data/cobre/fmri_0040007.nii.gz'\n",
            " '/root/nilearn_data/cobre/fmri_0040061.nii.gz'\n",
            " '/root/nilearn_data/cobre/fmri_0040090.nii.gz'\n",
            " '/root/nilearn_data/cobre/fmri_0040113.nii.gz'\n",
            " '/root/nilearn_data/cobre/fmri_0040121.nii.gz'\n",
            " '/root/nilearn_data/cobre/fmri_0040020.nii.gz'\n",
            " '/root/nilearn_data/cobre/fmri_0040052.nii.gz'\n",
            " '/root/nilearn_data/cobre/fmri_0040065.nii.gz'\n",
            " '/root/nilearn_data/cobre/fmri_0040128.nii.gz'\n",
            " '/root/nilearn_data/cobre/fmri_0040051.nii.gz'\n",
            " '/root/nilearn_data/cobre/fmri_0040114.nii.gz'\n",
            " '/root/nilearn_data/cobre/fmri_0040129.nii.gz'\n",
            " '/root/nilearn_data/cobre/fmri_0040053.nii.gz'\n",
            " '/root/nilearn_data/cobre/fmri_0040068.nii.gz'\n",
            " '/root/nilearn_data/cobre/fmri_0040091.nii.gz'\n",
            " '/root/nilearn_data/cobre/fmri_0040135.nii.gz'\n",
            " '/root/nilearn_data/cobre/fmri_0040093.nii.gz'\n",
            " '/root/nilearn_data/cobre/fmri_0040036.nii.gz'\n",
            " '/root/nilearn_data/cobre/fmri_0040104.nii.gz'\n",
            " '/root/nilearn_data/cobre/fmri_0040120.nii.gz'\n",
            " '/root/nilearn_data/cobre/fmri_0040127.nii.gz'\n",
            " '/root/nilearn_data/cobre/fmri_0040056.nii.gz'\n",
            " '/root/nilearn_data/cobre/fmri_0040058.nii.gz'\n",
            " '/root/nilearn_data/cobre/fmri_0040087.nii.gz'\n",
            " '/root/nilearn_data/cobre/fmri_0040115.nii.gz'\n",
            " '/root/nilearn_data/cobre/fmri_0040138.nii.gz'\n",
            " '/root/nilearn_data/cobre/fmri_0040139.nii.gz'\n",
            " '/root/nilearn_data/cobre/fmri_0040017.nii.gz'\n",
            " '/root/nilearn_data/cobre/fmri_0040035.nii.gz'\n",
            " '/root/nilearn_data/cobre/fmri_0040045.nii.gz'\n",
            " '/root/nilearn_data/cobre/fmri_0040055.nii.gz'\n",
            " '/root/nilearn_data/cobre/fmri_0040014.nii.gz'\n",
            " '/root/nilearn_data/cobre/fmri_0040033.nii.gz'\n",
            " '/root/nilearn_data/cobre/fmri_0040048.nii.gz'\n",
            " '/root/nilearn_data/cobre/fmri_0040067.nii.gz'\n",
            " '/root/nilearn_data/cobre/fmri_0040107.nii.gz'\n",
            " '/root/nilearn_data/cobre/fmri_0040013.nii.gz'\n",
            " '/root/nilearn_data/cobre/fmri_0040074.nii.gz'\n",
            " '/root/nilearn_data/cobre/fmri_0040118.nii.gz'\n",
            " '/root/nilearn_data/cobre/fmri_0040147.nii.gz'\n",
            " '/root/nilearn_data/cobre/fmri_0040124.nii.gz'\n",
            " '/root/nilearn_data/cobre/fmri_0040141.nii.gz'\n",
            " '/root/nilearn_data/cobre/fmri_0040050.nii.gz'\n",
            " '/root/nilearn_data/cobre/fmri_0040057.nii.gz'\n",
            " '/root/nilearn_data/cobre/fmri_0040063.nii.gz'\n",
            " '/root/nilearn_data/cobre/fmri_0040043.nii.gz'\n",
            " '/root/nilearn_data/cobre/fmri_0040136.nii.gz'\n",
            " '/root/nilearn_data/cobre/fmri_0040146.nii.gz'\n",
            " '/root/nilearn_data/cobre/fmri_0040095.nii.gz'\n",
            " '/root/nilearn_data/cobre/fmri_0040102.nii.gz'\n",
            " '/root/nilearn_data/cobre/fmri_0040024.nii.gz'\n",
            " '/root/nilearn_data/cobre/fmri_0040134.nii.gz'\n",
            " '/root/nilearn_data/cobre/fmri_0040030.nii.gz'\n",
            " '/root/nilearn_data/cobre/fmri_0040031.nii.gz'\n",
            " '/root/nilearn_data/cobre/fmri_0040019.nii.gz'\n",
            " '/root/nilearn_data/cobre/fmri_0040026.nii.gz'\n",
            " '/root/nilearn_data/cobre/fmri_0040119.nii.gz'\n",
            " '/root/nilearn_data/cobre/fmri_0040018.nii.gz'\n",
            " '/root/nilearn_data/cobre/fmri_0040116.nii.gz'\n",
            " '/root/nilearn_data/cobre/fmri_0040130.nii.gz'\n",
            " '/root/nilearn_data/cobre/fmri_0040131.nii.gz'\n",
            " '/root/nilearn_data/cobre/fmri_0040023.nii.gz'\n",
            " '/root/nilearn_data/cobre/fmri_0040027.nii.gz'\n",
            " '/root/nilearn_data/cobre/fmri_0040123.nii.gz'\n",
            " '/root/nilearn_data/cobre/fmri_0040125.nii.gz'\n",
            " '/root/nilearn_data/cobre/fmri_0040062.nii.gz'\n",
            " '/root/nilearn_data/cobre/fmri_0040054.nii.gz'\n",
            " '/root/nilearn_data/cobre/fmri_0040076.nii.gz'\n",
            " '/root/nilearn_data/cobre/fmri_0040038.nii.gz'\n",
            " '/root/nilearn_data/cobre/fmri_0040140.nii.gz'\n",
            " '/root/nilearn_data/cobre/fmri_0040144.nii.gz'\n",
            " '/root/nilearn_data/cobre/fmri_0040069.nii.gz'\n",
            " '/root/nilearn_data/cobre/fmri_0040111.nii.gz'\n",
            " '/root/nilearn_data/cobre/fmri_0040066.nii.gz'\n",
            " '/root/nilearn_data/cobre/fmri_0040086.nii.gz']\n"
          ]
        }
      ]
    },
    {
      "cell_type": "markdown",
      "metadata": {
        "id": "SM8sg2e-gzI_"
      },
      "source": [
        "**Dataset Encoding**"
      ]
    },
    {
      "cell_type": "code",
      "metadata": {
        "id": "GhkY_FteoP4D"
      },
      "source": [
        "from sklearn.preprocessing import LabelEncoder\n",
        "enc = LabelEncoder()\n",
        "for i in pheno.columns:\n",
        "  enc.fit(pheno[i])\n",
        "  pheno[i] = enc.transform(pheno[i])\n"
      ],
      "execution_count": 13,
      "outputs": []
    },
    {
      "cell_type": "code",
      "metadata": {
        "colab": {
          "base_uri": "https://localhost:8080/",
          "height": 202
        },
        "id": "YZ0hG-PfolGJ",
        "outputId": "8e7c76bc-4255-419c-9bb8-b52227e65d8a"
      },
      "source": [
        "pheno.head()"
      ],
      "execution_count": 14,
      "outputs": [
        {
          "output_type": "execute_result",
          "data": {
            "text/html": [
              "<div>\n",
              "<style scoped>\n",
              "    .dataframe tbody tr th:only-of-type {\n",
              "        vertical-align: middle;\n",
              "    }\n",
              "\n",
              "    .dataframe tbody tr th {\n",
              "        vertical-align: top;\n",
              "    }\n",
              "\n",
              "    .dataframe thead th {\n",
              "        text-align: right;\n",
              "    }\n",
              "</style>\n",
              "<table border=\"1\" class=\"dataframe\">\n",
              "  <thead>\n",
              "    <tr style=\"text-align: right;\">\n",
              "      <th></th>\n",
              "      <th>id</th>\n",
              "      <th>current_age</th>\n",
              "      <th>gender</th>\n",
              "      <th>handedness</th>\n",
              "      <th>subject_type</th>\n",
              "      <th>diagnosis</th>\n",
              "      <th>frames_ok</th>\n",
              "      <th>fd</th>\n",
              "      <th>fd_scrubbed</th>\n",
              "      <th>path</th>\n",
              "    </tr>\n",
              "  </thead>\n",
              "  <tbody>\n",
              "    <tr>\n",
              "      <th>0</th>\n",
              "      <td>61</td>\n",
              "      <td>0</td>\n",
              "      <td>1</td>\n",
              "      <td>2</td>\n",
              "      <td>0</td>\n",
              "      <td>13</td>\n",
              "      <td>48</td>\n",
              "      <td>46</td>\n",
              "      <td>53</td>\n",
              "      <td>46</td>\n",
              "    </tr>\n",
              "    <tr>\n",
              "      <th>1</th>\n",
              "      <td>88</td>\n",
              "      <td>0</td>\n",
              "      <td>0</td>\n",
              "      <td>2</td>\n",
              "      <td>0</td>\n",
              "      <td>13</td>\n",
              "      <td>56</td>\n",
              "      <td>8</td>\n",
              "      <td>18</td>\n",
              "      <td>2</td>\n",
              "    </tr>\n",
              "    <tr>\n",
              "      <th>2</th>\n",
              "      <td>46</td>\n",
              "      <td>0</td>\n",
              "      <td>1</td>\n",
              "      <td>1</td>\n",
              "      <td>1</td>\n",
              "      <td>7</td>\n",
              "      <td>17</td>\n",
              "      <td>82</td>\n",
              "      <td>102</td>\n",
              "      <td>115</td>\n",
              "    </tr>\n",
              "    <tr>\n",
              "      <th>3</th>\n",
              "      <td>2</td>\n",
              "      <td>1</td>\n",
              "      <td>1</td>\n",
              "      <td>2</td>\n",
              "      <td>1</td>\n",
              "      <td>3</td>\n",
              "      <td>14</td>\n",
              "      <td>93</td>\n",
              "      <td>48</td>\n",
              "      <td>143</td>\n",
              "    </tr>\n",
              "    <tr>\n",
              "      <th>4</th>\n",
              "      <td>115</td>\n",
              "      <td>1</td>\n",
              "      <td>1</td>\n",
              "      <td>2</td>\n",
              "      <td>1</td>\n",
              "      <td>3</td>\n",
              "      <td>48</td>\n",
              "      <td>27</td>\n",
              "      <td>30</td>\n",
              "      <td>0</td>\n",
              "    </tr>\n",
              "  </tbody>\n",
              "</table>\n",
              "</div>"
            ],
            "text/plain": [
              "    id  current_age  gender  handedness  ...  frames_ok  fd  fd_scrubbed  path\n",
              "0   61            0       1           2  ...         48  46           53    46\n",
              "1   88            0       0           2  ...         56   8           18     2\n",
              "2   46            0       1           1  ...         17  82          102   115\n",
              "3    2            1       1           2  ...         14  93           48   143\n",
              "4  115            1       1           2  ...         48  27           30     0\n",
              "\n",
              "[5 rows x 10 columns]"
            ]
          },
          "metadata": {},
          "execution_count": 14
        }
      ]
    },
    {
      "cell_type": "markdown",
      "metadata": {
        "id": "o6FeQhGyg4Qq"
      },
      "source": [
        "### **CONVOLUTIONAL NEURAL NETWORK WITH SVM**"
      ]
    },
    {
      "cell_type": "markdown",
      "metadata": {
        "id": "zCj_zhNqhKsy"
      },
      "source": [
        "**Attributes and Classes**"
      ]
    },
    {
      "cell_type": "code",
      "metadata": {
        "colab": {
          "base_uri": "https://localhost:8080/"
        },
        "id": "zQakj7vOoqH0",
        "outputId": "f47ce3d6-2b50-445d-82ae-80fbbeae5fd9"
      },
      "source": [
        "attr = pheno.iloc[:, 0 : 10]\n",
        "classes = pheno.iloc[:, 4]\n",
        "print(attr)\n",
        "print(classes)"
      ],
      "execution_count": 15,
      "outputs": [
        {
          "output_type": "stream",
          "name": "stdout",
          "text": [
            "      id  current_age  gender  handedness  ...  frames_ok   fd  fd_scrubbed  path\n",
            "0     61            0       1           2  ...         48   46           53    46\n",
            "1     88            0       0           2  ...         56    8           18     2\n",
            "2     46            0       1           1  ...         17   82          102   115\n",
            "3      2            1       1           2  ...         14   93           48   143\n",
            "4    115            1       1           2  ...         48   27           30     0\n",
            "..   ...          ...     ...         ...  ...        ...  ...          ...   ...\n",
            "141   87           41       1           2  ...          0  132          133   142\n",
            "142   40           42       1           2  ...          2  120          116    69\n",
            "143   28           43       1           2  ...          8   99           78   109\n",
            "144   84           44       1           2  ...          5   91          108    66\n",
            "145    7           44       0           2  ...          0  131          132    84\n",
            "\n",
            "[146 rows x 10 columns]\n",
            "0      0\n",
            "1      0\n",
            "2      1\n",
            "3      1\n",
            "4      1\n",
            "      ..\n",
            "141    1\n",
            "142    1\n",
            "143    1\n",
            "144    0\n",
            "145    1\n",
            "Name: subject_type, Length: 146, dtype: int64\n"
          ]
        }
      ]
    },
    {
      "cell_type": "markdown",
      "metadata": {
        "id": "Nr_ACfmvhQiP"
      },
      "source": [
        "**Import Required Libraries**"
      ]
    },
    {
      "cell_type": "code",
      "metadata": {
        "id": "16u0NnuDo5Ie"
      },
      "source": [
        "import pandas\n",
        "from sklearn.model_selection import train_test_split, cross_val_score\n",
        "from keras.models import Sequential\n",
        "from keras.layers import Dense\n",
        "from keras.wrappers.scikit_learn import KerasClassifier\n",
        "from sklearn.neural_network import MLPClassifier\n",
        "from sklearn.metrics import accuracy_score, confusion_matrix, classification_report, precision_recall_curve, roc_auc_score, roc_curve\n",
        "import matplotlib.pyplot as plot"
      ],
      "execution_count": 16,
      "outputs": []
    },
    {
      "cell_type": "markdown",
      "metadata": {
        "id": "-NEyRfo4hUkQ"
      },
      "source": [
        "**Dataset Splitting**"
      ]
    },
    {
      "cell_type": "code",
      "metadata": {
        "colab": {
          "base_uri": "https://localhost:8080/"
        },
        "id": "-2qBiRvRoyaf",
        "outputId": "9938ba67-3848-4b86-f837-fecde7bb7205"
      },
      "source": [
        "x_train, x_test, y_train, y_test = train_test_split(attr, classes, test_size = 0.8, random_state = 100)\n",
        "\n",
        "print(\"Train Set\\n\", x_train)\n",
        "print(\"\\nTest Set\\n\", x_test)"
      ],
      "execution_count": 17,
      "outputs": [
        {
          "output_type": "stream",
          "name": "stdout",
          "text": [
            "Train Set\n",
            "       id  current_age  gender  handedness  ...  frames_ok   fd  fd_scrubbed  path\n",
            "100  117           26       0           2  ...         22   72           81    45\n",
            "83   144           21       1           2  ...         56   39           65    53\n",
            "117   81           31       1           2  ...          2  108          109   134\n",
            "13    20            4       1           2  ...         50   26           35    72\n",
            "1     88            0       0           2  ...         56    8           18     2\n",
            "31    91            7       1           2  ...         56   14           32    86\n",
            "4    115            1       1           2  ...         48   27           30     0\n",
            "108   23           29       1           2  ...         40   19           17    73\n",
            "27    68            6       0           2  ...         44   33           34     9\n",
            "2     46            0       1           1  ...         17   82          102   115\n",
            "86    42           22       0           2  ...          1   96          111   133\n",
            "93   110           24       1           2  ...          9   78           94    58\n",
            "58    33           13       0           2  ...         56    5           13    95\n",
            "60     9           13       0           2  ...          0  135          136   141\n",
            "107   15           28       1           2  ...          0  107          115    13\n",
            "144   84           44       1           2  ...          5   91          108    66\n",
            "34    36            8       1           0  ...         56   13           31    98\n",
            "14    52            4       0           2  ...         38   45           51   140\n",
            "66    86           15       0           2  ...          0  145          145    82\n",
            "53    17           12       0           2  ...         16   70           68    99\n",
            "98    19           26       1           2  ...         35   47           41    17\n",
            "94    30           25       1           2  ...          0  127          127    85\n",
            "138   82           40       1           2  ...          0  143          143    75\n",
            "79    47           19       1           2  ...         23   65           72   126\n",
            "87    74           22       1           2  ...          0  128          124    91\n",
            "103   18           28       1           2  ...         32   52           39    33\n",
            "67   107           15       1           2  ...         19   75          110    41\n",
            "24    72            5       1           2  ...          0  122          126    76\n",
            "8     29            2       1           2  ...         41   42           64   135\n",
            "\n",
            "[29 rows x 10 columns]\n",
            "\n",
            "Test Set\n",
            "       id  current_age  gender  handedness  ...  frames_ok   fd  fd_scrubbed  path\n",
            "75    98           17       1           2  ...          0  116          117   119\n",
            "28    89            6       1           2  ...         51    9            8    32\n",
            "41    58            9       0           2  ...         24   73           57   124\n",
            "46   137           10       0           2  ...         56    4           12   104\n",
            "40    56            9       1           2  ...          2  121           71    60\n",
            "..   ...          ...     ...         ...  ...        ...  ...          ...   ...\n",
            "7      0            2       0           2  ...         53   30           40    21\n",
            "143   28           43       1           2  ...          8   99           78   109\n",
            "59    48           13       1           2  ...         39   49           43   103\n",
            "91    24           24       1           2  ...          0  139          139   125\n",
            "123   75           33       1           2  ...         16   94           93    30\n",
            "\n",
            "[117 rows x 10 columns]\n"
          ]
        }
      ]
    },
    {
      "cell_type": "markdown",
      "metadata": {
        "id": "4-rKvh2LhanO"
      },
      "source": [
        "**CNN WITH LAST LAYER AS SVM**"
      ]
    },
    {
      "cell_type": "code",
      "metadata": {
        "id": "eIya2f8rCzF7"
      },
      "source": [
        "import tensorflow as tf\n",
        "from tensorflow.keras.preprocessing.image import ImageDataGenerator\n",
        "\n",
        "def build_classifier():\n",
        "    classifier = Sequential()\n",
        "    classifier.add(Dense(units = 6, kernel_initializer=\"uniform\", activation=\"relu\", input_dim = x_train.shape[1]))\n",
        "    classifier.add(Dense(units = 6, kernel_initializer=\"uniform\", activation=\"relu\"))\n",
        "    classifier.add(Dense(units = 6, kernel_initializer=\"uniform\", activation=\"softplus\"))\n",
        "    classifier.add(Dense(units = 1, kernel_initializer=\"uniform\", activation=\"sigmoid\"))\n",
        "    classifier.add(Dense(1, kernel_regularizer=tf.keras.regularizers.l2(0.01),activation ='linear',kernel_initializer=\"he_normal\"))\n",
        "\n",
        "    classifier.compile(optimizer = \"adam\", loss = \"hinge\", metrics = [\"accuracy\"])\n",
        "    return classifier"
      ],
      "execution_count": 18,
      "outputs": []
    },
    {
      "cell_type": "code",
      "metadata": {
        "colab": {
          "base_uri": "https://localhost:8080/"
        },
        "id": "lAz7DKeSpCCO",
        "outputId": "172e4b2c-c61f-47ec-bdaa-f5f455b85548"
      },
      "source": [
        "classifier = KerasClassifier(build_fn = build_classifier, epochs = 10, batch_size = 100)\n",
        "accur = cross_val_score(estimator = classifier, X = x_train, y = y_train, cv = 5)\n",
        "print(\"Accuracy mean : \", accur.mean())\n",
        "print(\"Accuracy variance : \", accur.std())"
      ],
      "execution_count": 19,
      "outputs": [
        {
          "output_type": "stream",
          "name": "stdout",
          "text": [
            "Epoch 1/10\n",
            "1/1 [==============================] - 1s 956ms/step - loss: 1.4545 - accuracy: 0.4348\n",
            "Epoch 2/10\n",
            "1/1 [==============================] - 0s 7ms/step - loss: 1.4514 - accuracy: 0.4348\n",
            "Epoch 3/10\n",
            "1/1 [==============================] - 0s 6ms/step - loss: 1.4484 - accuracy: 0.4348\n",
            "Epoch 4/10\n",
            "1/1 [==============================] - 0s 12ms/step - loss: 1.4453 - accuracy: 0.4348\n",
            "Epoch 5/10\n",
            "1/1 [==============================] - 0s 10ms/step - loss: 1.4422 - accuracy: 0.4348\n",
            "Epoch 6/10\n",
            "1/1 [==============================] - 0s 7ms/step - loss: 1.4392 - accuracy: 0.4348\n",
            "Epoch 7/10\n",
            "1/1 [==============================] - 0s 6ms/step - loss: 1.4361 - accuracy: 0.4348\n",
            "Epoch 8/10\n",
            "1/1 [==============================] - 0s 9ms/step - loss: 1.4330 - accuracy: 0.4348\n",
            "Epoch 9/10\n",
            "1/1 [==============================] - 0s 7ms/step - loss: 1.4299 - accuracy: 0.4348\n",
            "Epoch 10/10\n",
            "1/1 [==============================] - 0s 5ms/step - loss: 1.4268 - accuracy: 0.4348\n",
            "1/1 [==============================] - 0s 166ms/step - loss: 0.4790 - accuracy: 0.8333\n",
            "Epoch 1/10\n",
            "1/1 [==============================] - 1s 520ms/step - loss: 1.0315 - accuracy: 0.5652\n",
            "Epoch 2/10\n",
            "1/1 [==============================] - 0s 4ms/step - loss: 1.0312 - accuracy: 0.5652\n",
            "Epoch 3/10\n",
            "1/1 [==============================] - 0s 5ms/step - loss: 1.0309 - accuracy: 0.5652\n",
            "Epoch 4/10\n",
            "1/1 [==============================] - 0s 8ms/step - loss: 1.0307 - accuracy: 0.5652\n",
            "Epoch 5/10\n",
            "1/1 [==============================] - 0s 7ms/step - loss: 1.0304 - accuracy: 0.5652\n",
            "Epoch 6/10\n",
            "1/1 [==============================] - 0s 7ms/step - loss: 1.0301 - accuracy: 0.5652\n",
            "Epoch 7/10\n",
            "1/1 [==============================] - 0s 5ms/step - loss: 1.0298 - accuracy: 0.5652\n",
            "Epoch 8/10\n",
            "1/1 [==============================] - 0s 7ms/step - loss: 1.0295 - accuracy: 0.5652\n",
            "Epoch 9/10\n",
            "1/1 [==============================] - 0s 7ms/step - loss: 1.0293 - accuracy: 0.5652\n",
            "Epoch 10/10\n",
            "1/1 [==============================] - 0s 3ms/step - loss: 1.0290 - accuracy: 0.5652\n",
            "1/1 [==============================] - 0s 148ms/step - loss: 0.9334 - accuracy: 0.3333\n",
            "Epoch 1/10\n",
            "1/1 [==============================] - 1s 509ms/step - loss: 1.0025 - accuracy: 0.4783\n",
            "Epoch 2/10\n",
            "1/1 [==============================] - 0s 7ms/step - loss: 1.0024 - accuracy: 0.4783\n",
            "Epoch 3/10\n",
            "1/1 [==============================] - 0s 4ms/step - loss: 1.0024 - accuracy: 0.4783\n",
            "Epoch 4/10\n",
            "1/1 [==============================] - 0s 7ms/step - loss: 1.0023 - accuracy: 0.4783\n",
            "Epoch 5/10\n",
            "1/1 [==============================] - 0s 10ms/step - loss: 1.0022 - accuracy: 0.4783\n",
            "Epoch 6/10\n",
            "1/1 [==============================] - 0s 5ms/step - loss: 1.0021 - accuracy: 0.4783\n",
            "Epoch 7/10\n",
            "1/1 [==============================] - 0s 4ms/step - loss: 1.0021 - accuracy: 0.4783\n",
            "Epoch 8/10\n",
            "1/1 [==============================] - 0s 6ms/step - loss: 1.0020 - accuracy: 0.4783\n",
            "Epoch 9/10\n",
            "1/1 [==============================] - 0s 5ms/step - loss: 1.0019 - accuracy: 0.4783\n",
            "Epoch 10/10\n",
            "1/1 [==============================] - 0s 5ms/step - loss: 1.0019 - accuracy: 0.4783\n",
            "1/1 [==============================] - 0s 153ms/step - loss: 0.9872 - accuracy: 0.6667\n",
            "Epoch 1/10\n",
            "1/1 [==============================] - 1s 518ms/step - loss: 0.9909 - accuracy: 0.5217\n",
            "Epoch 2/10\n",
            "1/1 [==============================] - 0s 7ms/step - loss: 0.9908 - accuracy: 0.5217\n",
            "Epoch 3/10\n",
            "1/1 [==============================] - 0s 7ms/step - loss: 0.9907 - accuracy: 0.5217\n",
            "Epoch 4/10\n",
            "1/1 [==============================] - 0s 10ms/step - loss: 0.9906 - accuracy: 0.5217\n",
            "Epoch 5/10\n",
            "1/1 [==============================] - 0s 7ms/step - loss: 0.9905 - accuracy: 0.5217\n",
            "Epoch 6/10\n",
            "1/1 [==============================] - 0s 9ms/step - loss: 0.9904 - accuracy: 0.5217\n",
            "Epoch 7/10\n",
            "1/1 [==============================] - 0s 9ms/step - loss: 0.9903 - accuracy: 0.5217\n",
            "Epoch 8/10\n",
            "1/1 [==============================] - 0s 13ms/step - loss: 0.9902 - accuracy: 0.5217\n",
            "Epoch 9/10\n",
            "1/1 [==============================] - 0s 10ms/step - loss: 0.9901 - accuracy: 0.5217\n",
            "Epoch 10/10\n",
            "1/1 [==============================] - 0s 15ms/step - loss: 0.9900 - accuracy: 0.5217\n",
            "1/1 [==============================] - 0s 159ms/step - loss: 1.0036 - accuracy: 0.5000\n",
            "Epoch 1/10\n",
            "1/1 [==============================] - 1s 512ms/step - loss: 1.0331 - accuracy: 0.5833\n",
            "Epoch 2/10\n",
            "1/1 [==============================] - 0s 5ms/step - loss: 1.0327 - accuracy: 0.5833\n",
            "Epoch 3/10\n",
            "1/1 [==============================] - 0s 6ms/step - loss: 1.0324 - accuracy: 0.5833\n",
            "Epoch 4/10\n",
            "1/1 [==============================] - 0s 5ms/step - loss: 1.0320 - accuracy: 0.5833\n",
            "Epoch 5/10\n",
            "1/1 [==============================] - 0s 5ms/step - loss: 1.0317 - accuracy: 0.5833\n",
            "Epoch 6/10\n",
            "1/1 [==============================] - 0s 5ms/step - loss: 1.0313 - accuracy: 0.5833\n",
            "Epoch 7/10\n",
            "1/1 [==============================] - 0s 4ms/step - loss: 1.0310 - accuracy: 0.5833\n",
            "Epoch 8/10\n",
            "1/1 [==============================] - 0s 4ms/step - loss: 1.0306 - accuracy: 0.5833\n",
            "Epoch 9/10\n",
            "1/1 [==============================] - 0s 4ms/step - loss: 1.0303 - accuracy: 0.5833\n",
            "Epoch 10/10\n",
            "1/1 [==============================] - 0s 3ms/step - loss: 1.0300 - accuracy: 0.5833\n",
            "WARNING:tensorflow:5 out of the last 5 calls to <function Model.make_test_function.<locals>.test_function at 0x7f4b2d1990e0> triggered tf.function retracing. Tracing is expensive and the excessive number of tracings could be due to (1) creating @tf.function repeatedly in a loop, (2) passing tensors with different shapes, (3) passing Python objects instead of tensors. For (1), please define your @tf.function outside of the loop. For (2), @tf.function has experimental_relax_shapes=True option that relaxes argument shapes that can avoid unnecessary retracing. For (3), please refer to https://www.tensorflow.org/guide/function#controlling_retracing and https://www.tensorflow.org/api_docs/python/tf/function for  more details.\n",
            "1/1 [==============================] - 0s 145ms/step - loss: 0.8989 - accuracy: 0.2000\n",
            "Accuracy mean :  0.5066666692495346\n",
            "Accuracy variance :  0.22647049810074923\n"
          ]
        }
      ]
    },
    {
      "cell_type": "code",
      "metadata": {
        "colab": {
          "base_uri": "https://localhost:8080/"
        },
        "id": "kKPPLWhNpGa2",
        "outputId": "c410398c-95ff-4085-9a9d-c535c48b486c"
      },
      "source": [
        "hist = classifier.fit(x_test, y_test, validation_split = 0.2, epochs = 100, batch_size = 10, verbose = 1)"
      ],
      "execution_count": 20,
      "outputs": [
        {
          "output_type": "stream",
          "name": "stdout",
          "text": [
            "Epoch 1/100\n",
            " 1/10 [==>...........................] - ETA: 6s - loss: 1.0135 - accuracy: 0.5000WARNING:tensorflow:6 out of the last 6 calls to <function Model.make_test_function.<locals>.test_function at 0x7f4b2d3507a0> triggered tf.function retracing. Tracing is expensive and the excessive number of tracings could be due to (1) creating @tf.function repeatedly in a loop, (2) passing tensors with different shapes, (3) passing Python objects instead of tensors. For (1), please define your @tf.function outside of the loop. For (2), @tf.function has experimental_relax_shapes=True option that relaxes argument shapes that can avoid unnecessary retracing. For (3), please refer to https://www.tensorflow.org/guide/function#controlling_retracing and https://www.tensorflow.org/api_docs/python/tf/function for  more details.\n",
            "10/10 [==============================] - 1s 22ms/step - loss: 1.0203 - accuracy: 0.4946 - val_loss: 1.0136 - val_accuracy: 0.5000\n",
            "Epoch 2/100\n",
            "10/10 [==============================] - 0s 4ms/step - loss: 1.0200 - accuracy: 0.4946 - val_loss: 1.0135 - val_accuracy: 0.5000\n",
            "Epoch 3/100\n",
            "10/10 [==============================] - 0s 4ms/step - loss: 1.0197 - accuracy: 0.4946 - val_loss: 1.0134 - val_accuracy: 0.5000\n",
            "Epoch 4/100\n",
            "10/10 [==============================] - 0s 4ms/step - loss: 1.0194 - accuracy: 0.4946 - val_loss: 1.0133 - val_accuracy: 0.5000\n",
            "Epoch 5/100\n",
            "10/10 [==============================] - 0s 4ms/step - loss: 1.0189 - accuracy: 0.4946 - val_loss: 1.0132 - val_accuracy: 0.5000\n",
            "Epoch 6/100\n",
            "10/10 [==============================] - 0s 4ms/step - loss: 1.0182 - accuracy: 0.4946 - val_loss: 1.0128 - val_accuracy: 0.5000\n",
            "Epoch 7/100\n",
            "10/10 [==============================] - 0s 4ms/step - loss: 1.0171 - accuracy: 0.4946 - val_loss: 1.0123 - val_accuracy: 0.5000\n",
            "Epoch 8/100\n",
            "10/10 [==============================] - 0s 4ms/step - loss: 1.0130 - accuracy: 0.4946 - val_loss: 1.0111 - val_accuracy: 0.5000\n",
            "Epoch 9/100\n",
            "10/10 [==============================] - 0s 3ms/step - loss: 1.0065 - accuracy: 0.4946 - val_loss: 1.0092 - val_accuracy: 0.5000\n",
            "Epoch 10/100\n",
            "10/10 [==============================] - 0s 4ms/step - loss: 0.9979 - accuracy: 0.4946 - val_loss: 1.0055 - val_accuracy: 0.5000\n",
            "Epoch 11/100\n",
            "10/10 [==============================] - 0s 4ms/step - loss: 0.9855 - accuracy: 0.4946 - val_loss: 0.9998 - val_accuracy: 0.5000\n",
            "Epoch 12/100\n",
            "10/10 [==============================] - 0s 4ms/step - loss: 0.9705 - accuracy: 0.4946 - val_loss: 0.9946 - val_accuracy: 0.5000\n",
            "Epoch 13/100\n",
            "10/10 [==============================] - 0s 4ms/step - loss: 0.9664 - accuracy: 0.4946 - val_loss: 0.9911 - val_accuracy: 0.5000\n",
            "Epoch 14/100\n",
            "10/10 [==============================] - 0s 4ms/step - loss: 0.9612 - accuracy: 0.4946 - val_loss: 0.9882 - val_accuracy: 0.5000\n",
            "Epoch 15/100\n",
            "10/10 [==============================] - 0s 4ms/step - loss: 0.9579 - accuracy: 0.4946 - val_loss: 0.9847 - val_accuracy: 0.5000\n",
            "Epoch 16/100\n",
            "10/10 [==============================] - 0s 4ms/step - loss: 0.9533 - accuracy: 0.4946 - val_loss: 0.9824 - val_accuracy: 0.5000\n",
            "Epoch 17/100\n",
            "10/10 [==============================] - 0s 4ms/step - loss: 0.9499 - accuracy: 0.4946 - val_loss: 0.9803 - val_accuracy: 0.5000\n",
            "Epoch 18/100\n",
            "10/10 [==============================] - 0s 4ms/step - loss: 0.9461 - accuracy: 0.4946 - val_loss: 0.9781 - val_accuracy: 0.5000\n",
            "Epoch 19/100\n",
            "10/10 [==============================] - 0s 6ms/step - loss: 0.9423 - accuracy: 0.4946 - val_loss: 0.9754 - val_accuracy: 0.5000\n",
            "Epoch 20/100\n",
            "10/10 [==============================] - 0s 4ms/step - loss: 0.9399 - accuracy: 0.4946 - val_loss: 0.9729 - val_accuracy: 0.5000\n",
            "Epoch 21/100\n",
            "10/10 [==============================] - 0s 4ms/step - loss: 0.9360 - accuracy: 0.4946 - val_loss: 0.9710 - val_accuracy: 0.5000\n",
            "Epoch 22/100\n",
            "10/10 [==============================] - 0s 4ms/step - loss: 0.9320 - accuracy: 0.4946 - val_loss: 0.9684 - val_accuracy: 0.5000\n",
            "Epoch 23/100\n",
            "10/10 [==============================] - 0s 4ms/step - loss: 0.9288 - accuracy: 0.6344 - val_loss: 0.9658 - val_accuracy: 0.5833\n",
            "Epoch 24/100\n",
            "10/10 [==============================] - 0s 4ms/step - loss: 0.9277 - accuracy: 0.6559 - val_loss: 0.9631 - val_accuracy: 0.5833\n",
            "Epoch 25/100\n",
            "10/10 [==============================] - 0s 4ms/step - loss: 0.9211 - accuracy: 0.6667 - val_loss: 0.9604 - val_accuracy: 0.5833\n",
            "Epoch 26/100\n",
            "10/10 [==============================] - 0s 4ms/step - loss: 0.9186 - accuracy: 0.6667 - val_loss: 0.9572 - val_accuracy: 0.6250\n",
            "Epoch 27/100\n",
            "10/10 [==============================] - 0s 5ms/step - loss: 0.9132 - accuracy: 0.6774 - val_loss: 0.9548 - val_accuracy: 0.6250\n",
            "Epoch 28/100\n",
            "10/10 [==============================] - 0s 4ms/step - loss: 0.9104 - accuracy: 0.6882 - val_loss: 0.9522 - val_accuracy: 0.6250\n",
            "Epoch 29/100\n",
            "10/10 [==============================] - 0s 7ms/step - loss: 0.9073 - accuracy: 0.6774 - val_loss: 0.9489 - val_accuracy: 0.6250\n",
            "Epoch 30/100\n",
            "10/10 [==============================] - 0s 4ms/step - loss: 0.9025 - accuracy: 0.6882 - val_loss: 0.9458 - val_accuracy: 0.6250\n",
            "Epoch 31/100\n",
            "10/10 [==============================] - 0s 4ms/step - loss: 0.8990 - accuracy: 0.6882 - val_loss: 0.9431 - val_accuracy: 0.6250\n",
            "Epoch 32/100\n",
            "10/10 [==============================] - 0s 4ms/step - loss: 0.8947 - accuracy: 0.6989 - val_loss: 0.9399 - val_accuracy: 0.6250\n",
            "Epoch 33/100\n",
            "10/10 [==============================] - 0s 4ms/step - loss: 0.8902 - accuracy: 0.7097 - val_loss: 0.9370 - val_accuracy: 0.6250\n",
            "Epoch 34/100\n",
            "10/10 [==============================] - 0s 4ms/step - loss: 0.8871 - accuracy: 0.7204 - val_loss: 0.9343 - val_accuracy: 0.5833\n",
            "Epoch 35/100\n",
            "10/10 [==============================] - 0s 4ms/step - loss: 0.8820 - accuracy: 0.7097 - val_loss: 0.9316 - val_accuracy: 0.6667\n",
            "Epoch 36/100\n",
            "10/10 [==============================] - 0s 4ms/step - loss: 0.8778 - accuracy: 0.7204 - val_loss: 0.9285 - val_accuracy: 0.6667\n",
            "Epoch 37/100\n",
            "10/10 [==============================] - 0s 4ms/step - loss: 0.8730 - accuracy: 0.7312 - val_loss: 0.9251 - val_accuracy: 0.6667\n",
            "Epoch 38/100\n",
            "10/10 [==============================] - 0s 4ms/step - loss: 0.8683 - accuracy: 0.7419 - val_loss: 0.9220 - val_accuracy: 0.6250\n",
            "Epoch 39/100\n",
            "10/10 [==============================] - 0s 4ms/step - loss: 0.8621 - accuracy: 0.7419 - val_loss: 0.9192 - val_accuracy: 0.6250\n",
            "Epoch 40/100\n",
            "10/10 [==============================] - 0s 4ms/step - loss: 0.8562 - accuracy: 0.7634 - val_loss: 0.9159 - val_accuracy: 0.6250\n",
            "Epoch 41/100\n",
            "10/10 [==============================] - 0s 4ms/step - loss: 0.8513 - accuracy: 0.7527 - val_loss: 0.9115 - val_accuracy: 0.6250\n",
            "Epoch 42/100\n",
            "10/10 [==============================] - 0s 5ms/step - loss: 0.8457 - accuracy: 0.7742 - val_loss: 0.9075 - val_accuracy: 0.6667\n",
            "Epoch 43/100\n",
            "10/10 [==============================] - 0s 4ms/step - loss: 0.8379 - accuracy: 0.7957 - val_loss: 0.9028 - val_accuracy: 0.6667\n",
            "Epoch 44/100\n",
            "10/10 [==============================] - 0s 4ms/step - loss: 0.8321 - accuracy: 0.7849 - val_loss: 0.8989 - val_accuracy: 0.6667\n",
            "Epoch 45/100\n",
            "10/10 [==============================] - 0s 4ms/step - loss: 0.8228 - accuracy: 0.7957 - val_loss: 0.8933 - val_accuracy: 0.6667\n",
            "Epoch 46/100\n",
            "10/10 [==============================] - 0s 3ms/step - loss: 0.8140 - accuracy: 0.8065 - val_loss: 0.8884 - val_accuracy: 0.6667\n",
            "Epoch 47/100\n",
            "10/10 [==============================] - 0s 4ms/step - loss: 0.8050 - accuracy: 0.8280 - val_loss: 0.8820 - val_accuracy: 0.6667\n",
            "Epoch 48/100\n",
            "10/10 [==============================] - 0s 4ms/step - loss: 0.8010 - accuracy: 0.8280 - val_loss: 0.8756 - val_accuracy: 0.6667\n",
            "Epoch 49/100\n",
            "10/10 [==============================] - 0s 4ms/step - loss: 0.7900 - accuracy: 0.8280 - val_loss: 0.8695 - val_accuracy: 0.7083\n",
            "Epoch 50/100\n",
            "10/10 [==============================] - 0s 4ms/step - loss: 0.7807 - accuracy: 0.8387 - val_loss: 0.8623 - val_accuracy: 0.7083\n",
            "Epoch 51/100\n",
            "10/10 [==============================] - 0s 4ms/step - loss: 0.7690 - accuracy: 0.8387 - val_loss: 0.8529 - val_accuracy: 0.7500\n",
            "Epoch 52/100\n",
            "10/10 [==============================] - 0s 4ms/step - loss: 0.7592 - accuracy: 0.8387 - val_loss: 0.8412 - val_accuracy: 0.7083\n",
            "Epoch 53/100\n",
            "10/10 [==============================] - 0s 4ms/step - loss: 0.7515 - accuracy: 0.8387 - val_loss: 0.8280 - val_accuracy: 0.7500\n",
            "Epoch 54/100\n",
            "10/10 [==============================] - 0s 4ms/step - loss: 0.7448 - accuracy: 0.8280 - val_loss: 0.8177 - val_accuracy: 0.7500\n",
            "Epoch 55/100\n",
            "10/10 [==============================] - 0s 4ms/step - loss: 0.7299 - accuracy: 0.8602 - val_loss: 0.8014 - val_accuracy: 0.7500\n",
            "Epoch 56/100\n",
            "10/10 [==============================] - 0s 4ms/step - loss: 0.7158 - accuracy: 0.8602 - val_loss: 0.7892 - val_accuracy: 0.7500\n",
            "Epoch 57/100\n",
            "10/10 [==============================] - 0s 4ms/step - loss: 0.6988 - accuracy: 0.8710 - val_loss: 0.7695 - val_accuracy: 0.7917\n",
            "Epoch 58/100\n",
            "10/10 [==============================] - 0s 4ms/step - loss: 0.6843 - accuracy: 0.9032 - val_loss: 0.7505 - val_accuracy: 0.8333\n",
            "Epoch 59/100\n",
            "10/10 [==============================] - 0s 4ms/step - loss: 0.6743 - accuracy: 0.9032 - val_loss: 0.7284 - val_accuracy: 0.8333\n",
            "Epoch 60/100\n",
            "10/10 [==============================] - 0s 4ms/step - loss: 0.6473 - accuracy: 0.9462 - val_loss: 0.7078 - val_accuracy: 0.8750\n",
            "Epoch 61/100\n",
            "10/10 [==============================] - 0s 4ms/step - loss: 0.6148 - accuracy: 0.9570 - val_loss: 0.6826 - val_accuracy: 0.8750\n",
            "Epoch 62/100\n",
            "10/10 [==============================] - 0s 4ms/step - loss: 0.5942 - accuracy: 0.9677 - val_loss: 0.6577 - val_accuracy: 0.8750\n",
            "Epoch 63/100\n",
            "10/10 [==============================] - 0s 4ms/step - loss: 0.5760 - accuracy: 0.9785 - val_loss: 0.6330 - val_accuracy: 0.9167\n",
            "Epoch 64/100\n",
            "10/10 [==============================] - 0s 4ms/step - loss: 0.5702 - accuracy: 0.9785 - val_loss: 0.6102 - val_accuracy: 0.9167\n",
            "Epoch 65/100\n",
            "10/10 [==============================] - 0s 4ms/step - loss: 0.5473 - accuracy: 0.9785 - val_loss: 0.5994 - val_accuracy: 0.9167\n",
            "Epoch 66/100\n",
            "10/10 [==============================] - 0s 4ms/step - loss: 0.5336 - accuracy: 0.9892 - val_loss: 0.5857 - val_accuracy: 0.9167\n",
            "Epoch 67/100\n",
            "10/10 [==============================] - 0s 5ms/step - loss: 0.5228 - accuracy: 1.0000 - val_loss: 0.5744 - val_accuracy: 0.9167\n",
            "Epoch 68/100\n",
            "10/10 [==============================] - 0s 4ms/step - loss: 0.5141 - accuracy: 1.0000 - val_loss: 0.5655 - val_accuracy: 0.9167\n",
            "Epoch 69/100\n",
            "10/10 [==============================] - 0s 4ms/step - loss: 0.5028 - accuracy: 1.0000 - val_loss: 0.5585 - val_accuracy: 0.9167\n",
            "Epoch 70/100\n",
            "10/10 [==============================] - 0s 4ms/step - loss: 0.4961 - accuracy: 1.0000 - val_loss: 0.5514 - val_accuracy: 0.9167\n",
            "Epoch 71/100\n",
            "10/10 [==============================] - 0s 4ms/step - loss: 0.4859 - accuracy: 1.0000 - val_loss: 0.5444 - val_accuracy: 0.9167\n",
            "Epoch 72/100\n",
            "10/10 [==============================] - 0s 4ms/step - loss: 0.4779 - accuracy: 1.0000 - val_loss: 0.5357 - val_accuracy: 0.9167\n",
            "Epoch 73/100\n",
            "10/10 [==============================] - 0s 4ms/step - loss: 0.4700 - accuracy: 1.0000 - val_loss: 0.5255 - val_accuracy: 0.9167\n",
            "Epoch 74/100\n",
            "10/10 [==============================] - 0s 4ms/step - loss: 0.4629 - accuracy: 1.0000 - val_loss: 0.5234 - val_accuracy: 0.9167\n",
            "Epoch 75/100\n",
            "10/10 [==============================] - 0s 4ms/step - loss: 0.4578 - accuracy: 1.0000 - val_loss: 0.5181 - val_accuracy: 0.9167\n",
            "Epoch 76/100\n",
            "10/10 [==============================] - 0s 4ms/step - loss: 0.4504 - accuracy: 1.0000 - val_loss: 0.5074 - val_accuracy: 0.9167\n",
            "Epoch 77/100\n",
            "10/10 [==============================] - 0s 4ms/step - loss: 0.4422 - accuracy: 1.0000 - val_loss: 0.5058 - val_accuracy: 0.9167\n",
            "Epoch 78/100\n",
            "10/10 [==============================] - 0s 4ms/step - loss: 0.4357 - accuracy: 1.0000 - val_loss: 0.4949 - val_accuracy: 0.9167\n",
            "Epoch 79/100\n",
            "10/10 [==============================] - 0s 6ms/step - loss: 0.4283 - accuracy: 1.0000 - val_loss: 0.4893 - val_accuracy: 0.9167\n",
            "Epoch 80/100\n",
            "10/10 [==============================] - 0s 4ms/step - loss: 0.4221 - accuracy: 1.0000 - val_loss: 0.4838 - val_accuracy: 0.9167\n",
            "Epoch 81/100\n",
            "10/10 [==============================] - 0s 4ms/step - loss: 0.4170 - accuracy: 1.0000 - val_loss: 0.4750 - val_accuracy: 0.9167\n",
            "Epoch 82/100\n",
            "10/10 [==============================] - 0s 4ms/step - loss: 0.4150 - accuracy: 1.0000 - val_loss: 0.4799 - val_accuracy: 0.9167\n",
            "Epoch 83/100\n",
            "10/10 [==============================] - 0s 4ms/step - loss: 0.4061 - accuracy: 1.0000 - val_loss: 0.4600 - val_accuracy: 0.9167\n",
            "Epoch 84/100\n",
            "10/10 [==============================] - 0s 4ms/step - loss: 0.3991 - accuracy: 1.0000 - val_loss: 0.4698 - val_accuracy: 0.9167\n",
            "Epoch 85/100\n",
            "10/10 [==============================] - 0s 4ms/step - loss: 0.3944 - accuracy: 1.0000 - val_loss: 0.4558 - val_accuracy: 0.9167\n",
            "Epoch 86/100\n",
            "10/10 [==============================] - 0s 4ms/step - loss: 0.3888 - accuracy: 1.0000 - val_loss: 0.4513 - val_accuracy: 0.9167\n",
            "Epoch 87/100\n",
            "10/10 [==============================] - 0s 4ms/step - loss: 0.3833 - accuracy: 1.0000 - val_loss: 0.4645 - val_accuracy: 0.9167\n",
            "Epoch 88/100\n",
            "10/10 [==============================] - 0s 4ms/step - loss: 0.3810 - accuracy: 1.0000 - val_loss: 0.4395 - val_accuracy: 0.9167\n",
            "Epoch 89/100\n",
            "10/10 [==============================] - 0s 4ms/step - loss: 0.3731 - accuracy: 1.0000 - val_loss: 0.4391 - val_accuracy: 0.9167\n",
            "Epoch 90/100\n",
            "10/10 [==============================] - 0s 4ms/step - loss: 0.3672 - accuracy: 1.0000 - val_loss: 0.4349 - val_accuracy: 0.9167\n",
            "Epoch 91/100\n",
            "10/10 [==============================] - 0s 4ms/step - loss: 0.3617 - accuracy: 1.0000 - val_loss: 0.4290 - val_accuracy: 0.9167\n",
            "Epoch 92/100\n",
            "10/10 [==============================] - 0s 4ms/step - loss: 0.3568 - accuracy: 1.0000 - val_loss: 0.4197 - val_accuracy: 0.9167\n",
            "Epoch 93/100\n",
            "10/10 [==============================] - 0s 5ms/step - loss: 0.3524 - accuracy: 1.0000 - val_loss: 0.4178 - val_accuracy: 0.9167\n",
            "Epoch 94/100\n",
            "10/10 [==============================] - 0s 4ms/step - loss: 0.3474 - accuracy: 1.0000 - val_loss: 0.4143 - val_accuracy: 0.9167\n",
            "Epoch 95/100\n",
            "10/10 [==============================] - 0s 4ms/step - loss: 0.3432 - accuracy: 1.0000 - val_loss: 0.4099 - val_accuracy: 0.9167\n",
            "Epoch 96/100\n",
            "10/10 [==============================] - 0s 4ms/step - loss: 0.3395 - accuracy: 1.0000 - val_loss: 0.4177 - val_accuracy: 0.9167\n",
            "Epoch 97/100\n",
            "10/10 [==============================] - 0s 4ms/step - loss: 0.3338 - accuracy: 1.0000 - val_loss: 0.3971 - val_accuracy: 0.9167\n",
            "Epoch 98/100\n",
            "10/10 [==============================] - 0s 4ms/step - loss: 0.3287 - accuracy: 1.0000 - val_loss: 0.3990 - val_accuracy: 0.9167\n",
            "Epoch 99/100\n",
            "10/10 [==============================] - 0s 5ms/step - loss: 0.3238 - accuracy: 1.0000 - val_loss: 0.3930 - val_accuracy: 0.9167\n",
            "Epoch 100/100\n",
            "10/10 [==============================] - 0s 4ms/step - loss: 0.3193 - accuracy: 1.0000 - val_loss: 0.3862 - val_accuracy: 0.9167\n"
          ]
        }
      ]
    },
    {
      "cell_type": "code",
      "metadata": {
        "id": "Eem7m3OKOVhX"
      },
      "source": [
        "import numpy as np\n",
        "\n",
        "predict_x=classifier.predict(x_test)\n",
        "classes_x=np.argmax(predict_x,axis=1)\n",
        "\n",
        "#test_eval=classifier.evaluate(y_test,predict_x,verbose=1)"
      ],
      "execution_count": 21,
      "outputs": []
    },
    {
      "cell_type": "code",
      "metadata": {
        "colab": {
          "base_uri": "https://localhost:8080/",
          "height": 297
        },
        "id": "mcLZOkRSP9jV",
        "outputId": "bf134a54-9265-4cb7-df34-66c111122399"
      },
      "source": [
        "import sklearn.metrics as metrics\n",
        "import seaborn as sns\n",
        "import numpy as np\n",
        "import matplotlib.pyplot as plt\n",
        "\n",
        "ax = plt.axes()\n",
        "\n",
        "cm = metrics.confusion_matrix(y_test,predict_x)\n",
        "\n",
        "sns.heatmap(cm, annot=True,ax=ax)\n",
        "ax.set_title('Confusion Matrix')"
      ],
      "execution_count": 28,
      "outputs": [
        {
          "output_type": "execute_result",
          "data": {
            "text/plain": [
              "Text(0.5, 1.0, 'Confusion Matrix')"
            ]
          },
          "metadata": {},
          "execution_count": 28
        },
        {
          "output_type": "display_data",
          "data": {
            "image/png": "[encoded data removed]",
            "text/plain": [
              "<Figure size 432x288 with 2 Axes>"
            ]
          },
          "metadata": {
            "needs_background": "light"
          }
        }
      ]
    },
    {
      "cell_type": "code",
      "metadata": {
        "colab": {
          "base_uri": "https://localhost:8080/"
        },
        "id": "6_RFa-ANQeeO",
        "outputId": "7e1649d1-235f-4523-adb3-1482947e184f"
      },
      "source": [
        "print(\"Accuracy = \",metrics.accuracy_score(y_test, predict_x)*100)"
      ],
      "execution_count": 23,
      "outputs": [
        {
          "output_type": "stream",
          "name": "stdout",
          "text": [
            "Accuracy =  98.29059829059828\n"
          ]
        }
      ]
    },
    {
      "cell_type": "code",
      "metadata": {
        "colab": {
          "base_uri": "https://localhost:8080/"
        },
        "id": "0-bMNztSpJcz",
        "outputId": "00f115c2-e486-4918-b48f-51971dd103af"
      },
      "source": [
        "print(hist.history['accuracy'][-1]*100)\n",
        "print(hist.history['val_accuracy'][-1]*100)"
      ],
      "execution_count": 24,
      "outputs": [
        {
          "output_type": "stream",
          "name": "stdout",
          "text": [
            "100.0\n",
            "91.66666865348816\n"
          ]
        }
      ]
    },
    {
      "cell_type": "code",
      "metadata": {
        "colab": {
          "base_uri": "https://localhost:8080/"
        },
        "id": "SQ5JZvoLpNqQ",
        "outputId": "b61278c2-857f-4a01-e140-579ef0702fae"
      },
      "source": [
        "print(hist.history['loss'][-1]*100)\n",
        "print(hist.history['val_loss'][-1]*100)"
      ],
      "execution_count": 25,
      "outputs": [
        {
          "output_type": "stream",
          "name": "stdout",
          "text": [
            "31.926676630973816\n",
            "38.61805498600006\n"
          ]
        }
      ]
    },
    {
      "cell_type": "code",
      "metadata": {
        "colab": {
          "base_uri": "https://localhost:8080/",
          "height": 295
        },
        "id": "aLQkQFRipQ7Y",
        "outputId": "a67286d1-5f99-49c6-a476-8a5e6f0d6459"
      },
      "source": [
        "plot.plot(hist.history['accuracy'])\n",
        "plot.plot(hist.history['val_accuracy'])\n",
        "plot.title('Model Accuracy vs Epoch')\n",
        "plot.ylabel('Accuracy')\n",
        "plot.xlabel('Epoch')\n",
        "plot.legend(['Train', 'Test'], loc='upper right')\n",
        "plot.show()"
      ],
      "execution_count": 26,
      "outputs": [
        {
          "output_type": "display_data",
          "data": {
            "image/png": "[encoded data removed]",
            "text/plain": [
              "<Figure size 432x288 with 1 Axes>"
            ]
          },
          "metadata": {
            "needs_background": "light"
          }
        }
      ]
    },
    {
      "cell_type": "code",
      "metadata": {
        "colab": {
          "base_uri": "https://localhost:8080/",
          "height": 295
        },
        "id": "pn-lQVemp6Br",
        "outputId": "57abecde-328d-4855-80c3-876e76c9334d"
      },
      "source": [
        "plot.plot(hist.history['loss'])\n",
        "plot.plot(hist.history['val_loss'])\n",
        "plot.title('Model Loss vs Epoch')\n",
        "plot.ylabel('Loss')\n",
        "plot.xlabel('Epoch')\n",
        "plot.legend(['Train', 'Test'], loc='upper right')\n",
        "plot.show()"
      ],
      "execution_count": 27,
      "outputs": [
        {
          "output_type": "display_data",
          "data": {
            "image/png": "[encoded data removed]",
            "text/plain": [
              "<Figure size 432x288 with 1 Axes>"
            ]
          },
          "metadata": {
            "needs_background": "light"
          }
        }
      ]
    },
    {
      "cell_type": "markdown",
      "metadata": {
        "id": "hvnU8gREkTFM"
      },
      "source": [
        "**Thus, we are getting *98%* accuracy to predict and classify schizophrenia patients from others.**"
      ]
    }
  ]
}